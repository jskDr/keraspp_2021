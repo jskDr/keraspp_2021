{
 "cells": [
  {
   "cell_type": "markdown",
   "metadata": {},
   "source": [
    "# PyTorch Implementation"
   ]
  },
  {
   "cell_type": "markdown",
   "metadata": {},
   "source": [
    "## Simple version\n",
    "가장 일반적인 파이토치 구현 방법으로 케라스된 예제 1-1을 변환한다. "
   ]
  },
  {
   "cell_type": "code",
   "execution_count": 1,
   "metadata": {},
   "outputs": [
    {
     "name": "stdout",
     "output_type": "stream",
     "text": [
      "[[1.0002644]\n",
      " [2.999837 ]\n",
      " [4.999409 ]\n",
      " [6.9989815]\n",
      " [8.998554 ]]\n"
     ]
    }
   ],
   "source": [
    "import torch\n",
    "import numpy as np\n",
    "\n",
    "x = np.array([0, 1, 2, 3, 4]).astype('float32').reshape(-1,1) \n",
    "y = x * 2 + 1\n",
    "\n",
    "class Model(torch.nn.Module):\n",
    "    def __init__(self):\n",
    "        super(Model,self).__init__()\n",
    "        self.layer = torch.nn.Linear(1,1)\n",
    "    def forward(self, x):\n",
    "        return self.layer(x)\n",
    "model = Model()\n",
    "Optimizer = torch.optim.SGD(model.parameters(), lr=0.01)\n",
    "\n",
    "for epoch in range(1000):\n",
    "    x_tr = torch.from_numpy(x[:2,:1]).type(torch.FloatTensor)\n",
    "    y_tr = torch.from_numpy(y[:2,:1]).type(torch.FloatTensor)\n",
    "    y_pr = model(x_tr)\n",
    "    loss = torch.pow(torch.abs(y_tr - y_pr),2)\n",
    "    Optimizer.zero_grad()\n",
    "    torch.sum(loss).backward()\n",
    "    Optimizer.step()\n",
    "print(model(torch.from_numpy(x).type(torch.FloatTensor)).detach().numpy())"
   ]
  },
  {
   "cell_type": "markdown",
   "metadata": {},
   "source": [
    "## Detail version with monitoring variables\n",
    "파이토치로 변환된 코드가 제대로 동작하는지 중간 중간을 모니터링 한다. "
   ]
  },
  {
   "cell_type": "code",
   "execution_count": 2,
   "metadata": {},
   "outputs": [
    {
     "name": "stdout",
     "output_type": "stream",
     "text": [
      "w= [[-0.2695837]]\n",
      "b= [-0.89686084]\n",
      "\n",
      "Epoch:0\n",
      "y_pr: [[-0.89686084]\n",
      " [-1.1664445 ]]\n",
      "y_tr: [[1.]\n",
      " [3.]]\n",
      "loss: [[ 3.598081]\n",
      " [17.359262]]\n",
      "\n",
      "Epoch:1\n",
      "y_pr: [[-0.7755947]\n",
      " [-0.9618495]]\n",
      "y_tr: [[1.]\n",
      " [3.]]\n",
      "loss: [[ 3.1527367]\n",
      " [15.696251 ]]\n",
      "\n",
      "Epoch:2\n",
      "y_pr: [[-0.6608458 ]\n",
      " [-0.76786363]]\n",
      "y_tr: [[1.]\n",
      " [3.]]\n",
      "loss: [[ 2.7584085]\n",
      " [14.196797 ]]\n",
      "\n",
      "[[1.0002294]\n",
      " [2.9998584]\n",
      " [4.999487 ]\n",
      " [6.999116 ]\n",
      " [8.998745 ]]\n"
     ]
    }
   ],
   "source": [
    "import torch\n",
    "import numpy as np\n",
    "\n",
    "x = np.array([0, 1, 2, 3, 4]).astype('float32').reshape(-1,1) \n",
    "y = x * 2 + 1\n",
    "\n",
    "class Model(torch.nn.Module):\n",
    "    def __init__(self):\n",
    "        super(Model,self).__init__()\n",
    "        self.layer = torch.nn.Linear(1,1)\n",
    "    def forward(self, x):\n",
    "        return self.layer(x)\n",
    "model = Model()\n",
    "Optimizer = torch.optim.SGD(model.parameters(), lr=0.01)\n",
    "\n",
    "print('w=', list(model.parameters())[0].detach().numpy())\n",
    "print('b=', list(model.parameters())[1].detach().numpy())\n",
    "print()\n",
    "\n",
    "for epoch in range(1000):\n",
    "    x_tr = torch.from_numpy(x[:2,:1]).type(torch.FloatTensor)\n",
    "    y_tr = torch.from_numpy(y[:2,:1]).type(torch.FloatTensor)\n",
    "    y_pr = model(x_tr)\n",
    "    loss = torch.pow(torch.abs(y_tr - y_pr),2)\n",
    "    if epoch < 3:\n",
    "        print(f'Epoch:{epoch}')\n",
    "        print('y_pr:', y_pr.detach().numpy())\n",
    "        print('y_tr:', y[:2,:1])\n",
    "        print('loss:', loss.detach().numpy())\n",
    "        print()\n",
    "    Optimizer.zero_grad()\n",
    "    torch.sum(loss).backward()\n",
    "    Optimizer.step()\n",
    "print(model(torch.from_numpy(x).type(torch.FloatTensor)).detach().numpy())"
   ]
  },
  {
   "cell_type": "markdown",
   "metadata": {},
   "source": [
    "## Compatible version\n",
    "케라스에서 사용한 코드를 최대한 고치지 않고 사용하는 방법이다. 모델 클래스를 작성할 때 입력에 대해 부가적인 처리를 함으로 나머지 코드는 케라스 경우와 비슷하게 사용할 수 있다. 먼저 forward(.)에서 Numpy의 어레이 입력을 토치 어레이로 바꾸는 과정을 포함한다. 그리고 앞선 Simple version에서 모델을 학습하는 코드를 fit()라는 모델 클래스 함수를 만들어 처리하도록 해 주었다. 그러고 나면 실제 수행코드는 케라스의 경우와 매우 유사하게 작성이 가능함을 알 수 있다."
   ]
  },
  {
   "cell_type": "code",
   "execution_count": 3,
   "metadata": {},
   "outputs": [
    {
     "name": "stdout",
     "output_type": "stream",
     "text": [
      "tensor([[1.0004],\n",
      "        [2.9998],\n",
      "        [4.9992],\n",
      "        [6.9986],\n",
      "        [8.9980]], grad_fn=<AddmmBackward>)\n"
     ]
    }
   ],
   "source": [
    "import torch\n",
    "import numpy as np\n",
    "\n",
    "x = np.array([0, 1, 2, 3, 4]).astype('float32').reshape(-1,1) \n",
    "y = x * 2 + 1\n",
    "\n",
    "class Model(torch.nn.Module):\n",
    "    def __init__(self):\n",
    "        super(Model,self).__init__()\n",
    "        self.layer = torch.nn.Linear(1,1)\n",
    "        self.Optimizer = torch.optim.SGD(self.parameters(), lr=0.01)\n",
    "    def forward(self, x):\n",
    "        x = torch.from_numpy(x).type(torch.FloatTensor)\n",
    "        return self.layer(x)\n",
    "    def fit(self, x, y, epochs):\n",
    "        for epoch in range(epochs):\n",
    "            y_tr = torch.from_numpy(y).type(torch.FloatTensor)\n",
    "            y_pr = model(x)\n",
    "            loss = torch.pow(torch.abs(y_tr - y_pr),2)\n",
    "            self.Optimizer.zero_grad()\n",
    "            torch.sum(loss).backward()\n",
    "            self.Optimizer.step()\n",
    "model = Model()\n",
    "\n",
    "model.fit(x[:2], y[:2], epochs=1000)\n",
    "print(model(x))"
   ]
  },
  {
   "cell_type": "markdown",
   "metadata": {},
   "source": [
    "## GPU Version\n",
    "GPU 버전으로 파이토치 코드를 작성할 경우는 model.to(device), x.to(device), y.to(device)라는 세가지 과정이 필요하다. 아래 코드는 예제 1-1을 파이토치 코드로 바꾼 뒤에 타켓 프로세서에 맞게 돌도로 디바이스가 CPU인지 GPU인지를 검사하여 해당 프로세서에 맞게 동작하게 만드는 코드이다."
   ]
  },
  {
   "cell_type": "code",
   "execution_count": 4,
   "metadata": {},
   "outputs": [],
   "source": [
    "import torch\n",
    "import numpy as np"
   ]
  },
  {
   "cell_type": "markdown",
   "metadata": {},
   "source": [
    "### GPU인지 CPU인지 검사\n",
    "프로세서로 GPU를 사용하는 있는지 아닌지를 검사하고 device 변수에 프로세서 타입을 적어넣는다."
   ]
  },
  {
   "cell_type": "code",
   "execution_count": 5,
   "metadata": {},
   "outputs": [
    {
     "name": "stdout",
     "output_type": "stream",
     "text": [
      "Using PyTorch version: 1.0.1.post2  Device: cpu\n"
     ]
    }
   ],
   "source": [
    "if torch.cuda.is_available():\n",
    "    device = torch.device('cuda')\n",
    "else:\n",
    "    device = torch.device('cpu')\n",
    "    \n",
    "print('Using PyTorch version:', torch.__version__, ' Device:', device)"
   ]
  },
  {
   "cell_type": "code",
   "execution_count": 6,
   "metadata": {},
   "outputs": [
    {
     "name": "stdout",
     "output_type": "stream",
     "text": [
      "tensor([[1.0005],\n",
      "        [2.9997],\n",
      "        [4.9989],\n",
      "        [6.9982],\n",
      "        [8.9974]], grad_fn=<AddmmBackward>)\n"
     ]
    }
   ],
   "source": [
    "x = np.array([0, 1, 2, 3, 4]).astype('float32').reshape(-1,1) \n",
    "y = x * 2 + 1\n",
    "\n",
    "class Model(torch.nn.Module):\n",
    "    def __init__(self):\n",
    "        super(Model,self).__init__()\n",
    "        self.layer = torch.nn.Linear(1,1)\n",
    "        self.Optimizer = torch.optim.SGD(self.parameters(), lr=0.01)\n",
    "    def forward(self, x):\n",
    "        x = torch.from_numpy(x).type(torch.FloatTensor).to(device)\n",
    "        return self.layer(x)\n",
    "    def fit(self, x, y, epochs):\n",
    "        for epoch in range(epochs):\n",
    "            y_tr = torch.from_numpy(y).type(torch.FloatTensor).to(device)\n",
    "            y_pr = model(x)\n",
    "            loss = torch.pow(torch.abs(y_tr - y_pr),2)\n",
    "            self.Optimizer.zero_grad()\n",
    "            torch.sum(loss).backward()\n",
    "            self.Optimizer.step()\n",
    "model = Model().to(device)\n",
    "\n",
    "model.fit(x[:2], y[:2], epochs=1000)\n",
    "print(model(x))"
   ]
  },
  {
   "cell_type": "code",
   "execution_count": null,
   "metadata": {},
   "outputs": [],
   "source": []
  }
 ],
 "metadata": {
  "kernelspec": {
   "display_name": "pytorch",
   "language": "python",
   "name": "pytorch"
  },
  "language_info": {
   "codemirror_mode": {
    "name": "ipython",
    "version": 3
   },
   "file_extension": ".py",
   "mimetype": "text/x-python",
   "name": "python",
   "nbconvert_exporter": "python",
   "pygments_lexer": "ipython3",
   "version": "3.7.3"
  }
 },
 "nbformat": 4,
 "nbformat_minor": 4
}
