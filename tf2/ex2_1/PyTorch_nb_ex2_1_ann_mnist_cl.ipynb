{
 "cells": [
  {
   "cell_type": "markdown",
   "metadata": {},
   "source": [
    "# EX 2-1 ANN MNIST implemented by PyTorch\n",
    "여러명이 같이 개발을 하거나 이전의 코드를 재활용 해야하는 상황등 많은 경우에는 여러개의 딥러닝 라이브러리를 사용해야 하는 경우가 생긴다. 이런 경우에 대비해 케라스를 기본으로 활용하는 텐서플로 2.0 (소위, '케라스 텐서플로2') 코드를 파이토치로 바꾸는 사례를 포함한다."
   ]
  },
  {
   "cell_type": "markdown",
   "metadata": {},
   "source": [
    "## I. Jupyter를 위한 코드"
   ]
  },
  {
   "cell_type": "code",
   "execution_count": 1,
   "metadata": {},
   "outputs": [],
   "source": [
    "# %load /home/sjkim/.jupyter/head.py\n",
    "%matplotlib inline\n",
    "%load_ext autoreload\n",
    "%autoreload 2\n",
    "from importlib import reload\n",
    "\n",
    "import matplotlib.pyplot as plt\n",
    "import numpy as np\n",
    "\n",
    "import pandas as pd\n",
    "import os\n",
    "#os.environ[\"CUDA_VISIBLE_DEVICES\"]=\"0\"\n",
    "\n",
    "# seaborn\n",
    "#import seaborn as sns\n",
    "#sns.set( style = 'white', font_scale = 1.7)\n",
    "#sns.set_style('ticks')\n",
    "#plt.rcParams['savefig.dpi'] = 200\n",
    "\n",
    "# font for matplotlib\n",
    "#import matplotlib\n",
    "#import matplotlib.font_manager as fm\n",
    "#fm.get_fontconfig_fonts()\n",
    "#font_location = '/usr/share/fonts/truetype/nanum/NanumGothicBold.ttf'\n",
    "#font_name = fm.FontProperties(fname=font_location).get_name()\n",
    "#matplotlib.rc('font', family=font_name)"
   ]
  },
  {
   "cell_type": "markdown",
   "metadata": {},
   "source": [
    "## II. 공통 라이브러리\n",
    "다음은 이 코드에서 사용하는 공통 라이브러리들이다. "
   ]
  },
  {
   "cell_type": "markdown",
   "metadata": {},
   "source": [
    "### 결과 그래프를 출력하는 공통 라이브러리 함수들이다"
   ]
  },
  {
   "cell_type": "code",
   "execution_count": 2,
   "metadata": {},
   "outputs": [],
   "source": [
    "##############################################\n",
    "# Plotting\n",
    "##############################################\n",
    "import matplotlib.pyplot as plt\n",
    "\n",
    "\n",
    "def plot_acc(history, title=None):\n",
    "    # summarize history for accuracy\n",
    "    if not isinstance(history, dict):\n",
    "        history = history.history\n",
    "\n",
    "    plt.plot(history['accuracy'])\n",
    "    plt.plot(history['val_accuracy'])\n",
    "    if title is not None:\n",
    "        plt.title(title)\n",
    "    plt.ylabel('Accuracy')\n",
    "    plt.xlabel('Epoch')\n",
    "    plt.legend(['Training', 'Verification'], loc=0)\n",
    "    # plt.show()\n",
    "\n",
    "\n",
    "def plot_loss(history, title=None):\n",
    "    # summarize history for loss\n",
    "    if not isinstance(history, dict):\n",
    "        history = history.history\n",
    "\n",
    "    plt.plot(history['loss'])\n",
    "    plt.plot(history['val_loss'])\n",
    "    if title is not None:\n",
    "        plt.title(title)\n",
    "    plt.ylabel('Loss')\n",
    "    plt.xlabel('Epoch')\n",
    "    plt.legend(['Training', 'Verification'], loc=0)\n",
    "    # plt.show()"
   ]
  },
  {
   "cell_type": "markdown",
   "metadata": {},
   "source": [
    "### 케라스를 기본으로 활용하는 텐서플로 2.0 (소위, '케라스 텐서플로2')를 위한 라이브러리\n",
    "텐서플로 2.0부터는 케라스를 텐서플로와 통합해서 사용할 수 있다. 이 경우에 이전 (순수) 케라스 코드와 호환을 하기 위해 공통 코드를 작성한다."
   ]
  },
  {
   "cell_type": "code",
   "execution_count": 9,
   "metadata": {},
   "outputs": [],
   "source": [
    "class History:\n",
    "    def __init__(self):\n",
    "        self.history = {'accuracy': [], 'loss': [], 'val_accuracy': [], 'val_loss': []}   "
   ]
  },
  {
   "cell_type": "markdown",
   "metadata": {},
   "source": [
    "### 케라스와 호완을 위한 파이토치용 라이브러리를 만든다.\n",
    "파이토치 구현한 코드가 케라스로 구현한 코드와 호환성을 높이기 위해 라이브러리 코드를 만든다."
   ]
  },
  {
   "cell_type": "code",
   "execution_count": 10,
   "metadata": {},
   "outputs": [],
   "source": [
    "class Metrics_Mean:\n",
    "    def __init__(self): self.reset_states()\n",
    "    def __call__(self, loss): self.buff.append(loss.data)\n",
    "    def reset_states(self): self.buff = []\n",
    "    def result(self): return np.mean(self.buff)\n",
    "\n",
    "class Metrics_CategoricalAccuracy:\n",
    "    def __init__(self): \n",
    "        self.reset_states()\n",
    "    def __call__(self, labels, predictions): \n",
    "        decisions = predictions.data.max(1)[1]\n",
    "        self.correct += decisions.eq(labels.data).cpu().sum()\n",
    "        self.L += len(labels.data)\n",
    "    def reset_states(self): \n",
    "        self.correct, self.L = 0, 0\n",
    "    def result(self): return float(self.correct) / self.L"
   ]
  },
  {
   "cell_type": "markdown",
   "metadata": {},
   "source": [
    "## III. PyTorch Implementation\n",
    "- Reference: https://github.com/CSCfi/machine-learning-scripts/blob/master/notebooks/pytorch-mnist-mlp.ipynb\n",
    "\n",
    "이번에는 케라스가 기본으로 내장된 Tensorflow 2.0을 이용해 작성한 코드를 PyTorch로 바꾸어 보았다."
   ]
  },
  {
   "cell_type": "markdown",
   "metadata": {},
   "source": [
    "### 먼저, 파이토치 방식으로 딥러닝 모델을 만든다.\n",
    "모델을 만들기 위해 torch, torch.nn 그리고 torch.nn.functional을 임포트한다. \n",
    "\n",
    "그리고 모델링을 위한 클래스를 만들 때는 nn.Module을 상속한다. Dense 계층을 만들기 위해서는 nn.Linear()를 활용한다. 케라스의 Dense()와 차이는 각 계층의 입력과 출력의 노드 수를 모두 적어야 한다는 점이다. 케라스는 출력만 적고 입력의 길이는 이전 계층에서 자동으로 계산하여 가져온다. **케라스의 모델링 방식은 입력을 줄여서 편하지만 파이토치의 방식에 비해 가독성을 약간 떨어뜨린다는 말도 있다**. 파이토치에서는 출력을 계산하는 함수명은 call() 대신에 forward()를 사용한다. rulu와 softmax는 torch.nn.functional 즉 F에서 가져온다. 이렇게 바꾸고 보면 용어만 일부틀리고 케라스와 상당히 유사한 형태로 구성이 가능함을 알 수 있다. "
   ]
  },
  {
   "cell_type": "code",
   "execution_count": 11,
   "metadata": {},
   "outputs": [],
   "source": [
    "##############################################\n",
    "# Modeling\n",
    "##############################################\n",
    "import torch \n",
    "from torch import nn\n",
    "import torch.nn.functional as F\n",
    "      \n",
    "class ANN_models_class(nn.Module):\n",
    "    def __init__(self, Nin, Nh, Nout):\n",
    "        super().__init__()\n",
    "        self.hidden = nn.Linear(Nin, Nh)\n",
    "        self.last = nn.Linear(Nh, Nout)        \n",
    "        self.Nin = Nin\n",
    "        \n",
    "    def forward(self, x):  \n",
    "        x = x.view(-1, self.Nin)\n",
    "        h = F.relu(self.hidden(x))\n",
    "        y = F.softmax(self.last(h), dim=1)\n",
    "        return y \n",
    "    \n",
    "# model = ANN_models_class(784, 100, 10)"
   ]
  },
  {
   "cell_type": "markdown",
   "metadata": {},
   "source": [
    "### 이제 데이터를 불러오자.\n",
    "데이터를 부르기 위해서 torchvision 아래에 있는 datasets와 transforms을 임포트한다. train_ds와 test_ds는 자동으로 배치 데이터를 생성해주는 이트레이터이다. 그래서 데이터를 직접 제공하는 대신 이 Data)func() 함수에서는 두 이터레이터를 생성해서 반납한다. "
   ]
  },
  {
   "cell_type": "code",
   "execution_count": 12,
   "metadata": {},
   "outputs": [],
   "source": [
    "##############################################\n",
    "# Data\n",
    "##############################################\n",
    "from torchvision import datasets, transforms\n",
    "batch_size = 100\n",
    "\n",
    "def Data_func():\n",
    "\n",
    "    train_dataset = datasets.MNIST('~/pytorch_data', \n",
    "        train=True, download=True, transform=transforms.ToTensor())\n",
    "    test_dataset = datasets.MNIST('~/pytorch_data', \n",
    "        train=False, transform=transforms.ToTensor())\n",
    "\n",
    "    train_ds = torch.utils.data.DataLoader(dataset=train_dataset, \n",
    "        batch_size=batch_size, shuffle=True)\n",
    "    test_ds = torch.utils.data.DataLoader(dataset=test_dataset, \n",
    "        batch_size=batch_size, shuffle=False)\n",
    "    \n",
    "    return train_ds, test_ds\n",
    "\n",
    "train_ds, test_ds = Data_func()"
   ]
  },
  {
   "cell_type": "markdown",
   "metadata": {},
   "source": [
    "### 주 인공지능 코드 부분을 작성한다.\n",
    "텐서플로 2.0에서는 tf2.GradientTape()를 활용해 학습에 필요한 미분값(gradients)을 구하지만 파이토치에서는 Optimizer.zero_grad()만으로 학습을 시작할 수 있다. 변수가 미분이 가능한 모드로 되어 있을 경우, loss.backward() 함수를 통해 자동으로 미분값을 구할 수 있게 되어 있기 때문이다. 그리고 미분한 결과로 가중치들과 바이어스값들을 업데이트할 때 대상을 명시할 필요가 없다. 이미 Optimizer를 정의할 때 업데이트 할 파라메터인 model.parameters()를 명시했기 때문이다. "
   ]
  },
  {
   "cell_type": "code",
   "execution_count": 6,
   "metadata": {},
   "outputs": [
    {
     "name": "stdout",
     "output_type": "stream",
     "text": [
      "Epoch 1, Loss: 1.63, Accuracy: 83.36%, Test Loss: 1.59, Test Accuracy: 86.80%\n",
      "Epoch 2, Loss: 1.56, Accuracy: 89.94%, Test Loss: 1.52, Test Accuracy: 94.16%\n",
      "Epoch 3, Loss: 1.52, Accuracy: 94.43%, Test Loss: 1.52, Test Accuracy: 94.52%\n",
      "Epoch 4, Loss: 1.51, Accuracy: 94.97%, Test Loss: 1.51, Test Accuracy: 95.21%\n",
      "Epoch 5, Loss: 1.51, Accuracy: 95.36%, Test Loss: 1.50, Test Accuracy: 95.65%\n"
     ]
    },
    {
     "data": {
      "image/png": "[encoded data removed]",
      "text/plain": [
       "<Figure size 432x288 with 1 Axes>"
      ]
     },
     "metadata": {
      "needs_background": "light"
     },
     "output_type": "display_data"
    },
    {
     "data": {
      "image/png": "[encoded data removed]",
      "text/plain": [
       "<Figure size 432x288 with 1 Axes>"
      ]
     },
     "metadata": {
      "needs_background": "light"
     },
     "output_type": "display_data"
    }
   ],
   "source": [
    "##############################################\n",
    "# Main\n",
    "##############################################\n",
    "Nin = 784\n",
    "Nh = 100\n",
    "number_of_class = 10\n",
    "Nout = number_of_class\n",
    "\n",
    "model = ANN_models_class(Nin, Nh, Nout)\n",
    "# model.build(input_shape=[None,Nin])\n",
    "\n",
    "train_ds, test_ds = Data_func()\n",
    "\n",
    "train_loss = Metrics_Mean()\n",
    "train_accuracy = Metrics_CategoricalAccuracy()\n",
    "test_loss = Metrics_Mean()\n",
    "test_accuracy = Metrics_CategoricalAccuracy()\n",
    "    \n",
    "history = History()\n",
    "\n",
    "Optimizer = torch.optim.Adam(model.parameters(), lr = 0.01)\n",
    "Loss_object = torch.nn.CrossEntropyLoss()\n",
    "for epoch in range(5):\n",
    "    for images, labels in train_ds:\n",
    "        Optimizer.zero_grad()\n",
    "        predictions = model(images)\n",
    "        loss = Loss_object(predictions, labels)\n",
    "        loss.backward()\n",
    "        Optimizer.step()\n",
    "        train_loss(loss)\n",
    "        train_accuracy(labels, predictions)\n",
    "\n",
    "    for images, labels in test_ds:\n",
    "        predictions = model(images)\n",
    "        t_loss = Loss_object(predictions, labels)\n",
    "        test_loss(t_loss)\n",
    "        test_accuracy(labels, predictions)\n",
    "        \n",
    "    history.history['accuracy'].append(train_accuracy.result())\n",
    "    history.history['loss'].append(train_loss.result())\n",
    "    history.history['val_accuracy'].append(test_accuracy.result())\n",
    "    history.history['val_loss'].append(test_loss.result())\n",
    "    \n",
    "    template = 'Epoch {}, Loss: {:.2f}, Accuracy: {:.2f}%, Test Loss: {:.2f}, Test Accuracy: {:.2f}%'\n",
    "    print(template.format(epoch+1,\n",
    "                        train_loss.result(),\n",
    "                        train_accuracy.result()*100,\n",
    "                        test_loss.result(),\n",
    "                        test_accuracy.result()*100))\n",
    "\n",
    "    # Reset the metrics for the next epoch\n",
    "    train_loss.reset_states()\n",
    "    train_accuracy.reset_states()\n",
    "    test_loss.reset_states()\n",
    "    test_accuracy.reset_states()\n",
    "    \n",
    "############################################\n",
    "# Training\n",
    "##############################################\n",
    "plot_loss(history)\n",
    "plt.show()\n",
    "plot_acc(history)\n",
    "plt.show()"
   ]
  }
 ],
 "metadata": {
  "kernelspec": {
   "display_name": "pytorch",
   "language": "python",
   "name": "pytorch"
  },
  "language_info": {
   "codemirror_mode": {
    "name": "ipython",
    "version": 3
   },
   "file_extension": ".py",
   "mimetype": "text/x-python",
   "name": "python",
   "nbconvert_exporter": "python",
   "pygments_lexer": "ipython3",
   "version": "3.7.3"
  },
  "toc": {
   "nav_menu": {},
   "number_sections": true,
   "sideBar": true,
   "skip_h1_title": true,
   "toc_cell": false,
   "toc_position": {},
   "toc_section_display": "block",
   "toc_window_display": false
  }
 },
 "nbformat": 4,
 "nbformat_minor": 4
}
