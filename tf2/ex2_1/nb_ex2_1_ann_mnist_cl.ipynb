{
 "cells": [
  {
   "cell_type": "code",
   "execution_count": 1,
   "metadata": {},
   "outputs": [],
   "source": [
    "# %load /home/sjkim/.jupyter/head.py\n",
    "%matplotlib inline\n",
    "%load_ext autoreload\n",
    "%autoreload 2\n",
    "from importlib import reload\n",
    "\n",
    "import matplotlib.pyplot as plt\n",
    "import numpy as np\n",
    "\n",
    "import pandas as pd\n",
    "import os\n",
    "#os.environ[\"CUDA_VISIBLE_DEVICES\"]=\"0\"\n",
    "\n",
    "# seaborn\n",
    "#import seaborn as sns\n",
    "#sns.set( style = 'white', font_scale = 1.7)\n",
    "#sns.set_style('ticks')\n",
    "#plt.rcParams['savefig.dpi'] = 200\n",
    "\n",
    "# font for matplotlib\n",
    "#import matplotlib\n",
    "#import matplotlib.font_manager as fm\n",
    "#fm.get_fontconfig_fonts()\n",
    "#font_location = '/usr/share/fonts/truetype/nanum/NanumGothicBold.ttf'\n",
    "#font_name = fm.FontProperties(fname=font_location).get_name()\n",
    "#matplotlib.rc('font', family=font_name)"
   ]
  },
  {
   "cell_type": "code",
   "execution_count": 2,
   "metadata": {},
   "outputs": [
    {
     "data": {
      "text/plain": [
       "<module 'ex2_1_ann_mnist_cl' from '/Users/james/Dropbox/Aspuru-Guzik/python_lab/py3/keraspp/tf2/ex2_1_ann_mnist_cl.py'>"
      ]
     },
     "execution_count": 2,
     "metadata": {},
     "output_type": "execute_result"
    }
   ],
   "source": [
    "import ex2_1_ann_mnist_cl\n",
    "reload(ex2_1_ann_mnist_cl)"
   ]
  },
  {
   "cell_type": "code",
   "execution_count": 3,
   "metadata": {},
   "outputs": [
    {
     "name": "stdout",
     "output_type": "stream",
     "text": [
      "Train on 48000 samples, validate on 12000 samples\n",
      "Epoch 1/15\n",
      "48000/48000 [==============================] - 2s 36us/sample - loss: 0.3802 - accuracy: 0.8944 - val_loss: 0.2036 - val_accuracy: 0.9452\n",
      "Epoch 2/15\n",
      "48000/48000 [==============================] - 1s 26us/sample - loss: 0.1825 - accuracy: 0.9476 - val_loss: 0.1530 - val_accuracy: 0.9574\n",
      "Epoch 3/15\n",
      "48000/48000 [==============================] - 1s 26us/sample - loss: 0.1363 - accuracy: 0.9603 - val_loss: 0.1280 - val_accuracy: 0.9615\n",
      "Epoch 4/15\n",
      "48000/48000 [==============================] - 1s 25us/sample - loss: 0.1068 - accuracy: 0.9690 - val_loss: 0.1148 - val_accuracy: 0.9660\n",
      "Epoch 5/15\n",
      "48000/48000 [==============================] - 1s 26us/sample - loss: 0.0864 - accuracy: 0.9747 - val_loss: 0.1087 - val_accuracy: 0.9679\n",
      "Epoch 6/15\n",
      "48000/48000 [==============================] - 1s 25us/sample - loss: 0.0731 - accuracy: 0.9791 - val_loss: 0.0987 - val_accuracy: 0.9707\n",
      "Epoch 7/15\n",
      "48000/48000 [==============================] - 1s 26us/sample - loss: 0.0605 - accuracy: 0.9829 - val_loss: 0.0946 - val_accuracy: 0.9718\n",
      "Epoch 8/15\n",
      "48000/48000 [==============================] - 1s 25us/sample - loss: 0.0515 - accuracy: 0.9854 - val_loss: 0.0945 - val_accuracy: 0.9722\n",
      "Epoch 9/15\n",
      "48000/48000 [==============================] - 1s 26us/sample - loss: 0.0448 - accuracy: 0.9874 - val_loss: 0.0892 - val_accuracy: 0.9737\n",
      "Epoch 10/15\n",
      "48000/48000 [==============================] - 1s 26us/sample - loss: 0.0374 - accuracy: 0.9901 - val_loss: 0.0921 - val_accuracy: 0.9733\n",
      "Epoch 11/15\n",
      "48000/48000 [==============================] - 1s 25us/sample - loss: 0.0328 - accuracy: 0.9915 - val_loss: 0.0894 - val_accuracy: 0.9741\n",
      "Epoch 12/15\n",
      "48000/48000 [==============================] - 1s 26us/sample - loss: 0.0278 - accuracy: 0.9923 - val_loss: 0.0857 - val_accuracy: 0.9747\n",
      "Epoch 13/15\n",
      "48000/48000 [==============================] - 1s 26us/sample - loss: 0.0239 - accuracy: 0.9944 - val_loss: 0.0855 - val_accuracy: 0.9746\n",
      "Epoch 14/15\n",
      "48000/48000 [==============================] - 1s 25us/sample - loss: 0.0209 - accuracy: 0.9948 - val_loss: 0.0878 - val_accuracy: 0.9749\n",
      "Epoch 15/15\n",
      "48000/48000 [==============================] - 1s 26us/sample - loss: 0.0180 - accuracy: 0.9959 - val_loss: 0.0846 - val_accuracy: 0.9766\n",
      "Test Loss and Accuracy -> [0.08365246526445844, 0.9736]\n"
     ]
    },
    {
     "data": {
      "image/png": "[encoded data removed]",
      "text/plain": [
       "<Figure size 432x288 with 1 Axes>"
      ]
     },
     "metadata": {
      "needs_background": "light"
     },
     "output_type": "display_data"
    },
    {
     "ename": "KeyError",
     "evalue": "'acc'",
     "output_type": "error",
     "traceback": [
      "\u001b[0;31m---------------------------------------------------------------------------\u001b[0m",
      "\u001b[0;31mKeyError\u001b[0m                                  Traceback (most recent call last)",
      "\u001b[0;32m<ipython-input-3-a143c58d3171>\u001b[0m in \u001b[0;36m<module>\u001b[0;34m\u001b[0m\n\u001b[0;32m----> 1\u001b[0;31m \u001b[0mex2_1_ann_mnist_cl\u001b[0m\u001b[0;34m.\u001b[0m\u001b[0mmain\u001b[0m\u001b[0;34m(\u001b[0m\u001b[0;34m)\u001b[0m\u001b[0;34m\u001b[0m\u001b[0;34m\u001b[0m\u001b[0m\n\u001b[0m",
      "\u001b[0;32m~/Dropbox/Aspuru-Guzik/python_lab/py3/keraspp/tf2/ex2_1_ann_mnist_cl.py\u001b[0m in \u001b[0;36mmain\u001b[0;34m()\u001b[0m\n\u001b[1;32m    133\u001b[0m     \u001b[0mplot_loss\u001b[0m\u001b[0;34m(\u001b[0m\u001b[0mhistory\u001b[0m\u001b[0;34m)\u001b[0m\u001b[0;34m\u001b[0m\u001b[0;34m\u001b[0m\u001b[0m\n\u001b[1;32m    134\u001b[0m     \u001b[0mplt\u001b[0m\u001b[0;34m.\u001b[0m\u001b[0mshow\u001b[0m\u001b[0;34m(\u001b[0m\u001b[0;34m)\u001b[0m\u001b[0;34m\u001b[0m\u001b[0;34m\u001b[0m\u001b[0m\n\u001b[0;32m--> 135\u001b[0;31m     \u001b[0mplot_acc\u001b[0m\u001b[0;34m(\u001b[0m\u001b[0mhistory\u001b[0m\u001b[0;34m)\u001b[0m\u001b[0;34m\u001b[0m\u001b[0;34m\u001b[0m\u001b[0m\n\u001b[0m\u001b[1;32m    136\u001b[0m     \u001b[0mplt\u001b[0m\u001b[0;34m.\u001b[0m\u001b[0mshow\u001b[0m\u001b[0;34m(\u001b[0m\u001b[0;34m)\u001b[0m\u001b[0;34m\u001b[0m\u001b[0;34m\u001b[0m\u001b[0m\n\u001b[1;32m    137\u001b[0m \u001b[0;34m\u001b[0m\u001b[0m\n",
      "\u001b[0;32m~/Dropbox/Aspuru-Guzik/python_lab/py3/keraspp/tf2/ex2_1_ann_mnist_cl.py\u001b[0m in \u001b[0;36mplot_acc\u001b[0;34m(history, title)\u001b[0m\n\u001b[1;32m     85\u001b[0m         \u001b[0mhistory\u001b[0m \u001b[0;34m=\u001b[0m \u001b[0mhistory\u001b[0m\u001b[0;34m.\u001b[0m\u001b[0mhistory\u001b[0m\u001b[0;34m\u001b[0m\u001b[0;34m\u001b[0m\u001b[0m\n\u001b[1;32m     86\u001b[0m \u001b[0;34m\u001b[0m\u001b[0m\n\u001b[0;32m---> 87\u001b[0;31m     \u001b[0mplt\u001b[0m\u001b[0;34m.\u001b[0m\u001b[0mplot\u001b[0m\u001b[0;34m(\u001b[0m\u001b[0mhistory\u001b[0m\u001b[0;34m[\u001b[0m\u001b[0;34m'acc'\u001b[0m\u001b[0;34m]\u001b[0m\u001b[0;34m)\u001b[0m\u001b[0;34m\u001b[0m\u001b[0;34m\u001b[0m\u001b[0m\n\u001b[0m\u001b[1;32m     88\u001b[0m     \u001b[0mplt\u001b[0m\u001b[0;34m.\u001b[0m\u001b[0mplot\u001b[0m\u001b[0;34m(\u001b[0m\u001b[0mhistory\u001b[0m\u001b[0;34m[\u001b[0m\u001b[0;34m'val_acc'\u001b[0m\u001b[0;34m]\u001b[0m\u001b[0;34m)\u001b[0m\u001b[0;34m\u001b[0m\u001b[0;34m\u001b[0m\u001b[0m\n\u001b[1;32m     89\u001b[0m     \u001b[0;32mif\u001b[0m \u001b[0mtitle\u001b[0m \u001b[0;32mis\u001b[0m \u001b[0;32mnot\u001b[0m \u001b[0;32mNone\u001b[0m\u001b[0;34m:\u001b[0m\u001b[0;34m\u001b[0m\u001b[0;34m\u001b[0m\u001b[0m\n",
      "\u001b[0;31mKeyError\u001b[0m: 'acc'"
     ]
    }
   ],
   "source": [
    "ex2_1_ann_mnist_cl.main()"
   ]
  }
 ],
 "metadata": {
  "kernelspec": {
   "display_name": "tf2",
   "language": "python",
   "name": "tf2"
  },
  "language_info": {
   "codemirror_mode": {
    "name": "ipython",
    "version": 3
   },
   "file_extension": ".py",
   "mimetype": "text/x-python",
   "name": "python",
   "nbconvert_exporter": "python",
   "pygments_lexer": "ipython3",
   "version": "3.7.4"
  },
  "toc": {
   "nav_menu": {},
   "number_sections": true,
   "sideBar": true,
   "skip_h1_title": true,
   "toc_cell": false,
   "toc_position": {},
   "toc_section_display": "block",
   "toc_window_display": false
  }
 },
 "nbformat": 4,
 "nbformat_minor": 4
}
