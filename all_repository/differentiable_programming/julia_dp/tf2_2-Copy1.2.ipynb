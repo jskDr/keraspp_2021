{
 "cells": [
  {
   "cell_type": "markdown",
   "metadata": {},
   "source": [
    "## Math based differentiation"
   ]
  },
  {
   "cell_type": "code",
   "execution_count": 86,
   "metadata": {},
   "outputs": [
    {
     "name": "stdout",
     "output_type": "stream",
     "text": [
      "f(x,10) = 2^10 =  1024.0\n",
      "Theory: df(x,10)/dx = 10 x 2^9 =  5120.0\n",
      "AD: df(x,10) =  tf.Tensor(5120.0, shape=(), dtype=float32)\n"
     ]
    }
   ],
   "source": [
    "f = lambda x, n: x**n \n",
    "df_th = lambda x, n: n*f(x,n-1)\n",
    "\n",
    "def df_ad(x, n):\n",
    "    x_tf = tf.Variable(x)\n",
    "    with tf.GradientTape() as tape:\n",
    "        y = f(x_tf,n)\n",
    "    return tape.gradient(y, x_tf)\n",
    "\n",
    "x = float(2.0)\n",
    "print(\"f(x,10) = 2^10 = \", f(x,10))\n",
    "print(\"Theory: df(x,10)/dx = 10 x 2^9 = \", df_th(x,10))\n",
    "print(\"AD: df(x,10) = \", df_ad(x,10))"
   ]
  },
  {
   "cell_type": "code",
   "execution_count": 87,
   "metadata": {},
   "outputs": [
    {
     "name": "stdout",
     "output_type": "stream",
     "text": [
      "CPU times: user 511 ms, sys: 2.65 ms, total: 514 ms\n",
      "Wall time: 514 ms\n"
     ]
    }
   ],
   "source": [
    "x_all = np.random.randn(1000)\n",
    "%time y_all = list(map(lambda x: df_ad(x,10), x_all))"
   ]
  },
  {
   "cell_type": "markdown",
   "metadata": {},
   "source": [
    "## Code based differentiation"
   ]
  },
  {
   "cell_type": "code",
   "execution_count": 88,
   "metadata": {},
   "outputs": [
    {
     "name": "stdout",
     "output_type": "stream",
     "text": [
      "f(x,10) = 2^10 =  1024.0\n",
      "Theory: df(x,10)/dx = 10 x 2^9 =  5120.0\n",
      "AD: df(x,10) =  tf.Tensor(5120.0, shape=(), dtype=float32)\n"
     ]
    }
   ],
   "source": [
    "def f(x,n): \n",
    "    r = 1\n",
    "    for m in range(n):\n",
    "        r *= x\n",
    "    return r\n",
    "df_th = lambda x, n: n*f(x,n-1)\n",
    "\n",
    "def df_ad(x, n):\n",
    "    x_tf = tf.Variable(x)\n",
    "    with tf.GradientTape() as tape:\n",
    "        y = f(x_tf,n)\n",
    "    return tape.gradient(y, x_tf)\n",
    "\n",
    "x = float(2.0)\n",
    "print(\"f(x,10) = 2^10 = \", f(x,10))\n",
    "print(\"Theory: df(x,10)/dx = 10 x 2^9 = \", df_th(x,10))\n",
    "print(\"AD: df(x,10) = \", df_ad(x,10))"
   ]
  },
  {
   "cell_type": "code",
   "execution_count": 89,
   "metadata": {},
   "outputs": [
    {
     "name": "stdout",
     "output_type": "stream",
     "text": [
      "CPU times: user 2.24 s, sys: 5.18 ms, total: 2.25 s\n",
      "Wall time: 2.25 s\n"
     ]
    },
    {
     "data": {
      "text/plain": [
       "1000"
      ]
     },
     "execution_count": 89,
     "metadata": {},
     "output_type": "execute_result"
    }
   ],
   "source": [
    "x_all = np.random.randn(1000)\n",
    "%time y_all = list(map(lambda x: df_ad(x,10), x_all))\n",
    "len(y_all)"
   ]
  },
  {
   "cell_type": "code",
   "execution_count": null,
   "metadata": {},
   "outputs": [],
   "source": []
  }
 ],
 "metadata": {
  "kernelspec": {
   "display_name": "SageMath 9.1",
   "language": "sage",
   "name": "sagemath"
  },
  "language_info": {
   "codemirror_mode": {
    "name": "ipython",
    "version": 3
   },
   "file_extension": ".py",
   "mimetype": "text/x-python",
   "name": "python",
   "nbconvert_exporter": "python",
   "pygments_lexer": "ipython3",
   "version": "3.7.8"
  }
 },
 "nbformat": 4,
 "nbformat_minor": 4
}
