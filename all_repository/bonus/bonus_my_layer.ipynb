{
 "cells": [
  {
   "cell_type": "markdown",
   "metadata": {},
   "source": [
    "# 복소수를 가중치로 가지는 복소 완전연결층"
   ]
  },
  {
   "cell_type": "code",
   "execution_count": 73,
   "metadata": {},
   "outputs": [],
   "source": [
    "import tensorflow as tf\n",
    "import keras\n",
    "from keras import backend as K\n",
    "from keras.engine.topology import Layer\n",
    "import numpy as np\n",
    "\n",
    "from keras import initializers \n",
    "igu = initializers.get('glorot_uniform')\n",
    "iz = initializers.get('zeros')\n",
    "  \n",
    "class CDENSE(Layer):\n",
    "    # FC: Simplified complex fully connected layer\n",
    "    def __init__(self, No, **kwargs):\n",
    "        self.No = No\n",
    "        super().__init__(**kwargs)\n",
    "\n",
    "    def build(self, inshape_l):\n",
    "        inshape = inshape_l[0] # Real and Imag are the same shape\n",
    "        self.w_r = self.add_weight(\"w_r\", (inshape[1], self.No), initializer=igu)\n",
    "        self.w_i = self.add_weight(\"w_i\", (inshape[1], self.No), initializer=igu)\n",
    "        self.b_r = self.add_weight(\"b_r\", (self.No,), initializer=iz)        \n",
    "        self.b_i = self.add_weight(\"b_i\", (self.No,), initializer=iz) \n",
    "        self.w = tf.complex(self.w_r, self.w_i)\n",
    "        self.b = tf.complex(self.b_r, self.b_i)\n",
    "        super().build(inshape)  \n",
    "\n",
    "    def call(self, x_l):\n",
    "        x_r, x_i = x_l\n",
    "        x = tf.complex(x_r, x_i)\n",
    "        y = tf.matmul(x, self.w) + self.b\n",
    "        y_r = tf.real(y)\n",
    "        y_i = tf.imag(y)\n",
    "        return [y_r, y_i]\n",
    "\n",
    "    def compute_output_shape(self, inshape_l):\n",
    "        # real and image are the same length\n",
    "        return [(inshape_l[0], self.No), (inshape_l[0], self.No)]\n",
    "\n",
    "    \n",
    "def modeling(input_shape):\n",
    "    x_r = keras.layers.Input(input_shape)\n",
    "    x_i = keras.layers.Input(input_shape)\n",
    "    [y_r, y_i] = CDENSE(1, input_shape=(1,))([x_r, x_i])\n",
    "    return keras.models.Model([x_r, x_i], [y_r, y_i])\n",
    "\n",
    "\n",
    "def cfit(model, x, y, **kwargs):\n",
    "    x_l = [np.real(x), np.imag(x)]\n",
    "    y_l = [np.real(y), np.imag(y)]        \n",
    "    return model.fit(x_l, y_l, **kwargs)\n",
    "\n",
    "def cpredict(model, x, **kwargs):\n",
    "    x_l = [np.real(x), np.imag(x)]\n",
    "    y_l = model.predict(x_l)\n",
    "    return y_l[0] + 1j * y_l[1]\n",
    "\n",
    "def cget_weights(model):\n",
    "    [w_r, w_i, b_r, b_i] = model.get_weights()\n",
    "    return([w_r + 1j * w_i], [b_r + 1j * b_i])    \n",
    "    \n",
    "def cmain():\n",
    "    model = modeling((1,))\n",
    "    model.compile(keras.optimizers.sgd(), 'mse')\n",
    "\n",
    "    x = np.array([0, 1, 2, 3, 4]) + 1j*np.array([4, 3, 2, 1, 0])\n",
    "    y = x * (2 + 1j) + (1 + 2j)\n",
    "\n",
    "    # Training\n",
    "    h = cfit(model, x[:2], y[:2], epochs=5000, verbose=0)\n",
    "    \n",
    "    # Testing\n",
    "    y_pred = cpredict(model, x[2:])\n",
    "    print('Targets:', y[2:])    \n",
    "    print(y_pred) \n",
    "\n",
    "    # Weights\n",
    "    [w, b] = cget_weights(model)\n",
    "    print('weight:', w)\n",
    "    print('bias:', b)"
   ]
  },
  {
   "cell_type": "code",
   "execution_count": 74,
   "metadata": {},
   "outputs": [
    {
     "name": "stdout",
     "output_type": "stream",
     "text": [
      "Targets: [ 3.+8.j  6.+7.j  9.+6.j]\n",
      "[[ 3.00877428+7.9657917j ]\n",
      " [ 6.01544905+6.94412136j]\n",
      " [ 9.02212429+5.92245197j]]\n",
      "weight: [array([[ 2.01417232+0.99250239j]], dtype=complex64)]\n",
      "bias: [array([ 0.96543461+1.95244229j], dtype=complex64)]\n"
     ]
    }
   ],
   "source": [
    "cmain()"
   ]
  },
  {
   "cell_type": "markdown",
   "metadata": {},
   "source": [
    "---\n",
    "# KERASPP\n",
    "## 코딩셰프의 3분 딥러닝, 케라스맛\n",
    "[Keras 코드로 맛보는 ANN, DNN, CNN, RNN, AE, GAN, UNET](http://www.yes24.com/24/goods/57617933)\n",
    "\n",
    "케라스 코드로 맛보는 딥러닝 핵심 개념! \n",
    "\n",
    "간결하고 직관적인 인공신경망 API를 제공하는 케라스는 구글 텐서플로, 마이크로소프트 CNTK, 아마존 MXNET, OpenCL PlaidML, 시애노 등의 딥러닝 엔진에서 지원하는 인기 인공지능 툴입니다. 이 코드들은 딥러닝 인공신경망 구현에 케라스를 사용합니다. 케라스로 주요 인공신경망인 ANN, DNN, CNN, RNN, AE, GAN, UNET을 구현하는 방법을 알아봅니다. 따라서 인공지능과 딥러닝 인공신경망의 구현에 관심이 있는 누구나 이 코드의 사용자입니다.\n",
    "\n",
    "<p align=\"center\">\n",
    "<a href=\"http://www.yes24.com/24/goods/57617933\">\n",
    "<img src=\"http://image.yes24.com/momo/TopCate1742/MidCate007/174166602.jpg\" alt=\"3분 딥러닝 케라스맛\" title=\"3분 딥러닝 케라스맛\" width=\"350\"/>\n",
    "</a>\n",
    "</p>\n",
    "\n",
    "\n",
    "## 구성\n",
    "\n",
    "케라스를 이용해 딥러닝 인공신경망을 만들어 인공지능을 구현합니다. 1장은 케라스를 시작하는 데 필요한 기초를 다룹니다. 2장부터는 최신 인공지능 구현 방법인 주요 인공신경망을 예제로 이용해 다룹니다. 2장~5장에서 다루는 ANN, DNN, CNN, RNN은 지도학습 방식의 인공지능입니다. 6장과 7장에서 다루는 AE와 GAN은 비지도학습 방식이고 8장의 UNET은 고급 지도학습 방법입니다. 9장은 8장까지 배운 내용을 응용하고 확장하는 방법을 다룹니다. \n",
    "\n",
    "예제는 쉽게 인공지능 구현 방법을 익히고, 추후 실무에 쉽게 재사용할 수 있게 하는 데 주안점을 두어 작성했습니다. "
   ]
  },
  {
   "cell_type": "code",
   "execution_count": null,
   "metadata": {
    "collapsed": true
   },
   "outputs": [],
   "source": []
  }
 ],
 "metadata": {
  "kernelspec": {
   "display_name": "Python [conda root]",
   "language": "python",
   "name": "conda-root-py"
  },
  "language_info": {
   "codemirror_mode": {
    "name": "ipython",
    "version": 3
   },
   "file_extension": ".py",
   "mimetype": "text/x-python",
   "name": "python",
   "nbconvert_exporter": "python",
   "pygments_lexer": "ipython3",
   "version": "3.6.3"
  },
  "toc": {
   "nav_menu": {},
   "number_sections": true,
   "sideBar": true,
   "skip_h1_title": true,
   "toc_cell": false,
   "toc_position": {},
   "toc_section_display": "block",
   "toc_window_display": false
  }
 },
 "nbformat": 4,
 "nbformat_minor": 2
}
