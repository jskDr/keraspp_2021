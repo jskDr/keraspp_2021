{
 "cells": [
  {
   "cell_type": "code",
   "execution_count": 1,
   "id": "83dfe574-eca3-429a-8906-c80799ef6286",
   "metadata": {},
   "outputs": [],
   "source": [
    "import pennylane as qml"
   ]
  },
  {
   "cell_type": "code",
   "execution_count": 2,
   "id": "916f51d0-ba71-4d18-98c7-6c449a78ab9f",
   "metadata": {},
   "outputs": [],
   "source": [
    "from pennylane import numpy as np"
   ]
  },
  {
   "cell_type": "code",
   "execution_count": 3,
   "id": "81f565fb-9cb4-4d89-b8b5-2a47f6480d5b",
   "metadata": {},
   "outputs": [],
   "source": [
    "def model(a: int, p_e: float=0.1) -> int:\n",
    "    \"\"\"\n",
    "    Binary symetry model\n",
    "    \"\"\"\n",
    "    assert a==0 or a == 1, 'Input a should be binary (0,1)' \n",
    "    if np.random.rand() >= p_e:\n",
    "        return 1-2*a\n",
    "    else:\n",
    "        return 1-2*(1-a)\n",
    "    return a"
   ]
  },
  {
   "cell_type": "code",
   "execution_count": 10,
   "id": "f64d7d07-5820-4b4b-94b3-5984ae4238b9",
   "metadata": {},
   "outputs": [
    {
     "name": "stdout",
     "output_type": "stream",
     "text": [
      "(array(0.),)\n",
      "-1.0\n",
      "(array(0.),)\n"
     ]
    }
   ],
   "source": [
    "dev1 = qml.device(\"default.qubit\", wires=1, shots=1)\n",
    "\n",
    "@qml.qnode(dev1)\n",
    "def circuit2(phi1, phi2):\n",
    "    qml.RX(phi1, wires=0)\n",
    "    qml.RY(phi2, wires=0)\n",
    "    return qml.expval(qml.PauliZ(0))\n",
    "\n",
    "dcircuit = qml.grad(circuit2, argnum=[1])\n",
    "x = np.pi\n",
    "print(dcircuit(x, 0.12))\n",
    "\n",
    "def cost(p1, p2):\n",
    "    return circuit2(p1, p2)\n",
    "x = np.pi\n",
    "print(cost(x, 0.12))\n",
    "dcircuit = qml.grad(cost, argnum=[1])\n",
    "x = np.pi\n",
    "print(dcircuit(x, 0.12))"
   ]
  },
  {
   "cell_type": "code",
   "execution_count": null,
   "id": "8961b6a7-7eff-40ba-a31d-0cd9be581f5e",
   "metadata": {},
   "outputs": [],
   "source": []
  }
 ],
 "metadata": {
  "kernelspec": {
   "display_name": "pennylane",
   "language": "python",
   "name": "pennylane"
  },
  "language_info": {
   "codemirror_mode": {
    "name": "ipython",
    "version": 3
   },
   "file_extension": ".py",
   "mimetype": "text/x-python",
   "name": "python",
   "nbconvert_exporter": "python",
   "pygments_lexer": "ipython3",
   "version": "3.9.7"
  }
 },
 "nbformat": 4,
 "nbformat_minor": 5
}
