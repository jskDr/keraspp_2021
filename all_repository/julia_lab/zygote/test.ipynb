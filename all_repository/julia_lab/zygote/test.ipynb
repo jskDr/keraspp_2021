{
 "cells": [
  {
   "cell_type": "code",
   "execution_count": 1,
   "id": "148d86c7-319e-4714-8630-55912fbfd81f",
   "metadata": {},
   "outputs": [
    {
     "data": {
      "text/plain": [
       "(3, 2)"
      ]
     },
     "execution_count": 1,
     "metadata": {},
     "output_type": "execute_result"
    }
   ],
   "source": [
    "using Zygote\n",
    "f(x,y) = x*y;\n",
    "gradient(f, 2, 3)"
   ]
  },
  {
   "cell_type": "code",
   "execution_count": 2,
   "id": "d19c817f-3bc1-453b-85fe-d36f3704536f",
   "metadata": {},
   "outputs": [
    {
     "data": {
      "text/plain": [
       "(32,)"
      ]
     },
     "execution_count": 2,
     "metadata": {},
     "output_type": "execute_result"
    }
   ],
   "source": [
    "gradient(x -> 3x^2 + 2x + 1, 5)"
   ]
  },
  {
   "cell_type": "code",
   "execution_count": 3,
   "id": "af1656a5-b13a-4c54-8670-bb12ef0f01a3",
   "metadata": {},
   "outputs": [
    {
     "data": {
      "text/plain": [
       "32"
      ]
     },
     "execution_count": 3,
     "metadata": {},
     "output_type": "execute_result"
    }
   ],
   "source": [
    "df(x) = 6x + 2\n",
    "df(5)"
   ]
  },
  {
   "cell_type": "code",
   "execution_count": 4,
   "id": "f01459da-ed66-4d77-896b-d997feb8dccd",
   "metadata": {},
   "outputs": [],
   "source": [
    "W = rand(2,3);  x=rand(3);"
   ]
  },
  {
   "cell_type": "code",
   "execution_count": 5,
   "id": "16604dd2-6f65-4654-af83-a731cd087e02",
   "metadata": {},
   "outputs": [
    {
     "data": {
      "text/plain": [
       "2×3 Matrix{Float64}:\n",
       " 0.388228  0.640773  0.932581\n",
       " 0.388228  0.640773  0.932581"
      ]
     },
     "execution_count": 5,
     "metadata": {},
     "output_type": "execute_result"
    }
   ],
   "source": [
    "gradient(W -> sum(W*x), W)[1]"
   ]
  },
  {
   "cell_type": "code",
   "execution_count": 6,
   "id": "86327d3c-88ac-49af-9cd2-f73ca714db05",
   "metadata": {},
   "outputs": [
    {
     "data": {
      "text/plain": [
       "([0.3882284743569071 0.6407733018254271 0.9325807371880759; 0.3882284743569071 0.6407733018254271 0.9325807371880759],)"
      ]
     },
     "execution_count": 6,
     "metadata": {},
     "output_type": "execute_result"
    }
   ],
   "source": [
    "gradient(W -> sum(W*x), W)"
   ]
  },
  {
   "cell_type": "code",
   "execution_count": 7,
   "id": "86b5662b-9258-41cd-b134-aed048d587ed",
   "metadata": {},
   "outputs": [
    {
     "data": {
      "text/plain": [
       "(7//2,)"
      ]
     },
     "execution_count": 7,
     "metadata": {},
     "output_type": "execute_result"
    }
   ],
   "source": [
    "gradient(x -> 3x^2 + 2x + 1, 1//4)"
   ]
  },
  {
   "cell_type": "code",
   "execution_count": 8,
   "id": "3abd5fdd-519e-4cac-83cf-860450e316f0",
   "metadata": {},
   "outputs": [
    {
     "data": {
      "text/plain": [
       "3//4"
      ]
     },
     "execution_count": 8,
     "metadata": {},
     "output_type": "execute_result"
    }
   ],
   "source": [
    "1//4 * 3"
   ]
  },
  {
   "cell_type": "code",
   "execution_count": null,
   "id": "aba2dc04-d546-4208-acbf-d3e6f7b28843",
   "metadata": {},
   "outputs": [],
   "source": []
  }
 ],
 "metadata": {
  "kernelspec": {
   "display_name": "Julia 1.6.3",
   "language": "julia",
   "name": "julia-1.6"
  },
  "language_info": {
   "file_extension": ".jl",
   "mimetype": "application/julia",
   "name": "julia",
   "version": "1.6.3"
  }
 },
 "nbformat": 4,
 "nbformat_minor": 5
}
