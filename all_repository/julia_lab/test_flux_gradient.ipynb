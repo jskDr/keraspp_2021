{
 "cells": [
  {
   "cell_type": "code",
   "execution_count": 6,
   "id": "25591f97",
   "metadata": {},
   "outputs": [],
   "source": [
    "using Flux: gradient"
   ]
  },
  {
   "cell_type": "code",
   "execution_count": 7,
   "id": "85a6f2cd",
   "metadata": {},
   "outputs": [
    {
     "data": {
      "text/plain": [
       "df (generic function with 1 method)"
      ]
     },
     "execution_count": 7,
     "metadata": {},
     "output_type": "execute_result"
    }
   ],
   "source": [
    "f(x) = 2x^2\n",
    "df(x) = gradient(f, x)[1]"
   ]
  },
  {
   "cell_type": "code",
   "execution_count": 8,
   "id": "823bb3dd",
   "metadata": {},
   "outputs": [
    {
     "data": {
      "text/plain": [
       "20.0"
      ]
     },
     "execution_count": 8,
     "metadata": {},
     "output_type": "execute_result"
    }
   ],
   "source": [
    "df(5)"
   ]
  },
  {
   "cell_type": "code",
   "execution_count": 9,
   "id": "7130be7e-6fa8-47f8-b80f-f4fa1653e0b7",
   "metadata": {},
   "outputs": [],
   "source": [
    "using Flux"
   ]
  },
  {
   "cell_type": "code",
   "execution_count": 10,
   "id": "51a3a1af-eca6-4cba-bc1e-26bb17ab17c0",
   "metadata": {},
   "outputs": [
    {
     "data": {
      "text/plain": [
       "Dense(10, 5)        \u001b[90m# 55 parameters\u001b[39m"
      ]
     },
     "execution_count": 10,
     "metadata": {},
     "output_type": "execute_result"
    }
   ],
   "source": [
    "m = Dense(10, 5)"
   ]
  },
  {
   "cell_type": "code",
   "execution_count": 11,
   "id": "d026fead-853d-4c3e-b707-42b758d52f9c",
   "metadata": {},
   "outputs": [
    {
     "data": {
      "text/plain": [
       "10-element Vector{Float32}:\n",
       " 0.87646556\n",
       " 0.8028978\n",
       " 0.94423306\n",
       " 0.75727415\n",
       " 0.93497676\n",
       " 0.6300136\n",
       " 0.9951352\n",
       " 0.86176974\n",
       " 0.12309492\n",
       " 0.95208156"
      ]
     },
     "execution_count": 11,
     "metadata": {},
     "output_type": "execute_result"
    }
   ],
   "source": [
    "x = rand(Float32, 10)`"
   ]
  },
  {
   "cell_type": "code",
   "execution_count": 12,
   "id": "99639f20-4b2a-47ad-8daa-2ce04ca14902",
   "metadata": {},
   "outputs": [
    {
     "data": {
      "text/plain": [
       "Params([Float32[0.42002806 0.23198375 … -0.57104325 0.43147695; -0.1262866 -0.3249405 … -0.62313163 -0.27916205; … ; -0.29239598 0.18322028 … 0.46278185 -0.5809169; -0.25212866 0.40356666 … 0.41211376 -0.29858595], Float32[0.0, 0.0, 0.0, 0.0, 0.0]])"
      ]
     },
     "execution_count": 12,
     "metadata": {},
     "output_type": "execute_result"
    }
   ],
   "source": [
    "params(m)"
   ]
  },
  {
   "cell_type": "code",
   "execution_count": 13,
   "id": "9f9fe4f5-e6af-42ec-835e-8afbea080c21",
   "metadata": {},
   "outputs": [
    {
     "data": {
      "text/plain": [
       "Chain(\n",
       "  Dense(10, 5, relu),                   \u001b[90m# 55 parameters\u001b[39m\n",
       "  Dense(5, 2),                          \u001b[90m# 12 parameters\u001b[39m\n",
       "  NNlib.softmax,\n",
       ")\u001b[90m                   # Total: 4 arrays, \u001b[39m67 parameters, 524 bytes."
      ]
     },
     "execution_count": 13,
     "metadata": {},
     "output_type": "execute_result"
    }
   ],
   "source": [
    "model = Chain(Dense(10,5,relu), Dense(5,2), softmax)"
   ]
  },
  {
   "cell_type": "code",
   "execution_count": 14,
   "id": "caf90ba9-d0c6-4e88-901a-81c23c85b034",
   "metadata": {},
   "outputs": [
    {
     "data": {
      "text/plain": [
       "l (generic function with 1 method)"
      ]
     },
     "execution_count": 14,
     "metadata": {},
     "output_type": "execute_result"
    }
   ],
   "source": [
    "l(x) = sum(Flux.crossentropy(m(x), [0.5, 0.5]))"
   ]
  },
  {
   "cell_type": "code",
   "execution_count": 16,
   "id": "432e7301-742c-4a57-9531-0e5301ef680a",
   "metadata": {},
   "outputs": [
    {
     "name": "stderr",
     "output_type": "stream",
     "text": [
      "┌ Warning: Size mismatch in loss function! In future this will be an error. In Flux <= 0.12 broadcasting accepts this, but may not give sensible results\n",
      "│   summary(ŷ) = 5-element Vector{Float32}\n",
      "│   summary(y) = 2-element Vector{Float64}\n",
      "└ @ Flux.Losses /home/sjkim/.julia/packages/Flux/BPPNj/src/losses/utils.jl:30\n"
     ]
    },
    {
     "ename": "LoadError",
     "evalue": "DimensionMismatch(\"arrays could not be broadcast to a common size; got a dimension with lengths 2 and 5\")",
     "output_type": "error",
     "traceback": [
      "DimensionMismatch(\"arrays could not be broadcast to a common size; got a dimension with lengths 2 and 5\")",
      "",
      "Stacktrace:",
      "  [1] _bcs1",
      "    @ ./broadcast.jl:516 [inlined]",
      "  [2] _bcs",
      "    @ ./broadcast.jl:510 [inlined]",
      "  [3] broadcast_shape",
      "    @ ./broadcast.jl:504 [inlined]",
      "  [4] combine_axes",
      "    @ ./broadcast.jl:499 [inlined]",
      "  [5] instantiate",
      "    @ ./broadcast.jl:281 [inlined]",
      "  [6] materialize",
      "    @ ./broadcast.jl:860 [inlined]",
      "  [7] adjoint",
      "    @ ~/.julia/packages/Flux/BPPNj/src/losses/utils.jl:22 [inlined]",
      "  [8] _pullback",
      "    @ ~/.julia/packages/ZygoteRules/AIbCs/src/adjoint.jl:65 [inlined]",
      "  [9] _pullback",
      "    @ ~/.julia/packages/Flux/BPPNj/src/losses/functions.jl:216 [inlined]",
      " [10] _pullback(::Zygote.Context, ::Flux.Losses.var\"##crossentropy#12\", ::Int64, ::typeof(Statistics.mean), ::Float32, ::typeof(Flux.Losses.crossentropy), ::Vector{Float32}, ::Vector{Float64})",
      "    @ Zygote ~/.julia/packages/Zygote/bJn8I/src/compiler/interface2.jl:0",
      " [11] _pullback",
      "    @ ~/.julia/packages/Flux/BPPNj/src/losses/functions.jl:215 [inlined]",
      " [12] _pullback(::Zygote.Context, ::typeof(Flux.Losses.crossentropy), ::Vector{Float32}, ::Vector{Float64})",
      "    @ Zygote ~/.julia/packages/Zygote/bJn8I/src/compiler/interface2.jl:0",
      " [13] _pullback",
      "    @ ./In[14]:1 [inlined]",
      " [14] _pullback(ctx::Zygote.Context, f::typeof(l), args::Vector{Float32})",
      "    @ Zygote ~/.julia/packages/Zygote/bJn8I/src/compiler/interface2.jl:0",
      " [15] _pullback",
      "    @ ./In[16]:2 [inlined]",
      " [16] _pullback(::Zygote.Context, ::var\"#2#3\")",
      "    @ Zygote ~/.julia/packages/Zygote/bJn8I/src/compiler/interface2.jl:0",
      " [17] pullback(f::Function, ps::Zygote.Params)",
      "    @ Zygote ~/.julia/packages/Zygote/bJn8I/src/compiler/interface.jl:351",
      " [18] gradient(f::Function, args::Zygote.Params)",
      "    @ Zygote ~/.julia/packages/Zygote/bJn8I/src/compiler/interface.jl:75",
      " [19] top-level scope",
      "    @ In[16]:1",
      " [20] eval",
      "    @ ./boot.jl:373 [inlined]",
      " [21] include_string(mapexpr::typeof(REPL.softscope), mod::Module, code::String, filename::String)",
      "    @ Base ./loading.jl:1196"
     ]
    }
   ],
   "source": [
    "grads = gradient(params(m)) do \n",
    "    l(x) \n",
    "end"
   ]
  },
  {
   "cell_type": "code",
   "execution_count": 17,
   "id": "9bb4aae7-84fa-4077-9365-7c18665f5c64",
   "metadata": {},
   "outputs": [
    {
     "data": {
      "text/plain": [
       "Grads(...)"
      ]
     },
     "execution_count": 17,
     "metadata": {},
     "output_type": "execute_result"
    }
   ],
   "source": [
    "x = rand(Float32, 10)\n",
    "m = Chain(Dense(10, 5, relu), Dense(5, 2), softmax)\n",
    "l(x) = sum(Flux.crossentropy(m(x), [0.5, 0.5]))\n",
    "grads = gradient(params(m)) do\n",
    "    l(x)\n",
    "end"
   ]
  },
  {
   "cell_type": "code",
   "execution_count": null,
   "id": "2e404f2b-6c80-49fe-b22d-202a9111346d",
   "metadata": {},
   "outputs": [],
   "source": []
  }
 ],
 "metadata": {
  "kernelspec": {
   "display_name": "Julia 1.7.0",
   "language": "julia",
   "name": "julia-1.7"
  },
  "language_info": {
   "file_extension": ".jl",
   "mimetype": "application/julia",
   "name": "julia",
   "version": "1.7.0"
  }
 },
 "nbformat": 4,
 "nbformat_minor": 5
}
