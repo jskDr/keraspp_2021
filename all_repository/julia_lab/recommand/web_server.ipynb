{
 "cells": [
  {
   "cell_type": "code",
   "execution_count": 2,
   "id": "0dcc6b9c-1ef9-4670-98fe-cf597fcff6ef",
   "metadata": {},
   "outputs": [],
   "source": [
    "# Genie Hello World!\n",
    "# As simple as Hello\n",
    "using Genie"
   ]
  },
  {
   "cell_type": "code",
   "execution_count": 3,
   "id": "698ff4bf-4747-4ec1-810e-0786439f2e4c",
   "metadata": {},
   "outputs": [
    {
     "name": "stderr",
     "output_type": "stream",
     "text": [
      "┌ Info: \n",
      "│ Web Server starting at http://127.0.0.1:8887 \n",
      "└ @ Genie.AppServer /home/sjkim/.julia/packages/Genie/Mio8T/src/AppServer.jl:159\n"
     ]
    },
    {
     "data": {
      "text/plain": [
       "Genie.AppServer.ServersCollection(Task (runnable) @0x00007fc834e64d00, nothing)"
      ]
     },
     "execution_count": 3,
     "metadata": {},
     "output_type": "execute_result"
    }
   ],
   "source": [
    "route(\"/hello\") do\n",
    "    \"Welcome to Genie!\"\n",
    "end\n",
    "\n",
    "# Powerful high-performance HTML view templates\n",
    "using Genie.Renderer.Html\n",
    "route(\"/html\") do\n",
    "    h1(\"Welcome to Genie!\") |> html\n",
    "end\n",
    "\n",
    "# JSON rendering built in\n",
    "using Genie.Renderer.Json\n",
    "route(\"/json\") do\n",
    "    (:greeting => \"Welcome to Genie!\") |> json\n",
    "end\n",
    "\n",
    "# Start the app!\n",
    "up(8887)"
   ]
  },
  {
   "cell_type": "code",
   "execution_count": 4,
   "id": "405bdf61-bf8f-438e-b2a6-40c73668d842",
   "metadata": {},
   "outputs": [
    {
     "name": "stderr",
     "output_type": "stream",
     "text": [
      "┌ Error: GET / 404\n",
      "└ @ Genie.Router /home/sjkim/.julia/packages/Genie/Mio8T/src/Router.jl:163\n",
      "┌ Error: GET /favicon.ico 404\n",
      "└ @ Genie.Router /home/sjkim/.julia/packages/Genie/Mio8T/src/Router.jl:163\n",
      "┌ Error: GET / 404\n",
      "└ @ Genie.Router /home/sjkim/.julia/packages/Genie/Mio8T/src/Router.jl:163\n",
      "┌ Error: GET / 404\n",
      "└ @ Genie.Router /home/sjkim/.julia/packages/Genie/Mio8T/src/Router.jl:163\n",
      "┌ Info: GET /hello 200\n",
      "└ @ Genie.Router /home/sjkim/.julia/packages/Genie/Mio8T/src/Router.jl:161\n",
      "┌ Warning: Interrupted: listen(HTTP.Servers.Server{Nothing, Sockets.TCPServer}(nothing, Sockets.TCPServer(RawFD(4294967295) closed), \"127.0.0.1\", \"8887\", nothing, nothing))\n",
      "└ @ HTTP.Servers /home/sjkim/.julia/packages/HTTP/aTjcj/src/Servers.jl:321\n"
     ]
    },
    {
     "data": {
      "text/plain": [
       "1-element Vector{Genie.AppServer.ServersCollection}:\n",
       " Genie.AppServer.ServersCollection(Task (done) @0x00007fc834e64d00, nothing)"
      ]
     },
     "execution_count": 4,
     "metadata": {},
     "output_type": "execute_result"
    }
   ],
   "source": [
    "down()"
   ]
  },
  {
   "cell_type": "code",
   "execution_count": null,
   "id": "6577e701-b6e3-4415-aa81-52c816ecb1c0",
   "metadata": {},
   "outputs": [],
   "source": []
  }
 ],
 "metadata": {
  "kernelspec": {
   "display_name": "Julia 1.7.0",
   "language": "julia",
   "name": "julia-1.7"
  },
  "language_info": {
   "file_extension": ".jl",
   "mimetype": "application/julia",
   "name": "julia",
   "version": "1.7.0"
  }
 },
 "nbformat": 4,
 "nbformat_minor": 5
}
