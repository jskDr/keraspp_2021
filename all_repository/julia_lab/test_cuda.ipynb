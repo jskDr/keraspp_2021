{
 "cells": [
  {
   "cell_type": "code",
   "execution_count": 17,
   "id": "aedbea1d-04db-46fb-97b9-74ddc407ad23",
   "metadata": {},
   "outputs": [],
   "source": [
    "using CUDA\n",
    "using Test\n",
    "using BenchmarkTools"
   ]
  },
  {
   "cell_type": "code",
   "execution_count": 18,
   "id": "b1fccb67",
   "metadata": {},
   "outputs": [
    {
     "name": "stdout",
     "output_type": "stream",
     "text": [
      "CUDA toolkit 11.5, artifact installation\n",
      "NVIDIA driver 497.29.0, for CUDA 11.5\n",
      "CUDA driver 11.5\n",
      "\n",
      "Libraries: \n",
      "- CUBLAS: 11.7.4\n",
      "- CURAND: 10.2.7\n",
      "- CUFFT: 10.6.0\n",
      "- CUSOLVER: 11.3.2\n",
      "- CUSPARSE: 11.7.0\n",
      "- CUPTI: 16.0.0\n",
      "- NVML: 11.0.0+495.53\n",
      "- CUDNN: 8.30.1 (for CUDA 11.5.0)\n",
      "- CUTENSOR: 1.3.3 (for CUDA 11.4.0)\n",
      "\n",
      "Toolchain:\n",
      "- Julia: 1.7.0\n",
      "- LLVM: 12.0.1\n",
      "- PTX ISA support: 3.2, 4.0, 4.1, 4.2, 4.3, 5.0, 6.0, 6.1, 6.3, 6.4, 6.5, 7.0\n",
      "- Device capability support: sm_35, sm_37, sm_50, sm_52, sm_53, sm_60, sm_61, sm_62, sm_70, sm_72, sm_75, sm_80\n",
      "\n",
      "1 device:\n",
      "  0: NVIDIA GeForce GTX 1050 (sm_61, 944.301 MiB / 2.000 GiB available)\n"
     ]
    }
   ],
   "source": [
    "CUDA.versioninfo()"
   ]
  },
  {
   "cell_type": "code",
   "execution_count": 20,
   "id": "f8b42a20-503f-4645-b19e-dbfb5effc674",
   "metadata": {},
   "outputs": [
    {
     "data": {
      "text/plain": [
       "1-element Vector{VersionNumber}:\n",
       " v\"6.1.0\""
      ]
     },
     "execution_count": 20,
     "metadata": {},
     "output_type": "execute_result"
    }
   ],
   "source": [
    "[CUDA.capability(dev) for dev in CUDA.devices()]"
   ]
  },
  {
   "cell_type": "markdown",
   "id": "83469b05-4c3c-4840-a19a-a5f603755282",
   "metadata": {},
   "source": [
    "## CUDA Simple"
   ]
  },
  {
   "cell_type": "code",
   "execution_count": 21,
   "id": "fa7ce8aa-71bd-4d53-b0f8-f03c84060311",
   "metadata": {},
   "outputs": [
    {
     "data": {
      "text/plain": [
       "86"
      ]
     },
     "execution_count": 21,
     "metadata": {},
     "output_type": "execute_result"
    }
   ],
   "source": [
    "x = cu(rand(5,3))\n",
    "f(x) = 3x^2 + 2x + 1\n",
    "f(5)"
   ]
  },
  {
   "cell_type": "markdown",
   "id": "abe43dd3-1916-4740-9e5f-68d21d1eb0f5",
   "metadata": {},
   "source": [
    "## Evaluating CPU Peformance for Baseline"
   ]
  },
  {
   "cell_type": "code",
   "execution_count": 38,
   "id": "6eeb5f91-7a01-42ba-b8a5-f3d83bdb7b1a",
   "metadata": {},
   "outputs": [
    {
     "data": {
      "text/plain": [
       "\u001b[32m\u001b[1mTest Passed\u001b[22m\u001b[39m\n",
       "  Expression: all(y .== 3.0f0)"
      ]
     },
     "execution_count": 38,
     "metadata": {},
     "output_type": "execute_result"
    }
   ],
   "source": [
    "N = 2^20\n",
    "x = fill(1.0f0, N)  # a vector filled with 1.0 (Float32)\n",
    "y = fill(2.0f0, N)  # a vector filled with 2.0\n",
    "\n",
    "y .+= x   \n",
    "\n",
    "@test all(y .== 3.0f0)"
   ]
  },
  {
   "cell_type": "code",
   "execution_count": 39,
   "id": "849bb78a-b5ba-44d3-88c4-9b7e77c31b4f",
   "metadata": {},
   "outputs": [
    {
     "data": {
      "text/plain": [
       "\u001b[32m\u001b[1mTest Passed\u001b[22m\u001b[39m\n",
       "  Expression: all(y .== 3.0f0)"
      ]
     },
     "execution_count": 39,
     "metadata": {},
     "output_type": "execute_result"
    }
   ],
   "source": [
    "function sequential_add!(y, x)\n",
    "    for i in eachindex(y, x)\n",
    "        @inbounds y[i] += x[i]\n",
    "    end\n",
    "    return nothing\n",
    "end\n",
    "\n",
    "fill!(y, 2)\n",
    "sequential_add!(y, x)\n",
    "@test all(y .== 3.0f0)"
   ]
  },
  {
   "cell_type": "code",
   "execution_count": 40,
   "id": "1a1df9da-ee58-41a7-a589-841cfa32bafe",
   "metadata": {},
   "outputs": [
    {
     "data": {
      "text/plain": [
       "\u001b[32m\u001b[1mTest Passed\u001b[22m\u001b[39m\n",
       "  Expression: all(y .== 3.0f0)"
      ]
     },
     "execution_count": 40,
     "metadata": {},
     "output_type": "execute_result"
    }
   ],
   "source": [
    "function parallel_add!(y, x)\n",
    "    Threads.@threads for i in eachindex(y, x)\n",
    "        @inbounds y[i] += x[i]\n",
    "    end\n",
    "    return nothing\n",
    "end\n",
    "\n",
    "fill!(y, 2)\n",
    "parallel_add!(y, x)\n",
    "@test all(y .== 3.0f0)"
   ]
  },
  {
   "cell_type": "code",
   "execution_count": 41,
   "id": "f7dc2447-23e7-4eeb-b39d-5b76537f6774",
   "metadata": {},
   "outputs": [
    {
     "name": "stdout",
     "output_type": "stream",
     "text": [
      "  335.400 μs (0 allocations: 0 bytes)\n"
     ]
    }
   ],
   "source": [
    "@btime sequential_add!($y, $x)"
   ]
  },
  {
   "cell_type": "code",
   "execution_count": 42,
   "id": "2691edd8-0772-4935-9915-aa0a5eaa1910",
   "metadata": {},
   "outputs": [
    {
     "name": "stdout",
     "output_type": "stream",
     "text": [
      "  377.800 μs (6 allocations: 544 bytes)\n"
     ]
    }
   ],
   "source": [
    "@btime parallel_add!($y, $x)"
   ]
  },
  {
   "cell_type": "markdown",
   "id": "4e108578-e804-4750-be8e-0198d7c3e700",
   "metadata": {},
   "source": [
    "## Now, Evaluating GPU"
   ]
  },
  {
   "cell_type": "code",
   "execution_count": 45,
   "id": "39a0ac0e-25a4-4bb7-8565-340a11cf12e8",
   "metadata": {},
   "outputs": [
    {
     "data": {
      "text/plain": [
       "\u001b[32m\u001b[1mTest Passed\u001b[22m\u001b[39m\n",
       "  Expression: all(Array(y_d) .== 3.0f0)"
      ]
     },
     "execution_count": 45,
     "metadata": {},
     "output_type": "execute_result"
    }
   ],
   "source": [
    "x_d = CUDA.fill(1.0f0, N)  # a vector stored on the GPU filled with 1.0 (Float32)\n",
    "y_d = CUDA.fill(2.0f0, N) \n",
    "\n",
    "y_d .+= x_d\n",
    "@test all(Array(y_d) .== 3.0f0)"
   ]
  },
  {
   "cell_type": "code",
   "execution_count": 46,
   "id": "4ccf6818-35e6-49ef-8454-e856f5cec190",
   "metadata": {},
   "outputs": [
    {
     "data": {
      "text/plain": [
       "add_broadcast! (generic function with 1 method)"
      ]
     },
     "execution_count": 46,
     "metadata": {},
     "output_type": "execute_result"
    }
   ],
   "source": [
    "function add_broadcast!(y, x)\n",
    "    CUDA.@sync y .+= x\n",
    "    return\n",
    "end"
   ]
  },
  {
   "cell_type": "code",
   "execution_count": 47,
   "id": "de3d3c30-8a62-48b4-b620-ab70ec425adc",
   "metadata": {},
   "outputs": [
    {
     "name": "stdout",
     "output_type": "stream",
     "text": [
      "  166.100 μs (23 allocations: 1.61 KiB)\n"
     ]
    }
   ],
   "source": [
    "@btime add_broadcast!($y_d, $x_d)"
   ]
  },
  {
   "cell_type": "code",
   "execution_count": 48,
   "id": "c4683bf0-d776-4278-80cb-e839656790b9",
   "metadata": {},
   "outputs": [
    {
     "data": {
      "text/plain": [
       "\u001b[32m\u001b[1mTest Passed\u001b[22m\u001b[39m\n",
       "  Expression: all(Array(y_d) .== 3.0f0)"
      ]
     },
     "execution_count": 48,
     "metadata": {},
     "output_type": "execute_result"
    }
   ],
   "source": [
    "function gpu_add1!(y, x)\n",
    "    for i = 1:length(y)\n",
    "        @inbounds y[i] += x[i]\n",
    "    end\n",
    "    return nothing\n",
    "end\n",
    "\n",
    "fill!(y_d, 2)\n",
    "@cuda gpu_add1!(y_d, x_d)\n",
    "@test all(Array(y_d) .== 3.0f0)"
   ]
  },
  {
   "cell_type": "code",
   "execution_count": 49,
   "id": "1f4d29fb-2707-4a00-bdfc-46fffa581d0c",
   "metadata": {},
   "outputs": [
    {
     "data": {
      "text/plain": [
       "bench_gpu1! (generic function with 1 method)"
      ]
     },
     "execution_count": 49,
     "metadata": {},
     "output_type": "execute_result"
    }
   ],
   "source": [
    "function bench_gpu1!(y, x)\n",
    "    CUDA.@sync begin\n",
    "        @cuda gpu_add1!(y, x)\n",
    "    end\n",
    "end"
   ]
  },
  {
   "cell_type": "code",
   "execution_count": 50,
   "id": "eb0c950a-9d57-48bf-93ab-9c080592975b",
   "metadata": {},
   "outputs": [
    {
     "name": "stdout",
     "output_type": "stream",
     "text": [
      "  152.745 ms (17 allocations: 1.00 KiB)\n"
     ]
    },
    {
     "data": {
      "text/plain": [
       "CUDA.HostKernel{typeof(gpu_add1!), Tuple{CuDeviceVector{Float32, 1}, CuDeviceVector{Float32, 1}}}(gpu_add1!, CuContext(0x00000000028e3a80, instance 5ab268c59aa3a7a2), CuModule(Ptr{Nothing} @0x00000000021b93f0, CuContext(0x00000000028e3a80, instance 5ab268c59aa3a7a2)), CuFunction(Ptr{Nothing} @0x00000000075c35d0, CuModule(Ptr{Nothing} @0x00000000021b93f0, CuContext(0x00000000028e3a80, instance 5ab268c59aa3a7a2))), CUDA.KernelState(Ptr{Nothing} @0x00000002037f0000))"
      ]
     },
     "execution_count": 50,
     "metadata": {},
     "output_type": "execute_result"
    }
   ],
   "source": [
    "@btime bench_gpu1!($y_d, $x_d)"
   ]
  },
  {
   "cell_type": "code",
   "execution_count": 51,
   "id": "c1e1a793-8b2d-4a7b-8e8b-7c849aeecb4d",
   "metadata": {},
   "outputs": [
    {
     "data": {
      "text/plain": [
       "\u001b[32m\u001b[1mTest Passed\u001b[22m\u001b[39m\n",
       "  Expression: all(Array(y_d) .== 3.0f0)"
      ]
     },
     "execution_count": 51,
     "metadata": {},
     "output_type": "execute_result"
    }
   ],
   "source": [
    "function gpu_add3!(y, x)\n",
    "    index = (blockIdx().x - 1) * blockDim().x + threadIdx().x\n",
    "    stride = blockDim().x * gridDim().x\n",
    "    for i = index:stride:length(y)\n",
    "        @inbounds y[i] += x[i]\n",
    "    end\n",
    "    return\n",
    "end\n",
    "\n",
    "numblocks = ceil(Int, N/256)\n",
    "\n",
    "fill!(y_d, 2)\n",
    "@cuda threads=256 blocks=numblocks gpu_add3!(y_d, x_d)\n",
    "@test all(Array(y_d) .== 3.0f0)"
   ]
  },
  {
   "cell_type": "code",
   "execution_count": 52,
   "id": "29eb46bc-cac6-4c9d-a0cc-3daff2a16f7f",
   "metadata": {},
   "outputs": [
    {
     "data": {
      "text/plain": [
       "bench_gpu3! (generic function with 1 method)"
      ]
     },
     "execution_count": 52,
     "metadata": {},
     "output_type": "execute_result"
    }
   ],
   "source": [
    "function bench_gpu3!(y, x)\n",
    "    numblocks = ceil(Int, length(y)/256)\n",
    "    CUDA.@sync begin\n",
    "        @cuda threads=256 blocks=numblocks gpu_add3!(y, x)\n",
    "    end\n",
    "end"
   ]
  },
  {
   "cell_type": "code",
   "execution_count": 53,
   "id": "c2fdb5d2-114f-4799-819c-e1d12bb70ce2",
   "metadata": {},
   "outputs": [
    {
     "name": "stdout",
     "output_type": "stream",
     "text": [
      "  196.200 μs (3 allocations: 256 bytes)\n"
     ]
    },
    {
     "data": {
      "text/plain": [
       "CUDA.HostKernel{typeof(gpu_add3!), Tuple{CuDeviceVector{Float32, 1}, CuDeviceVector{Float32, 1}}}(gpu_add3!, CuContext(0x00000000028e3a80, instance 5ab268c59aa3a7a2), CuModule(Ptr{Nothing} @0x000000000247ce50, CuContext(0x00000000028e3a80, instance 5ab268c59aa3a7a2)), CuFunction(Ptr{Nothing} @0x0000000008ca6e90, CuModule(Ptr{Nothing} @0x000000000247ce50, CuContext(0x00000000028e3a80, instance 5ab268c59aa3a7a2))), CUDA.KernelState(Ptr{Nothing} @0x00000002037f0000))"
      ]
     },
     "execution_count": 53,
     "metadata": {},
     "output_type": "execute_result"
    }
   ],
   "source": [
    "@btime bench_gpu3!($y_d, $x_d)"
   ]
  },
  {
   "cell_type": "code",
   "execution_count": null,
   "id": "3ce2e440-1162-422c-8212-e8bf392c0c68",
   "metadata": {},
   "outputs": [],
   "source": []
  }
 ],
 "metadata": {
  "kernelspec": {
   "display_name": "Julia 1.7.0",
   "language": "julia",
   "name": "julia-1.7"
  },
  "language_info": {
   "file_extension": ".jl",
   "mimetype": "application/julia",
   "name": "julia",
   "version": "1.7.0"
  }
 },
 "nbformat": 4,
 "nbformat_minor": 5
}
