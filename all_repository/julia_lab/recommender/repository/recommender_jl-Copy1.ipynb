{
 "cells": [
  {
   "cell_type": "code",
   "execution_count": 1,
   "id": "45f8f7b3-b3b4-4220-8543-5de01f5bea08",
   "metadata": {},
   "outputs": [],
   "source": [
    "using Persa"
   ]
  },
  {
   "cell_type": "code",
   "execution_count": 2,
   "id": "1a4937a8-8172-400c-a915-3530f904580a",
   "metadata": {},
   "outputs": [
    {
     "data": {
      "text/plain": [
       "Ratings Preference: [1, 2, 3, 4, 5]"
      ]
     },
     "execution_count": 2,
     "metadata": {},
     "output_type": "execute_result"
    }
   ],
   "source": [
    "preference = Persa.Preference([1, 2, 3, 4, 5])"
   ]
  },
  {
   "cell_type": "code",
   "execution_count": 3,
   "id": "b79c73f4-f34c-4be5-b6cc-f81efb9d9ef5",
   "metadata": {},
   "outputs": [
    {
     "data": {
      "text/plain": [
       "Rating: 1"
      ]
     },
     "execution_count": 3,
     "metadata": {},
     "output_type": "execute_result"
    }
   ],
   "source": [
    "Persa.Rating(1, preference)"
   ]
  },
  {
   "cell_type": "code",
   "execution_count": 4,
   "id": "df7a8cc2-f4ab-4e10-a5aa-a8c7625270e9",
   "metadata": {},
   "outputs": [
    {
     "data": {
      "text/plain": [
       "9-element Vector{Persa.UserPreference{Int64}}:\n",
       " (user: 1, item: 1, rating: 4)\n",
       " (user: 1, item: 3, rating: 2)\n",
       " (user: 2, item: 1, rating: 4)\n",
       " (user: 2, item: 2, rating: 5)\n",
       " (user: 2, item: 3, rating: 3)\n",
       " (user: 3, item: 1, rating: 3)\n",
       " (user: 3, item: 2, rating: 4)\n",
       " (user: 4, item: 2, rating: 5)\n",
       " (user: 3, item: 3, rating: 4)"
      ]
     },
     "execution_count": 4,
     "metadata": {},
     "output_type": "execute_result"
    }
   ],
   "source": [
    "x = Persa.UserPreference(1, 1, Persa.Rating(4, preference))\n",
    "data = [x]\n",
    "x = Persa.UserPreference(1, 3, Persa.Rating(2, preference))\n",
    "data = [data; x]\n",
    "x = Persa.UserPreference(2, 1, Persa.Rating(4, preference))\n",
    "data = [data; x]\n",
    "x = Persa.UserPreference(2, 2, Persa.Rating(5, preference))\n",
    "data = [data; x]\n",
    "x = Persa.UserPreference(2, 3, Persa.Rating(3, preference))\n",
    "data = [data; x]\n",
    "x = Persa.UserPreference(3, 1, Persa.Rating(3, preference))\n",
    "data = [data; x]\n",
    "x = Persa.UserPreference(3, 2, Persa.Rating(4, preference))\n",
    "data = [data; x]\n",
    "x = Persa.UserPreference(4, 2, Persa.Rating(5, preference))\n",
    "data = [data; x]\n",
    "x = Persa.UserPreference(3, 3, Persa.Rating(4, preference))\n",
    "data = [data; x]\n",
    "data"
   ]
  },
  {
   "cell_type": "code",
   "execution_count": 5,
   "id": "e222813d-c9ca-4861-a956-047ac3b3333e",
   "metadata": {},
   "outputs": [
    {
     "data": {
      "text/plain": [
       "Collaborative Filtering Dataset\n",
       "- # users: 4\n",
       "- # items: 3\n",
       "- # ratings: 9\n",
       "- Ratings Preference: [1, 2, 3, 4, 5]\n"
      ]
     },
     "execution_count": 5,
     "metadata": {},
     "output_type": "execute_result"
    }
   ],
   "source": [
    "dataset = Persa.Dataset(data, 4, 3, preference)"
   ]
  },
  {
   "cell_type": "code",
   "execution_count": 6,
   "id": "240427e9-c56a-4fc9-983f-e6fb8f951ecc",
   "metadata": {},
   "outputs": [
    {
     "data": {
      "text/plain": [
       "(user: 1, item: 1, rating: 4)"
      ]
     },
     "execution_count": 6,
     "metadata": {},
     "output_type": "execute_result"
    }
   ],
   "source": [
    "dataset[1]"
   ]
  },
  {
   "cell_type": "code",
   "execution_count": 7,
   "id": "2ca1b83b-a628-44ef-a3e6-1c71cac57592",
   "metadata": {},
   "outputs": [
    {
     "data": {
      "text/plain": [
       "Rating: 4"
      ]
     },
     "execution_count": 7,
     "metadata": {},
     "output_type": "execute_result"
    }
   ],
   "source": [
    "dataset[1,1]"
   ]
  },
  {
   "cell_type": "code",
   "execution_count": 19,
   "id": "e6bd46dd-bdb2-466b-86ae-af66eef0b250",
   "metadata": {},
   "outputs": [
    {
     "ename": "LoadError",
     "evalue": "invalid subtyping in definition of RandomModel",
     "output_type": "error",
     "traceback": [
      "invalid subtyping in definition of RandomModel",
      "",
      "Stacktrace:",
      " [1] top-level scope",
      "   @ In[19]:1",
      " [2] eval",
      "   @ ./boot.jl:373 [inlined]",
      " [3] include_string(mapexpr::typeof(REPL.softscope), mod::Module, code::String, filename::String)",
      "   @ Base ./loading.jl:1196"
     ]
    }
   ],
   "source": [
    "mutable struct RandomModel <: Persa.Model\n",
    "    preference::Persa.Preference\n",
    "    users::Int\n",
    "    items::Int\n",
    "end"
   ]
  },
  {
   "cell_type": "code",
   "execution_count": 12,
   "id": "f71f62cc-f1e6-47aa-876d-6e3cdeda0ad3",
   "metadata": {},
   "outputs": [],
   "source": [
    "struct RandomModel \n",
    "    preference::Persa.Preference\n",
    "    users::Int\n",
    "    items::Int\n",
    "end"
   ]
  },
  {
   "cell_type": "code",
   "execution_count": 10,
   "id": "e4f41c3e-4f44-416d-b96f-c2e8cc089c07",
   "metadata": {},
   "outputs": [
    {
     "data": {
      "text/plain": [
       "Persa.Model"
      ]
     },
     "execution_count": 10,
     "metadata": {},
     "output_type": "execute_result"
    }
   ],
   "source": [
    "Persa.Model"
   ]
  },
  {
   "cell_type": "code",
   "execution_count": 13,
   "id": "9c90f356-f785-4a15-9337-1f8c99535799",
   "metadata": {},
   "outputs": [
    {
     "data": {
      "text/plain": [
       "RandomModel"
      ]
     },
     "execution_count": 13,
     "metadata": {},
     "output_type": "execute_result"
    }
   ],
   "source": [
    "RandomModel(dataset::Persa.Dataset) = RandomModel(dataset.preference, Persa.users(dataset), Persa.items(dataset))"
   ]
  },
  {
   "cell_type": "code",
   "execution_count": 14,
   "id": "8173ddbb-24f6-46ee-b054-86a485fb087c",
   "metadata": {},
   "outputs": [],
   "source": [
    "Persa.predict(model::RandomModel, user::Int, item::Int) = rand(model.preference.possibles)"
   ]
  },
  {
   "cell_type": "code",
   "execution_count": 17,
   "id": "ea5bc8b9-ed88-4abc-9ede-ffbab785a025",
   "metadata": {},
   "outputs": [
    {
     "data": {
      "text/plain": [
       "RandomModel(Ratings Preference: [1, 2, 3, 4, 5], 4, 3)"
      ]
     },
     "execution_count": 17,
     "metadata": {},
     "output_type": "execute_result"
    }
   ],
   "source": [
    "model = RandomModel(dataset)"
   ]
  },
  {
   "cell_type": "code",
   "execution_count": 18,
   "id": "968b0ec3-d95a-4457-a783-a031f65722cb",
   "metadata": {},
   "outputs": [
    {
     "ename": "LoadError",
     "evalue": "MethodError: no method matching getindex(::RandomModel, ::Int64, ::Int64)",
     "output_type": "error",
     "traceback": [
      "MethodError: no method matching getindex(::RandomModel, ::Int64, ::Int64)",
      "",
      "Stacktrace:",
      " [1] top-level scope",
      "   @ In[18]:1",
      " [2] eval",
      "   @ ./boot.jl:373 [inlined]",
      " [3] include_string(mapexpr::typeof(REPL.softscope), mod::Module, code::String, filename::String)",
      "   @ Base ./loading.jl:1196"
     ]
    }
   ],
   "source": [
    "model[1,1]"
   ]
  },
  {
   "cell_type": "code",
   "execution_count": 20,
   "id": "34ebbb91-b1d3-4eaa-91ea-a5c306f31869",
   "metadata": {},
   "outputs": [
    {
     "ename": "LoadError",
     "evalue": "syntax: extra token \"Surprise\" after end of expression",
     "output_type": "error",
     "traceback": [
      "syntax: extra token \"Surprise\" after end of expression",
      "",
      "Stacktrace:",
      " [1] top-level scope",
      "   @ In[20]:1",
      " [2] eval",
      "   @ ./boot.jl:373 [inlined]",
      " [3] include_string(mapexpr::typeof(REPL.softscope), mod::Module, code::String, filename::String)",
      "   @ Base ./loading.jl:1196"
     ]
    }
   ],
   "source": [
    "usung Surprise"
   ]
  },
  {
   "cell_type": "code",
   "execution_count": 21,
   "id": "385d652a-b233-46be-99ad-1ceba9e593c1",
   "metadata": {},
   "outputs": [
    {
     "ename": "LoadError",
     "evalue": "InitError: PyError (PyImport_ImportModule\n\nThe Python package surprise could not be imported by pyimport. Usually this means\nthat you did not install surprise in the Python version being used by PyCall.\n\nPyCall is currently configured to use the Python version at:\n\n/usr/bin/python3\n\nand you should use whatever mechanism you usually use (apt-get, pip, conda,\netcetera) to install the Python package containing the surprise module.\n\nOne alternative is to re-configure PyCall to use a different Python\nversion on your system: set ENV[\"PYTHON\"] to the path/name of the python\nexecutable you want to use, run Pkg.build(\"PyCall\"), and re-launch Julia.\n\nAnother alternative is to configure PyCall to use a Julia-specific Python\ndistribution via the Conda.jl package (which installs a private Anaconda\nPython distribution), which has the advantage that packages can be installed\nand kept up-to-date via Julia.  As explained in the PyCall documentation,\nset ENV[\"PYTHON\"]=\"\", run Pkg.build(\"PyCall\"), and re-launch Julia. Then,\nTo install the surprise module, you can use `pyimport_conda(\"surprise\", PKG)`,\nwhere PKG is the Anaconda package that contains the module surprise,\nor alternatively you can use the Conda package directly (via\n`using Conda` followed by `Conda.add` etcetera).\n\n) <class 'ModuleNotFoundError'>\nModuleNotFoundError(\"No module named 'surprise'\")\n\nduring initialization of module Surprise",
     "output_type": "error",
     "traceback": [
      "InitError: PyError (PyImport_ImportModule\n\nThe Python package surprise could not be imported by pyimport. Usually this means\nthat you did not install surprise in the Python version being used by PyCall.\n\nPyCall is currently configured to use the Python version at:\n\n/usr/bin/python3\n\nand you should use whatever mechanism you usually use (apt-get, pip, conda,\netcetera) to install the Python package containing the surprise module.\n\nOne alternative is to re-configure PyCall to use a different Python\nversion on your system: set ENV[\"PYTHON\"] to the path/name of the python\nexecutable you want to use, run Pkg.build(\"PyCall\"), and re-launch Julia.\n\nAnother alternative is to configure PyCall to use a Julia-specific Python\ndistribution via the Conda.jl package (which installs a private Anaconda\nPython distribution), which has the advantage that packages can be installed\nand kept up-to-date via Julia.  As explained in the PyCall documentation,\nset ENV[\"PYTHON\"]=\"\", run Pkg.build(\"PyCall\"), and re-launch Julia. Then,\nTo install the surprise module, you can use `pyimport_conda(\"surprise\", PKG)`,\nwhere PKG is the Anaconda package that contains the module surprise,\nor alternatively you can use the Conda package directly (via\n`using Conda` followed by `Conda.add` etcetera).\n\n) <class 'ModuleNotFoundError'>\nModuleNotFoundError(\"No module named 'surprise'\")\n\nduring initialization of module Surprise",
      "",
      "Stacktrace:",
      " [1] pyimport(name::String)",
      "   @ PyCall ~/.julia/packages/PyCall/L0fLP/src/PyCall.jl:550",
      " [2] __init__()",
      "   @ Surprise ~/.julia/packages/Surprise/AIyBM/src/Surprise.jl:10",
      " [3] _include_from_serialized(path::String, depmods::Vector{Any})",
      "   @ Base ./loading.jl:768",
      " [4] _require_search_from_serialized(pkg::Base.PkgId, sourcepath::String)",
      "   @ Base ./loading.jl:854",
      " [5] _require(pkg::Base.PkgId)",
      "   @ Base ./loading.jl:1097",
      " [6] require(uuidkey::Base.PkgId)",
      "   @ Base ./loading.jl:1013",
      " [7] require(into::Module, mod::Symbol)",
      "   @ Base ./loading.jl:997",
      " [8] eval",
      "   @ ./boot.jl:373 [inlined]",
      " [9] include_string(mapexpr::typeof(REPL.softscope), mod::Module, code::String, filename::String)",
      "   @ Base ./loading.jl:1196"
     ]
    }
   ],
   "source": [
    "using Surprise"
   ]
  },
  {
   "cell_type": "code",
   "execution_count": null,
   "id": "1cb615e3-e92d-4a14-a9ff-240ca57e4ee2",
   "metadata": {},
   "outputs": [],
   "source": []
  }
 ],
 "metadata": {
  "kernelspec": {
   "display_name": "Julia 1.7.0",
   "language": "julia",
   "name": "julia-1.7"
  },
  "language_info": {
   "file_extension": ".jl",
   "mimetype": "application/julia",
   "name": "julia",
   "version": "1.7.0"
  }
 },
 "nbformat": 4,
 "nbformat_minor": 5
}
