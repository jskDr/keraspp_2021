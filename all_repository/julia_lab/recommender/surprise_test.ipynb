{
 "cells": [
  {
   "cell_type": "code",
   "execution_count": 6,
   "id": "5daa8bf1-ba3f-4e22-98a6-384ce2a923a2",
   "metadata": {},
   "outputs": [],
   "source": [
    "from surprise import SVD \n",
    "from surprise import Dataset\n",
    "from surprise.model_selection import cross_validate\n",
    "import numpy as np"
   ]
  },
  {
   "cell_type": "code",
   "execution_count": 18,
   "id": "ccb14341-b638-4469-9da8-82795691c7ba",
   "metadata": {},
   "outputs": [
    {
     "data": {
      "text/plain": [
       "array([      195,       241,         3, 881250949])"
      ]
     },
     "execution_count": 18,
     "metadata": {},
     "output_type": "execute_result"
    }
   ],
   "source": [
    "data = Dataset.load_builtin('ml-100k', prompt=False)\n",
    "raw_data = np.array(data.raw_ratings, dtype=int)\n",
    "raw_data[:,0] -= 1\n",
    "raw_data[:,1] -= 1\n",
    "\n",
    "raw_data[0,:]"
   ]
  },
  {
   "cell_type": "code",
   "execution_count": 19,
   "id": "d435e616-5805-4500-8b0f-48c2ad0fede1",
   "metadata": {},
   "outputs": [
    {
     "data": {
      "text/plain": [
       "(100000, (943, 1682))"
      ]
     },
     "execution_count": 19,
     "metadata": {},
     "output_type": "execute_result"
    }
   ],
   "source": [
    "n_events = raw_data.shape[0]\n",
    "n_users = np.max(raw_data[:,0])\n",
    "n_movies = np.max(raw_data[:,1])\n",
    "shape = (n_users + 1, n_movies + 1)\n",
    "n_events, shape"
   ]
  },
  {
   "cell_type": "code",
   "execution_count": 24,
   "id": "a756dece-65ba-4476-8b00-4c2abf408056",
   "metadata": {},
   "outputs": [
    {
     "name": "stdout",
     "output_type": "stream",
     "text": [
      "(943, 1682)\n"
     ]
    },
    {
     "data": {
      "text/plain": [
       "array([[1, 1, 1, ..., 0, 0, 0],\n",
       "       [1, 0, 0, ..., 0, 0, 0],\n",
       "       [0, 0, 0, ..., 0, 0, 0],\n",
       "       ...,\n",
       "       [1, 0, 0, ..., 0, 0, 0],\n",
       "       [0, 0, 0, ..., 0, 0, 0],\n",
       "       [0, 1, 0, ..., 0, 0, 0]])"
      ]
     },
     "execution_count": 24,
     "metadata": {},
     "output_type": "execute_result"
    }
   ],
   "source": [
    "rc_matrix = np.ndarray(shape, dtype=int)\n",
    "print(rc_matrix.shape)\n",
    "\n",
    "for user_id, movie_id, rating, time in raw_data:\n",
    "    rc_matrix[user_id, movie_id] = 1\n",
    "rc_matrix"
   ]
  },
  {
   "cell_type": "code",
   "execution_count": null,
   "id": "77d07dca-014d-4a04-9f29-bc8f5b509bc5",
   "metadata": {},
   "outputs": [],
   "source": []
  }
 ],
 "metadata": {
  "kernelspec": {
   "display_name": "recommender",
   "language": "python",
   "name": "recommender"
  },
  "language_info": {
   "codemirror_mode": {
    "name": "ipython",
    "version": 3
   },
   "file_extension": ".py",
   "mimetype": "text/x-python",
   "name": "python",
   "nbconvert_exporter": "python",
   "pygments_lexer": "ipython3",
   "version": "3.9.7"
  }
 },
 "nbformat": 4,
 "nbformat_minor": 5
}
