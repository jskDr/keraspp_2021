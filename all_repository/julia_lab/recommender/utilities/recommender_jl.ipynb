{
 "cells": [
  {
   "cell_type": "code",
   "execution_count": 1,
   "id": "2e10c569-360b-4f0d-8de7-8d23c90155cd",
   "metadata": {},
   "outputs": [],
   "source": [
    "using Recommendation\n",
    "using SparseArrays"
   ]
  },
  {
   "cell_type": "code",
   "execution_count": 19,
   "id": "39381159-8353-4058-af81-a304ae8bc202",
   "metadata": {},
   "outputs": [
    {
     "data": {
      "text/plain": [
       "DataAccessor(Event[Event(1, 2, 1.0), Event(3, 2, 1.0), Event(2, 1, 1.0), Event(1, 1, 1.0)], [1.0 1.0 NaN; 1.0 NaN NaN; NaN 1.0 NaN], Dict{Int64, Any}(), Dict{Int64, Any}())"
      ]
     },
     "execution_count": 19,
     "metadata": {},
     "output_type": "execute_result"
    }
   ],
   "source": [
    "#data = DataAccessor(sparse([1 0 0; 4 5 0]))\n",
    "n_user, n_item = 3, 3\n",
    "events = [Event(1, 2, 1), Event(3, 2, 1), Event(2, 1, 1), Event(1, 1, 1)]\n",
    "data = DataAccessor(events, n_user, n_item)"
   ]
  },
  {
   "cell_type": "code",
   "execution_count": 20,
   "id": "ea060990-632c-4592-be40-4f1812f256e2",
   "metadata": {},
   "outputs": [
    {
     "data": {
      "text/plain": [
       "2-element Vector{Pair{Int64, Float64}}:\n",
       " 2 => 3.0\n",
       " 3 => 3.0"
      ]
     },
     "execution_count": 20,
     "metadata": {},
     "output_type": "execute_result"
    }
   ],
   "source": [
    "recommender = MostPopular(data)\n",
    "build!(recommender)\n",
    "recommend(recommender, 1, 2, collect(1:n_item))"
   ]
  },
  {
   "cell_type": "code",
   "execution_count": 38,
   "id": "9ae5c13f-fe36-481b-a9f1-49a7c1eb49a0",
   "metadata": {},
   "outputs": [
    {
     "name": "stdout",
     "output_type": "stream",
     "text": [
      "2\n"
     ]
    },
    {
     "data": {
      "text/plain": [
       "2-element Vector{Pair{Int64, Float64}}:\n",
       " 2 => NaN\n",
       " 1 => NaN"
      ]
     },
     "execution_count": 38,
     "metadata": {},
     "output_type": "execute_result"
    }
   ],
   "source": [
    "recommender = UserKNN(data, 2)\n",
    "build!(recommender)\n",
    "println(recommender.k)\n",
    "recommend(recommender, 1, 2, collect(1:n_item))"
   ]
  },
  {
   "cell_type": "code",
   "execution_count": 34,
   "id": "51e9dcd3-6d05-4110-b07e-fc7c5b9a306e",
   "metadata": {},
   "outputs": [
    {
     "name": "stdout",
     "output_type": "stream",
     "text": [
      "Union{Nothing, Float64}[-0.8164965809277258 1.6653345369377348e-16 -0.5773502691896258; -0.4082482904638631 -0.7071067811865475 0.5773502691896258; -0.40824829046386296 0.7071067811865476 0.5773502691896256]\n"
     ]
    },
    {
     "data": {
      "text/plain": [
       "2-element Vector{Pair{Int64, Float64}}:\n",
       " 1 => 0.9999999999999997\n",
       " 2 => 0.9999999999999994"
      ]
     },
     "execution_count": 34,
     "metadata": {},
     "output_type": "execute_result"
    }
   ],
   "source": [
    "recommender = SVD(data, 3)\n",
    "build!(recommender)\n",
    "println(recommender.P)\n",
    "recommend(recommender, 1, 2, collect(1:n_item))"
   ]
  },
  {
   "cell_type": "code",
   "execution_count": 32,
   "id": "5d1e8215-33fe-4c25-a4ba-f4078753c8f7",
   "metadata": {},
   "outputs": [
    {
     "name": "stdout",
     "output_type": "stream",
     "text": [
      "Union{Nothing, Float64}[0.14618071426837959 0.14618071426837959 0.14618071426837959; 0.12320047137528867 0.12320047137528867 0.12320047137528867; 0.12320365227048732 0.12320365227048732 0.12320365227048732]\n"
     ]
    },
    {
     "data": {
      "text/plain": [
       "2-element Vector{Pair{Int64, Float64}}:\n",
       " 2 => 0.06334089149829951\n",
       " 1 => 0.06334041303152818"
      ]
     },
     "execution_count": 32,
     "metadata": {},
     "output_type": "execute_result"
    }
   ],
   "source": [
    "recommender = MF(data, 3)\n",
    "build!(recommender)\n",
    "println(recommender.P)\n",
    "recommend(recommender, 1, 2, collect(1:n_item))"
   ]
  },
  {
   "cell_type": "code",
   "execution_count": 31,
   "id": "f1822af3-2ade-4640-8983-b6af618ac4a2",
   "metadata": {},
   "outputs": [
    {
     "data": {
      "text/plain": [
       "3×3 Matrix{Union{Nothing, Float64}}:\n",
       " 0.146181  0.146181  0.146181\n",
       " 0.1232    0.1232    0.1232\n",
       " 0.123204  0.123204  0.123204"
      ]
     },
     "execution_count": 31,
     "metadata": {},
     "output_type": "execute_result"
    }
   ],
   "source": [
    "recommender.P"
   ]
  },
  {
   "cell_type": "code",
   "execution_count": null,
   "id": "1b359e9f-572a-4ea1-908e-4cc703544b9b",
   "metadata": {},
   "outputs": [],
   "source": []
  }
 ],
 "metadata": {
  "kernelspec": {
   "display_name": "Julia 1.7.0",
   "language": "julia",
   "name": "julia-1.7"
  },
  "language_info": {
   "file_extension": ".jl",
   "mimetype": "application/julia",
   "name": "julia",
   "version": "1.7.0"
  }
 },
 "nbformat": 4,
 "nbformat_minor": 5
}
