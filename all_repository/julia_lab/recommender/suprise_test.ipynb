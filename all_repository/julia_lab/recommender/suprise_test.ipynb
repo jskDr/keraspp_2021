{
 "cells": [
  {
   "cell_type": "code",
   "execution_count": 3,
   "id": "595b2381-b669-4a6c-a8aa-4f895c0e040e",
   "metadata": {},
   "outputs": [],
   "source": [
    "from surprise import KNNBasic, SVD\n",
    "from surprise import Dataset\n",
    "from surprise import accuracy\n",
    "from surprise.model_selection import train_test_split\n",
    "import numpy as np"
   ]
  },
  {
   "cell_type": "code",
   "execution_count": 4,
   "id": "48410c29-58c4-4956-b571-fe465444a458",
   "metadata": {},
   "outputs": [],
   "source": [
    "data = Dataset.load_builtin('ml-100k', prompt=False)\n",
    "raw_data = np.array(data.raw_ratings, dtype=int)"
   ]
  },
  {
   "cell_type": "markdown",
   "id": "f0190214-f313-4732-acea-5652c8890576",
   "metadata": {},
   "source": [
    "## Person correlation"
   ]
  },
  {
   "cell_type": "code",
   "execution_count": 6,
   "id": "5fb9ddad-8dcf-4cc6-9d18-f5e472c3d333",
   "metadata": {},
   "outputs": [],
   "source": [
    "X = [-2, -1, 0, 1, 2]\n",
    "Y = [4, 1, 3, 2, 0]"
   ]
  },
  {
   "cell_type": "code",
   "execution_count": 7,
   "id": "cfac7130-8aae-45b6-95e6-f7879dc735f3",
   "metadata": {},
   "outputs": [
    {
     "data": {
      "text/plain": [
       "array([[ 1. , -0.7],\n",
       "       [-0.7,  1. ]])"
      ]
     },
     "execution_count": 7,
     "metadata": {},
     "output_type": "execute_result"
    }
   ],
   "source": [
    "np.corrcoef(X, Y)"
   ]
  },
  {
   "cell_type": "code",
   "execution_count": 8,
   "id": "a85bef8d-17a7-4238-b6fb-17b20c6cccf4",
   "metadata": {},
   "outputs": [
    {
     "data": {
      "text/plain": [
       "1.0"
      ]
     },
     "execution_count": 8,
     "metadata": {},
     "output_type": "execute_result"
    }
   ],
   "source": [
    "np.corrcoef(X)"
   ]
  },
  {
   "cell_type": "code",
   "execution_count": 15,
   "id": "0eda3477-87f6-438c-a1a3-aed0eff063c2",
   "metadata": {},
   "outputs": [],
   "source": [
    "W = np.array([X, Y])"
   ]
  },
  {
   "cell_type": "code",
   "execution_count": 16,
   "id": "65ca42bd-cc9c-4e85-8103-024574b4b277",
   "metadata": {},
   "outputs": [
    {
     "data": {
      "text/plain": [
       "array([[ 1. , -0.7],\n",
       "       [-0.7,  1. ]])"
      ]
     },
     "execution_count": 16,
     "metadata": {},
     "output_type": "execute_result"
    }
   ],
   "source": [
    "np.corrcoef(W)"
   ]
  },
  {
   "cell_type": "code",
   "execution_count": 17,
   "id": "bfd43e45-6a19-47fc-a404-63d8e571c50a",
   "metadata": {},
   "outputs": [
    {
     "data": {
      "text/plain": [
       "array([[-2, -1,  0,  1,  2],\n",
       "       [ 4,  1,  3,  2,  0]])"
      ]
     },
     "execution_count": 17,
     "metadata": {},
     "output_type": "execute_result"
    }
   ],
   "source": [
    "W"
   ]
  },
  {
   "cell_type": "code",
   "execution_count": 30,
   "id": "1fe93fb3-7f19-4b8e-a2c5-3ced350be89d",
   "metadata": {},
   "outputs": [],
   "source": [
    "sig_x = lambda X: np.sqrt(np.mean(np.power(X - np.mean(X),2)))\n",
    "sig_xy = lambda X, Y: np.mean(np.multiply(X-np.mean(X),Y-np.mean(Y)))\n",
    "rho_xy = lambda X, Y: sig_xy(X,Y) / (sig_x(X)*sig_x(Y))"
   ]
  },
  {
   "cell_type": "code",
   "execution_count": 31,
   "id": "9d975af2-dc4c-4ae6-a2d5-d46d04bb50e8",
   "metadata": {},
   "outputs": [
    {
     "data": {
      "text/plain": [
       "(1.4142135623730951, 1.4142135623730951, -1.4, -0.6999999999999998)"
      ]
     },
     "execution_count": 31,
     "metadata": {},
     "output_type": "execute_result"
    }
   ],
   "source": [
    "sig_x(X), sig_x(Y), sig_xy(X,Y), rho_xy(X,Y)"
   ]
  }
 ],
 "metadata": {
  "kernelspec": {
   "display_name": "recommender",
   "language": "python",
   "name": "recommender"
  },
  "language_info": {
   "codemirror_mode": {
    "name": "ipython",
    "version": 3
   },
   "file_extension": ".py",
   "mimetype": "text/x-python",
   "name": "python",
   "nbconvert_exporter": "python",
   "pygments_lexer": "ipython3",
   "version": "3.9.7"
  }
 },
 "nbformat": 4,
 "nbformat_minor": 5
}
