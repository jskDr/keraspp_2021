{
 "cells": [
  {
   "cell_type": "code",
   "execution_count": 2,
   "id": "dcb0ad83-06fa-4446-9e05-110c0ce08cd7",
   "metadata": {},
   "outputs": [],
   "source": [
    "using Pkg"
   ]
  },
  {
   "cell_type": "code",
   "execution_count": 3,
   "id": "9ba8931d-f8e9-48a0-a128-899d7c17cdd1",
   "metadata": {},
   "outputs": [
    {
     "name": "stderr",
     "output_type": "stream",
     "text": [
      "\u001b[32m\u001b[1m   Updating\u001b[22m\u001b[39m registry at `~/.julia/registries/General`\n"
     ]
    },
    {
     "name": "stdout",
     "output_type": "stream",
     "text": [
      "\u001b[?25l    "
     ]
    },
    {
     "name": "stderr",
     "output_type": "stream",
     "text": [
      "\u001b[32m\u001b[1m   Updating\u001b[22m\u001b[39m git-repo `https://github.com/JuliaRegistries/General.git`\n"
     ]
    },
    {
     "name": "stdout",
     "output_type": "stream",
     "text": [
      "\u001b[2K\u001b[?25h[1mFetching:\u001b[22m\u001b[39m [========================================>]  99.9 %\u001b[36m\u001b[1mFetching:\u001b[22m\u001b[39m [=====>                                   ]  10.4 %>                             ]  25.1 %\u001b[36m\u001b[1mFetching:\u001b[22m\u001b[39m [==============>                          ]  34.4 %>                    ]  49.1 %>              ]  63.9 % [================================>        ]  78.8 %       ]  81.7 %"
     ]
    },
    {
     "name": "stderr",
     "output_type": "stream",
     "text": [
      "\u001b[32m\u001b[1m  Resolving\u001b[22m\u001b[39m package versions...\n",
      "\u001b[32m\u001b[1m  Installed\u001b[22m\u001b[39m DiffResults ────────────────── v1.0.3\n",
      "\u001b[32m\u001b[1m  Installed\u001b[22m\u001b[39m BinaryProvider ─────────────── v0.5.10\n",
      "\u001b[32m\u001b[1m  Installed\u001b[22m\u001b[39m AbstractTrees ──────────────── v0.3.4\n",
      "\u001b[32m\u001b[1m  Installed\u001b[22m\u001b[39m Flux ───────────────────────── v0.11.1\n",
      "\u001b[32m\u001b[1m  Installed\u001b[22m\u001b[39m Colors ─────────────────────── v0.12.8\n",
      "\u001b[32m\u001b[1m  Installed\u001b[22m\u001b[39m OrderedCollections ─────────── v1.4.1\n",
      "\u001b[32m\u001b[1m  Installed\u001b[22m\u001b[39m NNlib ──────────────────────── v0.7.17\n",
      "\u001b[32m\u001b[1m  Installed\u001b[22m\u001b[39m CEnum ──────────────────────── v0.4.1\n",
      "\u001b[32m\u001b[1m  Installed\u001b[22m\u001b[39m TimerOutputs ───────────────── v0.5.13\n",
      "\u001b[32m\u001b[1m  Installed\u001b[22m\u001b[39m CompilerSupportLibraries_jll ─ v0.3.4+0\n",
      "\u001b[32m\u001b[1m  Installed\u001b[22m\u001b[39m LoopVectorization ──────────── v0.8.26\n",
      "\u001b[32m\u001b[1m  Installed\u001b[22m\u001b[39m LLVM ───────────────────────── v2.0.0\n",
      "\u001b[32m\u001b[1m  Installed\u001b[22m\u001b[39m ColorTypes ─────────────────── v0.11.0\n",
      "\u001b[32m\u001b[1m  Installed\u001b[22m\u001b[39m TranscodingStreams ─────────── v0.9.6\n",
      "\u001b[32m\u001b[1m  Installed\u001b[22m\u001b[39m DiffRules ──────────────────── v1.3.1\n",
      "\u001b[32m\u001b[1m  Installed\u001b[22m\u001b[39m IRTools ────────────────────── v0.4.3\n",
      "\u001b[32m\u001b[1m  Installed\u001b[22m\u001b[39m UnPack ─────────────────────── v1.0.2\n",
      "\u001b[32m\u001b[1m  Installed\u001b[22m\u001b[39m Compat ─────────────────────── v3.39.0\n",
      "\u001b[32m\u001b[1m  Installed\u001b[22m\u001b[39m StatsAPI ───────────────────── v1.0.0\n",
      "\u001b[32m\u001b[1m  Installed\u001b[22m\u001b[39m GPUArrays ──────────────────── v5.2.1\n",
      "\u001b[32m\u001b[1m  Installed\u001b[22m\u001b[39m CpuId ──────────────────────── v0.2.2\n",
      "\u001b[32m\u001b[1m  Installed\u001b[22m\u001b[39m ZipFile ────────────────────── v0.9.4\n",
      "\u001b[32m\u001b[1m  Installed\u001b[22m\u001b[39m CUDA ───────────────────────── v1.3.3\n",
      "\u001b[32m\u001b[1m  Installed\u001b[22m\u001b[39m FixedPointNumbers ──────────── v0.8.4\n",
      "\u001b[32m\u001b[1m  Installed\u001b[22m\u001b[39m GPUCompiler ────────────────── v0.6.1\n",
      "\u001b[32m\u001b[1m  Installed\u001b[22m\u001b[39m OffsetArrays ───────────────── v1.10.7\n",
      "\u001b[32m\u001b[1m  Installed\u001b[22m\u001b[39m Adapt ──────────────────────── v2.4.0\n",
      "\u001b[32m\u001b[1m  Installed\u001b[22m\u001b[39m CodecZlib ──────────────────── v0.7.0\n",
      "\u001b[32m\u001b[1m  Installed\u001b[22m\u001b[39m Missings ───────────────────── v1.0.2\n",
      "\u001b[32m\u001b[1m  Installed\u001b[22m\u001b[39m NaNMath ────────────────────── v0.3.5\n",
      "\u001b[32m\u001b[1m  Installed\u001b[22m\u001b[39m AbstractFFTs ───────────────── v0.5.0\n",
      "\u001b[32m\u001b[1m  Installed\u001b[22m\u001b[39m VectorizationBase ──────────── v0.12.33\n",
      "\u001b[32m\u001b[1m  Installed\u001b[22m\u001b[39m Juno ───────────────────────── v0.8.4\n",
      "\u001b[32m\u001b[1m  Installed\u001b[22m\u001b[39m ChainRulesCore ─────────────── v0.9.45\n",
      "\u001b[32m\u001b[1m  Installed\u001b[22m\u001b[39m SortingAlgorithms ──────────── v1.0.1\n",
      "\u001b[32m\u001b[1m  Installed\u001b[22m\u001b[39m DataAPI ────────────────────── v1.9.0\n",
      "\u001b[32m\u001b[1m  Installed\u001b[22m\u001b[39m OpenSpecFun_jll ────────────── v0.5.3+4\n",
      "\u001b[32m\u001b[1m  Installed\u001b[22m\u001b[39m SIMDPirates ────────────────── v0.8.26\n",
      "\u001b[32m\u001b[1m  Installed\u001b[22m\u001b[39m Functors ───────────────────── v0.1.0\n",
      "\u001b[32m\u001b[1m  Installed\u001b[22m\u001b[39m ChainRules ─────────────────── v0.7.70\n",
      "\u001b[32m\u001b[1m  Installed\u001b[22m\u001b[39m FillArrays ─────────────────── v0.10.2\n",
      "\u001b[32m\u001b[1m  Installed\u001b[22m\u001b[39m OpenLibm_jll ───────────────── v0.7.1+0\n",
      "\u001b[32m\u001b[1m  Installed\u001b[22m\u001b[39m StaticArrays ───────────────── v1.2.12\n",
      "\u001b[32m\u001b[1m  Installed\u001b[22m\u001b[39m ExprTools ──────────────────── v0.1.6\n",
      "\u001b[32m\u001b[1m  Installed\u001b[22m\u001b[39m Zlib_jll ───────────────────── v1.2.11+18\n",
      "\u001b[32m\u001b[1m  Installed\u001b[22m\u001b[39m ForwardDiff ────────────────── v0.10.19\n",
      "\u001b[32m\u001b[1m  Installed\u001b[22m\u001b[39m DataStructures ─────────────── v0.18.10\n",
      "\u001b[32m\u001b[1m  Installed\u001b[22m\u001b[39m IrrationalConstants ────────── v0.1.0\n",
      "\u001b[32m\u001b[1m  Installed\u001b[22m\u001b[39m LogExpFunctions ────────────── v0.3.0\n",
      "\u001b[32m\u001b[1m  Installed\u001b[22m\u001b[39m ZygoteRules ────────────────── v0.2.1\n",
      "\u001b[32m\u001b[1m  Installed\u001b[22m\u001b[39m Zygote ─────────────────────── v0.5.17\n",
      "\u001b[32m\u001b[1m  Installed\u001b[22m\u001b[39m StatsBase ──────────────────── v0.33.10\n",
      "\u001b[32m\u001b[1m  Installed\u001b[22m\u001b[39m CommonSubexpressions ───────── v0.3.0\n",
      "\u001b[32m\u001b[1m  Installed\u001b[22m\u001b[39m Media ──────────────────────── v0.5.0\n",
      "\u001b[32m\u001b[1m  Installed\u001b[22m\u001b[39m MacroTools ─────────────────── v0.5.8\n",
      "\u001b[32m\u001b[1m  Installed\u001b[22m\u001b[39m Reexport ───────────────────── v0.2.0\n",
      "\u001b[32m\u001b[1m  Installed\u001b[22m\u001b[39m Requires ───────────────────── v1.1.3\n",
      "\u001b[32m\u001b[1m  Installed\u001b[22m\u001b[39m DocStringExtensions ────────── v0.8.5\n",
      "\u001b[32m\u001b[1m  Installed\u001b[22m\u001b[39m SpecialFunctions ───────────── v1.7.0\n",
      "\u001b[32m\u001b[1m  Installed\u001b[22m\u001b[39m ArrayLayouts ───────────────── v0.4.12\n",
      "\u001b[32m\u001b[1m  Installed\u001b[22m\u001b[39m SLEEFPirates ───────────────── v0.5.5\n",
      "######################################################################### 100.0%##O#- #                                                                        \n",
      "######################################################################### 100.0%##O#- #                                                                        \n",
      "######################################################################### 100.0%##O#- #                                                                        \n",
      "######################################################################### 100.0%##O#- #                                                                        \n",
      "\u001b[32m\u001b[1m   Updating\u001b[22m\u001b[39m `~/.julia/environments/v1.4/Project.toml`\n",
      " \u001b[90m [587475ba]\u001b[39m\u001b[92m + Flux v0.11.1\u001b[39m\n",
      "\u001b[32m\u001b[1m   Updating\u001b[22m\u001b[39m `~/.julia/environments/v1.4/Manifest.toml`\n",
      " \u001b[90m [621f4979]\u001b[39m\u001b[92m + AbstractFFTs v0.5.0\u001b[39m\n",
      " \u001b[90m [1520ce14]\u001b[39m\u001b[92m + AbstractTrees v0.3.4\u001b[39m\n",
      " \u001b[90m [79e6a3ab]\u001b[39m\u001b[92m + Adapt v2.4.0\u001b[39m\n",
      " \u001b[90m [4c555306]\u001b[39m\u001b[92m + ArrayLayouts v0.4.12\u001b[39m\n",
      " \u001b[90m [b99e7846]\u001b[39m\u001b[92m + BinaryProvider v0.5.10\u001b[39m\n",
      " \u001b[90m [fa961155]\u001b[39m\u001b[92m + CEnum v0.4.1\u001b[39m\n",
      " \u001b[90m [052768ef]\u001b[39m\u001b[92m + CUDA v1.3.3\u001b[39m\n",
      " \u001b[90m [082447d4]\u001b[39m\u001b[92m + ChainRules v0.7.70\u001b[39m\n",
      " \u001b[90m [d360d2e6]\u001b[39m\u001b[92m + ChainRulesCore v0.9.45\u001b[39m\n",
      " \u001b[90m [944b1d66]\u001b[39m\u001b[92m + CodecZlib v0.7.0\u001b[39m\n",
      " \u001b[90m [3da002f7]\u001b[39m\u001b[92m + ColorTypes v0.11.0\u001b[39m\n",
      " \u001b[90m [5ae59095]\u001b[39m\u001b[92m + Colors v0.12.8\u001b[39m\n",
      " \u001b[90m [bbf7d656]\u001b[39m\u001b[92m + CommonSubexpressions v0.3.0\u001b[39m\n",
      " \u001b[90m [34da2185]\u001b[39m\u001b[92m + Compat v3.39.0\u001b[39m\n",
      " \u001b[90m [e66e0078]\u001b[39m\u001b[92m + CompilerSupportLibraries_jll v0.3.4+0\u001b[39m\n",
      " \u001b[90m [adafc99b]\u001b[39m\u001b[92m + CpuId v0.2.2\u001b[39m\n",
      " \u001b[90m [9a962f9c]\u001b[39m\u001b[92m + DataAPI v1.9.0\u001b[39m\n",
      " \u001b[90m [864edb3b]\u001b[39m\u001b[92m + DataStructures v0.18.10\u001b[39m\n",
      " \u001b[90m [163ba53b]\u001b[39m\u001b[92m + DiffResults v1.0.3\u001b[39m\n",
      " \u001b[90m [b552c78f]\u001b[39m\u001b[92m + DiffRules v1.3.1\u001b[39m\n",
      " \u001b[90m [ffbed154]\u001b[39m\u001b[92m + DocStringExtensions v0.8.5\u001b[39m\n",
      " \u001b[90m [e2ba6199]\u001b[39m\u001b[92m + ExprTools v0.1.6\u001b[39m\n",
      " \u001b[90m [1a297f60]\u001b[39m\u001b[92m + FillArrays v0.10.2\u001b[39m\n",
      " \u001b[90m [53c48c17]\u001b[39m\u001b[92m + FixedPointNumbers v0.8.4\u001b[39m\n",
      " \u001b[90m [587475ba]\u001b[39m\u001b[92m + Flux v0.11.1\u001b[39m\n",
      " \u001b[90m [f6369f11]\u001b[39m\u001b[92m + ForwardDiff v0.10.19\u001b[39m\n",
      " \u001b[90m [d9f16b24]\u001b[39m\u001b[92m + Functors v0.1.0\u001b[39m\n",
      " \u001b[90m [0c68f7d7]\u001b[39m\u001b[92m + GPUArrays v5.2.1\u001b[39m\n",
      " \u001b[90m [61eb1bfa]\u001b[39m\u001b[92m + GPUCompiler v0.6.1\u001b[39m\n",
      " \u001b[90m [7869d1d1]\u001b[39m\u001b[92m + IRTools v0.4.3\u001b[39m\n",
      " \u001b[90m [92d709cd]\u001b[39m\u001b[92m + IrrationalConstants v0.1.0\u001b[39m\n",
      " \u001b[90m [e5e0dc1b]\u001b[39m\u001b[92m + Juno v0.8.4\u001b[39m\n",
      " \u001b[90m [929cbde3]\u001b[39m\u001b[92m + LLVM v2.0.0\u001b[39m\n",
      " \u001b[90m [2ab3a3ac]\u001b[39m\u001b[92m + LogExpFunctions v0.3.0\u001b[39m\n",
      " \u001b[90m [bdcacae8]\u001b[39m\u001b[92m + LoopVectorization v0.8.26\u001b[39m\n",
      " \u001b[90m [1914dd2f]\u001b[39m\u001b[92m + MacroTools v0.5.8\u001b[39m\n",
      " \u001b[90m [e89f7d12]\u001b[39m\u001b[92m + Media v0.5.0\u001b[39m\n",
      " \u001b[90m [e1d29d7a]\u001b[39m\u001b[92m + Missings v1.0.2\u001b[39m\n",
      " \u001b[90m [872c559c]\u001b[39m\u001b[92m + NNlib v0.7.17\u001b[39m\n",
      " \u001b[90m [77ba4419]\u001b[39m\u001b[92m + NaNMath v0.3.5\u001b[39m\n",
      " \u001b[90m [6fe1bfb0]\u001b[39m\u001b[92m + OffsetArrays v1.10.7\u001b[39m\n",
      " \u001b[90m [05823500]\u001b[39m\u001b[92m + OpenLibm_jll v0.7.1+0\u001b[39m\n",
      " \u001b[90m [efe28fd5]\u001b[39m\u001b[92m + OpenSpecFun_jll v0.5.3+4\u001b[39m\n",
      " \u001b[90m [bac558e1]\u001b[39m\u001b[92m + OrderedCollections v1.4.1\u001b[39m\n",
      " \u001b[90m [189a3867]\u001b[39m\u001b[92m + Reexport v0.2.0\u001b[39m\n",
      " \u001b[90m [ae029012]\u001b[39m\u001b[92m + Requires v1.1.3\u001b[39m\n",
      " \u001b[90m [21efa798]\u001b[39m\u001b[92m + SIMDPirates v0.8.26\u001b[39m\n",
      " \u001b[90m [476501e8]\u001b[39m\u001b[92m + SLEEFPirates v0.5.5\u001b[39m\n",
      " \u001b[90m [a2af1166]\u001b[39m\u001b[92m + SortingAlgorithms v1.0.1\u001b[39m\n",
      " \u001b[90m [276daf66]\u001b[39m\u001b[92m + SpecialFunctions v1.7.0\u001b[39m\n",
      " \u001b[90m [90137ffa]\u001b[39m\u001b[92m + StaticArrays v1.2.12\u001b[39m\n",
      " \u001b[90m [82ae8749]\u001b[39m\u001b[92m + StatsAPI v1.0.0\u001b[39m\n",
      " \u001b[90m [2913bbd2]\u001b[39m\u001b[92m + StatsBase v0.33.10\u001b[39m\n",
      " \u001b[90m [a759f4b9]\u001b[39m\u001b[92m + TimerOutputs v0.5.13\u001b[39m\n",
      " \u001b[90m [3bb67fe8]\u001b[39m\u001b[92m + TranscodingStreams v0.9.6\u001b[39m\n",
      " \u001b[90m [3a884ed6]\u001b[39m\u001b[92m + UnPack v1.0.2\u001b[39m\n",
      " \u001b[90m [3d5dd08c]\u001b[39m\u001b[92m + VectorizationBase v0.12.33\u001b[39m\n",
      " \u001b[90m [a5390f91]\u001b[39m\u001b[92m + ZipFile v0.9.4\u001b[39m\n",
      " \u001b[90m [83775a58]\u001b[39m\u001b[92m + Zlib_jll v1.2.11+18\u001b[39m\n",
      " \u001b[90m [e88e6eb3]\u001b[39m\u001b[92m + Zygote v0.5.17\u001b[39m\n",
      " \u001b[90m [700de1a5]\u001b[39m\u001b[92m + ZygoteRules v0.2.1\u001b[39m\n",
      " \u001b[90m [8bb1440f]\u001b[39m\u001b[92m + DelimitedFiles \u001b[39m\n",
      " \u001b[90m [9abbd945]\u001b[39m\u001b[92m + Profile \u001b[39m\n",
      " \u001b[90m [1a1011a3]\u001b[39m\u001b[92m + SharedArrays \u001b[39m\n",
      " \u001b[90m [2f01184e]\u001b[39m\u001b[92m + SparseArrays \u001b[39m\n",
      " \u001b[90m [10745b16]\u001b[39m\u001b[92m + Statistics \u001b[39m\n",
      "\u001b[32m\u001b[1m   Building\u001b[22m\u001b[39m SLEEFPirates → `~/.julia/packages/SLEEFPirates/jGsib/deps/build.log`\n"
     ]
    }
   ],
   "source": [
    "Pkg.add(\"Flux\")"
   ]
  },
  {
   "cell_type": "code",
   "execution_count": 4,
   "id": "6b0ccf10-d7cb-4ff5-a960-03da958fa186",
   "metadata": {},
   "outputs": [
    {
     "name": "stderr",
     "output_type": "stream",
     "text": [
      "\u001b[32m\u001b[1m  Resolving\u001b[22m\u001b[39m package versions...\n",
      "\u001b[32m\u001b[1m  Installed\u001b[22m\u001b[39m Lz4_jll ───────── v1.9.2+2\n",
      "\u001b[32m\u001b[1m  Installed\u001b[22m\u001b[39m NetworkOptions ── v1.2.0\n",
      "\u001b[32m\u001b[1m  Installed\u001b[22m\u001b[39m LibSSH2_jll ───── v1.9.0+3\n",
      "\u001b[32m\u001b[1m  Installed\u001b[22m\u001b[39m Blosc_jll ─────── v1.21.0+0\n",
      "\u001b[32m\u001b[1m  Installed\u001b[22m\u001b[39m BinDeps ───────── v1.0.2\n",
      "\u001b[32m\u001b[1m  Installed\u001b[22m\u001b[39m DataDeps ──────── v0.7.7\n",
      "\u001b[32m\u001b[1m  Installed\u001b[22m\u001b[39m Zstd_jll ──────── v1.4.8+0\n",
      "\u001b[32m\u001b[1m  Installed\u001b[22m\u001b[39m MLDatasets ────── v0.5.11\n",
      "\u001b[32m\u001b[1m  Installed\u001b[22m\u001b[39m p7zip_jll ─────── v16.2.0+3\n",
      "\u001b[32m\u001b[1m  Installed\u001b[22m\u001b[39m URIs ──────────── v1.3.0\n",
      "\u001b[32m\u001b[1m  Installed\u001b[22m\u001b[39m HDF5_jll ──────── v1.12.0+1\n",
      "\u001b[32m\u001b[1m  Installed\u001b[22m\u001b[39m GZip ──────────── v0.5.1\n",
      "\u001b[32m\u001b[1m  Installed\u001b[22m\u001b[39m HDF5 ──────────── v0.15.6\n",
      "\u001b[32m\u001b[1m  Installed\u001b[22m\u001b[39m Blosc ─────────── v0.7.0\n",
      "\u001b[32m\u001b[1m  Installed\u001b[22m\u001b[39m URIParser ─────── v0.4.1\n",
      "\u001b[32m\u001b[1m  Installed\u001b[22m\u001b[39m LibCURL_jll ───── v7.70.0+2\n",
      "\u001b[32m\u001b[1m  Installed\u001b[22m\u001b[39m IniFile ───────── v0.5.0\n",
      "\u001b[32m\u001b[1m  Installed\u001b[22m\u001b[39m PyCall ────────── v1.92.3\n",
      "\u001b[32m\u001b[1m  Installed\u001b[22m\u001b[39m HTTP ──────────── v0.9.16\n",
      "\u001b[32m\u001b[1m  Installed\u001b[22m\u001b[39m BufferedStreams ─ v1.0.0\n",
      "\u001b[32m\u001b[1m  Installed\u001b[22m\u001b[39m nghttp2_jll ───── v1.40.0+2\n",
      "\u001b[32m\u001b[1m  Installed\u001b[22m\u001b[39m MAT ───────────── v0.10.1\n",
      "\u001b[32m\u001b[1m  Installed\u001b[22m\u001b[39m OpenSSL_jll ───── v1.1.1+6\n",
      "######################################################################### 100.0%##O#- #                                                                        \n",
      "######################################################################### 100.0%##O#- #                                                                        \n",
      "######################################################################### 100.0%##O#- #                                                                        \n",
      "######################################################################### 100.0%##O#- #                                                                        \n",
      "######################################################################### 100.0%##O#- #                                                                        \n",
      "######################################################################### 100.0%##O#- #                                                                        \n",
      "######################################################################### 100.0%##O#- #                                                                        \n",
      "######################################################################### 100.0%##O#- #                                                                        \n",
      "######################################################################### 100.0%##O#- #                                                                        \n",
      "\u001b[32m\u001b[1m   Updating\u001b[22m\u001b[39m `~/.julia/environments/v1.4/Project.toml`\n",
      " \u001b[90m [eb30cadb]\u001b[39m\u001b[92m + MLDatasets v0.5.11\u001b[39m\n",
      "\u001b[32m\u001b[1m   Updating\u001b[22m\u001b[39m `~/.julia/environments/v1.4/Manifest.toml`\n",
      " \u001b[90m [9e28174c]\u001b[39m\u001b[92m + BinDeps v1.0.2\u001b[39m\n",
      " \u001b[90m [a74b3585]\u001b[39m\u001b[92m + Blosc v0.7.0\u001b[39m\n",
      " \u001b[90m [0b7ba130]\u001b[39m\u001b[92m + Blosc_jll v1.21.0+0\u001b[39m\n",
      " \u001b[90m [e1450e63]\u001b[39m\u001b[92m + BufferedStreams v1.0.0\u001b[39m\n",
      " \u001b[90m [124859b0]\u001b[39m\u001b[92m + DataDeps v0.7.7\u001b[39m\n",
      " \u001b[90m [92fee26a]\u001b[39m\u001b[92m + GZip v0.5.1\u001b[39m\n",
      " \u001b[90m [f67ccb44]\u001b[39m\u001b[92m + HDF5 v0.15.6\u001b[39m\n",
      " \u001b[90m [0234f1f7]\u001b[39m\u001b[92m + HDF5_jll v1.12.0+1\u001b[39m\n",
      " \u001b[90m [cd3eb016]\u001b[39m\u001b[92m + HTTP v0.9.16\u001b[39m\n",
      " \u001b[90m [83e8ac13]\u001b[39m\u001b[92m + IniFile v0.5.0\u001b[39m\n",
      " \u001b[90m [deac9b47]\u001b[39m\u001b[92m + LibCURL_jll v7.70.0+2\u001b[39m\n",
      " \u001b[90m [29816b5a]\u001b[39m\u001b[92m + LibSSH2_jll v1.9.0+3\u001b[39m\n",
      " \u001b[90m [5ced341a]\u001b[39m\u001b[92m + Lz4_jll v1.9.2+2\u001b[39m\n",
      " \u001b[90m [23992714]\u001b[39m\u001b[92m + MAT v0.10.1\u001b[39m\n",
      " \u001b[90m [eb30cadb]\u001b[39m\u001b[92m + MLDatasets v0.5.11\u001b[39m\n",
      " \u001b[90m [ca575930]\u001b[39m\u001b[92m + NetworkOptions v1.2.0\u001b[39m\n",
      " \u001b[90m [458c3c95]\u001b[39m\u001b[92m + OpenSSL_jll v1.1.1+6\u001b[39m\n",
      " \u001b[90m [438e738f]\u001b[39m\u001b[92m + PyCall v1.92.3\u001b[39m\n",
      " \u001b[90m [30578b45]\u001b[39m\u001b[92m + URIParser v0.4.1\u001b[39m\n",
      " \u001b[90m [5c2747f8]\u001b[39m\u001b[92m + URIs v1.3.0\u001b[39m\n",
      " \u001b[90m [3161d3a3]\u001b[39m\u001b[92m + Zstd_jll v1.4.8+0\u001b[39m\n",
      " \u001b[90m [8e850ede]\u001b[39m\u001b[92m + nghttp2_jll v1.40.0+2\u001b[39m\n",
      " \u001b[90m [3f19e933]\u001b[39m\u001b[92m + p7zip_jll v16.2.0+3\u001b[39m\n",
      "\u001b[32m\u001b[1m   Building\u001b[22m\u001b[39m DataDeps → `~/.julia/packages/DataDeps/ooWXe/deps/build.log`\n",
      "\u001b[32m\u001b[1m   Building\u001b[22m\u001b[39m HDF5 ────→ `~/.julia/packages/HDF5/0iEnL/deps/build.log`\n",
      "\u001b[32m\u001b[1m   Building\u001b[22m\u001b[39m PyCall ──→ `~/.julia/packages/PyCall/BD546/deps/build.log`\n"
     ]
    }
   ],
   "source": [
    "Pkg.add(\"MLDatasets\")"
   ]
  },
  {
   "cell_type": "code",
   "execution_count": 5,
   "id": "47caa29c-69ae-4340-8e83-98d2a5d627a3",
   "metadata": {},
   "outputs": [
    {
     "data": {
      "text/plain": [
       "3-element Array{Int64,1}:\n",
       " 1\n",
       " 2\n",
       " 3"
      ]
     },
     "execution_count": 5,
     "metadata": {},
     "output_type": "execute_result"
    }
   ],
   "source": [
    "x = [1, 2, 3]"
   ]
  },
  {
   "cell_type": "code",
   "execution_count": 6,
   "id": "e7dca3c9-1f96-471e-aedf-ac25d67ef612",
   "metadata": {},
   "outputs": [
    {
     "data": {
      "text/plain": [
       "2×2 Array{Int64,2}:\n",
       " 1  2\n",
       " 3  4"
      ]
     },
     "execution_count": 6,
     "metadata": {},
     "output_type": "execute_result"
    }
   ],
   "source": [
    "x = [1 2; 3 4]"
   ]
  },
  {
   "cell_type": "code",
   "execution_count": 7,
   "id": "168c708b-06d9-4652-afd4-b82abc577f7d",
   "metadata": {},
   "outputs": [
    {
     "data": {
      "text/plain": [
       "5×3 Array{Float64,2}:\n",
       " 0.525118  0.668073  0.0659104\n",
       " 0.516612  0.372276  0.506458\n",
       " 0.674054  0.212838  0.195316\n",
       " 0.951924  0.043865  0.959746\n",
       " 0.95784   0.220842  0.914947"
      ]
     },
     "execution_count": 7,
     "metadata": {},
     "output_type": "execute_result"
    }
   ],
   "source": [
    "x = rand(5, 3)"
   ]
  },
  {
   "cell_type": "code",
   "execution_count": 8,
   "id": "0d07e49e-a248-4a43-a274-4ba2e5f5c1dc",
   "metadata": {},
   "outputs": [
    {
     "data": {
      "text/plain": [
       "5×3 Array{BigFloat,2}:\n",
       " 0.0775191  0.648122  0.164103\n",
       " 0.615265   0.363389  0.962286\n",
       " 0.090275   0.449237  0.337981\n",
       " 0.931619   0.415767  0.931347\n",
       " 0.783927   0.235849  0.232446"
      ]
     },
     "execution_count": 8,
     "metadata": {},
     "output_type": "execute_result"
    }
   ],
   "source": [
    "x = rand(BigFloat, 5, 3)"
   ]
  },
  {
   "cell_type": "code",
   "execution_count": 9,
   "id": "222cd710-c4ca-4d89-96bc-5215cb8383d1",
   "metadata": {},
   "outputs": [
    {
     "data": {
      "text/plain": [
       "5×3 Array{Float32,2}:\n",
       " 0.708388  0.566759  0.635116\n",
       " 0.826746  0.295709  0.2982\n",
       " 0.211264  0.99312   0.581531\n",
       " 0.969746  0.701121  0.186995\n",
       " 0.132967  0.808198  0.261864"
      ]
     },
     "execution_count": 9,
     "metadata": {},
     "output_type": "execute_result"
    }
   ],
   "source": [
    "y = rand(Float32, 5, 3)"
   ]
  },
  {
   "cell_type": "code",
   "execution_count": 10,
   "id": "aed626e9-6f85-4dc5-ae9a-0f15f2c0957c",
   "metadata": {},
   "outputs": [
    {
     "data": {
      "text/plain": [
       "15"
      ]
     },
     "execution_count": 10,
     "metadata": {},
     "output_type": "execute_result"
    }
   ],
   "source": [
    "length(x)"
   ]
  },
  {
   "cell_type": "code",
   "execution_count": 11,
   "id": "c3e50578-c1f6-40fc-a4d0-0b8c8fa3f275",
   "metadata": {},
   "outputs": [
    {
     "data": {
      "text/plain": [
       "(5, 3)"
      ]
     },
     "execution_count": 11,
     "metadata": {},
     "output_type": "execute_result"
    }
   ],
   "source": [
    "size(x)"
   ]
  },
  {
   "cell_type": "code",
   "execution_count": 12,
   "id": "a37b2f86-4040-4eef-a53c-52dde5bf0db2",
   "metadata": {},
   "outputs": [
    {
     "data": {
      "text/plain": [
       "0.962286154384433450902992834569414578290998182918475709307940755058484463721186"
      ]
     },
     "execution_count": 12,
     "metadata": {},
     "output_type": "execute_result"
    }
   ],
   "source": [
    "x\n",
    "\n",
    "x[2,3]"
   ]
  },
  {
   "cell_type": "code",
   "execution_count": 13,
   "id": "83d877c2-607e-4b94-b8cc-05a35e19d80e",
   "metadata": {},
   "outputs": [
    {
     "data": {
      "text/plain": [
       "5×3 Array{BigFloat,2}:\n",
       " 0.0775191  0.648122  0.164103\n",
       " 0.615265   0.363389  0.962286\n",
       " 0.090275   0.449237  0.337981\n",
       " 0.931619   0.415767  0.931347\n",
       " 0.783927   0.235849  0.232446"
      ]
     },
     "execution_count": 13,
     "metadata": {},
     "output_type": "execute_result"
    }
   ],
   "source": [
    "x"
   ]
  },
  {
   "cell_type": "code",
   "execution_count": 16,
   "id": "123b2433-f130-4e65-98a4-aea8bb027ec7",
   "metadata": {},
   "outputs": [
    {
     "data": {
      "text/plain": [
       "5×5 Array{Float64,2}:\n",
       " 1.0  2.0  3.0  4.0  5.0\n",
       " 1.0  2.0  3.0  4.0  5.0\n",
       " 1.0  2.0  3.0  4.0  5.0\n",
       " 1.0  2.0  3.0  4.0  5.0\n",
       " 1.0  2.0  3.0  4.0  5.0"
      ]
     },
     "execution_count": 16,
     "metadata": {},
     "output_type": "execute_result"
    }
   ],
   "source": [
    "zeros(5,5) .+ (1:5)'"
   ]
  },
  {
   "cell_type": "code",
   "execution_count": 20,
   "id": "deadd480-5d3b-431c-a84c-422eeddcfb51",
   "metadata": {},
   "outputs": [
    {
     "data": {
      "text/plain": [
       "2:6"
      ]
     },
     "execution_count": 20,
     "metadata": {},
     "output_type": "execute_result"
    }
   ],
   "source": [
    "(1:5) .+ 1"
   ]
  },
  {
   "cell_type": "code",
   "execution_count": 21,
   "id": "5603ff4c-b334-4dfb-9841-2c966b092757",
   "metadata": {},
   "outputs": [
    {
     "data": {
      "text/plain": [
       "5-element Array{Float64,1}:\n",
       " -1.7441688143614578\n",
       " -2.637730297016099\n",
       "  1.6117730218129178\n",
       " -1.0293704136961424\n",
       " -1.627350430697382"
      ]
     },
     "execution_count": 21,
     "metadata": {},
     "output_type": "execute_result"
    }
   ],
   "source": [
    "W = randn(5, 10)\n",
    "x = rand(10)\n",
    "W*x"
   ]
  },
  {
   "cell_type": "code",
   "execution_count": 25,
   "id": "04532a0a-e229-4d7d-8d50-09254f67c883",
   "metadata": {},
   "outputs": [
    {
     "name": "stderr",
     "output_type": "stream",
     "text": [
      "┌ Info: Precompiling CUDA [052768ef-5323-5732-b1bb-66c8b64840ba]\n",
      "└ @ Base loading.jl:1260\n"
     ]
    }
   ],
   "source": [
    "using CUDA"
   ]
  },
  {
   "cell_type": "code",
   "execution_count": 23,
   "id": "64d7ec63-f3e1-439e-830d-52138193ff14",
   "metadata": {},
   "outputs": [],
   "source": [
    "import Pkg"
   ]
  },
  {
   "cell_type": "code",
   "execution_count": 24,
   "id": "6dd6f7fb-c87c-4fa3-b414-194dbdc28635",
   "metadata": {},
   "outputs": [
    {
     "name": "stderr",
     "output_type": "stream",
     "text": [
      "\u001b[32m\u001b[1m  Resolving\u001b[22m\u001b[39m package versions...\n",
      "\u001b[32m\u001b[1m   Updating\u001b[22m\u001b[39m `~/.julia/environments/v1.4/Project.toml`\n",
      " \u001b[90m [052768ef]\u001b[39m\u001b[92m + CUDA v1.3.3\u001b[39m\n",
      "\u001b[32m\u001b[1m   Updating\u001b[22m\u001b[39m `~/.julia/environments/v1.4/Manifest.toml`\n",
      "\u001b[90m [no changes]\u001b[39m\n"
     ]
    }
   ],
   "source": [
    "Pkg.add(\"CUDA\")"
   ]
  },
  {
   "cell_type": "code",
   "execution_count": 26,
   "id": "7982f99a-7125-444a-852e-b784425989ae",
   "metadata": {},
   "outputs": [
    {
     "name": "stderr",
     "output_type": "stream",
     "text": [
      "┌ Error: Could not initialize CUDA\n",
      "│   exception = (CuError(CUDA.CUDA_ERROR_NO_DEVICE, nothing), Union{Ptr{Nothing}, Base.InterpreterIP}[Ptr{Nothing} @0x00007f3d481d4fde, Ptr{Nothing} @0x00007f3d481df098, Ptr{Nothing} @0x00007f3d4820094e, Ptr{Nothing} @0x00007f3d481dd64e, Ptr{Nothing} @0x00007f3d481dd7d4, Ptr{Nothing} @0x00007f3d481d49d1, Ptr{Nothing} @0x00007f3d481d4ad8, Ptr{Nothing} @0x00007f3d481dcea9, Ptr{Nothing} @0x00007f3d481dd1a7, Ptr{Nothing} @0x00007f3d481dcd80, Ptr{Nothing} @0x00007f3d481dcdf2, Ptr{Nothing} @0x00007f3d481dab21, Ptr{Nothing} @0x00007f3d481dc1a4, Ptr{Nothing} @0x00007f3d481d490b, Ptr{Nothing} @0x00007f3d8134b75b, Ptr{Nothing} @0x00007f3d8134b389, Ptr{Nothing} @0x00007f3d8134b8f0, Ptr{Nothing} @0x00007f3d8134c9c8, Ptr{Nothing} @0x00007f3d8134d616, Base.InterpreterIP in top-level CodeInfo for Main at statement 1, Ptr{Nothing} @0x00007f3d81365e08, Ptr{Nothing} @0x00007f3d81366f20, Ptr{Nothing} @0x00007f3d481ccef5, Ptr{Nothing} @0x00007f3d481cb83e, Ptr{Nothing} @0x00007f3d81343df8, Ptr{Nothing} @0x00007f3d81344565, Ptr{Nothing} @0x00007f3d5740bd32, Ptr{Nothing} @0x00007f3d5740bf0e, Ptr{Nothing} @0x00007f3d5740bf2c, Ptr{Nothing} @0x00007f3d81350cbb, Ptr{Nothing} @0x0000000000000000])\n",
      "└ @ CUDA /home/sjkim/.julia/packages/CUDA/dZvbp/src/initialization.jl:97\n"
     ]
    },
    {
     "ename": "AssertionError",
     "evalue": "\u001b[91mAssertionError: CUDA.jl did not successfully initialize, and is not usable.\u001b[39m",
     "output_type": "error",
     "traceback": [
      "\u001b[91mAssertionError: CUDA.jl did not successfully initialize, and is not usable.\u001b[39m",
      "",
      "Stacktrace:",
      " [1] libcuda at /home/sjkim/.julia/packages/CUDA/dZvbp/src/initialization.jl:50 [inlined]",
      " [2] (::CUDA.var\"#581#cache_fptr!#9\")() at /home/sjkim/.julia/packages/CUDA/dZvbp/lib/utils/call.jl:31",
      " [3] macro expansion at /home/sjkim/.julia/packages/CUDA/dZvbp/lib/utils/call.jl:39 [inlined]",
      " [4] macro expansion at /home/sjkim/.julia/packages/CUDA/dZvbp/lib/cudadrv/libcuda.jl:34 [inlined]",
      " [5] macro expansion at /home/sjkim/.julia/packages/CUDA/dZvbp/lib/cudadrv/error.jl:108 [inlined]",
      " [6] cuDeviceGet(::Base.RefValue{Int32}, ::Int64) at /home/sjkim/.julia/packages/CUDA/dZvbp/lib/utils/call.jl:93",
      " [7] CuDevice at /home/sjkim/.julia/packages/CUDA/dZvbp/lib/cudadrv/devices.jl:25 [inlined]",
      " [8] initialize_thread(::Int64) at /home/sjkim/.julia/packages/CUDA/dZvbp/src/state.jl:121",
      " [9] prepare_cuda_call at /home/sjkim/.julia/packages/CUDA/dZvbp/src/state.jl:80 [inlined]",
      " [10] device at /home/sjkim/.julia/packages/CUDA/dZvbp/src/state.jl:227 [inlined]",
      " [11] alloc at /home/sjkim/.julia/packages/CUDA/dZvbp/src/pool.jl:293 [inlined]",
      " [12] CuArray{Float32,2}(::UndefInitializer, ::Tuple{Int64,Int64}) at /home/sjkim/.julia/packages/CUDA/dZvbp/src/array.jl:116",
      " [13] CuArray at /home/sjkim/.julia/packages/CUDA/dZvbp/src/array.jl:124 [inlined]",
      " [14] similar at ./abstractarray.jl:671 [inlined]",
      " [15] convert(::Type{CuArray{Float32,N} where N}, ::Array{Float64,2}) at /home/sjkim/.julia/packages/GPUArrays/uaFZh/src/host/construction.jl:82",
      " [16] adapt_storage at /home/sjkim/.julia/packages/CUDA/dZvbp/src/array.jl:344 [inlined]",
      " [17] adapt_structure at /home/sjkim/.julia/packages/Adapt/wV9Dx/src/Adapt.jl:42 [inlined]",
      " [18] adapt at /home/sjkim/.julia/packages/Adapt/wV9Dx/src/Adapt.jl:40 [inlined]",
      " [19] cu(::Array{Float64,2}) at /home/sjkim/.julia/packages/CUDA/dZvbp/src/array.jl:347",
      " [20] top-level scope at In[26]:1"
     ]
    }
   ],
   "source": [
    "x = cu(rand(5,3))"
   ]
  },
  {
   "cell_type": "code",
   "execution_count": 27,
   "id": "8cb01e41-13bd-47ab-98bf-d10271e3834e",
   "metadata": {},
   "outputs": [
    {
     "data": {
      "text/plain": [
       "86"
      ]
     },
     "execution_count": 27,
     "metadata": {},
     "output_type": "execute_result"
    }
   ],
   "source": [
    "f(x) = 3x^2 + 2x + 1\n",
    "f(5)"
   ]
  },
  {
   "cell_type": "code",
   "execution_count": 28,
   "id": "20036f6a-d8b7-4f0f-ba72-2e54d2c11d2d",
   "metadata": {},
   "outputs": [
    {
     "name": "stderr",
     "output_type": "stream",
     "text": [
      "┌ Info: Precompiling Flux [587475ba-b771-5e3f-ad9e-33799f191a9c]\n",
      "└ @ Base loading.jl:1260\n",
      "WARNING: importing deprecated binding ChainRulesCore.Composite into ChainRules.\n",
      "WARNING: ChainRulesCore.Composite is deprecated, use Tangent instead.\n",
      "  likely near /home/sjkim/.julia/packages/Zygote/ggM8Z/src/compiler/chainrules.jl:46\n",
      "WARNING: ChainRulesCore.Composite is deprecated, use Tangent instead.\n",
      "  likely near /home/sjkim/.julia/packages/Zygote/ggM8Z/src/compiler/chainrules.jl:46\n",
      "WARNING: importing deprecated binding ChainRulesCore.AbstractDifferential into ChainRules.\n",
      "WARNING: importing deprecated binding ChainRulesCore.DoesNotExist into ChainRules.\n",
      "WARNING: importing deprecated binding ChainRulesCore.Zero into ChainRules.\n"
     ]
    }
   ],
   "source": [
    "using Flux: gradient"
   ]
  },
  {
   "cell_type": "code",
   "execution_count": 29,
   "id": "3c768e23-302f-4925-9d47-7345b153883a",
   "metadata": {},
   "outputs": [
    {
     "data": {
      "text/plain": [
       "df (generic function with 1 method)"
      ]
     },
     "execution_count": 29,
     "metadata": {},
     "output_type": "execute_result"
    }
   ],
   "source": [
    "df(x) = gradient(f, x)[1]"
   ]
  },
  {
   "cell_type": "code",
   "execution_count": 30,
   "id": "a1b43813-4745-4db2-bea5-088e7b61a48b",
   "metadata": {},
   "outputs": [
    {
     "data": {
      "text/plain": [
       "32"
      ]
     },
     "execution_count": 30,
     "metadata": {},
     "output_type": "execute_result"
    }
   ],
   "source": [
    "df(5)"
   ]
  },
  {
   "cell_type": "code",
   "execution_count": null,
   "id": "3ac6d698-d819-4db9-bb26-3643b09f1221",
   "metadata": {},
   "outputs": [],
   "source": []
  }
 ],
 "metadata": {
  "kernelspec": {
   "display_name": "Julia 1.4.1",
   "language": "julia",
   "name": "julia-1.4"
  },
  "language_info": {
   "file_extension": ".jl",
   "mimetype": "application/julia",
   "name": "julia",
   "version": "1.4.1"
  }
 },
 "nbformat": 4,
 "nbformat_minor": 5
}
