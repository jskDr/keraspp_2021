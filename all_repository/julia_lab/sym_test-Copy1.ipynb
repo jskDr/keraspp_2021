{
 "cells": [
  {
   "cell_type": "code",
   "execution_count": 1,
   "id": "7c40083f-69e9-4d16-9a61-7168c48f4da3",
   "metadata": {},
   "outputs": [],
   "source": [
    "using Symbolics"
   ]
  },
  {
   "cell_type": "code",
   "execution_count": 2,
   "id": "5e6f7f08-a4e6-475e-80c6-d682b567bbaa",
   "metadata": {},
   "outputs": [
    {
     "data": {
      "text/latex": [
       "\\begin{equation}\n",
       "\\left[\n",
       "\\begin{array}{c}\n",
       "t \\\\\n",
       "x \\\\\n",
       "y \\\\\n",
       "\\end{array}\n",
       "\\right]\n",
       "\\end{equation}\n"
      ],
      "text/plain": [
       "3-element Vector{Num}:\n",
       " t\n",
       " x\n",
       " y"
      ]
     },
     "execution_count": 2,
     "metadata": {},
     "output_type": "execute_result"
    }
   ],
   "source": [
    "@variables t x y"
   ]
  },
  {
   "cell_type": "code",
   "execution_count": 3,
   "id": "b3b6319a-cb2d-4063-a028-1bf097431197",
   "metadata": {},
   "outputs": [
    {
     "data": {
      "text/plain": [
       "(::Differential) (generic function with 2 methods)"
      ]
     },
     "execution_count": 3,
     "metadata": {},
     "output_type": "execute_result"
    }
   ],
   "source": [
    "D = Differential(t)"
   ]
  },
  {
   "cell_type": "code",
   "execution_count": 6,
   "id": "ce2986c3-84c1-484d-9089-fbc852640f0d",
   "metadata": {},
   "outputs": [
    {
     "data": {
      "text/latex": [
       "\\begin{equation}\n",
       "t + t^{2}\n",
       "\\end{equation}\n"
      ],
      "text/plain": [
       "t + t^2"
      ]
     },
     "execution_count": 6,
     "metadata": {},
     "output_type": "execute_result"
    }
   ],
   "source": [
    "z = t + t^2"
   ]
  },
  {
   "cell_type": "code",
   "execution_count": 7,
   "id": "3d5402fc-0fd2-4c7e-9cbd-720b9e943d66",
   "metadata": {},
   "outputs": [
    {
     "data": {
      "text/latex": [
       "\\begin{equation}\n",
       "\\mathrm{\\frac{d}{d t}}\\left( t + t^{2} \\right)\n",
       "\\end{equation}\n"
      ],
      "text/plain": [
       "Differential(t)(t + t^2)"
      ]
     },
     "execution_count": 7,
     "metadata": {},
     "output_type": "execute_result"
    }
   ],
   "source": [
    "D(z)"
   ]
  },
  {
   "cell_type": "code",
   "execution_count": 8,
   "id": "4d578773-6d7a-4fcd-ab2b-12f07cb299f4",
   "metadata": {},
   "outputs": [
    {
     "data": {
      "text/latex": [
       "\\begin{equation}\n",
       "1 + 2 t\n",
       "\\end{equation}\n"
      ],
      "text/plain": [
       "1 + 2t"
      ]
     },
     "execution_count": 8,
     "metadata": {},
     "output_type": "execute_result"
    }
   ],
   "source": [
    "expand_derivatives(D(z))"
   ]
  },
  {
   "cell_type": "code",
   "execution_count": 9,
   "id": "a3259af7-a402-42dd-8916-32be735eec51",
   "metadata": {},
   "outputs": [
    {
     "data": {
      "text/latex": [
       "\\begin{equation}\n",
       "\\left[\n",
       "\\begin{array}{cc}\n",
       "1 + y & x \\\\\n",
       "2 x & 1 \\\\\n",
       "\\end{array}\n",
       "\\right]\n",
       "\\end{equation}\n"
      ],
      "text/plain": [
       "2×2 Matrix{Num}:\n",
       " 1 + y  x\n",
       "    2x  1"
      ]
     },
     "execution_count": 9,
     "metadata": {},
     "output_type": "execute_result"
    }
   ],
   "source": [
    "Symbolics.jacobian([x + x*y, x^2 + y], [x, y])"
   ]
  },
  {
   "cell_type": "code",
   "execution_count": 11,
   "id": "ccfb777b-8e78-4c65-ad10-6b3eca5fb2fd",
   "metadata": {},
   "outputs": [
    {
     "data": {
      "text/latex": [
       "\\begin{equation}\n",
       "\\left[\n",
       "\\begin{array}{cc}\n",
       "t + 2 t^{2} & 6 t \\\\\n",
       "x + 2 t + 2 y & y^{2} \\\\\n",
       "\\end{array}\n",
       "\\right]\n",
       "\\end{equation}\n"
      ],
      "text/plain": [
       "2×2 Matrix{Num}:\n",
       "  t + 2(t^2)   6t\n",
       " x + 2t + 2y  y^2"
      ]
     },
     "execution_count": 11,
     "metadata": {},
     "output_type": "execute_result"
    }
   ],
   "source": [
    "B = simplify.([t^2 + t + t^2 2t + 4t; x + y + y + 2t x^2 - x^2 + y^2])"
   ]
  },
  {
   "cell_type": "code",
   "execution_count": 12,
   "id": "4011637f-b95c-4b43-9d46-f35eaa617309",
   "metadata": {},
   "outputs": [
    {
     "data": {
      "text/latex": [
       "\\begin{equation}\n",
       "\\left[\n",
       "\\begin{array}{cc}\n",
       "t + 2 t^{2} & 6 t \\\\\n",
       "2 t + y^{2} + 2 y & y^{2} \\\\\n",
       "\\end{array}\n",
       "\\right]\n",
       "\\end{equation}\n"
      ],
      "text/plain": [
       "2×2 Matrix{Num}:\n",
       "    t + 2(t^2)   6t\n",
       " 2t + y^2 + 2y  y^2"
      ]
     },
     "execution_count": 12,
     "metadata": {},
     "output_type": "execute_result"
    }
   ],
   "source": [
    "simplify.(substitute.(B, (Dict(x=>y^2),)))"
   ]
  },
  {
   "cell_type": "code",
   "execution_count": 13,
   "id": "1e1af282-fe07-4b59-9599-e23cc65ef905",
   "metadata": {},
   "outputs": [
    {
     "data": {
      "text/latex": [
       "\\begin{equation}\n",
       "\\left[\n",
       "\\begin{array}{cc}\n",
       "36.0 & 24.0 \\\\\n",
       "16.0 & 9.0 \\\\\n",
       "\\end{array}\n",
       "\\right]\n",
       "\\end{equation}\n"
      ],
      "text/plain": [
       "2×2 Matrix{Num}:\n",
       " 36.0  24.0\n",
       " 16.0   9.0"
      ]
     },
     "execution_count": 13,
     "metadata": {},
     "output_type": "execute_result"
    }
   ],
   "source": [
    "substitute.(B, (Dict(x => 2.0, y=>3.0, t=>4.0),))"
   ]
  },
  {
   "cell_type": "markdown",
   "id": "67c23305-5729-4fd5-b667-6bb8fdab8670",
   "metadata": {},
   "source": [
    "# SymbolivUtils"
   ]
  },
  {
   "cell_type": "code",
   "execution_count": 16,
   "id": "718106b3-35f4-42c7-bddb-6ee2279f2837",
   "metadata": {},
   "outputs": [
    {
     "name": "stderr",
     "output_type": "stream",
     "text": [
      "\u001b[32m\u001b[1m    Updating\u001b[22m\u001b[39m registry at `~/.julia/registries/General`\n",
      "\u001b[32m\u001b[1m    Updating\u001b[22m\u001b[39m git-repo `https://github.com/JuliaRegistries/General.git`\n",
      "\u001b[32m\u001b[1m   Resolving\u001b[22m\u001b[39m package versions...\n",
      "\u001b[32m\u001b[1m   Installed\u001b[22m\u001b[39m SymbolicUtils ─ v0.18.2\n",
      "\u001b[32m\u001b[1m    Updating\u001b[22m\u001b[39m `~/.julia/environments/v1.7/Project.toml`\n",
      " \u001b[90m [d1185830] \u001b[39m\u001b[92m+ SymbolicUtils v0.18.2\u001b[39m\n",
      "\u001b[32m\u001b[1m    Updating\u001b[22m\u001b[39m `~/.julia/environments/v1.7/Manifest.toml`\n",
      " \u001b[90m [d1185830] \u001b[39m\u001b[93m↑ SymbolicUtils v0.18.1 ⇒ v0.18.2\u001b[39m\n",
      "\u001b[32m\u001b[1mPrecompiling\u001b[22m\u001b[39m project...\n",
      "\u001b[33m  ✓ \u001b[39mSymbolicUtils\n",
      "\u001b[33m  ✓ \u001b[39mSymbolics\n",
      "  2 dependencies successfully precompiled in 30 seconds (192 already precompiled)\n",
      "  \u001b[33m2\u001b[39m dependencies precompiled but different versions are currently loaded. Restart julia to access the new versions\n"
     ]
    }
   ],
   "source": [
    "import Pkg\n",
    "Pkg.add(\"SymbolicUtils\")"
   ]
  },
  {
   "cell_type": "code",
   "execution_count": 17,
   "id": "b313d908-1fe0-45be-8737-c13d10ec509e",
   "metadata": {},
   "outputs": [],
   "source": [
    "using SymbolicUtils"
   ]
  },
  {
   "cell_type": "code",
   "execution_count": 18,
   "id": "82f826c3-44c5-4f7b-86cf-87f3b232475f",
   "metadata": {},
   "outputs": [
    {
     "data": {
      "text/plain": [
       "true"
      ]
     },
     "execution_count": 18,
     "metadata": {},
     "output_type": "execute_result"
    }
   ],
   "source": [
    "SymbolicUtils.show_simplified[] = true"
   ]
  },
  {
   "cell_type": "code",
   "execution_count": 19,
   "id": "eee570c6-fe12-4863-b278-654be1c464a4",
   "metadata": {},
   "outputs": [
    {
     "data": {
      "text/plain": [
       "(x, y, z, f)"
      ]
     },
     "execution_count": 19,
     "metadata": {},
     "output_type": "execute_result"
    }
   ],
   "source": [
    "@syms x::Real y::Real z::Complex f(::Number)::Real"
   ]
  },
  {
   "cell_type": "code",
   "execution_count": 20,
   "id": "ad60794a-bdcb-4cfd-896c-9aba5da945af",
   "metadata": {},
   "outputs": [
    {
     "data": {
      "text/latex": [
       "\\begin{equation}\n",
       " - y + 3 x^{2}\n",
       "\\end{equation}\n"
      ],
      "text/plain": [
       "3(x^2) - y"
      ]
     },
     "execution_count": 20,
     "metadata": {},
     "output_type": "execute_result"
    }
   ],
   "source": [
    "2x^2 - y + x^2"
   ]
  },
  {
   "cell_type": "code",
   "execution_count": 21,
   "id": "f0861ca7-c10c-4f56-9be8-1009ba940c19",
   "metadata": {},
   "outputs": [
    {
     "data": {
      "text/latex": [
       "\\begin{equation}\n",
       "z + f\\left( \\cos^{2}\\left( x \\right) + \\sin^{2}\\left( x \\right) \\right)\n",
       "\\end{equation}\n"
      ],
      "text/plain": [
       "z + f(1)"
      ]
     },
     "execution_count": 21,
     "metadata": {},
     "output_type": "execute_result"
    }
   ],
   "source": [
    "f(sin(x)^2 + cos(x)^2) + z"
   ]
  },
  {
   "cell_type": "code",
   "execution_count": 22,
   "id": "9303b72a-b4a0-4db7-a17a-42189356216a",
   "metadata": {},
   "outputs": [
    {
     "data": {
      "text/plain": [
       "sinh(im * ~x) => sin(~x)"
      ]
     },
     "execution_count": 22,
     "metadata": {},
     "output_type": "execute_result"
    }
   ],
   "source": [
    "r = @rule sinh(im * ~x) => sin(~x)"
   ]
  },
  {
   "cell_type": "code",
   "execution_count": 23,
   "id": "0758c6d8-227d-406d-a12e-9ce6a2eee9c2",
   "metadata": {},
   "outputs": [
    {
     "data": {
      "text/latex": [
       "\\begin{equation}\n",
       "\\sin\\left( y \\right)\n",
       "\\end{equation}\n"
      ],
      "text/plain": [
       "sin(y)"
      ]
     },
     "execution_count": 23,
     "metadata": {},
     "output_type": "execute_result"
    }
   ],
   "source": [
    "r(sinh(im*y))"
   ]
  },
  {
   "cell_type": "code",
   "execution_count": null,
   "id": "f3ca9873-95a3-4f48-b22c-8e470d0c8357",
   "metadata": {},
   "outputs": [],
   "source": [
    "simplify(cos(y)^2 + sinh(im*y)"
   ]
  }
 ],
 "metadata": {
  "kernelspec": {
   "display_name": "Julia 1.7.0",
   "language": "julia",
   "name": "julia-1.7"
  },
  "language_info": {
   "file_extension": ".jl",
   "mimetype": "application/julia",
   "name": "julia",
   "version": "1.7.0"
  }
 },
 "nbformat": 4,
 "nbformat_minor": 5
}
