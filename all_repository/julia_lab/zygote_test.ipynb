{
 "cells": [
  {
   "cell_type": "code",
   "execution_count": 1,
   "metadata": {},
   "outputs": [],
   "source": [
    "using Zygote\n",
    "using LinearAlgebra"
   ]
  },
  {
   "cell_type": "markdown",
   "metadata": {},
   "source": [
    "# Single Loop"
   ]
  },
  {
   "cell_type": "code",
   "execution_count": 4,
   "metadata": {},
   "outputs": [
    {
     "data": {
      "text/plain": [
       "2×3 Matrix{Float64}:\n",
       "  0.369521   0.677847   0.122686\n",
       " -0.398731  -0.731428  -0.132383"
      ]
     },
     "execution_count": 4,
     "metadata": {},
     "output_type": "execute_result"
    }
   ],
   "source": [
    "M, N = 2, 3\n",
    "W = rand(M, N)\n",
    "x = rand(N)\n",
    "W_opt = Matrix{Float64}(I, M, N)\n",
    "y(W,x) = W*x\n",
    "e(W,x) = y(W,x) - W_opt*x\n",
    "cost(W,x) = sum(e(W,x)'*e(W,x))\n",
    "gradient(W -> cost(W,x), W)[1]"
   ]
  },
  {
   "cell_type": "markdown",
   "metadata": {},
   "source": [
    "# Multiple Loop"
   ]
  },
  {
   "cell_type": "code",
   "execution_count": 26,
   "metadata": {},
   "outputs": [
    {
     "name": "stdout",
     "output_type": "stream",
     "text": [
      "MSE of eW = 2.972128082058444e-17\n"
     ]
    }
   ],
   "source": [
    "M, N = 2, 3\n",
    "W = rand(M, N)\n",
    "W_opt = Matrix{Float64}(I, M, N)\n",
    "mu = 0.1\n",
    "\n",
    "function gupdate(W,x)\n",
    "    x = rand(N)\n",
    "    y(W,x) = W*x\n",
    "    e(W,x) = y(W,x) - W_opt*x\n",
    "    cost(W,x) = sum(e(W,x)'*e(W,x))\n",
    "    delta = gradient(W -> cost(W,x), W)[1]\n",
    "    # println(\"cost = \", cost(W,x))\n",
    "    # println(delta)\n",
    "    # println(W)\n",
    "    # println(\"MSE of eW = \", sum(eW'*eW))\n",
    "    W -= mu * delta\n",
    "end\n",
    "    \n",
    "for iter = 1:1000\n",
    "    W = gupdate(W,x)\n",
    "end\n",
    "\n",
    "eW = W_opt - W\n",
    "println(\"MSE of eW = \", sum(eW'*eW))"
   ]
  },
  {
   "cell_type": "code",
   "execution_count": 39,
   "metadata": {},
   "outputs": [
    {
     "name": "stdout",
     "output_type": "stream",
     "text": [
      "MSE of eW = 4.662595743270716e-32\n"
     ]
    }
   ],
   "source": [
    "M, N = 100, 20\n",
    "W = rand(M, N)\n",
    "W_opt = Matrix{Float64}(I, M, N)\n",
    "mu = 0.1\n",
    "\n",
    "function gupdate(W,x)\n",
    "    x = rand(N)\n",
    "    y(W,x) = W*x\n",
    "    e(W,x) = y(W,x) - W_opt*x\n",
    "    cost(W,x) = sum(e(W,x)'*e(W,x))\n",
    "    delta = gradient(W -> cost(W,x), W)[1]\n",
    "    # println(\"cost = \", cost(W,x))\n",
    "    # println(delta)\n",
    "    # println(W)\n",
    "    # println(\"MSE of eW = \", sum(eW'*eW))\n",
    "    W - mu * delta\n",
    "end\n",
    "    \n",
    "for iter = 1:10000\n",
    "    W = gupdate(W,x)\n",
    "end\n",
    "\n",
    "eW = W_opt - W\n",
    "println(\"MSE of eW = \", sum(eW'*eW))"
   ]
  },
  {
   "cell_type": "code",
   "execution_count": 31,
   "metadata": {},
   "outputs": [
    {
     "data": {
      "text/plain": [
       "(100, 10)"
      ]
     },
     "execution_count": 31,
     "metadata": {},
     "output_type": "execute_result"
    }
   ],
   "source": [
    "size(W)"
   ]
  },
  {
   "cell_type": "code",
   "execution_count": 40,
   "metadata": {},
   "outputs": [
    {
     "name": "stdout",
     "output_type": "stream",
     "text": [
      "MSE of eW = 2.5177987326917055e-35\n"
     ]
    }
   ],
   "source": [
    "M, N = 2, 3\n",
    "W = rand(M, N)\n",
    "W_opt = Matrix{Float64}(I, M, N)\n",
    "mu = 0.1\n",
    "\n",
    "function gupdate(W,x)\n",
    "    x = rand(N)\n",
    "    y(W,x) = W*x\n",
    "    e(W,x) = y(W,x) - W_opt*x\n",
    "    cost(W,x) = sum(e(W,x)'*e(W,x))\n",
    "    delta = gradient(W -> cost(W,x), W)[1]\n",
    "    # println(\"cost = \", cost(W,x))\n",
    "    # println(delta)\n",
    "    # println(W)\n",
    "    # println(\"MSE of eW = \", sum(eW'*eW))\n",
    "    W - mu * delta\n",
    "end\n",
    "    \n",
    "for iter = 1:10000\n",
    "    W = gupdate(W,x)\n",
    "end\n",
    "\n",
    "eW = W_opt - W\n",
    "println(\"MSE of eW = \", sum(eW'*eW))"
   ]
  },
  {
   "cell_type": "code",
   "execution_count": 46,
   "metadata": {},
   "outputs": [
    {
     "name": "stdout",
     "output_type": "stream",
     "text": [
      "MSE of eW = 1.0369515018173759e-31\n"
     ]
    }
   ],
   "source": [
    "M, N = 20, 10\n",
    "W = rand(M, N)\n",
    "W_opt = Matrix{Float64}(I, M, N)\n",
    "mu = 0.1\n",
    "\n",
    "function gupdate(W,x)\n",
    "    x = rand(N)\n",
    "    y(W,x) = W*x\n",
    "    e(W,x) = y(W,x) - W_opt*x\n",
    "    cost(W,x) = sum(e(W,x)'*e(W,x))\n",
    "    delta = gradient(W -> cost(W,x), W)[1]\n",
    "    # println(\"cost = \", cost(W,x))\n",
    "    # println(delta)\n",
    "    # println(W)\n",
    "    # println(\"MSE of eW = \", sum(eW'*eW))\n",
    "    W - mu * delta\n",
    "end\n",
    "    \n",
    "for iter = 1:10000\n",
    "    W = gupdate(W,x)\n",
    "end\n",
    "\n",
    "eW = W_opt - W\n",
    "println(\"MSE of eW = \", sum(eW'*eW))"
   ]
  },
  {
   "cell_type": "code",
   "execution_count": null,
   "metadata": {},
   "outputs": [],
   "source": []
  }
 ],
 "metadata": {
  "kernelspec": {
   "display_name": "Julia 1.6.3",
   "language": "julia",
   "name": "julia-1.6"
  },
  "language_info": {
   "file_extension": ".jl",
   "mimetype": "application/julia",
   "name": "julia",
   "version": "1.6.3"
  }
 },
 "nbformat": 4,
 "nbformat_minor": 4
}
