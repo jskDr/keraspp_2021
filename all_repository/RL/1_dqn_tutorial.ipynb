{
 "cells": [
  {
   "cell_type": "markdown",
   "metadata": {
    "id": "klGNgWREsvQv"
   },
   "source": [
    "##### Copyright 2021 The TF-Agents Authors."
   ]
  },
  {
   "cell_type": "markdown",
   "metadata": {
    "id": "1u9QVVsShC9X"
   },
   "source": [
    "## Setup"
   ]
  },
  {
   "cell_type": "markdown",
   "metadata": {
    "id": "kNrNXKI7bINP"
   },
   "source": [
    "If you haven't installed the following dependencies, run:"
   ]
  },
  {
   "cell_type": "code",
   "execution_count": 2,
   "metadata": {
    "id": "sMitx5qSgJk1"
   },
   "outputs": [
    {
     "ename": "ImportError",
     "evalue": "This version of TensorFlow Probability requires TensorFlow version >= 2.4; Detected an installation of version 2.3.0. Please upgrade TensorFlow to proceed.",
     "output_type": "error",
     "traceback": [
      "\u001b[1;31m---------------------------------------------------------------------------\u001b[0m",
      "\u001b[1;31mImportError\u001b[0m                               Traceback (most recent call last)",
      "\u001b[1;32m<ipython-input-2-0a623029e749>\u001b[0m in \u001b[0;36m<module>\u001b[1;34m\u001b[0m\n\u001b[0;32m     12\u001b[0m \u001b[1;32mimport\u001b[0m \u001b[0mtensorflow\u001b[0m \u001b[1;32mas\u001b[0m \u001b[0mtf\u001b[0m\u001b[1;33m\u001b[0m\u001b[1;33m\u001b[0m\u001b[0m\n\u001b[0;32m     13\u001b[0m \u001b[1;33m\u001b[0m\u001b[0m\n\u001b[1;32m---> 14\u001b[1;33m \u001b[1;32mfrom\u001b[0m \u001b[0mtf_agents\u001b[0m\u001b[1;33m.\u001b[0m\u001b[0magents\u001b[0m\u001b[1;33m.\u001b[0m\u001b[0mdqn\u001b[0m \u001b[1;32mimport\u001b[0m \u001b[0mdqn_agent\u001b[0m\u001b[1;33m\u001b[0m\u001b[1;33m\u001b[0m\u001b[0m\n\u001b[0m\u001b[0;32m     15\u001b[0m \u001b[1;32mfrom\u001b[0m \u001b[0mtf_agents\u001b[0m\u001b[1;33m.\u001b[0m\u001b[0menvironments\u001b[0m \u001b[1;32mimport\u001b[0m \u001b[0msuite_gym\u001b[0m\u001b[1;33m\u001b[0m\u001b[1;33m\u001b[0m\u001b[0m\n\u001b[0;32m     16\u001b[0m \u001b[1;32mfrom\u001b[0m \u001b[0mtf_agents\u001b[0m\u001b[1;33m.\u001b[0m\u001b[0menvironments\u001b[0m \u001b[1;32mimport\u001b[0m \u001b[0mtf_py_environment\u001b[0m\u001b[1;33m\u001b[0m\u001b[1;33m\u001b[0m\u001b[0m\n",
      "\u001b[1;32m~\\anaconda3\\envs\\keras\\lib\\site-packages\\tf_agents\\__init__.py\u001b[0m in \u001b[0;36m<module>\u001b[1;34m\u001b[0m\n\u001b[0;32m     68\u001b[0m \u001b[1;32mimport\u001b[0m \u001b[0msys\u001b[0m \u001b[1;32mas\u001b[0m \u001b[0m_sys\u001b[0m\u001b[1;33m\u001b[0m\u001b[1;33m\u001b[0m\u001b[0m\n\u001b[0;32m     69\u001b[0m \u001b[1;33m\u001b[0m\u001b[0m\n\u001b[1;32m---> 70\u001b[1;33m \u001b[1;32mfrom\u001b[0m \u001b[0mtf_agents\u001b[0m \u001b[1;32mimport\u001b[0m \u001b[0magents\u001b[0m\u001b[1;33m\u001b[0m\u001b[1;33m\u001b[0m\u001b[0m\n\u001b[0m\u001b[0;32m     71\u001b[0m \u001b[1;32mfrom\u001b[0m \u001b[0mtf_agents\u001b[0m \u001b[1;32mimport\u001b[0m \u001b[0mbandits\u001b[0m\u001b[1;33m\u001b[0m\u001b[1;33m\u001b[0m\u001b[0m\n\u001b[0;32m     72\u001b[0m \u001b[1;32mfrom\u001b[0m \u001b[0mtf_agents\u001b[0m \u001b[1;32mimport\u001b[0m \u001b[0mdistributions\u001b[0m\u001b[1;33m\u001b[0m\u001b[1;33m\u001b[0m\u001b[0m\n",
      "\u001b[1;32m~\\anaconda3\\envs\\keras\\lib\\site-packages\\tf_agents\\agents\\__init__.py\u001b[0m in \u001b[0;36m<module>\u001b[1;34m\u001b[0m\n\u001b[0;32m     15\u001b[0m \u001b[1;33m\u001b[0m\u001b[0m\n\u001b[0;32m     16\u001b[0m \u001b[1;34m\"\"\"Module importing all agents.\"\"\"\u001b[0m\u001b[1;33m\u001b[0m\u001b[1;33m\u001b[0m\u001b[0m\n\u001b[1;32m---> 17\u001b[1;33m \u001b[1;32mfrom\u001b[0m \u001b[0mtf_agents\u001b[0m\u001b[1;33m.\u001b[0m\u001b[0magents\u001b[0m \u001b[1;32mimport\u001b[0m \u001b[0mbehavioral_cloning\u001b[0m\u001b[1;33m\u001b[0m\u001b[1;33m\u001b[0m\u001b[0m\n\u001b[0m\u001b[0;32m     18\u001b[0m \u001b[1;32mfrom\u001b[0m \u001b[0mtf_agents\u001b[0m\u001b[1;33m.\u001b[0m\u001b[0magents\u001b[0m \u001b[1;32mimport\u001b[0m \u001b[0mcategorical_dqn\u001b[0m\u001b[1;33m\u001b[0m\u001b[1;33m\u001b[0m\u001b[0m\n\u001b[0;32m     19\u001b[0m \u001b[1;32mfrom\u001b[0m \u001b[0mtf_agents\u001b[0m\u001b[1;33m.\u001b[0m\u001b[0magents\u001b[0m \u001b[1;32mimport\u001b[0m \u001b[0mdata_converter\u001b[0m\u001b[1;33m\u001b[0m\u001b[1;33m\u001b[0m\u001b[0m\n",
      "\u001b[1;32m~\\anaconda3\\envs\\keras\\lib\\site-packages\\tf_agents\\agents\\behavioral_cloning\\__init__.py\u001b[0m in \u001b[0;36m<module>\u001b[1;34m\u001b[0m\n\u001b[0;32m     15\u001b[0m \u001b[1;33m\u001b[0m\u001b[0m\n\u001b[0;32m     16\u001b[0m \u001b[1;34m\"\"\"A Behavioral Cloning agent.\"\"\"\u001b[0m\u001b[1;33m\u001b[0m\u001b[1;33m\u001b[0m\u001b[0m\n\u001b[1;32m---> 17\u001b[1;33m \u001b[1;32mfrom\u001b[0m \u001b[0mtf_agents\u001b[0m\u001b[1;33m.\u001b[0m\u001b[0magents\u001b[0m\u001b[1;33m.\u001b[0m\u001b[0mbehavioral_cloning\u001b[0m \u001b[1;32mimport\u001b[0m \u001b[0mbehavioral_cloning_agent\u001b[0m\u001b[1;33m\u001b[0m\u001b[1;33m\u001b[0m\u001b[0m\n\u001b[0m",
      "\u001b[1;32m~\\anaconda3\\envs\\keras\\lib\\site-packages\\tf_agents\\agents\\behavioral_cloning\\behavioral_cloning_agent.py\u001b[0m in \u001b[0;36m<module>\u001b[1;34m\u001b[0m\n\u001b[0;32m     36\u001b[0m \u001b[1;32mimport\u001b[0m \u001b[0mgin\u001b[0m\u001b[1;33m\u001b[0m\u001b[1;33m\u001b[0m\u001b[0m\n\u001b[0;32m     37\u001b[0m \u001b[1;32mimport\u001b[0m \u001b[0mtensorflow\u001b[0m \u001b[1;32mas\u001b[0m \u001b[0mtf\u001b[0m\u001b[1;33m\u001b[0m\u001b[1;33m\u001b[0m\u001b[0m\n\u001b[1;32m---> 38\u001b[1;33m \u001b[1;32mimport\u001b[0m \u001b[0mtensorflow_probability\u001b[0m \u001b[1;32mas\u001b[0m \u001b[0mtfp\u001b[0m\u001b[1;33m\u001b[0m\u001b[1;33m\u001b[0m\u001b[0m\n\u001b[0m\u001b[0;32m     39\u001b[0m \u001b[1;32mfrom\u001b[0m \u001b[0mtf_agents\u001b[0m\u001b[1;33m.\u001b[0m\u001b[0magents\u001b[0m \u001b[1;32mimport\u001b[0m \u001b[0mdata_converter\u001b[0m\u001b[1;33m\u001b[0m\u001b[1;33m\u001b[0m\u001b[0m\n\u001b[0;32m     40\u001b[0m \u001b[1;32mfrom\u001b[0m \u001b[0mtf_agents\u001b[0m\u001b[1;33m.\u001b[0m\u001b[0magents\u001b[0m \u001b[1;32mimport\u001b[0m \u001b[0mtf_agent\u001b[0m\u001b[1;33m\u001b[0m\u001b[1;33m\u001b[0m\u001b[0m\n",
      "\u001b[1;32m~\\anaconda3\\envs\\keras\\lib\\site-packages\\tensorflow_probability\\__init__.py\u001b[0m in \u001b[0;36m<module>\u001b[1;34m\u001b[0m\n\u001b[0;32m     21\u001b[0m \u001b[1;31m# from tensorflow_probability.google import staging  # DisableOnExport\u001b[0m\u001b[1;33m\u001b[0m\u001b[1;33m\u001b[0m\u001b[1;33m\u001b[0m\u001b[0m\n\u001b[0;32m     22\u001b[0m \u001b[1;31m# from tensorflow_probability.google import tfp_google  # DisableOnExport\u001b[0m\u001b[1;33m\u001b[0m\u001b[1;33m\u001b[0m\u001b[1;33m\u001b[0m\u001b[0m\n\u001b[1;32m---> 23\u001b[1;33m \u001b[1;32mfrom\u001b[0m \u001b[0mtensorflow_probability\u001b[0m\u001b[1;33m.\u001b[0m\u001b[0mpython\u001b[0m \u001b[1;32mimport\u001b[0m \u001b[1;33m*\u001b[0m  \u001b[1;31m# pylint: disable=wildcard-import\u001b[0m\u001b[1;33m\u001b[0m\u001b[1;33m\u001b[0m\u001b[0m\n\u001b[0m\u001b[0;32m     24\u001b[0m \u001b[1;32mfrom\u001b[0m \u001b[0mtensorflow_probability\u001b[0m\u001b[1;33m.\u001b[0m\u001b[0mpython\u001b[0m\u001b[1;33m.\u001b[0m\u001b[0mversion\u001b[0m \u001b[1;32mimport\u001b[0m \u001b[0m__version__\u001b[0m\u001b[1;33m\u001b[0m\u001b[1;33m\u001b[0m\u001b[0m\n\u001b[0;32m     25\u001b[0m \u001b[1;33m\u001b[0m\u001b[0m\n",
      "\u001b[1;32m~\\anaconda3\\envs\\keras\\lib\\site-packages\\tensorflow_probability\\python\\__init__.py\u001b[0m in \u001b[0;36m<module>\u001b[1;34m\u001b[0m\n\u001b[0;32m    140\u001b[0m   \u001b[1;31m# Non-lazy load of packages that register with tensorflow or keras.\u001b[0m\u001b[1;33m\u001b[0m\u001b[1;33m\u001b[0m\u001b[1;33m\u001b[0m\u001b[0m\n\u001b[0;32m    141\u001b[0m   \u001b[1;32mfor\u001b[0m \u001b[0mpkg_name\u001b[0m \u001b[1;32min\u001b[0m \u001b[0m_maybe_nonlazy_load\u001b[0m\u001b[1;33m:\u001b[0m\u001b[1;33m\u001b[0m\u001b[1;33m\u001b[0m\u001b[0m\n\u001b[1;32m--> 142\u001b[1;33m     \u001b[0mdir\u001b[0m\u001b[1;33m(\u001b[0m\u001b[0mglobals\u001b[0m\u001b[1;33m(\u001b[0m\u001b[1;33m)\u001b[0m\u001b[1;33m[\u001b[0m\u001b[0mpkg_name\u001b[0m\u001b[1;33m]\u001b[0m\u001b[1;33m)\u001b[0m  \u001b[1;31m# Forces loading the package from its lazy loader.\u001b[0m\u001b[1;33m\u001b[0m\u001b[1;33m\u001b[0m\u001b[0m\n\u001b[0m\u001b[0;32m    143\u001b[0m \u001b[1;33m\u001b[0m\u001b[0m\n\u001b[0;32m    144\u001b[0m \u001b[1;33m\u001b[0m\u001b[0m\n",
      "\u001b[1;32m~\\anaconda3\\envs\\keras\\lib\\site-packages\\tensorflow_probability\\python\\internal\\lazy_loader.py\u001b[0m in \u001b[0;36m__dir__\u001b[1;34m(self)\u001b[0m\n\u001b[0;32m     59\u001b[0m \u001b[1;33m\u001b[0m\u001b[0m\n\u001b[0;32m     60\u001b[0m   \u001b[1;32mdef\u001b[0m \u001b[0m__dir__\u001b[0m\u001b[1;33m(\u001b[0m\u001b[0mself\u001b[0m\u001b[1;33m)\u001b[0m\u001b[1;33m:\u001b[0m\u001b[1;33m\u001b[0m\u001b[1;33m\u001b[0m\u001b[0m\n\u001b[1;32m---> 61\u001b[1;33m     \u001b[0mmodule\u001b[0m \u001b[1;33m=\u001b[0m \u001b[0mself\u001b[0m\u001b[1;33m.\u001b[0m\u001b[0m_load\u001b[0m\u001b[1;33m(\u001b[0m\u001b[1;33m)\u001b[0m\u001b[1;33m\u001b[0m\u001b[1;33m\u001b[0m\u001b[0m\n\u001b[0m\u001b[0;32m     62\u001b[0m     \u001b[1;32mreturn\u001b[0m \u001b[0mdir\u001b[0m\u001b[1;33m(\u001b[0m\u001b[0mmodule\u001b[0m\u001b[1;33m)\u001b[0m\u001b[1;33m\u001b[0m\u001b[1;33m\u001b[0m\u001b[0m\n\u001b[0;32m     63\u001b[0m \u001b[1;33m\u001b[0m\u001b[0m\n",
      "\u001b[1;32m~\\anaconda3\\envs\\keras\\lib\\site-packages\\tensorflow_probability\\python\\internal\\lazy_loader.py\u001b[0m in \u001b[0;36m_load\u001b[1;34m(self)\u001b[0m\n\u001b[0;32m     39\u001b[0m     \u001b[1;34m\"\"\"Load the module and insert it into the parent's globals.\"\"\"\u001b[0m\u001b[1;33m\u001b[0m\u001b[1;33m\u001b[0m\u001b[0m\n\u001b[0;32m     40\u001b[0m     \u001b[1;32mif\u001b[0m \u001b[0mcallable\u001b[0m\u001b[1;33m(\u001b[0m\u001b[0mself\u001b[0m\u001b[1;33m.\u001b[0m\u001b[0m_on_first_access\u001b[0m\u001b[1;33m)\u001b[0m\u001b[1;33m:\u001b[0m\u001b[1;33m\u001b[0m\u001b[1;33m\u001b[0m\u001b[0m\n\u001b[1;32m---> 41\u001b[1;33m       \u001b[0mself\u001b[0m\u001b[1;33m.\u001b[0m\u001b[0m_on_first_access\u001b[0m\u001b[1;33m(\u001b[0m\u001b[1;33m)\u001b[0m\u001b[1;33m\u001b[0m\u001b[1;33m\u001b[0m\u001b[0m\n\u001b[0m\u001b[0;32m     42\u001b[0m       \u001b[0mself\u001b[0m\u001b[1;33m.\u001b[0m\u001b[0m_on_first_access\u001b[0m \u001b[1;33m=\u001b[0m \u001b[1;32mNone\u001b[0m\u001b[1;33m\u001b[0m\u001b[1;33m\u001b[0m\u001b[0m\n\u001b[0;32m     43\u001b[0m     \u001b[1;31m# Import the target module and insert it into the parent's namespace\u001b[0m\u001b[1;33m\u001b[0m\u001b[1;33m\u001b[0m\u001b[1;33m\u001b[0m\u001b[0m\n",
      "\u001b[1;32m~\\anaconda3\\envs\\keras\\lib\\site-packages\\tensorflow_probability\\python\\__init__.py\u001b[0m in \u001b[0;36m_validate_tf_environment\u001b[1;34m(package)\u001b[0m\n\u001b[0;32m     61\u001b[0m   if (distutils.version.LooseVersion(tf.__version__) <\n\u001b[0;32m     62\u001b[0m       distutils.version.LooseVersion(required_tensorflow_version)):\n\u001b[1;32m---> 63\u001b[1;33m     raise ImportError(\n\u001b[0m\u001b[0;32m     64\u001b[0m         \u001b[1;34m'This version of TensorFlow Probability requires TensorFlow '\u001b[0m\u001b[1;33m\u001b[0m\u001b[1;33m\u001b[0m\u001b[0m\n\u001b[0;32m     65\u001b[0m         \u001b[1;34m'version >= {required}; Detected an installation of version {present}. '\u001b[0m\u001b[1;33m\u001b[0m\u001b[1;33m\u001b[0m\u001b[0m\n",
      "\u001b[1;31mImportError\u001b[0m: This version of TensorFlow Probability requires TensorFlow version >= 2.4; Detected an installation of version 2.3.0. Please upgrade TensorFlow to proceed."
     ]
    }
   ],
   "source": [
    "from __future__ import absolute_import, division, print_function\n",
    "\n",
    "import base64\n",
    "import imageio\n",
    "import IPython\n",
    "import matplotlib\n",
    "import matplotlib.pyplot as plt\n",
    "import numpy as np\n",
    "import PIL.Image\n",
    "import pyvirtualdisplay\n",
    "\n",
    "import tensorflow as tf\n",
    "\n",
    "from tf_agents.agents.dqn import dqn_agent\n",
    "from tf_agents.environments import suite_gym\n",
    "from tf_agents.environments import tf_py_environment\n",
    "from tf_agents.eval import metric_utils\n",
    "from tf_agents.metrics import tf_metrics\n",
    "from tf_agents.networks import sequential\n",
    "from tf_agents.policies import random_tf_policy\n",
    "from tf_agents.replay_buffers import tf_uniform_replay_buffer\n",
    "from tf_agents.trajectories import trajectory\n",
    "from tf_agents.specs import tensor_spec\n",
    "from tf_agents.utils import common"
   ]
  },
  {
   "cell_type": "code",
   "execution_count": 4,
   "metadata": {
    "execution": {
     "iopub.execute_input": "2021-05-21T11:12:30.625976Z",
     "iopub.status.busy": "2021-05-21T11:12:30.621646Z",
     "iopub.status.idle": "2021-05-21T11:12:30.704759Z",
     "shell.execute_reply": "2021-05-21T11:12:30.704227Z"
    },
    "id": "J6HsdS5GbSjd"
   },
   "outputs": [],
   "source": [
    "# Set up a virtual display for rendering OpenAI gym environments.\n",
    "display = pyvirtualdisplay.Display(visible=0, size=(1400, 900)).start()"
   ]
  },
  {
   "cell_type": "code",
   "execution_count": 5,
   "metadata": {
    "execution": {
     "iopub.execute_input": "2021-05-21T11:12:30.711430Z",
     "iopub.status.busy": "2021-05-21T11:12:30.710853Z",
     "iopub.status.idle": "2021-05-21T11:12:30.713352Z",
     "shell.execute_reply": "2021-05-21T11:12:30.713727Z"
    },
    "id": "NspmzG4nP3b9"
   },
   "outputs": [
    {
     "data": {
      "text/plain": [
       "'2.5.0'"
      ]
     },
     "execution_count": 1,
     "metadata": {},
     "output_type": "execute_result"
    }
   ],
   "source": [
    "tf.version.VERSION"
   ]
  },
  {
   "cell_type": "markdown",
   "metadata": {
    "id": "LmC0NDhdLIKY"
   },
   "source": [
    "## Hyperparameters"
   ]
  },
  {
   "cell_type": "code",
   "execution_count": 6,
   "metadata": {
    "execution": {
     "iopub.execute_input": "2021-05-21T11:12:30.717835Z",
     "iopub.status.busy": "2021-05-21T11:12:30.717206Z",
     "iopub.status.idle": "2021-05-21T11:12:30.719588Z",
     "shell.execute_reply": "2021-05-21T11:12:30.719124Z"
    },
    "id": "HC1kNrOsLSIZ"
   },
   "outputs": [],
   "source": [
    "num_iterations = 20000 # @param {type:\"integer\"}\n",
    "\n",
    "initial_collect_steps = 100  # @param {type:\"integer\"} \n",
    "collect_steps_per_iteration = 1  # @param {type:\"integer\"}\n",
    "replay_buffer_max_length = 100000  # @param {type:\"integer\"}\n",
    "\n",
    "batch_size = 64  # @param {type:\"integer\"}\n",
    "learning_rate = 1e-3  # @param {type:\"number\"}\n",
    "log_interval = 200  # @param {type:\"integer\"}\n",
    "\n",
    "num_eval_episodes = 10  # @param {type:\"integer\"}\n",
    "eval_interval = 1000  # @param {type:\"integer\"}"
   ]
  },
  {
   "cell_type": "markdown",
   "metadata": {
    "id": "VMsJC3DEgI0x"
   },
   "source": [
    "## Environment\n",
    "\n",
    "In Reinforcement Learning (RL), an environment represents the task or problem to be solved. Standard environments can be created in TF-Agents using `tf_agents.environments` suites. TF-Agents has suites for loading environments from sources such as the OpenAI Gym, Atari, and DM Control.\n",
    "\n",
    "Load the CartPole environment from the OpenAI Gym suite. "
   ]
  },
  {
   "cell_type": "code",
   "execution_count": 7,
   "metadata": {
    "execution": {
     "iopub.execute_input": "2021-05-21T11:12:30.723228Z",
     "iopub.status.busy": "2021-05-21T11:12:30.722700Z",
     "iopub.status.idle": "2021-05-21T11:12:30.728604Z",
     "shell.execute_reply": "2021-05-21T11:12:30.729004Z"
    },
    "id": "pYEz-S9gEv2-"
   },
   "outputs": [],
   "source": [
    "env_name = 'CartPole-v0'\n",
    "env = suite_gym.load(env_name)"
   ]
  },
  {
   "cell_type": "markdown",
   "metadata": {
    "id": "IIHYVBkuvPNw"
   },
   "source": [
    "You can render this environment to see how it looks. A free-swinging pole is attached to a cart.  The goal is to move the cart right or left in order to keep the pole pointing up."
   ]
  },
  {
   "cell_type": "code",
   "execution_count": 8,
   "metadata": {
    "execution": {
     "iopub.execute_input": "2021-05-21T11:12:30.733120Z",
     "iopub.status.busy": "2021-05-21T11:12:30.732572Z",
     "iopub.status.idle": "2021-05-21T11:12:31.092902Z",
     "shell.execute_reply": "2021-05-21T11:12:31.093241Z"
    },
    "id": "RlO7WIQHu_7D"
   },
   "outputs": [
    {
     "data": {
      "image/png": "[encoded data removed]",
      "text/plain": [
       "<PIL.Image.Image image mode=RGB size=600x400 at 0x7F3163DAD4D0>"
      ]
     },
     "execution_count": 1,
     "metadata": {},
     "output_type": "execute_result"
    }
   ],
   "source": [
    "#@test {\"skip\": true}\n",
    "env.reset()\n",
    "PIL.Image.fromarray(env.render())"
   ]
  },
  {
   "cell_type": "markdown",
   "metadata": {
    "id": "B9_lskPOey18"
   },
   "source": [
    "The `environment.step` method takes an `action` in the environment and returns a `TimeStep` tuple containing the next observation of the environment and the reward for the action.\n",
    "\n",
    "The `time_step_spec()` method returns the specification for the `TimeStep` tuple. Its `observation` attribute shows the shape of observations, the data types, and the ranges of allowed values. The `reward` attribute shows the same details for the reward.\n"
   ]
  },
  {
   "cell_type": "code",
   "execution_count": 9,
   "metadata": {
    "execution": {
     "iopub.execute_input": "2021-05-21T11:12:31.099465Z",
     "iopub.status.busy": "2021-05-21T11:12:31.098815Z",
     "iopub.status.idle": "2021-05-21T11:12:31.101379Z",
     "shell.execute_reply": "2021-05-21T11:12:31.100934Z"
    },
    "id": "exDv57iHfwQV"
   },
   "outputs": [
    {
     "name": "stdout",
     "output_type": "stream",
     "text": [
      "Observation Spec:\n",
      "BoundedArraySpec(shape=(4,), dtype=dtype('float32'), name='observation', minimum=[-4.8000002e+00 -3.4028235e+38 -4.1887903e-01 -3.4028235e+38], maximum=[4.8000002e+00 3.4028235e+38 4.1887903e-01 3.4028235e+38])\n"
     ]
    }
   ],
   "source": [
    "print('Observation Spec:')\n",
    "print(env.time_step_spec().observation)"
   ]
  },
  {
   "cell_type": "code",
   "execution_count": 10,
   "metadata": {
    "execution": {
     "iopub.execute_input": "2021-05-21T11:12:31.105269Z",
     "iopub.status.busy": "2021-05-21T11:12:31.104722Z",
     "iopub.status.idle": "2021-05-21T11:12:31.107151Z",
     "shell.execute_reply": "2021-05-21T11:12:31.106737Z"
    },
    "id": "UxiSyCbBUQPi"
   },
   "outputs": [
    {
     "name": "stdout",
     "output_type": "stream",
     "text": [
      "Reward Spec:\n",
      "ArraySpec(shape=(), dtype=dtype('float32'), name='reward')\n"
     ]
    }
   ],
   "source": [
    "print('Reward Spec:')\n",
    "print(env.time_step_spec().reward)"
   ]
  },
  {
   "cell_type": "markdown",
   "metadata": {
    "id": "b_lHcIcqUaqB"
   },
   "source": [
    "The `action_spec()` method returns the shape, data types, and allowed values of valid actions."
   ]
  },
  {
   "cell_type": "code",
   "execution_count": 11,
   "metadata": {
    "execution": {
     "iopub.execute_input": "2021-05-21T11:12:31.110691Z",
     "iopub.status.busy": "2021-05-21T11:12:31.110127Z",
     "iopub.status.idle": "2021-05-21T11:12:31.112713Z",
     "shell.execute_reply": "2021-05-21T11:12:31.112274Z"
    },
    "id": "bttJ4uxZUQBr"
   },
   "outputs": [
    {
     "name": "stdout",
     "output_type": "stream",
     "text": [
      "Action Spec:\n",
      "BoundedArraySpec(shape=(), dtype=dtype('int64'), name='action', minimum=0, maximum=1)\n"
     ]
    }
   ],
   "source": [
    "print('Action Spec:')\n",
    "print(env.action_spec())"
   ]
  },
  {
   "cell_type": "markdown",
   "metadata": {
    "id": "eJCgJnx3g0yY"
   },
   "source": [
    "In the Cartpole environment:\n",
    "\n",
    "-   `observation` is an array of 4 floats: \n",
    "    -   the position and velocity of the cart\n",
    "    -   the angular position and velocity of the pole \n",
    "-   `reward` is a scalar float value\n",
    "-   `action` is a scalar integer with only two possible values:\n",
    "    -   `0` — \"move left\"\n",
    "    -   `1` — \"move right\"\n"
   ]
  },
  {
   "cell_type": "code",
   "execution_count": 12,
   "metadata": {
    "execution": {
     "iopub.execute_input": "2021-05-21T11:12:31.120087Z",
     "iopub.status.busy": "2021-05-21T11:12:31.119511Z",
     "iopub.status.idle": "2021-05-21T11:12:31.122364Z",
     "shell.execute_reply": "2021-05-21T11:12:31.121916Z"
    },
    "id": "V2UGR5t_iZX-"
   },
   "outputs": [
    {
     "name": "stdout",
     "output_type": "stream",
     "text": [
      "Time step:\n",
      "TimeStep(\n",
      "{'discount': array(1., dtype=float32),\n",
      " 'observation': array([0.01826064, 0.01502048, 0.02624331, 0.017015  ], dtype=float32),\n",
      " 'reward': array(0., dtype=float32),\n",
      " 'step_type': array(0, dtype=int32)})\n",
      "Next time step:\n",
      "TimeStep(\n",
      "{'discount': array(1., dtype=float32),\n",
      " 'observation': array([ 0.01856105,  0.20975643,  0.02658361, -0.2672737 ], dtype=float32),\n",
      " 'reward': array(1., dtype=float32),\n",
      " 'step_type': array(1, dtype=int32)})\n"
     ]
    }
   ],
   "source": [
    "time_step = env.reset()\n",
    "print('Time step:')\n",
    "print(time_step)\n",
    "\n",
    "action = np.array(1, dtype=np.int32)\n",
    "\n",
    "next_time_step = env.step(action)\n",
    "print('Next time step:')\n",
    "print(next_time_step)"
   ]
  },
  {
   "cell_type": "markdown",
   "metadata": {
    "id": "4JSc9GviWUBK"
   },
   "source": [
    "Usually two environments are instantiated: one for training and one for evaluation. "
   ]
  },
  {
   "cell_type": "code",
   "execution_count": 13,
   "metadata": {
    "execution": {
     "iopub.execute_input": "2021-05-21T11:12:31.127922Z",
     "iopub.status.busy": "2021-05-21T11:12:31.127318Z",
     "iopub.status.idle": "2021-05-21T11:12:31.129126Z",
     "shell.execute_reply": "2021-05-21T11:12:31.129497Z"
    },
    "id": "N7brXNIGWXjC"
   },
   "outputs": [],
   "source": [
    "train_py_env = suite_gym.load(env_name)\n",
    "eval_py_env = suite_gym.load(env_name)"
   ]
  },
  {
   "cell_type": "markdown",
   "metadata": {
    "id": "zuUqXAVmecTU"
   },
   "source": [
    "The Cartpole environment, like most environments, is written in pure Python. This is converted to TensorFlow using the `TFPyEnvironment` wrapper.\n",
    "\n",
    "The original environment's API uses Numpy arrays. The `TFPyEnvironment` converts these to `Tensors` to make it compatible with Tensorflow agents and policies.\n"
   ]
  },
  {
   "cell_type": "code",
   "execution_count": 14,
   "metadata": {
    "execution": {
     "iopub.execute_input": "2021-05-21T11:12:31.133935Z",
     "iopub.status.busy": "2021-05-21T11:12:31.133340Z",
     "iopub.status.idle": "2021-05-21T11:12:31.138003Z",
     "shell.execute_reply": "2021-05-21T11:12:31.138380Z"
    },
    "id": "Xp-Y4mD6eDhF"
   },
   "outputs": [],
   "source": [
    "train_env = tf_py_environment.TFPyEnvironment(train_py_env)\n",
    "eval_env = tf_py_environment.TFPyEnvironment(eval_py_env)"
   ]
  },
  {
   "cell_type": "markdown",
   "metadata": {
    "id": "E9lW_OZYFR8A"
   },
   "source": [
    "## Agent\n",
    "\n",
    "The algorithm used to solve an RL problem is represented by an `Agent`. TF-Agents provides standard implementations of a variety of `Agents`, including:\n",
    "\n",
    "-   [DQN](https://storage.googleapis.com/deepmind-media/dqn/DQNNaturePaper.pdf) (used in this tutorial)\n",
    "-   [REINFORCE](https://www-anw.cs.umass.edu/~barto/courses/cs687/williams92simple.pdf)\n",
    "-   [DDPG](https://arxiv.org/pdf/1509.02971.pdf)\n",
    "-   [TD3](https://arxiv.org/pdf/1802.09477.pdf)\n",
    "-   [PPO](https://arxiv.org/abs/1707.06347)\n",
    "-   [SAC](https://arxiv.org/abs/1801.01290).\n",
    "\n",
    "The DQN agent can be used in any environment which has a discrete action space.\n",
    "\n",
    "At the heart of a DQN Agent is a `QNetwork`, a neural network model that can learn to predict `QValues` (expected returns) for all actions, given an observation from the environment.\n",
    "\n",
    "We will use `tf_agents.networks.` to create a `QNetwork`. The network will consist of a sequence of `tf.keras.layers.Dense` layers, where the final layer will have 1 output for each possible action."
   ]
  },
  {
   "cell_type": "code",
   "execution_count": 15,
   "metadata": {
    "execution": {
     "iopub.execute_input": "2021-05-21T11:12:31.147488Z",
     "iopub.status.busy": "2021-05-21T11:12:31.146871Z",
     "iopub.status.idle": "2021-05-21T11:12:31.156669Z",
     "shell.execute_reply": "2021-05-21T11:12:31.156209Z"
    },
    "id": "TgkdEPg_muzV"
   },
   "outputs": [],
   "source": [
    "fc_layer_params = (100, 50)\n",
    "action_tensor_spec = tensor_spec.from_spec(env.action_spec())\n",
    "num_actions = action_tensor_spec.maximum - action_tensor_spec.minimum + 1\n",
    "\n",
    "# Define a helper function to create Dense layers configured with the right\n",
    "# activation and kernel initializer.\n",
    "def dense_layer(num_units):\n",
    "  return tf.keras.layers.Dense(\n",
    "      num_units,\n",
    "      activation=tf.keras.activations.relu,\n",
    "      kernel_initializer=tf.keras.initializers.VarianceScaling(\n",
    "          scale=2.0, mode='fan_in', distribution='truncated_normal'))\n",
    "\n",
    "# QNetwork consists of a sequence of Dense layers followed by a dense layer\n",
    "# with `num_actions` units to generate one q_value per available action as\n",
    "# it's output.\n",
    "dense_layers = [dense_layer(num_units) for num_units in fc_layer_params]\n",
    "q_values_layer = tf.keras.layers.Dense(\n",
    "    num_actions,\n",
    "    activation=None,\n",
    "    kernel_initializer=tf.keras.initializers.RandomUniform(\n",
    "        minval=-0.03, maxval=0.03),\n",
    "    bias_initializer=tf.keras.initializers.Constant(-0.2))\n",
    "q_net = sequential.Sequential(dense_layers + [q_values_layer])"
   ]
  },
  {
   "cell_type": "markdown",
   "metadata": {
    "id": "z62u55hSmviJ"
   },
   "source": [
    "Now use `tf_agents.agents.dqn.dqn_agent` to instantiate a `DqnAgent`. In addition to the `time_step_spec`, `action_spec` and the QNetwork, the agent constructor also requires an optimizer (in this case, `AdamOptimizer`), a loss function, and an integer step counter."
   ]
  },
  {
   "cell_type": "code",
   "execution_count": 16,
   "metadata": {
    "execution": {
     "iopub.execute_input": "2021-05-21T11:12:31.808256Z",
     "iopub.status.busy": "2021-05-21T11:12:31.807539Z",
     "iopub.status.idle": "2021-05-21T11:12:32.502072Z",
     "shell.execute_reply": "2021-05-21T11:12:32.502455Z"
    },
    "id": "jbY4yrjTEyc9"
   },
   "outputs": [],
   "source": [
    "optimizer = tf.keras.optimizers.Adam(learning_rate=learning_rate)\n",
    "\n",
    "train_step_counter = tf.Variable(0)\n",
    "\n",
    "agent = dqn_agent.DqnAgent(\n",
    "    train_env.time_step_spec(),\n",
    "    train_env.action_spec(),\n",
    "    q_network=q_net,\n",
    "    optimizer=optimizer,\n",
    "    td_errors_loss_fn=common.element_wise_squared_loss,\n",
    "    train_step_counter=train_step_counter)\n",
    "\n",
    "agent.initialize()"
   ]
  },
  {
   "cell_type": "markdown",
   "metadata": {
    "id": "I0KLrEPwkn5x"
   },
   "source": [
    "## Policies\n",
    "\n",
    "A policy defines the way an agent acts in an environment. Typically, the goal of reinforcement learning is to train the underlying model until the policy produces the desired outcome.\n",
    "\n",
    "In this tutorial:\n",
    "\n",
    "-   The desired outcome is keeping the pole balanced upright over the cart.\n",
    "-   The policy returns an action (left or right) for each `time_step` observation.\n",
    "\n",
    "Agents contain two policies: \n",
    "\n",
    "-   `agent.policy` — The main policy that is used for evaluation and deployment.\n",
    "-   `agent.collect_policy` — A second policy that is used for data collection.\n"
   ]
  },
  {
   "cell_type": "code",
   "execution_count": 17,
   "metadata": {
    "execution": {
     "iopub.execute_input": "2021-05-21T11:12:32.506351Z",
     "iopub.status.busy": "2021-05-21T11:12:32.505780Z",
     "iopub.status.idle": "2021-05-21T11:12:32.507780Z",
     "shell.execute_reply": "2021-05-21T11:12:32.507276Z"
    },
    "id": "BwY7StuMkuV4"
   },
   "outputs": [],
   "source": [
    "eval_policy = agent.policy\n",
    "collect_policy = agent.collect_policy"
   ]
  },
  {
   "cell_type": "markdown",
   "metadata": {
    "id": "2Qs1Fl3dV0ae"
   },
   "source": [
    "Policies can be created independently of agents. For example, use `tf_agents.policies.random_tf_policy` to create a policy which will randomly select an action for each `time_step`."
   ]
  },
  {
   "cell_type": "code",
   "execution_count": 18,
   "metadata": {
    "execution": {
     "iopub.execute_input": "2021-05-21T11:12:32.511633Z",
     "iopub.status.busy": "2021-05-21T11:12:32.511093Z",
     "iopub.status.idle": "2021-05-21T11:12:32.513154Z",
     "shell.execute_reply": "2021-05-21T11:12:32.512752Z"
    },
    "id": "HE37-UCIrE69"
   },
   "outputs": [],
   "source": [
    "random_policy = random_tf_policy.RandomTFPolicy(train_env.time_step_spec(),\n",
    "                                                train_env.action_spec())"
   ]
  },
  {
   "cell_type": "markdown",
   "metadata": {
    "id": "dOlnlRRsUbxP"
   },
   "source": [
    "To get an action from a policy, call the `policy.action(time_step)` method. The `time_step` contains the observation from the environment. This method returns a `PolicyStep`, which is a named tuple with three components:\n",
    "\n",
    "-   `action` — the action to be taken (in this case, `0` or `1`)\n",
    "-   `state` — used for stateful (that is, RNN-based) policies\n",
    "-   `info` — auxiliary data, such as log probabilities of actions"
   ]
  },
  {
   "cell_type": "code",
   "execution_count": 19,
   "metadata": {
    "execution": {
     "iopub.execute_input": "2021-05-21T11:12:32.636004Z",
     "iopub.status.busy": "2021-05-21T11:12:32.517580Z",
     "iopub.status.idle": "2021-05-21T11:12:32.639520Z",
     "shell.execute_reply": "2021-05-21T11:12:32.638916Z"
    },
    "id": "5gCcpXswVAxk"
   },
   "outputs": [],
   "source": [
    "example_environment = tf_py_environment.TFPyEnvironment(\n",
    "    suite_gym.load('CartPole-v0'))"
   ]
  },
  {
   "cell_type": "code",
   "execution_count": 20,
   "metadata": {
    "execution": {
     "iopub.execute_input": "2021-05-21T11:12:32.643666Z",
     "iopub.status.busy": "2021-05-21T11:12:32.642874Z",
     "iopub.status.idle": "2021-05-21T11:12:32.646011Z",
     "shell.execute_reply": "2021-05-21T11:12:32.645459Z"
    },
    "id": "D4DHZtq3Ndis"
   },
   "outputs": [],
   "source": [
    "time_step = example_environment.reset()"
   ]
  },
  {
   "cell_type": "code",
   "execution_count": 21,
   "metadata": {
    "execution": {
     "iopub.execute_input": "2021-05-21T11:12:32.649772Z",
     "iopub.status.busy": "2021-05-21T11:12:32.649122Z",
     "iopub.status.idle": "2021-05-21T11:12:32.654196Z",
     "shell.execute_reply": "2021-05-21T11:12:32.654543Z"
    },
    "id": "PRFqAUzpNaAW"
   },
   "outputs": [
    {
     "data": {
      "text/plain": [
       "PolicyStep(action=<tf.Tensor: shape=(1,), dtype=int64, numpy=array([1])>, state=(), info=())"
      ]
     },
     "execution_count": 1,
     "metadata": {},
     "output_type": "execute_result"
    }
   ],
   "source": [
    "random_policy.action(time_step)"
   ]
  },
  {
   "cell_type": "markdown",
   "metadata": {
    "id": "94rCXQtbUbXv"
   },
   "source": [
    "## Metrics and Evaluation\n",
    "\n",
    "The most common metric used to evaluate a policy is the average return. The return is the sum of rewards obtained while running a policy in an environment for an episode. Several episodes are run, creating an average return.\n",
    "\n",
    "The following function computes the average return of a policy, given the policy, environment, and a number of episodes.\n"
   ]
  },
  {
   "cell_type": "code",
   "execution_count": 22,
   "metadata": {
    "execution": {
     "iopub.execute_input": "2021-05-21T11:12:32.659514Z",
     "iopub.status.busy": "2021-05-21T11:12:32.658786Z",
     "iopub.status.idle": "2021-05-21T11:12:32.661228Z",
     "shell.execute_reply": "2021-05-21T11:12:32.660757Z"
    },
    "id": "bitzHo5_UbXy"
   },
   "outputs": [],
   "source": [
    "#@test {\"skip\": true}\n",
    "def compute_avg_return(environment, policy, num_episodes=10):\n",
    "\n",
    "  total_return = 0.0\n",
    "  for _ in range(num_episodes):\n",
    "\n",
    "    time_step = environment.reset()\n",
    "    episode_return = 0.0\n",
    "\n",
    "    while not time_step.is_last():\n",
    "      action_step = policy.action(time_step)\n",
    "      time_step = environment.step(action_step.action)\n",
    "      episode_return += time_step.reward\n",
    "    total_return += episode_return\n",
    "\n",
    "  avg_return = total_return / num_episodes\n",
    "  return avg_return.numpy()[0]\n",
    "\n",
    "\n",
    "# See also the metrics module for standard implementations of different metrics.\n",
    "# https://github.com/tensorflow/agents/tree/master/tf_agents/metrics"
   ]
  },
  {
   "cell_type": "markdown",
   "metadata": {
    "id": "_snCVvq5Z8lJ"
   },
   "source": [
    "Running this computation on the `random_policy` shows a baseline performance in the environment."
   ]
  },
  {
   "cell_type": "code",
   "execution_count": 23,
   "metadata": {
    "execution": {
     "iopub.execute_input": "2021-05-21T11:12:32.664952Z",
     "iopub.status.busy": "2021-05-21T11:12:32.664378Z",
     "iopub.status.idle": "2021-05-21T11:12:33.209686Z",
     "shell.execute_reply": "2021-05-21T11:12:33.209172Z"
    },
    "id": "9bgU6Q6BZ8Bp"
   },
   "outputs": [
    {
     "data": {
      "text/plain": [
       "26.1"
      ]
     },
     "execution_count": 1,
     "metadata": {},
     "output_type": "execute_result"
    }
   ],
   "source": [
    "compute_avg_return(eval_env, random_policy, num_eval_episodes)"
   ]
  },
  {
   "cell_type": "markdown",
   "metadata": {
    "id": "NLva6g2jdWgr"
   },
   "source": [
    "## Replay Buffer\n",
    "\n",
    "The replay buffer keeps track of data collected from the environment. This tutorial uses `tf_agents.replay_buffers.tf_uniform_replay_buffer.TFUniformReplayBuffer`, as it is the most common. \n",
    "\n",
    "The constructor requires the specs for the data it will be collecting. This is available from the agent using the `collect_data_spec` method. The batch size and maximum buffer length are also required.\n"
   ]
  },
  {
   "cell_type": "code",
   "execution_count": 24,
   "metadata": {
    "execution": {
     "iopub.execute_input": "2021-05-21T11:12:33.214014Z",
     "iopub.status.busy": "2021-05-21T11:12:33.213424Z",
     "iopub.status.idle": "2021-05-21T11:12:33.223613Z",
     "shell.execute_reply": "2021-05-21T11:12:33.223966Z"
    },
    "id": "vX2zGUWJGWAl"
   },
   "outputs": [],
   "source": [
    "replay_buffer = tf_uniform_replay_buffer.TFUniformReplayBuffer(\n",
    "    data_spec=agent.collect_data_spec,\n",
    "    batch_size=train_env.batch_size,\n",
    "    max_length=replay_buffer_max_length)"
   ]
  },
  {
   "cell_type": "markdown",
   "metadata": {
    "id": "ZGNTDJpZs4NN"
   },
   "source": [
    "For most agents, `collect_data_spec` is a named tuple called `Trajectory`, containing the specs for observations, actions, rewards, and other items."
   ]
  },
  {
   "cell_type": "code",
   "execution_count": 25,
   "metadata": {
    "execution": {
     "iopub.execute_input": "2021-05-21T11:12:33.229560Z",
     "iopub.status.busy": "2021-05-21T11:12:33.228679Z",
     "iopub.status.idle": "2021-05-21T11:12:33.231628Z",
     "shell.execute_reply": "2021-05-21T11:12:33.231956Z"
    },
    "id": "_IZ-3HcqgE1z"
   },
   "outputs": [
    {
     "data": {
      "text/plain": [
       "Trajectory(\n",
       "{'action': BoundedTensorSpec(shape=(), dtype=tf.int64, name='action', minimum=array(0), maximum=array(1)),\n",
       " 'discount': BoundedTensorSpec(shape=(), dtype=tf.float32, name='discount', minimum=array(0., dtype=float32), maximum=array(1., dtype=float32)),\n",
       " 'next_step_type': TensorSpec(shape=(), dtype=tf.int32, name='step_type'),\n",
       " 'observation': BoundedTensorSpec(shape=(4,), dtype=tf.float32, name='observation', minimum=array([-4.8000002e+00, -3.4028235e+38, -4.1887903e-01, -3.4028235e+38],\n",
       "      dtype=float32), maximum=array([4.8000002e+00, 3.4028235e+38, 4.1887903e-01, 3.4028235e+38],\n",
       "      dtype=float32)),\n",
       " 'policy_info': (),\n",
       " 'reward': TensorSpec(shape=(), dtype=tf.float32, name='reward'),\n",
       " 'step_type': TensorSpec(shape=(), dtype=tf.int32, name='step_type')})"
      ]
     },
     "execution_count": 1,
     "metadata": {},
     "output_type": "execute_result"
    }
   ],
   "source": [
    "agent.collect_data_spec"
   ]
  },
  {
   "cell_type": "code",
   "execution_count": 26,
   "metadata": {
    "execution": {
     "iopub.execute_input": "2021-05-21T11:12:33.235695Z",
     "iopub.status.busy": "2021-05-21T11:12:33.234953Z",
     "iopub.status.idle": "2021-05-21T11:12:33.238081Z",
     "shell.execute_reply": "2021-05-21T11:12:33.237668Z"
    },
    "id": "sy6g1tGcfRlw"
   },
   "outputs": [
    {
     "data": {
      "text/plain": [
       "('step_type',\n",
       " 'observation',\n",
       " 'action',\n",
       " 'policy_info',\n",
       " 'next_step_type',\n",
       " 'reward',\n",
       " 'discount')"
      ]
     },
     "execution_count": 1,
     "metadata": {},
     "output_type": "execute_result"
    }
   ],
   "source": [
    "agent.collect_data_spec._fields"
   ]
  },
  {
   "cell_type": "markdown",
   "metadata": {
    "id": "rVD5nQ9ZGo8_"
   },
   "source": [
    "## Data Collection\n",
    "\n",
    "Now execute the random policy in the environment for a few steps, recording the data in the replay buffer."
   ]
  },
  {
   "cell_type": "code",
   "execution_count": 27,
   "metadata": {
    "execution": {
     "iopub.execute_input": "2021-05-21T11:12:33.243175Z",
     "iopub.status.busy": "2021-05-21T11:12:33.242585Z",
     "iopub.status.idle": "2021-05-21T11:12:33.623226Z",
     "shell.execute_reply": "2021-05-21T11:12:33.623665Z"
    },
    "id": "wr1KSAEGG4h9"
   },
   "outputs": [],
   "source": [
    "#@test {\"skip\": true}\n",
    "def collect_step(environment, policy, buffer):\n",
    "  time_step = environment.current_time_step()\n",
    "  action_step = policy.action(time_step)\n",
    "  next_time_step = environment.step(action_step.action)\n",
    "  traj = trajectory.from_transition(time_step, action_step, next_time_step)\n",
    "\n",
    "  # Add trajectory to the replay buffer\n",
    "  buffer.add_batch(traj)\n",
    "\n",
    "def collect_data(env, policy, buffer, steps):\n",
    "  for _ in range(steps):\n",
    "    collect_step(env, policy, buffer)\n",
    "\n",
    "collect_data(train_env, random_policy, replay_buffer, initial_collect_steps)\n",
    "\n",
    "# This loop is so common in RL, that we provide standard implementations. \n",
    "# For more details see tutorial 4 or the drivers module.\n",
    "# https://github.com/tensorflow/agents/blob/master/docs/tutorials/4_drivers_tutorial.ipynb \n",
    "# https://www.tensorflow.org/agents/api_docs/python/tf_agents/drivers"
   ]
  },
  {
   "cell_type": "markdown",
   "metadata": {
    "id": "84z5pQJdoKxo"
   },
   "source": [
    "The replay buffer is now a collection of Trajectories."
   ]
  },
  {
   "cell_type": "code",
   "execution_count": 28,
   "metadata": {
    "execution": {
     "iopub.execute_input": "2021-05-21T11:12:33.627653Z",
     "iopub.status.busy": "2021-05-21T11:12:33.626955Z",
     "iopub.status.idle": "2021-05-21T11:12:33.629389Z",
     "shell.execute_reply": "2021-05-21T11:12:33.628904Z"
    },
    "id": "4wZnLu2ViO4E"
   },
   "outputs": [],
   "source": [
    "# For the curious:\n",
    "# Uncomment to peel one of these off and inspect it.\n",
    "# iter(replay_buffer.as_dataset()).next()"
   ]
  },
  {
   "cell_type": "markdown",
   "metadata": {
    "id": "TujU-PMUsKjS"
   },
   "source": [
    "The agent needs access to the replay buffer. This is provided by creating an iterable `tf.data.Dataset` pipeline which will feed data to the agent.\n",
    "\n",
    "Each row of the replay buffer only stores a single observation step. But since the DQN Agent needs both the current and next observation to compute the loss, the dataset pipeline will sample two adjacent rows for each item in the batch (`num_steps=2`).\n",
    "\n",
    "This dataset is also optimized by running parallel calls and prefetching data."
   ]
  },
  {
   "cell_type": "code",
   "execution_count": 29,
   "metadata": {
    "execution": {
     "iopub.execute_input": "2021-05-21T11:12:33.633545Z",
     "iopub.status.busy": "2021-05-21T11:12:33.632954Z",
     "iopub.status.idle": "2021-05-21T11:12:34.266660Z",
     "shell.execute_reply": "2021-05-21T11:12:34.267023Z"
    },
    "id": "ba7bilizt_qW"
   },
   "outputs": [
    {
     "name": "stdout",
     "output_type": "stream",
     "text": [
      "WARNING:tensorflow:From /tmpfs/src/tf_docs_env/lib/python3.7/site-packages/tensorflow/python/autograph/impl/api.py:382: ReplayBuffer.get_next (from tf_agents.replay_buffers.replay_buffer) is deprecated and will be removed in a future version.\n",
      "Instructions for updating:\n",
      "Use `as_dataset(..., single_deterministic_pass=False) instead.\n"
     ]
    },
    {
     "data": {
      "text/plain": [
       "<PrefetchDataset shapes: (Trajectory(\n",
       "{action: (64, 2),\n",
       " discount: (64, 2),\n",
       " next_step_type: (64, 2),\n",
       " observation: (64, 2, 4),\n",
       " policy_info: (),\n",
       " reward: (64, 2),\n",
       " step_type: (64, 2)}), BufferInfo(ids=(64, 2), probabilities=(64,))), types: (Trajectory(\n",
       "{action: tf.int64,\n",
       " discount: tf.float32,\n",
       " next_step_type: tf.int32,\n",
       " observation: tf.float32,\n",
       " policy_info: (),\n",
       " reward: tf.float32,\n",
       " step_type: tf.int32}), BufferInfo(ids=tf.int64, probabilities=tf.float32))>"
      ]
     },
     "execution_count": 1,
     "metadata": {},
     "output_type": "execute_result"
    }
   ],
   "source": [
    "# Dataset generates trajectories with shape [Bx2x...]\n",
    "dataset = replay_buffer.as_dataset(\n",
    "    num_parallel_calls=3, \n",
    "    sample_batch_size=batch_size, \n",
    "    num_steps=2).prefetch(3)\n",
    "\n",
    "\n",
    "dataset"
   ]
  },
  {
   "cell_type": "code",
   "execution_count": 30,
   "metadata": {
    "execution": {
     "iopub.execute_input": "2021-05-21T11:12:34.271482Z",
     "iopub.status.busy": "2021-05-21T11:12:34.270874Z",
     "iopub.status.idle": "2021-05-21T11:12:34.333569Z",
     "shell.execute_reply": "2021-05-21T11:12:34.333124Z"
    },
    "id": "K13AST-2ppOq"
   },
   "outputs": [
    {
     "name": "stdout",
     "output_type": "stream",
     "text": [
      "<tensorflow.python.data.ops.iterator_ops.OwnedIterator object at 0x7f3159e01b10>\n"
     ]
    }
   ],
   "source": [
    "iterator = iter(dataset)\n",
    "print(iterator)"
   ]
  },
  {
   "cell_type": "code",
   "execution_count": 31,
   "metadata": {
    "execution": {
     "iopub.execute_input": "2021-05-21T11:12:34.337029Z",
     "iopub.status.busy": "2021-05-21T11:12:34.336378Z",
     "iopub.status.idle": "2021-05-21T11:12:34.338219Z",
     "shell.execute_reply": "2021-05-21T11:12:34.338582Z"
    },
    "id": "Th5w5Sff0b16"
   },
   "outputs": [],
   "source": [
    "# For the curious:\n",
    "# Uncomment to see what the dataset iterator is feeding to the agent.\n",
    "# Compare this representation of replay data \n",
    "# to the collection of individual trajectories shown earlier.\n",
    "\n",
    "# iterator.next()"
   ]
  },
  {
   "cell_type": "markdown",
   "metadata": {
    "id": "hBc9lj9VWWtZ"
   },
   "source": [
    "## Training the agent\n",
    "\n",
    "Two things must happen during the training loop:\n",
    "\n",
    "-   collect data from the environment\n",
    "-   use that data to train the agent's neural network(s)\n",
    "\n",
    "This example also periodicially evaluates the policy and prints the current score.\n",
    "\n",
    "The following will take ~5 minutes to run."
   ]
  },
  {
   "cell_type": "code",
   "execution_count": 32,
   "metadata": {
    "execution": {
     "iopub.execute_input": "2021-05-21T11:12:34.346985Z",
     "iopub.status.busy": "2021-05-21T11:12:34.346379Z",
     "iopub.status.idle": "2021-05-21T11:18:38.301020Z",
     "shell.execute_reply": "2021-05-21T11:18:38.301468Z"
    },
    "id": "0pTbJ3PeyF-u"
   },
   "outputs": [
    {
     "name": "stdout",
     "output_type": "stream",
     "text": [
      "WARNING:tensorflow:From /tmpfs/src/tf_docs_env/lib/python3.7/site-packages/tensorflow/python/util/dispatch.py:206: calling foldr_v2 (from tensorflow.python.ops.functional_ops) with back_prop=False is deprecated and will be removed in a future version.\n",
      "Instructions for updating:\n",
      "back_prop=False is deprecated. Consider using tf.stop_gradient instead.\n",
      "Instead of:\n",
      "results = tf.foldr(fn, elems, back_prop=False)\n",
      "Use:\n",
      "results = tf.nest.map_structure(tf.stop_gradient, tf.foldr(fn, elems))\n",
      "step = 200: loss = 13.838838577270508\n",
      "step = 400: loss = 10.704390525817871\n",
      "step = 600: loss = 48.56843566894531\n",
      "step = 800: loss = 378.4702453613281\n",
      "step = 1000: loss = 377.8888244628906\n",
      "step = 1000: Average Return = 43.79999923706055\n",
      "step = 1200: loss = 187.5207977294922\n",
      "step = 1400: loss = 214.64199829101562\n",
      "step = 1600: loss = 17.623332977294922\n",
      "step = 1800: loss = 6.587499618530273\n",
      "step = 2000: loss = 3.4967007637023926\n",
      "step = 2000: Average Return = 139.3000030517578\n",
      "step = 2200: loss = 5.277331352233887\n",
      "step = 2400: loss = 7.206881523132324\n",
      "step = 2600: loss = 6.254086017608643\n",
      "step = 2800: loss = 8.827886581420898\n",
      "step = 3000: loss = 13.496017456054688\n",
      "step = 3000: Average Return = 200.0\n",
      "step = 3200: loss = 7.6025710105896\n",
      "step = 3400: loss = 12.952665328979492\n",
      "step = 3600: loss = 27.30083465576172\n",
      "step = 3800: loss = 88.28553009033203\n",
      "step = 4000: loss = 198.76272583007812\n",
      "step = 4000: Average Return = 200.0\n",
      "step = 4200: loss = 486.4622497558594\n",
      "step = 4400: loss = 54262.79296875\n",
      "step = 4600: loss = 1264.5574951171875\n",
      "step = 4800: loss = 992.0516357421875\n",
      "step = 5000: loss = 977.217041015625\n",
      "step = 5000: Average Return = 200.0\n",
      "step = 5200: loss = 2119.06103515625\n",
      "step = 5400: loss = 24127.279296875\n",
      "step = 5600: loss = 1855.6395263671875\n",
      "step = 5800: loss = 17722.923828125\n",
      "step = 6000: loss = 5787.45703125\n",
      "step = 6000: Average Return = 200.0\n",
      "step = 6200: loss = 10557.998046875\n",
      "step = 6400: loss = 8124.607421875\n",
      "step = 6600: loss = 17670.0625\n",
      "step = 6800: loss = 15919.0078125\n",
      "step = 7000: loss = 24043.94140625\n",
      "step = 7000: Average Return = 200.0\n",
      "step = 7200: loss = 5861796.0\n",
      "step = 7400: loss = 459482.65625\n",
      "step = 7600: loss = 50082.859375\n",
      "step = 7800: loss = 53606.3828125\n",
      "step = 8000: loss = 31461.5234375\n",
      "step = 8000: Average Return = 200.0\n",
      "step = 8200: loss = 65761.890625\n",
      "step = 8400: loss = 497918.90625\n",
      "step = 8600: loss = 34184.7734375\n",
      "step = 8800: loss = 176729.09375\n",
      "step = 9000: loss = 45120.15625\n",
      "step = 9000: Average Return = 200.0\n",
      "step = 9200: loss = 83520.890625\n",
      "step = 9400: loss = 2171188.75\n",
      "step = 9600: loss = 153536.515625\n",
      "step = 9800: loss = 226270.53125\n",
      "step = 10000: loss = 234804.421875\n",
      "step = 10000: Average Return = 200.0\n",
      "step = 10200: loss = 152426.21875\n",
      "step = 10400: loss = 230853.28125\n",
      "step = 10600: loss = 3969159.75\n",
      "step = 10800: loss = 225156.328125\n",
      "step = 11000: loss = 219397.59375\n",
      "step = 11000: Average Return = 200.0\n",
      "step = 11200: loss = 381921.84375\n",
      "step = 11400: loss = 431358.0\n",
      "step = 11600: loss = 803148.1875\n",
      "step = 11800: loss = 199664.890625\n",
      "step = 12000: loss = 800088.125\n",
      "step = 12000: Average Return = 200.0\n",
      "step = 12200: loss = 263970.40625\n",
      "step = 12400: loss = 449437.25\n",
      "step = 12600: loss = 321954.84375\n",
      "step = 12800: loss = 311498.75\n",
      "step = 13000: loss = 229735.890625\n",
      "step = 13000: Average Return = 200.0\n",
      "step = 13200: loss = 641576.8125\n",
      "step = 13400: loss = 908228.8125\n",
      "step = 13600: loss = 578772.3125\n",
      "step = 13800: loss = 1435467.625\n",
      "step = 14000: loss = 946957.4375\n",
      "step = 14000: Average Return = 200.0\n",
      "step = 14200: loss = 1537268.625\n",
      "step = 14400: loss = 987875.625\n",
      "step = 14600: loss = 1054774.5\n",
      "step = 14800: loss = 782026.3125\n",
      "step = 15000: loss = 2590179.75\n",
      "step = 15000: Average Return = 200.0\n",
      "step = 15200: loss = 1258672.75\n",
      "step = 15400: loss = 3181765.5\n",
      "step = 15600: loss = 1503039.5\n",
      "step = 15800: loss = 2368197.5\n",
      "step = 16000: loss = 4122137.75\n",
      "step = 16000: Average Return = 200.0\n",
      "step = 16200: loss = 1126733.5\n",
      "step = 16400: loss = 1726166.5\n",
      "step = 16600: loss = 2016203.125\n",
      "step = 16800: loss = 2619789.75\n",
      "step = 17000: loss = 1517768.0\n",
      "step = 17000: Average Return = 200.0\n",
      "step = 17200: loss = 8457941.0\n",
      "step = 17400: loss = 95681216.0\n",
      "step = 17600: loss = 2494054.5\n",
      "step = 17800: loss = 1193752.5\n",
      "step = 18000: loss = 3435756.5\n",
      "step = 18000: Average Return = 200.0\n",
      "step = 18200: loss = 129273464.0\n",
      "step = 18400: loss = 3097031.75\n",
      "step = 18600: loss = 275778752.0\n",
      "step = 18800: loss = 582478400.0\n",
      "step = 19000: loss = 2701711.75\n",
      "step = 19000: Average Return = 200.0\n",
      "step = 19200: loss = 2987356.5\n",
      "step = 19400: loss = 5408752.0\n",
      "step = 19600: loss = 2602811.0\n",
      "step = 19800: loss = 3625790.75\n",
      "step = 20000: loss = 1973191.0\n",
      "step = 20000: Average Return = 200.0\n"
     ]
    }
   ],
   "source": [
    "#@test {\"skip\": true}\n",
    "try:\n",
    "  %%time\n",
    "except:\n",
    "  pass\n",
    "\n",
    "# (Optional) Optimize by wrapping some of the code in a graph using TF function.\n",
    "agent.train = common.function(agent.train)\n",
    "\n",
    "# Reset the train step\n",
    "agent.train_step_counter.assign(0)\n",
    "\n",
    "# Evaluate the agent's policy once before training.\n",
    "avg_return = compute_avg_return(eval_env, agent.policy, num_eval_episodes)\n",
    "returns = [avg_return]\n",
    "\n",
    "for _ in range(num_iterations):\n",
    "\n",
    "  # Collect a few steps using collect_policy and save to the replay buffer.\n",
    "  collect_data(train_env, agent.collect_policy, replay_buffer, collect_steps_per_iteration)\n",
    "\n",
    "  # Sample a batch of data from the buffer and update the agent's network.\n",
    "  experience, unused_info = next(iterator)\n",
    "  train_loss = agent.train(experience).loss\n",
    "\n",
    "  step = agent.train_step_counter.numpy()\n",
    "\n",
    "  if step % log_interval == 0:\n",
    "    print('step = {0}: loss = {1}'.format(step, train_loss))\n",
    "\n",
    "  if step % eval_interval == 0:\n",
    "    avg_return = compute_avg_return(eval_env, agent.policy, num_eval_episodes)\n",
    "    print('step = {0}: Average Return = {1}'.format(step, avg_return))\n",
    "    returns.append(avg_return)"
   ]
  },
  {
   "cell_type": "markdown",
   "metadata": {
    "id": "68jNcA_TiJDq"
   },
   "source": [
    "## Visualization\n"
   ]
  },
  {
   "cell_type": "markdown",
   "metadata": {
    "id": "aO-LWCdbbOIC"
   },
   "source": [
    "### Plots\n",
    "\n",
    "Use `matplotlib.pyplot` to chart how the policy improved during training.\n",
    "\n",
    "One iteration of `Cartpole-v0` consists of 200 time steps. The environment gives a reward of `+1` for each step the pole stays up, so the maximum return for one episode is 200. The charts shows the return increasing towards that maximum each time it is evaluated during training. (It may be a little unstable and not increase monotonically each time.)"
   ]
  },
  {
   "cell_type": "code",
   "execution_count": 33,
   "metadata": {
    "execution": {
     "iopub.execute_input": "2021-05-21T11:18:38.326912Z",
     "iopub.status.busy": "2021-05-21T11:18:38.324046Z",
     "iopub.status.idle": "2021-05-21T11:18:38.426380Z",
     "shell.execute_reply": "2021-05-21T11:18:38.426736Z"
    },
    "id": "NxtL1mbOYCVO"
   },
   "outputs": [
    {
     "data": {
      "text/plain": [
       "(-0.5500000000000007, 250.0)"
      ]
     },
     "execution_count": 1,
     "metadata": {},
     "output_type": "execute_result"
    },
    {
     "data": {
      "image/png": "[encoded data removed]",
      "text/plain": [
       "<Figure size 432x288 with 1 Axes>"
      ]
     },
     "metadata": {
      "needs_background": "light"
     },
     "output_type": "display_data"
    }
   ],
   "source": [
    "#@test {\"skip\": true}\n",
    "\n",
    "iterations = range(0, num_iterations + 1, eval_interval)\n",
    "plt.plot(iterations, returns)\n",
    "plt.ylabel('Average Return')\n",
    "plt.xlabel('Iterations')\n",
    "plt.ylim(top=250)"
   ]
  },
  {
   "cell_type": "markdown",
   "metadata": {
    "id": "M7-XpPP99Cy7"
   },
   "source": [
    "### Videos"
   ]
  },
  {
   "cell_type": "markdown",
   "metadata": {
    "id": "9pGfGxSH32gn"
   },
   "source": [
    "Charts are nice. But more exciting is seeing an agent actually performing a task in an environment. \n",
    "\n",
    "First, create a function to embed videos in the notebook."
   ]
  },
  {
   "cell_type": "code",
   "execution_count": 34,
   "metadata": {
    "execution": {
     "iopub.execute_input": "2021-05-21T11:18:38.431439Z",
     "iopub.status.busy": "2021-05-21T11:18:38.430777Z",
     "iopub.status.idle": "2021-05-21T11:18:38.432980Z",
     "shell.execute_reply": "2021-05-21T11:18:38.432561Z"
    },
    "id": "ULaGr8pvOKbl"
   },
   "outputs": [],
   "source": [
    "def embed_mp4(filename):\n",
    "  \"\"\"Embeds an mp4 file in the notebook.\"\"\"\n",
    "  video = open(filename,'rb').read()\n",
    "  b64 = base64.b64encode(video)\n",
    "  tag = '''\n",
    "  <video width=\"640\" height=\"480\" controls>\n",
    "    <source src=\"data:video/mp4;base64,{0}\" type=\"video/mp4\">\n",
    "  Your browser does not support the video tag.\n",
    "  </video>'''.format(b64.decode())\n",
    "\n",
    "  return IPython.display.HTML(tag)"
   ]
  },
  {
   "cell_type": "markdown",
   "metadata": {
    "id": "9c_PH-pX4Pr5"
   },
   "source": [
    "Now iterate through a few episodes of the Cartpole game with the agent. The underlying Python environment (the one \"inside\" the TensorFlow environment wrapper) provides a `render()` method, which outputs an image of the environment state. These can be collected into a video."
   ]
  },
  {
   "cell_type": "code",
   "execution_count": 35,
   "metadata": {
    "execution": {
     "iopub.execute_input": "2021-05-21T11:18:38.438211Z",
     "iopub.status.busy": "2021-05-21T11:18:38.437588Z",
     "iopub.status.idle": "2021-05-21T11:18:48.850004Z",
     "shell.execute_reply": "2021-05-21T11:18:48.850371Z"
    },
    "id": "owOVWB158NlF"
   },
   "outputs": [
    {
     "name": "stderr",
     "output_type": "stream",
     "text": [
      "WARNING:root:IMAGEIO FFMPEG_WRITER WARNING: input image is not divisible by macro_block_size=16, resizing from (400, 600) to (400, 608) to ensure video compatibility with most codecs and players. To prevent resizing, make your input image divisible by the macro_block_size or set the macro_block_size to None (risking incompatibility). You may also see a FFMPEG warning concerning speedloss due to data not being aligned.\n"
     ]
    },
    {
     "data": {
      "text/html": [
       "\n",
       "  <video width=\"640\" height=\"480\" controls>\n",
       "    <source src=\"data:video/mp4;base64,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\" type=\"video/mp4\">\n",
       "  Your browser does not support the video tag.\n",
       "  </video>"
      ],
      "text/plain": [
       "<IPython.core.display.HTML object>"
      ]
     },
     "execution_count": 1,
     "metadata": {},
     "output_type": "execute_result"
    }
   ],
   "source": [
    "def create_policy_eval_video(policy, filename, num_episodes=5, fps=30):\n",
    "  filename = filename + \".mp4\"\n",
    "  with imageio.get_writer(filename, fps=fps) as video:\n",
    "    for _ in range(num_episodes):\n",
    "      time_step = eval_env.reset()\n",
    "      video.append_data(eval_py_env.render())\n",
    "      while not time_step.is_last():\n",
    "        action_step = policy.action(time_step)\n",
    "        time_step = eval_env.step(action_step.action)\n",
    "        video.append_data(eval_py_env.render())\n",
    "  return embed_mp4(filename)\n",
    "\n",
    "\n",
    "\n",
    "\n",
    "create_policy_eval_video(agent.policy, \"trained-agent\")"
   ]
  },
  {
   "cell_type": "markdown",
   "metadata": {
    "id": "povaAOcZygLw"
   },
   "source": [
    "For fun, compare the trained agent (above) to an agent moving randomly. (It does not do as well.)"
   ]
  },
  {
   "cell_type": "code",
   "execution_count": 36,
   "metadata": {
    "execution": {
     "iopub.execute_input": "2021-05-21T11:18:48.855325Z",
     "iopub.status.busy": "2021-05-21T11:18:48.854754Z",
     "iopub.status.idle": "2021-05-21T11:18:50.010124Z",
     "shell.execute_reply": "2021-05-21T11:18:50.010505Z"
    },
    "id": "pJZIdC37yNH4"
   },
   "outputs": [
    {
     "name": "stderr",
     "output_type": "stream",
     "text": [
      "WARNING:root:IMAGEIO FFMPEG_WRITER WARNING: input image is not divisible by macro_block_size=16, resizing from (400, 600) to (400, 608) to ensure video compatibility with most codecs and players. To prevent resizing, make your input image divisible by the macro_block_size or set the macro_block_size to None (risking incompatibility). You may also see a FFMPEG warning concerning speedloss due to data not being aligned.\n"
     ]
    },
    {
     "data": {
      "text/html": [
       "\n",
       "  <video width=\"640\" height=\"480\" controls>\n",
       "    <source src=\"data:video/mp4;base64,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\" type=\"video/mp4\">\n",
       "  Your browser does not support the video tag.\n",
       "  </video>"
      ],
      "text/plain": [
       "<IPython.core.display.HTML object>"
      ]
     },
     "execution_count": 1,
     "metadata": {},
     "output_type": "execute_result"
    }
   ],
   "source": [
    "create_policy_eval_video(random_policy, \"random-agent\")"
   ]
  }
 ],
 "metadata": {
  "colab": {
   "collapsed_sections": [],
   "name": "DQN Tutorial.ipynb",
   "private_outputs": true,
   "provenance": [],
   "toc_visible": true
  },
  "kernelspec": {
   "display_name": "keras",
   "language": "python",
   "name": "keras"
  },
  "language_info": {
   "codemirror_mode": {
    "name": "ipython",
    "version": 3
   },
   "file_extension": ".py",
   "mimetype": "text/x-python",
   "name": "python",
   "nbconvert_exporter": "python",
   "pygments_lexer": "ipython3",
   "version": "3.8.8"
  },
  "pycharm": {
   "stem_cell": {
    "cell_type": "raw",
    "metadata": {
     "collapsed": false
    },
    "source": []
   }
  }
 },
 "nbformat": 4,
 "nbformat_minor": 4
}
