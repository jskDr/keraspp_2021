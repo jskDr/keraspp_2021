{
 "cells": [
  {
   "cell_type": "code",
   "execution_count": 1,
   "metadata": {
    "collapsed": true
   },
   "outputs": [],
   "source": [
    "# %load /home/sjkim/.jupyter/head.py\n",
    "# %%writefile /home/sjkim/.jupyter/head.py\n",
    "# %load /home/sjkim/.jupyter/head.py\n",
    "%matplotlib inline\n",
    "%load_ext autoreload \n",
    "%autoreload 2\n",
    "from importlib import reload\n",
    "\n",
    "import matplotlib.pyplot as plt\n",
    "import numpy as np\n",
    "\n",
    "import pandas as pd\n",
    "import os"
   ]
  },
  {
   "cell_type": "markdown",
   "metadata": {},
   "source": [
    "# Advanced Methods"
   ]
  },
  {
   "cell_type": "markdown",
   "metadata": {},
   "source": [
    "## Keras Advanced Methods"
   ]
  },
  {
   "cell_type": "markdown",
   "metadata": {},
   "source": [
    "### Lambda with lambda"
   ]
  },
  {
   "cell_type": "code",
   "execution_count": 2,
   "metadata": {},
   "outputs": [
    {
     "name": "stderr",
     "output_type": "stream",
     "text": [
      "Using TensorFlow backend.\n"
     ]
    },
    {
     "name": "stdout",
     "output_type": "stream",
     "text": [
      "np.array([1,2,3]) + 1:\n",
      "[[ 2.]\n",
      " [ 3.]\n",
      " [ 4.]]\n"
     ]
    }
   ],
   "source": [
    "from keras.layers import Lambda, Input\n",
    "from keras.models import Model\n",
    "\n",
    "x = Input((1,))\n",
    "y = Lambda(lambda x: x + 1)(x)\n",
    "m = Model(x, y)\n",
    "\n",
    "yp = m.predict_on_batch([1, 2, 3])\n",
    "print(\"np.array([1,2,3]) + 1:\")\n",
    "print(yp)"
   ]
  },
  {
   "cell_type": "markdown",
   "metadata": {},
   "source": [
    "### Lambda functions"
   ]
  },
  {
   "cell_type": "code",
   "execution_count": 8,
   "metadata": {},
   "outputs": [
    {
     "name": "stdout",
     "output_type": "stream",
     "text": [
      "x**2 + 2 * x + 1: x = np.array([1,2,3]):\n",
      "[[  4.]\n",
      " [  9.]\n",
      " [ 16.]]\n"
     ]
    }
   ],
   "source": [
    "from keras.layers import Lambda, Input\n",
    "from keras.models import Model\n",
    "\n",
    "def kproc(x):\n",
    "    return x ** 2 + 2 * x + 1\n",
    "\n",
    "def kshape(input_shape):\n",
    "    return input_shape\n",
    "\n",
    "x = Input((1,))\n",
    "y = Lambda(kproc, kshape)(x)\n",
    "m = Model(x, y)\n",
    "\n",
    "yp = m.predict_on_batch([1, 2, 3])\n",
    "print(\"x**2 + 2 * x + 1: x = np.array([1,2,3]):\")\n",
    "print(yp)"
   ]
  },
  {
   "cell_type": "markdown",
   "metadata": {},
   "source": [
    "### engine.topology.Layer"
   ]
  },
  {
   "cell_type": "code",
   "execution_count": 7,
   "metadata": {},
   "outputs": [
    {
     "name": "stdout",
     "output_type": "stream",
     "text": [
      "x**2 + 2 * x + 1: x = np.array([1,2,3]):\n",
      "[[  4.]\n",
      " [  9.]\n",
      " [ 16.]]\n"
     ]
    }
   ],
   "source": [
    "from keras.layers import Lambda, Input\n",
    "from keras.models import Model\n",
    "from keras.engine.topology import Layer\n",
    "\n",
    "class Mult(Layer):\n",
    "    def __init__(self, **kwargs):\n",
    "        super().__init__(**kwargs)\n",
    "    def call(self, x):\n",
    "        return x ** 2 + 2 * x + 1\n",
    "\n",
    "x = Input((1,))\n",
    "y = Mult()(x)\n",
    "m = Model(x, y)\n",
    "\n",
    "yp = m.predict_on_batch([1, 2, 3])\n",
    "print(\"x**2 + 2 * x + 1: x = np.array([1,2,3]):\")\n",
    "print(yp)"
   ]
  },
  {
   "cell_type": "markdown",
   "metadata": {},
   "source": [
    "### Beckend for Lambda"
   ]
  },
  {
   "cell_type": "code",
   "execution_count": 4,
   "metadata": {},
   "outputs": [
    {
     "name": "stdout",
     "output_type": "stream",
     "text": [
      "[[ 1.  2.  3.  1.  0.  1.  1.  0.  1.]\n",
      " [ 3.  4.  8.  2.  1.  3.  4.  1.  9.]]\n"
     ]
    }
   ],
   "source": [
    "from keras.layers import Lambda, Input\n",
    "from keras.models import Model\n",
    "from keras import backend as K\n",
    "\n",
    "def kproc_concat(x):    \n",
    "    m = K.mean(x, axis=1, keepdims=True)\n",
    "    d1 = K.abs(x - m)\n",
    "    d2 = K.square(x - m)\n",
    "    return K.concatenate([x, d1, d2], axis=1)\n",
    "\n",
    "def kshape_concat(input_shape):\n",
    "    output_shape = list(input_shape)\n",
    "    output_shape[1] *= 3\n",
    "    return tuple(output_shape)\n",
    "\n",
    "x = Input((3,))\n",
    "y = Lambda(kproc_concat, kshape_concat)(x)\n",
    "m = Model(x, y)\n",
    "\n",
    "yp = m.predict_on_batch([[1, 2, 3], [3, 4, 8]])\n",
    "print(yp)"
   ]
  },
  {
   "cell_type": "markdown",
   "metadata": {},
   "source": [
    "### TF engine for Lambda "
   ]
  },
  {
   "cell_type": "code",
   "execution_count": 34,
   "metadata": {},
   "outputs": [
    {
     "name": "stdout",
     "output_type": "stream",
     "text": [
      "[[ 1.  2.  3.  1.  0.  1.  1.  0.  1.]\n",
      " [ 3.  4.  8.  2.  1.  3.  4.  1.  9.]]\n"
     ]
    }
   ],
   "source": [
    "from keras.layers import Lambda, Input\n",
    "from keras.models import Model\n",
    "import tensorflow as tf\n",
    "\n",
    "def kproc_concat(x):    \n",
    "    m = tf.reduce_mean(x, axis=1, keep_dims=True)\n",
    "    d1 = tf.abs(x - m)\n",
    "    d2 = tf.square(x - m)\n",
    "    return tf.concat([x, d1, d2], axis=1)\n",
    "\n",
    "def kshape_concat(input_shape):\n",
    "    output_shape = list(input_shape)\n",
    "    output_shape[1] *= 3\n",
    "    return tuple(output_shape)\n",
    "\n",
    "x = Input((3,))\n",
    "y = Lambda(kproc_concat, kshape_concat)(x)\n",
    "m = Model(x, y)\n",
    "\n",
    "yp = m.predict_on_batch([[1, 2, 3], [3, 4, 8]])\n",
    "print(yp)"
   ]
  },
  {
   "cell_type": "code",
   "execution_count": null,
   "metadata": {
    "collapsed": true
   },
   "outputs": [],
   "source": []
  }
 ],
 "metadata": {
  "kernelspec": {
   "display_name": "Python [default]",
   "language": "python",
   "name": "python3"
  },
  "language_info": {
   "codemirror_mode": {
    "name": "ipython",
    "version": 3
   },
   "file_extension": ".py",
   "mimetype": "text/x-python",
   "name": "python",
   "nbconvert_exporter": "python",
   "pygments_lexer": "ipython3",
   "version": "3.6.3"
  },
  "toc": {
   "nav_menu": {},
   "number_sections": true,
   "sideBar": true,
   "skip_h1_title": true,
   "toc_cell": false,
   "toc_position": {
    "height": "881px",
    "left": "0px",
    "right": "1072px",
    "top": "107px",
    "width": "212px"
   },
   "toc_section_display": "block",
   "toc_window_display": true
  }
 },
 "nbformat": 4,
 "nbformat_minor": 2
}
