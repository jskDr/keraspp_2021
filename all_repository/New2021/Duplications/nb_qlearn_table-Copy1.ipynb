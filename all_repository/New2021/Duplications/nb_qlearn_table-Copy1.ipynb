{
 "cells": [
  {
   "cell_type": "code",
   "execution_count": 1,
   "metadata": {},
   "outputs": [],
   "source": [
    "%matplotlib inline"
   ]
  },
  {
   "cell_type": "code",
   "execution_count": 6,
   "metadata": {},
   "outputs": [],
   "source": [
    "import gym\n",
    "import numpy as np\n",
    "import random as pr\n",
    "import matplotlib.pyplot as plt\n",
    "\n",
    "\"\"\"\n",
    "Frozen-lake actions:\n",
    "LEFT = 0, DOWN = 1, RIGHT = 2, UP = 3\n",
    "\"\"\"\n",
    "\n",
    "def rargmax(vector):\n",
    "    # Blotzman-like policy strategy\n",
    "    m = np.amax(vector)\n",
    "    indices = np.nonzero(vector==m)[0]\n",
    "    return pr.choice(indices)\n",
    "\n",
    "def degreedy(env, vector, episode, epsilon1=0.8, epsilon2=0, Nstop=500):\n",
    "    gamma = np.max((Nstop-episode)/Nstop,0)\n",
    "    epsilon = (epsilon1 - epsilon2) * gamma + epsilon2\n",
    "    r = np.random.random()\n",
    "    if r < epsilon:\n",
    "        return env.action_space.sample()\n",
    "    else:\n",
    "        return np.argmax(vector)\n",
    "\n",
    "def qlearn_base(env, Q, num_episodes=100):\n",
    "    \"\"\"\n",
    "    action을 Q값에서 바로 결정 (단, 동일한 Q(s,a)들에 대해서는 확률적으로 선택함)\n",
    "    - action = rargmax(Q[state,:])\n",
    "    \"\"\"\n",
    "    rList = []\n",
    "    for i in range(num_episodes):\n",
    "        state = env.reset()\n",
    "        rAll = 0\n",
    "        done = False\n",
    "        while not done:\n",
    "            action = rargmax(Q[state,:])\n",
    "            new_state, reward, done, _ = env.step(action)\n",
    "            Q[state,action] = reward + np.max(Q[new_state,:])\n",
    "            state = new_state      \n",
    "            # done까지 여기서는 reward가 한번 밖에 없음. 따라서 rAll은 reward를 사용해도 동일함.\n",
    "            rAll += reward\n",
    "        rList.append(rAll)        \n",
    "    return rList\n",
    "\n",
    "def qlearn_random(env, Q, num_episodes=100):\n",
    "    \"\"\"\n",
    "    action을 random을 더해서 결정함.\n",
    "    - action = np.argmax(Q[state,:] + np.random.randn(1,env.action_space.n) / (i+1))\n",
    "    \"\"\"\n",
    "    rList = []\n",
    "    for i in range(num_episodes):\n",
    "        state = env.reset()\n",
    "        rAll = 0\n",
    "        done = False\n",
    "        while not done:\n",
    "            # action = rargmax(Q[state,:])\n",
    "            action = np.argmax(Q[state,:] + np.random.randn(1,env.action_space.n) / (i+1))\n",
    "            new_state, reward, done, _ = env.step(action)\n",
    "            Q[state,action] = reward + np.max(Q[new_state,:])\n",
    "            state = new_state      \n",
    "            # done까지 여기서는 reward가 한번 밖에 없음. 따라서 rAll은 reward를 사용해도 동일함.\n",
    "            rAll += reward\n",
    "        rList.append(rAll)        \n",
    "    return rList\n",
    "\n",
    "def qlearn_discount(env, Q, num_episodes=100, discount=0.99):\n",
    "    \"\"\"\n",
    "    action을 random을 더해서 결정함.\n",
    "    - action = np.argmax(Q[state,:] + np.random.randn(1,env.action_space.n) / (i+1))\n",
    "    \"\"\"\n",
    "    rList = []\n",
    "    for i in range(num_episodes):\n",
    "        state = env.reset()\n",
    "        rAll = 0\n",
    "        done = False\n",
    "        while not done:\n",
    "            action = rargmax(Q[state,:])\n",
    "            new_state, reward, done, _ = env.step(action)\n",
    "            Q[state,action] = reward + discount * np.max(Q[new_state,:])\n",
    "            state = new_state      \n",
    "            # done까지 여기서는 reward가 한번 밖에 없음. 따라서 rAll은 reward를 사용해도 동일함.\n",
    "            rAll += reward\n",
    "        rList.append(rAll)        \n",
    "    return rList\n",
    "\n",
    "def qlearn_discount_lr(env, Q, num_episodes=100, discount=0.99, lr=0.85):\n",
    "    \"\"\"\n",
    "    action을 random을 더해서 결정함.\n",
    "    - action = np.argmax(Q[state,:] + np.random.randn(1,env.action_space.n) / (i+1))\n",
    "    \"\"\"\n",
    "    rList = []\n",
    "    for i in range(num_episodes):\n",
    "        state = env.reset()\n",
    "        rAll = 0\n",
    "        done = False\n",
    "        while not done:\n",
    "            action = rargmax(Q[state,:])\n",
    "            new_state, reward, done, _ = env.step(action)\n",
    "            Q[state,action] = (1-lr)*Q[state,action] + lr * (reward + discount * np.max(Q[new_state,:]))\n",
    "            state = new_state      \n",
    "            # done까지 여기서는 reward가 한번 밖에 없음. 따라서 rAll은 reward를 사용해도 동일함.\n",
    "            rAll += reward\n",
    "        rList.append(rAll)        \n",
    "    return rList\n",
    "\n",
    "def qlearn_random_discount_lr(env, Q, num_episodes=100, discount=0.99, lr=0.85):\n",
    "    \"\"\"\n",
    "    action을 random을 더해서 결정함.\n",
    "    - action = np.argmax(Q[state,:] + np.random.randn(1,env.action_space.n) / (i+1))\n",
    "    \"\"\"\n",
    "    rList = []\n",
    "    for i in range(num_episodes):\n",
    "        state = env.reset()\n",
    "        rAll = 0\n",
    "        done = False\n",
    "        while not done:\n",
    "            # action = rargmax(Q[state,:])\n",
    "            action = np.argmax(Q[state,:] + np.random.randn(1,env.action_space.n) / (i+1))\n",
    "            new_state, reward, done, _ = env.step(action)\n",
    "            Q[state,action] = (1-lr)*Q[state,action] + lr * (reward + discount * np.max(Q[new_state,:]))\n",
    "            state = new_state      \n",
    "            # done까지 여기서는 reward가 한번 밖에 없음. 따라서 rAll은 reward를 사용해도 동일함.\n",
    "            rAll += reward\n",
    "        rList.append(rAll)        \n",
    "    return rList\n",
    "\n",
    "def qlearn_degreedy_discount_lr(env, Q, num_episodes=100, discount=0.99, lr=0.85, epsilon=0.8, Nstop=1000):\n",
    "    \"\"\"\n",
    "    action을 random을 더해서 결정함.\n",
    "    - action = np.argmax(Q[state,:] + np.random.randn(1,env.action_space.n) / (i+1))\n",
    "    \"\"\"\n",
    "    rList = []\n",
    "    for i in range(num_episodes):\n",
    "        state = env.reset()\n",
    "        rAll = 0\n",
    "        done = False\n",
    "        while not done:\n",
    "            # action = rargmax(Q[state,:])\n",
    "            #action = np.argmax(Q[state,:] + np.random.randn(1,env.action_space.n) / (i+1))\n",
    "            action = degreedy(env, Q[state,:], i, epsilon1=epsilon, Nstop=Nstop)\n",
    "            new_state, reward, done, _ = env.step(action)\n",
    "            Q[state,action] = (1-lr)*Q[state,action] + lr * (reward + discount * np.max(Q[new_state,:]))\n",
    "            state = new_state      \n",
    "            # done까지 여기서는 reward가 한번 밖에 없음. 따라서 rAll은 reward를 사용해도 동일함.\n",
    "            rAll += reward\n",
    "        rList.append(rAll)        \n",
    "    return rList\n",
    "\n",
    "def qlearn_mode(mode, env, Q, num_episodes=100):\n",
    "    if mode == 'base':\n",
    "        return qlearn_base(env, Q, num_episodes=num_episodes)\n",
    "    elif mode == 'random': # random action\n",
    "        return qlearn_random(env, Q, num_episodes=num_episodes)        \n",
    "    elif mode == 'discount':\n",
    "        return qlearn_discount(env, Q, num_episodes=num_episodes)\n",
    "    elif mode == 'discount_lr':\n",
    "        return qlearn_discount_lr(env, Q, num_episodes=num_episodes)    \n",
    "    elif mode == 'random_discount_lr':\n",
    "        return qlearn_random_discount_lr(env, Q, num_episodes=num_episodes)    \n",
    "    elif mode == 'degreedy_discount_lr':\n",
    "        return qlearn_degreedy_discount_lr(env, Q, num_episodes=num_episodes)    \n",
    "    \n",
    "def run(mode, num_episodes=2000):\n",
    "    print(\"Supporting modes: base, random, discount, discount_lr, random_discount_lr, degreedy_discount_lr\") \n",
    "    print(f'Current mode: {mode}')\n",
    "    \n",
    "    env = gym.make(\"FrozenLake-v0\", map_name='4x4', is_slippery=False)\n",
    "    Q = np.zeros([env.observation_space.n, env.action_space.n])\n",
    "\n",
    "    rList = qlearn_mode(mode, env, Q, num_episodes)\n",
    "    print(f\"Total success rate: {sum(rList)/num_episodes}\")\n",
    "    plt.bar(range(len(rList)), 1-np.array(rList))\n",
    "    plt.title('Show 1-reward')\n",
    "    plt.show()\n",
    "\n",
    "    print(\"Final Q-table\")\n",
    "    print(Q)\n",
    "    print()\n",
    "\n",
    "    print(\"Frozen-Lake Map at the Final State\")\n",
    "    # env.reset()\n",
    "    env.render()\n",
    "    print()\n",
    "\n",
    "    print(\"Final action for each state in Q\")\n",
    "    action_list = [\"LEFT\", \"DOWN\", \"RIGHT\", \"UP\"]\n",
    "    for i, q in enumerate(Q):\n",
    "        print(action_list[np.argmax(q)], end=',')\n",
    "        if i % 4 == 3:\n",
    "            print()"
   ]
  },
  {
   "cell_type": "code",
   "execution_count": 7,
   "metadata": {},
   "outputs": [
    {
     "name": "stdout",
     "output_type": "stream",
     "text": [
      "Supporting modes: base, random, discount, discount_lr, random_discount_lr, degreedy_discount_lr\n",
      "Current mode: base\n",
      "Total success rate: 0.85\n"
     ]
    },
    {
     "data": {
      "image/png": "[encoded data removed]",
      "text/plain": [
       "<Figure size 432x288 with 1 Axes>"
      ]
     },
     "metadata": {
      "needs_background": "light"
     },
     "output_type": "display_data"
    },
    {
     "name": "stdout",
     "output_type": "stream",
     "text": [
      "Final Q-table\n",
      "[[0. 1. 0. 0.]\n",
      " [0. 0. 0. 0.]\n",
      " [0. 0. 0. 0.]\n",
      " [0. 0. 0. 0.]\n",
      " [0. 1. 0. 0.]\n",
      " [0. 0. 0. 0.]\n",
      " [0. 0. 0. 0.]\n",
      " [0. 0. 0. 0.]\n",
      " [0. 0. 1. 0.]\n",
      " [0. 0. 1. 0.]\n",
      " [0. 1. 0. 0.]\n",
      " [0. 0. 0. 0.]\n",
      " [0. 0. 0. 0.]\n",
      " [0. 0. 1. 0.]\n",
      " [0. 0. 1. 0.]\n",
      " [0. 0. 0. 0.]]\n",
      "\n",
      "Frozen-Lake Map at the Final State\n",
      "  (Right)\n",
      "SFFF\n",
      "FHFH\n",
      "FFFH\n",
      "HFF\u001b[41mG\u001b[0m\n",
      "\n",
      "Final action for each state in Q\n",
      "DOWN,LEFT,LEFT,LEFT,\n",
      "DOWN,LEFT,LEFT,LEFT,\n",
      "RIGHT,RIGHT,DOWN,LEFT,\n",
      "LEFT,RIGHT,RIGHT,LEFT,\n"
     ]
    }
   ],
   "source": [
    "run('base')"
   ]
  },
  {
   "cell_type": "code",
   "execution_count": 8,
   "metadata": {},
   "outputs": [
    {
     "name": "stdout",
     "output_type": "stream",
     "text": [
      "Supporting modes: base, random, discount, discount_lr, random_discount_lr, degreedy_discount_lr\n",
      "Current mode: random\n",
      "Total success rate: 0.9055\n"
     ]
    },
    {
     "data": {
      "image/png": "[encoded data removed]",
      "text/plain": [
       "<Figure size 432x288 with 1 Axes>"
      ]
     },
     "metadata": {
      "needs_background": "light"
     },
     "output_type": "display_data"
    },
    {
     "name": "stdout",
     "output_type": "stream",
     "text": [
      "Final Q-table\n",
      "[[0. 1. 0. 0.]\n",
      " [0. 0. 0. 0.]\n",
      " [0. 0. 0. 0.]\n",
      " [0. 0. 0. 0.]\n",
      " [0. 1. 0. 0.]\n",
      " [0. 0. 0. 0.]\n",
      " [0. 0. 0. 0.]\n",
      " [0. 0. 0. 0.]\n",
      " [0. 0. 1. 0.]\n",
      " [0. 0. 1. 0.]\n",
      " [0. 1. 0. 0.]\n",
      " [0. 0. 0. 0.]\n",
      " [0. 0. 0. 0.]\n",
      " [0. 0. 0. 0.]\n",
      " [0. 0. 1. 0.]\n",
      " [0. 0. 0. 0.]]\n",
      "\n",
      "Frozen-Lake Map at the Final State\n",
      "  (Right)\n",
      "SFFF\n",
      "FHFH\n",
      "FFFH\n",
      "HFF\u001b[41mG\u001b[0m\n",
      "\n",
      "Final action for each state in Q\n",
      "DOWN,LEFT,LEFT,LEFT,\n",
      "DOWN,LEFT,LEFT,LEFT,\n",
      "RIGHT,RIGHT,DOWN,LEFT,\n",
      "LEFT,LEFT,RIGHT,LEFT,\n"
     ]
    }
   ],
   "source": [
    "run('random')"
   ]
  },
  {
   "cell_type": "code",
   "execution_count": 9,
   "metadata": {},
   "outputs": [
    {
     "name": "stdout",
     "output_type": "stream",
     "text": [
      "Supporting modes: base, random, discount, discount_lr, random_discount_lr, degreedy_discount_lr\n",
      "Current mode: discount\n",
      "Total success rate: 0.97\n"
     ]
    },
    {
     "data": {
      "image/png": "[encoded data removed]",
      "text/plain": [
       "<Figure size 432x288 with 1 Axes>"
      ]
     },
     "metadata": {
      "needs_background": "light"
     },
     "output_type": "display_data"
    },
    {
     "name": "stdout",
     "output_type": "stream",
     "text": [
      "Final Q-table\n",
      "[[0.         0.         0.95099005 0.        ]\n",
      " [0.         0.         0.96059601 0.        ]\n",
      " [0.         0.970299   0.         0.        ]\n",
      " [0.         0.         0.         0.        ]\n",
      " [0.         0.         0.         0.        ]\n",
      " [0.         0.         0.         0.        ]\n",
      " [0.         0.9801     0.         0.        ]\n",
      " [0.         0.         0.         0.        ]\n",
      " [0.         0.         0.         0.        ]\n",
      " [0.         0.         0.         0.        ]\n",
      " [0.         0.99       0.         0.        ]\n",
      " [0.         0.         0.         0.        ]\n",
      " [0.         0.         0.         0.        ]\n",
      " [0.         0.         0.99       0.        ]\n",
      " [0.         0.         1.         0.        ]\n",
      " [0.         0.         0.         0.        ]]\n",
      "\n",
      "Frozen-Lake Map at the Final State\n",
      "  (Right)\n",
      "SFFF\n",
      "FHFH\n",
      "FFFH\n",
      "HFF\u001b[41mG\u001b[0m\n",
      "\n",
      "Final action for each state in Q\n",
      "RIGHT,RIGHT,DOWN,LEFT,\n",
      "LEFT,LEFT,DOWN,LEFT,\n",
      "LEFT,LEFT,DOWN,LEFT,\n",
      "LEFT,RIGHT,RIGHT,LEFT,\n"
     ]
    }
   ],
   "source": [
    "run('discount')"
   ]
  },
  {
   "cell_type": "code",
   "execution_count": 10,
   "metadata": {},
   "outputs": [
    {
     "name": "stdout",
     "output_type": "stream",
     "text": [
      "Supporting modes: base, random, discount, discount_lr, random_discount_lr, degreedy_discount_lr\n",
      "Current mode: discount_lr\n",
      "Total success rate: 0.9585\n"
     ]
    },
    {
     "data": {
      "image/png": "[encoded data removed]",
      "text/plain": [
       "<Figure size 432x288 with 1 Axes>"
      ]
     },
     "metadata": {
      "needs_background": "light"
     },
     "output_type": "display_data"
    },
    {
     "name": "stdout",
     "output_type": "stream",
     "text": [
      "Final Q-table\n",
      "[[0.         0.         0.95099005 0.        ]\n",
      " [0.         0.         0.96059601 0.        ]\n",
      " [0.         0.970299   0.         0.        ]\n",
      " [0.         0.         0.         0.        ]\n",
      " [0.         0.         0.         0.        ]\n",
      " [0.         0.         0.         0.        ]\n",
      " [0.         0.9801     0.         0.        ]\n",
      " [0.         0.         0.         0.        ]\n",
      " [0.         0.         0.         0.        ]\n",
      " [0.         0.         0.         0.        ]\n",
      " [0.         0.99       0.         0.        ]\n",
      " [0.         0.         0.         0.        ]\n",
      " [0.         0.         0.         0.        ]\n",
      " [0.         0.         0.         0.        ]\n",
      " [0.         0.         1.         0.        ]\n",
      " [0.         0.         0.         0.        ]]\n",
      "\n",
      "Frozen-Lake Map at the Final State\n",
      "  (Right)\n",
      "SFFF\n",
      "FHFH\n",
      "FFFH\n",
      "HFF\u001b[41mG\u001b[0m\n",
      "\n",
      "Final action for each state in Q\n",
      "RIGHT,RIGHT,DOWN,LEFT,\n",
      "LEFT,LEFT,DOWN,LEFT,\n",
      "LEFT,LEFT,DOWN,LEFT,\n",
      "LEFT,LEFT,RIGHT,LEFT,\n"
     ]
    }
   ],
   "source": [
    "run('discount_lr')"
   ]
  },
  {
   "cell_type": "code",
   "execution_count": 11,
   "metadata": {},
   "outputs": [
    {
     "name": "stdout",
     "output_type": "stream",
     "text": [
      "Supporting modes: base, random, discount, discount_lr, random_discount_lr, degreedy_discount_lr\n",
      "Current mode: random_discount_lr\n",
      "Total success rate: 0.856\n"
     ]
    },
    {
     "data": {
      "image/png": "[encoded data removed]",
      "text/plain": [
       "<Figure size 432x288 with 1 Axes>"
      ]
     },
     "metadata": {
      "needs_background": "light"
     },
     "output_type": "display_data"
    },
    {
     "name": "stdout",
     "output_type": "stream",
     "text": [
      "Final Q-table\n",
      "[[0.         0.         0.95099005 0.        ]\n",
      " [0.         0.         0.96059601 0.        ]\n",
      " [0.         0.970299   0.         0.        ]\n",
      " [0.         0.         0.         0.        ]\n",
      " [0.         0.         0.         0.        ]\n",
      " [0.         0.         0.         0.        ]\n",
      " [0.         0.9801     0.         0.        ]\n",
      " [0.         0.         0.         0.        ]\n",
      " [0.         0.         0.         0.        ]\n",
      " [0.         0.         0.         0.        ]\n",
      " [0.         0.99       0.         0.        ]\n",
      " [0.         0.         0.         0.        ]\n",
      " [0.         0.         0.         0.        ]\n",
      " [0.         0.         0.         0.        ]\n",
      " [0.         0.         1.         0.        ]\n",
      " [0.         0.         0.         0.        ]]\n",
      "\n",
      "Frozen-Lake Map at the Final State\n",
      "  (Right)\n",
      "SFFF\n",
      "FHFH\n",
      "FFFH\n",
      "HFF\u001b[41mG\u001b[0m\n",
      "\n",
      "Final action for each state in Q\n",
      "RIGHT,RIGHT,DOWN,LEFT,\n",
      "LEFT,LEFT,DOWN,LEFT,\n",
      "LEFT,LEFT,DOWN,LEFT,\n",
      "LEFT,LEFT,RIGHT,LEFT,\n"
     ]
    }
   ],
   "source": [
    "run('random_discount_lr')"
   ]
  },
  {
   "cell_type": "code",
   "execution_count": 12,
   "metadata": {},
   "outputs": [
    {
     "name": "stdout",
     "output_type": "stream",
     "text": [
      "Supporting modes: base, random, discount, discount_lr, random_discount_lr, degreedy_discount_lr\n",
      "Current mode: degreedy_discount_lr\n",
      "Total success rate: 0.7295\n"
     ]
    },
    {
     "data": {
      "image/png": "[encoded data removed]",
      "text/plain": [
       "<Figure size 432x288 with 1 Axes>"
      ]
     },
     "metadata": {
      "needs_background": "light"
     },
     "output_type": "display_data"
    },
    {
     "name": "stdout",
     "output_type": "stream",
     "text": [
      "Final Q-table\n",
      "[[0.94148015 0.95099005 0.93206535 0.94148015]\n",
      " [0.94148015 0.         0.92274469 0.93159349]\n",
      " [0.93206535 0.         0.         0.        ]\n",
      " [0.78433299 0.         0.         0.        ]\n",
      " [0.95099005 0.96059601 0.         0.94148015]\n",
      " [0.         0.         0.         0.        ]\n",
      " [0.         0.         0.         0.91963043]\n",
      " [0.         0.         0.         0.        ]\n",
      " [0.96059601 0.         0.970299   0.95099005]\n",
      " [0.96059601 0.9801     0.9801     0.        ]\n",
      " [0.970299   0.99       0.         0.85802107]\n",
      " [0.         0.         0.         0.        ]\n",
      " [0.         0.         0.         0.        ]\n",
      " [0.         0.9801     0.99       0.970299  ]\n",
      " [0.9801     0.99       1.         0.9801    ]\n",
      " [0.         0.         0.         0.        ]]\n",
      "\n",
      "Frozen-Lake Map at the Final State\n",
      "  (Right)\n",
      "SFFF\n",
      "FHFH\n",
      "FFFH\n",
      "HFF\u001b[41mG\u001b[0m\n",
      "\n",
      "Final action for each state in Q\n",
      "DOWN,LEFT,LEFT,LEFT,\n",
      "DOWN,LEFT,UP,LEFT,\n",
      "RIGHT,DOWN,DOWN,LEFT,\n",
      "LEFT,RIGHT,RIGHT,LEFT,\n"
     ]
    }
   ],
   "source": [
    "run('degreedy_discount_lr')"
   ]
  }
 ],
 "metadata": {
  "kernelspec": {
   "display_name": "keras",
   "language": "python",
   "name": "keras"
  },
  "language_info": {
   "codemirror_mode": {
    "name": "ipython",
    "version": 3
   },
   "file_extension": ".py",
   "mimetype": "text/x-python",
   "name": "python",
   "nbconvert_exporter": "python",
   "pygments_lexer": "ipython3",
   "version": "3.8.8"
  }
 },
 "nbformat": 4,
 "nbformat_minor": 4
}
