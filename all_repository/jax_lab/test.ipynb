{
 "cells": [
  {
   "cell_type": "code",
   "execution_count": 1,
   "id": "e82416f9-2d34-4415-9e67-b7ca7f178f1c",
   "metadata": {},
   "outputs": [],
   "source": [
    "import jax.numpy as np\n",
    "from jax import jit"
   ]
  },
  {
   "cell_type": "code",
   "execution_count": 2,
   "id": "d0506c7e-338c-41dd-af35-27283f96657d",
   "metadata": {},
   "outputs": [],
   "source": [
    "def square(x: int) -> int:\n",
    "    return x**2"
   ]
  },
  {
   "cell_type": "code",
   "execution_count": 3,
   "id": "5e4341b1-d5db-4eec-aaad-15ac36bf1d36",
   "metadata": {},
   "outputs": [],
   "source": [
    "from jax import vmap, grad"
   ]
  },
  {
   "cell_type": "code",
   "execution_count": 4,
   "id": "865561d1-3903-41c6-bc27-f63a13e98a28",
   "metadata": {},
   "outputs": [],
   "source": [
    "mappend_eq = jit(vmap(square))"
   ]
  },
  {
   "cell_type": "code",
   "execution_count": 5,
   "id": "6e411aaf-5625-4c2d-9005-5b3b1bde6e35",
   "metadata": {},
   "outputs": [
    {
     "name": "stderr",
     "output_type": "stream",
     "text": [
      "WARNING:absl:No GPU/TPU found, falling back to CPU. (Set TF_CPP_MIN_LOG_LEVEL=0 and rerun for more info.)\n"
     ]
    }
   ],
   "source": [
    "a = np.arange(20000000)"
   ]
  },
  {
   "cell_type": "code",
   "execution_count": 6,
   "id": "b4763b6e-efc1-40ea-b474-d558f8157246",
   "metadata": {},
   "outputs": [
    {
     "name": "stdout",
     "output_type": "stream",
     "text": [
      "CPU times: user 73.1 ms, sys: 26 ms, total: 99.1 ms\n",
      "Wall time: 52.3 ms\n"
     ]
    }
   ],
   "source": [
    "%time b = mappend_eq(a)    "
   ]
  },
  {
   "cell_type": "code",
   "execution_count": 7,
   "id": "38645835-92d5-475b-aebd-602ac4ff2665",
   "metadata": {},
   "outputs": [
    {
     "name": "stdout",
     "output_type": "stream",
     "text": [
      "CPU times: user 51.1 ms, sys: 26 ms, total: 77.1 ms\n",
      "Wall time: 39.2 ms\n"
     ]
    }
   ],
   "source": [
    "%time b = square(a)  "
   ]
  },
  {
   "cell_type": "code",
   "execution_count": 8,
   "id": "8a28a524-169a-4aeb-85a4-b57810e1c8eb",
   "metadata": {},
   "outputs": [],
   "source": [
    "def f(x: float) -> float: \n",
    "    return np.sin(x)"
   ]
  },
  {
   "cell_type": "code",
   "execution_count": 9,
   "id": "20e5152f-04bf-4335-a6a4-c6281dd12582",
   "metadata": {},
   "outputs": [
    {
     "data": {
      "text/plain": [
       "DeviceArray(0., dtype=float32, weak_type=True)"
      ]
     },
     "execution_count": 9,
     "metadata": {},
     "output_type": "execute_result"
    }
   ],
   "source": [
    "f(0.0)"
   ]
  },
  {
   "cell_type": "code",
   "execution_count": 10,
   "id": "84e53f95-309a-4fdb-acf9-fd61c677534d",
   "metadata": {},
   "outputs": [],
   "source": [
    "df = grad(f)"
   ]
  },
  {
   "cell_type": "code",
   "execution_count": 11,
   "id": "499031a4-2f82-4a5b-a02e-92daa7bfda8a",
   "metadata": {},
   "outputs": [
    {
     "data": {
      "text/plain": [
       "DeviceArray(1., dtype=float32)"
      ]
     },
     "execution_count": 11,
     "metadata": {},
     "output_type": "execute_result"
    }
   ],
   "source": [
    "df(0.0)"
   ]
  },
  {
   "cell_type": "code",
   "execution_count": 12,
   "id": "8b5f5400-8ca6-4a2a-bd55-a86cd8fa552f",
   "metadata": {},
   "outputs": [
    {
     "data": {
      "text/plain": [
       "DeviceArray(0.9092974, dtype=float32)"
      ]
     },
     "execution_count": 12,
     "metadata": {},
     "output_type": "execute_result"
    }
   ],
   "source": [
    "f(2)"
   ]
  },
  {
   "cell_type": "code",
   "execution_count": 13,
   "id": "e7f1c2df-c703-4871-a3de-c6ead4c55864",
   "metadata": {},
   "outputs": [
    {
     "data": {
      "text/plain": [
       "DeviceArray(-1., dtype=float32)"
      ]
     },
     "execution_count": 13,
     "metadata": {},
     "output_type": "execute_result"
    }
   ],
   "source": [
    "grad(grad(grad(f)))(0.0)"
   ]
  },
  {
   "cell_type": "markdown",
   "id": "a079b8bd-ddf8-4249-887b-565c806f7875",
   "metadata": {},
   "source": [
    "## Test"
   ]
  },
  {
   "cell_type": "code",
   "execution_count": 16,
   "id": "a4ca7135-b9ad-4487-b7bd-19f187dc4845",
   "metadata": {},
   "outputs": [
    {
     "data": {
      "text/plain": [
       "30"
      ]
     },
     "execution_count": 16,
     "metadata": {},
     "output_type": "execute_result"
    }
   ],
   "source": [
    "def f(x):\n",
    "    return 2*x*x + 3*x + 3\n",
    "f(3)"
   ]
  },
  {
   "cell_type": "code",
   "execution_count": 17,
   "id": "0966e7df-2b51-497d-9e8f-e4b7f70f14fe",
   "metadata": {},
   "outputs": [],
   "source": [
    "from jax import grad"
   ]
  },
  {
   "cell_type": "code",
   "execution_count": 18,
   "id": "2ff11583-b82d-4eab-ac91-30536030f8a8",
   "metadata": {},
   "outputs": [],
   "source": [
    "g_f = grad(f)"
   ]
  },
  {
   "cell_type": "code",
   "execution_count": 19,
   "id": "46998f30-74bf-4d0b-a64e-a61608e1a6ed",
   "metadata": {},
   "outputs": [
    {
     "data": {
      "text/plain": [
       "DeviceArray(15., dtype=float32)"
      ]
     },
     "execution_count": 19,
     "metadata": {},
     "output_type": "execute_result"
    }
   ],
   "source": [
    "g_f(3.)"
   ]
  },
  {
   "cell_type": "code",
   "execution_count": null,
   "id": "2fd742bb-eb85-4781-ae20-407f053689d7",
   "metadata": {},
   "outputs": [],
   "source": []
  }
 ],
 "metadata": {
  "kernelspec": {
   "display_name": "jax",
   "language": "python",
   "name": "jax"
  },
  "language_info": {
   "codemirror_mode": {
    "name": "ipython",
    "version": 3
   },
   "file_extension": ".py",
   "mimetype": "text/x-python",
   "name": "python",
   "nbconvert_exporter": "python",
   "pygments_lexer": "ipython3",
   "version": "3.10.0"
  }
 },
 "nbformat": 4,
 "nbformat_minor": 5
}
