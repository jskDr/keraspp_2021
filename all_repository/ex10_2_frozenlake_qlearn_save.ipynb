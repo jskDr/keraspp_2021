{
 "cells": [
  {
   "cell_type": "code",
   "execution_count": 1,
   "metadata": {},
   "outputs": [],
   "source": [
    "%matplotlib inline"
   ]
  },
  {
   "cell_type": "code",
   "execution_count": 2,
   "metadata": {},
   "outputs": [],
   "source": [
    "# %% \n",
    "import gym\n",
    "import pandas as pd\n",
    "import numpy as np\n",
    "import matplotlib.pyplot as plt"
   ]
  },
  {
   "cell_type": "code",
   "execution_count": 13,
   "metadata": {},
   "outputs": [
    {
     "name": "stdout",
     "output_type": "stream",
     "text": [
      "\n",
      "\u001b[41mS\u001b[0mFFF\n",
      "FHFH\n",
      "FFFH\n",
      "HFFG\n"
     ]
    }
   ],
   "source": [
    "flake = gym.make(\"FrozenLake-v0\", is_slippery=False)\n",
    "Q = np.zeros((flake.observation_space.n, flake.action_space.n))\n",
    "PI = np.argmax(Q,axis=1)\n",
    "flake.reset()\n",
    "flake.render()\n",
    "# Actions = [\"Left\", \"Down\", \"Right\", \"Up\"]\n",
    "\"\"\"\n",
    "[\n",
    "1 0 0 0 \n",
    "1 0 1 0 \n",
    "2 2 1 0 \n",
    "0 2 2 0]\n",
    "[\n",
    "1 0 0 0 \n",
    "1 0 1 0 \n",
    "2 2 1 0 \n",
    "1 2 2 0]\n",
    "\"\"\""
   ]
  },
  {
   "cell_type": "code",
   "execution_count": 4,
   "metadata": {},
   "outputs": [
    {
     "data": {
      "text/html": [
       "<div>\n",
       "<style scoped>\n",
       "    .dataframe tbody tr th:only-of-type {\n",
       "        vertical-align: middle;\n",
       "    }\n",
       "\n",
       "    .dataframe tbody tr th {\n",
       "        vertical-align: top;\n",
       "    }\n",
       "\n",
       "    .dataframe thead th {\n",
       "        text-align: right;\n",
       "    }\n",
       "</style>\n",
       "<table border=\"1\" class=\"dataframe\">\n",
       "  <thead>\n",
       "    <tr style=\"text-align: right;\">\n",
       "      <th></th>\n",
       "      <th>S</th>\n",
       "      <th>S:(x,y)</th>\n",
       "      <th>R</th>\n",
       "      <th>done</th>\n",
       "      <th>A</th>\n",
       "      <th>A:name</th>\n",
       "    </tr>\n",
       "    <tr>\n",
       "      <th>k</th>\n",
       "      <th></th>\n",
       "      <th></th>\n",
       "      <th></th>\n",
       "      <th></th>\n",
       "      <th></th>\n",
       "      <th></th>\n",
       "    </tr>\n",
       "  </thead>\n",
       "  <tbody>\n",
       "    <tr>\n",
       "      <th>0</th>\n",
       "      <td>0</td>\n",
       "      <td>(0, 0)</td>\n",
       "      <td>0.0</td>\n",
       "      <td>False</td>\n",
       "      <td>3</td>\n",
       "      <td>Up</td>\n",
       "    </tr>\n",
       "    <tr>\n",
       "      <th>1</th>\n",
       "      <td>0</td>\n",
       "      <td>(0, 0)</td>\n",
       "      <td>0.0</td>\n",
       "      <td>False</td>\n",
       "      <td>0</td>\n",
       "      <td>Left</td>\n",
       "    </tr>\n",
       "    <tr>\n",
       "      <th>2</th>\n",
       "      <td>0</td>\n",
       "      <td>(0, 0)</td>\n",
       "      <td>0.0</td>\n",
       "      <td>False</td>\n",
       "      <td>0</td>\n",
       "      <td>Left</td>\n",
       "    </tr>\n",
       "    <tr>\n",
       "      <th>3</th>\n",
       "      <td>0</td>\n",
       "      <td>(0, 0)</td>\n",
       "      <td>0.0</td>\n",
       "      <td>False</td>\n",
       "      <td>0</td>\n",
       "      <td>Left</td>\n",
       "    </tr>\n",
       "    <tr>\n",
       "      <th>4</th>\n",
       "      <td>0</td>\n",
       "      <td>(0, 0)</td>\n",
       "      <td>0.0</td>\n",
       "      <td>False</td>\n",
       "      <td>2</td>\n",
       "      <td>Right</td>\n",
       "    </tr>\n",
       "    <tr>\n",
       "      <th>5</th>\n",
       "      <td>1</td>\n",
       "      <td>(1, 0)</td>\n",
       "      <td>0.0</td>\n",
       "      <td>False</td>\n",
       "      <td>0</td>\n",
       "      <td>Left</td>\n",
       "    </tr>\n",
       "    <tr>\n",
       "      <th>6</th>\n",
       "      <td>0</td>\n",
       "      <td>(0, 0)</td>\n",
       "      <td>0.0</td>\n",
       "      <td>False</td>\n",
       "      <td>0</td>\n",
       "      <td>Left</td>\n",
       "    </tr>\n",
       "    <tr>\n",
       "      <th>7</th>\n",
       "      <td>0</td>\n",
       "      <td>(0, 0)</td>\n",
       "      <td>0.0</td>\n",
       "      <td>False</td>\n",
       "      <td>1</td>\n",
       "      <td>Down</td>\n",
       "    </tr>\n",
       "    <tr>\n",
       "      <th>8</th>\n",
       "      <td>4</td>\n",
       "      <td>(0, 1)</td>\n",
       "      <td>0.0</td>\n",
       "      <td>False</td>\n",
       "      <td>2</td>\n",
       "      <td>Right</td>\n",
       "    </tr>\n",
       "    <tr>\n",
       "      <th>9</th>\n",
       "      <td>5</td>\n",
       "      <td>(1, 1)</td>\n",
       "      <td>0.0</td>\n",
       "      <td>True</td>\n",
       "      <td>0</td>\n",
       "      <td></td>\n",
       "    </tr>\n",
       "  </tbody>\n",
       "</table>\n",
       "</div>"
      ],
      "text/plain": [
       "   S S:(x,y)    R   done  A A:name\n",
       "k                                 \n",
       "0  0  (0, 0)  0.0  False  3     Up\n",
       "1  0  (0, 0)  0.0  False  0   Left\n",
       "2  0  (0, 0)  0.0  False  0   Left\n",
       "3  0  (0, 0)  0.0  False  0   Left\n",
       "4  0  (0, 0)  0.0  False  2  Right\n",
       "5  1  (1, 0)  0.0  False  0   Left\n",
       "6  0  (0, 0)  0.0  False  0   Left\n",
       "7  0  (0, 0)  0.0  False  1   Down\n",
       "8  4  (0, 1)  0.0  False  2  Right\n",
       "9  5  (1, 1)  0.0   True  0       "
      ]
     },
     "execution_count": 4,
     "metadata": {},
     "output_type": "execute_result"
    }
   ],
   "source": [
    "# %% Q-learning\n",
    "def run_with_PI_exploration(PI=None, exploration=0.2, N_Iter = 100, render_flag=False):\n",
    "    \"\"\"\n",
    "    Return buff_df if done, otherwise return None \n",
    "    \"\"\"\n",
    "    if PI is None:\n",
    "        # No PI, action will be determined fully randomly\n",
    "        exploration = 1.0\n",
    "\n",
    "    s = flake.reset()\n",
    "    if render_flag: flake.render()\n",
    "    buff_df = pd.DataFrame({\"S\":[s],\"S:(x,y)\":[(0,0)], \n",
    "                \"R\":[0.0], \"done\":[False], \n",
    "                \"A\":[0], \"A:name\": [\"\"]})\n",
    "    buff_df.index.name = 'k'\n",
    "\n",
    "    Actions = [\"Left\", \"Down\", \"Right\", \"Up\"]\n",
    "    rand_buff =  np.random.rand(N_Iter)\n",
    "    for iter in range(N_Iter):\n",
    "        # if np.random.rand() <= exploration:\n",
    "        if rand_buff[iter] <= exploration:\n",
    "            a_k = flake.action_space.sample()\n",
    "        else:\n",
    "            a_k = PI[s]\n",
    "        buff_df.loc[iter,'A':\"A:name\"] = (a_k, Actions[a_k])\n",
    "        s, r, done, info = flake.step(a_k)\n",
    "        if render_flag: flake.render()\n",
    "        new_df = pd.DataFrame({\"S\":[s], \"S:(x,y)\":[(s%4,s//4)],\n",
    "                                \"R\":[r], \"done\":[done], \n",
    "                                \"A\":[0], \"A:name\": [\"\"]})\n",
    "        buff_df = buff_df.append(new_df, ignore_index=True)\n",
    "        buff_df.index.name = 'k'\n",
    "        if done:\n",
    "            return buff_df\n",
    "    return None\n",
    "\n",
    "buff_df = run_with_PI_exploration(PI, exploration=0.2, N_Iter=100)\n",
    "buff_df"
   ]
  },
  {
   "cell_type": "code",
   "execution_count": 6,
   "metadata": {},
   "outputs": [],
   "source": [
    "# %%\n",
    "def q_learning(N_epoch=1000, N_Iter=100, learning_rate=0.01, exploration=0.2, trace_flag=False):\n",
    "    \"\"\"\n",
    "    return PI 1-D integer array if trace_flag is False \n",
    "    else return PI_array 2-D integer array \n",
    "    \"\"\"\n",
    "    PI_list = []\n",
    "    Q = np.zeros((flake.observation_space.n, flake.action_space.n))\n",
    "    for e in range(N_epoch):\n",
    "        PI = np.argmax(Q,axis=1)\n",
    "        buff_df = run_with_PI_exploration(PI, exploration=exploration, N_Iter=N_Iter)\n",
    "        for k in range(len(buff_df)-1):\n",
    "            S, A = buff_df.S[k], buff_df.A[k]\n",
    "            S_next, R_next = buff_df.S[k+1], buff_df.R[k+1]\n",
    "            # print(k, S, A, S_next, R_next)\n",
    "            Q_new = R_next + np.max(Q[S_next])\n",
    "            Q[S,A] += learning_rate * (Q_new - Q[S,A])\n",
    "        PI = np.argmax(Q,axis=1)\n",
    "        PI_list.append(PI)\n",
    "    if trace_flag == 1:\n",
    "        return np.array(PI_list)\n",
    "    elif trace_flag == 2:\n",
    "        return np.array(PI_list), Q\n",
    "    else:\n",
    "        return PI"
   ]
  },
  {
   "cell_type": "code",
   "execution_count": 19,
   "metadata": {},
   "outputs": [
    {
     "name": "stdout",
     "output_type": "stream",
     "text": [
      "[1 0 0 0 1 0 1 0 2 2 1 0 0 2 2 0]\n",
      "[[0.99667212 0.99706179 0.99533009 0.99662191]\n",
      " [0.99598222 0.         0.93333252 0.98446468]\n",
      " [0.96936266 0.56095078 0.58403388 0.73308214]\n",
      " [0.78599626 0.         0.26373563 0.27104807]\n",
      " [0.99499785 0.99743915 0.         0.99571487]\n",
      " [0.         0.         0.         0.        ]\n",
      " [0.         0.82669937 0.         0.47995426]\n",
      " [0.         0.         0.         0.        ]\n",
      " [0.99576893 0.         0.99795466 0.99402598]\n",
      " [0.98535953 0.96738455 0.99847222 0.        ]\n",
      " [0.94701753 0.9993041  0.         0.6196263 ]\n",
      " [0.         0.         0.         0.        ]\n",
      " [0.         0.         0.         0.        ]\n",
      " [0.         0.73110429 0.99310205 0.83401192]\n",
      " [0.91529659 0.98940592 0.99982304 0.97125042]\n",
      " [0.         0.         0.         0.        ]]\n"
     ]
    },
    {
     "data": {
      "image/png": "[encoded data removed]",
      "text/plain": [
       "<Figure size 432x288 with 1 Axes>"
      ]
     },
     "metadata": {
      "needs_background": "light"
     },
     "output_type": "display_data"
    }
   ],
   "source": [
    "PI_array, Q = q_learning(N_epoch=1000, N_Iter=100, learning_rate=0.1, exploration=0.8, trace_flag=2)\n",
    "print(PI_array[-1])\n",
    "plt.plot(PI_array)\n",
    "print(Q)"
   ]
  },
  {
   "cell_type": "code",
   "execution_count": 20,
   "metadata": {},
   "outputs": [
    {
     "name": "stdout",
     "output_type": "stream",
     "text": [
      "[[0.99667212 0.99706179 0.99533009 0.99662191]\n",
      " [0.99598222 0.         0.93333252 0.98446468]\n",
      " [0.96936266 0.56095078 0.58403388 0.73308214]\n",
      " [0.78599626 0.         0.26373563 0.27104807]\n",
      " [0.99499785 0.99743915 0.         0.99571487]\n",
      " [0.         0.         0.         0.        ]\n",
      " [0.         0.82669937 0.         0.47995426]\n",
      " [0.         0.         0.         0.        ]\n",
      " [0.99576893 0.         0.99795466 0.99402598]\n",
      " [0.98535953 0.96738455 0.99847222 0.        ]\n",
      " [0.94701753 0.9993041  0.         0.6196263 ]\n",
      " [0.         0.         0.         0.        ]\n",
      " [0.         0.         0.         0.        ]\n",
      " [0.         0.73110429 0.99310205 0.83401192]\n",
      " [0.91529659 0.98940592 0.99982304 0.97125042]\n",
      " [0.         0.         0.         0.        ]]\n"
     ]
    }
   ],
   "source": [
    "np.savetxt('Q_opt.csv', Q, delimiter=',')\n",
    "Q_opt = np.loadtxt('Q_opt.csv',delimiter=',')\n",
    "print(Q_opt)"
   ]
  },
  {
   "cell_type": "code",
   "execution_count": null,
   "metadata": {},
   "outputs": [],
   "source": [
    "!"
   ]
  }
 ],
 "metadata": {
  "kernelspec": {
   "display_name": "keras",
   "language": "python",
   "name": "keras"
  },
  "language_info": {
   "codemirror_mode": {
    "name": "ipython",
    "version": 3
   },
   "file_extension": ".py",
   "mimetype": "text/x-python",
   "name": "python",
   "nbconvert_exporter": "python",
   "pygments_lexer": "ipython3",
   "version": "3.8.8"
  }
 },
 "nbformat": 4,
 "nbformat_minor": 4
}
