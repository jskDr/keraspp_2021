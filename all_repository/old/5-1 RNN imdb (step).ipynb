{
 "cells": [
  {
   "cell_type": "code",
   "execution_count": 6,
   "metadata": {
    "collapsed": true
   },
   "outputs": [],
   "source": [
    "%matplotlib inline"
   ]
  },
  {
   "cell_type": "code",
   "execution_count": 1,
   "metadata": {},
   "outputs": [
    {
     "name": "stderr",
     "output_type": "stream",
     "text": [
      "Using TensorFlow backend.\n"
     ]
    },
    {
     "name": "stdout",
     "output_type": "stream",
     "text": [
      "Loading data...\n",
      "25000 train sequences\n",
      "25000 test sequences\n",
      "Pad sequences (samples x time)\n",
      "x_train shape: (25000, 80)\n",
      "x_test shape: (25000, 80)\n",
      "Build model...\n"
     ]
    }
   ],
   "source": [
    "'''Trains a LSTM on the IMDB sentiment classification task.\n",
    "The dataset is actually too small for LSTM to be of any advantage\n",
    "compared to simpler, much faster methods such as TF-IDF + LogReg.\n",
    "Notes:\n",
    "- RNNs are tricky. Choice of batch size is important,\n",
    "choice of loss and optimizer is critical, etc.\n",
    "Some configurations won't converge.\n",
    "- LSTM loss decrease patterns during training can be quite different\n",
    "from what you see with CNNs/MLPs/etc.\n",
    "'''\n",
    "from __future__ import print_function\n",
    "\n",
    "from keras.preprocessing import sequence\n",
    "from keras.models import Sequential\n",
    "from keras.layers import Dense, Embedding\n",
    "from keras.layers import LSTM\n",
    "from keras.datasets import imdb\n",
    "\n",
    "max_features = 20000\n",
    "maxlen = 80  # cut texts after this number of words (among top max_features most common words)\n",
    "batch_size = 32\n",
    "\n",
    "print('Loading data...')\n",
    "(x_train, y_train), (x_test, y_test) = imdb.load_data(num_words=max_features)\n",
    "print(len(x_train), 'train sequences')\n",
    "print(len(x_test), 'test sequences')\n",
    "\n",
    "print('Pad sequences (samples x time)')\n",
    "x_train = sequence.pad_sequences(x_train, maxlen=maxlen)\n",
    "x_test = sequence.pad_sequences(x_test, maxlen=maxlen)\n",
    "print('x_train shape:', x_train.shape)\n",
    "print('x_test shape:', x_test.shape)\n",
    "\n",
    "print('Build model...')\n",
    "model = Sequential()\n",
    "model.add(Embedding(max_features, 128))\n",
    "model.add(LSTM(128, dropout=0.2, recurrent_dropout=0.2))\n",
    "model.add(Dense(1, activation='sigmoid'))\n",
    "\n",
    "# try using different optimizers and different optimizer configs\n",
    "model.compile(loss='binary_crossentropy',\n",
    "              optimizer='adam',\n",
    "              metrics=['accuracy'])"
   ]
  },
  {
   "cell_type": "code",
   "execution_count": 3,
   "metadata": {},
   "outputs": [
    {
     "data": {
      "text/plain": [
       "(25000,)"
      ]
     },
     "execution_count": 3,
     "metadata": {},
     "output_type": "execute_result"
    }
   ],
   "source": [
    "y_train.shape"
   ]
  },
  {
   "cell_type": "code",
   "execution_count": 7,
   "metadata": {},
   "outputs": [
    {
     "data": {
      "text/plain": [
       "(array([ 12500.,      0.,      0.,      0.,      0.,      0.,      0.,\n",
       "             0.,      0.,  12500.]),\n",
       " array([ 0. ,  0.1,  0.2,  0.3,  0.4,  0.5,  0.6,  0.7,  0.8,  0.9,  1. ]),\n",
       " <a list of 10 Patch objects>)"
      ]
     },
     "execution_count": 7,
     "metadata": {},
     "output_type": "execute_result"
    },
    {
     "data": {
      "image/png": "[encoded data removed]",
      "text/plain": [
       "<matplotlib.figure.Figure at 0x7f56e78bdb70>"
      ]
     },
     "metadata": {},
     "output_type": "display_data"
    }
   ],
   "source": [
    "import matplotlib.pyplot as plt\n",
    "plt.hist(y_train)"
   ]
  },
  {
   "cell_type": "code",
   "execution_count": 1,
   "metadata": {},
   "outputs": [
    {
     "name": "stderr",
     "output_type": "stream",
     "text": [
      "Using TensorFlow backend.\n"
     ]
    },
    {
     "name": "stdout",
     "output_type": "stream",
     "text": [
      "Loading data...\n",
      "Downloading data from https://s3.amazonaws.com/text-datasets/imdb.npz\n",
      "25000 train sequences\n",
      "25000 test sequences\n",
      "Pad sequences (samples x time)\n",
      "x_train shape: (25000, 80)\n",
      "x_test shape: (25000, 80)\n",
      "Build model...\n",
      "Train...\n",
      "Train on 25000 samples, validate on 25000 samples\n",
      "Epoch 1/15\n",
      "25000/25000 [==============================] - 181s - loss: 0.4552 - acc: 0.7838 - val_loss: 0.3707 - val_acc: 0.8392\n",
      "Epoch 2/15\n",
      "25000/25000 [==============================] - 179s - loss: 0.2964 - acc: 0.8801 - val_loss: 0.3803 - val_acc: 0.8304\n",
      "Epoch 3/15\n",
      "25000/25000 [==============================] - 179s - loss: 0.2121 - acc: 0.9182 - val_loss: 0.4190 - val_acc: 0.8274\n",
      "Epoch 4/15\n",
      "25000/25000 [==============================] - 179s - loss: 0.1486 - acc: 0.9447 - val_loss: 0.5269 - val_acc: 0.8250\n",
      "Epoch 5/15\n",
      "25000/25000 [==============================] - 178s - loss: 0.1022 - acc: 0.9626 - val_loss: 0.5790 - val_acc: 0.8206\n",
      "Epoch 6/15\n",
      "25000/25000 [==============================] - 178s - loss: 0.0728 - acc: 0.9739 - val_loss: 0.6543 - val_acc: 0.8205\n",
      "Epoch 7/15\n",
      "25000/25000 [==============================] - 179s - loss: 0.0547 - acc: 0.9815 - val_loss: 0.7418 - val_acc: 0.8146\n",
      "Epoch 8/15\n",
      "25000/25000 [==============================] - 178s - loss: 0.0403 - acc: 0.9874 - val_loss: 0.8405 - val_acc: 0.8149\n",
      "Epoch 9/15\n",
      "25000/25000 [==============================] - 178s - loss: 0.0359 - acc: 0.9890 - val_loss: 0.8116 - val_acc: 0.8108\n",
      "Epoch 10/15\n",
      "25000/25000 [==============================] - 178s - loss: 0.0202 - acc: 0.9935 - val_loss: 1.0708 - val_acc: 0.8098\n",
      "Epoch 11/15\n",
      "25000/25000 [==============================] - 178s - loss: 0.0250 - acc: 0.9922 - val_loss: 0.8883 - val_acc: 0.8074\n",
      "Epoch 12/15\n",
      "25000/25000 [==============================] - 178s - loss: 0.0187 - acc: 0.9941 - val_loss: 1.0817 - val_acc: 0.8087\n",
      "Epoch 13/15\n",
      "25000/25000 [==============================] - 178s - loss: 0.0128 - acc: 0.9956 - val_loss: 1.0535 - val_acc: 0.8121\n",
      "Epoch 14/15\n",
      "25000/25000 [==============================] - 178s - loss: 0.0131 - acc: 0.9960 - val_loss: 1.0574 - val_acc: 0.8112\n",
      "Epoch 15/15\n",
      "25000/25000 [==============================] - 178s - loss: 0.0102 - acc: 0.9971 - val_loss: 1.1064 - val_acc: 0.8110\n",
      "24992/25000 [============================>.] - ETA: 0sTest score: 1.10635716881\n",
      "Test accuracy: 0.81104\n"
     ]
    }
   ],
   "source": [
    "print('Train...')\n",
    "model.fit(x_train, y_train,\n",
    "          batch_size=batch_size,\n",
    "          epochs=15,\n",
    "          validation_data=(x_test, y_test))\n",
    "score, acc = model.evaluate(x_test, y_test,\n",
    "                            batch_size=batch_size)\n",
    "print('Test score:', score)\n",
    "print('Test accuracy:', acc)"
   ]
  },
  {
   "cell_type": "code",
   "execution_count": null,
   "metadata": {
    "collapsed": true
   },
   "outputs": [],
   "source": []
  }
 ],
 "metadata": {
  "kernelspec": {
   "display_name": "Python 3",
   "language": "python",
   "name": "python3"
  },
  "language_info": {
   "codemirror_mode": {
    "name": "ipython",
    "version": 3
   },
   "file_extension": ".py",
   "mimetype": "text/x-python",
   "name": "python",
   "nbconvert_exporter": "python",
   "pygments_lexer": "ipython3",
   "version": "3.6.1"
  },
  "toc": {
   "nav_menu": {
    "height": "12px",
    "width": "252px"
   },
   "number_sections": true,
   "sideBar": true,
   "skip_h1_title": true,
   "toc_cell": false,
   "toc_position": {},
   "toc_section_display": "block",
   "toc_window_display": false
  }
 },
 "nbformat": 4,
 "nbformat_minor": 2
}
