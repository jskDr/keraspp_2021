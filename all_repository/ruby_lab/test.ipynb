{
 "cells": [
  {
   "cell_type": "code",
   "execution_count": 13,
   "id": "ad43f01c-75fb-442c-959a-78413166981e",
   "metadata": {},
   "outputs": [
    {
     "name": "stdout",
     "output_type": "stream",
     "text": [
      "10\n",
      "Hello Ruby with James\n"
     ]
    }
   ],
   "source": [
    "class Sample\n",
    "    def initialize(id)\n",
    "        @cust_id = id\n",
    "    end\n",
    "    def Hello(a)\n",
    "        puts @cust_id\n",
    "        puts \"Hello Ruby with \" + a\n",
    "    end\n",
    "end\n",
    "\n",
    "s = Sample.new 10\n",
    "s.Hello \"James\""
   ]
  },
  {
   "cell_type": "code",
   "execution_count": null,
   "id": "3cd6d3bc-efb7-43dd-bfdc-73d7056cd5f4",
   "metadata": {},
   "outputs": [],
   "source": []
  }
 ],
 "metadata": {
  "kernelspec": {
   "display_name": "Ruby 3.1.0",
   "language": "ruby",
   "name": "ruby"
  },
  "language_info": {
   "file_extension": ".rb",
   "mimetype": "application/x-ruby",
   "name": "ruby",
   "version": "3.1.0"
  }
 },
 "nbformat": 4,
 "nbformat_minor": 5
}
