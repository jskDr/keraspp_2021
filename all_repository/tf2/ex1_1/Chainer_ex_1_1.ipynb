{
 "cells": [
  {
   "cell_type": "markdown",
   "metadata": {},
   "source": [
    "# Ex 1-1 by Chainer\n",
    "- https://docs.chainer.org/en/stable/examples/mnist.html\n",
    "- https://github.com/kose/chainer-linear-regression/blob/master/net.py\n",
    "- https://multithreaded.stitchfix.com/blog/2015/12/09/intro-to-chainer/"
   ]
  },
  {
   "cell_type": "markdown",
   "metadata": {},
   "source": [
    "## I. 케라스처럼 제공하는 trainer 툴을 이용하는 방법\n",
    "내장된 trainer를 이용할 때는 모델 클래스의 forward(self, x, t)가 오류값을 생성하는 함수로 정의되어야 한다. 자체적으로 training code를 작성하는 경우에는 forward()는 주로 모델을 출력값을 생성하는 함수로 사용될 수 있다. 그리고 클래스를 통한 모델 구성시, 케라스 방식과 달리 변수들이 나오기 전에 with self.init_scope()을 열어주고 시작해야 한다. 그렇지 않으면 변수들이 학습되지 않는다. "
   ]
  },
  {
   "cell_type": "markdown",
   "metadata": {},
   "source": [
    "### 단순한 모델 구성 \n",
    "- https://stackoverflow.com/questions/56111935/regression-with-chainer\n",
    "\n",
    "chainer.links.Classifier()를 이용하면 loss와 accuracy 정의를 포함하는 model로 만들 수 있다. 이 모델을 만들어야 하는 이유는 이렇게 만들어나야 trainer를 사용할 수 있기 때문이다. 인공지능을 모르는 사람들에게는 편리한 방법이 될 수 있다. "
   ]
  },
  {
   "cell_type": "code",
   "execution_count": 10,
   "metadata": {},
   "outputs": [
    {
     "data": {
      "text/plain": [
       "variable([[1.0366594],\n",
       "          [2.977343 ],\n",
       "          [4.918027 ],\n",
       "          [6.858711 ],\n",
       "          [8.799395 ]])"
      ]
     },
     "execution_count": 10,
     "metadata": {},
     "output_type": "execute_result"
    }
   ],
   "source": [
    "import chainer\n",
    "\n",
    "import numpy as np\n",
    "\n",
    "x = np.array([0, 1, 2, 3, 4]).astype('float32').reshape(-1,1) \n",
    "y = x * 2 + 1\n",
    "\n",
    "predictor = chainer.links.Linear(1,1)\n",
    "model = chainer.links.Classifier(predictor, lossfun=chainer.functions.mean_squared_error,\n",
    "                                accfun=chainer.functions.mean_squared_error)\n",
    "\n",
    "#model = chainer.links.Linear(1,1)\n",
    "Optimizer = chainer.optimizers.SGD()\n",
    "Optimizer.setup(model)\n",
    "\n",
    "train = list(zip(x[:2,:1], y[:2,:1]))\n",
    "Train_iter = chainer.iterators.SerialIterator(train, 2)\n",
    "Updater = chainer.training.updaters.StandardUpdater(Train_iter, Optimizer)\n",
    "Trainer = chainer.training.Trainer(Updater, (1000, 'epoch'))\n",
    "Trainer.run()\n",
    "\n",
    "predictor(x)"
   ]
  },
  {
   "cell_type": "markdown",
   "metadata": {},
   "source": [
    "### 클래스를 통한 모델 구성"
   ]
  },
  {
   "cell_type": "code",
   "execution_count": 1,
   "metadata": {},
   "outputs": [
    {
     "data": {
      "text/plain": [
       "variable([[1.0206587],\n",
       "          [2.9872327],\n",
       "          [4.9538064],\n",
       "          [6.9203806],\n",
       "          [8.886954 ]])"
      ]
     },
     "execution_count": 1,
     "metadata": {},
     "output_type": "execute_result"
    }
   ],
   "source": [
    "import chainer\n",
    "\n",
    "import numpy as np\n",
    "\n",
    "x = np.array([0, 1, 2, 3, 4]).astype('float32').reshape(-1,1) \n",
    "y = x * 2 + 1\n",
    "\n",
    "class Model(chainer.Chain):\n",
    "    def __init__(self):\n",
    "        super().__init__()\n",
    "        with self.init_scope():\n",
    "            self.layer = chainer.links.Linear(1,1)\n",
    "    def predict(self, x):\n",
    "        return self.layer(x)\n",
    "    def forward(self, x, t):        \n",
    "        return chainer.functions.mean_squared_error(self.predict(x), t)\n",
    "model = Model()\n",
    "    \n",
    "#model = chainer.links.Linear(1,1)\n",
    "Optimizer = chainer.optimizers.SGD()\n",
    "Optimizer.setup(model)\n",
    "\n",
    "train = list(zip(x[:2,:1], y[:2,:1]))\n",
    "Train_iter = chainer.iterators.SerialIterator(train, 2)\n",
    "Updater = chainer.training.updaters.StandardUpdater(Train_iter, Optimizer)\n",
    "Trainer = chainer.training.Trainer(Updater, (1000, 'epoch'))\n",
    "Trainer.run()\n",
    "\n",
    "model.predict(x)"
   ]
  },
  {
   "cell_type": "markdown",
   "metadata": {},
   "source": [
    "## II. 내장된 trainer를 사용하지 않고 학습하기"
   ]
  },
  {
   "cell_type": "markdown",
   "metadata": {},
   "source": [
    "### 단순한 모델 구성 \n",
    "\n",
    "Chainer는 모델을 만들 때, 케라스나 파이토치하고 다른 형태로 만든다. 예제 1-1은 단일 노드로 구성된 단일 계층 네트웍을 다루고 있기 때문에 Linear(1,1)로 뉴럴넷을 모델링했다. 복수 계층을 가지는 경우는 다른 형태로 모델링을 구성해야 한다."
   ]
  },
  {
   "cell_type": "code",
   "execution_count": 2,
   "metadata": {},
   "outputs": [
    {
     "data": {
      "text/plain": [
       "variable([[1.0005475],\n",
       "          [3.0003552],\n",
       "          [5.000163 ],\n",
       "          [6.999971 ],\n",
       "          [8.999779 ]])"
      ]
     },
     "execution_count": 2,
     "metadata": {},
     "output_type": "execute_result"
    }
   ],
   "source": [
    "import chainer\n",
    "\n",
    "import numpy as np\n",
    "\n",
    "x = np.array([0, 1, 2, 3, 4]).astype('float32').reshape(-1,1) \n",
    "y = x * 2 + 1\n",
    "\n",
    "model = chainer.links.Linear(1,1)\n",
    "optimizer = chainer.optimizers.SGD()\n",
    "optimizer.setup(model)\n",
    "\n",
    "for _ in range(1000):\n",
    "    output = model(x)\n",
    "    loss = chainer.functions.mean_squared_error(y, output)\n",
    "    model.zerograds()\n",
    "    loss.backward()\n",
    "    optimizer.update()\n",
    "\n",
    "model(x)"
   ]
  },
  {
   "cell_type": "markdown",
   "metadata": {},
   "source": [
    "### 클래스를 통한 모델 구성\n",
    "- https://docs.chainer.org/en/stable/examples/train_loop.html\n",
    "\n",
    "직접 학습하는 경우도 마찬가지로 클래스를 통한 모델 구성시 케라스 방식과 달리 변수들이 나오기 전에 with self.init_scope()을 열어주고 시작해야 한다. 그렇지 않으면 가중치과 바이어스가 학습되지 않는다."
   ]
  },
  {
   "cell_type": "code",
   "execution_count": 3,
   "metadata": {},
   "outputs": [
    {
     "data": {
      "text/plain": [
       "variable([[0.9988185],\n",
       "          [2.9992332],\n",
       "          [4.9996476],\n",
       "          [7.000062 ],\n",
       "          [9.000477 ]])"
      ]
     },
     "execution_count": 3,
     "metadata": {},
     "output_type": "execute_result"
    }
   ],
   "source": [
    "import chainer\n",
    "\n",
    "import numpy as np\n",
    "\n",
    "x = np.array([0, 1, 2, 3, 4]).astype('float32').reshape(-1,1) \n",
    "y = x * 2 + 1\n",
    "\n",
    "class Model(chainer.Chain):\n",
    "    def __init__(self):\n",
    "        super().__init__()\n",
    "        with self.init_scope():\n",
    "            self.layer = chainer.links.Linear(1,1)\n",
    "    def forward(self, x):\n",
    "        return self.layer(x)\n",
    "model = Model()\n",
    "    \n",
    "#model = chainer.links.Linear(1,1)\n",
    "optimizer = chainer.optimizers.SGD()\n",
    "optimizer.setup(model)\n",
    "\n",
    "for _ in range(1000):\n",
    "    output = model(x)\n",
    "    loss = chainer.functions.mean_squared_error(y, output)\n",
    "    model.zerograds()\n",
    "    loss.backward()\n",
    "    optimizer.update()\n",
    "\n",
    "model(x)"
   ]
  },
  {
   "cell_type": "code",
   "execution_count": null,
   "metadata": {},
   "outputs": [],
   "source": []
  }
 ],
 "metadata": {
  "kernelspec": {
   "display_name": "chainer",
   "language": "python",
   "name": "chainer"
  },
  "language_info": {
   "codemirror_mode": {
    "name": "ipython",
    "version": 3
   },
   "file_extension": ".py",
   "mimetype": "text/x-python",
   "name": "python",
   "nbconvert_exporter": "python",
   "pygments_lexer": "ipython3",
   "version": "3.7.5"
  }
 },
 "nbformat": 4,
 "nbformat_minor": 4
}
