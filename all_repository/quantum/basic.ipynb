{
 "cells": [
  {
   "cell_type": "code",
   "execution_count": 11,
   "id": "adc9b52e-6c70-42f5-8692-298af23efb10",
   "metadata": {},
   "outputs": [],
   "source": [
    "import cirq\n",
    "import numpy as np"
   ]
  },
  {
   "cell_type": "code",
   "execution_count": 9,
   "id": "25a4eb83-198d-4819-969b-81d8e3f30e45",
   "metadata": {},
   "outputs": [
    {
     "name": "stdout",
     "output_type": "stream",
     "text": [
      "My Qubit: ───H───X───M───\n",
      "[0 1 0 0 0 0 0 1 1 0 0 1 1 0 0 1 0 1 1 1 0 1 0 0 0 0 0 0 0 1 1 0 0 1 1 0 1\n",
      " 1 0 1 1 1 1 1 0 0 1 1 1 1 0 1 0 0 1 1 0 1 0 1 0 0 0 1 0 1 1 1 1 1 0 1 0 1\n",
      " 0 0 1 1 0 0 1 0 0 1 1 1 1 1 0 1 0 1 1 0 1 1 1 1 1 1]\n"
     ]
    }
   ],
   "source": [
    "q = cirq.NamedQubit('My Qubit')\n",
    "\n",
    "circuit = cirq.Circuit(cirq.H(q), cirq.X(q), cirq.measure(q))\n",
    "print(circuit)\n",
    "\n",
    "simulator = cirq.Simulator()\n",
    "m_outputs = simulator.run(circuit, repetitions=100)\n",
    "print(m_outputs.measurements['My Qubit'][:,0])"
   ]
  },
  {
   "cell_type": "markdown",
   "id": "7087fc3c-e034-476b-9403-d5d6a4bf7397",
   "metadata": {},
   "source": [
    "## Ry(np.pi/4)"
   ]
  },
  {
   "cell_type": "code",
   "execution_count": 16,
   "id": "8e445547-0391-42af-9a9a-52fa2b8d3690",
   "metadata": {},
   "outputs": [
    {
     "name": "stdout",
     "output_type": "stream",
     "text": [
      "My Qubit: ───Rx(0.25π)───X───M───\n",
      "[1 1 1 1 1 1 0 1 1 1 0 1 0 1 1 0 1 0 1 1 0 1 1 1 1 1 1 1 1 0 1 1 1 1 1 1 1\n",
      " 1 1 1 1 1 1 1 1 1 0 0 1 1 0 1 0 0 1 1 1 1 1 1 0 1 1 1 1 0 1 1 1 1 1 0 1 1\n",
      " 1 1 0 1 1 1 1 0 1 1 1 1 1 1 0 1 0 1 1 1 1 1 1 1 1 1]\n"
     ]
    }
   ],
   "source": [
    "q = cirq.NamedQubit('My Qubit')\n",
    "\n",
    "circuit = cirq.Circuit(cirq.rx(np.pi/4)(q), cirq.X(q), cirq.measure(q))\n",
    "print(circuit)\n",
    "\n",
    "simulator = cirq.Simulator()\n",
    "m_outputs = simulator.run(circuit, repetitions=100)\n",
    "print(m_outputs.measurements['My Qubit'][:,0])"
   ]
  },
  {
   "cell_type": "markdown",
   "id": "5b455ece-5da3-47b9-bc7b-6dbb38486afb",
   "metadata": {},
   "source": [
    "## Rx(np.pi/2)"
   ]
  },
  {
   "cell_type": "code",
   "execution_count": 18,
   "id": "c4a2213e-6c1d-4017-9dd8-e7c95fa4a73c",
   "metadata": {},
   "outputs": [
    {
     "name": "stdout",
     "output_type": "stream",
     "text": [
      "My Qubit: ───Rx(π)───X───M───\n",
      "[0 0 0 0 0 0 0 0 0 0 0 0 0 0 0 0 0 0 0 0 0 0 0 0 0 0 0 0 0 0 0 0 0 0 0 0 0\n",
      " 0 0 0 0 0 0 0 0 0 0 0 0 0 0 0 0 0 0 0 0 0 0 0 0 0 0 0 0 0 0 0 0 0 0 0 0 0\n",
      " 0 0 0 0 0 0 0 0 0 0 0 0 0 0 0 0 0 0 0 0 0 0 0 0 0 0]\n"
     ]
    }
   ],
   "source": [
    "q = cirq.NamedQubit('My Qubit')\n",
    "\n",
    "circuit = cirq.Circuit(cirq.rx(np.pi)(q), cirq.X(q), cirq.measure(q))\n",
    "print(circuit)\n",
    "\n",
    "simulator = cirq.Simulator()\n",
    "m_outputs = simulator.run(circuit, repetitions=100)\n",
    "print(m_outputs.measurements['My Qubit'][:,0])"
   ]
  },
  {
   "cell_type": "code",
   "execution_count": 19,
   "id": "035917df-3cf5-45b7-a7ef-a8d93b0e31af",
   "metadata": {},
   "outputs": [
    {
     "name": "stdout",
     "output_type": "stream",
     "text": [
      "My Qubit: ───Rx(0.25π)───Rx(0.5π)───M───\n",
      "[1 1 1 1 1 1 1 1 1 0 1 1 0 1 1 0 1 1 1 1 1 1 1 1 0 1 0 1 0 1 1 1 1 1 1 1 1\n",
      " 1 1 1 1 1 1 1 1 1 1 1 1 1 1 1 1 1 0 1 1 0 1 1 1 1 1 1 1 1 1 1 0 1 1 1 1 1\n",
      " 1 1 1 1 1 0 1 1 1 1 1 1 1 0 1 0 1 1 0 1 0 0 1 0 1 0]\n"
     ]
    }
   ],
   "source": [
    "q = cirq.NamedQubit('My Qubit')\n",
    "\n",
    "circuit = cirq.Circuit(cirq.rx(np.pi/4)(q), cirq.rx(np.pi/2)(q), cirq.measure(q))\n",
    "print(circuit)\n",
    "\n",
    "simulator = cirq.Simulator()\n",
    "m_outputs = simulator.run(circuit, repetitions=100)\n",
    "print(m_outputs.measurements['My Qubit'][:,0])"
   ]
  },
  {
   "cell_type": "code",
   "execution_count": null,
   "id": "ec363c5b-cf9d-4506-9fe5-8421bebaea19",
   "metadata": {},
   "outputs": [],
   "source": [
    "def Rx(th):\n",
    "    return np.array([[cos ]]"
   ]
  }
 ],
 "metadata": {
  "kernelspec": {
   "display_name": "tfq",
   "language": "python",
   "name": "tfq"
  },
  "language_info": {
   "codemirror_mode": {
    "name": "ipython",
    "version": 3
   },
   "file_extension": ".py",
   "mimetype": "text/x-python",
   "name": "python",
   "nbconvert_exporter": "python",
   "pygments_lexer": "ipython3",
   "version": "3.7.11"
  }
 },
 "nbformat": 4,
 "nbformat_minor": 5
}
