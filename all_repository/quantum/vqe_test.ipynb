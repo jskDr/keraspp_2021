{
 "cells": [
  {
   "cell_type": "markdown",
   "id": "bc539e51-a4a2-4c49-bbfe-70fff44bfa89",
   "metadata": {},
   "source": [
    "# To find the ground state of the hydrogen molecule, $H_2$"
   ]
  },
  {
   "cell_type": "code",
   "execution_count": 1,
   "id": "5f6ee133-784d-4627-a881-da545219df04",
   "metadata": {},
   "outputs": [],
   "source": [
    "import numpy as np"
   ]
  },
  {
   "cell_type": "code",
   "execution_count": 2,
   "id": "778e8a9a-c6b6-4a64-b88e-08f02bd0eb31",
   "metadata": {},
   "outputs": [],
   "source": [
    "symbols = ['H', 'H']\n",
    "coordinates = np.array([0.0, 0.0, -0.6614, 0.0, 0.0, 0.6614])"
   ]
  },
  {
   "cell_type": "code",
   "execution_count": 3,
   "id": "e600dbf9-09bb-4c71-9eb8-b8872db496bc",
   "metadata": {},
   "outputs": [],
   "source": [
    "import pennylane as qml"
   ]
  },
  {
   "cell_type": "code",
   "execution_count": 4,
   "id": "e88092dc-8ddd-4ebd-9e7f-b1f9dd25345a",
   "metadata": {},
   "outputs": [],
   "source": [
    "Hamiltonian, Nqubits = qml.qchem.molecular_hamiltonian(symbols, coordinates) "
   ]
  },
  {
   "cell_type": "code",
   "execution_count": 5,
   "id": "b8939edb-4630-4764-83b2-3742982d44ae",
   "metadata": {},
   "outputs": [
    {
     "name": "stdout",
     "output_type": "stream",
     "text": [
      "Number of qubits =  4\n",
      "The Hamiltonian is    (-0.24274501727498227) [Z2]\n",
      "+ (-0.24274501727498227) [Z3]\n",
      "+ (-0.042072543031530185) [I0]\n",
      "+ (0.17771358191549919) [Z0]\n",
      "+ (0.1777135819154993) [Z1]\n",
      "+ (0.12293330460167415) [Z0 Z2]\n",
      "+ (0.12293330460167415) [Z1 Z3]\n",
      "+ (0.16768338881432718) [Z0 Z3]\n",
      "+ (0.16768338881432718) [Z1 Z2]\n",
      "+ (0.1705975924056083) [Z0 Z1]\n",
      "+ (0.17627661476093914) [Z2 Z3]\n",
      "+ (-0.04475008421265302) [Y0 Y1 X2 X3]\n",
      "+ (-0.04475008421265302) [X0 X1 Y2 Y3]\n",
      "+ (0.04475008421265302) [Y0 X1 X2 Y3]\n",
      "+ (0.04475008421265302) [X0 Y1 Y2 X3]\n"
     ]
    }
   ],
   "source": [
    "print(\"Number of qubits = \", Nqubits)\n",
    "print(\"The Hamiltonian is \", Hamiltonian)"
   ]
  },
  {
   "cell_type": "code",
   "execution_count": 6,
   "id": "109460f4-e322-4e48-af8b-d928543869d4",
   "metadata": {},
   "outputs": [],
   "source": [
    "dev = qml.device(\"default.qubit\", wires=Nqubits)"
   ]
  },
  {
   "cell_type": "code",
   "execution_count": 7,
   "id": "ee34e2b1-67c3-42e2-a940-ade8e2eda759",
   "metadata": {},
   "outputs": [
    {
     "name": "stdout",
     "output_type": "stream",
     "text": [
      "[1 1 0 0]\n"
     ]
    }
   ],
   "source": [
    "electrons = 2\n",
    "hf = qml.qchem.hf_state(electrons, Nqubits)\n",
    "print(hf)"
   ]
  },
  {
   "cell_type": "code",
   "execution_count": 8,
   "id": "8eecdbd3-961d-4074-b091-d873ae6b4368",
   "metadata": {},
   "outputs": [],
   "source": [
    "def circuit(param, wires):\n",
    "    qml.BasisState(hf, wires=wires)\n",
    "    qml.DoubleExcitation(param, wires=[0,1,2,3])"
   ]
  },
  {
   "cell_type": "code",
   "execution_count": 9,
   "id": "dba6e2ea-e1b6-4da9-9e2b-a2bb3488d5ac",
   "metadata": {},
   "outputs": [],
   "source": [
    "@qml.qnode(dev)\n",
    "def cost_fn(param):\n",
    "    circuit(param, wires=range(Nqubits))\n",
    "    return qml.expval(Hamiltonian)"
   ]
  },
  {
   "cell_type": "code",
   "execution_count": 10,
   "id": "2a1873e4-e989-4eb7-8e2e-6d9210323dd9",
   "metadata": {},
   "outputs": [],
   "source": [
    "opt = qml.GradientDescentOptimizer(stepsize=0.4)"
   ]
  },
  {
   "cell_type": "code",
   "execution_count": 11,
   "id": "d3bf490b-4af8-4053-a0f1-36b974963272",
   "metadata": {},
   "outputs": [],
   "source": [
    "theta = 0.0"
   ]
  },
  {
   "cell_type": "code",
   "execution_count": 12,
   "id": "5ef8c77d-11e9-41c6-b06b-01c2b848db76",
   "metadata": {},
   "outputs": [],
   "source": [
    "energy = [cost_fn(theta)]\n",
    "angle = [theta]\n",
    "max_iterations = 100\n",
    "conv_tol = 1e-06"
   ]
  },
  {
   "cell_type": "code",
   "execution_count": 13,
   "id": "9055aac8-9cd2-4859-b9cc-4ff39a363ade",
   "metadata": {},
   "outputs": [
    {
     "name": "stdout",
     "output_type": "stream",
     "text": [
      "Step = 0,  Energy = -1.12799983 Ha\n",
      "Step = 2,  Energy = -1.13466246 Ha\n",
      "Step = 4,  Energy = -1.13590595 Ha\n",
      "Step = 6,  Energy = -1.13613667 Ha\n",
      "Step = 8,  Energy = -1.13617944 Ha\n",
      "Step = 10,  Energy = -1.13618736 Ha\n",
      "Step = 12,  Energy = -1.13618883 Ha\n",
      "\n",
      "Final value of the ground-state energy = -1.13618883 Ha\n",
      "\n",
      "Optimal value of the circuit parameter = 0.2089\n"
     ]
    }
   ],
   "source": [
    "for n in range(max_iterations):\n",
    "    theta, prev_energy = opt.step_and_cost(cost_fn, theta)\n",
    "    energy.append(cost_fn(theta))\n",
    "    angle.append(theta)\n",
    "    \n",
    "    conv = np.abs(energy[-1] - prev_energy)\n",
    "    \n",
    "    if n%2 == 0:\n",
    "        print(f\"Step = {n},  Energy = {energy[-1]:.8f} Ha\")\n",
    "    \n",
    "    if conv <= conv_tol:\n",
    "        break\n",
    "        \n",
    "print(\"\\n\" f\"Final value of the ground-state energy = {energy[-1]:.8f} Ha\")\n",
    "print(\"\\n\" f\"Optimal value of the circuit parameter = {angle[-1]:.4f}\")    "
   ]
  },
  {
   "cell_type": "code",
   "execution_count": null,
   "id": "b6ccc18b-11b5-4b2c-9a43-ca6ed1ab43e2",
   "metadata": {},
   "outputs": [],
   "source": []
  }
 ],
 "metadata": {
  "kernelspec": {
   "display_name": "pennylane",
   "language": "python",
   "name": "pennylane"
  },
  "language_info": {
   "codemirror_mode": {
    "name": "ipython",
    "version": 3
   },
   "file_extension": ".py",
   "mimetype": "text/x-python",
   "name": "python",
   "nbconvert_exporter": "python",
   "pygments_lexer": "ipython3",
   "version": "3.9.6"
  }
 },
 "nbformat": 4,
 "nbformat_minor": 5
}
