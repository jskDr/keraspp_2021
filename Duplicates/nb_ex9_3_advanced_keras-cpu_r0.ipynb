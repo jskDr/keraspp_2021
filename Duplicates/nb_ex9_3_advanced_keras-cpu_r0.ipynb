{
 "cells": [
  {
   "cell_type": "markdown",
   "metadata": {},
   "source": [
    "## 9장. 케라스2 응용\n",
    "실제 문제에 인공지능을 활용할 때 생기는 문제들을 효율적으로 처리하는 케라스의 응용 기능을 알아봅시다.\n",
    "\n",
    "### 9.3 실전에서 유용한 케라스 고급 기능\n",
    "케라스의 유용한 고급 기능을 다룹니다."
   ]
  },
  {
   "cell_type": "code",
   "execution_count": 20,
   "metadata": {},
   "outputs": [
    {
     "data": {
      "text/plain": [
       "'2.4.3'"
      ]
     },
     "execution_count": 20,
     "metadata": {},
     "output_type": "execute_result"
    }
   ],
   "source": [
    "# set to use CPU\n",
    "import os\n",
    "os.environ['CUDA_VISIBLE_DEVICES'] = '-1'\n",
    "\n",
    "import keras\n",
    "keras.__version__"
   ]
  },
  {
   "cell_type": "markdown",
   "metadata": {},
   "source": [
    "### 9.3.1 Lambda 계층\n",
    "#### 9.3.1.1 파이썬 lambda를 함께 활용"
   ]
  },
  {
   "cell_type": "code",
   "execution_count": 21,
   "metadata": {},
   "outputs": [],
   "source": [
    "from keras.layers import Lambda, Input, Concatenate\n",
    "from tensorflow.keras.models import Model\n",
    "import numpy as np"
   ]
  },
  {
   "cell_type": "code",
   "execution_count": 22,
   "metadata": {},
   "outputs": [
    {
     "name": "stdout",
     "output_type": "stream",
     "text": [
      "[[ 1.  2.  3.  4.  2.  4.]\n",
      " [ 3.  4.  5.  6.  6.  8.]\n",
      " [ 5.  6.  7.  8. 10. 12.]]\n"
     ]
    }
   ],
   "source": [
    "def Lambda_with_lambda():\n",
    "    x = Input((2,))\n",
    "    y = Lambda(lambda x: [x,x+2,x*2])(x)\n",
    "    z = Concatenate()(y)\n",
    "    m = Model(x, z)\n",
    "\n",
    "    yp = m.predict_on_batch(np.array([[1,2],[3,4],[5,6]]))\n",
    "    print(yp)\n",
    "    \n",
    "Lambda_with_lambda()"
   ]
  },
  {
   "cell_type": "code",
   "execution_count": null,
   "metadata": {},
   "outputs": [],
   "source": []
  },
  {
   "cell_type": "code",
   "execution_count": 16,
   "metadata": {},
   "outputs": [
    {
     "name": "stdout",
     "output_type": "stream",
     "text": [
      "[[ 1.  2.  3.  4.  2.  4.]\n",
      " [ 3.  4.  5.  6.  6.  8.]\n",
      " [ 5.  6.  7.  8. 10. 12.]]\n"
     ]
    }
   ],
   "source": [
    "def Lambda_with_lambda_keras2():\n",
    "    x = Input((2,))\n",
    "    y = [x,x+2,x*2]\n",
    "    z = Concatenate()(y)\n",
    "    m = Model(x, z)\n",
    "\n",
    "    yp = m.predict_on_batch(np.array([[1,2],[3,4],[5,6]]))\n",
    "    print(yp)\n",
    "    \n",
    "Lambda_with_lambda_keras2()"
   ]
  },
  {
   "cell_type": "code",
   "execution_count": 26,
   "metadata": {},
   "outputs": [
    {
     "name": "stdout",
     "output_type": "stream",
     "text": [
      "[[1. 2. 3. 1. 0. 1. 1. 0. 1.]\n",
      " [3. 4. 8. 2. 1. 3. 4. 1. 9.]]\n"
     ]
    }
   ],
   "source": [
    "from keras import backend as K\n",
    "def Backend_for_Lambda():\n",
    "    def kproc_concat(x):    \n",
    "        m = K.mean(x, axis=1, keepdims=True)\n",
    "        d1 = K.abs(x - m)\n",
    "        d2 = K.square(x - m)\n",
    "        return K.concatenate([x, d1, d2], axis=1)\n",
    "\n",
    "    def kshape_concat(input_shape):\n",
    "        output_shape = list(input_shape)\n",
    "        output_shape[1] *= 3\n",
    "        return tuple(output_shape)\n",
    "\n",
    "    x = Input((3,))\n",
    "    y = Lambda(kproc_concat, kshape_concat)(x)\n",
    "    m = Model(x, y)\n",
    "\n",
    "    yp = m.predict_on_batch(np.array([[1, 2, 3], [3, 4, 8]]))\n",
    "    print(yp)\n",
    "    \n",
    "Backend_for_Lambda()"
   ]
  },
  {
   "cell_type": "code",
   "execution_count": 32,
   "metadata": {},
   "outputs": [
    {
     "name": "stdout",
     "output_type": "stream",
     "text": [
      "[[1. 2. 3. 1. 0. 1. 1. 0. 1.]\n",
      " [3. 4. 8. 2. 1. 3. 4. 1. 9.]]\n"
     ]
    }
   ],
   "source": [
    "import tensorflow as tf\n",
    "def TF_for_Lamda():\n",
    "    def kproc_concat(x):    \n",
    "        m = tf.reduce_mean(x, axis=1, keepdims=True)\n",
    "        d1 = tf.abs(x - m)\n",
    "        d2 = tf.square(x - m)\n",
    "        return tf.concat([x, d1, d2], axis=1)\n",
    "\n",
    "    def kshape_concat(input_shape):\n",
    "        output_shape = list(input_shape)\n",
    "        output_shape[1] *= 3\n",
    "        return tuple(output_shape)\n",
    "\n",
    "    x = Input((3,))\n",
    "    y = Lambda(kproc_concat, kshape_concat)(x)\n",
    "    m = Model(x, y)\n",
    "\n",
    "    yp = m.predict_on_batch(np.array([[1, 2, 3], [3, 4, 8]]))\n",
    "    print(yp)\n",
    "    \n",
    "TF_for_Lamda()"
   ]
  },
  {
   "cell_type": "markdown",
   "metadata": {},
   "source": [
    "---\n",
    "### 9.2.3 전체 코드"
   ]
  },
  {
   "cell_type": "code",
   "execution_count": 34,
   "metadata": {},
   "outputs": [
    {
     "name": "stdout",
     "output_type": "stream",
     "text": [
      "Lambda with lambda\n",
      "np.array([1,2,3]) + 1:\n",
      "[[2.]\n",
      " [3.]\n",
      " [4.]]\n",
      "Lambda function\n",
      "np.array([1,2,3]) + 1:\n",
      "[[ 4.]\n",
      " [ 9.]\n",
      " [16.]]\n",
      "Backend for Lambda\n",
      "[[1. 2. 3. 1. 0. 1. 1. 0. 1.]\n",
      " [3. 4. 8. 2. 1. 3. 4. 1. 9.]]\n",
      "TF for Lambda\n",
      "[[1. 2. 3. 1. 0. 1. 1. 0. 1.]\n",
      " [3. 4. 8. 2. 1. 3. 4. 1. 9.]]\n"
     ]
    }
   ],
   "source": [
    "from keras.layers import Lambda, Input\n",
    "from keras.models import Model\n",
    "\n",
    "def Lambda_with_lambda():\n",
    "    x = Input((1,))\n",
    "    y = Lambda(lambda x: x + 1)(x)\n",
    "    m = Model(x, y)\n",
    "\n",
    "    yp = m.predict_on_batch(np.array([1, 2, 3]))\n",
    "    print(yp)\n",
    "\n",
    "\n",
    "def Lambda_function():\n",
    "    def kproc(x):\n",
    "        return x ** 2 + 2 * x + 1\n",
    "\n",
    "    def kshape(input_shape):\n",
    "        return input_shape\n",
    "\n",
    "    x = Input((1,))\n",
    "    y = Lambda(kproc, kshape)(x)\n",
    "    m = Model(x, y)\n",
    "\n",
    "    yp = m.predict_on_batch(np.array([1, 2, 3]))\n",
    "    print(yp)\n",
    "\n",
    "    \n",
    "from keras import backend as K\n",
    "def Backend_for_Lambda():\n",
    "    def kproc_concat(x):    \n",
    "        m = K.mean(x, axis=1, keepdims=True)\n",
    "        d1 = K.abs(x - m)\n",
    "        d2 = K.square(x - m)\n",
    "        return K.concatenate([x, d1, d2], axis=1)\n",
    "\n",
    "    def kshape_concat(input_shape):\n",
    "        output_shape = list(input_shape)\n",
    "        output_shape[1] *= 3\n",
    "        return tuple(output_shape)\n",
    "\n",
    "    x = Input((3,))\n",
    "    y = Lambda(kproc_concat, kshape_concat)(x)\n",
    "    m = Model(x, y)\n",
    "\n",
    "    yp = m.predict_on_batch(np.array([[1, 2, 3], [3, 4, 8]]))\n",
    "    print(yp)\n",
    "\n",
    "    \n",
    "import tensorflow as tf\n",
    "def TF_for_Lamda():\n",
    "    def kproc_concat(x):    \n",
    "        m = tf.reduce_mean(x, axis=1, keepdims=True)\n",
    "        d1 = tf.abs(x - m)\n",
    "        d2 = tf.square(x - m)\n",
    "        return tf.concat([x, d1, d2], axis=1)\n",
    "\n",
    "    def kshape_concat(input_shape):\n",
    "        output_shape = list(input_shape)\n",
    "        output_shape[1] *= 3\n",
    "        return tuple(output_shape)\n",
    "\n",
    "    x = Input((3,))\n",
    "    y = Lambda(kproc_concat, kshape_concat)(x)\n",
    "    m = Model(x, y)\n",
    "\n",
    "    yp = m.predict_on_batch(np.array([[1, 2, 3], [3, 4, 8]]))\n",
    "    print(yp)\n",
    "\n",
    "\n",
    "def main():\n",
    "    print('Lambda with lambda')\n",
    "    Lambda_with_lambda()\n",
    "\n",
    "    print('Lambda function')\n",
    "    Lambda_function()\n",
    "\n",
    "    print('Backend for Lambda')\n",
    "    Backend_for_Lambda()\n",
    "\n",
    "    print('TF for Lambda')\n",
    "    TF_for_Lamda()\n",
    "\n",
    "main()"
   ]
  },
  {
   "cell_type": "code",
   "execution_count": null,
   "metadata": {},
   "outputs": [],
   "source": []
  }
 ],
 "metadata": {
  "kernelspec": {
   "display_name": "keras-gpu",
   "language": "python",
   "name": "keras-gpu"
  },
  "language_info": {
   "codemirror_mode": {
    "name": "ipython",
    "version": 3
   },
   "file_extension": ".py",
   "mimetype": "text/x-python",
   "name": "python",
   "nbconvert_exporter": "python",
   "pygments_lexer": "ipython3",
   "version": "3.8.5"
  },
  "toc": {
   "nav_menu": {},
   "number_sections": true,
   "sideBar": true,
   "skip_h1_title": true,
   "toc_cell": false,
   "toc_position": {},
   "toc_section_display": "block",
   "toc_window_display": false
  }
 },
 "nbformat": 4,
 "nbformat_minor": 4
}
