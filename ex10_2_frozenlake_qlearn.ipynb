{
 "cells": [
  {
   "cell_type": "code",
   "execution_count": 1,
   "metadata": {},
   "outputs": [],
   "source": [
    "%matplotlib inline"
   ]
  },
  {
   "cell_type": "code",
   "execution_count": 2,
   "metadata": {},
   "outputs": [],
   "source": [
    "# %% \n",
    "import gym\n",
    "import pandas as pd\n",
    "import numpy as np\n",
    "import matplotlib.pyplot as plt"
   ]
  },
  {
   "cell_type": "code",
   "execution_count": 3,
   "metadata": {},
   "outputs": [],
   "source": [
    "flake = gym.make(\"FrozenLake-v0\", is_slippery=False)\n",
    "Q = np.zeros((flake.observation_space.n, flake.action_space.n))\n",
    "PI = np.argmax(Q,axis=1)"
   ]
  },
  {
   "cell_type": "code",
   "execution_count": 4,
   "metadata": {},
   "outputs": [
    {
     "data": {
      "text/html": [
       "<div>\n",
       "<style scoped>\n",
       "    .dataframe tbody tr th:only-of-type {\n",
       "        vertical-align: middle;\n",
       "    }\n",
       "\n",
       "    .dataframe tbody tr th {\n",
       "        vertical-align: top;\n",
       "    }\n",
       "\n",
       "    .dataframe thead th {\n",
       "        text-align: right;\n",
       "    }\n",
       "</style>\n",
       "<table border=\"1\" class=\"dataframe\">\n",
       "  <thead>\n",
       "    <tr style=\"text-align: right;\">\n",
       "      <th></th>\n",
       "      <th>S</th>\n",
       "      <th>S:(x,y)</th>\n",
       "      <th>R</th>\n",
       "      <th>done</th>\n",
       "      <th>A</th>\n",
       "      <th>A:name</th>\n",
       "    </tr>\n",
       "    <tr>\n",
       "      <th>k</th>\n",
       "      <th></th>\n",
       "      <th></th>\n",
       "      <th></th>\n",
       "      <th></th>\n",
       "      <th></th>\n",
       "      <th></th>\n",
       "    </tr>\n",
       "  </thead>\n",
       "  <tbody>\n",
       "    <tr>\n",
       "      <th>0</th>\n",
       "      <td>0</td>\n",
       "      <td>(0, 0)</td>\n",
       "      <td>0.0</td>\n",
       "      <td>False</td>\n",
       "      <td>0</td>\n",
       "      <td>Left</td>\n",
       "    </tr>\n",
       "    <tr>\n",
       "      <th>1</th>\n",
       "      <td>0</td>\n",
       "      <td>(0, 0)</td>\n",
       "      <td>0.0</td>\n",
       "      <td>False</td>\n",
       "      <td>0</td>\n",
       "      <td>Left</td>\n",
       "    </tr>\n",
       "    <tr>\n",
       "      <th>2</th>\n",
       "      <td>0</td>\n",
       "      <td>(0, 0)</td>\n",
       "      <td>0.0</td>\n",
       "      <td>False</td>\n",
       "      <td>0</td>\n",
       "      <td>Left</td>\n",
       "    </tr>\n",
       "    <tr>\n",
       "      <th>3</th>\n",
       "      <td>0</td>\n",
       "      <td>(0, 0)</td>\n",
       "      <td>0.0</td>\n",
       "      <td>False</td>\n",
       "      <td>0</td>\n",
       "      <td>Left</td>\n",
       "    </tr>\n",
       "    <tr>\n",
       "      <th>4</th>\n",
       "      <td>0</td>\n",
       "      <td>(0, 0)</td>\n",
       "      <td>0.0</td>\n",
       "      <td>False</td>\n",
       "      <td>0</td>\n",
       "      <td>Left</td>\n",
       "    </tr>\n",
       "    <tr>\n",
       "      <th>...</th>\n",
       "      <td>...</td>\n",
       "      <td>...</td>\n",
       "      <td>...</td>\n",
       "      <td>...</td>\n",
       "      <td>...</td>\n",
       "      <td>...</td>\n",
       "    </tr>\n",
       "    <tr>\n",
       "      <th>56</th>\n",
       "      <td>4</td>\n",
       "      <td>(0, 1)</td>\n",
       "      <td>0.0</td>\n",
       "      <td>False</td>\n",
       "      <td>0</td>\n",
       "      <td>Left</td>\n",
       "    </tr>\n",
       "    <tr>\n",
       "      <th>57</th>\n",
       "      <td>4</td>\n",
       "      <td>(0, 1)</td>\n",
       "      <td>0.0</td>\n",
       "      <td>False</td>\n",
       "      <td>0</td>\n",
       "      <td>Left</td>\n",
       "    </tr>\n",
       "    <tr>\n",
       "      <th>58</th>\n",
       "      <td>4</td>\n",
       "      <td>(0, 1)</td>\n",
       "      <td>0.0</td>\n",
       "      <td>False</td>\n",
       "      <td>0</td>\n",
       "      <td>Left</td>\n",
       "    </tr>\n",
       "    <tr>\n",
       "      <th>59</th>\n",
       "      <td>4</td>\n",
       "      <td>(0, 1)</td>\n",
       "      <td>0.0</td>\n",
       "      <td>False</td>\n",
       "      <td>2</td>\n",
       "      <td>Right</td>\n",
       "    </tr>\n",
       "    <tr>\n",
       "      <th>60</th>\n",
       "      <td>5</td>\n",
       "      <td>(1, 1)</td>\n",
       "      <td>0.0</td>\n",
       "      <td>True</td>\n",
       "      <td>0</td>\n",
       "      <td></td>\n",
       "    </tr>\n",
       "  </tbody>\n",
       "</table>\n",
       "<p>61 rows × 6 columns</p>\n",
       "</div>"
      ],
      "text/plain": [
       "    S S:(x,y)    R   done  A A:name\n",
       "k                                  \n",
       "0   0  (0, 0)  0.0  False  0   Left\n",
       "1   0  (0, 0)  0.0  False  0   Left\n",
       "2   0  (0, 0)  0.0  False  0   Left\n",
       "3   0  (0, 0)  0.0  False  0   Left\n",
       "4   0  (0, 0)  0.0  False  0   Left\n",
       ".. ..     ...  ...    ... ..    ...\n",
       "56  4  (0, 1)  0.0  False  0   Left\n",
       "57  4  (0, 1)  0.0  False  0   Left\n",
       "58  4  (0, 1)  0.0  False  0   Left\n",
       "59  4  (0, 1)  0.0  False  2  Right\n",
       "60  5  (1, 1)  0.0   True  0       \n",
       "\n",
       "[61 rows x 6 columns]"
      ]
     },
     "execution_count": 4,
     "metadata": {},
     "output_type": "execute_result"
    }
   ],
   "source": [
    "# %% Q-learning\n",
    "def run_with_PI_exploration(PI=None, exploration=0.2, N_Iter = 100, render_flag=False):\n",
    "    \"\"\"\n",
    "    Return buff_df if done, otherwise return None \n",
    "    \"\"\"\n",
    "    if PI is None:\n",
    "        # No PI, action will be determined fully randomly\n",
    "        exploration = 1.0\n",
    "\n",
    "    s = flake.reset()\n",
    "    if render_flag: flake.render()\n",
    "    buff_df = pd.DataFrame({\"S\":[s],\"S:(x,y)\":[(0,0)], \n",
    "                \"R\":[0.0], \"done\":[False], \n",
    "                \"A\":[0], \"A:name\": [\"\"]})\n",
    "    buff_df.index.name = 'k'\n",
    "\n",
    "    Actions = [\"Left\", \"Down\", \"Right\", \"Up\"]\n",
    "    rand_buff =  np.random.rand(N_Iter)\n",
    "    for iter in range(N_Iter):\n",
    "        # if np.random.rand() <= exploration:\n",
    "        if rand_buff[iter] <= exploration:\n",
    "            a_k = flake.action_space.sample()\n",
    "        else:\n",
    "            a_k = PI[s]\n",
    "        buff_df.loc[iter,'A':\"A:name\"] = (a_k, Actions[a_k])\n",
    "        s, r, done, info = flake.step(a_k)\n",
    "        if render_flag: flake.render()\n",
    "        new_df = pd.DataFrame({\"S\":[s], \"S:(x,y)\":[(s%4,s//4)],\n",
    "                                \"R\":[r], \"done\":[done], \n",
    "                                \"A\":[0], \"A:name\": [\"\"]})\n",
    "        buff_df = buff_df.append(new_df, ignore_index=True)\n",
    "        buff_df.index.name = 'k'\n",
    "        if done:\n",
    "            return buff_df\n",
    "    return None\n",
    "\n",
    "buff_df = run_with_PI_exploration(PI, exploration=0.2, N_Iter=100)\n",
    "buff_df"
   ]
  },
  {
   "cell_type": "code",
   "execution_count": 5,
   "metadata": {},
   "outputs": [],
   "source": [
    "# %%\n",
    "def q_learning(N_epoch=1000, N_Iter=100, learning_rate=0.01, exploration=0.2, trace_flag=False):\n",
    "    \"\"\"\n",
    "    return PI 1-D integer array if trace_flag is False \n",
    "    else return PI_array 2-D integer array \n",
    "    \"\"\"\n",
    "    PI_list = []\n",
    "    Q = np.zeros((flake.observation_space.n, flake.action_space.n))\n",
    "    for e in range(N_epoch):\n",
    "        PI = np.argmax(Q,axis=1)\n",
    "        buff_df = run_with_PI_exploration(PI, exploration=exploration, N_Iter=N_Iter)\n",
    "        for k in range(len(buff_df)-1):\n",
    "            S, A = buff_df.S[k], buff_df.A[k]\n",
    "            S_next, R_next = buff_df.S[k+1], buff_df.R[k+1]\n",
    "            # print(k, S, A, S_next, R_next)\n",
    "            Q_new = R_next + np.max(Q[S_next])\n",
    "            Q[S,A] += learning_rate * (Q_new - Q[S,A])\n",
    "        PI = np.argmax(Q,axis=1)\n",
    "        PI_list.append(PI)\n",
    "    if trace_flag:\n",
    "        return np.array(PI_list)\n",
    "    else:\n",
    "        return PI"
   ]
  },
  {
   "cell_type": "code",
   "execution_count": 6,
   "metadata": {},
   "outputs": [
    {
     "name": "stdout",
     "output_type": "stream",
     "text": [
      "[1 2 1 0 1 0 1 0 2 2 1 0 0 2 2 0]\n"
     ]
    },
    {
     "data": {
      "text/plain": [
       "[<matplotlib.lines.Line2D at 0x1a3558a17c0>,\n",
       " <matplotlib.lines.Line2D at 0x1a3558a17f0>,\n",
       " <matplotlib.lines.Line2D at 0x1a3558a1820>,\n",
       " <matplotlib.lines.Line2D at 0x1a3558a1970>,\n",
       " <matplotlib.lines.Line2D at 0x1a3558a1a90>,\n",
       " <matplotlib.lines.Line2D at 0x1a3558a1bb0>,\n",
       " <matplotlib.lines.Line2D at 0x1a3558a1cd0>,\n",
       " <matplotlib.lines.Line2D at 0x1a3558a1df0>,\n",
       " <matplotlib.lines.Line2D at 0x1a3558a1f10>,\n",
       " <matplotlib.lines.Line2D at 0x1a355f41070>,\n",
       " <matplotlib.lines.Line2D at 0x1a35586f0a0>,\n",
       " <matplotlib.lines.Line2D at 0x1a355f41190>,\n",
       " <matplotlib.lines.Line2D at 0x1a355f413a0>,\n",
       " <matplotlib.lines.Line2D at 0x1a355f414c0>,\n",
       " <matplotlib.lines.Line2D at 0x1a355f415e0>,\n",
       " <matplotlib.lines.Line2D at 0x1a355f41700>]"
      ]
     },
     "execution_count": 6,
     "metadata": {},
     "output_type": "execute_result"
    },
    {
     "data": {
      "image/png": "[encoded data removed]",
      "text/plain": [
       "<Figure size 432x288 with 1 Axes>"
      ]
     },
     "metadata": {
      "needs_background": "light"
     },
     "output_type": "display_data"
    }
   ],
   "source": [
    "PI_array = q_learning(N_epoch=1000, N_Iter=100, learning_rate=0.01, exploration=0.8, trace_flag=True)\n",
    "print(PI_array[-1])\n",
    "plt.plot(PI_array)"
   ]
  },
  {
   "cell_type": "code",
   "execution_count": 7,
   "metadata": {},
   "outputs": [
    {
     "name": "stdout",
     "output_type": "stream",
     "text": [
      "[1 0 1 0 1 0 1 0 2 2 1 0 0 2 2 0]\n"
     ]
    },
    {
     "data": {
      "text/plain": [
       "[<matplotlib.lines.Line2D at 0x1a356059a30>,\n",
       " <matplotlib.lines.Line2D at 0x1a356059a60>,\n",
       " <matplotlib.lines.Line2D at 0x1a356059b80>,\n",
       " <matplotlib.lines.Line2D at 0x1a356059ca0>,\n",
       " <matplotlib.lines.Line2D at 0x1a356059dc0>,\n",
       " <matplotlib.lines.Line2D at 0x1a356059ee0>,\n",
       " <matplotlib.lines.Line2D at 0x1a356066040>,\n",
       " <matplotlib.lines.Line2D at 0x1a356066160>,\n",
       " <matplotlib.lines.Line2D at 0x1a356066280>,\n",
       " <matplotlib.lines.Line2D at 0x1a3560663a0>,\n",
       " <matplotlib.lines.Line2D at 0x1a356036580>,\n",
       " <matplotlib.lines.Line2D at 0x1a3560664c0>,\n",
       " <matplotlib.lines.Line2D at 0x1a3560666d0>,\n",
       " <matplotlib.lines.Line2D at 0x1a3560667f0>,\n",
       " <matplotlib.lines.Line2D at 0x1a356066910>,\n",
       " <matplotlib.lines.Line2D at 0x1a356066a30>]"
      ]
     },
     "execution_count": 7,
     "metadata": {},
     "output_type": "execute_result"
    },
    {
     "data": {
      "image/png": "[encoded data removed]",
      "text/plain": [
       "<Figure size 432x288 with 1 Axes>"
      ]
     },
     "metadata": {
      "needs_background": "light"
     },
     "output_type": "display_data"
    }
   ],
   "source": [
    "PI_array = q_learning(N_epoch=1000, N_Iter=100, learning_rate=0.01, exploration=0.6, trace_flag=True)\n",
    "print(PI_array[-1])\n",
    "plt.plot(PI_array)"
   ]
  },
  {
   "cell_type": "code",
   "execution_count": 8,
   "metadata": {},
   "outputs": [
    {
     "name": "stdout",
     "output_type": "stream",
     "text": [
      "[0 0 0 0 0 0 0 0 0 0 0 0 0 0 0 0]\n"
     ]
    },
    {
     "data": {
      "text/plain": [
       "[<matplotlib.lines.Line2D at 0x1a3560f7e20>,\n",
       " <matplotlib.lines.Line2D at 0x1a3560f7e50>,\n",
       " <matplotlib.lines.Line2D at 0x1a3560f7f70>,\n",
       " <matplotlib.lines.Line2D at 0x1a3561030d0>,\n",
       " <matplotlib.lines.Line2D at 0x1a3561031f0>,\n",
       " <matplotlib.lines.Line2D at 0x1a356103310>,\n",
       " <matplotlib.lines.Line2D at 0x1a356103430>,\n",
       " <matplotlib.lines.Line2D at 0x1a356103550>,\n",
       " <matplotlib.lines.Line2D at 0x1a356103670>,\n",
       " <matplotlib.lines.Line2D at 0x1a3560e2d30>,\n",
       " <matplotlib.lines.Line2D at 0x1a3560e2d60>,\n",
       " <matplotlib.lines.Line2D at 0x1a3560e5730>,\n",
       " <matplotlib.lines.Line2D at 0x1a3561039a0>,\n",
       " <matplotlib.lines.Line2D at 0x1a356103ac0>,\n",
       " <matplotlib.lines.Line2D at 0x1a356103be0>,\n",
       " <matplotlib.lines.Line2D at 0x1a356103d00>]"
      ]
     },
     "execution_count": 8,
     "metadata": {},
     "output_type": "execute_result"
    },
    {
     "data": {
      "image/png": "[encoded data removed]",
      "text/plain": [
       "<Figure size 432x288 with 1 Axes>"
      ]
     },
     "metadata": {
      "needs_background": "light"
     },
     "output_type": "display_data"
    }
   ],
   "source": [
    "PI_array = q_learning(N_epoch=1000, N_Iter=100, learning_rate=0.01, exploration=0.4, trace_flag=True)\n",
    "print(PI_array[-1])\n",
    "plt.plot(PI_array)"
   ]
  },
  {
   "cell_type": "code",
   "execution_count": null,
   "metadata": {},
   "outputs": [],
   "source": [
    "PI_array = q_learning(N_epoch=1000, N_Iter=100, learning_rate=0.01, exploration=0.2, trace_flag=True)\n",
    "print(PI_array[-1])\n",
    "plt.plot(PI_array)"
   ]
  },
  {
   "cell_type": "code",
   "execution_count": null,
   "metadata": {},
   "outputs": [],
   "source": [
    "PI_array = q_learning(N_epoch=1000, N_Iter=100, learning_rate=0.01, exploration=0.1, trace_flag=True)\n",
    "print(PI_array[-1])\n",
    "plt.plot(PI_array)"
   ]
  },
  {
   "cell_type": "code",
   "execution_count": null,
   "metadata": {},
   "outputs": [],
   "source": []
  }
 ],
 "metadata": {
  "kernelspec": {
   "display_name": "keras",
   "language": "python",
   "name": "keras"
  },
  "language_info": {
   "codemirror_mode": {
    "name": "ipython",
    "version": 3
   },
   "file_extension": ".py",
   "mimetype": "text/x-python",
   "name": "python",
   "nbconvert_exporter": "python",
   "pygments_lexer": "ipython3",
   "version": "3.7.4"
  }
 },
 "nbformat": 4,
 "nbformat_minor": 4
}
