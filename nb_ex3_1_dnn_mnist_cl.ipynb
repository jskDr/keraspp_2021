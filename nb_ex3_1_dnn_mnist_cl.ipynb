{
 "cells": [
  {
   "cell_type": "markdown",
   "metadata": {},
   "source": [
    "# 예제 3-1 필기체를 분류하는 DNN 구현"
   ]
  },
  {
   "cell_type": "code",
   "execution_count": 2,
   "metadata": {},
   "outputs": [
    {
     "name": "stdout",
     "output_type": "stream",
     "text": [
      "The autoreload extension is already loaded. To reload it, use:\n",
      "  %reload_ext autoreload\n"
     ]
    }
   ],
   "source": [
    "# %load /home/sjkim/.jupyter/head.py\n",
    "%matplotlib inline\n",
    "%load_ext autoreload \n",
    "%autoreload 2\n",
    "from importlib import reload\n",
    "\n",
    "import matplotlib.pyplot as plt\n",
    "import numpy as np\n",
    "\n",
    "import pandas as pd\n",
    "import os\n",
    "#os.environ[\"CUDA_VISIBLE_DEVICES\"]=\"0\"\n",
    "\n",
    "# seaborn\n",
    "#import seaborn as sns\n",
    "#sns.set( style = 'white', font_scale = 1.7)\n",
    "#sns.set_style('ticks')\n",
    "#plt.rcParams['savefig.dpi'] = 200\n",
    "\n",
    "# font for matplotlib\n",
    "#import matplotlib\n",
    "#import matplotlib.font_manager as fm\n",
    "#fm.get_fontconfig_fonts()\n",
    "#font_location = '/usr/share/fonts/truetype/nanum/NanumGothicBold.ttf'\n",
    "#font_name = fm.FontProperties(fname=font_location).get_name()\n",
    "#matplotlib.rc('font', family=font_name)"
   ]
  },
  {
   "cell_type": "code",
   "execution_count": 2,
   "metadata": {},
   "outputs": [
    {
     "name": "stderr",
     "output_type": "stream",
     "text": [
      "Using TensorFlow backend.\n"
     ]
    },
    {
     "name": "stdout",
     "output_type": "stream",
     "text": [
      "Train on 48000 samples, validate on 12000 samples\n",
      "Epoch 1/5\n",
      "48000/48000 [==============================] - 3s - loss: 0.3812 - acc: 0.8904 - val_loss: 0.1867 - val_acc: 0.9466\n",
      "Epoch 2/5\n",
      "48000/48000 [==============================] - 2s - loss: 0.1565 - acc: 0.9552 - val_loss: 0.1380 - val_acc: 0.9605\n",
      "Epoch 3/5\n",
      "48000/48000 [==============================] - 2s - loss: 0.1113 - acc: 0.9664 - val_loss: 0.1156 - val_acc: 0.9662\n",
      "Epoch 4/5\n",
      "48000/48000 [==============================] - 2s - loss: 0.0890 - acc: 0.9738 - val_loss: 0.1057 - val_acc: 0.9685\n",
      "Epoch 5/5\n",
      "48000/48000 [==============================] - 2s - loss: 0.0698 - acc: 0.9789 - val_loss: 0.0984 - val_acc: 0.9712\n",
      " 7700/10000 [======================>.......] - ETA: 0sTest Loss and Accuracy -> [0.091476730333524756, 0.97250000655651092]\n"
     ]
    }
   ],
   "source": [
    "import ex3_1_dnn_mnist_cl"
   ]
  },
  {
   "cell_type": "code",
   "execution_count": null,
   "metadata": {
    "collapsed": true
   },
   "outputs": [],
   "source": []
  }
 ],
 "metadata": {
  "kernelspec": {
   "display_name": "Python [default]",
   "language": "python",
   "name": "python3"
  },
  "language_info": {
   "codemirror_mode": {
    "name": "ipython",
    "version": 3
   },
   "file_extension": ".py",
   "mimetype": "text/x-python",
   "name": "python",
   "nbconvert_exporter": "python",
   "pygments_lexer": "ipython3",
   "version": "3.6.3"
  },
  "toc": {
   "nav_menu": {},
   "number_sections": true,
   "sideBar": true,
   "skip_h1_title": true,
   "toc_cell": false,
   "toc_position": {},
   "toc_section_display": "block",
   "toc_window_display": false
  }
 },
 "nbformat": 4,
 "nbformat_minor": 2
}
