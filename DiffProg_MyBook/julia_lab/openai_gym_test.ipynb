{
 "cells": [
  {
   "cell_type": "code",
   "execution_count": 1,
   "id": "813f5024-ba20-4eca-8ca8-03e0b2bf37ad",
   "metadata": {},
   "outputs": [
    {
     "ename": "LoadError",
     "evalue": "InitError: PyError (PyImport_ImportModule\n\nThe Python package gym could not be imported by pyimport. Usually this means\nthat you did not install gym in the Python version being used by PyCall.\n\nPyCall is currently configured to use the Python version at:\n\n/home/sjkim/anaconda3/bin/python3\n\nand you should use whatever mechanism you usually use (apt-get, pip, conda,\netcetera) to install the Python package containing the gym module.\n\nOne alternative is to re-configure PyCall to use a different Python\nversion on your system: set ENV[\"PYTHON\"] to the path/name of the python\nexecutable you want to use, run Pkg.build(\"PyCall\"), and re-launch Julia.\n\nAnother alternative is to configure PyCall to use a Julia-specific Python\ndistribution via the Conda.jl package (which installs a private Anaconda\nPython distribution), which has the advantage that packages can be installed\nand kept up-to-date via Julia.  As explained in the PyCall documentation,\nset ENV[\"PYTHON\"]=\"\", run Pkg.build(\"PyCall\"), and re-launch Julia. Then,\nTo install the gym module, you can use `pyimport_conda(\"gym\", PKG)`,\nwhere PKG is the Anaconda package that contains the module gym,\nor alternatively you can use the Conda package directly (via\n`using Conda` followed by `Conda.add` etcetera).\n\n) <class 'ModuleNotFoundError'>\nModuleNotFoundError(\"No module named 'gym'\")\n\nduring initialization of module OpenAIGym",
     "output_type": "error",
     "traceback": [
      "InitError: PyError (PyImport_ImportModule\n\nThe Python package gym could not be imported by pyimport. Usually this means\nthat you did not install gym in the Python version being used by PyCall.\n\nPyCall is currently configured to use the Python version at:\n\n/home/sjkim/anaconda3/bin/python3\n\nand you should use whatever mechanism you usually use (apt-get, pip, conda,\netcetera) to install the Python package containing the gym module.\n\nOne alternative is to re-configure PyCall to use a different Python\nversion on your system: set ENV[\"PYTHON\"] to the path/name of the python\nexecutable you want to use, run Pkg.build(\"PyCall\"), and re-launch Julia.\n\nAnother alternative is to configure PyCall to use a Julia-specific Python\ndistribution via the Conda.jl package (which installs a private Anaconda\nPython distribution), which has the advantage that packages can be installed\nand kept up-to-date via Julia.  As explained in the PyCall documentation,\nset ENV[\"PYTHON\"]=\"\", run Pkg.build(\"PyCall\"), and re-launch Julia. Then,\nTo install the gym module, you can use `pyimport_conda(\"gym\", PKG)`,\nwhere PKG is the Anaconda package that contains the module gym,\nor alternatively you can use the Conda package directly (via\n`using Conda` followed by `Conda.add` etcetera).\n\n) <class 'ModuleNotFoundError'>\nModuleNotFoundError(\"No module named 'gym'\")\n\nduring initialization of module OpenAIGym",
      "",
      "Stacktrace:",
      " [1] pyimport(name::String)",
      "   @ PyCall ~/.julia/packages/PyCall/BD546/src/PyCall.jl:550",
      " [2] __init__()",
      "   @ OpenAIGym ~/.julia/packages/OpenAIGym/iNi3I/src/OpenAIGym.jl:184",
      " [3] _include_from_serialized(path::String, depmods::Vector{Any})",
      "   @ Base ./loading.jl:696",
      " [4] _require_search_from_serialized(pkg::Base.PkgId, sourcepath::String)",
      "   @ Base ./loading.jl:782",
      " [5] _require(pkg::Base.PkgId)",
      "   @ Base ./loading.jl:1020",
      " [6] require(uuidkey::Base.PkgId)",
      "   @ Base ./loading.jl:936",
      " [7] require(into::Module, mod::Symbol)",
      "   @ Base ./loading.jl:923",
      " [8] eval",
      "   @ ./boot.jl:360 [inlined]",
      " [9] include_string(mapexpr::typeof(REPL.softscope), mod::Module, code::String, filename::String)",
      "   @ Base ./loading.jl:1116"
     ]
    }
   ],
   "source": [
    "using OpenAIGym\n",
    "env = GymEnv(:CartPole, :v0)\n",
    "for i ∈ 1:20\n",
    "  T = 0\n",
    "  R = run_episode(env, RandomPolicy()) do (s, a, r, s′)\n",
    "    render(env)\n",
    "    T += 1\n",
    "  end\n",
    "  @info(\"Episode $i finished after $T steps. Total reward: $R\")\n",
    "end\n",
    "close(env)"
   ]
  },
  {
   "cell_type": "code",
   "execution_count": null,
   "id": "ecb499b9-f948-453c-8606-0af8b36c94a4",
   "metadata": {},
   "outputs": [],
   "source": []
  }
 ],
 "metadata": {
  "kernelspec": {
   "display_name": "Julia 1.6.3",
   "language": "julia",
   "name": "julia-1.6"
  },
  "language_info": {
   "file_extension": ".jl",
   "mimetype": "application/julia",
   "name": "julia",
   "version": "1.6.3"
  }
 },
 "nbformat": 4,
 "nbformat_minor": 5
}
