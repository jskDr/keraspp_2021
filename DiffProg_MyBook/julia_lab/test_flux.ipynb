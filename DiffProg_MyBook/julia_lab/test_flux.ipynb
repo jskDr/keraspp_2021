{
 "cells": [
  {
   "cell_type": "code",
   "execution_count": 1,
   "id": "7130be7e-6fa8-47f8-b80f-f4fa1653e0b7",
   "metadata": {},
   "outputs": [],
   "source": [
    "using Flux"
   ]
  },
  {
   "cell_type": "code",
   "execution_count": 2,
   "id": "9bb4aae7-84fa-4077-9365-7c18665f5c64",
   "metadata": {},
   "outputs": [
    {
     "name": "stdout",
     "output_type": "stream",
     "text": [
      "Float32[0.0 0.0 0.0 0.0 0.0 0.0 0.0 0.0 0.0 0.0; 0.0 0.0 0.0 0.0 0.0 0.0 0.0 0.0 0.0 0.0; 0.0 0.0 0.0 0.0 0.0 0.0 0.0 0.0 0.0 0.0; -0.0 -0.0 -0.0 -0.0 -0.0 -0.0 -0.0 -0.0 -0.0 -0.0; 1.8922397f-6 8.891899f-6 8.604592f-6 5.240853f-6 9.990473f-6 6.707632f-6 7.3352785f-6 5.1042057f-6 9.996182f-6 9.597556f-6]\n",
      "Float32[0.0, 0.0, 0.0, -0.0, 1.0864392f-5]\n",
      "Float32[-0.0 -0.0 -0.0 -0.0 -5.2773874f-5; 0.0 0.0 0.0 0.0 5.276787f-5]\n",
      "Float32[-0.00052416325, 0.00052410364]\n"
     ]
    }
   ],
   "source": [
    "x = rand(Float32, 10)\n",
    "m = Chain(Dense(10, 5, relu), Dense(5, 2), softmax)\n",
    "l(x) = sum(Flux.crossentropy(m(x), [0.5, 0.5]))\n",
    "grads = gradient(params(m)) do\n",
    "    l(x)\n",
    "end\n",
    "for p in params(m)\n",
    "    println(grads[p])\n",
    "end"
   ]
  }
 ],
 "metadata": {
  "kernelspec": {
   "display_name": "Julia 1.7.0",
   "language": "julia",
   "name": "julia-1.7"
  },
  "language_info": {
   "file_extension": ".jl",
   "mimetype": "application/julia",
   "name": "julia",
   "version": "1.7.0"
  }
 },
 "nbformat": 4,
 "nbformat_minor": 5
}
