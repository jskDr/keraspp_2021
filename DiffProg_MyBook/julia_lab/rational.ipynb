{
 "cells": [
  {
   "cell_type": "code",
   "execution_count": 2,
   "id": "94bce378",
   "metadata": {},
   "outputs": [
    {
     "ename": "LoadError",
     "evalue": "MethodError: no method matching //(::Irrational{:π}, ::Int64)\n\u001b[0mClosest candidates are:\n\u001b[0m  //(\u001b[91m::Integer\u001b[39m, ::Integer) at rational.jl:62\n\u001b[0m  //(\u001b[91m::Rational\u001b[39m, ::Integer) at rational.jl:64\n\u001b[0m  //(\u001b[91m::Complex\u001b[39m, ::Real) at rational.jl:78\n\u001b[0m  ...",
     "output_type": "error",
     "traceback": [
      "MethodError: no method matching //(::Irrational{:π}, ::Int64)\n\u001b[0mClosest candidates are:\n\u001b[0m  //(\u001b[91m::Integer\u001b[39m, ::Integer) at rational.jl:62\n\u001b[0m  //(\u001b[91m::Rational\u001b[39m, ::Integer) at rational.jl:64\n\u001b[0m  //(\u001b[91m::Complex\u001b[39m, ::Real) at rational.jl:78\n\u001b[0m  ...",
      "",
      "Stacktrace:",
      " [1] top-level scope",
      "   @ In[2]:1",
      " [2] eval",
      "   @ ./boot.jl:360 [inlined]",
      " [3] include_string(mapexpr::typeof(REPL.softscope), mod::Module, code::String, filename::String)",
      "   @ Base ./loading.jl:1116"
     ]
    }
   ],
   "source": [
    "rational = π // 2"
   ]
  },
  {
   "cell_type": "code",
   "execution_count": 4,
   "id": "c8336f80",
   "metadata": {},
   "outputs": [
    {
     "data": {
      "text/plain": [
       "0.7071067811865475"
      ]
     },
     "execution_count": 4,
     "metadata": {},
     "output_type": "execute_result"
    }
   ],
   "source": [
    "sin(π/4)"
   ]
  },
  {
   "cell_type": "code",
   "execution_count": null,
   "id": "c5d8adac",
   "metadata": {},
   "outputs": [],
   "source": []
  }
 ],
 "metadata": {
  "kernelspec": {
   "display_name": "Julia 1.6.3",
   "language": "julia",
   "name": "julia-1.6"
  },
  "language_info": {
   "file_extension": ".jl",
   "mimetype": "application/julia",
   "name": "julia",
   "version": "1.6.3"
  }
 },
 "nbformat": 4,
 "nbformat_minor": 5
}
