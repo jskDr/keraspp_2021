{
 "cells": [
  {
   "cell_type": "markdown",
   "id": "37032796-c3be-48a3-82c6-70df4869e2ce",
   "metadata": {},
   "source": [
    "# Quantum Computing Simulation by Symbolics in Julia "
   ]
  },
  {
   "cell_type": "code",
   "execution_count": 1,
   "id": "257254e9-8d8f-4fae-b6ea-08b9f1c9bc88",
   "metadata": {},
   "outputs": [],
   "source": [
    "using Symbolics"
   ]
  },
  {
   "cell_type": "code",
   "execution_count": 2,
   "id": "3cf8b3d8-8801-449d-b218-7fd4ffaa8bf3",
   "metadata": {},
   "outputs": [
    {
     "data": {
      "text/plain": [
       "2-element Vector{Symbolics.Arr{Num, 1}}:\n",
       " a[1:2]\n",
       " b[1:2]"
      ]
     },
     "execution_count": 2,
     "metadata": {},
     "output_type": "execute_result"
    }
   ],
   "source": [
    "@variables a[1:2], b[1:2]"
   ]
  },
  {
   "cell_type": "markdown",
   "id": "4f207961-0eeb-4143-93c3-d74d9042950b",
   "metadata": {},
   "source": [
    "## One Qubit CIrcuit"
   ]
  },
  {
   "cell_type": "code",
   "execution_count": 10,
   "id": "e9321222-1d6c-4ad4-a0c5-889b790b98ba",
   "metadata": {},
   "outputs": [
    {
     "data": {
      "text/latex": [
       "\\begin{equation}\n",
       "\\left[\n",
       "\\begin{array}{c}\n",
       "a{_1} \\\\\n",
       "b{_1} \\\\\n",
       "\\end{array}\n",
       "\\right]\n",
       "\\end{equation}\n"
      ],
      "text/plain": [
       "2-element Vector{Num}:\n",
       " a[1]\n",
       " b[1]"
      ]
     },
     "execution_count": 10,
     "metadata": {},
     "output_type": "execute_result"
    }
   ],
   "source": [
    "e = [1. 0.; 0. 1.]\n",
    "Qubit1 = a[1] * e[:,1] + b[1] * e[:,2]"
   ]
  },
  {
   "cell_type": "code",
   "execution_count": 11,
   "id": "84cb5872-cc64-4f8a-a6b0-8f6d015c5f28",
   "metadata": {},
   "outputs": [
    {
     "data": {
      "text/plain": [
       "2×2 Matrix{Float64}:\n",
       " 0.707107   0.707107\n",
       " 0.707107  -0.707107"
      ]
     },
     "execution_count": 11,
     "metadata": {},
     "output_type": "execute_result"
    }
   ],
   "source": [
    "# Hadamard transform\n",
    "H = [1 1; 1 -1] / sqrt(2)"
   ]
  },
  {
   "cell_type": "code",
   "execution_count": 12,
   "id": "51d97a04-df74-486d-9929-68ee23aec2ed",
   "metadata": {},
   "outputs": [
    {
     "data": {
      "text/latex": [
       "\\begin{equation}\n",
       "\\left[\n",
       "\\begin{array}{c}\n",
       "0.7071067811865475 a{_1} + 0.7071067811865475 b{_1} \\\\\n",
       "0.7071067811865475 a{_1} - 0.7071067811865475 b{_1} \\\\\n",
       "\\end{array}\n",
       "\\right]\n",
       "\\end{equation}\n"
      ],
      "text/plain": [
       "2-element Vector{Num}:\n",
       " 0.7071067811865475a[1] + 0.7071067811865475b[1]\n",
       " 0.7071067811865475a[1] - 0.7071067811865475b[1]"
      ]
     },
     "execution_count": 12,
     "metadata": {},
     "output_type": "execute_result"
    }
   ],
   "source": [
    "circuit = H * Qubit1"
   ]
  },
  {
   "cell_type": "code",
   "execution_count": 13,
   "id": "1d8fd833-d8b4-40be-92d7-44ff2f9ef460",
   "metadata": {},
   "outputs": [
    {
     "data": {
      "text/latex": [
       "\\begin{equation}\n",
       "\\left[\n",
       "\\begin{array}{c}\n",
       "0.9999999999999998 a{_1} \\\\\n",
       "0.9999999999999998 b{_1} \\\\\n",
       "\\end{array}\n",
       "\\right]\n",
       "\\end{equation}\n"
      ],
      "text/plain": [
       "2-element Vector{Num}:\n",
       " 0.9999999999999998a[1]\n",
       " 0.9999999999999998b[1]"
      ]
     },
     "execution_count": 13,
     "metadata": {},
     "output_type": "execute_result"
    }
   ],
   "source": [
    "circuit = H * circuit"
   ]
  },
  {
   "cell_type": "code",
   "execution_count": 14,
   "id": "08b3e17a-e795-4629-81e7-72b7cbb845f5",
   "metadata": {},
   "outputs": [
    {
     "data": {
      "text/plain": [
       "2×2 Matrix{Float64}:\n",
       " 1.0  0.0\n",
       " 0.0  1.0"
      ]
     },
     "execution_count": 14,
     "metadata": {},
     "output_type": "execute_result"
    }
   ],
   "source": [
    "H*H"
   ]
  },
  {
   "cell_type": "markdown",
   "id": "e2cf1f5d-aba7-4f85-b535-37a7ebfc05fb",
   "metadata": {
    "tags": []
   },
   "source": [
    "## Two Qubit Circuit"
   ]
  },
  {
   "cell_type": "code",
   "execution_count": 24,
   "id": "a405d6e6-3e0e-433b-a7df-c57a42c6f71c",
   "metadata": {},
   "outputs": [
    {
     "data": {
      "text/latex": [
       "\\begin{equation}\n",
       "\\left[\n",
       "\\begin{array}{cc}\n",
       "a{_1} & a{_2} \\\\\n",
       "b{_1} & b{_2} \\\\\n",
       "\\end{array}\n",
       "\\right]\n",
       "\\end{equation}\n"
      ],
      "text/plain": [
       "2×2 Matrix{Num}:\n",
       " a[1]  a[2]\n",
       " b[1]  b[2]"
      ]
     },
     "execution_count": 24,
     "metadata": {},
     "output_type": "execute_result"
    }
   ],
   "source": [
    "Qubit1 = a[1] * e[:,1] + b[1] * e[:,2]\n",
    "Qubit2 = a[2] * e[:,1] + b[2] * e[:,2]\n",
    "Qubits = [Qubit1 Qubit2]"
   ]
  },
  {
   "cell_type": "code",
   "execution_count": 29,
   "id": "48a04cb3-5a8a-49aa-802e-4682b2778b73",
   "metadata": {},
   "outputs": [
    {
     "data": {
      "text/latex": [
       "\\begin{equation}\n",
       "\\left[\n",
       "\\begin{array}{c}\n",
       "a{_1} a{_2} \\\\\n",
       "a{_1} b{_2} \\\\\n",
       "a{_2} b{_1} \\\\\n",
       "b{_1} b{_2} \\\\\n",
       "\\end{array}\n",
       "\\right]\n",
       "\\end{equation}\n"
      ],
      "text/plain": [
       "4-element Vector{Num}:\n",
       " a[1]*a[2]\n",
       " a[1]*b[2]\n",
       " a[2]*b[1]\n",
       " b[1]*b[2]"
      ]
     },
     "execution_count": 29,
     "metadata": {},
     "output_type": "execute_result"
    }
   ],
   "source": [
    "Qubit12 = kron(Qubits[:,1], Qubits[:,2])"
   ]
  },
  {
   "cell_type": "code",
   "execution_count": 30,
   "id": "c989fce8-90e4-4e08-933d-6a01fd9ba92b",
   "metadata": {},
   "outputs": [
    {
     "data": {
      "text/plain": [
       "4×4 Matrix{Int64}:\n",
       " 1  0  0  0\n",
       " 0  1  0  0\n",
       " 0  0  0  1\n",
       " 0  0  1  0"
      ]
     },
     "execution_count": 30,
     "metadata": {},
     "output_type": "execute_result"
    }
   ],
   "source": [
    "CNOT = [1 0 0 0; 0 1 0 0; 0 0 0 1; 0 0 1 0]"
   ]
  },
  {
   "cell_type": "code",
   "execution_count": 31,
   "id": "fcb5593e-1dcb-40ff-9e23-da0ea2df9eb4",
   "metadata": {},
   "outputs": [
    {
     "data": {
      "text/latex": [
       "\\begin{equation}\n",
       "\\left[\n",
       "\\begin{array}{c}\n",
       "a{_1} a{_2} \\\\\n",
       "a{_1} b{_2} \\\\\n",
       "b{_1} b{_2} \\\\\n",
       "a{_2} b{_1} \\\\\n",
       "\\end{array}\n",
       "\\right]\n",
       "\\end{equation}\n"
      ],
      "text/plain": [
       "4-element Vector{Num}:\n",
       " a[1]*a[2]\n",
       " a[1]*b[2]\n",
       " b[1]*b[2]\n",
       " a[2]*b[1]"
      ]
     },
     "execution_count": 31,
     "metadata": {},
     "output_type": "execute_result"
    }
   ],
   "source": [
    "cur = CNOT * Qubit12"
   ]
  },
  {
   "cell_type": "markdown",
   "id": "d416f302-5980-4036-9aee-f47255601d89",
   "metadata": {},
   "source": [
    "## Bell Circuit"
   ]
  },
  {
   "cell_type": "code",
   "execution_count": 49,
   "id": "35bab417-382a-4884-b7d5-b8d350b39c99",
   "metadata": {},
   "outputs": [
    {
     "data": {
      "text/plain": [
       "2-element Vector{Float64}:\n",
       " 1.0\n",
       " 0.0"
      ]
     },
     "execution_count": 49,
     "metadata": {},
     "output_type": "execute_result"
    }
   ],
   "source": [
    "Qubit1 = [1.; 0.] # |0>\n",
    "Qubit2 = [1.; 0.] # |0>"
   ]
  },
  {
   "cell_type": "code",
   "execution_count": 50,
   "id": "8eb06e72-b3cd-4e10-af51-f7702f8ab788",
   "metadata": {},
   "outputs": [
    {
     "data": {
      "text/plain": [
       "2×2 Matrix{Float64}:\n",
       " 1.0  1.0\n",
       " 0.0  0.0"
      ]
     },
     "execution_count": 50,
     "metadata": {},
     "output_type": "execute_result"
    }
   ],
   "source": [
    "# load at circuit\n",
    "chain = [Qubit1 Qubit2]"
   ]
  },
  {
   "cell_type": "code",
   "execution_count": 58,
   "id": "27d9e30a-8920-4371-904e-6ab33f5059ef",
   "metadata": {},
   "outputs": [
    {
     "data": {
      "text/plain": [
       "2-element Vector{Float64}:\n",
       " 0.7071067811865474\n",
       " 0.7071067811865474"
      ]
     },
     "execution_count": 58,
     "metadata": {},
     "output_type": "execute_result"
    }
   ],
   "source": [
    "chain[:,1] = H * chain[:,1]"
   ]
  },
  {
   "cell_type": "code",
   "execution_count": 68,
   "id": "ac9bede3-44e9-4105-9d3b-2347895da7d1",
   "metadata": {},
   "outputs": [
    {
     "data": {
      "text/plain": [
       "4-element Vector{Float64}:\n",
       " 0.7071067811865474\n",
       " 0.0\n",
       " 0.7071067811865474\n",
       " 0.0"
      ]
     },
     "execution_count": 68,
     "metadata": {},
     "output_type": "execute_result"
    }
   ],
   "source": [
    "circuit = kron(chain[:,1], chain[:,2])"
   ]
  },
  {
   "cell_type": "code",
   "execution_count": 69,
   "id": "1d0f056f-b9a5-4ad8-aca4-2bc334e47806",
   "metadata": {},
   "outputs": [
    {
     "data": {
      "text/plain": [
       "4-element Vector{Float64}:\n",
       " 0.7071067811865474\n",
       " 0.0\n",
       " 0.0\n",
       " 0.7071067811865474"
      ]
     },
     "execution_count": 69,
     "metadata": {},
     "output_type": "execute_result"
    }
   ],
   "source": [
    "circuit = CNOT * circuit"
   ]
  },
  {
   "cell_type": "code",
   "execution_count": null,
   "id": "84dc9930-ddea-40de-8ac2-4e3eec4d3a6f",
   "metadata": {},
   "outputs": [],
   "source": []
  }
 ],
 "metadata": {
  "kernelspec": {
   "display_name": "Julia 1.7.0",
   "language": "julia",
   "name": "julia-1.7"
  },
  "language_info": {
   "file_extension": ".jl",
   "mimetype": "application/julia",
   "name": "julia",
   "version": "1.7.0"
  }
 },
 "nbformat": 4,
 "nbformat_minor": 5
}
