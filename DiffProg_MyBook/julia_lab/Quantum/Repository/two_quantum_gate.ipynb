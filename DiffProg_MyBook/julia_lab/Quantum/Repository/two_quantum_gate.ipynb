{
 "cells": [
  {
   "cell_type": "markdown",
   "id": "37032796-c3be-48a3-82c6-70df4869e2ce",
   "metadata": {},
   "source": [
    "# 양자AI 미분 가능 프로그래밍"
   ]
  },
  {
   "cell_type": "markdown",
   "id": "1b10d2b3-075e-42ec-970c-4a56552e3cb4",
   "metadata": {},
   "source": [
    "# 1. 양자컴퓨팅과 양자인공지능의 원리"
   ]
  },
  {
   "cell_type": "code",
   "execution_count": 1,
   "id": "257254e9-8d8f-4fae-b6ea-08b9f1c9bc88",
   "metadata": {},
   "outputs": [],
   "source": [
    "using Symbolics\n",
    "using Printf\n",
    "using Statistics"
   ]
  },
  {
   "cell_type": "markdown",
   "id": "4f207961-0eeb-4143-93c3-d74d9042950b",
   "metadata": {},
   "source": [
    "## One Qubit CIrcuit"
   ]
  },
  {
   "cell_type": "markdown",
   "id": "238a73b8-0a94-4584-b722-604cb1731159",
   "metadata": {
    "tags": []
   },
   "source": [
    "## 1.1 양자비트 상태 표현과 측정"
   ]
  },
  {
   "cell_type": "markdown",
   "id": "f9adea4b-2f95-41ae-8752-d7570871c181",
   "metadata": {},
   "source": [
    "### 켓 벡터"
   ]
  },
  {
   "cell_type": "code",
   "execution_count": 2,
   "id": "d216e339-7c7a-46eb-a62b-c94668f06274",
   "metadata": {},
   "outputs": [
    {
     "data": {
      "text/plain": [
       "2-element Vector{Float64}:\n",
       " 0.0\n",
       " 1.0"
      ]
     },
     "execution_count": 2,
     "metadata": {},
     "output_type": "execute_result"
    }
   ],
   "source": [
    "e₀ = [1.; 0.]\n",
    "e₁ = [0.; 1.]"
   ]
  },
  {
   "cell_type": "code",
   "execution_count": 3,
   "id": "e35a00cf-db7f-4189-8dc3-f2b0f23e6cc8",
   "metadata": {},
   "outputs": [
    {
     "name": "stdout",
     "output_type": "stream",
     "text": [
      "<0|0> = 1.0, <1|1> = 1.0"
     ]
    }
   ],
   "source": [
    "@printf(\"<0|0> = %.1f, <1|1> = %.1f\", e₀' * e₀, e₁' * e₁)"
   ]
  },
  {
   "cell_type": "code",
   "execution_count": 4,
   "id": "6496f445-fc76-4583-b5aa-abe423ea2c56",
   "metadata": {},
   "outputs": [
    {
     "name": "stdout",
     "output_type": "stream",
     "text": [
      "<0|1> = 0.0, <0|1> = 0.0"
     ]
    }
   ],
   "source": [
    "@printf(\"<0|1> = %.1f, <0|1> = %.1f\", e₀' * e₁, e₁' * e₀)"
   ]
  },
  {
   "cell_type": "code",
   "execution_count": 5,
   "id": "b383830c-f9d8-4f4b-bdda-86f6c8899918",
   "metadata": {},
   "outputs": [
    {
     "data": {
      "text/latex": [
       "\\begin{equation}\n",
       "\\left[\n",
       "\\begin{array}{c}\n",
       "\\alpha \\\\\n",
       "\\beta \\\\\n",
       "\\end{array}\n",
       "\\right]\n",
       "\\end{equation}\n"
      ],
      "text/plain": [
       "2-element Vector{Num}:\n",
       " α\n",
       " β"
      ]
     },
     "execution_count": 5,
     "metadata": {},
     "output_type": "execute_result"
    }
   ],
   "source": [
    "@variables α β\n",
    "q_cat = α*e₀ + β*e₁ "
   ]
  },
  {
   "cell_type": "markdown",
   "id": "6c4a93a3-f230-48c8-8691-69d2b53cee6e",
   "metadata": {
    "tags": []
   },
   "source": [
    "### 양자상태측정"
   ]
  },
  {
   "cell_type": "code",
   "execution_count": 6,
   "id": "22d32e2e-aca6-4133-81a7-e6d63d83dbf8",
   "metadata": {},
   "outputs": [
    {
     "data": {
      "text/plain": [
       "measure (generic function with 2 methods)"
      ]
     },
     "execution_count": 6,
     "metadata": {},
     "output_type": "execute_result"
    }
   ],
   "source": [
    "function measure(qubit_state, N::Int = 1)\n",
    "    m_array = zeros(Int, N)\n",
    "    for n in 1:N\n",
    "        if rand() < abs(qubit_state[1])^2\n",
    "            m_array[n] = 0\n",
    "        else\n",
    "            m_array[n] = 1\n",
    "        end\n",
    "    end\n",
    "    ifelse(N==1, m_array[1],  m_array)\n",
    "end "
   ]
  },
  {
   "cell_type": "code",
   "execution_count": 7,
   "id": "eb53bc89-3536-4fe0-8dd4-c65ec923bca6",
   "metadata": {},
   "outputs": [
    {
     "name": "stdout",
     "output_type": "stream",
     "text": [
      "M(|0>) = 0\n",
      "M(|0>) = [0, 0, 0, 0, 0, 0, 0, 0, 0, 0]\n",
      "M(|1>) = 1\n",
      "M(|1>) = [1, 1, 1, 1, 1, 1, 1, 1, 1, 1]\n"
     ]
    }
   ],
   "source": [
    "sprint_array(X) = join(map(x->@sprintf(\"%d\", x), X), \", \")\n",
    "@printf(\"M(|0>) = %d\\n\", measure([1.;0.]))\n",
    "println(\"M(|0>) = [\", sprint_array(measure([1.;0.], 10)), \"]\")\n",
    "@printf(\"M(|1>) = %d\\n\", measure([0.;1.]))\n",
    "println(\"M(|1>) = [\", sprint_array(measure([0.;1.], 10)), \"]\")"
   ]
  },
  {
   "cell_type": "code",
   "execution_count": 8,
   "id": "ace6b95a-5671-407d-9de8-0ac6c7721e99",
   "metadata": {},
   "outputs": [
    {
     "name": "stdout",
     "output_type": "stream",
     "text": [
      "M(|+>) = M([1,1]/sqrt(2)) = [0, 0, 0, 0, 1, 1, 0, 1, 1, 1]\n",
      "M(|->) = M([1,-1]/sqrt(2)) = [0, 1, 1, 1, 1, 0, 1, 0, 0, 0]\n"
     ]
    }
   ],
   "source": [
    "println(\"M(|+>) = M([1,1]/sqrt(2)) = [\", sprint_array(measure([1.;1.]/sqrt(2), 10)), \"]\")\n",
    "println(\"M(|->) = M([1,-1]/sqrt(2)) = [\", sprint_array(measure([1.;-1.]/sqrt(2), 10)), \"]\")"
   ]
  },
  {
   "cell_type": "markdown",
   "id": "866430ff-94a6-49c0-832b-5dde69ef7443",
   "metadata": {},
   "source": [
    "#### 평균 구하기  "
   ]
  },
  {
   "cell_type": "code",
   "execution_count": 9,
   "id": "4a20b10e-2e4b-40dd-9a3f-d680a1c685ec",
   "metadata": {},
   "outputs": [
    {
     "name": "stdout",
     "output_type": "stream",
     "text": [
      "Average of 100 times measurements of |0> is 0.00\n",
      "Average of 100 times measurements of |1> is 1.00\n",
      "Average of 100 times measurements of |+> is 0.57\n",
      "Average of 100 times measurements of |-> is 0.50\n"
     ]
    }
   ],
   "source": [
    "N = 100\n",
    "@printf(\"Average of %d times measurements of |0> is %.2f\\n\", \n",
    "    N, mean(measure([1.;0.], N)))\n",
    "@printf(\"Average of %d times measurements of |1> is %.2f\\n\", \n",
    "    N, mean(measure([0.;1.], N)))\n",
    "@printf(\"Average of %d times measurements of |+> is %.2f\\n\", \n",
    "    N, mean(measure([1.;1.]/sqrt(2), N)))\n",
    "@printf(\"Average of %d times measurements of |-> is %.2f\\n\", \n",
    "    N, mean(measure([1.;-1.]/sqrt(2), N)))"
   ]
  },
  {
   "cell_type": "markdown",
   "id": "9dbf975e-4293-4d43-af99-04b0c07ae219",
   "metadata": {
    "tags": []
   },
   "source": [
    "## 1.2 단일 양자비트 연산자"
   ]
  },
  {
   "cell_type": "markdown",
   "id": "fa730f84-2a0a-4783-a0c8-923d170e4bcf",
   "metadata": {},
   "source": [
    "### 양자 반전 연산자"
   ]
  },
  {
   "cell_type": "code",
   "execution_count": 10,
   "id": "7ed99197-d855-45ca-a366-023da5af9bde",
   "metadata": {},
   "outputs": [
    {
     "data": {
      "text/plain": [
       "2×2 Matrix{Float64}:\n",
       " 0.0  1.0\n",
       " 1.0  0.0"
      ]
     },
     "execution_count": 10,
     "metadata": {},
     "output_type": "execute_result"
    }
   ],
   "source": [
    "X = e₁ * e₀' + e₀ * e₁'"
   ]
  },
  {
   "cell_type": "code",
   "execution_count": 24,
   "id": "c188ab13-5ff3-4c6d-b797-77265dfced01",
   "metadata": {},
   "outputs": [
    {
     "name": "stdout",
     "output_type": "stream",
     "text": [
      "true, true\n"
     ]
    }
   ],
   "source": [
    "println(X * e₀ == e₁, \", \", X * e₁ == e₀)"
   ]
  },
  {
   "cell_type": "code",
   "execution_count": 25,
   "id": "8d0eb87f-f19c-4276-bbfa-55e6c373ef16",
   "metadata": {},
   "outputs": [
    {
     "data": {
      "text/latex": [
       "\\begin{equation}\n",
       "\\left[\n",
       "\\begin{array}{c}\n",
       "\\beta \\\\\n",
       "\\alpha \\\\\n",
       "\\end{array}\n",
       "\\right]\n",
       "\\end{equation}\n"
      ],
      "text/plain": [
       "2-element Vector{Num}:\n",
       " β\n",
       " α"
      ]
     },
     "metadata": {},
     "output_type": "display_data"
    }
   ],
   "source": [
    "display(X * q_cat)"
   ]
  },
  {
   "cell_type": "markdown",
   "id": "d27438ea-63c4-40bb-92e9-79265adbe341",
   "metadata": {},
   "source": [
    "### 양자중첩 연산자"
   ]
  },
  {
   "cell_type": "code",
   "execution_count": 27,
   "id": "3279619f-c3d2-4201-8b5d-3e843503fa8f",
   "metadata": {},
   "outputs": [
    {
     "data": {
      "text/plain": [
       "2×2 Matrix{Float64}:\n",
       " 0.707107   0.707107\n",
       " 0.707107  -0.707107"
      ]
     },
     "execution_count": 27,
     "metadata": {},
     "output_type": "execute_result"
    }
   ],
   "source": [
    "H = [1. 1.; 1. -1.] / sqrt(2)"
   ]
  },
  {
   "cell_type": "code",
   "execution_count": 31,
   "id": "5b63bb36-6692-4410-8d75-c82f1a195fc4",
   "metadata": {},
   "outputs": [
    {
     "data": {
      "text/plain": [
       "([0.7071067811865475, 0.7071067811865475], [0.7071067811865475, -0.7071067811865475])"
      ]
     },
     "execution_count": 31,
     "metadata": {},
     "output_type": "execute_result"
    }
   ],
   "source": [
    "e₊ = H * e₀\n",
    "e₋ = H * e₁\n",
    "e₊, e₋ "
   ]
  },
  {
   "cell_type": "code",
   "execution_count": 33,
   "id": "5e96d6cf-c17f-41ae-9b52-e3454f96632b",
   "metadata": {},
   "outputs": [
    {
     "name": "stdout",
     "output_type": "stream",
     "text": [
      "true, true\n"
     ]
    }
   ],
   "source": [
    "println(e₊ == (e₀ + e₁) / sqrt(2), \", \", e₋ == (e₀ - e₁) / sqrt(2))"
   ]
  },
  {
   "cell_type": "code",
   "execution_count": 37,
   "id": "466ee74c-9775-47d0-8a8a-e159058d4e8c",
   "metadata": {},
   "outputs": [
    {
     "data": {
      "text/latex": [
       "\\begin{equation}\n",
       "\\left[\n",
       "\\begin{array}{c}\n",
       "\\alpha + \\beta \\\\\n",
       "\\alpha - \\beta \\\\\n",
       "\\end{array}\n",
       "\\right]\n",
       "\\end{equation}\n"
      ],
      "text/plain": [
       "2-element Vector{Num}:\n",
       " α + β\n",
       " α - β"
      ]
     },
     "execution_count": 37,
     "metadata": {},
     "output_type": "execute_result"
    }
   ],
   "source": [
    "H*q_cat * sqrt(2)"
   ]
  },
  {
   "cell_type": "markdown",
   "id": "d95f5cf3-128c-4462-bf13-7fae25ed4717",
   "metadata": {},
   "source": [
    "### 파울리 연산자"
   ]
  },
  {
   "cell_type": "code",
   "execution_count": 63,
   "id": "7e82b1c2-3be3-48fb-a78e-90515412418f",
   "metadata": {},
   "outputs": [
    {
     "data": {
      "text/plain": [
       "2×2 Matrix{ComplexF64}:\n",
       " 0.0+0.0im  -0.0-1.0im\n",
       " 0.0+1.0im   0.0+0.0im"
      ]
     },
     "metadata": {},
     "output_type": "display_data"
    },
    {
     "data": {
      "text/plain": [
       "2×2 Matrix{Float64}:\n",
       " 1.0   0.0\n",
       " 0.0  -1.0"
      ]
     },
     "metadata": {},
     "output_type": "display_data"
    }
   ],
   "source": [
    "Y = [0 -1.0im; 1.0im 0]\n",
    "Z = [1. 0; 0 -1.] \n",
    "display(Y)\n",
    "display(Z)"
   ]
  },
  {
   "cell_type": "code",
   "execution_count": 66,
   "id": "cc5e1ecd-0710-4f1b-a3bd-1cd4ce83a269",
   "metadata": {},
   "outputs": [
    {
     "data": {
      "text/plain": [
       "2-element Vector{Complex{Num}}:\n",
       " -im*β\n",
       "  im*α"
      ]
     },
     "metadata": {},
     "output_type": "display_data"
    },
    {
     "data": {
      "text/latex": [
       "\\begin{equation}\n",
       "\\left[\n",
       "\\begin{array}{c}\n",
       "\\alpha \\\\\n",
       " - \\beta \\\\\n",
       "\\end{array}\n",
       "\\right]\n",
       "\\end{equation}\n"
      ],
      "text/plain": [
       "2-element Vector{Num}:\n",
       "  α\n",
       " -β"
      ]
     },
     "metadata": {},
     "output_type": "display_data"
    }
   ],
   "source": [
    "display(Y * q_cat)\n",
    "display(Z * q_cat)"
   ]
  },
  {
   "cell_type": "markdown",
   "id": "0be036b8-6ca7-4362-93d9-b3c0609d3fed",
   "metadata": {},
   "source": [
    "## 1.3 다중 양자비트 표현 및 연산"
   ]
  },
  {
   "cell_type": "code",
   "execution_count": null,
   "id": "930f7d39-debe-4c35-a6d9-5715b4ce6170",
   "metadata": {},
   "outputs": [],
   "source": [
    "Qubit1 = a[1] * e[:,1] + b[1] * e[:,2]\n",
    "Qubit2 = a[2] * e[:,1] + b[2] * e[:,2]\n",
    "Qubits = [Qubit1 Qubit2]"
   ]
  },
  {
   "cell_type": "code",
   "execution_count": null,
   "id": "e5e10e2f-c6a1-4dd5-b189-a05c11251f90",
   "metadata": {},
   "outputs": [],
   "source": []
  },
  {
   "cell_type": "code",
   "execution_count": null,
   "id": "381b9812-fabf-4848-9027-d0ba68846d56",
   "metadata": {},
   "outputs": [],
   "source": []
  },
  {
   "cell_type": "code",
   "execution_count": 10,
   "id": "e9321222-1d6c-4ad4-a0c5-889b790b98ba",
   "metadata": {},
   "outputs": [
    {
     "data": {
      "text/latex": [
       "\\begin{equation}\n",
       "\\left[\n",
       "\\begin{array}{c}\n",
       "a{_1} \\\\\n",
       "b{_1} \\\\\n",
       "\\end{array}\n",
       "\\right]\n",
       "\\end{equation}\n"
      ],
      "text/plain": [
       "2-element Vector{Num}:\n",
       " a[1]\n",
       " b[1]"
      ]
     },
     "execution_count": 10,
     "metadata": {},
     "output_type": "execute_result"
    }
   ],
   "source": [
    "e = [1. 0.; 0. 1.]\n",
    "Qubit1 = a[1] * e[:,1] + b[1] * e[:,2]"
   ]
  },
  {
   "cell_type": "code",
   "execution_count": 11,
   "id": "84cb5872-cc64-4f8a-a6b0-8f6d015c5f28",
   "metadata": {},
   "outputs": [
    {
     "data": {
      "text/plain": [
       "2×2 Matrix{Float64}:\n",
       " 0.707107   0.707107\n",
       " 0.707107  -0.707107"
      ]
     },
     "execution_count": 11,
     "metadata": {},
     "output_type": "execute_result"
    }
   ],
   "source": [
    "# Hadamard transform\n",
    "H = [1 1; 1 -1] / sqrt(2)"
   ]
  },
  {
   "cell_type": "code",
   "execution_count": null,
   "id": "51d97a04-df74-486d-9929-68ee23aec2ed",
   "metadata": {},
   "outputs": [
    {
     "ename": "LoadError",
     "evalue": "UndefVarError: Qubit1 not defined",
     "output_type": "error",
     "traceback": [
      "UndefVarError: Qubit1 not defined",
      "",
      "Stacktrace:",
      " [1] top-level scope",
      "   @ In[36]:1",
      " [2] eval",
      "   @ ./boot.jl:373 [inlined]",
      " [3] include_string(mapexpr::typeof(REPL.softscope), mod::Module, code::String, filename::String)",
      "   @ Base ./loading.jl:1196"
     ]
    }
   ],
   "source": [
    "circuit = H * Qubit1 "
   ]
  },
  {
   "cell_type": "code",
   "execution_count": 13,
   "id": "1d8fd833-d8b4-40be-92d7-44ff2f9ef460",
   "metadata": {},
   "outputs": [
    {
     "data": {
      "text/latex": [
       "\\begin{equation}\n",
       "\\left[\n",
       "\\begin{array}{c}\n",
       "0.9999999999999998 a{_1} \\\\\n",
       "0.9999999999999998 b{_1} \\\\\n",
       "\\end{array}\n",
       "\\right]\n",
       "\\end{equation}\n"
      ],
      "text/plain": [
       "2-element Vector{Num}:\n",
       " 0.9999999999999998a[1]\n",
       " 0.9999999999999998b[1]"
      ]
     },
     "execution_count": 13,
     "metadata": {},
     "output_type": "execute_result"
    }
   ],
   "source": [
    "circuit = H * circuit"
   ]
  },
  {
   "cell_type": "code",
   "execution_count": 14,
   "id": "08b3e17a-e795-4629-81e7-72b7cbb845f5",
   "metadata": {},
   "outputs": [
    {
     "data": {
      "text/plain": [
       "2×2 Matrix{Float64}:\n",
       " 1.0  0.0\n",
       " 0.0  1.0"
      ]
     },
     "execution_count": 14,
     "metadata": {},
     "output_type": "execute_result"
    }
   ],
   "source": [
    "H*H"
   ]
  },
  {
   "cell_type": "markdown",
   "id": "e2cf1f5d-aba7-4f85-b535-37a7ebfc05fb",
   "metadata": {
    "tags": []
   },
   "source": [
    "## Two Qubit Circuit"
   ]
  },
  {
   "cell_type": "code",
   "execution_count": 24,
   "id": "a405d6e6-3e0e-433b-a7df-c57a42c6f71c",
   "metadata": {},
   "outputs": [
    {
     "data": {
      "text/latex": [
       "\\begin{equation}\n",
       "\\left[\n",
       "\\begin{array}{cc}\n",
       "a{_1} & a{_2} \\\\\n",
       "b{_1} & b{_2} \\\\\n",
       "\\end{array}\n",
       "\\right]\n",
       "\\end{equation}\n"
      ],
      "text/plain": [
       "2×2 Matrix{Num}:\n",
       " a[1]  a[2]\n",
       " b[1]  b[2]"
      ]
     },
     "execution_count": 24,
     "metadata": {},
     "output_type": "execute_result"
    }
   ],
   "source": [
    "Qubit1 = a[1] * e[:,1] + b[1] * e[:,2]\n",
    "Qubit2 = a[2] * e[:,1] + b[2] * e[:,2]\n",
    "Qubits = [Qubit1 Qubit2]"
   ]
  },
  {
   "cell_type": "code",
   "execution_count": 29,
   "id": "48a04cb3-5a8a-49aa-802e-4682b2778b73",
   "metadata": {},
   "outputs": [
    {
     "data": {
      "text/latex": [
       "\\begin{equation}\n",
       "\\left[\n",
       "\\begin{array}{c}\n",
       "a{_1} a{_2} \\\\\n",
       "a{_1} b{_2} \\\\\n",
       "a{_2} b{_1} \\\\\n",
       "b{_1} b{_2} \\\\\n",
       "\\end{array}\n",
       "\\right]\n",
       "\\end{equation}\n"
      ],
      "text/plain": [
       "4-element Vector{Num}:\n",
       " a[1]*a[2]\n",
       " a[1]*b[2]\n",
       " a[2]*b[1]\n",
       " b[1]*b[2]"
      ]
     },
     "execution_count": 29,
     "metadata": {},
     "output_type": "execute_result"
    }
   ],
   "source": [
    "Qubit12 = kron(Qubits[:,1], Qubits[:,2])"
   ]
  },
  {
   "cell_type": "code",
   "execution_count": 30,
   "id": "c989fce8-90e4-4e08-933d-6a01fd9ba92b",
   "metadata": {},
   "outputs": [
    {
     "data": {
      "text/plain": [
       "4×4 Matrix{Int64}:\n",
       " 1  0  0  0\n",
       " 0  1  0  0\n",
       " 0  0  0  1\n",
       " 0  0  1  0"
      ]
     },
     "execution_count": 30,
     "metadata": {},
     "output_type": "execute_result"
    }
   ],
   "source": [
    "CNOT = [1 0 0 0; 0 1 0 0; 0 0 0 1; 0 0 1 0]"
   ]
  },
  {
   "cell_type": "code",
   "execution_count": 31,
   "id": "fcb5593e-1dcb-40ff-9e23-da0ea2df9eb4",
   "metadata": {},
   "outputs": [
    {
     "data": {
      "text/latex": [
       "\\begin{equation}\n",
       "\\left[\n",
       "\\begin{array}{c}\n",
       "a{_1} a{_2} \\\\\n",
       "a{_1} b{_2} \\\\\n",
       "b{_1} b{_2} \\\\\n",
       "a{_2} b{_1} \\\\\n",
       "\\end{array}\n",
       "\\right]\n",
       "\\end{equation}\n"
      ],
      "text/plain": [
       "4-element Vector{Num}:\n",
       " a[1]*a[2]\n",
       " a[1]*b[2]\n",
       " b[1]*b[2]\n",
       " a[2]*b[1]"
      ]
     },
     "execution_count": 31,
     "metadata": {},
     "output_type": "execute_result"
    }
   ],
   "source": [
    "cur = CNOT * Qubit12"
   ]
  },
  {
   "cell_type": "markdown",
   "id": "d416f302-5980-4036-9aee-f47255601d89",
   "metadata": {},
   "source": [
    "## Bell Circuit"
   ]
  },
  {
   "cell_type": "code",
   "execution_count": 49,
   "id": "35bab417-382a-4884-b7d5-b8d350b39c99",
   "metadata": {},
   "outputs": [
    {
     "data": {
      "text/plain": [
       "2-element Vector{Float64}:\n",
       " 1.0\n",
       " 0.0"
      ]
     },
     "execution_count": 49,
     "metadata": {},
     "output_type": "execute_result"
    }
   ],
   "source": [
    "Qubit1 = [1.; 0.] # |0>\n",
    "Qubit2 = [1.; 0.] # |0>"
   ]
  },
  {
   "cell_type": "code",
   "execution_count": 50,
   "id": "8eb06e72-b3cd-4e10-af51-f7702f8ab788",
   "metadata": {},
   "outputs": [
    {
     "data": {
      "text/plain": [
       "2×2 Matrix{Float64}:\n",
       " 1.0  1.0\n",
       " 0.0  0.0"
      ]
     },
     "execution_count": 50,
     "metadata": {},
     "output_type": "execute_result"
    }
   ],
   "source": [
    "# load at circuit\n",
    "chain = [Qubit1 Qubit2]"
   ]
  },
  {
   "cell_type": "code",
   "execution_count": 58,
   "id": "27d9e30a-8920-4371-904e-6ab33f5059ef",
   "metadata": {},
   "outputs": [
    {
     "data": {
      "text/plain": [
       "2-element Vector{Float64}:\n",
       " 0.7071067811865474\n",
       " 0.7071067811865474"
      ]
     },
     "execution_count": 58,
     "metadata": {},
     "output_type": "execute_result"
    }
   ],
   "source": [
    "chain[:,1] = H * chain[:,1]"
   ]
  },
  {
   "cell_type": "code",
   "execution_count": 68,
   "id": "ac9bede3-44e9-4105-9d3b-2347895da7d1",
   "metadata": {},
   "outputs": [
    {
     "data": {
      "text/plain": [
       "4-element Vector{Float64}:\n",
       " 0.7071067811865474\n",
       " 0.0\n",
       " 0.7071067811865474\n",
       " 0.0"
      ]
     },
     "execution_count": 68,
     "metadata": {},
     "output_type": "execute_result"
    }
   ],
   "source": [
    "circuit = kron(chain[:,1], chain[:,2])"
   ]
  },
  {
   "cell_type": "code",
   "execution_count": 69,
   "id": "1d0f056f-b9a5-4ad8-aca4-2bc334e47806",
   "metadata": {},
   "outputs": [
    {
     "data": {
      "text/plain": [
       "4-element Vector{Float64}:\n",
       " 0.7071067811865474\n",
       " 0.0\n",
       " 0.0\n",
       " 0.7071067811865474"
      ]
     },
     "execution_count": 69,
     "metadata": {},
     "output_type": "execute_result"
    }
   ],
   "source": [
    "circuit = CNOT * circuit"
   ]
  },
  {
   "cell_type": "code",
   "execution_count": null,
   "id": "84dc9930-ddea-40de-8ac2-4e3eec4d3a6f",
   "metadata": {},
   "outputs": [],
   "source": []
  }
 ],
 "metadata": {
  "kernelspec": {
   "display_name": "Julia 1.7.0",
   "language": "julia",
   "name": "julia-1.7"
  },
  "language_info": {
   "file_extension": ".jl",
   "mimetype": "application/julia",
   "name": "julia",
   "version": "1.7.0"
  }
 },
 "nbformat": 4,
 "nbformat_minor": 5
}
