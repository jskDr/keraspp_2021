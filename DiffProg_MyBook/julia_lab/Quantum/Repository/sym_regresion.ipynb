{
 "cells": [
  {
   "cell_type": "code",
   "execution_count": 1,
   "id": "fa2d4a95-8bce-4f33-92c1-d096024a3d93",
   "metadata": {},
   "outputs": [],
   "source": [
    "using SymbolicRegression"
   ]
  },
  {
   "cell_type": "code",
   "execution_count": 5,
   "id": "9eb1635c-6872-4cfc-a9ac-974686ba9f8a",
   "metadata": {},
   "outputs": [],
   "source": [
    "X = randn(Float32, 5, 100)\n",
    "y = 2 * cos.(X[4,:]) + X[1,:] .^2 .-2;"
   ]
  },
  {
   "cell_type": "code",
   "execution_count": 6,
   "id": "d0fe880d-35cf-44db-bb68-031d1c49163a",
   "metadata": {},
   "outputs": [
    {
     "data": {
      "text/plain": [
       "(100,)"
      ]
     },
     "execution_count": 6,
     "metadata": {},
     "output_type": "execute_result"
    }
   ],
   "source": [
    "size(y)"
   ]
  },
  {
   "cell_type": "code",
   "execution_count": 9,
   "id": "b0bbb98d-6605-4e74-bd45-6a3aebd081f4",
   "metadata": {},
   "outputs": [
    {
     "data": {
      "text/plain": [
       "Options{Tuple{typeof(+), typeof(*), typeof(/), typeof(-)}, Tuple{typeof(cos), typeof(sin)}}((+, *, /, -), (cos, sin), [(-1, -1), (-1, -1), (-1, -1), (-1, -1)], [-1, -1], 10, 0.0001f0, 0.1f0, 20, 20, false, true, true, 0.1f0, true, \"hall_of_fame.csv\", 20, 3, 1.0f0, true, false, false, 50, false, Real[10.0, 1.0, 1.0, 3.0, 3.0, 0.01, 1.0, 1.0], 0, false, false, 1000, 300, 0.1f0, 10, 1000000000, 0.01f0, 2, 4, false)"
      ]
     },
     "execution_count": 9,
     "metadata": {},
     "output_type": "execute_result"
    }
   ],
   "source": [
    "options = SymbolicRegression.Options(\n",
    "    binary_operators = (+, *, /, -),\n",
    "    unary_operators = (cos, sin), \n",
    "    npopulations=20\n",
    "    )"
   ]
  },
  {
   "cell_type": "code",
   "execution_count": 11,
   "id": "573b7c74-b659-44ac-a9ff-2091bc3e8a4e",
   "metadata": {},
   "outputs": [
    {
     "ename": "LoadError",
     "evalue": "UndefVarError: EquationSearch not defined",
     "output_type": "error",
     "traceback": [
      "UndefVarError: EquationSearch not defined",
      "",
      "Stacktrace:",
      " [1] top-level scope",
      "   @ In[11]:1",
      " [2] eval",
      "   @ ./boot.jl:373 [inlined]",
      " [3] include_string(mapexpr::typeof(REPL.softscope), mod::Module, code::String, filename::String)",
      "   @ Base ./loading.jl:1196"
     ]
    }
   ],
   "source": [
    "hallOfFame = EquationSearch(X, y, niterations=5, options=options, numprocs=4)"
   ]
  },
  {
   "cell_type": "code",
   "execution_count": 14,
   "id": "36b9ffba-e775-4c31-8cce-310cd792ed02",
   "metadata": {},
   "outputs": [
    {
     "ename": "LoadError",
     "evalue": "UndefVarError: EquationSearch not defined",
     "output_type": "error",
     "traceback": [
      "UndefVarError: EquationSearch not defined",
      "",
      "Stacktrace:",
      " [1] getproperty(x::Module, f::Symbol)",
      "   @ Base ./Base.jl:35",
      " [2] top-level scope",
      "   @ In[14]:12",
      " [3] eval",
      "   @ ./boot.jl:373 [inlined]",
      " [4] include_string(mapexpr::typeof(REPL.softscope), mod::Module, code::String, filename::String)",
      "   @ Base ./loading.jl:1196"
     ]
    }
   ],
   "source": [
    "using SymbolicRegression\n",
    "\n",
    "X = randn(Float32, 5, 100)\n",
    "y = 2 * cos.(X[4, :]) + X[1, :] .^ 2 .- 2\n",
    "\n",
    "options = SymbolicRegression.Options(\n",
    "    binary_operators=(+, *, /, -),\n",
    "    unary_operators=(cos, exp),\n",
    "    npopulations=20\n",
    ")\n",
    "\n",
    "hallOfFame = SymbolicRegression.EquationSearch(X, y, niterations=5, options=options, numprocs=4)"
   ]
  },
  {
   "cell_type": "code",
   "execution_count": 15,
   "id": "fa285dd4-2bcf-47c7-895b-11d9ec80ee5e",
   "metadata": {},
   "outputs": [],
   "source": [
    "using SymbolicUtils"
   ]
  },
  {
   "cell_type": "code",
   "execution_count": 16,
   "id": "632fc772-e888-46a4-8e7e-1e1b0b698f44",
   "metadata": {},
   "outputs": [
    {
     "data": {
      "text/plain": [
       "true"
      ]
     },
     "execution_count": 16,
     "metadata": {},
     "output_type": "execute_result"
    }
   ],
   "source": [
    "SymbolicUtils.show_simplified[] = true"
   ]
  },
  {
   "cell_type": "code",
   "execution_count": 17,
   "id": "b6d15fe8-1bf1-48ff-becb-ea1320743f4b",
   "metadata": {},
   "outputs": [
    {
     "data": {
      "text/plain": [
       "(x, y, z, f)"
      ]
     },
     "execution_count": 17,
     "metadata": {},
     "output_type": "execute_result"
    }
   ],
   "source": [
    "@syms x::Real y::Real z::Complex f(::Number)::Real"
   ]
  },
  {
   "cell_type": "code",
   "execution_count": 18,
   "id": "95194895-b293-4559-b92a-e2b5dac6b6b5",
   "metadata": {},
   "outputs": [
    {
     "data": {
      "text/plain": [
       "3(x^2) - y"
      ]
     },
     "execution_count": 18,
     "metadata": {},
     "output_type": "execute_result"
    }
   ],
   "source": [
    "2x^2 - y + x^2"
   ]
  },
  {
   "cell_type": "code",
   "execution_count": null,
   "id": "5af27ef7-1a21-45fd-8cda-67b58122c0c6",
   "metadata": {},
   "outputs": [],
   "source": [
    "  "
   ]
  }
 ],
 "metadata": {
  "kernelspec": {
   "display_name": "Julia 1.7.0",
   "language": "julia",
   "name": "julia-1.7"
  },
  "language_info": {
   "file_extension": ".jl",
   "mimetype": "application/julia",
   "name": "julia",
   "version": "1.7.0"
  }
 },
 "nbformat": 4,
 "nbformat_minor": 5
}
