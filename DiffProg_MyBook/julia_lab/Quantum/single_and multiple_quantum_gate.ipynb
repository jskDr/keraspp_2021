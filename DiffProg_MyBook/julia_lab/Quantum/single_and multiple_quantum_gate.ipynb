{
 "cells": [
  {
   "cell_type": "markdown",
   "metadata": {},
   "source": [
    "# 양자AI 미분 가능 프로그래밍"
   ]
  },
  {
   "cell_type": "markdown",
   "metadata": {},
   "source": [
    "# 1. 양자컴퓨팅과 양자인공지능의 원리"
   ]
  },
  {
   "cell_type": "code",
   "execution_count": 2,
   "metadata": {},
   "outputs": [],
   "source": [
    "using Symbolics\n",
    "using Printf\n",
    "using Statistics"
   ]
  },
  {
   "cell_type": "markdown",
   "metadata": {},
   "source": [
    "## One Qubit CIrcuit"
   ]
  },
  {
   "cell_type": "markdown",
   "metadata": {
    "tags": []
   },
   "source": [
    "## 1.1 양자비트 상태 표현과 측정"
   ]
  },
  {
   "cell_type": "markdown",
   "metadata": {},
   "source": [
    "### 켓 벡터"
   ]
  },
  {
   "cell_type": "code",
   "execution_count": 5,
   "metadata": {},
   "outputs": [
    {
     "data": {
      "text/plain": [
       "2-element Vector{Float64}:\n",
       " 0.0\n",
       " 1.0"
      ]
     },
     "execution_count": 5,
     "metadata": {},
     "output_type": "execute_result"
    }
   ],
   "source": [
    "e₀ = [1.; 0.]\n",
    "e₁ = [0.; 1.]"
   ]
  },
  {
   "cell_type": "code",
   "execution_count": 6,
   "metadata": {},
   "outputs": [
    {
     "name": "stdout",
     "output_type": "stream",
     "text": [
      "<0|0> = 1.0, <1|1> = 1.0"
     ]
    }
   ],
   "source": [
    "@printf(\"<0|0> = %.1f, <1|1> = %.1f\", e₀' * e₀, e₁' * e₁)"
   ]
  },
  {
   "cell_type": "code",
   "execution_count": 7,
   "metadata": {},
   "outputs": [
    {
     "name": "stdout",
     "output_type": "stream",
     "text": [
      "<0|1> = 0.0, <0|1> = 0.0"
     ]
    }
   ],
   "source": [
    "@printf(\"<0|1> = %.1f, <0|1> = %.1f\", e₀' * e₁, e₁' * e₀)"
   ]
  },
  {
   "cell_type": "code",
   "execution_count": 8,
   "metadata": {},
   "outputs": [
    {
     "data": {
      "text/latex": [
       "\\begin{equation}\n",
       "\\left[\n",
       "\\begin{array}{c}\n",
       "\\alpha \\\\\n",
       "\\beta \\\\\n",
       "\\end{array}\n",
       "\\right]\n",
       "\\end{equation}\n"
      ],
      "text/plain": [
       "2-element Vector{Num}:\n",
       " α\n",
       " β"
      ]
     },
     "execution_count": 8,
     "metadata": {},
     "output_type": "execute_result"
    }
   ],
   "source": [
    "@variables α β\n",
    "q_cat = α*e₀ + β*e₁ "
   ]
  },
  {
   "cell_type": "markdown",
   "metadata": {
    "tags": []
   },
   "source": [
    "### 양자상태측정"
   ]
  },
  {
   "cell_type": "code",
   "execution_count": 6,
   "metadata": {},
   "outputs": [
    {
     "data": {
      "text/plain": [
       "measure (generic function with 2 methods)"
      ]
     },
     "execution_count": 6,
     "metadata": {},
     "output_type": "execute_result"
    }
   ],
   "source": [
    "function measure(qubit_state, N::Int = 1)\n",
    "    m_array = zeros(Int, N)\n",
    "    for n in 1:N\n",
    "        if rand() < abs(qubit_state[1])^2\n",
    "            m_array[n] = 0\n",
    "        else\n",
    "            m_array[n] = 1\n",
    "        end\n",
    "    end\n",
    "    ifelse(N==1, m_array[1],  m_array)\n",
    "end "
   ]
  },
  {
   "cell_type": "code",
   "execution_count": 7,
   "metadata": {},
   "outputs": [
    {
     "name": "stdout",
     "output_type": "stream",
     "text": [
      "M(|0>) = 0\n",
      "M(|0>) = [0, 0, 0, 0, 0, 0, 0, 0, 0, 0]\n",
      "M(|1>) = 1\n",
      "M(|1>) = [1, 1, 1, 1, 1, 1, 1, 1, 1, 1]\n"
     ]
    }
   ],
   "source": [
    "sprint_array(X) = join(map(x->@sprintf(\"%d\", x), X), \", \")\n",
    "@printf(\"M(|0>) = %d\\n\", measure([1.;0.]))\n",
    "println(\"M(|0>) = [\", sprint_array(measure([1.;0.], 10)), \"]\")\n",
    "@printf(\"M(|1>) = %d\\n\", measure([0.;1.]))\n",
    "println(\"M(|1>) = [\", sprint_array(measure([0.;1.], 10)), \"]\")"
   ]
  },
  {
   "cell_type": "code",
   "execution_count": 8,
   "metadata": {},
   "outputs": [
    {
     "name": "stdout",
     "output_type": "stream",
     "text": [
      "M(|+>) = M([1,1]/sqrt(2)) = [0, 0, 0, 0, 1, 1, 0, 1, 1, 1]\n",
      "M(|->) = M([1,-1]/sqrt(2)) = [0, 1, 1, 1, 1, 0, 1, 0, 0, 0]\n"
     ]
    }
   ],
   "source": [
    "println(\"M(|+>) = M([1,1]/sqrt(2)) = [\", sprint_array(measure([1.;1.]/sqrt(2), 10)), \"]\")\n",
    "println(\"M(|->) = M([1,-1]/sqrt(2)) = [\", sprint_array(measure([1.;-1.]/sqrt(2), 10)), \"]\")"
   ]
  },
  {
   "cell_type": "markdown",
   "metadata": {},
   "source": [
    "#### 평균 구하기  "
   ]
  },
  {
   "cell_type": "code",
   "execution_count": 9,
   "metadata": {},
   "outputs": [
    {
     "name": "stdout",
     "output_type": "stream",
     "text": [
      "Average of 100 times measurements of |0> is 0.00\n",
      "Average of 100 times measurements of |1> is 1.00\n",
      "Average of 100 times measurements of |+> is 0.57\n",
      "Average of 100 times measurements of |-> is 0.50\n"
     ]
    }
   ],
   "source": [
    "N = 100\n",
    "@printf(\"Average of %d times measurements of |0> is %.2f\\n\", \n",
    "    N, mean(measure([1.;0.], N)))\n",
    "@printf(\"Average of %d times measurements of |1> is %.2f\\n\", \n",
    "    N, mean(measure([0.;1.], N)))\n",
    "@printf(\"Average of %d times measurements of |+> is %.2f\\n\", \n",
    "    N, mean(measure([1.;1.]/sqrt(2), N)))\n",
    "@printf(\"Average of %d times measurements of |-> is %.2f\\n\", \n",
    "    N, mean(measure([1.;-1.]/sqrt(2), N)))"
   ]
  },
  {
   "cell_type": "markdown",
   "metadata": {
    "tags": []
   },
   "source": [
    "## 1.2 단일 양자비트 연산자"
   ]
  },
  {
   "cell_type": "markdown",
   "metadata": {},
   "source": [
    "### 양자 반전 연산자"
   ]
  },
  {
   "cell_type": "code",
   "execution_count": 10,
   "metadata": {},
   "outputs": [
    {
     "data": {
      "text/plain": [
       "2×2 Matrix{Float64}:\n",
       " 0.0  1.0\n",
       " 1.0  0.0"
      ]
     },
     "execution_count": 10,
     "metadata": {},
     "output_type": "execute_result"
    }
   ],
   "source": [
    "X = e₁ * e₀' + e₀ * e₁'"
   ]
  },
  {
   "cell_type": "code",
   "execution_count": 24,
   "metadata": {},
   "outputs": [
    {
     "name": "stdout",
     "output_type": "stream",
     "text": [
      "true, true\n"
     ]
    }
   ],
   "source": [
    "println(X * e₀ == e₁, \", \", X * e₁ == e₀)"
   ]
  },
  {
   "cell_type": "code",
   "execution_count": 25,
   "metadata": {},
   "outputs": [
    {
     "data": {
      "text/latex": [
       "\\begin{equation}\n",
       "\\left[\n",
       "\\begin{array}{c}\n",
       "\\beta \\\\\n",
       "\\alpha \\\\\n",
       "\\end{array}\n",
       "\\right]\n",
       "\\end{equation}\n"
      ],
      "text/plain": [
       "2-element Vector{Num}:\n",
       " β\n",
       " α"
      ]
     },
     "metadata": {},
     "output_type": "display_data"
    }
   ],
   "source": [
    "display(X * q_cat)"
   ]
  },
  {
   "cell_type": "markdown",
   "metadata": {},
   "source": [
    "### 양자중첩 연산자"
   ]
  },
  {
   "cell_type": "code",
   "execution_count": 27,
   "metadata": {},
   "outputs": [
    {
     "data": {
      "text/plain": [
       "2×2 Matrix{Float64}:\n",
       " 0.707107   0.707107\n",
       " 0.707107  -0.707107"
      ]
     },
     "execution_count": 27,
     "metadata": {},
     "output_type": "execute_result"
    }
   ],
   "source": [
    "H = [1. 1.; 1. -1.] / sqrt(2)"
   ]
  },
  {
   "cell_type": "code",
   "execution_count": 31,
   "metadata": {},
   "outputs": [
    {
     "data": {
      "text/plain": [
       "([0.7071067811865475, 0.7071067811865475], [0.7071067811865475, -0.7071067811865475])"
      ]
     },
     "execution_count": 31,
     "metadata": {},
     "output_type": "execute_result"
    }
   ],
   "source": [
    "e₊ = H * e₀\n",
    "e₋ = H * e₁\n",
    "e₊, e₋ "
   ]
  },
  {
   "cell_type": "code",
   "execution_count": 33,
   "metadata": {},
   "outputs": [
    {
     "name": "stdout",
     "output_type": "stream",
     "text": [
      "true, true\n"
     ]
    }
   ],
   "source": [
    "println(e₊ == (e₀ + e₁) / sqrt(2), \", \", e₋ == (e₀ - e₁) / sqrt(2))"
   ]
  },
  {
   "cell_type": "code",
   "execution_count": 37,
   "metadata": {},
   "outputs": [
    {
     "data": {
      "text/latex": [
       "\\begin{equation}\n",
       "\\left[\n",
       "\\begin{array}{c}\n",
       "\\alpha + \\beta \\\\\n",
       "\\alpha - \\beta \\\\\n",
       "\\end{array}\n",
       "\\right]\n",
       "\\end{equation}\n"
      ],
      "text/plain": [
       "2-element Vector{Num}:\n",
       " α + β\n",
       " α - β"
      ]
     },
     "execution_count": 37,
     "metadata": {},
     "output_type": "execute_result"
    }
   ],
   "source": [
    "H*q_cat * sqrt(2)"
   ]
  },
  {
   "cell_type": "markdown",
   "metadata": {},
   "source": [
    "### 파울리 연산자"
   ]
  },
  {
   "cell_type": "code",
   "execution_count": 63,
   "metadata": {},
   "outputs": [
    {
     "data": {
      "text/plain": [
       "2×2 Matrix{ComplexF64}:\n",
       " 0.0+0.0im  -0.0-1.0im\n",
       " 0.0+1.0im   0.0+0.0im"
      ]
     },
     "metadata": {},
     "output_type": "display_data"
    },
    {
     "data": {
      "text/plain": [
       "2×2 Matrix{Float64}:\n",
       " 1.0   0.0\n",
       " 0.0  -1.0"
      ]
     },
     "metadata": {},
     "output_type": "display_data"
    }
   ],
   "source": [
    "Y = [0 -1.0im; 1.0im 0]\n",
    "Z = [1. 0; 0 -1.] \n",
    "display(Y)\n",
    "display(Z)"
   ]
  },
  {
   "cell_type": "code",
   "execution_count": 66,
   "metadata": {},
   "outputs": [
    {
     "data": {
      "text/plain": [
       "2-element Vector{Complex{Num}}:\n",
       " -im*β\n",
       "  im*α"
      ]
     },
     "metadata": {},
     "output_type": "display_data"
    },
    {
     "data": {
      "text/latex": [
       "\\begin{equation}\n",
       "\\left[\n",
       "\\begin{array}{c}\n",
       "\\alpha \\\\\n",
       " - \\beta \\\\\n",
       "\\end{array}\n",
       "\\right]\n",
       "\\end{equation}\n"
      ],
      "text/plain": [
       "2-element Vector{Num}:\n",
       "  α\n",
       " -β"
      ]
     },
     "metadata": {},
     "output_type": "display_data"
    }
   ],
   "source": [
    "display(Y * q_cat)\n",
    "display(Z * q_cat)"
   ]
  },
  {
   "cell_type": "markdown",
   "metadata": {},
   "source": [
    "## 1.3 다중 양자비트 표현 및 연산"
   ]
  },
  {
   "cell_type": "markdown",
   "metadata": {},
   "source": [
    "### 다중 양자비트 상태 표현"
   ]
  },
  {
   "cell_type": "code",
   "execution_count": 112,
   "metadata": {},
   "outputs": [
    {
     "data": {
      "text/latex": [
       "\\begin{equation}\n",
       "\\left[\n",
       "\\begin{array}{cc}\n",
       "\\alpha{_1} & \\alpha{_2} \\\\\n",
       "\\beta{_1} & \\beta{_2} \\\\\n",
       "\\end{array}\n",
       "\\right]\n",
       "\\end{equation}\n"
      ],
      "text/plain": [
       "2×2 Matrix{Num}:\n",
       " α[1]  α[2]\n",
       " β[1]  β[2]"
      ]
     },
     "execution_count": 112,
     "metadata": {},
     "output_type": "execute_result"
    }
   ],
   "source": [
    "@variables α[1:2] β[1:2]\n",
    "\n",
    "Qubit1 = α[1] * e₀ + β[1] * e₁\n",
    "Qubit2 = α[2] * e₀ + β[2] * e₁\n",
    "Qubits = [Qubit1 Qubit2]"
   ]
  },
  {
   "cell_type": "code",
   "execution_count": 113,
   "metadata": {},
   "outputs": [
    {
     "data": {
      "text/latex": [
       "\\begin{equation}\n",
       "\\left[\n",
       "\\begin{array}{c}\n",
       "\\alpha{_1} \\alpha{_2} \\\\\n",
       "\\alpha{_1} \\beta{_2} \\\\\n",
       "\\alpha{_2} \\beta{_1} \\\\\n",
       "\\beta{_1} \\beta{_2} \\\\\n",
       "\\end{array}\n",
       "\\right]\n",
       "\\end{equation}\n"
      ],
      "text/plain": [
       "4-element Vector{Num}:\n",
       " α[1]*α[2]\n",
       " α[1]*β[2]\n",
       " α[2]*β[1]\n",
       " β[1]*β[2]"
      ]
     },
     "execution_count": 113,
     "metadata": {},
     "output_type": "execute_result"
    }
   ],
   "source": [
    "Qubit12_state = kron(Qubit1, Qubit2)"
   ]
  },
  {
   "cell_type": "code",
   "execution_count": 114,
   "metadata": {},
   "outputs": [
    {
     "data": {
      "text/plain": [
       "2×2 Matrix{Float64}:\n",
       " 1.0  0.0\n",
       " 0.0  1.0"
      ]
     },
     "metadata": {},
     "output_type": "display_data"
    },
    {
     "data": {
      "text/plain": [
       "4×4 Matrix{Float64}:\n",
       " 1.0  0.0  0.0  0.0\n",
       " 0.0  1.0  0.0  0.0\n",
       " 0.0  0.0  1.0  0.0\n",
       " 0.0  0.0  0.0  1.0"
      ]
     },
     "metadata": {},
     "output_type": "display_data"
    },
    {
     "data": {
      "text/plain": [
       "true"
      ]
     },
     "execution_count": 114,
     "metadata": {},
     "output_type": "execute_result"
    }
   ],
   "source": [
    "E1 = [e₀ e₁]\n",
    "E2 = [kron(e₀, e₀) kron(e₀, e₁) kron(e₁, e₀) kron(e₁, e₁)] \n",
    "display(E1)\n",
    "display(E2)\n",
    "E2 == kron(E1, E1)"
   ]
  },
  {
   "cell_type": "markdown",
   "metadata": {},
   "source": [
    "### 양자 제어반전 연산자"
   ]
  },
  {
   "cell_type": "code",
   "execution_count": 115,
   "metadata": {},
   "outputs": [
    {
     "data": {
      "text/plain": [
       "4×4 Matrix{Float64}:\n",
       " 1.0  0.0  0.0  0.0\n",
       " 0.0  1.0  0.0  0.0\n",
       " 0.0  0.0  0.0  1.0\n",
       " 0.0  0.0  1.0  0.0"
      ]
     },
     "metadata": {},
     "output_type": "display_data"
    },
    {
     "data": {
      "text/plain": [
       "4×4 Matrix{Float64}:\n",
       " 1.0  0.0  0.0  0.0\n",
       " 0.0  1.0  0.0  0.0\n",
       " 0.0  0.0  0.0  1.0\n",
       " 0.0  0.0  1.0  0.0"
      ]
     },
     "metadata": {},
     "output_type": "display_data"
    },
    {
     "data": {
      "text/latex": [
       "\\begin{equation}\n",
       "\\left[\n",
       "\\begin{array}{c}\n",
       "\\alpha{_1} \\alpha{_2} \\\\\n",
       "\\alpha{_1} \\beta{_2} \\\\\n",
       "\\beta{_1} \\beta{_2} \\\\\n",
       "\\alpha{_2} \\beta{_1} \\\\\n",
       "\\end{array}\n",
       "\\right]\n",
       "\\end{equation}\n"
      ],
      "text/plain": [
       "4-element Vector{Num}:\n",
       " α[1]*α[2]\n",
       " α[1]*β[2]\n",
       " β[1]*β[2]\n",
       " α[2]*β[1]"
      ]
     },
     "metadata": {},
     "output_type": "display_data"
    }
   ],
   "source": [
    "CNOT = [1. 0 0 0; 0 1. 0 0; 0 0 0 1.; 0 0 1. 0]\n",
    "display(CNOT)\n",
    "display(CNOT * E2)\n",
    "display(CNOT * Qubit12_state)"
   ]
  },
  {
   "cell_type": "code",
   "execution_count": 116,
   "metadata": {},
   "outputs": [
    {
     "data": {
      "text/plain": [
       "4-element Vector{Float64}:\n",
       " 0.0\n",
       " 0.0\n",
       " 0.0\n",
       " 1.0"
      ]
     },
     "metadata": {},
     "output_type": "display_data"
    },
    {
     "data": {
      "text/latex": [
       "\\begin{equation}\n",
       "\\left[\n",
       "\\begin{array}{c}\n",
       "\\alpha{_1} \\alpha{_2} \\\\\n",
       "\\alpha{_1} \\beta{_2} \\\\\n",
       "\\beta{_1} \\beta{_2} \\\\\n",
       "\\alpha{_2} \\beta{_1} \\\\\n",
       "\\end{array}\n",
       "\\right]\n",
       "\\end{equation}\n"
      ],
      "text/plain": [
       "4-element Vector{Num}:\n",
       " α[1]*α[2]\n",
       " α[1]*β[2]\n",
       " β[1]*β[2]\n",
       " α[2]*β[1]"
      ]
     },
     "metadata": {},
     "output_type": "display_data"
    }
   ],
   "source": [
    "function fn_cnot(q1, q2)\n",
    "    CNOT = [1. 0 0 0; 0 1. 0 0; 0 0 0 1.; 0 0 1. 0]\n",
    "    q12 = kron(q1, q2)\n",
    "    return CNOT * q12\n",
    "end\n",
    "\n",
    "display(fn_cnot(e₁, e₀))\n",
    "display(fn_cnot(Qubit1, Qubit2))"
   ]
  },
  {
   "cell_type": "code",
   "execution_count": 117,
   "metadata": {},
   "outputs": [
    {
     "data": {
      "text/plain": [
       "calc_new_q (generic function with 1 method)"
      ]
     },
     "execution_count": 117,
     "metadata": {},
     "output_type": "execute_result"
    }
   ],
   "source": [
    "function calc_new_q(new_state)\n",
    "    f(tmp, d, idx) = expand(substitute(tmp[idx], d))\n",
    "\n",
    "    tmp1 = [sqrt(sum(new_state[1:2].^2)); sqrt(sum(new_state[3:4].^2))]\n",
    "    d1 = Dict([α[2]^2 => 1 - β[2]^2])     \n",
    "    new_q1 = map(k -> f(tmp1, d1, k), [1,2])\n",
    "\n",
    "    tmp2 = [sqrt(sum(new_state[1:2:4].^2)); sqrt(sum(new_state[2:2:4].^2))]\n",
    "    d2 = Dict([α[1]^2 => 1 - β[1]^2])     \n",
    "    new_q2 = map(k -> f(tmp2, d2, k), [1,2])\n",
    "    \n",
    "    [new_q1 new_q2]\n",
    "end"
   ]
  },
  {
   "cell_type": "code",
   "execution_count": 118,
   "metadata": {},
   "outputs": [
    {
     "data": {
      "text/latex": [
       "\\begin{equation}\n",
       "\\left[\n",
       "\\begin{array}{c}\n",
       "\\sqrt{\\alpha{_1}^{2}} \\\\\n",
       "\\sqrt{\\beta{_1}^{2}} \\\\\n",
       "\\end{array}\n",
       "\\right]\n",
       "\\end{equation}\n"
      ],
      "text/plain": [
       "2-element Vector{Num}:\n",
       " sqrt(α[1]^2)\n",
       " sqrt(β[1]^2)"
      ]
     },
     "metadata": {},
     "output_type": "display_data"
    },
    {
     "data": {
      "text/latex": [
       "\\begin{equation}\n",
       "\\left[\n",
       "\\begin{array}{c}\n",
       "\\sqrt{\\alpha{_2}^{2}} \\\\\n",
       "\\sqrt{\\beta{_2}^{2}} \\\\\n",
       "\\end{array}\n",
       "\\right]\n",
       "\\end{equation}\n"
      ],
      "text/plain": [
       "2-element Vector{Num}:\n",
       " sqrt(α[2]^2)\n",
       " sqrt(β[2]^2)"
      ]
     },
     "metadata": {},
     "output_type": "display_data"
    }
   ],
   "source": [
    "new_Q = calc_new_q(Qubit12_state)\n",
    "display(new_Q[:,1])\n",
    "display(new_Q[:,2])"
   ]
  },
  {
   "cell_type": "code",
   "execution_count": 119,
   "metadata": {},
   "outputs": [
    {
     "data": {
      "text/latex": [
       "\\begin{equation}\n",
       "\\left[\n",
       "\\begin{array}{c}\n",
       "\\sqrt{\\alpha{_1}^{2}} \\\\\n",
       "\\sqrt{\\beta{_1}^{2}} \\\\\n",
       "\\end{array}\n",
       "\\right]\n",
       "\\end{equation}\n"
      ],
      "text/plain": [
       "2-element Vector{Num}:\n",
       " sqrt(α[1]^2)\n",
       " sqrt(β[1]^2)"
      ]
     },
     "metadata": {},
     "output_type": "display_data"
    },
    {
     "data": {
      "text/latex": [
       "\\begin{equation}\n",
       "\\left[\n",
       "\\begin{array}{c}\n",
       "\\sqrt{\\beta{_2}^{2} \\beta{_1}^{2} + \\alpha{_2}^{2} - \\beta{_1}^{2} \\alpha{_2}^{2}} \\\\\n",
       "\\sqrt{\\beta{_1}^{2} \\alpha{_2}^{2} + \\beta{_2}^{2} - \\beta{_2}^{2} \\beta{_1}^{2}} \\\\\n",
       "\\end{array}\n",
       "\\right]\n",
       "\\end{equation}\n"
      ],
      "text/plain": [
       "2-element Vector{Num}:\n",
       " sqrt((β[1]^2)*(β[2]^2) + α[2]^2 - (α[2]^2)*(β[1]^2))\n",
       " sqrt((α[2]^2)*(β[1]^2) + β[2]^2 - (β[1]^2)*(β[2]^2))"
      ]
     },
     "metadata": {},
     "output_type": "display_data"
    }
   ],
   "source": [
    "new_state = CNOT * Qubit12_state\n",
    "new_Q = calc_new_q(new_state)\n",
    "display(new_Q[:,1])\n",
    "display(new_Q[:,2])"
   ]
  },
  {
   "cell_type": "code",
   "execution_count": null,
   "metadata": {},
   "outputs": [],
   "source": []
  }
 ],
 "metadata": {
  "kernelspec": {
   "display_name": "Julia 1.7.1",
   "language": "julia",
   "name": "julia-1.7"
  },
  "language_info": {
   "file_extension": ".jl",
   "mimetype": "application/julia",
   "name": "julia",
   "version": "1.7.1"
  }
 },
 "nbformat": 4,
 "nbformat_minor": 5
}
