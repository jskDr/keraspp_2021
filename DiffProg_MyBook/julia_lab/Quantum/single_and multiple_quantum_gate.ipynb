{
 "cells": [
  {
   "cell_type": "markdown",
   "id": "37032796-c3be-48a3-82c6-70df4869e2ce",
   "metadata": {},
   "source": [
    "# 양자AI 미분 가능 프로그래밍"
   ]
  },
  {
   "cell_type": "markdown",
   "id": "1b10d2b3-075e-42ec-970c-4a56552e3cb4",
   "metadata": {},
   "source": [
    "# 1. 양자컴퓨팅과 양자인공지능의 원리"
   ]
  },
  {
   "cell_type": "code",
   "execution_count": 2,
   "id": "257254e9-8d8f-4fae-b6ea-08b9f1c9bc88",
   "metadata": {},
   "outputs": [],
   "source": [
    "using Symbolics\n",
    "using Printf\n",
    "using Statistics"
   ]
  },
  {
   "cell_type": "markdown",
   "id": "4f207961-0eeb-4143-93c3-d74d9042950b",
   "metadata": {},
   "source": [
    "## One Qubit CIrcuit"
   ]
  },
  {
   "cell_type": "markdown",
   "id": "238a73b8-0a94-4584-b722-604cb1731159",
   "metadata": {
    "tags": []
   },
   "source": [
    "## 1.1 양자비트 상태 표현과 측정"
   ]
  },
  {
   "cell_type": "markdown",
   "id": "f9adea4b-2f95-41ae-8752-d7570871c181",
   "metadata": {},
   "source": [
    "### 켓 벡터"
   ]
  },
  {
   "cell_type": "code",
   "execution_count": 5,
   "id": "d216e339-7c7a-46eb-a62b-c94668f06274",
   "metadata": {},
   "outputs": [
    {
     "data": {
      "text/plain": [
       "2-element Vector{Float64}:\n",
       " 0.0\n",
       " 1.0"
      ]
     },
     "execution_count": 5,
     "metadata": {},
     "output_type": "execute_result"
    }
   ],
   "source": [
    "e₀ = [1.; 0.]\n",
    "e₁ = [0.; 1.]"
   ]
  },
  {
   "cell_type": "code",
   "execution_count": 6,
   "id": "e35a00cf-db7f-4189-8dc3-f2b0f23e6cc8",
   "metadata": {},
   "outputs": [
    {
     "name": "stdout",
     "output_type": "stream",
     "text": [
      "<0|0> = 1.0, <1|1> = 1.0"
     ]
    }
   ],
   "source": [
    "@printf(\"<0|0> = %.1f, <1|1> = %.1f\", e₀' * e₀, e₁' * e₁)"
   ]
  },
  {
   "cell_type": "code",
   "execution_count": 7,
   "id": "6496f445-fc76-4583-b5aa-abe423ea2c56",
   "metadata": {},
   "outputs": [
    {
     "name": "stdout",
     "output_type": "stream",
     "text": [
      "<0|1> = 0.0, <0|1> = 0.0"
     ]
    }
   ],
   "source": [
    "@printf(\"<0|1> = %.1f, <0|1> = %.1f\", e₀' * e₁, e₁' * e₀)"
   ]
  },
  {
   "cell_type": "code",
   "execution_count": 8,
   "id": "b383830c-f9d8-4f4b-bdda-86f6c8899918",
   "metadata": {},
   "outputs": [
    {
     "data": {
      "text/latex": [
       "\\begin{equation}\n",
       "\\left[\n",
       "\\begin{array}{c}\n",
       "\\alpha \\\\\n",
       "\\beta \\\\\n",
       "\\end{array}\n",
       "\\right]\n",
       "\\end{equation}\n"
      ],
      "text/plain": [
       "2-element Vector{Num}:\n",
       " α\n",
       " β"
      ]
     },
     "execution_count": 8,
     "metadata": {},
     "output_type": "execute_result"
    }
   ],
   "source": [
    "@variables α β\n",
    "q_cat = α*e₀ + β*e₁ "
   ]
  },
  {
   "cell_type": "markdown",
   "id": "6c4a93a3-f230-48c8-8691-69d2b53cee6e",
   "metadata": {
    "tags": []
   },
   "source": [
    "### 양자상태측정"
   ]
  },
  {
   "cell_type": "code",
   "execution_count": 6,
   "id": "22d32e2e-aca6-4133-81a7-e6d63d83dbf8",
   "metadata": {},
   "outputs": [
    {
     "data": {
      "text/plain": [
       "measure (generic function with 2 methods)"
      ]
     },
     "execution_count": 6,
     "metadata": {},
     "output_type": "execute_result"
    }
   ],
   "source": [
    "function measure(qubit_state, N::Int = 1)\n",
    "    m_array = zeros(Int, N)\n",
    "    for n in 1:N\n",
    "        if rand() < abs(qubit_state[1])^2\n",
    "            m_array[n] = 0\n",
    "        else\n",
    "            m_array[n] = 1\n",
    "        end\n",
    "    end\n",
    "    ifelse(N==1, m_array[1],  m_array)\n",
    "end "
   ]
  },
  {
   "cell_type": "code",
   "execution_count": 7,
   "id": "eb53bc89-3536-4fe0-8dd4-c65ec923bca6",
   "metadata": {},
   "outputs": [
    {
     "name": "stdout",
     "output_type": "stream",
     "text": [
      "M(|0>) = 0\n",
      "M(|0>) = [0, 0, 0, 0, 0, 0, 0, 0, 0, 0]\n",
      "M(|1>) = 1\n",
      "M(|1>) = [1, 1, 1, 1, 1, 1, 1, 1, 1, 1]\n"
     ]
    }
   ],
   "source": [
    "sprint_array(X) = join(map(x->@sprintf(\"%d\", x), X), \", \")\n",
    "@printf(\"M(|0>) = %d\\n\", measure([1.;0.]))\n",
    "println(\"M(|0>) = [\", sprint_array(measure([1.;0.], 10)), \"]\")\n",
    "@printf(\"M(|1>) = %d\\n\", measure([0.;1.]))\n",
    "println(\"M(|1>) = [\", sprint_array(measure([0.;1.], 10)), \"]\")"
   ]
  },
  {
   "cell_type": "code",
   "execution_count": 8,
   "id": "ace6b95a-5671-407d-9de8-0ac6c7721e99",
   "metadata": {},
   "outputs": [
    {
     "name": "stdout",
     "output_type": "stream",
     "text": [
      "M(|+>) = M([1,1]/sqrt(2)) = [0, 0, 0, 0, 1, 1, 0, 1, 1, 1]\n",
      "M(|->) = M([1,-1]/sqrt(2)) = [0, 1, 1, 1, 1, 0, 1, 0, 0, 0]\n"
     ]
    }
   ],
   "source": [
    "println(\"M(|+>) = M([1,1]/sqrt(2)) = [\", sprint_array(measure([1.;1.]/sqrt(2), 10)), \"]\")\n",
    "println(\"M(|->) = M([1,-1]/sqrt(2)) = [\", sprint_array(measure([1.;-1.]/sqrt(2), 10)), \"]\")"
   ]
  },
  {
   "cell_type": "markdown",
   "id": "866430ff-94a6-49c0-832b-5dde69ef7443",
   "metadata": {},
   "source": [
    "#### 평균 구하기  "
   ]
  },
  {
   "cell_type": "code",
   "execution_count": 9,
   "id": "4a20b10e-2e4b-40dd-9a3f-d680a1c685ec",
   "metadata": {},
   "outputs": [
    {
     "name": "stdout",
     "output_type": "stream",
     "text": [
      "Average of 100 times measurements of |0> is 0.00\n",
      "Average of 100 times measurements of |1> is 1.00\n",
      "Average of 100 times measurements of |+> is 0.57\n",
      "Average of 100 times measurements of |-> is 0.50\n"
     ]
    }
   ],
   "source": [
    "N = 100\n",
    "@printf(\"Average of %d times measurements of |0> is %.2f\\n\", \n",
    "    N, mean(measure([1.;0.], N)))\n",
    "@printf(\"Average of %d times measurements of |1> is %.2f\\n\", \n",
    "    N, mean(measure([0.;1.], N)))\n",
    "@printf(\"Average of %d times measurements of |+> is %.2f\\n\", \n",
    "    N, mean(measure([1.;1.]/sqrt(2), N)))\n",
    "@printf(\"Average of %d times measurements of |-> is %.2f\\n\", \n",
    "    N, mean(measure([1.;-1.]/sqrt(2), N)))"
   ]
  },
  {
   "cell_type": "markdown",
   "id": "9dbf975e-4293-4d43-af99-04b0c07ae219",
   "metadata": {
    "tags": []
   },
   "source": [
    "## 1.2 단일 양자비트 연산자"
   ]
  },
  {
   "cell_type": "markdown",
   "id": "fa730f84-2a0a-4783-a0c8-923d170e4bcf",
   "metadata": {},
   "source": [
    "### 양자 반전 연산자"
   ]
  },
  {
   "cell_type": "code",
   "execution_count": 10,
   "id": "7ed99197-d855-45ca-a366-023da5af9bde",
   "metadata": {},
   "outputs": [
    {
     "data": {
      "text/plain": [
       "2×2 Matrix{Float64}:\n",
       " 0.0  1.0\n",
       " 1.0  0.0"
      ]
     },
     "execution_count": 10,
     "metadata": {},
     "output_type": "execute_result"
    }
   ],
   "source": [
    "X = e₁ * e₀' + e₀ * e₁'"
   ]
  },
  {
   "cell_type": "code",
   "execution_count": 24,
   "id": "c188ab13-5ff3-4c6d-b797-77265dfced01",
   "metadata": {},
   "outputs": [
    {
     "name": "stdout",
     "output_type": "stream",
     "text": [
      "true, true\n"
     ]
    }
   ],
   "source": [
    "println(X * e₀ == e₁, \", \", X * e₁ == e₀)"
   ]
  },
  {
   "cell_type": "code",
   "execution_count": 25,
   "id": "8d0eb87f-f19c-4276-bbfa-55e6c373ef16",
   "metadata": {},
   "outputs": [
    {
     "data": {
      "text/latex": [
       "\\begin{equation}\n",
       "\\left[\n",
       "\\begin{array}{c}\n",
       "\\beta \\\\\n",
       "\\alpha \\\\\n",
       "\\end{array}\n",
       "\\right]\n",
       "\\end{equation}\n"
      ],
      "text/plain": [
       "2-element Vector{Num}:\n",
       " β\n",
       " α"
      ]
     },
     "metadata": {},
     "output_type": "display_data"
    }
   ],
   "source": [
    "display(X * q_cat)"
   ]
  },
  {
   "cell_type": "markdown",
   "id": "d27438ea-63c4-40bb-92e9-79265adbe341",
   "metadata": {},
   "source": [
    "### 양자중첩 연산자"
   ]
  },
  {
   "cell_type": "code",
   "execution_count": 27,
   "id": "3279619f-c3d2-4201-8b5d-3e843503fa8f",
   "metadata": {},
   "outputs": [
    {
     "data": {
      "text/plain": [
       "2×2 Matrix{Float64}:\n",
       " 0.707107   0.707107\n",
       " 0.707107  -0.707107"
      ]
     },
     "execution_count": 27,
     "metadata": {},
     "output_type": "execute_result"
    }
   ],
   "source": [
    "H = [1. 1.; 1. -1.] / sqrt(2)"
   ]
  },
  {
   "cell_type": "code",
   "execution_count": 31,
   "id": "5b63bb36-6692-4410-8d75-c82f1a195fc4",
   "metadata": {},
   "outputs": [
    {
     "data": {
      "text/plain": [
       "([0.7071067811865475, 0.7071067811865475], [0.7071067811865475, -0.7071067811865475])"
      ]
     },
     "execution_count": 31,
     "metadata": {},
     "output_type": "execute_result"
    }
   ],
   "source": [
    "e₊ = H * e₀\n",
    "e₋ = H * e₁\n",
    "e₊, e₋ "
   ]
  },
  {
   "cell_type": "code",
   "execution_count": 33,
   "id": "5e96d6cf-c17f-41ae-9b52-e3454f96632b",
   "metadata": {},
   "outputs": [
    {
     "name": "stdout",
     "output_type": "stream",
     "text": [
      "true, true\n"
     ]
    }
   ],
   "source": [
    "println(e₊ == (e₀ + e₁) / sqrt(2), \", \", e₋ == (e₀ - e₁) / sqrt(2))"
   ]
  },
  {
   "cell_type": "code",
   "execution_count": 37,
   "id": "466ee74c-9775-47d0-8a8a-e159058d4e8c",
   "metadata": {},
   "outputs": [
    {
     "data": {
      "text/latex": [
       "\\begin{equation}\n",
       "\\left[\n",
       "\\begin{array}{c}\n",
       "\\alpha + \\beta \\\\\n",
       "\\alpha - \\beta \\\\\n",
       "\\end{array}\n",
       "\\right]\n",
       "\\end{equation}\n"
      ],
      "text/plain": [
       "2-element Vector{Num}:\n",
       " α + β\n",
       " α - β"
      ]
     },
     "execution_count": 37,
     "metadata": {},
     "output_type": "execute_result"
    }
   ],
   "source": [
    "H*q_cat * sqrt(2)"
   ]
  },
  {
   "cell_type": "markdown",
   "id": "d95f5cf3-128c-4462-bf13-7fae25ed4717",
   "metadata": {},
   "source": [
    "### 파울리 연산자"
   ]
  },
  {
   "cell_type": "code",
   "execution_count": 63,
   "id": "7e82b1c2-3be3-48fb-a78e-90515412418f",
   "metadata": {},
   "outputs": [
    {
     "data": {
      "text/plain": [
       "2×2 Matrix{ComplexF64}:\n",
       " 0.0+0.0im  -0.0-1.0im\n",
       " 0.0+1.0im   0.0+0.0im"
      ]
     },
     "metadata": {},
     "output_type": "display_data"
    },
    {
     "data": {
      "text/plain": [
       "2×2 Matrix{Float64}:\n",
       " 1.0   0.0\n",
       " 0.0  -1.0"
      ]
     },
     "metadata": {},
     "output_type": "display_data"
    }
   ],
   "source": [
    "Y = [0 -1.0im; 1.0im 0]\n",
    "Z = [1. 0; 0 -1.] \n",
    "display(Y)\n",
    "display(Z)"
   ]
  },
  {
   "cell_type": "code",
   "execution_count": 66,
   "id": "cc5e1ecd-0710-4f1b-a3bd-1cd4ce83a269",
   "metadata": {},
   "outputs": [
    {
     "data": {
      "text/plain": [
       "2-element Vector{Complex{Num}}:\n",
       " -im*β\n",
       "  im*α"
      ]
     },
     "metadata": {},
     "output_type": "display_data"
    },
    {
     "data": {
      "text/latex": [
       "\\begin{equation}\n",
       "\\left[\n",
       "\\begin{array}{c}\n",
       "\\alpha \\\\\n",
       " - \\beta \\\\\n",
       "\\end{array}\n",
       "\\right]\n",
       "\\end{equation}\n"
      ],
      "text/plain": [
       "2-element Vector{Num}:\n",
       "  α\n",
       " -β"
      ]
     },
     "metadata": {},
     "output_type": "display_data"
    }
   ],
   "source": [
    "display(Y * q_cat)\n",
    "display(Z * q_cat)"
   ]
  },
  {
   "cell_type": "markdown",
   "id": "0be036b8-6ca7-4362-93d9-b3c0609d3fed",
   "metadata": {},
   "source": [
    "## 1.3 다중 양자비트 표현 및 연산"
   ]
  },
  {
   "cell_type": "markdown",
   "id": "f1dada75-a8f6-4170-873d-ec07f57aca67",
   "metadata": {},
   "source": [
    "### 다중 양자비트 상태 표현"
   ]
  },
  {
   "cell_type": "code",
   "execution_count": 112,
   "id": "1fd272eb-ea06-44cf-8c7e-a8f6498a3667",
   "metadata": {},
   "outputs": [
    {
     "data": {
      "text/latex": [
       "\\begin{equation}\n",
       "\\left[\n",
       "\\begin{array}{cc}\n",
       "\\alpha{_1} & \\alpha{_2} \\\\\n",
       "\\beta{_1} & \\beta{_2} \\\\\n",
       "\\end{array}\n",
       "\\right]\n",
       "\\end{equation}\n"
      ],
      "text/plain": [
       "2×2 Matrix{Num}:\n",
       " α[1]  α[2]\n",
       " β[1]  β[2]"
      ]
     },
     "execution_count": 112,
     "metadata": {},
     "output_type": "execute_result"
    }
   ],
   "source": [
    "@variables α[1:2] β[1:2]\n",
    "\n",
    "Qubit1 = α[1] * e₀ + β[1] * e₁\n",
    "Qubit2 = α[2] * e₀ + β[2] * e₁\n",
    "Qubits = [Qubit1 Qubit2]"
   ]
  },
  {
   "cell_type": "code",
   "execution_count": 113,
   "id": "e5e10e2f-c6a1-4dd5-b189-a05c11251f90",
   "metadata": {},
   "outputs": [
    {
     "data": {
      "text/latex": [
       "\\begin{equation}\n",
       "\\left[\n",
       "\\begin{array}{c}\n",
       "\\alpha{_1} \\alpha{_2} \\\\\n",
       "\\alpha{_1} \\beta{_2} \\\\\n",
       "\\alpha{_2} \\beta{_1} \\\\\n",
       "\\beta{_1} \\beta{_2} \\\\\n",
       "\\end{array}\n",
       "\\right]\n",
       "\\end{equation}\n"
      ],
      "text/plain": [
       "4-element Vector{Num}:\n",
       " α[1]*α[2]\n",
       " α[1]*β[2]\n",
       " α[2]*β[1]\n",
       " β[1]*β[2]"
      ]
     },
     "execution_count": 113,
     "metadata": {},
     "output_type": "execute_result"
    }
   ],
   "source": [
    "Qubit12_state = kron(Qubit1, Qubit2)"
   ]
  },
  {
   "cell_type": "code",
   "execution_count": 114,
   "id": "381b9812-fabf-4848-9027-d0ba68846d56",
   "metadata": {},
   "outputs": [
    {
     "data": {
      "text/plain": [
       "2×2 Matrix{Float64}:\n",
       " 1.0  0.0\n",
       " 0.0  1.0"
      ]
     },
     "metadata": {},
     "output_type": "display_data"
    },
    {
     "data": {
      "text/plain": [
       "4×4 Matrix{Float64}:\n",
       " 1.0  0.0  0.0  0.0\n",
       " 0.0  1.0  0.0  0.0\n",
       " 0.0  0.0  1.0  0.0\n",
       " 0.0  0.0  0.0  1.0"
      ]
     },
     "metadata": {},
     "output_type": "display_data"
    },
    {
     "data": {
      "text/plain": [
       "true"
      ]
     },
     "execution_count": 114,
     "metadata": {},
     "output_type": "execute_result"
    }
   ],
   "source": [
    "E1 = [e₀ e₁]\n",
    "E2 = [kron(e₀, e₀) kron(e₀, e₁) kron(e₁, e₀) kron(e₁, e₁)] \n",
    "display(E1)\n",
    "display(E2)\n",
    "E2 == kron(E1, E1)"
   ]
  },
  {
   "cell_type": "markdown",
   "id": "16c5528c-d30c-4688-8377-d9f9c9b2ab1f",
   "metadata": {},
   "source": [
    "### 양자 제어반전 연산자"
   ]
  },
  {
   "cell_type": "code",
   "execution_count": 115,
   "id": "1f432d77-9c9e-40ab-aa11-91cc9107f069",
   "metadata": {},
   "outputs": [
    {
     "data": {
      "text/plain": [
       "4×4 Matrix{Float64}:\n",
       " 1.0  0.0  0.0  0.0\n",
       " 0.0  1.0  0.0  0.0\n",
       " 0.0  0.0  0.0  1.0\n",
       " 0.0  0.0  1.0  0.0"
      ]
     },
     "metadata": {},
     "output_type": "display_data"
    },
    {
     "data": {
      "text/plain": [
       "4×4 Matrix{Float64}:\n",
       " 1.0  0.0  0.0  0.0\n",
       " 0.0  1.0  0.0  0.0\n",
       " 0.0  0.0  0.0  1.0\n",
       " 0.0  0.0  1.0  0.0"
      ]
     },
     "metadata": {},
     "output_type": "display_data"
    },
    {
     "data": {
      "text/latex": [
       "\\begin{equation}\n",
       "\\left[\n",
       "\\begin{array}{c}\n",
       "\\alpha{_1} \\alpha{_2} \\\\\n",
       "\\alpha{_1} \\beta{_2} \\\\\n",
       "\\beta{_1} \\beta{_2} \\\\\n",
       "\\alpha{_2} \\beta{_1} \\\\\n",
       "\\end{array}\n",
       "\\right]\n",
       "\\end{equation}\n"
      ],
      "text/plain": [
       "4-element Vector{Num}:\n",
       " α[1]*α[2]\n",
       " α[1]*β[2]\n",
       " β[1]*β[2]\n",
       " α[2]*β[1]"
      ]
     },
     "metadata": {},
     "output_type": "display_data"
    }
   ],
   "source": [
    "CNOT = [1. 0 0 0; 0 1. 0 0; 0 0 0 1.; 0 0 1. 0]\n",
    "display(CNOT)\n",
    "display(CNOT * E2)\n",
    "display(CNOT * Qubit12_state)"
   ]
  },
  {
   "cell_type": "code",
   "execution_count": 116,
   "id": "1fc54102-3570-4f0b-ac32-effba10cfa88",
   "metadata": {},
   "outputs": [
    {
     "data": {
      "text/plain": [
       "4-element Vector{Float64}:\n",
       " 0.0\n",
       " 0.0\n",
       " 0.0\n",
       " 1.0"
      ]
     },
     "metadata": {},
     "output_type": "display_data"
    },
    {
     "data": {
      "text/latex": [
       "\\begin{equation}\n",
       "\\left[\n",
       "\\begin{array}{c}\n",
       "\\alpha{_1} \\alpha{_2} \\\\\n",
       "\\alpha{_1} \\beta{_2} \\\\\n",
       "\\beta{_1} \\beta{_2} \\\\\n",
       "\\alpha{_2} \\beta{_1} \\\\\n",
       "\\end{array}\n",
       "\\right]\n",
       "\\end{equation}\n"
      ],
      "text/plain": [
       "4-element Vector{Num}:\n",
       " α[1]*α[2]\n",
       " α[1]*β[2]\n",
       " β[1]*β[2]\n",
       " α[2]*β[1]"
      ]
     },
     "metadata": {},
     "output_type": "display_data"
    }
   ],
   "source": [
    "function fn_cnot(q1, q2)\n",
    "    CNOT = [1. 0 0 0; 0 1. 0 0; 0 0 0 1.; 0 0 1. 0]\n",
    "    q12 = kron(q1, q2)\n",
    "    return CNOT * q12\n",
    "end\n",
    "\n",
    "display(fn_cnot(e₁, e₀))\n",
    "display(fn_cnot(Qubit1, Qubit2))"
   ]
  },
  {
   "cell_type": "code",
   "execution_count": 117,
   "id": "e12e4883-335a-4d64-865d-cd0be66fc6fd",
   "metadata": {},
   "outputs": [
    {
     "data": {
      "text/plain": [
       "calc_new_q (generic function with 1 method)"
      ]
     },
     "execution_count": 117,
     "metadata": {},
     "output_type": "execute_result"
    }
   ],
   "source": [
    "function calc_new_q(new_state)\n",
    "    f(tmp, d, idx) = expand(substitute(tmp[idx], d))\n",
    "\n",
    "    tmp1 = [sqrt(sum(new_state[1:2].^2)); sqrt(sum(new_state[3:4].^2))]\n",
    "    d1 = Dict([α[2]^2 => 1 - β[2]^2])     \n",
    "    new_q1 = map(k -> f(tmp1, d1, k), [1,2])\n",
    "\n",
    "    tmp2 = [sqrt(sum(new_state[1:2:4].^2)); sqrt(sum(new_state[2:2:4].^2))]\n",
    "    d2 = Dict([α[1]^2 => 1 - β[1]^2])     \n",
    "    new_q2 = map(k -> f(tmp2, d2, k), [1,2])\n",
    "    \n",
    "    [new_q1 new_q2]\n",
    "end"
   ]
  },
  {
   "cell_type": "code",
   "execution_count": 118,
   "id": "69676fcd-c8f4-4383-81f0-e6e2b03a8071",
   "metadata": {},
   "outputs": [
    {
     "data": {
      "text/latex": [
       "\\begin{equation}\n",
       "\\left[\n",
       "\\begin{array}{c}\n",
       "\\sqrt{\\alpha{_1}^{2}} \\\\\n",
       "\\sqrt{\\beta{_1}^{2}} \\\\\n",
       "\\end{array}\n",
       "\\right]\n",
       "\\end{equation}\n"
      ],
      "text/plain": [
       "2-element Vector{Num}:\n",
       " sqrt(α[1]^2)\n",
       " sqrt(β[1]^2)"
      ]
     },
     "metadata": {},
     "output_type": "display_data"
    },
    {
     "data": {
      "text/latex": [
       "\\begin{equation}\n",
       "\\left[\n",
       "\\begin{array}{c}\n",
       "\\sqrt{\\alpha{_2}^{2}} \\\\\n",
       "\\sqrt{\\beta{_2}^{2}} \\\\\n",
       "\\end{array}\n",
       "\\right]\n",
       "\\end{equation}\n"
      ],
      "text/plain": [
       "2-element Vector{Num}:\n",
       " sqrt(α[2]^2)\n",
       " sqrt(β[2]^2)"
      ]
     },
     "metadata": {},
     "output_type": "display_data"
    }
   ],
   "source": [
    "new_Q = calc_new_q(Qubit12_state)\n",
    "display(new_Q[:,1])\n",
    "display(new_Q[:,2])"
   ]
  },
  {
   "cell_type": "code",
   "execution_count": 119,
   "id": "b656e06b-9523-4c86-9a90-eaabc9d7d855",
   "metadata": {},
   "outputs": [
    {
     "data": {
      "text/latex": [
       "\\begin{equation}\n",
       "\\left[\n",
       "\\begin{array}{c}\n",
       "\\sqrt{\\alpha{_1}^{2}} \\\\\n",
       "\\sqrt{\\beta{_1}^{2}} \\\\\n",
       "\\end{array}\n",
       "\\right]\n",
       "\\end{equation}\n"
      ],
      "text/plain": [
       "2-element Vector{Num}:\n",
       " sqrt(α[1]^2)\n",
       " sqrt(β[1]^2)"
      ]
     },
     "metadata": {},
     "output_type": "display_data"
    },
    {
     "data": {
      "text/latex": [
       "\\begin{equation}\n",
       "\\left[\n",
       "\\begin{array}{c}\n",
       "\\sqrt{\\beta{_2}^{2} \\beta{_1}^{2} + \\alpha{_2}^{2} - \\beta{_1}^{2} \\alpha{_2}^{2}} \\\\\n",
       "\\sqrt{\\beta{_1}^{2} \\alpha{_2}^{2} + \\beta{_2}^{2} - \\beta{_2}^{2} \\beta{_1}^{2}} \\\\\n",
       "\\end{array}\n",
       "\\right]\n",
       "\\end{equation}\n"
      ],
      "text/plain": [
       "2-element Vector{Num}:\n",
       " sqrt((β[1]^2)*(β[2]^2) + α[2]^2 - (α[2]^2)*(β[1]^2))\n",
       " sqrt((α[2]^2)*(β[1]^2) + β[2]^2 - (β[1]^2)*(β[2]^2))"
      ]
     },
     "metadata": {},
     "output_type": "display_data"
    }
   ],
   "source": [
    "new_state = CNOT * Qubit12_state\n",
    "new_Q = calc_new_q(new_state)\n",
    "display(new_Q[:,1])\n",
    "display(new_Q[:,2])"
   ]
  },
  {
   "cell_type": "code",
   "execution_count": null,
   "id": "36d57693-425b-4d28-90dd-0e408f8ad53a",
   "metadata": {},
   "outputs": [],
   "source": []
  }
 ],
 "metadata": {
  "kernelspec": {
   "display_name": "Julia 1.7.0",
   "language": "julia",
   "name": "julia-1.7"
  },
  "language_info": {
   "file_extension": ".jl",
   "mimetype": "application/julia",
   "name": "julia",
   "version": "1.7.0"
  }
 },
 "nbformat": 4,
 "nbformat_minor": 5
}
