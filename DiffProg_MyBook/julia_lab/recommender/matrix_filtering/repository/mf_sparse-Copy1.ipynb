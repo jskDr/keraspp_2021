{
 "cells": [
  {
   "cell_type": "markdown",
   "id": "e6a41e3d-2bfd-4aa3-b2a1-2d774c2eed9c",
   "metadata": {},
   "source": [
    "# Matrix Factorization\n",
    "- $A = P Q$"
   ]
  },
  {
   "cell_type": "code",
   "execution_count": 5,
   "id": "03749ad5-77a6-452f-a30c-809590f6b931",
   "metadata": {},
   "outputs": [],
   "source": [
    "using Random\n",
    "using Zygote\n",
    "using Plots\n",
    "using SparseArrays"
   ]
  },
  {
   "cell_type": "code",
   "execution_count": 8,
   "id": "db0f2643-7830-4e63-94e9-4925cfefe2f3",
   "metadata": {},
   "outputs": [
    {
     "data": {
      "text/plain": [
       "train_sp (generic function with 3 methods)"
      ]
     },
     "execution_count": 8,
     "metadata": {},
     "output_type": "execute_result"
    }
   ],
   "source": [
    "#function cost(P, Q, A)\n",
    "#    M, N = size(A)\n",
    "#    # D = size(P)[2]\n",
    "#    sum((A - P*Q).^2)/(M*N)\n",
    "#end\n",
    "\n",
    "function cost_sp(P, Q, MNA)\n",
    "    M_vec, N_vec, A_vec = A\n",
    "    L = length(A_vec)\n",
    "    J = 0.0\n",
    "    for l in 1:L\n",
    "        m, n, a = M_vec[l], N_vec[l], A_vec[l]\n",
    "        J += (a - P[m,:]' * Q[:,n])^2\n",
    "    end\n",
    "    J / L    \n",
    "end\n",
    "\n",
    "dcost_sp_P(P,Q,MNA) = gradient(x -> cost_sp(x,Q,MNA), P)\n",
    "dcost_sp_Q(P,Q,MNA) = gradient(x -> cost_sp(P,x,MNA), Q)\n",
    "\n",
    "function update_sp(P, Q, MNA, N_epoch=100)\n",
    "    J_a = zeros(Float32, N_epoch)\n",
    "    J = cost_sp(P, Q, MNA)\n",
    "    for i in 1:N_epoch\n",
    "        dP = dcost_sp_P(P,Q,MNA)[1]\n",
    "        P -= μ * dP\n",
    "        dQ = dcost_sp_Q(P,Q,MNA)[1]\n",
    "        Q -= μ * dQ\n",
    "        J = cost(P,Q,A)\n",
    "        J_a[i] = J\n",
    "    end\n",
    "    P, Q, J_a\n",
    "end\n",
    "\n",
    "function train_sp(A_sp, D_featrues, N_epoch=100, μ=0.1)\n",
    "    M_vec, N_vec, A_vec = findnz(A_sp)\n",
    "    MNA = (M_vec, N_vec, A_vec)\n",
    "    \n",
    "    M, N = size(A_sp)\n",
    "    τ = 0.01\n",
    "    P = rand(Float32, M, D_featrues) * τ\n",
    "    Q = rand(Float32, D_featrues, N) * τ    \n",
    "    \n",
    "    update_sp(P, Q, MNA, N_epoch)\n",
    "end"
   ]
  },
  {
   "cell_type": "code",
   "execution_count": null,
   "id": "a32f740b-da82-4697-bc78-c8e30f8eb4f8",
   "metadata": {},
   "outputs": [],
   "source": [
    "M, N, L = 4, 4, 10\n",
    "A_sp = sparse(rand(1:M,L), rand(1:N,L), rand(Float32,L), M, N)\n",
    "train_sp(A_sp, 2)"
   ]
  },
  {
   "cell_type": "code",
   "execution_count": 270,
   "id": "c8809059-724b-4910-b297-8f53be0710ca",
   "metadata": {},
   "outputs": [
    {
     "data": {
      "text/plain": [
       "([1, 2, 3, 4, 1, 3, 4], [1, 1, 1, 1, 2, 2, 3], Float32[0.33405036, 1.6304829, 1.4756708, 0.59272987, 0.6740594, 0.97151804, 0.6975906])"
      ]
     },
     "execution_count": 270,
     "metadata": {},
     "output_type": "execute_result"
    }
   ],
   "source": [
    "M_vec, N_vec, A_vec = findnz(A_sparse)\n",
    "MNA = (M_vec, N_vec, A_vec)\n",
    "MNA"
   ]
  },
  {
   "cell_type": "code",
   "execution_count": 271,
   "id": "822764b9-4091-4674-921c-a9bebc469c4b",
   "metadata": {},
   "outputs": [
    {
     "ename": "LoadError",
     "evalue": "MethodError: no method matching size(::Tuple{Vector{Int64}, Vector{Int64}, Vector{Float32}})\n\u001b[0mClosest candidates are:\n\u001b[0m  size(::Tuple, \u001b[91m::Integer\u001b[39m) at /opt/julia-1.7.0/share/julia/base/tuple.jl:27\n\u001b[0m  size(\u001b[91m::Union{LinearAlgebra.QR, LinearAlgebra.QRCompactWY, LinearAlgebra.QRPivoted}\u001b[39m) at /opt/julia-1.7.0/share/julia/stdlib/v1.7/LinearAlgebra/src/qr.jl:567\n\u001b[0m  size(\u001b[91m::Union{LinearAlgebra.QR, LinearAlgebra.QRCompactWY, LinearAlgebra.QRPivoted}\u001b[39m, \u001b[91m::Integer\u001b[39m) at /opt/julia-1.7.0/share/julia/stdlib/v1.7/LinearAlgebra/src/qr.jl:566\n\u001b[0m  ...",
     "output_type": "error",
     "traceback": [
      "MethodError: no method matching size(::Tuple{Vector{Int64}, Vector{Int64}, Vector{Float32}})\n\u001b[0mClosest candidates are:\n\u001b[0m  size(::Tuple, \u001b[91m::Integer\u001b[39m) at /opt/julia-1.7.0/share/julia/base/tuple.jl:27\n\u001b[0m  size(\u001b[91m::Union{LinearAlgebra.QR, LinearAlgebra.QRCompactWY, LinearAlgebra.QRPivoted}\u001b[39m) at /opt/julia-1.7.0/share/julia/stdlib/v1.7/LinearAlgebra/src/qr.jl:567\n\u001b[0m  size(\u001b[91m::Union{LinearAlgebra.QR, LinearAlgebra.QRCompactWY, LinearAlgebra.QRPivoted}\u001b[39m, \u001b[91m::Integer\u001b[39m) at /opt/julia-1.7.0/share/julia/stdlib/v1.7/LinearAlgebra/src/qr.jl:566\n\u001b[0m  ...",
      "",
      "Stacktrace:",
      " [1] cost(P::Matrix{Float64}, Q::Matrix{Float64}, A::Tuple{Vector{Int64}, Vector{Int64}, Vector{Float32}})",
      "   @ Main ./In[268]:2",
      " [2] update_sp(P::Matrix{Float64}, Q::Matrix{Float64}, MNA::Tuple{Vector{Int64}, Vector{Int64}, Vector{Float32}}, N_epoch::Int64)",
      "   @ Main ./In[268]:23",
      " [3] top-level scope",
      "   @ In[271]:9",
      " [4] eval",
      "   @ ./boot.jl:373 [inlined]",
      " [5] include_string(mapexpr::typeof(REPL.softscope), mod::Module, code::String, filename::String)",
      "   @ Base ./loading.jl:1196"
     ]
    }
   ],
   "source": [
    "M_vec, N_vec, A_vec = findnz(A_sparse)\n",
    "MNA = (M_vec, N_vec, A_vec)\n",
    "\n",
    "M, N = size(A_sp)\n",
    "τ = 0.01\n",
    "P = rand(Float32, M, D_featrues) * τ\n",
    "Q = rand(Float32, D_featrues, N) * τ    \n",
    "\n",
    "update_sp(P, Q, MNA, N_epoch)"
   ]
  },
  {
   "cell_type": "code",
   "execution_count": null,
   "id": "819471dc-5702-4967-8820-780e8272e8f0",
   "metadata": {},
   "outputs": [],
   "source": []
  }
 ],
 "metadata": {
  "kernelspec": {
   "display_name": "Julia 1.7.0",
   "language": "julia",
   "name": "julia-1.7"
  },
  "language_info": {
   "file_extension": ".jl",
   "mimetype": "application/julia",
   "name": "julia",
   "version": "1.7.0"
  }
 },
 "nbformat": 4,
 "nbformat_minor": 5
}
