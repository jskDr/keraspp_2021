{
 "cells": [
  {
   "cell_type": "code",
   "execution_count": 1,
   "id": "b313d908-1fe0-45be-8737-c13d10ec509e",
   "metadata": {},
   "outputs": [],
   "source": [
    "using SymbolicUtils"
   ]
  },
  {
   "cell_type": "code",
   "execution_count": 2,
   "id": "82f826c3-44c5-4f7b-86cf-87f3b232475f",
   "metadata": {},
   "outputs": [
    {
     "data": {
      "text/plain": [
       "true"
      ]
     },
     "execution_count": 2,
     "metadata": {},
     "output_type": "execute_result"
    }
   ],
   "source": [
    "SymbolicUtils.show_simplified[] = true"
   ]
  },
  {
   "cell_type": "code",
   "execution_count": 3,
   "id": "eee570c6-fe12-4863-b278-654be1c464a4",
   "metadata": {},
   "outputs": [
    {
     "data": {
      "text/plain": [
       "(x, y, z, f)"
      ]
     },
     "execution_count": 3,
     "metadata": {},
     "output_type": "execute_result"
    }
   ],
   "source": [
    "@syms x::Real y::Real z::Complex f(::Number)::Real"
   ]
  },
  {
   "cell_type": "code",
   "execution_count": 4,
   "id": "ad60794a-bdcb-4cfd-896c-9aba5da945af",
   "metadata": {},
   "outputs": [
    {
     "data": {
      "text/plain": [
       "3(x^2) - y"
      ]
     },
     "execution_count": 4,
     "metadata": {},
     "output_type": "execute_result"
    }
   ],
   "source": [
    "2x^2 - y + x^2"
   ]
  },
  {
   "cell_type": "code",
   "execution_count": 5,
   "id": "f0861ca7-c10c-4f56-9be8-1009ba940c19",
   "metadata": {},
   "outputs": [
    {
     "data": {
      "text/plain": [
       "z + f(1)"
      ]
     },
     "execution_count": 5,
     "metadata": {},
     "output_type": "execute_result"
    }
   ],
   "source": [
    "f(sin(x)^2 + cos(x)^2) + z"
   ]
  },
  {
   "cell_type": "code",
   "execution_count": 6,
   "id": "9303b72a-b4a0-4db7-a17a-42189356216a",
   "metadata": {},
   "outputs": [
    {
     "data": {
      "text/plain": [
       "sinh(im * ~x) => sin(~x)"
      ]
     },
     "execution_count": 6,
     "metadata": {},
     "output_type": "execute_result"
    }
   ],
   "source": [
    "r = @rule sinh(im * ~x) => sin(~x)"
   ]
  },
  {
   "cell_type": "code",
   "execution_count": 7,
   "id": "0758c6d8-227d-406d-a12e-9ce6a2eee9c2",
   "metadata": {},
   "outputs": [
    {
     "data": {
      "text/plain": [
       "sin(y)"
      ]
     },
     "execution_count": 7,
     "metadata": {},
     "output_type": "execute_result"
    }
   ],
   "source": [
    "r(sinh(im*y))"
   ]
  },
  {
   "cell_type": "code",
   "execution_count": 8,
   "id": "f3ca9873-95a3-4f48-b22c-8e470d0c8357",
   "metadata": {},
   "outputs": [
    {
     "data": {
      "text/plain": [
       "1"
      ]
     },
     "execution_count": 8,
     "metadata": {},
     "output_type": "execute_result"
    }
   ],
   "source": [
    "simplify(cos(y)^2 + sinh(im*y)^2, RuleSet([r]))"
   ]
  },
  {
   "cell_type": "code",
   "execution_count": null,
   "id": "2cb3d09c-c8b3-4881-8252-1f3b94b56f89",
   "metadata": {},
   "outputs": [],
   "source": []
  }
 ],
 "metadata": {
  "kernelspec": {
   "display_name": "Julia 1.7.0",
   "language": "julia",
   "name": "julia-1.7"
  },
  "language_info": {
   "file_extension": ".jl",
   "mimetype": "application/julia",
   "name": "julia",
   "version": "1.7.0"
  }
 },
 "nbformat": 4,
 "nbformat_minor": 5
}
