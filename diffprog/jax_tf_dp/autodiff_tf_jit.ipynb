{
 "cells": [
  {
   "cell_type": "code",
   "execution_count": 1,
   "id": "1bef7a7c-408c-42dd-92c0-29012df961a7",
   "metadata": {},
   "outputs": [
    {
     "data": {
      "text/plain": [
       "'2.4.1'"
      ]
     },
     "execution_count": 1,
     "metadata": {},
     "output_type": "execute_result"
    }
   ],
   "source": [
    "import numpy as np\n",
    "import tensorflow as tf\n",
    "tf.__version__"
   ]
  },
  {
   "cell_type": "code",
   "execution_count": 22,
   "id": "4150466e-6ed8-4127-aca6-6cef7bc978c2",
   "metadata": {},
   "outputs": [
    {
     "name": "stdout",
     "output_type": "stream",
     "text": [
      "f(x,10) = 2^10 =  1024.0\n",
      "Theory: df(x,10)/dx = 10 x 2^9 =  5120.0\n",
      "AD: df(x,10) =  tf.Tensor(5120.0, shape=(), dtype=float32)\n"
     ]
    }
   ],
   "source": [
    "f = lambda x, n: x**n \n",
    "df_th = lambda x, n: n*f(x,n-1)\n",
    "\n",
    "def df_ad(x, n):\n",
    "    x_tf = tf.Variable(x)\n",
    "    with tf.GradientTape() as tape:\n",
    "        y = f(x_tf,n)\n",
    "    return tape.gradient(y, x_tf)\n",
    "\n",
    "x = float(2.0)\n",
    "print(\"f(x,10) = 2^10 = \", f(x,10))\n",
    "print(\"Theory: df(x,10)/dx = 10 x 2^9 = \", df_th(x,10))\n",
    "print(\"AD: df(x,10) = \", df_ad(x,10))"
   ]
  },
  {
   "cell_type": "code",
   "execution_count": 23,
   "id": "6f08549b-c44f-4bea-a526-2864cec95244",
   "metadata": {},
   "outputs": [
    {
     "name": "stdout",
     "output_type": "stream",
     "text": [
      "CPU times: user 519 ms, sys: 0 ns, total: 519 ms\n",
      "Wall time: 517 ms\n"
     ]
    }
   ],
   "source": [
    "x_all = np.random.randn(1000)\n",
    "%time y_all = list(map(lambda x: df_ad(x,10), x_all))"
   ]
  }
 ],
 "metadata": {
  "kernelspec": {
   "display_name": "jax",
   "language": "python",
   "name": "jax"
  },
  "language_info": {
   "codemirror_mode": {
    "name": "ipython",
    "version": 3
   },
   "file_extension": ".py",
   "mimetype": "text/x-python",
   "name": "python",
   "nbconvert_exporter": "python",
   "pygments_lexer": "ipython3",
   "version": "3.9.7"
  }
 },
 "nbformat": 4,
 "nbformat_minor": 5
}
