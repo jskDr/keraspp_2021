{
 "cells": [
  {
   "cell_type": "markdown",
   "id": "0b37326c-c694-43b2-94cd-494b73741bc1",
   "metadata": {},
   "source": [
    "# AutoDiff for a program by JAX with grad(f,argnums)"
   ]
  },
  {
   "cell_type": "code",
   "execution_count": 1,
   "id": "4863f1eb-c2f4-432b-9a44-70824502060b",
   "metadata": {},
   "outputs": [
    {
     "name": "stdout",
     "output_type": "stream",
     "text": [
      "0.2.26\n"
     ]
    }
   ],
   "source": [
    "# JAX\n",
    "from jax import grad\n",
    "import jax.numpy as jnp\n",
    "import jax\n",
    "print(jax.__version__)\n",
    "# Common\n",
    "import numpy as np"
   ]
  },
  {
   "cell_type": "markdown",
   "id": "6f71603f-7192-4efb-9f46-328cbbdcd3e4",
   "metadata": {},
   "source": [
    "## JAX without JIT"
   ]
  },
  {
   "cell_type": "code",
   "execution_count": 2,
   "id": "b99ee0bf-56bc-45e5-871a-43e85eec9892",
   "metadata": {},
   "outputs": [
    {
     "name": "stderr",
     "output_type": "stream",
     "text": [
      "WARNING:absl:No GPU/TPU found, falling back to CPU. (Set TF_CPP_MIN_LOG_LEVEL=0 and rerun for more info.)\n"
     ]
    },
    {
     "name": "stdout",
     "output_type": "stream",
     "text": [
      "f(x,10) = 2^10 =  1024.0\n",
      "Theory: df(x,10)/dx = 10 x 2^9 =  5120.0\n",
      "AD: df(x,10) =  5120.0\n"
     ]
    }
   ],
   "source": [
    "def f(x:float,n:int): \n",
    "    r = 1\n",
    "    for m in range(n):\n",
    "        r *= x\n",
    "    return r\n",
    "dfdx_th = lambda x, n: n*f(x,n-1)\n",
    "dfdx_ad = grad(f,argnums=0)\n",
    "    \n",
    "x = float(2.0)\n",
    "print(\"f(x,10) = 2^10 = \", f(x,10))\n",
    "print(\"Theory: df(x,10)/dx = 10 x 2^9 = \", dfdx_th(x,10))\n",
    "print(\"AD: df(x,10) = \", dfdx_ad(x,10))"
   ]
  },
  {
   "cell_type": "code",
   "execution_count": 3,
   "id": "03287f0d-ea85-47d1-b767-48e16aa31b78",
   "metadata": {},
   "outputs": [
    {
     "name": "stdout",
     "output_type": "stream",
     "text": [
      "CPU times: user 8.16 s, sys: 18.1 ms, total: 8.18 s\n",
      "Wall time: 8.17 s\n"
     ]
    }
   ],
   "source": [
    "x_all = np.random.randn(1000)\n",
    "%time y_all = list(map(lambda x: dfdx_ad(x,10), x_all))"
   ]
  },
  {
   "cell_type": "code",
   "execution_count": 4,
   "id": "e72d717e-02b6-4431-a646-0ba2e24fe7a5",
   "metadata": {},
   "outputs": [
    {
     "data": {
      "text/plain": [
       "'16.360078277886497'"
      ]
     },
     "execution_count": 4,
     "metadata": {},
     "output_type": "execute_result"
    }
   ],
   "source": [
    "f\"{8360 / 511}\""
   ]
  },
  {
   "cell_type": "markdown",
   "id": "2de5b136-ec57-48d2-b37c-9df6b6ba6ed0",
   "metadata": {},
   "source": [
    "## JAX with JIT"
   ]
  },
  {
   "cell_type": "code",
   "execution_count": 5,
   "id": "8001c2aa-75a0-450c-a0f1-98798be16e4a",
   "metadata": {},
   "outputs": [],
   "source": [
    "from jax import jit"
   ]
  },
  {
   "cell_type": "code",
   "execution_count": 6,
   "id": "d5f4342b-0173-4788-8f3c-49a91eea95a0",
   "metadata": {},
   "outputs": [
    {
     "name": "stdout",
     "output_type": "stream",
     "text": [
      "f(x,10) = 2^10 =  1024.0\n",
      "Theory: df/dx (x,10) = 10 x 2^9 =  5120.0\n",
      "Theory_jit: df/dx (x,10) = 10 x 2^9 =  5120.0\n",
      "AD: df/dx (x,10) =  5120.0\n",
      "AD_jit: df/dx (x,10) =  5120.0\n"
     ]
    }
   ],
   "source": [
    "def f(x,n): \n",
    "    r = 1\n",
    "    for m in range(n):\n",
    "        r *= x\n",
    "    return r\n",
    "dfdx_th = lambda x, n: n*f(x,n-1)\n",
    "dfdx_ad = grad(f,argnums=0)\n",
    "\"\"\"\n",
    "An optional int or collection of ints that specify \n",
    "which positional arguments to treat as static (compile-time constant). \n",
    "Operations that only depend on static arguments will be constant-folded in Python (during tracing), \n",
    "and so the corresponding argument values can be any Python object.\n",
    "\"\"\"\n",
    "dfdx_th_jit = jit(dfdx_th, static_argnums=1)\n",
    "dfdx_ad_jit = jit(dfdx_ad, static_argnums=1)\n",
    "\n",
    "x = float(2.0)\n",
    "n = 10\n",
    "print(\"f(x,10) = 2^10 = \", f(x,n))\n",
    "print(\"Theory: df/dx (x,10) = 10 x 2^9 = \", dfdx_th(x,n))\n",
    "print(\"Theory_jit: df/dx (x,10) = 10 x 2^9 = \", dfdx_th_jit(x,n))\n",
    "print(\"AD: df/dx (x,10) = \", dfdx_ad(x,n))\n",
    "print(\"AD_jit: df/dx (x,10) = \", dfdx_ad_jit(x,n))"
   ]
  },
  {
   "cell_type": "code",
   "execution_count": 7,
   "id": "1a1de741-dec1-46d3-8995-d1b13390554e",
   "metadata": {},
   "outputs": [
    {
     "name": "stdout",
     "output_type": "stream",
     "text": [
      "CPU times: user 4.66 ms, sys: 0 ns, total: 4.66 ms\n",
      "Wall time: 4.63 ms\n",
      "CPU times: user 27.2 ms, sys: 330 µs, total: 27.6 ms\n",
      "Wall time: 24.3 ms\n",
      "CPU times: user 7.83 s, sys: 14.5 ms, total: 7.85 s\n",
      "Wall time: 7.83 s\n",
      "CPU times: user 42 ms, sys: 105 µs, total: 42.1 ms\n",
      "Wall time: 41.2 ms\n"
     ]
    }
   ],
   "source": [
    "x_all = np.random.randn(1000) # 1,000\n",
    "n = 10\n",
    "%time y_all = list(map(lambda x: dfdx_th(x,n), x_all))\n",
    "%time y_all = list(map(lambda x: dfdx_th_jit(x,n), x_all))\n",
    "%time y_all = list(map(lambda x: dfdx_ad(x,n), x_all))\n",
    "%time y_all = list(map(lambda x: dfdx_ad_jit(x,n), x_all))"
   ]
  },
  {
   "cell_type": "code",
   "execution_count": 8,
   "id": "66f35543-e1be-4a85-8833-3aef9f45318a",
   "metadata": {},
   "outputs": [
    {
     "name": "stdout",
     "output_type": "stream",
     "text": [
      "Speed up from JAX without JIT by Jax-JIT: 183.45 times faster\n",
      "Speed up from Tensorflow 2.4.1 by Jax-JIT: 12.25 times faster\n"
     ]
    }
   ],
   "source": [
    "print(f\"Speed up from JAX without JIT by Jax-JIT: {7650 / 41.7:.2f} times faster\")\n",
    "print(f\"Speed up from Tensorflow 2.4.1 by Jax-JIT: {511 / 41.7:.2f} times faster\")"
   ]
  },
  {
   "cell_type": "markdown",
   "id": "6c53b80e-ad32-4949-8866-f1a3f3026c96",
   "metadata": {},
   "source": [
    "## vmap"
   ]
  },
  {
   "cell_type": "code",
   "execution_count": 9,
   "id": "bb40071c-3a6e-49e8-a9e0-fe9091aeae65",
   "metadata": {},
   "outputs": [],
   "source": [
    "from jax import vmap"
   ]
  },
  {
   "cell_type": "code",
   "execution_count": 10,
   "id": "72465ba9-0fc4-4ff8-b041-20f3f6f1d49f",
   "metadata": {},
   "outputs": [],
   "source": [
    "#f = lambda x: x** 10\n",
    "vdfdx_ad = vmap(dfdx_ad, (0,None))\n",
    "vdfdx_ad_jit = vmap(dfdx_ad_jit, (0,None))"
   ]
  },
  {
   "cell_type": "markdown",
   "id": "6c06c9dc-fe86-4263-a2a7-2376f76b742f",
   "metadata": {},
   "source": [
    "### len(x_all) = 1000"
   ]
  },
  {
   "cell_type": "code",
   "execution_count": 11,
   "id": "4ac3e69f-e5ec-4026-b820-0fc747d3fa90",
   "metadata": {},
   "outputs": [
    {
     "name": "stdout",
     "output_type": "stream",
     "text": [
      "CPU times: user 8.49 s, sys: 8.79 ms, total: 8.5 s\n",
      "Wall time: 8.49 s\n",
      "CPU times: user 5.31 ms, sys: 0 ns, total: 5.31 ms\n",
      "Wall time: 4.99 ms\n",
      "CPU times: user 143 ms, sys: 0 ns, total: 143 ms\n",
      "Wall time: 140 ms\n",
      "CPU times: user 39.3 ms, sys: 19.6 ms, total: 58.9 ms\n",
      "Wall time: 57.5 ms\n"
     ]
    }
   ],
   "source": [
    "x_all = np.random.randn(1000) # 1,000\n",
    "n = 10\n",
    "%time y_all = list(map(lambda x: dfdx_ad(x, n), x_all))\n",
    "%time y_all = list(map(lambda x: dfdx_ad_jit(x, n), x_all))\n",
    "%time y_all = vdfdx_ad(x_all, n)\n",
    "%time y_all = vdfdx_ad_jit(x_all, n)"
   ]
  },
  {
   "cell_type": "markdown",
   "id": "bbc008dd-fd15-4e62-af75-9251a96d3243",
   "metadata": {},
   "source": [
    "### len(x_all) = 1,000,000"
   ]
  },
  {
   "cell_type": "code",
   "execution_count": 12,
   "id": "0713428e-90e1-4855-a8b8-aeeb8a32e5f5",
   "metadata": {},
   "outputs": [
    {
     "name": "stdout",
     "output_type": "stream",
     "text": [
      "CPU times: user 3.52 s, sys: 942 ms, total: 4.47 s\n",
      "Wall time: 4.47 s\n",
      "CPU times: user 1.11 s, sys: 73 ms, total: 1.19 s\n",
      "Wall time: 1.11 s\n",
      "CPU times: user 135 ms, sys: 313 µs, total: 136 ms\n",
      "Wall time: 132 ms\n",
      "CPU times: user 5.19 ms, sys: 0 ns, total: 5.19 ms\n",
      "Wall time: 2.7 ms\n"
     ]
    }
   ],
   "source": [
    "x_all = np.random.randn(1000000) # 1,000,000\n",
    "n = 10\n",
    "%time y_all = list(map(lambda x: dfdx_ad_jit(x,n), x_all))\n",
    "%time y_all = vdfdx_ad(x_all,n)\n",
    "%time y_all = vdfdx_ad_jit(x_all,n)\n",
    "\n",
    "x_all = np.random.randn(1000000) # 1,000,000\n",
    "%time y_all = vdfdx_ad_jit(x_all,n)"
   ]
  },
  {
   "cell_type": "code",
   "execution_count": 83,
   "id": "50df6d93-09c3-460b-9343-71eb6abfeb90",
   "metadata": {},
   "outputs": [
    {
     "name": "stdout",
     "output_type": "stream",
     "text": [
      "CPU times: user 603 ms, sys: 0 ns, total: 603 ms\n",
      "Wall time: 202 ms\n"
     ]
    },
    {
     "data": {
      "text/plain": [
       "100000000"
      ]
     },
     "execution_count": 83,
     "metadata": {},
     "output_type": "execute_result"
    }
   ],
   "source": [
    "x_all = np.random.randn(100000000) # 100,000,000\n",
    "%time y_all = vdfdx_ad_jit(x_all, n)\n",
    "len(y_all)"
   ]
  },
  {
   "cell_type": "code",
   "execution_count": 84,
   "id": "9ecd4af4-4602-48fc-b6e5-39f92922ceb7",
   "metadata": {},
   "outputs": [
    {
     "name": "stdout",
     "output_type": "stream",
     "text": [
      "183 ms ± 10.1 ms per loop (mean ± std. dev. of 3 runs, 10 loops each)\n"
     ]
    }
   ],
   "source": [
    "x_all = np.random.randn(100000000) # 100,000,000\n",
    "%timeit -n10 -r3 y_all = vdfdx_ad_jit(x_all,n)"
   ]
  },
  {
   "cell_type": "code",
   "execution_count": null,
   "id": "4533f550-443d-4318-baa7-2c870a97ada6",
   "metadata": {},
   "outputs": [],
   "source": []
  }
 ],
 "metadata": {
  "kernelspec": {
   "display_name": "jax",
   "language": "python",
   "name": "jax"
  },
  "language_info": {
   "codemirror_mode": {
    "name": "ipython",
    "version": 3
   },
   "file_extension": ".py",
   "mimetype": "text/x-python",
   "name": "python",
   "nbconvert_exporter": "python",
   "pygments_lexer": "ipython3",
   "version": "3.9.7"
  }
 },
 "nbformat": 4,
 "nbformat_minor": 5
}
