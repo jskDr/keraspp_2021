{
 "cells": [
  {
   "cell_type": "markdown",
   "id": "0b37326c-c694-43b2-94cd-494b73741bc1",
   "metadata": {},
   "source": [
    "# AutoDiff for a program by JAX"
   ]
  },
  {
   "cell_type": "code",
   "execution_count": 1,
   "id": "4863f1eb-c2f4-432b-9a44-70824502060b",
   "metadata": {},
   "outputs": [
    {
     "name": "stdout",
     "output_type": "stream",
     "text": [
      "0.2.26\n"
     ]
    }
   ],
   "source": [
    "# JAX\n",
    "from jax import grad\n",
    "import jax.numpy as jnp\n",
    "import jax\n",
    "print(jax.__version__)\n",
    "# Common\n",
    "import numpy as np"
   ]
  },
  {
   "cell_type": "markdown",
   "id": "6f71603f-7192-4efb-9f46-328cbbdcd3e4",
   "metadata": {},
   "source": [
    "## JAX without JIT"
   ]
  },
  {
   "cell_type": "code",
   "execution_count": 2,
   "id": "b99ee0bf-56bc-45e5-871a-43e85eec9892",
   "metadata": {},
   "outputs": [
    {
     "name": "stderr",
     "output_type": "stream",
     "text": [
      "WARNING:absl:No GPU/TPU found, falling back to CPU. (Set TF_CPP_MIN_LOG_LEVEL=0 and rerun for more info.)\n"
     ]
    },
    {
     "name": "stdout",
     "output_type": "stream",
     "text": [
      "f(x,10) = 2^10 =  1024.0\n",
      "Theory: df(x,10)/dx = 10 x 2^9 =  5120.0\n",
      "AD: df(x,10) =  5120.0\n"
     ]
    }
   ],
   "source": [
    "def fn(x,n): \n",
    "    r = 1\n",
    "    for m in range(n):\n",
    "        r *= x\n",
    "    return r\n",
    "dfn_th = lambda x, n: n*fn(x,n-1)\n",
    "dfn_ad = grad(fn)\n",
    "    \n",
    "x = float(2.0)\n",
    "print(\"f(x,10) = 2^10 = \", fn(x,10))\n",
    "print(\"Theory: df(x,10)/dx = 10 x 2^9 = \", dfn_th(x,10))\n",
    "print(\"AD: df(x,10) = \", dfn_ad(x,10))"
   ]
  },
  {
   "cell_type": "code",
   "execution_count": 3,
   "id": "03287f0d-ea85-47d1-b767-48e16aa31b78",
   "metadata": {},
   "outputs": [
    {
     "name": "stdout",
     "output_type": "stream",
     "text": [
      "CPU times: user 8.15 s, sys: 26.2 ms, total: 8.18 s\n",
      "Wall time: 8.17 s\n"
     ]
    }
   ],
   "source": [
    "x_all = np.random.randn(1000)\n",
    "%time y_all = list(map(lambda x: dfn_ad(x,10), x_all))"
   ]
  },
  {
   "cell_type": "code",
   "execution_count": 4,
   "id": "e72d717e-02b6-4431-a646-0ba2e24fe7a5",
   "metadata": {},
   "outputs": [
    {
     "data": {
      "text/plain": [
       "'15.401174168297455'"
      ]
     },
     "execution_count": 4,
     "metadata": {},
     "output_type": "execute_result"
    }
   ],
   "source": [
    "f\"{7870 / 511}\""
   ]
  },
  {
   "cell_type": "markdown",
   "id": "2de5b136-ec57-48d2-b37c-9df6b6ba6ed0",
   "metadata": {},
   "source": [
    "## JAX with JIT"
   ]
  },
  {
   "cell_type": "code",
   "execution_count": 5,
   "id": "8001c2aa-75a0-450c-a0f1-98798be16e4a",
   "metadata": {},
   "outputs": [],
   "source": [
    "from jax import jit"
   ]
  },
  {
   "cell_type": "code",
   "execution_count": 6,
   "id": "2839d065-e638-4ee9-a5cf-f48dd0c38e67",
   "metadata": {},
   "outputs": [],
   "source": [
    "f = lambda x: fn(x, 10)\n",
    "# f = lambda x, n: x**n \n",
    "df_th = lambda x: dfn_th(x, 10)"
   ]
  },
  {
   "cell_type": "code",
   "execution_count": 7,
   "id": "0bb43665-88eb-4bc1-922a-85597aecc896",
   "metadata": {},
   "outputs": [
    {
     "name": "stdout",
     "output_type": "stream",
     "text": [
      "f(x,10) = 2^10 =  1024.0\n",
      "Theory: df(x,10)/dx = 10 x 2^9 =  5120.0\n",
      "AD: df(x,10) =  5120.0\n"
     ]
    }
   ],
   "source": [
    "df_ad = grad(f)    \n",
    "x = float(2.0)\n",
    "print(\"f(x,10) = 2^10 = \", f(x))\n",
    "print(\"Theory: df(x,10)/dx = 10 x 2^9 = \", df_th(x))\n",
    "print(\"AD: df(x,10) = \", df_ad(x))"
   ]
  },
  {
   "cell_type": "code",
   "execution_count": 8,
   "id": "13f588d0-8add-4907-8e28-a12085bd827a",
   "metadata": {},
   "outputs": [
    {
     "name": "stdout",
     "output_type": "stream",
     "text": [
      "CPU times: user 7.89 s, sys: 30.4 ms, total: 7.92 s\n",
      "Wall time: 7.91 s\n",
      "CPU times: user 40.7 ms, sys: 15 µs, total: 40.7 ms\n",
      "Wall time: 39.9 ms\n"
     ]
    }
   ],
   "source": [
    "df_ad_jit = jit(df_ad)\n",
    "\n",
    "x_all = np.random.randn(1000) # 1,000\n",
    "%time y_all = list(map(lambda x: df_ad(x), x_all))\n",
    "%time y_all = list(map(lambda x: df_ad_jit(x), x_all))"
   ]
  },
  {
   "cell_type": "code",
   "execution_count": 9,
   "id": "66f35543-e1be-4a85-8833-3aef9f45318a",
   "metadata": {},
   "outputs": [
    {
     "name": "stdout",
     "output_type": "stream",
     "text": [
      "Speed up from JAX without JIT by Jax-JIT: 183.45 times faster\n",
      "Speed up from Tensorflow 2.4.1 by Jax-JIT: 12.25 times faster\n"
     ]
    }
   ],
   "source": [
    "print(f\"Speed up from JAX without JIT by Jax-JIT: {7650 / 41.7:.2f} times faster\")\n",
    "print(f\"Speed up from Tensorflow 2.4.1 by Jax-JIT: {511 / 41.7:.2f} times faster\")"
   ]
  },
  {
   "cell_type": "markdown",
   "id": "6c53b80e-ad32-4949-8866-f1a3f3026c96",
   "metadata": {},
   "source": [
    "## vmap"
   ]
  },
  {
   "cell_type": "code",
   "execution_count": 10,
   "id": "bb40071c-3a6e-49e8-a9e0-fe9091aeae65",
   "metadata": {},
   "outputs": [],
   "source": [
    "from jax import vmap"
   ]
  },
  {
   "cell_type": "code",
   "execution_count": 11,
   "id": "72465ba9-0fc4-4ff8-b041-20f3f6f1d49f",
   "metadata": {},
   "outputs": [],
   "source": [
    "#f = lambda x: x** 10\n",
    "df_ad = grad(f)\n",
    "df_ad_jit = jit(df_ad)\n",
    "vdf_ad = vmap(df_ad, 0)\n",
    "vdf_ad_jit = vmap(df_ad_jit, 0)"
   ]
  },
  {
   "cell_type": "markdown",
   "id": "6c06c9dc-fe86-4263-a2a7-2376f76b742f",
   "metadata": {},
   "source": [
    "### len(x_all) = 1000"
   ]
  },
  {
   "cell_type": "code",
   "execution_count": 12,
   "id": "4ac3e69f-e5ec-4026-b820-0fc747d3fa90",
   "metadata": {},
   "outputs": [
    {
     "name": "stdout",
     "output_type": "stream",
     "text": [
      "CPU times: user 7.77 s, sys: 59.7 ms, total: 7.83 s\n",
      "Wall time: 7.81 s\n",
      "CPU times: user 41.4 ms, sys: 23 µs, total: 41.4 ms\n",
      "Wall time: 40.6 ms\n",
      "CPU times: user 99 ms, sys: 0 ns, total: 99 ms\n",
      "Wall time: 95.9 ms\n",
      "CPU times: user 47.8 ms, sys: 130 µs, total: 48 ms\n",
      "Wall time: 47.2 ms\n"
     ]
    }
   ],
   "source": [
    "x_all = np.random.randn(1000) # 1,000\n",
    "%time y_all = list(map(lambda x: df_ad(x), x_all))\n",
    "%time y_all = list(map(lambda x: df_ad_jit(x), x_all))\n",
    "%time y_all = vdf_ad(x_all)\n",
    "%time y_all = vdf_ad_jit(x_all)"
   ]
  },
  {
   "cell_type": "markdown",
   "id": "bbc008dd-fd15-4e62-af75-9251a96d3243",
   "metadata": {},
   "source": [
    "### len(x_all) = 1,000,000"
   ]
  },
  {
   "cell_type": "code",
   "execution_count": 13,
   "id": "0713428e-90e1-4855-a8b8-aeeb8a32e5f5",
   "metadata": {},
   "outputs": [
    {
     "name": "stdout",
     "output_type": "stream",
     "text": [
      "CPU times: user 3 s, sys: 710 ms, total: 3.71 s\n",
      "Wall time: 3.71 s\n",
      "CPU times: user 1.4 s, sys: 51.2 ms, total: 1.45 s\n",
      "Wall time: 1.38 s\n",
      "CPU times: user 167 ms, sys: 253 µs, total: 167 ms\n",
      "Wall time: 163 ms\n",
      "CPU times: user 5.34 ms, sys: 0 ns, total: 5.34 ms\n",
      "Wall time: 2.35 ms\n"
     ]
    }
   ],
   "source": [
    "x_all = np.random.randn(1000000) # 1,000,000\n",
    "%time y_all = list(map(lambda x: df_ad_jit(x), x_all))\n",
    "%time y_all = vdf_ad(x_all)\n",
    "%time y_all = vdf_ad_jit(x_all)\n",
    "\n",
    "x_all = np.random.randn(1000000) # 1,000,000\n",
    "%time y_all = vdf_ad_jit(x_all)"
   ]
  },
  {
   "cell_type": "code",
   "execution_count": 14,
   "id": "50df6d93-09c3-460b-9343-71eb6abfeb90",
   "metadata": {},
   "outputs": [
    {
     "name": "stdout",
     "output_type": "stream",
     "text": [
      "CPU times: user 596 ms, sys: 0 ns, total: 596 ms\n",
      "Wall time: 201 ms\n"
     ]
    },
    {
     "data": {
      "text/plain": [
       "100000000"
      ]
     },
     "execution_count": 14,
     "metadata": {},
     "output_type": "execute_result"
    }
   ],
   "source": [
    "x_all = np.random.randn(100000000) # 100,000,000\n",
    "%time y_all = vdf_ad_jit(x_all)\n",
    "len(y_all)"
   ]
  },
  {
   "cell_type": "code",
   "execution_count": 15,
   "id": "9ecd4af4-4602-48fc-b6e5-39f92922ceb7",
   "metadata": {},
   "outputs": [
    {
     "name": "stdout",
     "output_type": "stream",
     "text": [
      "178 ms ± 6.66 ms per loop (mean ± std. dev. of 3 runs, 10 loops each)\n"
     ]
    }
   ],
   "source": [
    "x_all = np.random.randn(100000000) # 100,000,000\n",
    "%timeit -n10 -r3 y_all = vdf_ad_jit(x_all)"
   ]
  },
  {
   "cell_type": "code",
   "execution_count": null,
   "id": "4533f550-443d-4318-baa7-2c870a97ada6",
   "metadata": {},
   "outputs": [],
   "source": []
  }
 ],
 "metadata": {
  "kernelspec": {
   "display_name": "jax",
   "language": "python",
   "name": "jax"
  },
  "language_info": {
   "codemirror_mode": {
    "name": "ipython",
    "version": 3
   },
   "file_extension": ".py",
   "mimetype": "text/x-python",
   "name": "python",
   "nbconvert_exporter": "python",
   "pygments_lexer": "ipython3",
   "version": "3.9.7"
  }
 },
 "nbformat": 4,
 "nbformat_minor": 5
}
