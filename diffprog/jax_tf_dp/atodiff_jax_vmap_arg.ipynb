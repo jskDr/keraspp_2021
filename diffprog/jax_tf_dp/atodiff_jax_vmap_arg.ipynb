{
 "cells": [
  {
   "cell_type": "markdown",
   "id": "0b37326c-c694-43b2-94cd-494b73741bc1",
   "metadata": {},
   "source": [
    "# AutoDiff by JAX"
   ]
  },
  {
   "cell_type": "code",
   "execution_count": 3,
   "id": "4863f1eb-c2f4-432b-9a44-70824502060b",
   "metadata": {},
   "outputs": [
    {
     "name": "stdout",
     "output_type": "stream",
     "text": [
      "0.2.26\n"
     ]
    }
   ],
   "source": [
    "# JAX\n",
    "from jax import grad\n",
    "import jax.numpy as jnp\n",
    "import jax\n",
    "print(jax.__version__)\n",
    "# Common\n",
    "import numpy as np"
   ]
  },
  {
   "cell_type": "markdown",
   "id": "6f71603f-7192-4efb-9f46-328cbbdcd3e4",
   "metadata": {},
   "source": [
    "## JAX without JIT"
   ]
  },
  {
   "cell_type": "code",
   "execution_count": 11,
   "id": "5cd3adeb-8c45-40ea-9f9a-0ebbcaa75da5",
   "metadata": {},
   "outputs": [
    {
     "name": "stdout",
     "output_type": "stream",
     "text": [
      "f(x,10) = 2^10 =  1024.0\n",
      "Theory: df(x,10)/dx = 10 x 2^9 =  5120.0\n",
      "AD: df(x,10) =  5120.0\n"
     ]
    }
   ],
   "source": [
    "f = lambda x, n: x**n \n",
    "dfdx_th = lambda x, n: n*f(x,n-1)\n",
    "\n",
    "dfdx_ad = grad(f, argnums=0) #diff for 0th argument:x (no for 1st argment: n)    \n",
    "x = 2.0\n",
    "print(\"f(x,10) = 2^10 = \", f(x,10))\n",
    "print(\"Theory: df(x,10)/dx = 10 x 2^9 = \", dfdx_th(x,10))\n",
    "print(\"AD: df(x,10) = \", dfdx_ad(x,10))"
   ]
  },
  {
   "cell_type": "code",
   "execution_count": 12,
   "id": "03287f0d-ea85-47d1-b767-48e16aa31b78",
   "metadata": {},
   "outputs": [
    {
     "name": "stdout",
     "output_type": "stream",
     "text": [
      "CPU times: user 1.4 s, sys: 0 ns, total: 1.4 s\n",
      "Wall time: 1.4 s\n"
     ]
    }
   ],
   "source": [
    "x_all = np.random.randn(1000)\n",
    "%time y_all = list(map(lambda x: dfdx_ad(x,10), x_all))"
   ]
  },
  {
   "cell_type": "code",
   "execution_count": 13,
   "id": "e72d717e-02b6-4431-a646-0ba2e24fe7a5",
   "metadata": {},
   "outputs": [
    {
     "data": {
      "text/plain": [
       "'2.954990215264188'"
      ]
     },
     "execution_count": 13,
     "metadata": {},
     "output_type": "execute_result"
    }
   ],
   "source": [
    "f\"{1510 / 511}\""
   ]
  },
  {
   "cell_type": "markdown",
   "id": "2de5b136-ec57-48d2-b37c-9df6b6ba6ed0",
   "metadata": {},
   "source": [
    "## JAX with JIT"
   ]
  },
  {
   "cell_type": "code",
   "execution_count": 6,
   "id": "8001c2aa-75a0-450c-a0f1-98798be16e4a",
   "metadata": {},
   "outputs": [],
   "source": [
    "from jax import jit"
   ]
  },
  {
   "cell_type": "code",
   "execution_count": 17,
   "id": "13f588d0-8add-4907-8e28-a12085bd827a",
   "metadata": {},
   "outputs": [
    {
     "name": "stdout",
     "output_type": "stream",
     "text": [
      "CPU times: user 1.34 s, sys: 3.71 ms, total: 1.35 s\n",
      "Wall time: 1.34 s\n",
      "CPU times: user 23.7 ms, sys: 205 µs, total: 23.9 ms\n",
      "Wall time: 23.2 ms\n"
     ]
    }
   ],
   "source": [
    "f = lambda x, n: x**n \n",
    "dfdx_ad = grad(f, argnums=0)\n",
    "dfdx_ad_jit = jit(dfdx_ad)\n",
    "\n",
    "x_all = np.random.randn(1000) # 1,000\n",
    "%time y_all = list(map(lambda x: dfdx_ad(x,10), x_all))\n",
    "%time y_all = list(map(lambda x: dfdx_ad_jit(x,10), x_all))"
   ]
  },
  {
   "cell_type": "code",
   "execution_count": 18,
   "id": "66f35543-e1be-4a85-8833-3aef9f45318a",
   "metadata": {},
   "outputs": [
    {
     "name": "stdout",
     "output_type": "stream",
     "text": [
      "Speed up from JAX without JIT: 57.76 times faster\n",
      "Speed up from Tensorflow 2.4.1: 22.03 times faster\n"
     ]
    }
   ],
   "source": [
    "print(f\"Speed up from JAX without JIT: {1340 / 23.2:.2f} times faster\")\n",
    "print(f\"Speed up from Tensorflow 2.4.1: {511 / 23.2:.2f} times faster\")"
   ]
  },
  {
   "cell_type": "markdown",
   "id": "6c53b80e-ad32-4949-8866-f1a3f3026c96",
   "metadata": {},
   "source": [
    "## vmap"
   ]
  },
  {
   "cell_type": "code",
   "execution_count": 7,
   "id": "bb40071c-3a6e-49e8-a9e0-fe9091aeae65",
   "metadata": {},
   "outputs": [],
   "source": [
    "from jax import vmap"
   ]
  },
  {
   "cell_type": "code",
   "execution_count": 20,
   "id": "780fee39-1541-4169-ab92-2299ad472a7f",
   "metadata": {},
   "outputs": [],
   "source": [
    "f = lambda x, n: x**n\n",
    "dfdx_ad = grad(f,argnums=0)\n",
    "dfdx_ad_jit = jit(dfdx_ad)\n",
    "vdfdx_ad = vmap(dfdx_ad, (0,None))\n",
    "vdfdx_ad_jit = vmap(dfdx_ad_jit, (0,None))"
   ]
  },
  {
   "cell_type": "markdown",
   "id": "6c06c9dc-fe86-4263-a2a7-2376f76b742f",
   "metadata": {},
   "source": [
    "### len(x_all) = 1000"
   ]
  },
  {
   "cell_type": "code",
   "execution_count": 18,
   "id": "ebb0ea8f-72c7-4c01-837a-b02a246db2ce",
   "metadata": {},
   "outputs": [
    {
     "name": "stdout",
     "output_type": "stream",
     "text": [
      "CPU times: user 1.34 s, sys: 0 ns, total: 1.34 s\n",
      "Wall time: 1.33 s\n",
      "CPU times: user 6 ms, sys: 0 ns, total: 6 ms\n",
      "Wall time: 5.44 ms\n",
      "CPU times: user 3.27 ms, sys: 0 ns, total: 3.27 ms\n",
      "Wall time: 2.98 ms\n",
      "CPU times: user 1.34 ms, sys: 0 ns, total: 1.34 ms\n",
      "Wall time: 1.03 ms\n"
     ]
    }
   ],
   "source": [
    "x_all = np.random.randn(1000) # 1,000\n",
    "%time y_all = list(map(lambda x: dfdx_ad(x,10), x_all))\n",
    "%time y_all = list(map(lambda x: dfdx_ad_jit(x,10), x_all))\n",
    "%time y_all = vdfdx_ad(x_all,10)\n",
    "%time y_all = vdfdx_ad_jit(x_all,10)"
   ]
  },
  {
   "cell_type": "code",
   "execution_count": 21,
   "id": "266d1dec-133c-4a8a-aefe-ff2fe211d173",
   "metadata": {},
   "outputs": [
    {
     "data": {
      "text/plain": [
       "1313.7254901960785"
      ]
     },
     "execution_count": 21,
     "metadata": {},
     "output_type": "execute_result"
    }
   ],
   "source": [
    "1340 / 1.02"
   ]
  },
  {
   "cell_type": "markdown",
   "id": "bbc008dd-fd15-4e62-af75-9251a96d3243",
   "metadata": {},
   "source": [
    "### len(x_all) = 1,000,000"
   ]
  },
  {
   "cell_type": "code",
   "execution_count": 23,
   "id": "0713428e-90e1-4855-a8b8-aeeb8a32e5f5",
   "metadata": {},
   "outputs": [
    {
     "name": "stdout",
     "output_type": "stream",
     "text": [
      "CPU times: user 3.87 s, sys: 98.2 ms, total: 3.96 s\n",
      "Wall time: 3.97 s\n",
      "CPU times: user 848 ms, sys: 58.9 ms, total: 907 ms\n",
      "Wall time: 899 ms\n",
      "CPU times: user 113 ms, sys: 0 ns, total: 113 ms\n",
      "Wall time: 103 ms\n",
      "Re-run to remove compling time in the performance\n",
      "CPU times: user 16 ms, sys: 0 ns, total: 16 ms\n",
      "Wall time: 6.7 ms\n"
     ]
    }
   ],
   "source": [
    "x_all = np.random.randn(1000000) # 1,000,000\n",
    "%time y_all = list(map(lambda x: dfdx_ad_jit(x,10), x_all))\n",
    "%time y_all = vdfdx_ad(x_all, 10)\n",
    "%time y_all = vdfdx_ad_jit(x_all, 10)\n",
    "\n",
    "print(\"Re-run to remove compling time in the performance\")\n",
    "x_all = np.random.randn(1000000) # 1,000,000\n",
    "%time y_all = vdfdx_ad_jit(x_all, 10)"
   ]
  },
  {
   "cell_type": "code",
   "execution_count": 25,
   "id": "50df6d93-09c3-460b-9343-71eb6abfeb90",
   "metadata": {},
   "outputs": [
    {
     "name": "stdout",
     "output_type": "stream",
     "text": [
      "CPU times: user 2.15 s, sys: 0 ns, total: 2.15 s\n",
      "Wall time: 813 ms\n"
     ]
    },
    {
     "data": {
      "text/plain": [
       "100000000"
      ]
     },
     "execution_count": 25,
     "metadata": {},
     "output_type": "execute_result"
    }
   ],
   "source": [
    "x_all = np.random.randn(100000000) # 100,000,000\n",
    "%time y_all = vdfdx_ad_jit(x_all, 10)\n",
    "len(y_all)"
   ]
  },
  {
   "cell_type": "code",
   "execution_count": 27,
   "id": "9ecd4af4-4602-48fc-b6e5-39f92922ceb7",
   "metadata": {},
   "outputs": [
    {
     "name": "stdout",
     "output_type": "stream",
     "text": [
      "724 ms ± 9.55 ms per loop (mean ± std. dev. of 3 runs, 10 loops each)\n"
     ]
    }
   ],
   "source": [
    "x_all = np.random.randn(100000000) # 100,000,000\n",
    "%timeit -n10 -r3 y_all = vdfdx_ad_jit(x_all, 10)"
   ]
  },
  {
   "cell_type": "code",
   "execution_count": null,
   "id": "46807975-a955-42c8-83c3-5d072760deb6",
   "metadata": {},
   "outputs": [],
   "source": []
  }
 ],
 "metadata": {
  "kernelspec": {
   "display_name": "jax",
   "language": "python",
   "name": "jax"
  },
  "language_info": {
   "codemirror_mode": {
    "name": "ipython",
    "version": 3
   },
   "file_extension": ".py",
   "mimetype": "text/x-python",
   "name": "python",
   "nbconvert_exporter": "python",
   "pygments_lexer": "ipython3",
   "version": "3.9.7"
  }
 },
 "nbformat": 4,
 "nbformat_minor": 5
}
