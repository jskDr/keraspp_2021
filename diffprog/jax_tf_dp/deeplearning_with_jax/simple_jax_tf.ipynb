{
 "cells": [
  {
   "cell_type": "markdown",
   "id": "d4d0ab16-140d-4fb1-b74a-f25017cec368",
   "metadata": {},
   "source": [
    "# Tensorflow with J_list (tracking only test loss)"
   ]
  },
  {
   "cell_type": "code",
   "execution_count": 1,
   "id": "b0860edf-82f1-4e88-99d2-7e4354b5eb07",
   "metadata": {},
   "outputs": [],
   "source": [
    "import numpy as np\n",
    "from numpy import random\n",
    "import matplotlib.pyplot as plt\n",
    "import tensorflow as tf"
   ]
  },
  {
   "cell_type": "markdown",
   "id": "ca9af118-455a-4a9f-9b32-bccd9c6d1b17",
   "metadata": {},
   "source": [
    "## Data Preparation"
   ]
  },
  {
   "cell_type": "code",
   "execution_count": 2,
   "id": "3c7bf1ff-0cdb-44dd-83b0-f06743362647",
   "metadata": {},
   "outputs": [],
   "source": [
    "model = lambda x: x * 2.0 + 1.0\n",
    "x_train = np.array([0, 1]).reshape(-1,1)\n",
    "y_train = model(x_train)\n",
    "x_test = np.array([2,3,4]).reshape(-1,1)\n",
    "y_test = model(x_test)"
   ]
  },
  {
   "cell_type": "markdown",
   "id": "dc79133d-ba42-4c74-936e-3df513d1a2fe",
   "metadata": {},
   "source": [
    "## Function Definitinos"
   ]
  },
  {
   "cell_type": "code",
   "execution_count": 3,
   "id": "daf3bf49-6bab-43ae-84af-c49da4fb1ae8",
   "metadata": {},
   "outputs": [
    {
     "name": "stderr",
     "output_type": "stream",
     "text": [
      "2022-01-25 22:32:16.316164: I tensorflow/compiler/jit/xla_cpu_device.cc:41] Not creating XLA devices, tf_xla_enable_xla_devices not set\n",
      "2022-01-25 22:32:16.318452: I tensorflow/core/platform/cpu_feature_guard.cc:142] This TensorFlow binary is optimized with oneAPI Deep Neural Network Library (oneDNN) to use the following CPU instructions in performance-critical operations:  SSE4.1 SSE4.2 AVX AVX2 FMA\n",
      "To enable them in other operations, rebuild TensorFlow with the appropriate compiler flags.\n",
      "2022-01-25 22:32:16.332696: I tensorflow/core/common_runtime/process_util.cc:146] Creating new thread pool with default inter op setting: 2. Tune using inter_op_parallelism_threads for best performance.\n"
     ]
    }
   ],
   "source": [
    "loss_fn = tf.keras.losses.MeanSquaredError()\n",
    "optimizer = tf.keras.optimizers.SGD()\n",
    "# train_loss = tf.keras.metrics.Mean(name='train_loss')\n",
    "test_loss = tf.keras.metrics.Mean(name='test_loss')"
   ]
  },
  {
   "cell_type": "markdown",
   "id": "710d9ac5-8335-4e9d-9304-03b435f34d5a",
   "metadata": {},
   "source": [
    "## Training and Testing"
   ]
  },
  {
   "cell_type": "code",
   "execution_count": 4,
   "id": "9c1116c6-a041-4a91-842d-0ed56d4be9ac",
   "metadata": {},
   "outputs": [],
   "source": [
    "def train_step(x_train, y_train):\n",
    "    with tf.GradientTape() as tape:\n",
    "        pred = wb(x_train)\n",
    "        loss = loss_fn(y_train, pred)\n",
    "    delta_wb = tape.gradient(loss, wb.trainable_variables)\n",
    "    optimizer.apply_gradients(zip(delta_wb, wb.trainable_variables))\n",
    "    # train_loss(loss)"
   ]
  },
  {
   "cell_type": "code",
   "execution_count": 5,
   "id": "db7409ad-75ea-4dc8-a6de-3441c5f2844e",
   "metadata": {},
   "outputs": [
    {
     "data": {
      "text/plain": [
       "([<tf.Tensor: shape=(1, 1), dtype=float32, numpy=array([[0.1]], dtype=float32)>],\n",
       " [<tf.Variable 'Variable:0' shape=(1, 1) dtype=float32, numpy=array([[0.99683774]], dtype=float32)>])"
      ]
     },
     "execution_count": 5,
     "metadata": {},
     "output_type": "execute_result"
    }
   ],
   "source": [
    "## NoteX\n",
    "def testcode_for_optimizer():\n",
    "    optimizer = tf.keras.optimizers.RMSprop(learning_rate=0.001, rho=0.9, momentum=0.0)\n",
    "    W = [tf.Variable([[1.]])]\n",
    "    dw = [tf.constant([[0.1]])]\n",
    "    optimizer.apply_gradients(zip(dw,W))\n",
    "    return dw, W\n",
    "testcode_for_optimizer()"
   ]
  },
  {
   "cell_type": "code",
   "execution_count": 6,
   "id": "38f03d32-75c7-4d04-8c9c-85179009fb0c",
   "metadata": {},
   "outputs": [],
   "source": [
    "def test_step(x_test, y_test):\n",
    "    pred = wb(x_test)\n",
    "    loss = loss_fn(y_test, pred)\n",
    "    test_loss(loss)"
   ]
  },
  {
   "cell_type": "code",
   "execution_count": 7,
   "id": "b64a4562-b823-4b7f-ac04-da9b9e192acc",
   "metadata": {},
   "outputs": [],
   "source": [
    "def train(N_epoch=1000, train_step=train_step, test_step=test_step):\n",
    "    J_dict = {\"train_loss\":np.zeros(N_epoch), \n",
    "              \"test_loss\":np.zeros(N_epoch)}\n",
    "    #train_loss.reset_states() \n",
    "    test_loss.reset_states()    \n",
    "    for e in range(N_epoch):\n",
    "        train_step(x_train, y_train)    \n",
    "        test_step(x_test, y_test)\n",
    "        #J_dict[\"train_loss\"][e] = train_loss.result().numpy()\n",
    "        J_dict[\"test_loss\"][e] = test_loss.result().numpy()\n",
    "    return J_dict"
   ]
  },
  {
   "cell_type": "code",
   "execution_count": 8,
   "id": "9d49ab19-667f-401a-92ec-857bb1aec825",
   "metadata": {},
   "outputs": [],
   "source": [
    "train_step_tf = tf.function(train_step)\n",
    "test_step_tf = tf.function(test_step)"
   ]
  },
  {
   "cell_type": "code",
   "execution_count": 9,
   "id": "0dcce8d6-3a3c-4956-ac56-02bdb1b8efb0",
   "metadata": {},
   "outputs": [
    {
     "name": "stderr",
     "output_type": "stream",
     "text": [
      "2022-01-25 22:32:16.701367: I tensorflow/compiler/mlir/mlir_graph_optimization_pass.cc:116] None of the MLIR optimization passes are enabled (registered 2)\n",
      "2022-01-25 22:32:16.706794: I tensorflow/core/platform/profile_utils/cpu_utils.cc:112] CPU Frequency: 3599995000 Hz\n"
     ]
    },
    {
     "name": "stdout",
     "output_type": "stream",
     "text": [
      "w=1.99, b=1.01\n"
     ]
    }
   ],
   "source": [
    "wb = tf.keras.models.Sequential()\n",
    "wb.add(tf.keras.layers.Dense(1,input_shape=(1,)))\n",
    "\n",
    "J_dict = train(train_step=train_step_tf, test_step=test_step_tf)        \n",
    "w_tr, b_tr = wb.get_weights()\n",
    "print(f\"w={w_tr[0,0]:.3}, b={b_tr[0]:.3}\")"
   ]
  },
  {
   "cell_type": "code",
   "execution_count": 10,
   "id": "d08a6dc9-ef81-41e9-9c6c-912a380fefd5",
   "metadata": {},
   "outputs": [
    {
     "data": {
      "text/plain": [
       "Text(0, 0.5, 'J')"
      ]
     },
     "execution_count": 10,
     "metadata": {},
     "output_type": "execute_result"
    },
    {
     "data": {
      "image/png": "[encoded data removed]",
      "text/plain": [
       "<Figure size 432x288 with 1 Axes>"
      ]
     },
     "metadata": {
      "needs_background": "light"
     },
     "output_type": "display_data"
    }
   ],
   "source": [
    "#plt.plot(J_dict[\"train_loss\"], label=\"train loss\")\n",
    "plt.plot(J_dict[\"test_loss\"], label=\"test loss\")\n",
    "plt.legend(loc=0)\n",
    "plt.xlabel(\"Epoch\")\n",
    "plt.ylabel(\"J\")"
   ]
  },
  {
   "cell_type": "code",
   "execution_count": 11,
   "id": "b038a866-beaf-4eeb-a57b-8bf66e131e2f",
   "metadata": {},
   "outputs": [
    {
     "name": "stdout",
     "output_type": "stream",
     "text": [
      "CPU times: user 1.56 s, sys: 939 ms, total: 2.5 s\n",
      "Wall time: 637 ms\n",
      "CPU times: user 2.81 s, sys: 3.7 s, total: 6.52 s\n",
      "Wall time: 817 ms\n",
      "CPU times: user 17.8 s, sys: 9.82 s, total: 27.6 s\n",
      "Wall time: 6.72 s\n",
      "CPU times: user 13 s, sys: 17.8 s, total: 30.8 s\n",
      "Wall time: 4.1 s\n"
     ]
    }
   ],
   "source": [
    "%time J_dict = train(N_epoch=100, train_step=train_step)\n",
    "%time J_dict = train(N_epoch=100, train_step=train_step_tf, \\\n",
    "                     test_step=test_step_tf)\n",
    "%time J_dict = train(N_epoch=1000, train_step=train_step)\n",
    "%time J_dict = train(N_epoch=1000, train_step=train_step_tf, \\\n",
    "                     test_step=test_step_tf)"
   ]
  },
  {
   "cell_type": "code",
   "execution_count": 12,
   "id": "d68bceb6-542c-4558-9669-0f9f58b7e01c",
   "metadata": {},
   "outputs": [
    {
     "data": {
      "text/plain": [
       "2.034632034632035"
      ]
     },
     "execution_count": 12,
     "metadata": {},
     "output_type": "execute_result"
    }
   ],
   "source": [
    "18.8/9.24"
   ]
  },
  {
   "cell_type": "code",
   "execution_count": 13,
   "id": "6326bee2-5684-471c-b3bc-214597b91b54",
   "metadata": {},
   "outputs": [
    {
     "data": {
      "text/plain": [
       "486.3157894736842"
      ]
     },
     "execution_count": 13,
     "metadata": {},
     "output_type": "execute_result"
    }
   ],
   "source": [
    "9.24 * 1000 / 19"
   ]
  },
  {
   "cell_type": "code",
   "execution_count": null,
   "id": "d5bab62f-f0c4-4816-b429-cc54c34eed5d",
   "metadata": {},
   "outputs": [],
   "source": []
  }
 ],
 "metadata": {
  "kernelspec": {
   "display_name": "jax",
   "language": "python",
   "name": "jax"
  },
  "language_info": {
   "codemirror_mode": {
    "name": "ipython",
    "version": 3
   },
   "file_extension": ".py",
   "mimetype": "text/x-python",
   "name": "python",
   "nbconvert_exporter": "python",
   "pygments_lexer": "ipython3",
   "version": "3.9.7"
  }
 },
 "nbformat": 4,
 "nbformat_minor": 5
}
