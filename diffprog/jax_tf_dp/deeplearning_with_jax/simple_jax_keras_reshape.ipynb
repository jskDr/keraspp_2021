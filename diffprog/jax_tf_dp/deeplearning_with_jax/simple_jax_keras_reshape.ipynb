{
 "cells": [
  {
   "cell_type": "code",
   "execution_count": 9,
   "id": "b0860edf-82f1-4e88-99d2-7e4354b5eb07",
   "metadata": {},
   "outputs": [],
   "source": [
    "import numpy as np\n",
    "from numpy import random\n",
    "import matplotlib.pyplot as plt\n",
    "from tensorflow import keras "
   ]
  },
  {
   "cell_type": "markdown",
   "id": "ca9af118-455a-4a9f-9b32-bccd9c6d1b17",
   "metadata": {},
   "source": [
    "## Data Preparation"
   ]
  },
  {
   "cell_type": "code",
   "execution_count": 3,
   "id": "3c7bf1ff-0cdb-44dd-83b0-f06743362647",
   "metadata": {},
   "outputs": [],
   "source": [
    "model = lambda x: x * 2.0 + 1.0\n",
    "x_train = np.array([0, 1])\n",
    "y_train = model(x_train)\n",
    "x_test = np.array([2,3,4])\n",
    "y_test = model(x_test)\n",
    "\n",
    "x_train = x_train.reshape(-1,1)\n",
    "y_train = y_train.reshape(-1,1)\n",
    "x_test = x_test.reshape(-1,1)\n",
    "y_test = y_test.reshape(-1,1)"
   ]
  },
  {
   "cell_type": "markdown",
   "id": "dc79133d-ba42-4c74-936e-3df513d1a2fe",
   "metadata": {},
   "source": [
    "## Function Definitinos"
   ]
  },
  {
   "cell_type": "code",
   "execution_count": 4,
   "id": "daf3bf49-6bab-43ae-84af-c49da4fb1ae8",
   "metadata": {},
   "outputs": [
    {
     "name": "stderr",
     "output_type": "stream",
     "text": [
      "2022-01-24 00:34:57.454336: I tensorflow/compiler/jit/xla_cpu_device.cc:41] Not creating XLA devices, tf_xla_enable_xla_devices not set\n",
      "2022-01-24 00:34:57.454645: I tensorflow/core/platform/cpu_feature_guard.cc:142] This TensorFlow binary is optimized with oneAPI Deep Neural Network Library (oneDNN) to use the following CPU instructions in performance-critical operations:  SSE4.1 SSE4.2 AVX AVX2 FMA\n",
      "To enable them in other operations, rebuild TensorFlow with the appropriate compiler flags.\n",
      "2022-01-24 00:34:57.457345: I tensorflow/core/common_runtime/process_util.cc:146] Creating new thread pool with default inter op setting: 2. Tune using inter_op_parallelism_threads for best performance.\n"
     ]
    }
   ],
   "source": [
    "wb = keras.models.Sequential()\n",
    "wb.add(keras.layers.Dense(1,input_shape=(1,)))\n",
    "wb.compile('SGD', 'mse')"
   ]
  },
  {
   "cell_type": "markdown",
   "id": "710d9ac5-8335-4e9d-9304-03b435f34d5a",
   "metadata": {},
   "source": [
    "# Training and Testing"
   ]
  },
  {
   "cell_type": "code",
   "execution_count": 5,
   "id": "0ad054b9-7203-4b0b-918b-d7c50254b7b5",
   "metadata": {},
   "outputs": [
    {
     "name": "stderr",
     "output_type": "stream",
     "text": [
      "2022-01-24 00:34:59.732598: I tensorflow/compiler/mlir/mlir_graph_optimization_pass.cc:116] None of the MLIR optimization passes are enabled (registered 2)\n",
      "2022-01-24 00:34:59.733119: I tensorflow/core/platform/profile_utils/cpu_utils.cc:112] CPU Frequency: 3599995000 Hz\n"
     ]
    }
   ],
   "source": [
    "N_epoch = 1000\n",
    "hist = wb.fit(x_train, y_train, validation_data=(x_test, y_test), epochs=N_epoch, verbose=0)"
   ]
  },
  {
   "cell_type": "code",
   "execution_count": 6,
   "id": "eb4fc489-932d-4ee2-9493-cad35279af30",
   "metadata": {},
   "outputs": [
    {
     "name": "stdout",
     "output_type": "stream",
     "text": [
      "w=2.0, b=1.0\n"
     ]
    }
   ],
   "source": [
    "w_tr, b_tr = wb.get_weights()\n",
    "print(f\"w={w_tr[0,0]:.2}, b={b_tr[0]:.2}\")"
   ]
  },
  {
   "cell_type": "code",
   "execution_count": 7,
   "id": "b1609c20-1d7c-44be-9a52-16e241f0bf65",
   "metadata": {},
   "outputs": [
    {
     "data": {
      "text/plain": [
       "Text(0, 0.5, 'J')"
      ]
     },
     "execution_count": 7,
     "metadata": {},
     "output_type": "execute_result"
    },
    {
     "data": {
      "image/png": "[encoded data removed]",
      "text/plain": [
       "<Figure size 432x288 with 1 Axes>"
      ]
     },
     "metadata": {
      "needs_background": "light"
     },
     "output_type": "display_data"
    }
   ],
   "source": [
    "plt.plot(hist.history['val_loss'])\n",
    "plt.xlabel(\"Epoch\")\n",
    "plt.ylabel(\"J\")"
   ]
  },
  {
   "cell_type": "code",
   "execution_count": 8,
   "id": "b0bc4831-4422-4479-a0e7-42cb05a0a79d",
   "metadata": {},
   "outputs": [
    {
     "name": "stdout",
     "output_type": "stream",
     "text": [
      "CPU times: user 5.5 s, sys: 5.44 s, total: 10.9 s\n",
      "Wall time: 1.45 s\n",
      "CPU times: user 52.6 s, sys: 57.5 s, total: 1min 50s\n",
      "Wall time: 13.9 s\n",
      "CPU times: user 9min 1s, sys: 10min 13s, total: 19min 15s\n",
      "Wall time: 2min 25s\n"
     ]
    },
    {
     "data": {
      "text/plain": [
       "<tensorflow.python.keras.callbacks.History at 0x7f7afc1f3370>"
      ]
     },
     "execution_count": 8,
     "metadata": {},
     "output_type": "execute_result"
    }
   ],
   "source": [
    "%time wb.fit(x_train, y_train, validation_data=(x_test, y_test), epochs=10, verbose=0)\n",
    "%time wb.fit(x_train, y_train, validation_data=(x_test, y_test), epochs=100, verbose=0)\n",
    "%time wb.fit(x_train, y_train, validation_data=(x_test, y_test), epochs=1000, verbose=0)"
   ]
  },
  {
   "cell_type": "code",
   "execution_count": null,
   "id": "6e0c151f-157a-4d1a-a3ed-3d80cda24f22",
   "metadata": {},
   "outputs": [],
   "source": []
  }
 ],
 "metadata": {
  "kernelspec": {
   "display_name": "jax",
   "language": "python",
   "name": "jax"
  },
  "language_info": {
   "codemirror_mode": {
    "name": "ipython",
    "version": 3
   },
   "file_extension": ".py",
   "mimetype": "text/x-python",
   "name": "python",
   "nbconvert_exporter": "python",
   "pygments_lexer": "ipython3",
   "version": "3.9.7"
  }
 },
 "nbformat": 4,
 "nbformat_minor": 5
}
