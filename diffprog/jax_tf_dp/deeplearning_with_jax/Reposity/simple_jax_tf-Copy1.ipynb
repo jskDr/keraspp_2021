{
 "cells": [
  {
   "cell_type": "code",
   "execution_count": 1,
   "id": "b0860edf-82f1-4e88-99d2-7e4354b5eb07",
   "metadata": {},
   "outputs": [],
   "source": [
    "import numpy as np\n",
    "from numpy import random\n",
    "import matplotlib.pyplot as plt\n",
    "from tensorflow import keras \n",
    "import tensorflow as tf"
   ]
  },
  {
   "cell_type": "code",
   "execution_count": 2,
   "id": "8514a999-e73e-4c4a-ad32-e3608d05c3bb",
   "metadata": {},
   "outputs": [],
   "source": [
    "mnist = tf.keras.datasets.mnist\n",
    "\n",
    "(x_train, y_train), (x_test, y_test) = mnist.load_data()\n",
    "x_train, x_test = x_train / 255.0, x_test / 255.0"
   ]
  },
  {
   "cell_type": "code",
   "execution_count": 3,
   "id": "3f959e1f-7c91-44e8-a406-77fd672e2980",
   "metadata": {},
   "outputs": [
    {
     "data": {
      "text/plain": [
       "((60000, 28, 28), (1, 28, 28))"
      ]
     },
     "execution_count": 3,
     "metadata": {},
     "output_type": "execute_result"
    }
   ],
   "source": [
    "x_train.shape, x_train[:1].shape"
   ]
  },
  {
   "cell_type": "markdown",
   "id": "ca9af118-455a-4a9f-9b32-bccd9c6d1b17",
   "metadata": {},
   "source": [
    "## Data Preparation"
   ]
  },
  {
   "cell_type": "code",
   "execution_count": 4,
   "id": "3c7bf1ff-0cdb-44dd-83b0-f06743362647",
   "metadata": {},
   "outputs": [],
   "source": [
    "model = lambda x: x * 2.0 + 1.0\n",
    "x_train = np.array([0, 1])\n",
    "y_train = model(x_train)\n",
    "x_test = np.array([2,3,4])\n",
    "y_test = model(x_test)\n",
    "\n",
    "x_train_tf = x_train.reshape(-1,1)\n",
    "y_train_tf = y_train.reshape(-1,1)\n",
    "x_test_tf = x_test.reshape(-1,1)\n",
    "y_test_tf = y_test.reshape(-1,1)\n",
    "\n",
    "#x_train_tf = tf.Variable(x_train_tf)\n",
    "#y_train_tf = tf.Variable(y_train_tf)\n",
    "#x_test_tf = tf.Variable(x_test_tf)\n",
    "#x_test_tf = tf.Variable(x_test_tf)"
   ]
  },
  {
   "cell_type": "markdown",
   "id": "dc79133d-ba42-4c74-936e-3df513d1a2fe",
   "metadata": {},
   "source": [
    "## Function Definitinos"
   ]
  },
  {
   "cell_type": "code",
   "execution_count": 5,
   "id": "daf3bf49-6bab-43ae-84af-c49da4fb1ae8",
   "metadata": {},
   "outputs": [
    {
     "name": "stderr",
     "output_type": "stream",
     "text": [
      "2022-01-24 00:36:31.445304: I tensorflow/compiler/jit/xla_cpu_device.cc:41] Not creating XLA devices, tf_xla_enable_xla_devices not set\n",
      "2022-01-24 00:36:31.445654: I tensorflow/core/platform/cpu_feature_guard.cc:142] This TensorFlow binary is optimized with oneAPI Deep Neural Network Library (oneDNN) to use the following CPU instructions in performance-critical operations:  SSE4.1 SSE4.2 AVX AVX2 FMA\n",
      "To enable them in other operations, rebuild TensorFlow with the appropriate compiler flags.\n",
      "2022-01-24 00:36:31.446935: I tensorflow/core/common_runtime/process_util.cc:146] Creating new thread pool with default inter op setting: 2. Tune using inter_op_parallelism_threads for best performance.\n"
     ]
    }
   ],
   "source": [
    "loss_fn = tf.keras.losses.MeanSquaredError()\n",
    "optimizer = tf.keras.optimizers.SGD()\n",
    "test_loss = tf.keras.metrics.Mean(name='test_loss')"
   ]
  },
  {
   "cell_type": "markdown",
   "id": "710d9ac5-8335-4e9d-9304-03b435f34d5a",
   "metadata": {},
   "source": [
    "## Training and Testing"
   ]
  },
  {
   "cell_type": "code",
   "execution_count": 6,
   "id": "e3520de8-e5bc-4cf2-9d41-5f1512dfb6b8",
   "metadata": {},
   "outputs": [],
   "source": [
    "def train_step(x_train, y_train):\n",
    "    with tf.GradientTape() as tape:\n",
    "        pred = wb(x_train_tf)\n",
    "        loss = loss_fn(y_train_tf, pred)\n",
    "    delta_wb = tape.gradient(loss, wb.trainable_variables)\n",
    "    optimizer.apply_gradients(zip(delta_wb, wb.trainable_variables))\n",
    "    \n",
    "def test_step(x_test, y_test):\n",
    "    pred = wb(x_train_tf)\n",
    "    loss = loss_fn(y_train_tf, pred)\n",
    "    test_loss(loss)\n",
    "\n",
    "train_step_tf = tf.function(train_step)\n",
    "test_step_tf = tf.function(test_step)\n",
    "\n",
    "def train(N_epoch=1000, train_step=train_step, test_step=test_step):\n",
    "    J_list = np.zeros(N_epoch)\n",
    "    test_loss.reset_states()    \n",
    "    for e in range(N_epoch):\n",
    "        train_step(x_train, y_train)    \n",
    "        test_step(x_test, y_test)\n",
    "        J_list[e] = test_loss.result().numpy()\n",
    "    return J_list"
   ]
  },
  {
   "cell_type": "code",
   "execution_count": 7,
   "id": "686d76a3-ddcd-4c2a-9224-359fca2d5308",
   "metadata": {},
   "outputs": [
    {
     "name": "stderr",
     "output_type": "stream",
     "text": [
      "2022-01-24 00:36:32.148342: I tensorflow/compiler/mlir/mlir_graph_optimization_pass.cc:116] None of the MLIR optimization passes are enabled (registered 2)\n",
      "2022-01-24 00:36:32.154475: I tensorflow/core/platform/profile_utils/cpu_utils.cc:112] CPU Frequency: 3599995000 Hz\n"
     ]
    },
    {
     "name": "stdout",
     "output_type": "stream",
     "text": [
      "w=2.0, b=1.0\n"
     ]
    },
    {
     "data": {
      "text/plain": [
       "Text(0, 0.5, 'J')"
      ]
     },
     "execution_count": 7,
     "metadata": {},
     "output_type": "execute_result"
    },
    {
     "data": {
      "image/png": "[encoded data removed]",
      "text/plain": [
       "<Figure size 432x288 with 1 Axes>"
      ]
     },
     "metadata": {
      "needs_background": "light"
     },
     "output_type": "display_data"
    }
   ],
   "source": [
    "wb = keras.models.Sequential()\n",
    "wb.add(keras.layers.Dense(1,input_shape=(1,)))\n",
    "\n",
    "J_list = train(train_step=train_step_tf, test_step=test_step_tf)        \n",
    "w_tr, b_tr = wb.get_weights()\n",
    "print(f\"w={w_tr[0,0]:.2}, b={b_tr[0]:.2}\")\n",
    "\n",
    "plt.plot(J_list)\n",
    "plt.xlabel(\"Epoch\")\n",
    "plt.ylabel(\"J\")"
   ]
  },
  {
   "cell_type": "code",
   "execution_count": 8,
   "id": "b038a866-beaf-4eeb-a57b-8bf66e131e2f",
   "metadata": {},
   "outputs": [
    {
     "name": "stdout",
     "output_type": "stream",
     "text": [
      "CPU times: user 1.97 s, sys: 1.8 s, total: 3.76 s\n",
      "Wall time: 2.01 s\n",
      "CPU times: user 1.49 s, sys: 1.89 s, total: 3.38 s\n",
      "Wall time: 570 ms\n",
      "CPU times: user 22.2 s, sys: 18.3 s, total: 40.4 s\n",
      "Wall time: 19.2 s\n",
      "CPU times: user 11.9 s, sys: 16.3 s, total: 28.1 s\n",
      "Wall time: 4.92 s\n"
     ]
    }
   ],
   "source": [
    "%time J_list = train(N_epoch=100, train_step=train_step)\n",
    "%time J_list = train(N_epoch=100, train_step=train_step_tf, test_step=test_step_tf)\n",
    "%time J_list = train(N_epoch=1000, train_step=train_step)\n",
    "%time J_list = train(N_epoch=1000, train_step=train_step_tf, test_step=test_step_tf)"
   ]
  },
  {
   "cell_type": "code",
   "execution_count": 9,
   "id": "d68bceb6-542c-4558-9669-0f9f58b7e01c",
   "metadata": {},
   "outputs": [
    {
     "data": {
      "text/plain": [
       "2.0048309178743966"
      ]
     },
     "execution_count": 9,
     "metadata": {},
     "output_type": "execute_result"
    }
   ],
   "source": [
    "16.6/8.28"
   ]
  },
  {
   "cell_type": "code",
   "execution_count": null,
   "id": "6326bee2-5684-471c-b3bc-214597b91b54",
   "metadata": {},
   "outputs": [],
   "source": []
  }
 ],
 "metadata": {
  "kernelspec": {
   "display_name": "jax",
   "language": "python",
   "name": "jax"
  },
  "language_info": {
   "codemirror_mode": {
    "name": "ipython",
    "version": 3
   },
   "file_extension": ".py",
   "mimetype": "text/x-python",
   "name": "python",
   "nbconvert_exporter": "python",
   "pygments_lexer": "ipython3",
   "version": "3.9.7"
  }
 },
 "nbformat": 4,
 "nbformat_minor": 5
}
