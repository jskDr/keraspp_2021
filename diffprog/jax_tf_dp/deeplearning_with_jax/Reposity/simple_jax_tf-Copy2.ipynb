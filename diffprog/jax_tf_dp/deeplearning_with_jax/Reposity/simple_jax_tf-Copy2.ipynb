{
 "cells": [
  {
   "cell_type": "code",
   "execution_count": 10,
   "id": "b0860edf-82f1-4e88-99d2-7e4354b5eb07",
   "metadata": {},
   "outputs": [],
   "source": [
    "import numpy as np\n",
    "from numpy import random\n",
    "import matplotlib.pyplot as plt\n",
    "import tensorflow as tf"
   ]
  },
  {
   "cell_type": "markdown",
   "id": "ca9af118-455a-4a9f-9b32-bccd9c6d1b17",
   "metadata": {},
   "source": [
    "## Data Preparation"
   ]
  },
  {
   "cell_type": "code",
   "execution_count": 11,
   "id": "3c7bf1ff-0cdb-44dd-83b0-f06743362647",
   "metadata": {},
   "outputs": [],
   "source": [
    "model = lambda x: x * 2.0 + 1.0\n",
    "x_train = np.array([0, 1]).reshape(-1,1)\n",
    "y_train = model(x_train)\n",
    "x_test = np.array([2,3,4]).reshape(-1,1)\n",
    "y_test = model(x_test)"
   ]
  },
  {
   "cell_type": "markdown",
   "id": "dc79133d-ba42-4c74-936e-3df513d1a2fe",
   "metadata": {},
   "source": [
    "## Function Definitinos"
   ]
  },
  {
   "cell_type": "code",
   "execution_count": 12,
   "id": "daf3bf49-6bab-43ae-84af-c49da4fb1ae8",
   "metadata": {},
   "outputs": [],
   "source": [
    "loss_fn = tf.keras.losses.MeanSquaredError()\n",
    "optimizer = tf.keras.optimizers.SGD()\n",
    "test_loss = tf.keras.metrics.Mean(name='test_loss')"
   ]
  },
  {
   "cell_type": "markdown",
   "id": "710d9ac5-8335-4e9d-9304-03b435f34d5a",
   "metadata": {},
   "source": [
    "## Training and Testing"
   ]
  },
  {
   "cell_type": "code",
   "execution_count": 13,
   "id": "9c1116c6-a041-4a91-842d-0ed56d4be9ac",
   "metadata": {},
   "outputs": [],
   "source": [
    "def train_step(x_train, y_train):\n",
    "    with tf.GradientTape() as tape:\n",
    "        pred = wb(x_train)\n",
    "        loss = loss_fn(y_train, pred)\n",
    "    delta_wb = tape.gradient(loss, wb.trainable_variables)\n",
    "    optimizer.apply_gradients(zip(delta_wb, wb.trainable_variables))"
   ]
  },
  {
   "cell_type": "code",
   "execution_count": 19,
   "id": "1a08525f-677d-4876-8610-1f9c7575bb61",
   "metadata": {},
   "outputs": [
    {
     "data": {
      "text/plain": [
       "<tf.Variable 'UnreadVariable' shape=() dtype=int64, numpy=1>"
      ]
     },
     "execution_count": 19,
     "metadata": {},
     "output_type": "execute_result"
    }
   ],
   "source": [
    "with tf.GradientTape() as tape:\n",
    "    pred = wb(x_train)\n",
    "    loss = loss_fn(y_train, pred)\n",
    "delta_wb = tape.gradient(loss, wb.trainable_variables)\n",
    "optimizer.apply_gradients(zip(delta_wb, wb.trainable_variables))"
   ]
  },
  {
   "cell_type": "code",
   "execution_count": 25,
   "id": "f3cfc5f6-026c-457d-8de6-85b82b7caffa",
   "metadata": {},
   "outputs": [
    {
     "data": {
      "text/plain": [
       "([<tf.Tensor: shape=(1, 1), dtype=float32, numpy=array([[-5.9604645e-06]], dtype=float32)>,\n",
       "  <tf.Tensor: shape=(1,), dtype=float32, numpy=array([5.9604645e-06], dtype=float32)>],\n",
       " [<tf.Variable 'dense/kernel:0' shape=(1, 1) dtype=float32, numpy=array([[1.9999821]], dtype=float32)>,\n",
       "  <tf.Variable 'dense/bias:0' shape=(1,) dtype=float32, numpy=array([1.0000119], dtype=float32)>])"
      ]
     },
     "execution_count": 25,
     "metadata": {},
     "output_type": "execute_result"
    }
   ],
   "source": [
    "delta_wb, wb.trainable_variables"
   ]
  },
  {
   "cell_type": "code",
   "execution_count": 34,
   "id": "db7409ad-75ea-4dc8-a6de-3441c5f2844e",
   "metadata": {},
   "outputs": [
    {
     "data": {
      "text/plain": [
       "(<tf.Tensor: shape=(1, 1), dtype=float32, numpy=array([[0.1]], dtype=float32)>,\n",
       " <tf.Variable 'Variable:0' shape=(1, 1) dtype=float32, numpy=array([[1.]], dtype=float32)>)"
      ]
     },
     "execution_count": 34,
     "metadata": {},
     "output_type": "execute_result"
    }
   ],
   "source": [
    "W = tf.Variable([[1.]])\n",
    "dw = tf.constant([[0.1]])\n",
    "#optimizer.apply_gradients(zip([W],[dw]))\n",
    "dw, W"
   ]
  },
  {
   "cell_type": "code",
   "execution_count": 4,
   "id": "38f03d32-75c7-4d04-8c9c-85179009fb0c",
   "metadata": {},
   "outputs": [],
   "source": [
    "def test_step(x_test, y_test):\n",
    "    pred = wb(x_train)\n",
    "    loss = loss_fn(y_train, pred)\n",
    "    test_loss(loss)"
   ]
  },
  {
   "cell_type": "code",
   "execution_count": 4,
   "id": "8f624c6e-4462-4946-9668-b73fd532d817",
   "metadata": {},
   "outputs": [],
   "source": [
    "train_step_tf = tf.function(train_step)\n",
    "test_step_tf = tf.function(test_step)\n",
    "\n",
    "def train(N_epoch=1000, train_step=train_step, test_step=test_step):\n",
    "    J_list = np.zeros(N_epoch)\n",
    "    test_loss.reset_states()    \n",
    "    for e in range(N_epoch):\n",
    "        train_step(x_train, y_train)    \n",
    "        test_step(x_test, y_test)\n",
    "        J_list[e] = test_loss.result().numpy()\n",
    "    return J_list"
   ]
  },
  {
   "cell_type": "code",
   "execution_count": 5,
   "id": "686d76a3-ddcd-4c2a-9224-359fca2d5308",
   "metadata": {},
   "outputs": [
    {
     "name": "stderr",
     "output_type": "stream",
     "text": [
      "2022-01-25 01:45:40.086725: I tensorflow/compiler/mlir/mlir_graph_optimization_pass.cc:116] None of the MLIR optimization passes are enabled (registered 2)\n",
      "2022-01-25 01:45:40.087584: I tensorflow/core/platform/profile_utils/cpu_utils.cc:112] CPU Frequency: 3599995000 Hz\n"
     ]
    },
    {
     "name": "stdout",
     "output_type": "stream",
     "text": [
      "w=2.0, b=1.0\n"
     ]
    },
    {
     "data": {
      "text/plain": [
       "Text(0, 0.5, 'J')"
      ]
     },
     "execution_count": 5,
     "metadata": {},
     "output_type": "execute_result"
    },
    {
     "data": {
      "image/png": "[encoded data removed]",
      "text/plain": [
       "<Figure size 432x288 with 1 Axes>"
      ]
     },
     "metadata": {
      "needs_background": "light"
     },
     "output_type": "display_data"
    }
   ],
   "source": [
    "wb = tf.keras.models.Sequential()\n",
    "wb.add(tf.keras.layers.Dense(1,input_shape=(1,)))\n",
    "\n",
    "J_list = train(train_step=train_step_tf, test_step=test_step_tf)        \n",
    "w_tr, b_tr = wb.get_weights()\n",
    "print(f\"w={w_tr[0,0]:.2}, b={b_tr[0]:.2}\")\n",
    "\n",
    "plt.plot(J_list)\n",
    "plt.xlabel(\"Epoch\")\n",
    "plt.ylabel(\"J\")"
   ]
  },
  {
   "cell_type": "code",
   "execution_count": 6,
   "id": "b038a866-beaf-4eeb-a57b-8bf66e131e2f",
   "metadata": {},
   "outputs": [
    {
     "name": "stdout",
     "output_type": "stream",
     "text": [
      "CPU times: user 1.61 s, sys: 758 ms, total: 2.36 s\n",
      "Wall time: 596 ms\n",
      "CPU times: user 1.35 s, sys: 1.64 s, total: 2.98 s\n",
      "Wall time: 376 ms\n",
      "CPU times: user 15 s, sys: 8.9 s, total: 23.9 s\n",
      "Wall time: 5.79 s\n",
      "CPU times: user 8.3 s, sys: 10.1 s, total: 18.4 s\n",
      "Wall time: 2.31 s\n"
     ]
    }
   ],
   "source": [
    "%time J_list = train(N_epoch=100, train_step=train_step)\n",
    "%time J_list = train(N_epoch=100, train_step=train_step_tf, test_step=test_step_tf)\n",
    "%time J_list = train(N_epoch=1000, train_step=train_step)\n",
    "%time J_list = train(N_epoch=1000, train_step=train_step_tf, test_step=test_step_tf)"
   ]
  },
  {
   "cell_type": "code",
   "execution_count": 9,
   "id": "d68bceb6-542c-4558-9669-0f9f58b7e01c",
   "metadata": {},
   "outputs": [
    {
     "data": {
      "text/plain": [
       "2.0048309178743966"
      ]
     },
     "execution_count": 9,
     "metadata": {},
     "output_type": "execute_result"
    }
   ],
   "source": [
    "16.6/8.28"
   ]
  },
  {
   "cell_type": "code",
   "execution_count": null,
   "id": "6326bee2-5684-471c-b3bc-214597b91b54",
   "metadata": {},
   "outputs": [],
   "source": []
  }
 ],
 "metadata": {
  "kernelspec": {
   "display_name": "jax",
   "language": "python",
   "name": "jax"
  },
  "language_info": {
   "codemirror_mode": {
    "name": "ipython",
    "version": 3
   },
   "file_extension": ".py",
   "mimetype": "text/x-python",
   "name": "python",
   "nbconvert_exporter": "python",
   "pygments_lexer": "ipython3",
   "version": "3.9.7"
  }
 },
 "nbformat": 4,
 "nbformat_minor": 5
}
