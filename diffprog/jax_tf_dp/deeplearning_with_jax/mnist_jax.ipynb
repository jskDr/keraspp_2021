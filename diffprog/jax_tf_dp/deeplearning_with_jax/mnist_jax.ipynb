{
 "cells": [
  {
   "cell_type": "code",
   "execution_count": 1,
   "id": "b0860edf-82f1-4e88-99d2-7e4354b5eb07",
   "metadata": {},
   "outputs": [],
   "source": [
    "import jax.numpy as jnp\n",
    "from jax import grad, jit, vmap\n",
    "from numpy import random\n",
    "from math import sqrt\n",
    "import numpy as pnp"
   ]
  },
  {
   "cell_type": "code",
   "execution_count": 2,
   "id": "859cbd3a-e67b-461b-a8de-32ea6769516c",
   "metadata": {},
   "outputs": [
    {
     "name": "stdout",
     "output_type": "stream",
     "text": [
      "[5 0 4 1 9 2 1 3 1 4]\n"
     ]
    }
   ],
   "source": [
    "# load dataset, MNIST\n",
    "from tensorflow.keras.datasets import mnist\n",
    "(x_train, y_train), (x_test, y_test) = mnist.load_data()\n",
    "assert x_train.shape == (60000, 28, 28)\n",
    "assert x_test.shape == (10000, 28, 28)\n",
    "assert y_train.shape == (60000,)\n",
    "assert y_test.shape == (10000,)\n",
    "print(y_train[:10]) # not onehot yet"
   ]
  },
  {
   "cell_type": "code",
   "execution_count": 3,
   "id": "d458ce86-6b84-4fb6-baa7-f38301389f99",
   "metadata": {},
   "outputs": [
    {
     "data": {
      "text/plain": [
       "(784, 10)"
      ]
     },
     "execution_count": 3,
     "metadata": {},
     "output_type": "execute_result"
    }
   ],
   "source": [
    "N_classes = 10\n",
    "X_tr, X_te = x_train.reshape(-1,28*28), x_test.reshape(-1,28*28)\n",
    "N_features = X_tr.shape[1] \n",
    "N_features, N_classes"
   ]
  },
  {
   "cell_type": "code",
   "execution_count": 68,
   "id": "816d0ff5-2b17-4cd3-8875-760057e4c559",
   "metadata": {},
   "outputs": [
    {
     "data": {
      "text/plain": [
       "((60000, 10), (10000, 10), array([0., 0., 0., 0., 0., 1., 0., 0., 0., 0.]))"
      ]
     },
     "execution_count": 68,
     "metadata": {},
     "output_type": "execute_result"
    }
   ],
   "source": [
    "def onehot_enc(values, n_classes):\n",
    "    # values = [1, 0, 3], n_classes=4\n",
    "    return pnp.eye(n_classes)[values]\n",
    "Y_tr = onehot_enc(y_train, N_classes)\n",
    "Y_te = onehot_enc(y_test, N_classes)\n",
    "Y_tr.shape, Y_te.shape, Y_tr[0]"
   ]
  },
  {
   "cell_type": "code",
   "execution_count": 89,
   "id": "094faccf-8be4-44ee-aec4-709c2c582c37",
   "metadata": {},
   "outputs": [],
   "source": [
    "def cross_entropy_each(y_hat, y):\n",
    "    if y == 1:\n",
    "        return -jnp.log(y_hat)\n",
    "    else:\n",
    "        return -jnp.log(1 - y_hat)\n",
    "\n",
    "def cross_entropy(y_hat_vec, y_vec):\n",
    "    s = 0\n",
    "    for y_hat, y in zip(y_hat_vec, y_vec):\n",
    "        s += cross_entropy_each(y_hat, y)\n",
    "    return s / len(y_vec)\n",
    "    \n",
    "def sigmoid(z):\n",
    "    return 1 / (1 + jnp.exp(-z))\n",
    "\n",
    "def softmax(x): # x should be a vector \n",
    "    ex = jnp.exp(x)\n",
    "    return ex/jnp.sum(ex)\n",
    "\n",
    "def cl_predict(Wb_list, x_vec):\n",
    "    # W: matrix, b: vector\n",
    "    for W, b in Wb_list[:-1]:\n",
    "        o_vec = jnp.dot(x_vec, W) + b\n",
    "        x_vec = sigmoid(o_vec) # for multiple layers \n",
    "    W, b = Wb_list[-1]\n",
    "    o_vec =  jnp.dot(x_vec, W) + b\n",
    "    return softmax(o_vec)\n",
    "\n",
    "def cost(Wb_list, x_vec, y_vec):\n",
    "    y_hat_vec = cl_predict(Wb_list, x_vec)\n",
    "    return cross_entropy(y_hat_vec, y_vec)\n",
    "\n",
    "def update_inplace(Wb_list, delta_Wb_list, mu =0.01):\n",
    "    for Wb, dWb in zip(Wb_list, delta_Wb_list):\n",
    "        W, b = Wb\n",
    "        dW, db = dWb \n",
    "        W += mu * dW\n",
    "        b += mu * db"
   ]
  },
  {
   "cell_type": "code",
   "execution_count": 90,
   "id": "11394e5a-bf98-484d-85d4-4a99df13ecab",
   "metadata": {},
   "outputs": [],
   "source": [
    "## Prepare weights\n",
    "N_hidden = int(sqrt(N_features))\n",
    "W1 = random.uniform(low=-0.01, high=0.01, size=(N_features,N_hidden))\n",
    "b1 = random.uniform(low=-0.01, high=0.01, size=(N_hidden,))\n",
    "W2 = random.uniform(low=-0.01, high=0.01, size=(N_hidden,N_classes))\n",
    "b2 = random.uniform(low=-0.01, high=0.01, size=(N_classes,))\n",
    "Wb_list = [[W1,b1],[W2,b2]]"
   ]
  },
  {
   "cell_type": "code",
   "execution_count": 91,
   "id": "a776d6bf-f5aa-4fb9-855b-7c557339f71e",
   "metadata": {},
   "outputs": [],
   "source": [
    "dcost = grad(cost, argnums=0)"
   ]
  },
  {
   "cell_type": "code",
   "execution_count": 92,
   "id": "6f2b8364-2567-4b88-aa0c-a5ff49669105",
   "metadata": {},
   "outputs": [
    {
     "name": "stdout",
     "output_type": "stream",
     "text": [
      "[-0. -0. -0. -0.  0. -0.  0. -0. -0. -0. -0.  0. -0.  0. -0. -0. -0. -0.\n",
      " -0. -0. -0. -0.  0. -0.  0.  0.  0. -0.]\n",
      "0.32573888\n",
      "[-0.  0.  0.  0.  0.  0.  0. -0.  0.  0. -0.  0.  0. -0. -0.  0. -0. -0.\n",
      " -0. -0.  0.  0.  0.  0. -0.  0. -0.  0.]\n",
      "0.32725117\n"
     ]
    }
   ],
   "source": [
    "N = 2\n",
    "for x, y in zip(X_tr[:N], Y_tr[:N]):\n",
    "    J = cost(Wb_list, x, y)\n",
    "    delta_Wb_list = dcost(Wb_list, x, y)\n",
    "    update_inplace(Wb_list, delta_Wb_list, mu=0.1)\n",
    "    print(delta_Wb_list[0][0][0])\n",
    "    print(J)"
   ]
  },
  {
   "cell_type": "code",
   "execution_count": 93,
   "id": "0e56e500-5279-4e1f-b688-70ff1db7401e",
   "metadata": {},
   "outputs": [],
   "source": [
    "x_vec = X_tr[0]\n",
    "y_vec = Y_tr[0]\n",
    "\n",
    "def f(Wb_list, x_vec, y_vec):\n",
    "    y_hat_vec = cl_predict(Wb_list, x_vec)\n",
    "    return cross_entropy(y_hat_vec, y_vec)"
   ]
  },
  {
   "cell_type": "code",
   "execution_count": 94,
   "id": "fed22422-d3a6-4658-9728-3120df2ce9cb",
   "metadata": {},
   "outputs": [
    {
     "data": {
      "text/plain": [
       "DeviceArray(0.32573888, dtype=float32)"
      ]
     },
     "execution_count": 94,
     "metadata": {},
     "output_type": "execute_result"
    }
   ],
   "source": [
    "df = grad(f, argnums=0)\n",
    "dWb = df(Wb_list, x_vec, y_vec)\n",
    "f(Wb_list, x_vec, y_vec)"
   ]
  },
  {
   "cell_type": "code",
   "execution_count": 95,
   "id": "7edc6c4f-2743-4a65-bf05-25525ba77008",
   "metadata": {},
   "outputs": [
    {
     "data": {
      "text/plain": [
       "DeviceArray([-0., -0., -0., -0.,  0., -0.,  0., -0., -0., -0., -0.,  0.,\n",
       "             -0.,  0., -0., -0., -0., -0., -0., -0., -0., -0.,  0., -0.,\n",
       "              0.,  0.,  0., -0.], dtype=float32)"
      ]
     },
     "execution_count": 95,
     "metadata": {},
     "output_type": "execute_result"
    }
   ],
   "source": [
    "dWb[0][0][0]"
   ]
  }
 ],
 "metadata": {
  "kernelspec": {
   "display_name": "jax",
   "language": "python",
   "name": "jax"
  },
  "language_info": {
   "codemirror_mode": {
    "name": "ipython",
    "version": 3
   },
   "file_extension": ".py",
   "mimetype": "text/x-python",
   "name": "python",
   "nbconvert_exporter": "python",
   "pygments_lexer": "ipython3",
   "version": "3.9.7"
  }
 },
 "nbformat": 4,
 "nbformat_minor": 5
}
