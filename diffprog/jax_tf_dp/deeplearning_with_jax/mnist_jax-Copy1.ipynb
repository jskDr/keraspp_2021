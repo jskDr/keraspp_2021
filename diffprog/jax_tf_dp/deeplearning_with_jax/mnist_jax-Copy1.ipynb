{
 "cells": [
  {
   "cell_type": "code",
   "execution_count": 47,
   "id": "b0860edf-82f1-4e88-99d2-7e4354b5eb07",
   "metadata": {},
   "outputs": [],
   "source": [
    "import jax.numpy as jnp\n",
    "from jax import grad, jit, vmap\n",
    "from numpy import random\n",
    "from math import sqrt"
   ]
  },
  {
   "cell_type": "code",
   "execution_count": 13,
   "id": "859cbd3a-e67b-461b-a8de-32ea6769516c",
   "metadata": {},
   "outputs": [
    {
     "name": "stdout",
     "output_type": "stream",
     "text": [
      "[5 0 4 1 9 2 1 3 1 4]\n"
     ]
    }
   ],
   "source": [
    "# load dataset, MNIST\n",
    "from tensorflow.keras.datasets import mnist\n",
    "(x_train, y_train), (x_test, y_test) = mnist.load_data()\n",
    "assert x_train.shape == (60000, 28, 28)\n",
    "assert x_test.shape == (10000, 28, 28)\n",
    "assert y_train.shape == (60000,)\n",
    "assert y_test.shape == (10000,)\n",
    "print(y_train[:10]) # not onehot yet"
   ]
  },
  {
   "cell_type": "code",
   "execution_count": 27,
   "id": "d458ce86-6b84-4fb6-baa7-f38301389f99",
   "metadata": {},
   "outputs": [
    {
     "data": {
      "text/plain": [
       "(784, 10)"
      ]
     },
     "execution_count": 27,
     "metadata": {},
     "output_type": "execute_result"
    }
   ],
   "source": [
    "x_tr, x_te = x_train.reshape(-1,28*28), x_test.reshape(-1,28*28)\n",
    "N_features, N_classes = x_tr.shape[1], 10\n",
    "N_features, N_classes"
   ]
  },
  {
   "cell_type": "code",
   "execution_count": 51,
   "id": "094faccf-8be4-44ee-aec4-709c2c582c37",
   "metadata": {},
   "outputs": [],
   "source": [
    "\n",
    "\n",
    "\n",
    "def predict(Wb_list, x_vec):\n",
    "    # W: matrix, b: vector\n",
    "    for W, b in Wb_list[:-1]:\n",
    "        o_vec = jnp.dot(x_vec, W) + b\n",
    "        x_vec = sigmoid(o_vec) # for multiple layers \n",
    "    W, b = Wb_list[-1]\n",
    "    return jnp.dot(x_vec, W) + b\n",
    "\n"
   ]
  },
  {
   "cell_type": "code",
   "execution_count": 52,
   "id": "11394e5a-bf98-484d-85d4-4a99df13ecab",
   "metadata": {},
   "outputs": [],
   "source": [
    "## Prepare weights\n",
    "N_hidden = int(sqrt(N_features))\n",
    "W1 = random.uniform(low=-0.01, high=0.01, size=(N_features,N_hidden))\n",
    "b1 = random.uniform(low=-0.01, high=0.01, size=(N_hidden,))\n",
    "W2 = random.uniform(low=-0.01, high=0.01, size=(N_hidden,N_classes))\n",
    "b2 = random.uniform(low=-0.01, high=0.01, size=(N_classes,))\n",
    "Wb_list = [[W1,b1],[W2,b2]]"
   ]
  },
  {
   "cell_type": "code",
   "execution_count": 56,
   "id": "edc4b1d4-9cf7-49af-be57-29d1df4852e3",
   "metadata": {},
   "outputs": [
    {
     "data": {
      "text/plain": [
       "(60000, 10)"
      ]
     },
     "execution_count": 56,
     "metadata": {},
     "output_type": "execute_result"
    }
   ],
   "source": [
    "y_pred_tr = predict(Wb_list, x_tr)\n",
    "y_pred_tr.shape"
   ]
  },
  {
   "cell_type": "code",
   "execution_count": null,
   "id": "205952ea-6e27-4bee-b128-b86221317a2d",
   "metadata": {},
   "outputs": [],
   "source": []
  }
 ],
 "metadata": {
  "kernelspec": {
   "display_name": "jax",
   "language": "python",
   "name": "jax"
  },
  "language_info": {
   "codemirror_mode": {
    "name": "ipython",
    "version": 3
   },
   "file_extension": ".py",
   "mimetype": "text/x-python",
   "name": "python",
   "nbconvert_exporter": "python",
   "pygments_lexer": "ipython3",
   "version": "3.9.7"
  }
 },
 "nbformat": 4,
 "nbformat_minor": 5
}
