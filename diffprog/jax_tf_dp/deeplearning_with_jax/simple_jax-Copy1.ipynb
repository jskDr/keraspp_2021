{
 "cells": [
  {
   "cell_type": "code",
   "execution_count": 1,
   "id": "b0860edf-82f1-4e88-99d2-7e4354b5eb07",
   "metadata": {},
   "outputs": [],
   "source": [
    "import jax.numpy as jnp\n",
    "from jax import grad, jit, vmap, value_and_grad\n",
    "from numpy import random"
   ]
  },
  {
   "cell_type": "code",
   "execution_count": 6,
   "id": "fd79a5f4-230c-4ad7-876d-f706884ce2fd",
   "metadata": {},
   "outputs": [],
   "source": [
    "model = lambda x: x * 2.0 + 1.0\n",
    "x_train = jnp.array([0, 1])\n",
    "y_train = model(x_train)\n",
    "x_test = jnp.array([2,3,4])\n",
    "y_test = model(y_train)"
   ]
  },
  {
   "cell_type": "code",
   "execution_count": 7,
   "id": "9dcb6e83-6c3e-4c13-a23d-f09a0bc810f0",
   "metadata": {},
   "outputs": [],
   "source": [
    "w = random.uniform(low=-0.01, high=0.01, size=(1,))\n",
    "b = random.uniform(low=-0.01, high=0.01, size=(1,))"
   ]
  },
  {
   "cell_type": "code",
   "execution_count": 9,
   "id": "cfae282f-0e3b-41bc-9028-f48786818447",
   "metadata": {},
   "outputs": [],
   "source": [
    "pred = lambda w, b, x: w * x + b\n",
    "f = lambda w, b, x, y: jnp.sum(jnp.power(y - pred(w,b,x),2))\n",
    "dfdwb= grad(f, argnums=[0,1])\n",
    "vdfdwb = vmap(dfdwb, (None, None, 0, 0))"
   ]
  },
  {
   "cell_type": "code",
   "execution_count": 10,
   "id": "d30e001d-a648-4580-890c-4612daba3cd6",
   "metadata": {},
   "outputs": [],
   "source": [
    "def update(w, b, x_a, y_a, x_v, y_v, mu = 0.01):\n",
    "    dw_a, db_a = vdfdwb(w, b, x_a, y_a)\n",
    "    dw, db = jnp.mean(dw_a), jnp.mean(db_a)\n",
    "    w -= mu * dw\n",
    "    b -= mu * db\n",
    "    vf = vmap(f,(None,None,0,0))\n",
    "    J = jnp.sum(vf(w, b, x_v, y_v))\n",
    "    return J, w, b\n",
    "    \n",
    "update_jit = jit(update)"
   ]
  },
  {
   "cell_type": "code",
   "execution_count": 4,
   "id": "1684458c-2cad-40dc-8635-a529ed37730c",
   "metadata": {},
   "outputs": [
    {
     "name": "stdout",
     "output_type": "stream",
     "text": [
      "[1.9784147] [1.0133404]\n"
     ]
    }
   ],
   "source": [
    "def train_slow(w, b, x_a, y_a, x_v, y_v, N_epoch=1000):\n",
    "    J_list = []\n",
    "    for epoch in range(N_epoch):\n",
    "        #J, w, b = update_jit(w, b, x_a, y_a)\n",
    "        J, w, b = update(w, b, x_a, y_a)\n",
    "        J_list.append(J)\n",
    "    return w, b, J_list\n",
    "\n",
    "def train_fast(w, b, x_a, y_a, N_epoch=1000):\n",
    "    J_list = []\n",
    "    for epoch in range(N_epoch):\n",
    "        J, w, b = update_jit(w, b, x_a, y_a)\n",
    "        J_list.append(J)\n",
    "    return w, b, J_list\n",
    "\n",
    "N_epoch = 1000\n",
    "w, b, J_list = train_fast(w, b, x_a[:2], y_a[:2], N_epoch = 1000) \n",
    "print(w, b)"
   ]
  },
  {
   "cell_type": "code",
   "execution_count": 5,
   "id": "6e5720cb-5e46-4c84-a3ff-0feeca486623",
   "metadata": {},
   "outputs": [
    {
     "name": "stdout",
     "output_type": "stream",
     "text": [
      "CPU times: user 4.81 s, sys: 0 ns, total: 4.81 s\n",
      "Wall time: 4.8 s\n",
      "CPU times: user 7.4 ms, sys: 0 ns, total: 7.4 ms\n",
      "Wall time: 7.15 ms\n"
     ]
    }
   ],
   "source": [
    "%time w, b, J_list = train_slow(w, b, x_a[:2], y_a[:2], N_epoch = 1000) \n",
    "%time w, b, J_list = train_fast(w, b, x_a[:2], y_a[:2], N_epoch = 1000) "
   ]
  },
  {
   "cell_type": "code",
   "execution_count": null,
   "id": "11bb9615-bdfe-49ad-905f-3a9d454951b0",
   "metadata": {},
   "outputs": [],
   "source": [
    "4670 / 8.21"
   ]
  },
  {
   "cell_type": "code",
   "execution_count": null,
   "id": "24f9ebb4-5260-4be3-86d0-bf31671bd491",
   "metadata": {},
   "outputs": [],
   "source": []
  }
 ],
 "metadata": {
  "kernelspec": {
   "display_name": "jax",
   "language": "python",
   "name": "jax"
  },
  "language_info": {
   "codemirror_mode": {
    "name": "ipython",
    "version": 3
   },
   "file_extension": ".py",
   "mimetype": "text/x-python",
   "name": "python",
   "nbconvert_exporter": "python",
   "pygments_lexer": "ipython3",
   "version": "3.9.7"
  }
 },
 "nbformat": 4,
 "nbformat_minor": 5
}
