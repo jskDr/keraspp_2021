{
 "cells": [
  {
   "cell_type": "code",
   "execution_count": 2,
   "id": "b0860edf-82f1-4e88-99d2-7e4354b5eb07",
   "metadata": {},
   "outputs": [],
   "source": [
    "from jax import grad, jit, vmap\n",
    "import jax.numpy as jnp\n",
    "from numpy import random\n",
    "import matplotlib.pyplot as plt"
   ]
  },
  {
   "cell_type": "markdown",
   "id": "ca9af118-455a-4a9f-9b32-bccd9c6d1b17",
   "metadata": {},
   "source": [
    "## Data Preparation"
   ]
  },
  {
   "cell_type": "code",
   "execution_count": 3,
   "id": "3c7bf1ff-0cdb-44dd-83b0-f06743362647",
   "metadata": {},
   "outputs": [
    {
     "name": "stderr",
     "output_type": "stream",
     "text": [
      "WARNING:absl:No GPU/TPU found, falling back to CPU. (Set TF_CPP_MIN_LOG_LEVEL=0 and rerun for more info.)\n"
     ]
    }
   ],
   "source": [
    "model = lambda x: x * 2.0 + 1.0\n",
    "x_train = jnp.array([0, 1])\n",
    "y_train = model(x_train)\n",
    "x_test = jnp.array([2,3,4])\n",
    "y_test = model(x_test)"
   ]
  },
  {
   "cell_type": "markdown",
   "id": "dc79133d-ba42-4c74-936e-3df513d1a2fe",
   "metadata": {},
   "source": [
    "## Function Definitinos"
   ]
  },
  {
   "cell_type": "code",
   "execution_count": 4,
   "id": "b2c797a9-43d1-4515-b5fa-d491b07111a7",
   "metadata": {},
   "outputs": [],
   "source": [
    "def get_fn():\n",
    "    pred = lambda w, b, x: w * x + b\n",
    "    f = lambda w, b, x, y: jnp.mean(jnp.power(y - pred(w,b,x),2))\n",
    "    dfdwb = grad(f, argnums=[0,1])\n",
    "    vdfdwb = vmap(dfdwb, (None, None, 0, 0))\n",
    "    vf = vmap(f, (None, None, 0, 0))\n",
    "    return vdfdwb, vf\n",
    "vdfdwb, vf = get_fn()"
   ]
  },
  {
   "cell_type": "code",
   "execution_count": 5,
   "id": "681fad4a-2f02-4cdf-b2e2-1ce7fea996e2",
   "metadata": {},
   "outputs": [],
   "source": [
    "def update(w, b, x_a, y_a, mu = 0.01):\n",
    "    dw_a, db_a = vdfdwb(w, b, x_a, y_a)\n",
    "    dw, db = jnp.mean(dw_a), jnp.mean(db_a)\n",
    "    w -= mu * dw\n",
    "    b -= mu * db\n",
    "    return w, b    \n",
    "update_jit = jit(update)\n",
    "\n",
    "verify = lambda w, b, x_v, y_v: jnp.sum(vf(w, b, x_v, y_v))\n",
    "verify_jit = jit(verify)"
   ]
  },
  {
   "cell_type": "code",
   "execution_count": 6,
   "id": "0d080a68-f93d-4acf-9293-bad6639d0af0",
   "metadata": {},
   "outputs": [],
   "source": [
    "def train(w, b, x_a, y_a, x_v, y_v, N_epoch=1000, \n",
    "          update=update_jit, verify=verify_jit):\n",
    "    J_list = []\n",
    "    for epoch in range(N_epoch):\n",
    "        w, b = update(w, b, x_a, y_a)\n",
    "        J = verify(w, b, x_v, y_v)\n",
    "        J_list.append(J)\n",
    "    return w, b, J_list"
   ]
  },
  {
   "cell_type": "code",
   "execution_count": 11,
   "id": "514ae7f5-0ca5-415f-91ff-22f5670e83d5",
   "metadata": {},
   "outputs": [],
   "source": [
    "w = random.uniform(low=-0.01, high=0.01, size=(1,))\n",
    "b = random.uniform(low=-0.01, high=0.01, size=(1,))"
   ]
  },
  {
   "cell_type": "code",
   "execution_count": 12,
   "id": "5ffd868a-5996-4824-9d46-1c13f149104f",
   "metadata": {},
   "outputs": [],
   "source": [
    "N_epoch = 1000\n",
    "w, b, J_list = train(w, b, x_train, y_train, x_test, y_test, \n",
    "                     N_epoch=N_epoch, update=update_jit, verify=verify_jit) \n",
    "print(f\"w={w[0]:.2}, b={b[0]:.2}\")"
   ]
  },
  {
   "cell_type": "code",
   "execution_count": 13,
   "id": "8b07bb03-b7ce-4353-998c-eca0866bb65d",
   "metadata": {},
   "outputs": [
    {
     "data": {
      "text/plain": [
       "Text(0, 0.5, 'J')"
      ]
     },
     "execution_count": 13,
     "metadata": {},
     "output_type": "execute_result"
    },
    {
     "data": {
      "image/png": "[encoded data removed]",
      "text/plain": [
       "<Figure size 432x288 with 1 Axes>"
      ]
     },
     "metadata": {
      "needs_background": "light"
     },
     "output_type": "display_data"
    }
   ],
   "source": [
    "plt.plot(J_list)\n",
    "plt.xlabel(\"Epoch\")\n",
    "plt.ylabel(\"J\")"
   ]
  },
  {
   "cell_type": "code",
   "execution_count": 9,
   "id": "b0bc4831-4422-4479-a0e7-42cb05a0a79d",
   "metadata": {},
   "outputs": [
    {
     "name": "stdout",
     "output_type": "stream",
     "text": [
      "CPU times: user 6.87 s, sys: 7.04 ms, total: 6.87 s\n",
      "Wall time: 6.85 s\n",
      "CPU times: user 11.3 ms, sys: 129 µs, total: 11.5 ms\n",
      "Wall time: 11.1 ms\n"
     ]
    }
   ],
   "source": [
    "%time w, b, J_list = train(w, b, x_train, y_train, x_test, y_test, N_epoch = 1000, update=update, verify=verify) \n",
    "%time w, b, J_list = train(w, b, x_train, y_train, x_test, y_test, N_epoch = 1000, update=update_jit, verify=verify_jit) "
   ]
  },
  {
   "cell_type": "code",
   "execution_count": 10,
   "id": "24f9ebb4-5260-4be3-86d0-bf31671bd491",
   "metadata": {},
   "outputs": [
    {
     "data": {
      "text/plain": [
       "617.1171171171171"
      ]
     },
     "execution_count": 10,
     "metadata": {},
     "output_type": "execute_result"
    }
   ],
   "source": [
    "6850/11.1"
   ]
  },
  {
   "cell_type": "code",
   "execution_count": null,
   "id": "dd59876a-0e34-444e-abe2-546ae753a639",
   "metadata": {},
   "outputs": [],
   "source": []
  }
 ],
 "metadata": {
  "kernelspec": {
   "display_name": "jax",
   "language": "python",
   "name": "jax"
  },
  "language_info": {
   "codemirror_mode": {
    "name": "ipython",
    "version": 3
   },
   "file_extension": ".py",
   "mimetype": "text/x-python",
   "name": "python",
   "nbconvert_exporter": "python",
   "pygments_lexer": "ipython3",
   "version": "3.9.7"
  }
 },
 "nbformat": 4,
 "nbformat_minor": 5
}
