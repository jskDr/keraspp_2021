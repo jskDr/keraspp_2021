{
 "cells": [
  {
   "cell_type": "code",
   "execution_count": 2,
   "id": "b0860edf-82f1-4e88-99d2-7e4354b5eb07",
   "metadata": {},
   "outputs": [],
   "source": [
    "import jax.numpy as jnp\n",
    "from jax import grad, jit, vmap, value_and_grad\n",
    "from numpy import random"
   ]
  },
  {
   "cell_type": "code",
   "execution_count": 3,
   "id": "d30e001d-a648-4580-890c-4612daba3cd6",
   "metadata": {},
   "outputs": [],
   "source": [
    "def update(w, b, x_a, y_a, x_v, y_v, mu = 0.01):\n",
    "    dw_a, db_a = vdfdwb(w, b, x_a, y_a)\n",
    "    dw, db = jnp.mean(dw_a), jnp.mean(db_a)\n",
    "    w -= mu * dw\n",
    "    b -= mu * db\n",
    "    J = jnp.sum(vf(w, b, x_v, y_v))\n",
    "    return w, b, J    \n",
    "update_jit = jit(update)\n",
    "\n",
    "def get_fn():\n",
    "    pred = lambda w, b, x: w * x + b\n",
    "    f = lambda w, b, x, y: jnp.sum(jnp.power(y - pred(w,b,x),2))\n",
    "    dfdwb = grad(f, argnums=[0,1])\n",
    "    vdfdwb = vmap(dfdwb, (None, None, 0, 0))\n",
    "    vf = vmap(f, (None, None, 0, 0))\n",
    "    return vdfdwb, vf\n",
    "vdfdwb, vf = get_fn()\n",
    "\n",
    "def train(w, b, x_a, y_a, x_v, y_v, N_epoch=1000, update=update_jit):\n",
    "    J_list = []\n",
    "    for epoch in range(N_epoch):\n",
    "        #J, w, b = update_jit(w, b, x_a, y_a)\n",
    "        w, b, J = update(w, b, x_a, y_a, x_v, y_v)\n",
    "        J_list.append(J)\n",
    "    return w, b, J_list"
   ]
  },
  {
   "cell_type": "code",
   "execution_count": 4,
   "id": "fd79a5f4-230c-4ad7-876d-f706884ce2fd",
   "metadata": {},
   "outputs": [
    {
     "name": "stderr",
     "output_type": "stream",
     "text": [
      "WARNING:absl:No GPU/TPU found, falling back to CPU. (Set TF_CPP_MIN_LOG_LEVEL=0 and rerun for more info.)\n"
     ]
    }
   ],
   "source": [
    "model = lambda x: x * 2.0 + 1.0\n",
    "x_train = jnp.array([0, 1])\n",
    "y_train = model(x_train)\n",
    "x_test = jnp.array([2,3,4])\n",
    "y_test = model(x_test)"
   ]
  },
  {
   "cell_type": "code",
   "execution_count": 5,
   "id": "c38bc4fc-6d6d-4790-99d6-b31e1e68020a",
   "metadata": {},
   "outputs": [
    {
     "name": "stdout",
     "output_type": "stream",
     "text": [
      "[1.9783688] [1.0133686]\n"
     ]
    }
   ],
   "source": [
    "w = random.uniform(low=-0.01, high=0.01, size=(1,))\n",
    "b = random.uniform(low=-0.01, high=0.01, size=(1,))\n",
    "\n",
    "N_epoch = 1000\n",
    "w, b, J_list = train(w, b, x_train, y_train, x_test, y_test, N_epoch = N_epoch, update=update_jit) \n",
    "print(w, b)"
   ]
  },
  {
   "cell_type": "code",
   "execution_count": 6,
   "id": "6e5720cb-5e46-4c84-a3ff-0feeca486623",
   "metadata": {},
   "outputs": [
    {
     "name": "stdout",
     "output_type": "stream",
     "text": [
      "CPU times: user 6.48 s, sys: 0 ns, total: 6.48 s\n",
      "Wall time: 6.46 s\n"
     ]
    }
   ],
   "source": [
    "%time w, b, J_list = train(w, b, x_train, y_train, x_test, y_test, N_epoch = 1000, update=update) "
   ]
  },
  {
   "cell_type": "code",
   "execution_count": 7,
   "id": "b750c8c6-c532-43bb-b88b-a4bef08b11bc",
   "metadata": {},
   "outputs": [
    {
     "name": "stdout",
     "output_type": "stream",
     "text": [
      "CPU times: user 14.5 ms, sys: 0 ns, total: 14.5 ms\n",
      "Wall time: 11.6 ms\n"
     ]
    }
   ],
   "source": [
    "%time w, b, J_list = train(w, b, x_train, y_train, x_test, y_test, N_epoch = 1000, update=update_jit) "
   ]
  },
  {
   "cell_type": "code",
   "execution_count": 8,
   "id": "24f9ebb4-5260-4be3-86d0-bf31671bd491",
   "metadata": {},
   "outputs": [
    {
     "data": {
      "text/plain": [
       "494.06779661016947"
      ]
     },
     "execution_count": 8,
     "metadata": {},
     "output_type": "execute_result"
    }
   ],
   "source": [
    "5830/11.8"
   ]
  }
 ],
 "metadata": {
  "kernelspec": {
   "display_name": "jax",
   "language": "python",
   "name": "jax"
  },
  "language_info": {
   "codemirror_mode": {
    "name": "ipython",
    "version": 3
   },
   "file_extension": ".py",
   "mimetype": "text/x-python",
   "name": "python",
   "nbconvert_exporter": "python",
   "pygments_lexer": "ipython3",
   "version": "3.9.7"
  }
 },
 "nbformat": 4,
 "nbformat_minor": 5
}
