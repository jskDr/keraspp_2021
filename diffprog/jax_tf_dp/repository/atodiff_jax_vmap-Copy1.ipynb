{
 "cells": [
  {
   "cell_type": "markdown",
   "id": "0b37326c-c694-43b2-94cd-494b73741bc1",
   "metadata": {},
   "source": [
    "# AutoDiff by JAX"
   ]
  },
  {
   "cell_type": "code",
   "execution_count": 1,
   "id": "4863f1eb-c2f4-432b-9a44-70824502060b",
   "metadata": {},
   "outputs": [
    {
     "name": "stdout",
     "output_type": "stream",
     "text": [
      "0.2.26\n"
     ]
    }
   ],
   "source": [
    "# JAX\n",
    "from jax import jit, grad\n",
    "import jax.numpy as jnp\n",
    "import jax\n",
    "print(jax.__version__)\n",
    "# Common\n",
    "import numpy as np"
   ]
  },
  {
   "cell_type": "markdown",
   "id": "6f71603f-7192-4efb-9f46-328cbbdcd3e4",
   "metadata": {},
   "source": [
    "## JAX without JIT"
   ]
  },
  {
   "cell_type": "code",
   "execution_count": 2,
   "id": "b99ee0bf-56bc-45e5-871a-43e85eec9892",
   "metadata": {},
   "outputs": [
    {
     "name": "stderr",
     "output_type": "stream",
     "text": [
      "WARNING:absl:No GPU/TPU found, falling back to CPU. (Set TF_CPP_MIN_LOG_LEVEL=0 and rerun for more info.)\n"
     ]
    },
    {
     "name": "stdout",
     "output_type": "stream",
     "text": [
      "f(x,10) = 2^10 =  1024.0\n",
      "Theory: df(x,10)/dx = 10 x 2^9 =  5120.0\n",
      "AD: df(x,10) =  5120.0\n"
     ]
    }
   ],
   "source": [
    "f = lambda x, n: x**n \n",
    "df_th = lambda x, n: n*f(x,n-1)\n",
    "\n",
    "df_ad = grad(f)\n",
    "    \n",
    "x = float(2.0)\n",
    "print(\"f(x,10) = 2^10 = \", f(x,10))\n",
    "print(\"Theory: df(x,10)/dx = 10 x 2^9 = \", df_th(x,10))\n",
    "print(\"AD: df(x,10) = \", df_ad(x,10))"
   ]
  },
  {
   "cell_type": "code",
   "execution_count": 3,
   "id": "03287f0d-ea85-47d1-b767-48e16aa31b78",
   "metadata": {},
   "outputs": [
    {
     "name": "stdout",
     "output_type": "stream",
     "text": [
      "CPU times: user 1.46 s, sys: 16.9 ms, total: 1.48 s\n",
      "Wall time: 1.47 s\n"
     ]
    }
   ],
   "source": [
    "x_all = np.random.randn(1000)\n",
    "%time y_all = list(map(lambda x: df_ad(x,10), x_all))"
   ]
  },
  {
   "cell_type": "markdown",
   "id": "2de5b136-ec57-48d2-b37c-9df6b6ba6ed0",
   "metadata": {},
   "source": [
    "## JAX with JIT"
   ]
  },
  {
   "cell_type": "code",
   "execution_count": 4,
   "id": "13f588d0-8add-4907-8e28-a12085bd827a",
   "metadata": {},
   "outputs": [
    {
     "name": "stdout",
     "output_type": "stream",
     "text": [
      "CPU times: user 34.2 ms, sys: 0 ns, total: 34.2 ms\n",
      "Wall time: 31.3 ms\n"
     ]
    }
   ],
   "source": [
    "df_ad_jit = jit(grad(f))\n",
    "\n",
    "x_all = np.random.randn(1000) # 1,000\n",
    "%time y_all = list(map(lambda x: df_ad_jit(x,10), x_all))"
   ]
  },
  {
   "cell_type": "code",
   "execution_count": 5,
   "id": "66f35543-e1be-4a85-8833-3aef9f45318a",
   "metadata": {},
   "outputs": [
    {
     "name": "stdout",
     "output_type": "stream",
     "text": [
      "Speed up from JAX without JIT: 36.25 times faster\n",
      "Speed up from Tensorflow 2.4.1: 13.14 times faster\n"
     ]
    }
   ],
   "source": [
    "print(f\"Speed up from JAX without JIT: {1410 / 38.9:.2f} times faster\")\n",
    "print(f\"Speed up from Tensorflow 2.4.1: {511 / 38.9:.2f} times faster\")"
   ]
  },
  {
   "cell_type": "markdown",
   "id": "6c53b80e-ad32-4949-8866-f1a3f3026c96",
   "metadata": {},
   "source": [
    "## vmap"
   ]
  },
  {
   "cell_type": "code",
   "execution_count": 30,
   "id": "bb40071c-3a6e-49e8-a9e0-fe9091aeae65",
   "metadata": {},
   "outputs": [],
   "source": [
    "from jax import vmap"
   ]
  },
  {
   "cell_type": "code",
   "execution_count": 31,
   "id": "72465ba9-0fc4-4ff8-b041-20f3f6f1d49f",
   "metadata": {},
   "outputs": [],
   "source": [
    "f = lambda x: x** 10"
   ]
  },
  {
   "cell_type": "markdown",
   "id": "6c06c9dc-fe86-4263-a2a7-2376f76b742f",
   "metadata": {},
   "source": [
    "### len(x_all) = 1000"
   ]
  },
  {
   "cell_type": "code",
   "execution_count": 34,
   "id": "f2c9de44-02f4-44de-ba92-f014a7de542b",
   "metadata": {},
   "outputs": [
    {
     "name": "stdout",
     "output_type": "stream",
     "text": [
      "CPU times: user 1.38 s, sys: 9.65 ms, total: 1.39 s\n",
      "Wall time: 1.39 s\n",
      "CPU times: user 2.67 ms, sys: 227 µs, total: 2.9 ms\n",
      "Wall time: 2.91 ms\n"
     ]
    }
   ],
   "source": [
    "x_all = np.random.randn(1000) # 1,000\n",
    "df_ad = grad(f)\n",
    "vdf_ad = vmap(df_ad, 0)\n",
    "%time y_all = list(map(lambda x: df_ad(x), x_all))\n",
    "%time y_all = vdf_ad(x_all)"
   ]
  },
  {
   "cell_type": "code",
   "execution_count": 35,
   "id": "4ac3e69f-e5ec-4026-b820-0fc747d3fa90",
   "metadata": {},
   "outputs": [
    {
     "name": "stdout",
     "output_type": "stream",
     "text": [
      "CPU times: user 11.3 ms, sys: 10.2 ms, total: 21.5 ms\n",
      "Wall time: 19.9 ms\n",
      "CPU times: user 21.7 ms, sys: 140 µs, total: 21.9 ms\n",
      "Wall time: 20.8 ms\n"
     ]
    }
   ],
   "source": [
    "x_all = np.random.randn(1000) # 1,000\n",
    "\n",
    "df_ad_jit = jit(grad(f))\n",
    "vdf_ad_jit = vmap(df_ad_jit, 0)\n",
    "%time y_all = list(map(lambda x: df_ad_jit(x), x_all))\n",
    "%time y_all = vdf_ad_jit(x_all)"
   ]
  },
  {
   "cell_type": "markdown",
   "id": "6895ea8b-c883-4356-a7fb-ef43ea5d1dd1",
   "metadata": {},
   "source": [
    "### len(x_all) = 1000"
   ]
  },
  {
   "cell_type": "code",
   "execution_count": 40,
   "id": "bc7fe1b8-09ee-4c75-ae53-5b4703de8854",
   "metadata": {},
   "outputs": [],
   "source": [
    "from jax import vmap"
   ]
  },
  {
   "cell_type": "code",
   "execution_count": 41,
   "id": "cfbe874d-d2fb-48e3-a3d4-071448c1cd67",
   "metadata": {},
   "outputs": [
    {
     "data": {
      "text/plain": [
       "DeviceArray([1., 1., 1., 1., 1., 1., 1., 1., 1., 1.], dtype=float32)"
      ]
     },
     "execution_count": 41,
     "metadata": {},
     "output_type": "execute_result"
    }
   ],
   "source": [
    "f = lambda x: x\n",
    "f(2.0)\n",
    "\n",
    "x = jnp.ones(10)\n",
    "f(x)"
   ]
  },
  {
   "cell_type": "code",
   "execution_count": 42,
   "id": "6a499f9d-e6b2-493d-9243-acd3fa1d0c75",
   "metadata": {},
   "outputs": [],
   "source": [
    "vf = vmap(f, 0)"
   ]
  },
  {
   "cell_type": "code",
   "execution_count": 43,
   "id": "adfb3183-b5bc-48d3-80bf-09f80683b40e",
   "metadata": {},
   "outputs": [
    {
     "data": {
      "text/plain": [
       "DeviceArray([1., 1., 1., 1., 1., 1., 1., 1., 1., 1.], dtype=float32)"
      ]
     },
     "execution_count": 43,
     "metadata": {},
     "output_type": "execute_result"
    }
   ],
   "source": [
    "vf(x)"
   ]
  },
  {
   "cell_type": "code",
   "execution_count": 44,
   "id": "abcfebf4-830e-4f8c-984e-3e71133b6639",
   "metadata": {},
   "outputs": [],
   "source": [
    "df = grad(f)"
   ]
  },
  {
   "cell_type": "code",
   "execution_count": 45,
   "id": "f4e78e03-9e6e-4e12-9dae-1532a260e6a4",
   "metadata": {},
   "outputs": [
    {
     "data": {
      "text/plain": [
       "DeviceArray(1., dtype=float32, weak_type=True)"
      ]
     },
     "execution_count": 45,
     "metadata": {},
     "output_type": "execute_result"
    }
   ],
   "source": [
    "df(2.0)"
   ]
  },
  {
   "cell_type": "code",
   "execution_count": 46,
   "id": "79bb0881-758e-479e-8e34-9fe674e9056b",
   "metadata": {},
   "outputs": [],
   "source": [
    "vdf = vmap(df, 0)"
   ]
  },
  {
   "cell_type": "code",
   "execution_count": 47,
   "id": "0796f471-afb1-48ea-9f50-47f85919043d",
   "metadata": {},
   "outputs": [
    {
     "data": {
      "text/plain": [
       "DeviceArray([1., 1., 1., 1., 1., 1., 1., 1., 1., 1.], dtype=float32)"
      ]
     },
     "execution_count": 47,
     "metadata": {},
     "output_type": "execute_result"
    }
   ],
   "source": [
    "vdf(x)"
   ]
  },
  {
   "cell_type": "code",
   "execution_count": null,
   "id": "b4eacade-ddd3-4894-a489-6d53a709d496",
   "metadata": {},
   "outputs": [],
   "source": []
  }
 ],
 "metadata": {
  "kernelspec": {
   "display_name": "jax",
   "language": "python",
   "name": "jax"
  },
  "language_info": {
   "codemirror_mode": {
    "name": "ipython",
    "version": 3
   },
   "file_extension": ".py",
   "mimetype": "text/x-python",
   "name": "python",
   "nbconvert_exporter": "python",
   "pygments_lexer": "ipython3",
   "version": "3.9.7"
  }
 },
 "nbformat": 4,
 "nbformat_minor": 5
}
