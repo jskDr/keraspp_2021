{
 "cells": [
  {
   "cell_type": "code",
   "execution_count": 3,
   "id": "c106796f-7d90-4624-9712-2e62b03445a1",
   "metadata": {},
   "outputs": [],
   "source": [
    "using ADCME"
   ]
  },
  {
   "cell_type": "code",
   "execution_count": 4,
   "id": "ea159d3e-9a51-4f7f-8f00-b4e8cf3e45f9",
   "metadata": {},
   "outputs": [
    {
     "name": "stderr",
     "output_type": "stream",
     "text": [
      "┌ Warning: `vendor()` is deprecated, use `BLAS.get_config()` and inspect the output instead\n",
      "│   caller = npyinitialize() at numpy.jl:67\n",
      "└ @ PyCall /home/sjkim/.julia/packages/PyCall/L0fLP/src/numpy.jl:67\n",
      "2022-01-09 10:25:35.263772: I tensorflow/core/platform/cpu_feature_guard.cc:145] This TensorFlow binary is optimized with Intel(R) MKL-DNN to use the following CPU instructions in performance critical operations:  SSE4.1 SSE4.2 AVX AVX2 FMA\n",
      "To enable them in non-MKL-DNN operations, rebuild TensorFlow with the appropriate compiler flags.\n",
      "2022-01-09 10:25:35.417484: I tensorflow/core/platform/profile_utils/cpu_utils.cc:94] CPU Frequency: 3599995000 Hz\n",
      "2022-01-09 10:25:35.421624: I tensorflow/compiler/xla/service/service.cc:168] XLA service 0x477ebd0 initialized for platform Host (this does not guarantee that XLA will be used). Devices:\n",
      "2022-01-09 10:25:35.421646: I tensorflow/compiler/xla/service/service.cc:176]   StreamExecutor device (0): Host, Default Version\n",
      "OMP: Info #212: KMP_AFFINITY: decoding x2APIC ids.\n",
      "OMP: Info #210: KMP_AFFINITY: Affinity capable, using global cpuid leaf 11 info\n",
      "OMP: Info #154: KMP_AFFINITY: Initial OS proc set respected: 0-7\n",
      "OMP: Info #156: KMP_AFFINITY: 8 available OS procs\n",
      "OMP: Info #157: KMP_AFFINITY: Uniform topology\n",
      "OMP: Info #179: KMP_AFFINITY: 1 packages x 4 cores/pkg x 2 threads/core (4 total cores)\n",
      "OMP: Info #214: KMP_AFFINITY: OS proc to physical thread map:\n",
      "OMP: Info #171: KMP_AFFINITY: OS proc 0 maps to package 0 core 0 thread 0 \n",
      "OMP: Info #171: KMP_AFFINITY: OS proc 1 maps to package 0 core 0 thread 1 \n",
      "OMP: Info #171: KMP_AFFINITY: OS proc 2 maps to package 0 core 1 thread 0 \n",
      "OMP: Info #171: KMP_AFFINITY: OS proc 3 maps to package 0 core 1 thread 1 \n",
      "OMP: Info #171: KMP_AFFINITY: OS proc 4 maps to package 0 core 2 thread 0 \n",
      "OMP: Info #171: KMP_AFFINITY: OS proc 5 maps to package 0 core 2 thread 1 \n",
      "OMP: Info #171: KMP_AFFINITY: OS proc 6 maps to package 0 core 3 thread 0 \n",
      "OMP: Info #171: KMP_AFFINITY: OS proc 7 maps to package 0 core 3 thread 1 \n",
      "OMP: Info #250: KMP_AFFINITY: pid 5006 tid 5006 thread 0 bound to OS proc set 0\n",
      "2022-01-09 10:25:35.427476: I tensorflow/core/common_runtime/process_util.cc:115] Creating new thread pool with default inter op setting: 2. Tune using inter_op_parallelism_threads for best performance.\n"
     ]
    },
    {
     "data": {
      "text/plain": [
       "10-element Vector{Float64}:\n",
       " 2.058592382552532\n",
       " 2.3820238640926146\n",
       " 1.8877250485268702\n",
       " 2.091594496949777\n",
       " 1.9549008702972799\n",
       " 1.629256430726512\n",
       " 2.470260104872212\n",
       " 1.6069686065255828\n",
       " 1.6938494283524852\n",
       " 1.0924638594492844"
      ]
     },
     "execution_count": 4,
     "metadata": {},
     "output_type": "execute_result"
    }
   ],
   "source": [
    "a = constant(rand(10,10))\n",
    "b = constant(rand(10))\n",
    "c = a * b\n",
    "sess = Session()\n",
    "run(sess, c)"
   ]
  },
  {
   "cell_type": "code",
   "execution_count": null,
   "id": "8e4659c4-3dad-4b47-bc79-57e790e191cf",
   "metadata": {},
   "outputs": [],
   "source": []
  }
 ],
 "metadata": {
  "kernelspec": {
   "display_name": "Julia 1.7.0",
   "language": "julia",
   "name": "julia-1.7"
  },
  "language_info": {
   "file_extension": ".jl",
   "mimetype": "application/julia",
   "name": "julia",
   "version": "1.7.0"
  }
 },
 "nbformat": 4,
 "nbformat_minor": 5
}
