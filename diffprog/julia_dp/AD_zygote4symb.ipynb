{
 "cells": [
  {
   "cell_type": "markdown",
   "id": "f42af623",
   "metadata": {},
   "source": [
    "# Zygote AutoDiff works for Symboic Representation"
   ]
  },
  {
   "cell_type": "markdown",
   "id": "1b6664ca-24ca-4f63-972a-776ab557103a",
   "metadata": {},
   "source": [
    "## Check by Zygote for Composite Function"
   ]
  },
  {
   "cell_type": "code",
   "execution_count": 1,
   "id": "c59a8192-f186-42c6-9cc6-0ed1c90960e6",
   "metadata": {},
   "outputs": [],
   "source": [
    "using Symbolics\n",
    "using Zygote"
   ]
  },
  {
   "cell_type": "code",
   "execution_count": 2,
   "id": "7849ef82-ed0a-4761-8487-e67db5856d45",
   "metadata": {},
   "outputs": [
    {
     "data": {
      "text/latex": [
       "\\begin{equation}\n",
       "12 x^{8}\n",
       "\\end{equation}\n"
      ],
      "text/plain": [
       "(12//1)*(x^8)"
      ]
     },
     "metadata": {},
     "output_type": "display_data"
    }
   ],
   "source": [
    "f(x) = 3x^2\n",
    "g(x) = 2x^2\n",
    "h(x) = x^2\n",
    "y(x) = f(g(h(x)))\n",
    "\n",
    "@variables x\n",
    "display(y(x))"
   ]
  },
  {
   "cell_type": "code",
   "execution_count": 3,
   "id": "3cb65469-58f0-4741-bb35-1a97b062b8c9",
   "metadata": {},
   "outputs": [
    {
     "data": {
      "text/latex": [
       "\\begin{equation}\n",
       "96 x^{7}\n",
       "\\end{equation}\n"
      ],
      "text/plain": [
       "(96//1)*(x^7)"
      ]
     },
     "metadata": {},
     "output_type": "display_data"
    }
   ],
   "source": [
    "dy(x) = gradient(y,x)[1]\n",
    "display(dy(x))"
   ]
  },
  {
   "cell_type": "markdown",
   "id": "b513518a-7085-43ce-ab7c-24cd81554a41",
   "metadata": {},
   "source": [
    "## Check by Zygote for DiffProg-Type Code"
   ]
  },
  {
   "cell_type": "code",
   "execution_count": 7,
   "id": "c84ca5aa-ff59-4c3b-ac77-499c6d746e0a",
   "metadata": {},
   "outputs": [
    {
     "data": {
      "text/latex": [
       "\\begin{equation}\n",
       "x^{5}\n",
       "\\end{equation}\n"
      ],
      "text/plain": [
       "x^5"
      ]
     },
     "metadata": {},
     "output_type": "display_data"
    }
   ],
   "source": [
    "function y(x, N)\n",
    "    # N = 5\n",
    "    y = 1\n",
    "    for i=1:N\n",
    "        y *= x\n",
    "    end\n",
    "    y\n",
    "end\n",
    "\n",
    "@variables x\n",
    "display(y(x, 5))"
   ]
  },
  {
   "cell_type": "code",
   "execution_count": 8,
   "id": "a143fae6-6efb-4970-965a-4d385c8be6b2",
   "metadata": {},
   "outputs": [
    {
     "data": {
      "text/latex": [
       "\\begin{equation}\n",
       "5 x^{4}\n",
       "\\end{equation}\n"
      ],
      "text/plain": [
       "5(x^4)"
      ]
     },
     "execution_count": 8,
     "metadata": {},
     "output_type": "execute_result"
    }
   ],
   "source": [
    "dy(x,N) = Zygote.gradient(y,x,N)[1]\n",
    "dy(x,5)"
   ]
  },
  {
   "cell_type": "markdown",
   "id": "b1f04cf8-2975-4332-848b-91ab6eef7796",
   "metadata": {},
   "source": [
    "## Appendix"
   ]
  },
  {
   "cell_type": "code",
   "execution_count": 5,
   "id": "51dd9783-0942-4bb8-a7ef-e0465addf1af",
   "metadata": {},
   "outputs": [
    {
     "data": {
      "text/latex": [
       "\\begin{equation}\n",
       "x^{5}\n",
       "\\end{equation}\n"
      ],
      "text/plain": [
       "x^5"
      ]
     },
     "metadata": {},
     "output_type": "display_data"
    },
    {
     "data": {
      "text/latex": [
       "\\begin{equation}\n",
       "5 x^{4}\n",
       "\\end{equation}\n"
      ],
      "text/plain": [
       "5(x^4)"
      ]
     },
     "execution_count": 5,
     "metadata": {},
     "output_type": "execute_result"
    }
   ],
   "source": [
    "function y(x)\n",
    "    N = 5\n",
    "    y = 1\n",
    "    for i=1:N\n",
    "        y *= x\n",
    "    end\n",
    "    y\n",
    "end\n",
    "\n",
    "display(y(x))\n",
    "dy(x) = Zygote.gradient(y,x)[1]\n",
    "dy(x)"
   ]
  }
 ],
 "metadata": {
  "kernelspec": {
   "display_name": "Julia 1.7.0",
   "language": "julia",
   "name": "julia-1.7"
  },
  "language_info": {
   "file_extension": ".jl",
   "mimetype": "application/julia",
   "name": "julia",
   "version": "1.7.0"
  }
 },
 "nbformat": 4,
 "nbformat_minor": 5
}
