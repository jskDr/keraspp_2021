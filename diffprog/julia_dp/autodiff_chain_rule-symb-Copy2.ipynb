{
 "cells": [
  {
   "cell_type": "markdown",
   "id": "dda8201e-7788-4793-99ed-d78499dc8ca9",
   "metadata": {},
   "source": [
    "# AutoDiff by Symboic Representation in Julia"
   ]
  },
  {
   "cell_type": "code",
   "execution_count": 60,
   "id": "ab349d89-61e6-4766-a7b4-be53257daa92",
   "metadata": {},
   "outputs": [],
   "source": [
    "using Symbolics"
   ]
  },
  {
   "cell_type": "code",
   "execution_count": 69,
   "id": "5784d1f9-21c8-42a8-b794-8aeaf946e49f",
   "metadata": {},
   "outputs": [
    {
     "data": {
      "text/latex": [
       "\\begin{equation}\n",
       "12 x^{8}\n",
       "\\end{equation}\n"
      ],
      "text/plain": [
       "(12//1)*(x^8)"
      ]
     },
     "metadata": {},
     "output_type": "display_data"
    },
    {
     "data": {
      "text/latex": [
       "\\begin{equation}\n",
       "96 x^{7}\n",
       "\\end{equation}\n"
      ],
      "text/plain": [
       "96(x^7)"
      ]
     },
     "metadata": {},
     "output_type": "display_data"
    },
    {
     "data": {
      "text/latex": [
       "\\begin{equation}\n",
       "12 x^{8}\n",
       "\\end{equation}\n"
      ],
      "text/plain": [
       "(12//1)*(x^8)"
      ]
     },
     "metadata": {},
     "output_type": "display_data"
    },
    {
     "data": {
      "text/latex": [
       "\\begin{equation}\n",
       "96 x^{7}\n",
       "\\end{equation}\n"
      ],
      "text/plain": [
       "(96//1)*(x^7)"
      ]
     },
     "metadata": {},
     "output_type": "display_data"
    }
   ],
   "source": [
    "function forward_fn(w_vec, x, i::Int)\n",
    "    y = w_vec[i](x)\n",
    "    i == size(w_vec)[1] ? y : [y; forward_fn(w_vec,y,i+1)] \n",
    "end\n",
    "\n",
    "function reverse_autodiff(w_vec, x_vec, i::Int)\n",
    "    if i == 1\n",
    "        1\n",
    "    else\n",
    "        dy = expand_derivatives(Differential(x)(w_vec[i](x)))\n",
    "        dy_x = substitute(dy, (Dict(x=>x_vec[i-1],)))\n",
    "        dy_x * reverse_autodiff(w_vec, x_vec, i-1)\n",
    "    end\n",
    "end\n",
    "\n",
    "i(x) = x\n",
    "f(x) = 3x^2\n",
    "g(x) = 2x^2\n",
    "h(x) = 1x^2\n",
    "\n",
    "@variables x \n",
    "w_vec = [i, h, g, f]\n",
    "x_vec = forward_fn(w_vec, x, 1)\n",
    "y_sad = x_vec[end]\n",
    "display(y_sad)\n",
    "dy_sad = reverse_autodiff(w_vec, x_vec, size(w_vec)[1])\n",
    "display(dy_sad)\n",
    "\n",
    "# Check by theory\n",
    "y_th = f(g(h(x)))\n",
    "display(y_th)\n",
    "dy_th = expand_derivatives(Differential(x)(y_th))\n",
    "display(dy_th)"
   ]
  },
  {
   "cell_type": "code",
   "execution_count": null,
   "id": "b1c87387-294f-47bf-87f9-cd67b5770779",
   "metadata": {},
   "outputs": [],
   "source": []
  }
 ],
 "metadata": {
  "kernelspec": {
   "display_name": "Julia 1.7.0",
   "language": "julia",
   "name": "julia-1.7"
  },
  "language_info": {
   "file_extension": ".jl",
   "mimetype": "application/julia",
   "name": "julia",
   "version": "1.7.0"
  }
 },
 "nbformat": 4,
 "nbformat_minor": 5
}
