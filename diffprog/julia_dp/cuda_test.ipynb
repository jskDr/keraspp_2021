{
 "cells": [
  {
   "cell_type": "code",
   "execution_count": null,
   "id": "9c335162-4237-4b5b-9f5c-dd9a415a20f0",
   "metadata": {},
   "outputs": [],
   "source": [
    "using CUDA, LinearAlgebra\n",
    "function cuinv(m::Matrix{T}) where T\n",
    "    if size(m, 1) != size(m, 2) throw(ArgumentError(\"Matrix not square.\")) end\n",
    "    A = CuArray(m)\n",
    "    B = CuArray(Matrix{T}(I(size(A,1))))\n",
    "    A, ipiv = CUDA.CUSOLVER.getrf!(A)\n",
    "    Matrix{T}(CUDA.CUSOLVER.getrs!('N', A, ipiv, B))\n",
    "end\n",
    "m = rand(100, 100)\n",
    "isapprox(cuinv(m), inv(m))"
   ]
  },
  {
   "cell_type": "code",
   "execution_count": 1,
   "id": "9d9ce918-8e1f-4fe5-87b1-8b22fa76040c",
   "metadata": {},
   "outputs": [],
   "source": [
    "using CUDA"
   ]
  },
  {
   "cell_type": "code",
   "execution_count": null,
   "id": "fd284bbc-b014-4968-8c58-2bf2bcacf94f",
   "metadata": {},
   "outputs": [],
   "source": [
    "CUDA.versioninfo()"
   ]
  },
  {
   "cell_type": "code",
   "execution_count": null,
   "id": "383e9e85-9a8f-4892-a337-f46f3ca1c87b",
   "metadata": {},
   "outputs": [],
   "source": [
    "[CUDA.capability(dev) for dev in CUDA.devices()]"
   ]
  }
 ],
 "metadata": {
  "kernelspec": {
   "display_name": "Julia 1.7.0",
   "language": "julia",
   "name": "julia-1.7"
  },
  "language_info": {
   "file_extension": ".jl",
   "mimetype": "application/julia",
   "name": "julia",
   "version": "1.7.0"
  }
 },
 "nbformat": 4,
 "nbformat_minor": 5
}
