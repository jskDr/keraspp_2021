{
 "cells": [
  {
   "cell_type": "code",
   "execution_count": 1,
   "id": "ab349d89-61e6-4766-a7b4-be53257daa92",
   "metadata": {},
   "outputs": [],
   "source": [
    "using Zygote"
   ]
  },
  {
   "cell_type": "code",
   "execution_count": 83,
   "id": "b1373415-2581-4aea-a19b-985a3895b3af",
   "metadata": {},
   "outputs": [
    {
     "name": "stdout",
     "output_type": "stream",
     "text": [
      "AutoDiff: x:2.0, y(x):48.0, dy(x):24.0\n",
      "Symbolic: x:2.0, y(x):48.0, dy(x):24.0\n"
     ]
    }
   ],
   "source": [
    "function _forward_fn(w_vec, x, i::Int)\n",
    "    y = w_vec[i](x)\n",
    "    if i == size(w_vec)[1]\n",
    "        y\n",
    "    else\n",
    "        [y; forward_fn(w_vec,y,i+1)] \n",
    "    end\n",
    "end\n",
    "\n",
    "function forward_fn(w_vec, x, i::Int)\n",
    "    y = w_vec[i](x)\n",
    "    i == size(w_vec)[1] ? y : [y; forward_fn(w_vec,y,i+1)] \n",
    "end\n",
    "\n",
    "function reverse_autodiff(w_vec, x_vec, i::Int)\n",
    "    # w_vec <-- [x, h(x), g(x), f(x)]\n",
    "    if i == 1\n",
    "        1\n",
    "    else\n",
    "        gradient(w_vec[i], x_vec[i-1])[1] * reverse_autodiff(w_vec, x_vec, i-1)\n",
    "    end\n",
    "end\n",
    "\n",
    "i(x) = x\n",
    "f(x) = 2x\n",
    "g(x) = 3x\n",
    "h(x) = 4x\n",
    "x = 2.0\n",
    "w_vec = [i, h, g, f]\n",
    "\n",
    "x_vec = forward_fn(w_vec, x, 1)\n",
    "y_ad = x_vec[end]\n",
    "dy_ad = reverse_autodiff(w_vec, x_vec, size(w_vec)[1])\n",
    "println(\"AutoDiff: x:$x, y(x):$(y_ad), dy(x):$(dy_ad)\")\n",
    "\n",
    "# Confirmation\n",
    "y(x) = f(g(h(x)))\n",
    "dy(x) = gradient(y,x)[1]\n",
    "println(\"Symbolic: x:$x, y(x):$(y(x)), dy(x):$(dy(x))\")"
   ]
  },
  {
   "cell_type": "code",
   "execution_count": 79,
   "id": "403a192b-a33d-4af6-85ee-91cc01782c14",
   "metadata": {},
   "outputs": [
    {
     "data": {
      "text/plain": [
       "24.0"
      ]
     },
     "execution_count": 79,
     "metadata": {},
     "output_type": "execute_result"
    }
   ],
   "source": [
    "x_vec[end]"
   ]
  },
  {
   "cell_type": "code",
   "execution_count": null,
   "id": "4b052d13-fd35-485e-acb2-aeb234b3fe95",
   "metadata": {},
   "outputs": [],
   "source": []
  }
 ],
 "metadata": {
  "kernelspec": {
   "display_name": "Julia 1.7.0",
   "language": "julia",
   "name": "julia-1.7"
  },
  "language_info": {
   "file_extension": ".jl",
   "mimetype": "application/julia",
   "name": "julia",
   "version": "1.7.0"
  }
 },
 "nbformat": 4,
 "nbformat_minor": 5
}
