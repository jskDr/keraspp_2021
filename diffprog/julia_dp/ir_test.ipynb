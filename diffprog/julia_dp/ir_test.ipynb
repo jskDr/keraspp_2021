{
 "cells": [
  {
   "cell_type": "code",
   "execution_count": 1,
   "id": "9df6449c-2951-4512-a73d-bc25c4d42002",
   "metadata": {},
   "outputs": [],
   "source": [
    "using Zygote"
   ]
  },
  {
   "cell_type": "code",
   "execution_count": 48,
   "id": "8f13c8cd-1ab7-4f32-858a-6a21887f5808",
   "metadata": {},
   "outputs": [
    {
     "data": {
      "text/plain": [
       "f (generic function with 1 method)"
      ]
     },
     "execution_count": 48,
     "metadata": {},
     "output_type": "execute_result"
    }
   ],
   "source": [
    "f(x) = sin(cos(x))"
   ]
  },
  {
   "cell_type": "code",
   "execution_count": 49,
   "id": "6498b79a-a822-4544-ae83-2b7b40332358",
   "metadata": {},
   "outputs": [
    {
     "data": {
      "text/plain": [
       "1: (%1, %2)\n",
       "  %3 = Main.cos(%2)\n",
       "  %4 = Main.sin(%3)\n",
       "  return %4"
      ]
     },
     "execution_count": 49,
     "metadata": {},
     "output_type": "execute_result"
    }
   ],
   "source": [
    "Zygote.@code_ir f(0.1)"
   ]
  },
  {
   "cell_type": "code",
   "execution_count": 50,
   "id": "5605b2f3-3601-4578-8bd4-04b6391ac08b",
   "metadata": {},
   "outputs": [
    {
     "data": {
      "text/plain": [
       "1: (%1, %2)\n",
       "  %3 = Main.cos(%2)\n",
       "  %4 = Main.sin(%3)\n",
       "  return %4"
      ]
     },
     "execution_count": 50,
     "metadata": {},
     "output_type": "execute_result"
    }
   ],
   "source": [
    "ir = Zygote.@code_ir f(0.1)"
   ]
  },
  {
   "cell_type": "code",
   "execution_count": 56,
   "id": "8d50e72a-ebe5-4fb5-8a6a-48180563ae0c",
   "metadata": {},
   "outputs": [
    {
     "data": {
      "text/plain": [
       "IRTools.Inner.IR"
      ]
     },
     "execution_count": 56,
     "metadata": {},
     "output_type": "execute_result"
    }
   ],
   "source": [
    "typeof(ir)"
   ]
  },
  {
   "cell_type": "code",
   "execution_count": null,
   "id": "94b8b71b-19b9-4eaf-b469-61aa13dae8b9",
   "metadata": {},
   "outputs": [],
   "source": []
  }
 ],
 "metadata": {
  "kernelspec": {
   "display_name": "Julia 1.7.0",
   "language": "julia",
   "name": "julia-1.7"
  },
  "language_info": {
   "file_extension": ".jl",
   "mimetype": "application/julia",
   "name": "julia",
   "version": "1.7.0"
  }
 },
 "nbformat": 4,
 "nbformat_minor": 5
}
