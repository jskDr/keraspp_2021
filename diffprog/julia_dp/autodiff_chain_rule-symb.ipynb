{
 "cells": [
  {
   "cell_type": "markdown",
   "id": "f42af623",
   "metadata": {},
   "source": [
    "# AutoDiff by Symboic Representation in Julia"
   ]
  },
  {
   "cell_type": "code",
   "execution_count": 1,
   "id": "f5b39d73",
   "metadata": {},
   "outputs": [],
   "source": [
    "using Symbolics"
   ]
  },
  {
   "cell_type": "code",
   "execution_count": 2,
   "id": "c92d2e5b",
   "metadata": {},
   "outputs": [
    {
     "data": {
      "text/latex": [
       "\\begin{equation}\n",
       "\\left[\n",
       "\\begin{array}{c}\n",
       "x \\\\\n",
       "\\end{array}\n",
       "\\right]\n",
       "\\end{equation}\n"
      ],
      "text/plain": [
       "1-element Vector{Num}:\n",
       " x"
      ]
     },
     "execution_count": 2,
     "metadata": {},
     "output_type": "execute_result"
    }
   ],
   "source": [
    "i(x) = x\n",
    "f(x) = 3x^2\n",
    "g(x) = 2x^2\n",
    "h(x) = x^2\n",
    "w_vec = [i, h, g, f]\n",
    "\n",
    "@variables x "
   ]
  },
  {
   "cell_type": "code",
   "execution_count": 3,
   "id": "f1ce6b82",
   "metadata": {},
   "outputs": [
    {
     "data": {
      "text/plain": [
       "forward_fn (generic function with 1 method)"
      ]
     },
     "execution_count": 3,
     "metadata": {},
     "output_type": "execute_result"
    }
   ],
   "source": [
    "function forward_fn(w_vec, x, i::Int)\n",
    "    y = w_vec[i](x)\n",
    "    i == size(w_vec)[1] ? y : [y; forward_fn(w_vec,y,i+1)] \n",
    "end"
   ]
  },
  {
   "cell_type": "code",
   "execution_count": 4,
   "id": "f74ec9ed",
   "metadata": {},
   "outputs": [
    {
     "data": {
      "text/latex": [
       "\\begin{equation}\n",
       "\\left[\n",
       "\\begin{array}{c}\n",
       "x \\\\\n",
       "x^{2} \\\\\n",
       "2 x^{4} \\\\\n",
       "12 x^{8} \\\\\n",
       "\\end{array}\n",
       "\\right]\n",
       "\\end{equation}\n"
      ],
      "text/plain": [
       "4-element Vector{Num}:\n",
       "             x\n",
       "           x^2\n",
       "        2(x^4)\n",
       " (12//1)*(x^8)"
      ]
     },
     "metadata": {},
     "output_type": "display_data"
    }
   ],
   "source": [
    "x_vec = forward_fn(w_vec, x, 1)\n",
    "display(x_vec)"
   ]
  },
  {
   "cell_type": "code",
   "execution_count": 5,
   "id": "60525b6c",
   "metadata": {},
   "outputs": [
    {
     "data": {
      "text/plain": [
       "reverse_autodiff (generic function with 1 method)"
      ]
     },
     "execution_count": 5,
     "metadata": {},
     "output_type": "execute_result"
    }
   ],
   "source": [
    "function gradient(w_i, x_i_1)\n",
    "    @variables x\n",
    "    dy = expand_derivatives(Differential(x)(w_i(x)))\n",
    "    (substitute(dy, (Dict(x=>x_i_1,))),)\n",
    "end\n",
    "\n",
    "function reverse_autodiff(w_vec, x_vec, i::Int)\n",
    "    i == 1 ? 1 :\n",
    "        gradient(w_vec[i], x_vec[i-1])[1] * \n",
    "            reverse_autodiff(w_vec, x_vec, i-1)\n",
    "end"
   ]
  },
  {
   "cell_type": "code",
   "execution_count": 6,
   "id": "cbb9d564",
   "metadata": {},
   "outputs": [
    {
     "data": {
      "text/latex": [
       "\\begin{equation}\n",
       "12 x^{8}\n",
       "\\end{equation}\n"
      ],
      "text/plain": [
       "(12//1)*(x^8)"
      ]
     },
     "metadata": {},
     "output_type": "display_data"
    },
    {
     "data": {
      "text/latex": [
       "\\begin{equation}\n",
       "96 x^{7}\n",
       "\\end{equation}\n"
      ],
      "text/plain": [
       "96(x^7)"
      ]
     },
     "metadata": {},
     "output_type": "display_data"
    }
   ],
   "source": [
    "y_ad = x_vec[end]\n",
    "display(y_ad)\n",
    "dy_ad = reverse_autodiff(w_vec, x_vec, size(w_vec)[1])\n",
    "display(dy_ad)"
   ]
  },
  {
   "cell_type": "markdown",
   "id": "98c52206",
   "metadata": {},
   "source": [
    "## Check by theory"
   ]
  },
  {
   "cell_type": "code",
   "execution_count": 7,
   "id": "48a33964",
   "metadata": {},
   "outputs": [
    {
     "data": {
      "text/latex": [
       "\\begin{equation}\n",
       "12 x^{8}\n",
       "\\end{equation}\n"
      ],
      "text/plain": [
       "(12//1)*(x^8)"
      ]
     },
     "metadata": {},
     "output_type": "display_data"
    },
    {
     "data": {
      "text/latex": [
       "\\begin{equation}\n",
       "96 x^{7}\n",
       "\\end{equation}\n"
      ],
      "text/plain": [
       "(96//1)*(x^7)"
      ]
     },
     "metadata": {},
     "output_type": "display_data"
    }
   ],
   "source": [
    "y_th = f(g(h(x)))\n",
    "display(y_th)\n",
    "dy_th = expand_derivatives(Differential(x)(y_th))\n",
    "display(dy_th)"
   ]
  },
  {
   "cell_type": "markdown",
   "id": "1b6664ca-24ca-4f63-972a-776ab557103a",
   "metadata": {},
   "source": [
    "## Check by Zygote"
   ]
  },
  {
   "cell_type": "code",
   "execution_count": 18,
   "id": "3fbaddfe-0173-458f-b5a4-1cf635b17832",
   "metadata": {},
   "outputs": [
    {
     "data": {
      "text/latex": [
       "\\begin{equation}\n",
       "12 x^{8}\n",
       "\\end{equation}\n"
      ],
      "text/plain": [
       "(12//1)*(x^8)"
      ]
     },
     "metadata": {},
     "output_type": "display_data"
    },
    {
     "data": {
      "text/latex": [
       "\\begin{equation}\n",
       "96 x^{7}\n",
       "\\end{equation}\n"
      ],
      "text/plain": [
       "(96//1)*(x^7)"
      ]
     },
     "metadata": {},
     "output_type": "display_data"
    }
   ],
   "source": [
    "using Symbolics\n",
    "using Zygote\n",
    "\n",
    "f(x) = 3x^2\n",
    "g(x) = 2x^2\n",
    "h(x) = x^2\n",
    "y(x) = f(g(h(x)))\n",
    "display(y(x))\n",
    "\n",
    "dy(x) = Zygote.gradient(y,x)[1]\n",
    "display(dy(x))"
   ]
  },
  {
   "cell_type": "code",
   "execution_count": 27,
   "id": "51dd9783-0942-4bb8-a7ef-e0465addf1af",
   "metadata": {},
   "outputs": [
    {
     "data": {
      "text/latex": [
       "\\begin{equation}\n",
       "x^{5}\n",
       "\\end{equation}\n"
      ],
      "text/plain": [
       "x^5"
      ]
     },
     "metadata": {},
     "output_type": "display_data"
    },
    {
     "data": {
      "text/latex": [
       "\\begin{equation}\n",
       "5 x^{4}\n",
       "\\end{equation}\n"
      ],
      "text/plain": [
       "5(x^4)"
      ]
     },
     "execution_count": 27,
     "metadata": {},
     "output_type": "execute_result"
    }
   ],
   "source": [
    "function y(x)\n",
    "    N = 5\n",
    "    y = 1\n",
    "    for i=1:N\n",
    "        y *= x\n",
    "    end\n",
    "    y\n",
    "end\n",
    "\n",
    "display(y(x))\n",
    "dy(x) = Zygote.gradient(y,x)[1]\n",
    "dy(x)"
   ]
  },
  {
   "cell_type": "code",
   "execution_count": 28,
   "id": "f5d6f573-5e70-46d7-bfab-ee76eb1659b4",
   "metadata": {},
   "outputs": [
    {
     "data": {
      "text/latex": [
       "\\begin{equation}\n",
       "x^{5}\n",
       "\\end{equation}\n"
      ],
      "text/plain": [
       "x^5"
      ]
     },
     "metadata": {},
     "output_type": "display_data"
    },
    {
     "data": {
      "text/latex": [
       "\\begin{equation}\n",
       "5 x^{4}\n",
       "\\end{equation}\n"
      ],
      "text/plain": [
       "5(x^4)"
      ]
     },
     "execution_count": 28,
     "metadata": {},
     "output_type": "execute_result"
    }
   ],
   "source": [
    "function y(x, N)\n",
    "    # N = 5\n",
    "    y = 1\n",
    "    for i=1:N\n",
    "        y *= x\n",
    "    end\n",
    "    y\n",
    "end\n",
    "\n",
    "display(y(x, 5))\n",
    "dy(x,N) = Zygote.gradient(y,x,N)[1]\n",
    "dy(x,5)"
   ]
  },
  {
   "cell_type": "markdown",
   "id": "d02cf5e5",
   "metadata": {},
   "source": [
    "## All Codes"
   ]
  },
  {
   "cell_type": "code",
   "execution_count": 8,
   "id": "59750e45",
   "metadata": {},
   "outputs": [
    {
     "data": {
      "text/latex": [
       "\\begin{equation}\n",
       "\\left[\n",
       "\\begin{array}{c}\n",
       "x \\\\\n",
       "x^{2} \\\\\n",
       "2 x^{4} \\\\\n",
       "12 x^{8} \\\\\n",
       "\\end{array}\n",
       "\\right]\n",
       "\\end{equation}\n"
      ],
      "text/plain": [
       "4-element Vector{Num}:\n",
       "             x\n",
       "           x^2\n",
       "        2(x^4)\n",
       " (12//1)*(x^8)"
      ]
     },
     "metadata": {},
     "output_type": "display_data"
    },
    {
     "data": {
      "text/latex": [
       "\\begin{equation}\n",
       "12 x^{8}\n",
       "\\end{equation}\n"
      ],
      "text/plain": [
       "(12//1)*(x^8)"
      ]
     },
     "metadata": {},
     "output_type": "display_data"
    },
    {
     "data": {
      "text/latex": [
       "\\begin{equation}\n",
       "96 x^{7}\n",
       "\\end{equation}\n"
      ],
      "text/plain": [
       "96(x^7)"
      ]
     },
     "metadata": {},
     "output_type": "display_data"
    },
    {
     "data": {
      "text/latex": [
       "\\begin{equation}\n",
       "12 x^{8}\n",
       "\\end{equation}\n"
      ],
      "text/plain": [
       "(12//1)*(x^8)"
      ]
     },
     "metadata": {},
     "output_type": "display_data"
    },
    {
     "data": {
      "text/latex": [
       "\\begin{equation}\n",
       "96 x^{7}\n",
       "\\end{equation}\n"
      ],
      "text/plain": [
       "(96//1)*(x^7)"
      ]
     },
     "metadata": {},
     "output_type": "display_data"
    }
   ],
   "source": [
    "function gradient(w_i, x_i_1) # 1) Newly added\n",
    "    @variables x\n",
    "    dy = expand_derivatives(Differential(x)(w_i(x)))\n",
    "    (substitute(dy, (Dict(x=>x_i_1,))),)\n",
    "end\n",
    "\n",
    "function main(w_vec)\n",
    "    @variables x # 2) Replaced from x = 2.0 \n",
    "    x_vec = forward_fn(w_vec, x, 1)\n",
    "    y_ad = x_vec[end]\n",
    "    dy_ad = reverse_autodiff(w_vec, x_vec, size(w_vec)[1])\n",
    "    return x_vec, y_ad, dy_ad\n",
    "end\n",
    "\n",
    "i(x) = x\n",
    "f(x) = 3x^2\n",
    "g(x) = 2x^2\n",
    "h(x) = x^2\n",
    "w_vec = [i, h, g, f]\n",
    "x_vec, y_ad, dy_ad = main(w_vec)\n",
    "display(x_vec)\n",
    "display(y_ad)\n",
    "display(dy_ad)\n",
    "\n",
    "# 3) Verification code\n",
    "@variables x\n",
    "y_th = f(g(h(x)))\n",
    "display(y_th)\n",
    "dy_th = expand_derivatives(Differential(x)(y_th))\n",
    "display(dy_th)"
   ]
  },
  {
   "cell_type": "code",
   "execution_count": null,
   "id": "848e39e3",
   "metadata": {},
   "outputs": [],
   "source": []
  }
 ],
 "metadata": {
  "kernelspec": {
   "display_name": "Julia 1.7.0",
   "language": "julia",
   "name": "julia-1.7"
  },
  "language_info": {
   "file_extension": ".jl",
   "mimetype": "application/julia",
   "name": "julia",
   "version": "1.7.0"
  }
 },
 "nbformat": 4,
 "nbformat_minor": 5
}
