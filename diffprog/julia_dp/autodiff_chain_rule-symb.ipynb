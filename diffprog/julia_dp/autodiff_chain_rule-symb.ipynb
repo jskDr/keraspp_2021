{
 "cells": [
  {
   "cell_type": "markdown",
   "id": "dda8201e-7788-4793-99ed-d78499dc8ca9",
   "metadata": {},
   "source": [
    "# AutoDiff by Symboic Representation in Julia"
   ]
  },
  {
   "cell_type": "code",
   "execution_count": 1,
   "id": "ab349d89-61e6-4766-a7b4-be53257daa92",
   "metadata": {},
   "outputs": [],
   "source": [
    "using Symbolics"
   ]
  },
  {
   "cell_type": "code",
   "execution_count": 2,
   "id": "9bf69f10-c79b-4536-a198-c46ed03dc297",
   "metadata": {},
   "outputs": [
    {
     "data": {
      "text/latex": [
       "\\begin{equation}\n",
       "\\left[\n",
       "\\begin{array}{c}\n",
       "x \\\\\n",
       "\\end{array}\n",
       "\\right]\n",
       "\\end{equation}\n"
      ],
      "text/plain": [
       "1-element Vector{Num}:\n",
       " x"
      ]
     },
     "execution_count": 2,
     "metadata": {},
     "output_type": "execute_result"
    }
   ],
   "source": [
    "i(x) = x\n",
    "f(x) = 3x^2\n",
    "g(x) = 2x^2\n",
    "h(x) = x^2\n",
    "w_vec = [i, h, g, f]\n",
    "\n",
    "@variables x "
   ]
  },
  {
   "cell_type": "code",
   "execution_count": 3,
   "id": "3ad84ac0-5de4-495d-8077-d32c75f8df8e",
   "metadata": {},
   "outputs": [
    {
     "data": {
      "text/plain": [
       "forward_fn (generic function with 1 method)"
      ]
     },
     "execution_count": 3,
     "metadata": {},
     "output_type": "execute_result"
    }
   ],
   "source": [
    "function forward_fn(w_vec, x, i::Int)\n",
    "    y = w_vec[i](x)\n",
    "    i == size(w_vec)[1] ? y : [y; forward_fn(w_vec,y,i+1)] \n",
    "end"
   ]
  },
  {
   "cell_type": "code",
   "execution_count": 4,
   "id": "3e3452f0-1448-480d-b87e-7b5ce69a4c22",
   "metadata": {},
   "outputs": [
    {
     "data": {
      "text/latex": [
       "\\begin{equation}\n",
       "\\left[\n",
       "\\begin{array}{c}\n",
       "x \\\\\n",
       "x^{2} \\\\\n",
       "2 x^{4} \\\\\n",
       "12 x^{8} \\\\\n",
       "\\end{array}\n",
       "\\right]\n",
       "\\end{equation}\n"
      ],
      "text/plain": [
       "4-element Vector{Num}:\n",
       "             x\n",
       "           x^2\n",
       "        2(x^4)\n",
       " (12//1)*(x^8)"
      ]
     },
     "metadata": {},
     "output_type": "display_data"
    }
   ],
   "source": [
    "x_vec = forward_fn(w_vec, x, 1)\n",
    "display(x_vec)"
   ]
  },
  {
   "cell_type": "code",
   "execution_count": 5,
   "id": "3ef22c3b-8742-4451-96cd-c9b00cbdb4cc",
   "metadata": {},
   "outputs": [
    {
     "data": {
      "text/plain": [
       "reverse_autodiff (generic function with 1 method)"
      ]
     },
     "execution_count": 5,
     "metadata": {},
     "output_type": "execute_result"
    }
   ],
   "source": [
    "function gradient(w_i, x_i_1)\n",
    "    @variables x\n",
    "    dy = expand_derivatives(Differential(x)(w_i(x)))\n",
    "    (substitute(dy, (Dict(x=>x_i_1,))),)\n",
    "end\n",
    "\n",
    "function reverse_autodiff(w_vec, x_vec, i::Int)\n",
    "    i == 1 ? 1 :\n",
    "        gradient(w_vec[i], x_vec[i-1])[1] * \n",
    "            reverse_autodiff(w_vec, x_vec, i-1)\n",
    "end"
   ]
  },
  {
   "cell_type": "code",
   "execution_count": 6,
   "id": "afa72bde-da7b-492b-8edc-59e103167486",
   "metadata": {},
   "outputs": [
    {
     "data": {
      "text/latex": [
       "\\begin{equation}\n",
       "12 x^{8}\n",
       "\\end{equation}\n"
      ],
      "text/plain": [
       "(12//1)*(x^8)"
      ]
     },
     "metadata": {},
     "output_type": "display_data"
    },
    {
     "data": {
      "text/latex": [
       "\\begin{equation}\n",
       "96 x^{7}\n",
       "\\end{equation}\n"
      ],
      "text/plain": [
       "96(x^7)"
      ]
     },
     "metadata": {},
     "output_type": "display_data"
    }
   ],
   "source": [
    "y_ad = x_vec[end]\n",
    "display(y_ad)\n",
    "dy_ad = reverse_autodiff(w_vec, x_vec, size(w_vec)[1])\n",
    "display(dy_ad)"
   ]
  },
  {
   "cell_type": "markdown",
   "id": "847613b1-07d3-4770-841f-7ee560969e5e",
   "metadata": {},
   "source": [
    "## Check by theory"
   ]
  },
  {
   "cell_type": "code",
   "execution_count": 7,
   "id": "550113a9-43a5-4e7e-a2f6-1f66bcc1273a",
   "metadata": {},
   "outputs": [
    {
     "data": {
      "text/latex": [
       "\\begin{equation}\n",
       "12 x^{8}\n",
       "\\end{equation}\n"
      ],
      "text/plain": [
       "(12//1)*(x^8)"
      ]
     },
     "metadata": {},
     "output_type": "display_data"
    },
    {
     "data": {
      "text/latex": [
       "\\begin{equation}\n",
       "96 x^{7}\n",
       "\\end{equation}\n"
      ],
      "text/plain": [
       "(96//1)*(x^7)"
      ]
     },
     "metadata": {},
     "output_type": "display_data"
    }
   ],
   "source": [
    "y_th = f(g(h(x)))\n",
    "display(y_th)\n",
    "dy_th = expand_derivatives(Differential(x)(y_th))\n",
    "display(dy_th)"
   ]
  },
  {
   "cell_type": "markdown",
   "id": "733459c8-9c9b-4168-8ce7-f3d7d860abfe",
   "metadata": {},
   "source": [
    "## All Codes"
   ]
  },
  {
   "cell_type": "code",
   "execution_count": 8,
   "id": "4a0d38cc-11f4-4e5c-9954-630aaf107d5d",
   "metadata": {},
   "outputs": [
    {
     "data": {
      "text/latex": [
       "\\begin{equation}\n",
       "\\left[\n",
       "\\begin{array}{c}\n",
       "x \\\\\n",
       "x^{2} \\\\\n",
       "2 x^{4} \\\\\n",
       "12 x^{8} \\\\\n",
       "\\end{array}\n",
       "\\right]\n",
       "\\end{equation}\n"
      ],
      "text/plain": [
       "4-element Vector{Num}:\n",
       "             x\n",
       "           x^2\n",
       "        2(x^4)\n",
       " (12//1)*(x^8)"
      ]
     },
     "metadata": {},
     "output_type": "display_data"
    },
    {
     "data": {
      "text/latex": [
       "\\begin{equation}\n",
       "12 x^{8}\n",
       "\\end{equation}\n"
      ],
      "text/plain": [
       "(12//1)*(x^8)"
      ]
     },
     "metadata": {},
     "output_type": "display_data"
    },
    {
     "data": {
      "text/latex": [
       "\\begin{equation}\n",
       "96 x^{7}\n",
       "\\end{equation}\n"
      ],
      "text/plain": [
       "96(x^7)"
      ]
     },
     "metadata": {},
     "output_type": "display_data"
    },
    {
     "data": {
      "text/latex": [
       "\\begin{equation}\n",
       "12 x^{8}\n",
       "\\end{equation}\n"
      ],
      "text/plain": [
       "(12//1)*(x^8)"
      ]
     },
     "metadata": {},
     "output_type": "display_data"
    },
    {
     "data": {
      "text/latex": [
       "\\begin{equation}\n",
       "96 x^{7}\n",
       "\\end{equation}\n"
      ],
      "text/plain": [
       "(96//1)*(x^7)"
      ]
     },
     "metadata": {},
     "output_type": "display_data"
    }
   ],
   "source": [
    "function gradient(w_i, x_i_1) # 1) Newly added\n",
    "    @variables x\n",
    "    dy = expand_derivatives(Differential(x)(w_i(x)))\n",
    "    (substitute(dy, (Dict(x=>x_i_1,))),)\n",
    "end\n",
    "\n",
    "function main(w_vec)\n",
    "    @variables x # 2) Replaced from x = 2.0 \n",
    "    x_vec = forward_fn(w_vec, x, 1)\n",
    "    y_ad = x_vec[end]\n",
    "    dy_ad = reverse_autodiff(w_vec, x_vec, size(w_vec)[1])\n",
    "    return x_vec, y_ad, dy_ad\n",
    "end\n",
    "\n",
    "i(x) = x\n",
    "f(x) = 3x^2\n",
    "g(x) = 2x^2\n",
    "h(x) = x^2\n",
    "w_vec = [i, h, g, f]\n",
    "x_vec, y_ad, dy_ad = main(w_vec)\n",
    "display(x_vec)\n",
    "display(y_ad)\n",
    "display(dy_ad)\n",
    "\n",
    "# 3) Verification code\n",
    "@variables x\n",
    "y_th = f(g(h(x)))\n",
    "display(y_th)\n",
    "dy_th = expand_derivatives(Differential(x)(y_th))\n",
    "display(dy_th)"
   ]
  },
  {
   "cell_type": "code",
   "execution_count": null,
   "id": "b944f1ba-8ba9-4ee3-8e48-6b3328907f0f",
   "metadata": {},
   "outputs": [],
   "source": []
  }
 ],
 "metadata": {
  "kernelspec": {
   "display_name": "Julia 1.7.0",
   "language": "julia",
   "name": "julia-1.7"
  },
  "language_info": {
   "file_extension": ".jl",
   "mimetype": "application/julia",
   "name": "julia",
   "version": "1.7.0"
  }
 },
 "nbformat": 4,
 "nbformat_minor": 5
}
