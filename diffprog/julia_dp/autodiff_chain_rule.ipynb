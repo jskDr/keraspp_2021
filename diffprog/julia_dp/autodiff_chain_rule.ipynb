{
 "cells": [
  {
   "cell_type": "code",
   "execution_count": 1,
   "metadata": {},
   "outputs": [],
   "source": [
    "using Zygote"
   ]
  },
  {
   "cell_type": "markdown",
   "metadata": {},
   "source": [
    "## Basic condition"
   ]
  },
  {
   "cell_type": "code",
   "execution_count": 1,
   "metadata": {},
   "outputs": [
    {
     "data": {
      "text/plain": [
       "2.0"
      ]
     },
     "execution_count": 1,
     "metadata": {},
     "output_type": "execute_result"
    }
   ],
   "source": [
    "i(x) = x\n",
    "f(x) = 2x\n",
    "g(x) = 3x\n",
    "h(x) = 4x\n",
    "w_vec = [i, h, g, f]\n",
    "\n",
    "x = 2.0"
   ]
  },
  {
   "cell_type": "code",
   "execution_count": 86,
   "metadata": {},
   "outputs": [
    {
     "data": {
      "text/plain": [
       "reverse_autodiff (generic function with 2 methods)"
      ]
     },
     "execution_count": 86,
     "metadata": {},
     "output_type": "execute_result"
    }
   ],
   "source": [
    "function forward_fn(w_vec, x, i::Int)\n",
    "    y = w_vec[i](x)\n",
    "    i == size(w_vec)[1] ? y : [y; forward_fn(w_vec,y,i+1)] \n",
    "end\n",
    "\n",
    "function reverse_autodiff(w_vec, x_vec, i::Int)\n",
    "    i == 1 ? 1 :\n",
    "        gradient(w_vec[i], x_vec[i-1])[1] * \n",
    "            reverse_autodiff(w_vec, x_vec, i-1)\n",
    "end"
   ]
  },
  {
   "cell_type": "code",
   "execution_count": 87,
   "metadata": {},
   "outputs": [
    {
     "name": "stdout",
     "output_type": "stream",
     "text": [
      "AutoDiff: x:2.0, y(x):48.0, dy(x):24.0\n"
     ]
    }
   ],
   "source": [
    "x_vec = forward_fn(w_vec, x, 1)\n",
    "y_ad = x_vec[end]\n",
    "dy_ad = reverse_autodiff(w_vec, x_vec, size(w_vec)[1])\n",
    "println(\"AutoDiff: x:$x, y(x):$(y_ad), dy(x):$(dy_ad)\")"
   ]
  },
  {
   "cell_type": "code",
   "execution_count": 89,
   "metadata": {},
   "outputs": [
    {
     "name": "stdout",
     "output_type": "stream",
     "text": [
      "Symbolic: x:2.0, y(x):48.0, dy(x):24.0\n"
     ]
    }
   ],
   "source": [
    "y(x) = f(g(h(x)))\n",
    "dy(x) = gradient(y,x)[1]\n",
    "println(\"Symbolic: x:$x, y(x):$(y(x)), dy(x):$(dy(x))\")"
   ]
  },
  {
   "cell_type": "markdown",
   "metadata": {},
   "source": [
    "## Full code"
   ]
  },
  {
   "cell_type": "code",
   "execution_count": 95,
   "metadata": {},
   "outputs": [
    {
     "name": "stdout",
     "output_type": "stream",
     "text": [
      "AutoDiff: x:2.0, y(x):0.4183537811437451, dy(x):297.54380877119667\n",
      "Symbolic: x:2.0, y(x):0.4183537811437451, dy(x):297.54380877119667\n"
     ]
    }
   ],
   "source": [
    "function test() \n",
    "    i(x) = x\n",
    "    f(x) = sin(x)\n",
    "    g(x) = 3x^2\n",
    "    h(x) = exp(x)\n",
    "    x = 2.0\n",
    "    w_vec = [i, h, g, f]\n",
    "\n",
    "    x_vec = forward_fn(w_vec, x, 1)\n",
    "    y_ad = x_vec[end]\n",
    "    dy_ad = reverse_autodiff(w_vec, x_vec, size(w_vec)[1])\n",
    "    println(\"AutoDiff: x:$x, y(x):$(y_ad), dy(x):$(dy_ad)\")\n",
    "    \n",
    "    y(x) = f(g(h(x)))\n",
    "    dy(x) = gradient(y,x)[1]\n",
    "    println(\"Symbolic: x:$x, y(x):$(y(x)), dy(x):$(dy(x))\")\n",
    "end\n",
    "\n",
    "test()"
   ]
  },
  {
   "cell_type": "code",
   "execution_count": null,
   "metadata": {},
   "outputs": [],
   "source": []
  }
 ],
 "metadata": {
  "kernelspec": {
   "display_name": "Julia 1.7.1",
   "language": "julia",
   "name": "julia-1.7"
  },
  "language_info": {
   "file_extension": ".jl",
   "mimetype": "application/julia",
   "name": "julia",
   "version": "1.7.1"
  }
 },
 "nbformat": 4,
 "nbformat_minor": 5
}
