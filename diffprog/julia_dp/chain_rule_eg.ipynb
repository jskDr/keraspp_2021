{
 "cells": [
  {
   "cell_type": "code",
   "execution_count": 1,
   "id": "ab349d89-61e6-4766-a7b4-be53257daa92",
   "metadata": {},
   "outputs": [],
   "source": [
    "using Zygote"
   ]
  },
  {
   "cell_type": "markdown",
   "id": "1f5bda60-166a-4e8b-86c5-af8a207c63f5",
   "metadata": {},
   "source": [
    "## Basic condition"
   ]
  },
  {
   "cell_type": "code",
   "execution_count": 85,
   "id": "5784d1f9-21c8-42a8-b794-8aeaf946e49f",
   "metadata": {},
   "outputs": [
    {
     "data": {
      "text/plain": [
       "4-element Vector{Function}:\n",
       " i (generic function with 1 method)\n",
       " h (generic function with 1 method)\n",
       " g (generic function with 1 method)\n",
       " f (generic function with 2 methods)"
      ]
     },
     "execution_count": 85,
     "metadata": {},
     "output_type": "execute_result"
    }
   ],
   "source": [
    "i(x) = x\n",
    "f(x) = 2x\n",
    "g(x) = 3x\n",
    "h(x) = 4x\n",
    "x = 2.0\n",
    "w_vec = [i, h, g, f]"
   ]
  },
  {
   "cell_type": "code",
   "execution_count": 86,
   "id": "7dd1f2da-4115-4344-9830-ec8602e66a2c",
   "metadata": {},
   "outputs": [
    {
     "data": {
      "text/plain": [
       "reverse_autodiff (generic function with 2 methods)"
      ]
     },
     "execution_count": 86,
     "metadata": {},
     "output_type": "execute_result"
    }
   ],
   "source": [
    "function forward_fn(w_vec, x, i::Int)\n",
    "    y = w_vec[i](x)\n",
    "    i == size(w_vec)[1] ? y : [y; forward_fn(w_vec,y,i+1)] \n",
    "end\n",
    "\n",
    "function reverse_autodiff(w_vec, x_vec, i::Int)\n",
    "    i == 1 ? 1 :\n",
    "        gradient(w_vec[i], x_vec[i-1])[1] * \n",
    "            reverse_autodiff(w_vec, x_vec, i-1)\n",
    "end"
   ]
  },
  {
   "cell_type": "code",
   "execution_count": 87,
   "id": "9c27d5c6-06a1-4fe8-bd4f-1e9302910db8",
   "metadata": {},
   "outputs": [
    {
     "name": "stdout",
     "output_type": "stream",
     "text": [
      "AutoDiff: x:2.0, y(x):48.0, dy(x):24.0\n"
     ]
    }
   ],
   "source": [
    "x_vec = forward_fn(w_vec, x, 1)\n",
    "y_ad = x_vec[end]\n",
    "dy_ad = reverse_autodiff(w_vec, x_vec, size(w_vec)[1])\n",
    "println(\"AutoDiff: x:$x, y(x):$(y_ad), dy(x):$(dy_ad)\")"
   ]
  },
  {
   "cell_type": "code",
   "execution_count": 89,
   "id": "64e18b14-01af-4fa8-9365-7db723093e7a",
   "metadata": {},
   "outputs": [
    {
     "name": "stdout",
     "output_type": "stream",
     "text": [
      "Symbolic: x:2.0, y(x):48.0, dy(x):24.0\n"
     ]
    }
   ],
   "source": [
    "y(x) = f(g(h(x)))\n",
    "dy(x) = gradient(y,x)[1]\n",
    "println(\"Symbolic: x:$x, y(x):$(y(x)), dy(x):$(dy(x))\")"
   ]
  },
  {
   "cell_type": "markdown",
   "id": "0fd268f0-7347-4407-a624-69a53d2a7ccf",
   "metadata": {},
   "source": [
    "## Full code"
   ]
  },
  {
   "cell_type": "code",
   "execution_count": 95,
   "id": "4cb9c24a-2c58-4d20-954d-11207c7630ab",
   "metadata": {},
   "outputs": [
    {
     "name": "stdout",
     "output_type": "stream",
     "text": [
      "AutoDiff: x:2.0, y(x):0.4183537811437451, dy(x):297.54380877119667\n",
      "Symbolic: x:2.0, y(x):0.4183537811437451, dy(x):297.54380877119667\n"
     ]
    }
   ],
   "source": [
    "function test() \n",
    "    i(x) = x\n",
    "    f(x) = sin(x)\n",
    "    g(x) = 3x^2\n",
    "    h(x) = exp(x)\n",
    "    x = 2.0\n",
    "    w_vec = [i, h, g, f]\n",
    "\n",
    "    x_vec = forward_fn(w_vec, x, 1)\n",
    "    y_ad = x_vec[end]\n",
    "    dy_ad = reverse_autodiff(w_vec, x_vec, size(w_vec)[1])\n",
    "    println(\"AutoDiff: x:$x, y(x):$(y_ad), dy(x):$(dy_ad)\")\n",
    "    \n",
    "    y(x) = f(g(h(x)))\n",
    "    dy(x) = gradient(y,x)[1]\n",
    "    println(\"Symbolic: x:$x, y(x):$(y(x)), dy(x):$(dy(x))\")\n",
    "end\n",
    "\n",
    "test()"
   ]
  },
  {
   "cell_type": "code",
   "execution_count": null,
   "id": "9eba8fe5-cf25-41d7-99ec-ffb20dbb136a",
   "metadata": {},
   "outputs": [],
   "source": []
  }
 ],
 "metadata": {
  "kernelspec": {
   "display_name": "Julia 1.7.0",
   "language": "julia",
   "name": "julia-1.7"
  },
  "language_info": {
   "file_extension": ".jl",
   "mimetype": "application/julia",
   "name": "julia",
   "version": "1.7.0"
  }
 },
 "nbformat": 4,
 "nbformat_minor": 5
}
