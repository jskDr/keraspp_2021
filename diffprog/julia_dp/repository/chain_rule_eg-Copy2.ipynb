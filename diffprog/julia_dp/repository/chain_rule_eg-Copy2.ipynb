{
 "cells": [
  {
   "cell_type": "code",
   "execution_count": 1,
   "id": "ab349d89-61e6-4766-a7b4-be53257daa92",
   "metadata": {},
   "outputs": [],
   "source": [
    "using Zygote"
   ]
  },
  {
   "cell_type": "code",
   "execution_count": 51,
   "id": "b1373415-2581-4aea-a19b-985a3895b3af",
   "metadata": {},
   "outputs": [
    {
     "data": {
      "text/plain": [
       "8.0"
      ]
     },
     "execution_count": 51,
     "metadata": {},
     "output_type": "execute_result"
    }
   ],
   "source": [
    "function forward_fn(w_vec, x, i::Int)\n",
    "    y = w_vec[i](x)\n",
    "    if i == size(w_vec)[1]\n",
    "        y\n",
    "    else\n",
    "        [y; forward_fn(w_vec,y,i+1)] \n",
    "    end\n",
    "end\n",
    "function reverse_autodiff(w_vec, x_vec, i::Int)\n",
    "    # w_vec <-- [x, h(x), g(x), f(x)]\n",
    "    if i == 1\n",
    "        1\n",
    "    else\n",
    "        gradient(w_vec[i], x_vec[i-1])[1] * reverse_autodiff(w_vec, x_vec, i-1)\n",
    "    end\n",
    "end\n",
    "\n",
    "i(x) = x\n",
    "f(x) = 2*x\n",
    "w_vec = [i, f, f, f]\n",
    "x_vec = forward_fn(w_vec, 1., 1)\n",
    "reverse_autodiff(w_vec, x_vec, 4)"
   ]
  },
  {
   "cell_type": "code",
   "execution_count": 52,
   "id": "0488d43a-36de-47fe-9532-4010f83675a4",
   "metadata": {},
   "outputs": [
    {
     "data": {
      "text/plain": [
       "4-element Vector{Float64}:\n",
       " 1.0\n",
       " 2.0\n",
       " 4.0\n",
       " 8.0"
      ]
     },
     "execution_count": 52,
     "metadata": {},
     "output_type": "execute_result"
    }
   ],
   "source": [
    "x_vec"
   ]
  },
  {
   "cell_type": "code",
   "execution_count": null,
   "id": "ce3ccc18-83db-406c-ad4c-4d40f844b6db",
   "metadata": {},
   "outputs": [],
   "source": []
  }
 ],
 "metadata": {
  "kernelspec": {
   "display_name": "Julia 1.7.0",
   "language": "julia",
   "name": "julia-1.7"
  },
  "language_info": {
   "file_extension": ".jl",
   "mimetype": "application/julia",
   "name": "julia",
   "version": "1.7.0"
  }
 },
 "nbformat": 4,
 "nbformat_minor": 5
}
