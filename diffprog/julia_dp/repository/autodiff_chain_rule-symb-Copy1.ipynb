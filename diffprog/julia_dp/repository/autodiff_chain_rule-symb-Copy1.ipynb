{
 "cells": [
  {
   "cell_type": "code",
   "execution_count": 1,
   "id": "ab349d89-61e6-4766-a7b4-be53257daa92",
   "metadata": {},
   "outputs": [],
   "source": [
    "using Zygote\n",
    "using Symbolics"
   ]
  },
  {
   "cell_type": "markdown",
   "id": "be979982-6a7d-449f-bafc-91cac18c8233",
   "metadata": {},
   "source": [
    "## Symbolics Exercise"
   ]
  },
  {
   "cell_type": "code",
   "execution_count": 2,
   "id": "7aafaafa-b8b9-4743-88d5-873282b7abae",
   "metadata": {},
   "outputs": [
    {
     "data": {
      "text/latex": [
       "\\begin{equation}\n",
       "\\left[\n",
       "\\begin{array}{c}\n",
       "x \\\\\n",
       "\\end{array}\n",
       "\\right]\n",
       "\\end{equation}\n"
      ],
      "text/plain": [
       "1-element Vector{Num}:\n",
       " x"
      ]
     },
     "execution_count": 2,
     "metadata": {},
     "output_type": "execute_result"
    }
   ],
   "source": [
    "@variables x "
   ]
  },
  {
   "cell_type": "code",
   "execution_count": 3,
   "id": "816533a7-2412-4719-bc94-252debdf8e61",
   "metadata": {},
   "outputs": [
    {
     "data": {
      "text/latex": [
       "\\begin{equation}\n",
       "2 x\n",
       "\\end{equation}\n"
      ],
      "text/plain": [
       "2x"
      ]
     },
     "execution_count": 3,
     "metadata": {},
     "output_type": "execute_result"
    }
   ],
   "source": [
    "y = 2x"
   ]
  },
  {
   "cell_type": "code",
   "execution_count": 4,
   "id": "2182808d-5867-4106-a162-a85e911dc110",
   "metadata": {},
   "outputs": [
    {
     "data": {
      "text/plain": [
       "(::Differential) (generic function with 2 methods)"
      ]
     },
     "execution_count": 4,
     "metadata": {},
     "output_type": "execute_result"
    }
   ],
   "source": [
    "D = Differential(x)"
   ]
  },
  {
   "cell_type": "code",
   "execution_count": 5,
   "id": "54f672c9-28cd-4ac9-81c1-c1056c257242",
   "metadata": {},
   "outputs": [
    {
     "data": {
      "text/latex": [
       "\\begin{equation}\n",
       "\\mathrm{\\frac{d}{d x}}\\left( 2 x \\right)\n",
       "\\end{equation}\n"
      ],
      "text/plain": [
       "Differential(x)(2x)"
      ]
     },
     "execution_count": 5,
     "metadata": {},
     "output_type": "execute_result"
    }
   ],
   "source": [
    "D(y)"
   ]
  },
  {
   "cell_type": "code",
   "execution_count": 6,
   "id": "4ce81009-3e7e-436b-b5ed-2353619e09a1",
   "metadata": {},
   "outputs": [
    {
     "data": {
      "text/latex": [
       "\\begin{equation}\n",
       "2\n",
       "\\end{equation}\n"
      ],
      "text/plain": [
       "2"
      ]
     },
     "execution_count": 6,
     "metadata": {},
     "output_type": "execute_result"
    }
   ],
   "source": [
    "expand_derivatives(D(y))"
   ]
  },
  {
   "cell_type": "code",
   "execution_count": 7,
   "id": "a4db9291-5455-4d6c-be21-1ebb2a502495",
   "metadata": {},
   "outputs": [
    {
     "data": {
      "text/latex": [
       "\\begin{equation}\n",
       "\\left[\n",
       "\\begin{array}{c}\n",
       "x \\\\\n",
       "2 x \\\\\n",
       "3 x \\\\\n",
       "4 x \\\\\n",
       "\\end{array}\n",
       "\\right]\n",
       "\\end{equation}\n"
      ],
      "text/plain": [
       "4-element Vector{Num}:\n",
       "  x\n",
       " 2x\n",
       " 3x\n",
       " 4x"
      ]
     },
     "execution_count": 7,
     "metadata": {},
     "output_type": "execute_result"
    }
   ],
   "source": [
    "w_vec = [x, 2x, 3x, 4x]"
   ]
  },
  {
   "cell_type": "code",
   "execution_count": 12,
   "id": "64b9fd59-672a-4b70-bba4-dfcadc95a348",
   "metadata": {},
   "outputs": [
    {
     "data": {
      "text/plain": [
       "z (generic function with 1 method)"
      ]
     },
     "execution_count": 12,
     "metadata": {},
     "output_type": "execute_result"
    }
   ],
   "source": [
    "z(x) = 2x"
   ]
  },
  {
   "cell_type": "code",
   "execution_count": 14,
   "id": "1554a5d8-b2f3-41fb-8bdc-0a022189a41e",
   "metadata": {},
   "outputs": [
    {
     "data": {
      "text/latex": [
       "\\begin{equation}\n",
       "2 x\n",
       "\\end{equation}\n"
      ],
      "text/plain": [
       "2x"
      ]
     },
     "execution_count": 14,
     "metadata": {},
     "output_type": "execute_result"
    }
   ],
   "source": [
    "z(x)"
   ]
  },
  {
   "cell_type": "markdown",
   "id": "dda8201e-7788-4793-99ed-d78499dc8ca9",
   "metadata": {},
   "source": [
    "## AutoDiff by Symboic Representation"
   ]
  },
  {
   "cell_type": "code",
   "execution_count": 15,
   "id": "7656cf9d-9e09-475f-93ba-7cc80d1f2cd4",
   "metadata": {},
   "outputs": [
    {
     "data": {
      "text/plain": [
       "4-element Vector{Function}:\n",
       " i (generic function with 1 method)\n",
       " h (generic function with 1 method)\n",
       " g (generic function with 1 method)\n",
       " f (generic function with 1 method)"
      ]
     },
     "execution_count": 15,
     "metadata": {},
     "output_type": "execute_result"
    }
   ],
   "source": [
    "i(x) = x\n",
    "f(x) = 2x\n",
    "g(x) = 3x\n",
    "h(x) = 4x\n",
    "w_vec = [i, h, g, f]"
   ]
  },
  {
   "cell_type": "code",
   "execution_count": 25,
   "id": "1a326483-1fe5-4898-8c71-8e82f6893aea",
   "metadata": {},
   "outputs": [
    {
     "data": {
      "text/plain": [
       "forward_fn (generic function with 1 method)"
      ]
     },
     "execution_count": 25,
     "metadata": {},
     "output_type": "execute_result"
    }
   ],
   "source": [
    "function forward_fn(w_vec, x, i::Int)\n",
    "    y = w_vec[i](x)\n",
    "    i == size(w_vec)[1] ? y : [y; forward_fn(w_vec,y,i+1)] \n",
    "end"
   ]
  },
  {
   "cell_type": "code",
   "execution_count": 26,
   "id": "b4fd5a13-07f4-4b27-ad56-adf664eba8fb",
   "metadata": {},
   "outputs": [
    {
     "data": {
      "text/latex": [
       "\\begin{equation}\n",
       "\\left[\n",
       "\\begin{array}{c}\n",
       "x \\\\\n",
       "4 x \\\\\n",
       "12 x \\\\\n",
       "24 x \\\\\n",
       "\\end{array}\n",
       "\\right]\n",
       "\\end{equation}\n"
      ],
      "text/plain": [
       "4-element Vector{Num}:\n",
       "   x\n",
       "  4x\n",
       " 12x\n",
       " 24x"
      ]
     },
     "execution_count": 26,
     "metadata": {},
     "output_type": "execute_result"
    }
   ],
   "source": [
    "forward_fn(w_vec, x, 1)"
   ]
  },
  {
   "cell_type": "markdown",
   "id": "1f5bda60-166a-4e8b-86c5-af8a207c63f5",
   "metadata": {},
   "source": [
    "## Basic condition"
   ]
  },
  {
   "cell_type": "code",
   "execution_count": 85,
   "id": "5784d1f9-21c8-42a8-b794-8aeaf946e49f",
   "metadata": {},
   "outputs": [
    {
     "data": {
      "text/plain": [
       "4-element Vector{Function}:\n",
       " i (generic function with 1 method)\n",
       " h (generic function with 1 method)\n",
       " g (generic function with 1 method)\n",
       " f (generic function with 2 methods)"
      ]
     },
     "execution_count": 85,
     "metadata": {},
     "output_type": "execute_result"
    }
   ],
   "source": [
    "i(x) = x\n",
    "f(x) = 2x\n",
    "g(x) = 3x\n",
    "h(x) = 4x\n",
    "x = 2.0\n",
    "w_vec = [i, h, g, f]"
   ]
  },
  {
   "cell_type": "code",
   "execution_count": 86,
   "id": "7dd1f2da-4115-4344-9830-ec8602e66a2c",
   "metadata": {},
   "outputs": [
    {
     "data": {
      "text/plain": [
       "reverse_autodiff (generic function with 2 methods)"
      ]
     },
     "execution_count": 86,
     "metadata": {},
     "output_type": "execute_result"
    }
   ],
   "source": [
    "function forward_fn(w_vec, x, i::Int)\n",
    "    y = w_vec[i](x)\n",
    "    i == size(w_vec)[1] ? y : [y; forward_fn(w_vec,y,i+1)] \n",
    "end\n",
    "\n",
    "function reverse_autodiff(w_vec, x_vec, i::Int)\n",
    "    i == 1 ? 1 :\n",
    "        gradient(w_vec[i], x_vec[i-1])[1] * \n",
    "            reverse_autodiff(w_vec, x_vec, i-1)\n",
    "end"
   ]
  },
  {
   "cell_type": "code",
   "execution_count": 87,
   "id": "9c27d5c6-06a1-4fe8-bd4f-1e9302910db8",
   "metadata": {},
   "outputs": [
    {
     "name": "stdout",
     "output_type": "stream",
     "text": [
      "AutoDiff: x:2.0, y(x):48.0, dy(x):24.0\n"
     ]
    }
   ],
   "source": [
    "x_vec = forward_fn(w_vec, x, 1)\n",
    "y_ad = x_vec[end]\n",
    "dy_ad = reverse_autodiff(w_vec, x_vec, size(w_vec)[1])\n",
    "println(\"AutoDiff: x:$x, y(x):$(y_ad), dy(x):$(dy_ad)\")"
   ]
  },
  {
   "cell_type": "code",
   "execution_count": 89,
   "id": "64e18b14-01af-4fa8-9365-7db723093e7a",
   "metadata": {},
   "outputs": [
    {
     "name": "stdout",
     "output_type": "stream",
     "text": [
      "Symbolic: x:2.0, y(x):48.0, dy(x):24.0\n"
     ]
    }
   ],
   "source": [
    "y(x) = f(g(h(x)))\n",
    "dy(x) = gradient(y,x)[1]\n",
    "println(\"Symbolic: x:$x, y(x):$(y(x)), dy(x):$(dy(x))\")"
   ]
  },
  {
   "cell_type": "markdown",
   "id": "0fd268f0-7347-4407-a624-69a53d2a7ccf",
   "metadata": {},
   "source": [
    "## Full code"
   ]
  },
  {
   "cell_type": "code",
   "execution_count": 95,
   "id": "4cb9c24a-2c58-4d20-954d-11207c7630ab",
   "metadata": {},
   "outputs": [
    {
     "name": "stdout",
     "output_type": "stream",
     "text": [
      "AutoDiff: x:2.0, y(x):0.4183537811437451, dy(x):297.54380877119667\n",
      "Symbolic: x:2.0, y(x):0.4183537811437451, dy(x):297.54380877119667\n"
     ]
    }
   ],
   "source": [
    "function test() \n",
    "    i(x) = x\n",
    "    f(x) = sin(x)\n",
    "    g(x) = 3x^2\n",
    "    h(x) = exp(x)\n",
    "    x = 2.0\n",
    "    w_vec = [i, h, g, f]\n",
    "\n",
    "    x_vec = forward_fn(w_vec, x, 1)\n",
    "    y_ad = x_vec[end]\n",
    "    dy_ad = reverse_autodiff(w_vec, x_vec, size(w_vec)[1])\n",
    "    println(\"AutoDiff: x:$x, y(x):$(y_ad), dy(x):$(dy_ad)\")\n",
    "    \n",
    "    y(x) = f(g(h(x)))\n",
    "    dy(x) = gradient(y,x)[1]\n",
    "    println(\"Symbolic: x:$x, y(x):$(y(x)), dy(x):$(dy(x))\")\n",
    "end\n",
    "\n",
    "test()"
   ]
  },
  {
   "cell_type": "code",
   "execution_count": null,
   "id": "9eba8fe5-cf25-41d7-99ec-ffb20dbb136a",
   "metadata": {},
   "outputs": [],
   "source": []
  }
 ],
 "metadata": {
  "kernelspec": {
   "display_name": "Julia 1.7.0",
   "language": "julia",
   "name": "julia-1.7"
  },
  "language_info": {
   "file_extension": ".jl",
   "mimetype": "application/julia",
   "name": "julia",
   "version": "1.7.0"
  }
 },
 "nbformat": 4,
 "nbformat_minor": 5
}
