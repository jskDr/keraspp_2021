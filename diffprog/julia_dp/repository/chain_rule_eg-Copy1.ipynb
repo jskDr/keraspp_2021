{
 "cells": [
  {
   "cell_type": "code",
   "execution_count": 1,
   "id": "ab349d89-61e6-4766-a7b4-be53257daa92",
   "metadata": {},
   "outputs": [],
   "source": [
    "using Zygote"
   ]
  },
  {
   "cell_type": "code",
   "execution_count": 48,
   "id": "b1373415-2581-4aea-a19b-985a3895b3af",
   "metadata": {},
   "outputs": [
    {
     "data": {
      "text/plain": [
       "1.0"
      ]
     },
     "execution_count": 48,
     "metadata": {},
     "output_type": "execute_result"
    }
   ],
   "source": [
    "function reverse_autodiff(w_vec, x_vec, i::Int)\n",
    "    if i == 1\n",
    "        1\n",
    "    else\n",
    "        gradient(w_vec[i], x_vec[i-1])[1] * reverse_autodiff(w_vec, x_vec, i-1)\n",
    "    end\n",
    "end\n",
    "\n",
    "f(x) = x\n",
    "w_vec = [f, f, f, f]\n",
    "x_vec = [1., 1., 1., 1.]\n",
    "reverse_autodiff(w_vec, x_vec, 4)"
   ]
  },
  {
   "cell_type": "code",
   "execution_count": 14,
   "id": "faa5ebf2-0c3d-474e-b415-3defe67f4bd2",
   "metadata": {},
   "outputs": [
    {
     "data": {
      "text/plain": [
       "f (generic function with 1 method)"
      ]
     },
     "execution_count": 14,
     "metadata": {},
     "output_type": "execute_result"
    }
   ],
   "source": [
    "f(x) = x"
   ]
  },
  {
   "cell_type": "code",
   "execution_count": 12,
   "id": "f46f8e92-07d0-4493-9feb-4fb4e7a5bfb7",
   "metadata": {},
   "outputs": [
    {
     "data": {
      "text/plain": [
       "df (generic function with 1 method)"
      ]
     },
     "execution_count": 12,
     "metadata": {},
     "output_type": "execute_result"
    }
   ],
   "source": [
    "df(x) = gradient(f,x)"
   ]
  },
  {
   "cell_type": "code",
   "execution_count": 1,
   "id": "ce73ffab-1b6d-4887-962f-fd893690e344",
   "metadata": {},
   "outputs": [
    {
     "data": {
      "text/plain": [
       "df_ad (generic function with 1 method)"
      ]
     },
     "execution_count": 1,
     "metadata": {},
     "output_type": "execute_result"
    }
   ],
   "source": [
    "using Zygote\n",
    "\n",
    "f(x) = sin(x)\n",
    "#println(\"sin(x): \", map(x -> f(x), [0, π/2, π]))\n",
    "\n",
    "df_ad(x) = gradient(f, x)[1]\n",
    "#println(\"dsin(x)/dx = cos(x): \", map(x -> df_ad(x), [0, π/2, π]))"
   ]
  },
  {
   "cell_type": "code",
   "execution_count": 11,
   "id": "fafba818-aa92-4e62-a7e7-6af1809084f4",
   "metadata": {},
   "outputs": [
    {
     "data": {
      "text/plain": [
       "df_ad (generic function with 1 method)"
      ]
     },
     "execution_count": 11,
     "metadata": {},
     "output_type": "execute_result"
    }
   ],
   "source": [
    "f(x) = x\n",
    "df_ad(x) = gradient(f,x)[1]"
   ]
  },
  {
   "cell_type": "code",
   "execution_count": 15,
   "id": "3c1ab685-4705-413c-90c5-4c62890b01e7",
   "metadata": {},
   "outputs": [
    {
     "ename": "LoadError",
     "evalue": "cannot define function dw; it already has a value",
     "output_type": "error",
     "traceback": [
      "cannot define function dw; it already has a value",
      "",
      "Stacktrace:",
      " [1] top-level scope",
      "   @ none:0",
      " [2] top-level scope",
      "   @ In[15]:3",
      " [3] eval",
      "   @ ./boot.jl:373 [inlined]",
      " [4] include_string(mapexpr::typeof(REPL.softscope), mod::Module, code::String, filename::String)",
      "   @ Base ./loading.jl:1196"
     ]
    }
   ],
   "source": [
    "dw_vec = []\n",
    "w_vec = [f f]\n",
    "for w in w_vec\n",
    "    dw = gradient(w,x)[1]\n",
    "    #dw_vec.append(dw)\n",
    "end"
   ]
  },
  {
   "cell_type": "code",
   "execution_count": 16,
   "id": "3b821ec8-68a4-4a57-8d7a-21c5abf0693f",
   "metadata": {},
   "outputs": [
    {
     "data": {
      "text/plain": [
       "(1.0,)"
      ]
     },
     "execution_count": 16,
     "metadata": {},
     "output_type": "execute_result"
    }
   ],
   "source": [
    "gradient(f, 1)"
   ]
  },
  {
   "cell_type": "code",
   "execution_count": 17,
   "id": "f12c0148-c53d-43df-8c82-0b697ceed23c",
   "metadata": {},
   "outputs": [
    {
     "data": {
      "text/plain": [
       "(1.0,)"
      ]
     },
     "execution_count": 17,
     "metadata": {},
     "output_type": "execute_result"
    }
   ],
   "source": [
    "gradient(f, 10)"
   ]
  },
  {
   "cell_type": "code",
   "execution_count": null,
   "id": "5ee4b024-a4ca-43ac-bcb9-b9e342656f72",
   "metadata": {},
   "outputs": [],
   "source": []
  }
 ],
 "metadata": {
  "kernelspec": {
   "display_name": "Julia 1.7.0",
   "language": "julia",
   "name": "julia-1.7"
  },
  "language_info": {
   "file_extension": ".jl",
   "mimetype": "application/julia",
   "name": "julia",
   "version": "1.7.0"
  }
 },
 "nbformat": 4,
 "nbformat_minor": 5
}
