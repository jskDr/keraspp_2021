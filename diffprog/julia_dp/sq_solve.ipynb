{
 "cells": [
  {
   "cell_type": "code",
   "execution_count": 4,
   "id": "a39ebecc-4e61-4dce-afa5-2cc05c8a82f7",
   "metadata": {},
   "outputs": [
    {
     "data": {
      "text/plain": [
       "β (generic function with 1 method)"
      ]
     },
     "execution_count": 4,
     "metadata": {},
     "output_type": "execute_result"
    }
   ],
   "source": [
    "α(a,b,c) = ( -b + sqrt(b^2 - 4a*c)) / (2a)\n",
    "β(a,b,c) = ( -b - sqrt(b^2 - 4a*c)) / (2a)"
   ]
  },
  {
   "cell_type": "code",
   "execution_count": 5,
   "id": "9ea8e646-fe0e-4a66-9140-17260989ca8f",
   "metadata": {},
   "outputs": [
    {
     "data": {
      "text/plain": [
       "(1.0, 1.0)"
      ]
     },
     "execution_count": 5,
     "metadata": {},
     "output_type": "execute_result"
    }
   ],
   "source": [
    "α(1,-2,1), β(1,-2,1)"
   ]
  },
  {
   "cell_type": "code",
   "execution_count": 7,
   "id": "29941276-6111-4f06-a7a9-259ce193035d",
   "metadata": {},
   "outputs": [
    {
     "data": {
      "text/plain": [
       "-1.0:0.1:1.0"
      ]
     },
     "execution_count": 7,
     "metadata": {},
     "output_type": "execute_result"
    }
   ],
   "source": [
    "b = -1:.1:1\n",
    "c = -1:.1:1"
   ]
  },
  {
   "cell_type": "code",
   "execution_count": 13,
   "id": "7bce3d4b-bd9f-47de-90e2-2b2d6da6cfa3",
   "metadata": {},
   "outputs": [
    {
     "ename": "LoadError",
     "evalue": "MethodError: no method matching zeros(::StepRangeLen{Float64, Base.TwicePrecision{Float64}, Base.TwicePrecision{Float64}, Int64})\n\u001b[0mClosest candidates are:\n\u001b[0m  zeros(\u001b[91m::Type{T}\u001b[39m, \u001b[91m::Union{Integer, AbstractUnitRange}...\u001b[39m) where T at /opt/julia-1.7.0/share/julia/base/array.jl:521\n\u001b[0m  zeros(\u001b[91m::Tuple{Vararg{Union{Integer, AbstractUnitRange}}}\u001b[39m) at /opt/julia-1.7.0/share/julia/base/array.jl:522\n\u001b[0m  zeros(\u001b[91m::Type{T}\u001b[39m, \u001b[91m::Tuple{}\u001b[39m) where T at /opt/julia-1.7.0/share/julia/base/array.jl:529\n\u001b[0m  ...",
     "output_type": "error",
     "traceback": [
      "MethodError: no method matching zeros(::StepRangeLen{Float64, Base.TwicePrecision{Float64}, Base.TwicePrecision{Float64}, Int64})\n\u001b[0mClosest candidates are:\n\u001b[0m  zeros(\u001b[91m::Type{T}\u001b[39m, \u001b[91m::Union{Integer, AbstractUnitRange}...\u001b[39m) where T at /opt/julia-1.7.0/share/julia/base/array.jl:521\n\u001b[0m  zeros(\u001b[91m::Tuple{Vararg{Union{Integer, AbstractUnitRange}}}\u001b[39m) at /opt/julia-1.7.0/share/julia/base/array.jl:522\n\u001b[0m  zeros(\u001b[91m::Type{T}\u001b[39m, \u001b[91m::Tuple{}\u001b[39m) where T at /opt/julia-1.7.0/share/julia/base/array.jl:529\n\u001b[0m  ...",
      "",
      "Stacktrace:",
      " [1] top-level scope",
      "   @ In[13]:1",
      " [2] eval",
      "   @ ./boot.jl:373 [inlined]",
      " [3] include_string(mapexpr::typeof(REPL.softscope), mod::Module, code::String, filename::String)",
      "   @ Base ./loading.jl:1196"
     ]
    }
   ],
   "source": [
    "y = zeros(b)\n",
    "for b = -1:.1:1\n",
    "    # println(b)\n",
    "end"
   ]
  },
  {
   "cell_type": "code",
   "execution_count": 14,
   "id": "74229030-462c-49be-9ba8-ee7599bfbf33",
   "metadata": {},
   "outputs": [
    {
     "data": {
      "text/plain": [
       "-1.0:0.1:1.0"
      ]
     },
     "execution_count": 14,
     "metadata": {},
     "output_type": "execute_result"
    }
   ],
   "source": [
    "b"
   ]
  },
  {
   "cell_type": "code",
   "execution_count": 37,
   "id": "4718c86d-dd4b-4002-a8b9-966888aba763",
   "metadata": {},
   "outputs": [
    {
     "data": {
      "text/plain": [
       "21-element Vector{Float64}:\n",
       " 0.0\n",
       " 0.0\n",
       " 0.0\n",
       " 0.0\n",
       " 0.0\n",
       " 0.0\n",
       " 0.0\n",
       " 0.0\n",
       " 0.0\n",
       " 0.0\n",
       " 0.0\n",
       " 0.0\n",
       " 0.0\n",
       " 0.0\n",
       " 0.0\n",
       " 0.0\n",
       " 0.0\n",
       " 0.0\n",
       " 0.0\n",
       " 0.0\n",
       " 0.0"
      ]
     },
     "execution_count": 37,
     "metadata": {},
     "output_type": "execute_result"
    }
   ],
   "source": [
    "b_all = -10:.1:-2\n",
    "y = zeros(Float64, size(b))"
   ]
  },
  {
   "cell_type": "code",
   "execution_count": 51,
   "id": "66341e30-c9e9-40ce-a32e-67f8b6ede5d4",
   "metadata": {},
   "outputs": [],
   "source": [
    "y = zeros(Float64, size(b_all))\n",
    "for i = 1:size(b_all)[1]\n",
    "    # println(b_all[i])\n",
    "    y[i] = α(1,b_all[i],1)\n",
    "end"
   ]
  },
  {
   "cell_type": "code",
   "execution_count": 52,
   "id": "08ac6b86-475c-4ea4-888b-e087a80fd72f",
   "metadata": {},
   "outputs": [],
   "source": [
    "using Plots"
   ]
  },
  {
   "cell_type": "code",
   "execution_count": 53,
   "id": "4852559b-c5d7-425c-85eb-c8e1d348e8c9",
   "metadata": {},
   "outputs": [
    {
     "data": {
      "image/svg+xml": [
       "<?xml version=\"1.0\" encoding=\"utf-8\"?>\n",
       "<svg xmlns=\"http://www.w3.org/2000/svg\" xmlns:xlink=\"http://www.w3.org/1999/xlink\" width=\"600\" height=\"400\" viewBox=\"0 0 2400 1600\">\n",
       "<defs>\n",
       "  <clipPath id=\"clip030\">\n",
       "    <rect x=\"0\" y=\"0\" width=\"2400\" height=\"1600\"/>\n",
       "  </clipPath>\n",
       "</defs>\n",
       "<path clip-path=\"url(#clip030)\" d=\"\n",
       "M0 1600 L2400 1600 L2400 0 L0 0  Z\n",
       "  \" fill=\"#ffffff\" fill-rule=\"evenodd\" fill-opacity=\"1\"/>\n",
       "<defs>\n",
       "  <clipPath id=\"clip031\">\n",
       "    <rect x=\"480\" y=\"0\" width=\"1681\" height=\"1600\"/>\n",
       "  </clipPath>\n",
       "</defs>\n",
       "<path clip-path=\"url(#clip030)\" d=\"\n",
       "M138.959 1486.45 L2352.76 1486.45 L2352.76 47.2441 L138.959 47.2441  Z\n",
       "  \" fill=\"#ffffff\" fill-rule=\"evenodd\" fill-opacity=\"1\"/>\n",
       "<defs>\n",
       "  <clipPath id=\"clip032\">\n",
       "    <rect x=\"138\" y=\"47\" width=\"2215\" height=\"1440\"/>\n",
       "  </clipPath>\n",
       "</defs>\n",
       "<polyline clip-path=\"url(#clip032)\" style=\"stroke:#000000; stroke-linecap:butt; stroke-linejoin:round; stroke-width:2; stroke-opacity:0.1; fill:none\" points=\"\n",
       "  201.614,1486.45 201.614,47.2441 \n",
       "  \"/>\n",
       "<polyline clip-path=\"url(#clip032)\" style=\"stroke:#000000; stroke-linecap:butt; stroke-linejoin:round; stroke-width:2; stroke-opacity:0.1; fill:none\" points=\"\n",
       "  723.736,1486.45 723.736,47.2441 \n",
       "  \"/>\n",
       "<polyline clip-path=\"url(#clip032)\" style=\"stroke:#000000; stroke-linecap:butt; stroke-linejoin:round; stroke-width:2; stroke-opacity:0.1; fill:none\" points=\"\n",
       "  1245.86,1486.45 1245.86,47.2441 \n",
       "  \"/>\n",
       "<polyline clip-path=\"url(#clip032)\" style=\"stroke:#000000; stroke-linecap:butt; stroke-linejoin:round; stroke-width:2; stroke-opacity:0.1; fill:none\" points=\"\n",
       "  1767.98,1486.45 1767.98,47.2441 \n",
       "  \"/>\n",
       "<polyline clip-path=\"url(#clip032)\" style=\"stroke:#000000; stroke-linecap:butt; stroke-linejoin:round; stroke-width:2; stroke-opacity:0.1; fill:none\" points=\"\n",
       "  2290.1,1486.45 2290.1,47.2441 \n",
       "  \"/>\n",
       "<polyline clip-path=\"url(#clip030)\" style=\"stroke:#000000; stroke-linecap:butt; stroke-linejoin:round; stroke-width:4; stroke-opacity:1; fill:none\" points=\"\n",
       "  138.959,1486.45 2352.76,1486.45 \n",
       "  \"/>\n",
       "<polyline clip-path=\"url(#clip030)\" style=\"stroke:#000000; stroke-linecap:butt; stroke-linejoin:round; stroke-width:4; stroke-opacity:1; fill:none\" points=\"\n",
       "  201.614,1486.45 201.614,1467.55 \n",
       "  \"/>\n",
       "<polyline clip-path=\"url(#clip030)\" style=\"stroke:#000000; stroke-linecap:butt; stroke-linejoin:round; stroke-width:4; stroke-opacity:1; fill:none\" points=\"\n",
       "  723.736,1486.45 723.736,1467.55 \n",
       "  \"/>\n",
       "<polyline clip-path=\"url(#clip030)\" style=\"stroke:#000000; stroke-linecap:butt; stroke-linejoin:round; stroke-width:4; stroke-opacity:1; fill:none\" points=\"\n",
       "  1245.86,1486.45 1245.86,1467.55 \n",
       "  \"/>\n",
       "<polyline clip-path=\"url(#clip030)\" style=\"stroke:#000000; stroke-linecap:butt; stroke-linejoin:round; stroke-width:4; stroke-opacity:1; fill:none\" points=\"\n",
       "  1767.98,1486.45 1767.98,1467.55 \n",
       "  \"/>\n",
       "<polyline clip-path=\"url(#clip030)\" style=\"stroke:#000000; stroke-linecap:butt; stroke-linejoin:round; stroke-width:4; stroke-opacity:1; fill:none\" points=\"\n",
       "  2290.1,1486.45 2290.1,1467.55 \n",
       "  \"/>\n",
       "<path clip-path=\"url(#clip030)\" d=\"M155.677 1532.02 L185.353 1532.02 L185.353 1535.95 L155.677 1535.95 L155.677 1532.02 Z\" fill=\"#000000\" fill-rule=\"evenodd\" fill-opacity=\"1\" /><path clip-path=\"url(#clip030)\" d=\"M196.255 1544.91 L203.894 1544.91 L203.894 1518.55 L195.584 1520.21 L195.584 1515.95 L203.848 1514.29 L208.524 1514.29 L208.524 1544.91 L216.163 1544.91 L216.163 1548.85 L196.255 1548.85 L196.255 1544.91 Z\" fill=\"#000000\" fill-rule=\"evenodd\" fill-opacity=\"1\" /><path clip-path=\"url(#clip030)\" d=\"M235.607 1517.37 Q231.996 1517.37 230.167 1520.93 Q228.362 1524.47 228.362 1531.6 Q228.362 1538.71 230.167 1542.27 Q231.996 1545.82 235.607 1545.82 Q239.241 1545.82 241.047 1542.27 Q242.875 1538.71 242.875 1531.6 Q242.875 1524.47 241.047 1520.93 Q239.241 1517.37 235.607 1517.37 M235.607 1513.66 Q241.417 1513.66 244.473 1518.27 Q247.551 1522.85 247.551 1531.6 Q247.551 1540.33 244.473 1544.94 Q241.417 1549.52 235.607 1549.52 Q229.797 1549.52 226.718 1544.94 Q223.663 1540.33 223.663 1531.6 Q223.663 1522.85 226.718 1518.27 Q229.797 1513.66 235.607 1513.66 Z\" fill=\"#000000\" fill-rule=\"evenodd\" fill-opacity=\"1\" /><path clip-path=\"url(#clip030)\" d=\"M692.926 1532.02 L722.602 1532.02 L722.602 1535.95 L692.926 1535.95 L692.926 1532.02 Z\" fill=\"#000000\" fill-rule=\"evenodd\" fill-opacity=\"1\" /><path clip-path=\"url(#clip030)\" d=\"M742.694 1532.44 Q739.361 1532.44 737.439 1534.22 Q735.541 1536 735.541 1539.13 Q735.541 1542.25 737.439 1544.03 Q739.361 1545.82 742.694 1545.82 Q746.027 1545.82 747.949 1544.03 Q749.87 1542.23 749.87 1539.13 Q749.87 1536 747.949 1534.22 Q746.051 1532.44 742.694 1532.44 M738.018 1530.45 Q735.009 1529.7 733.319 1527.64 Q731.652 1525.58 731.652 1522.62 Q731.652 1518.48 734.592 1516.07 Q737.555 1513.66 742.694 1513.66 Q747.856 1513.66 750.796 1516.07 Q753.736 1518.48 753.736 1522.62 Q753.736 1525.58 752.046 1527.64 Q750.379 1529.7 747.393 1530.45 Q750.773 1531.23 752.648 1533.52 Q754.546 1535.82 754.546 1539.13 Q754.546 1544.15 751.467 1546.83 Q748.412 1549.52 742.694 1549.52 Q736.977 1549.52 733.898 1546.83 Q730.842 1544.15 730.842 1539.13 Q730.842 1535.82 732.74 1533.52 Q734.639 1531.23 738.018 1530.45 M736.305 1523.06 Q736.305 1525.75 737.972 1527.25 Q739.662 1528.76 742.694 1528.76 Q745.703 1528.76 747.393 1527.25 Q749.106 1525.75 749.106 1523.06 Q749.106 1520.38 747.393 1518.87 Q745.703 1517.37 742.694 1517.37 Q739.662 1517.37 737.972 1518.87 Q736.305 1520.38 736.305 1523.06 Z\" fill=\"#000000\" fill-rule=\"evenodd\" fill-opacity=\"1\" /><path clip-path=\"url(#clip030)\" d=\"M1214.92 1532.02 L1244.6 1532.02 L1244.6 1535.95 L1214.92 1535.95 L1214.92 1532.02 Z\" fill=\"#000000\" fill-rule=\"evenodd\" fill-opacity=\"1\" /><path clip-path=\"url(#clip030)\" d=\"M1265.27 1529.7 Q1262.12 1529.7 1260.27 1531.86 Q1258.44 1534.01 1258.44 1537.76 Q1258.44 1541.49 1260.27 1543.66 Q1262.12 1545.82 1265.27 1545.82 Q1268.42 1545.82 1270.24 1543.66 Q1272.1 1541.49 1272.1 1537.76 Q1272.1 1534.01 1270.24 1531.86 Q1268.42 1529.7 1265.27 1529.7 M1274.55 1515.05 L1274.55 1519.31 Q1272.79 1518.48 1270.98 1518.04 Q1269.2 1517.6 1267.44 1517.6 Q1262.81 1517.6 1260.36 1520.72 Q1257.93 1523.85 1257.58 1530.17 Q1258.95 1528.15 1261.01 1527.09 Q1263.07 1526 1265.55 1526 Q1270.75 1526 1273.76 1529.17 Q1276.8 1532.32 1276.8 1537.76 Q1276.8 1543.08 1273.65 1546.3 Q1270.5 1549.52 1265.27 1549.52 Q1259.27 1549.52 1256.1 1544.94 Q1252.93 1540.33 1252.93 1531.6 Q1252.93 1523.41 1256.82 1518.55 Q1260.71 1513.66 1267.26 1513.66 Q1269.02 1513.66 1270.8 1514.01 Q1272.61 1514.36 1274.55 1515.05 Z\" fill=\"#000000\" fill-rule=\"evenodd\" fill-opacity=\"1\" /><path clip-path=\"url(#clip030)\" d=\"M1736.88 1532.02 L1766.56 1532.02 L1766.56 1535.95 L1736.88 1535.95 L1736.88 1532.02 Z\" fill=\"#000000\" fill-rule=\"evenodd\" fill-opacity=\"1\" /><path clip-path=\"url(#clip030)\" d=\"M1789.5 1518.36 L1777.69 1536.81 L1789.5 1536.81 L1789.5 1518.36 M1788.27 1514.29 L1794.15 1514.29 L1794.15 1536.81 L1799.08 1536.81 L1799.08 1540.7 L1794.15 1540.7 L1794.15 1548.85 L1789.5 1548.85 L1789.5 1540.7 L1773.89 1540.7 L1773.89 1536.19 L1788.27 1514.29 Z\" fill=\"#000000\" fill-rule=\"evenodd\" fill-opacity=\"1\" /><path clip-path=\"url(#clip030)\" d=\"M2260.04 1532.02 L2289.72 1532.02 L2289.72 1535.95 L2260.04 1535.95 L2260.04 1532.02 Z\" fill=\"#000000\" fill-rule=\"evenodd\" fill-opacity=\"1\" /><path clip-path=\"url(#clip030)\" d=\"M2303.84 1544.91 L2320.16 1544.91 L2320.16 1548.85 L2298.21 1548.85 L2298.21 1544.91 Q2300.88 1542.16 2305.46 1537.53 Q2310.07 1532.88 2311.25 1531.53 Q2313.49 1529.01 2314.37 1527.27 Q2315.27 1525.51 2315.27 1523.82 Q2315.27 1521.07 2313.33 1519.33 Q2311.41 1517.6 2308.31 1517.6 Q2306.11 1517.6 2303.65 1518.36 Q2301.22 1519.13 2298.45 1520.68 L2298.45 1515.95 Q2301.27 1514.82 2303.72 1514.24 Q2306.18 1513.66 2308.21 1513.66 Q2313.58 1513.66 2316.78 1516.35 Q2319.97 1519.03 2319.97 1523.52 Q2319.97 1525.65 2319.16 1527.57 Q2318.38 1529.47 2316.27 1532.07 Q2315.69 1532.74 2312.59 1535.95 Q2309.49 1539.15 2303.84 1544.91 Z\" fill=\"#000000\" fill-rule=\"evenodd\" fill-opacity=\"1\" /><polyline clip-path=\"url(#clip032)\" style=\"stroke:#000000; stroke-linecap:butt; stroke-linejoin:round; stroke-width:2; stroke-opacity:0.1; fill:none\" points=\"\n",
       "  138.959,1293.14 2352.76,1293.14 \n",
       "  \"/>\n",
       "<polyline clip-path=\"url(#clip032)\" style=\"stroke:#000000; stroke-linecap:butt; stroke-linejoin:round; stroke-width:2; stroke-opacity:0.1; fill:none\" points=\"\n",
       "  138.959,987.998 2352.76,987.998 \n",
       "  \"/>\n",
       "<polyline clip-path=\"url(#clip032)\" style=\"stroke:#000000; stroke-linecap:butt; stroke-linejoin:round; stroke-width:2; stroke-opacity:0.1; fill:none\" points=\"\n",
       "  138.959,682.853 2352.76,682.853 \n",
       "  \"/>\n",
       "<polyline clip-path=\"url(#clip032)\" style=\"stroke:#000000; stroke-linecap:butt; stroke-linejoin:round; stroke-width:2; stroke-opacity:0.1; fill:none\" points=\"\n",
       "  138.959,377.708 2352.76,377.708 \n",
       "  \"/>\n",
       "<polyline clip-path=\"url(#clip032)\" style=\"stroke:#000000; stroke-linecap:butt; stroke-linejoin:round; stroke-width:2; stroke-opacity:0.1; fill:none\" points=\"\n",
       "  138.959,72.5633 2352.76,72.5633 \n",
       "  \"/>\n",
       "<polyline clip-path=\"url(#clip030)\" style=\"stroke:#000000; stroke-linecap:butt; stroke-linejoin:round; stroke-width:4; stroke-opacity:1; fill:none\" points=\"\n",
       "  138.959,1486.45 138.959,47.2441 \n",
       "  \"/>\n",
       "<polyline clip-path=\"url(#clip030)\" style=\"stroke:#000000; stroke-linecap:butt; stroke-linejoin:round; stroke-width:4; stroke-opacity:1; fill:none\" points=\"\n",
       "  138.959,1293.14 157.857,1293.14 \n",
       "  \"/>\n",
       "<polyline clip-path=\"url(#clip030)\" style=\"stroke:#000000; stroke-linecap:butt; stroke-linejoin:round; stroke-width:4; stroke-opacity:1; fill:none\" points=\"\n",
       "  138.959,987.998 157.857,987.998 \n",
       "  \"/>\n",
       "<polyline clip-path=\"url(#clip030)\" style=\"stroke:#000000; stroke-linecap:butt; stroke-linejoin:round; stroke-width:4; stroke-opacity:1; fill:none\" points=\"\n",
       "  138.959,682.853 157.857,682.853 \n",
       "  \"/>\n",
       "<polyline clip-path=\"url(#clip030)\" style=\"stroke:#000000; stroke-linecap:butt; stroke-linejoin:round; stroke-width:4; stroke-opacity:1; fill:none\" points=\"\n",
       "  138.959,377.708 157.857,377.708 \n",
       "  \"/>\n",
       "<polyline clip-path=\"url(#clip030)\" style=\"stroke:#000000; stroke-linecap:butt; stroke-linejoin:round; stroke-width:4; stroke-opacity:1; fill:none\" points=\"\n",
       "  138.959,72.5633 157.857,72.5633 \n",
       "  \"/>\n",
       "<path clip-path=\"url(#clip030)\" d=\"M86.6401 1306.49 L102.959 1306.49 L102.959 1310.42 L81.0151 1310.42 L81.0151 1306.49 Q83.6771 1303.73 88.2604 1299.1 Q92.8669 1294.45 94.0475 1293.11 Q96.2928 1290.59 97.1724 1288.85 Q98.0752 1287.09 98.0752 1285.4 Q98.0752 1282.65 96.1308 1280.91 Q94.2095 1279.17 91.1077 1279.17 Q88.9086 1279.17 86.4549 1279.94 Q84.0244 1280.7 81.2466 1282.25 L81.2466 1277.53 Q84.0707 1276.4 86.5243 1275.82 Q88.978 1275.24 91.0151 1275.24 Q96.3854 1275.24 99.5798 1277.92 Q102.774 1280.61 102.774 1285.1 Q102.774 1287.23 101.964 1289.15 Q101.177 1291.05 99.0706 1293.64 Q98.4919 1294.31 95.39 1297.53 Q92.2882 1300.72 86.6401 1306.49 Z\" fill=\"#000000\" fill-rule=\"evenodd\" fill-opacity=\"1\" /><path clip-path=\"url(#clip030)\" d=\"M93.3762 974.792 L81.5707 993.241 L93.3762 993.241 L93.3762 974.792 M92.1493 970.718 L98.0289 970.718 L98.0289 993.241 L102.959 993.241 L102.959 997.13 L98.0289 997.13 L98.0289 1005.28 L93.3762 1005.28 L93.3762 997.13 L77.7744 997.13 L77.7744 992.616 L92.1493 970.718 Z\" fill=\"#000000\" fill-rule=\"evenodd\" fill-opacity=\"1\" /><path clip-path=\"url(#clip030)\" d=\"M91.4317 680.99 Q88.2836 680.99 86.4318 683.143 Q84.6031 685.295 84.6031 689.045 Q84.6031 692.772 86.4318 694.948 Q88.2836 697.101 91.4317 697.101 Q94.5799 697.101 96.4085 694.948 Q98.2604 692.772 98.2604 689.045 Q98.2604 685.295 96.4085 683.143 Q94.5799 680.99 91.4317 680.99 M100.714 666.337 L100.714 670.596 Q98.9548 669.763 97.1493 669.323 Q95.3669 668.883 93.6076 668.883 Q88.978 668.883 86.5243 672.008 Q84.0938 675.133 83.7466 681.453 Q85.1123 679.439 87.1725 678.374 Q89.2327 677.286 91.7095 677.286 Q96.9178 677.286 99.927 680.457 Q102.959 683.606 102.959 689.045 Q102.959 694.369 99.8113 697.587 Q96.6632 700.805 91.4317 700.805 Q85.4364 700.805 82.2651 696.221 Q79.0938 691.615 79.0938 682.888 Q79.0938 674.694 82.9827 669.833 Q86.8716 664.948 93.4225 664.948 Q95.1817 664.948 96.9641 665.295 Q98.7696 665.643 100.714 666.337 Z\" fill=\"#000000\" fill-rule=\"evenodd\" fill-opacity=\"1\" /><path clip-path=\"url(#clip030)\" d=\"M91.1077 378.576 Q87.7743 378.576 85.8531 380.359 Q83.9549 382.141 83.9549 385.266 Q83.9549 388.391 85.8531 390.174 Q87.7743 391.956 91.1077 391.956 Q94.441 391.956 96.3623 390.174 Q98.2835 388.368 98.2835 385.266 Q98.2835 382.141 96.3623 380.359 Q94.4641 378.576 91.1077 378.576 M86.4318 376.586 Q83.4225 375.845 81.7327 373.785 Q80.066 371.725 80.066 368.762 Q80.066 364.618 83.0058 362.211 Q85.9688 359.803 91.1077 359.803 Q96.2697 359.803 99.2095 362.211 Q102.149 364.618 102.149 368.762 Q102.149 371.725 100.459 373.785 Q98.7928 375.845 95.8067 376.586 Q99.1863 377.373 101.061 379.664 Q102.959 381.956 102.959 385.266 Q102.959 390.289 99.8808 392.974 Q96.8252 395.66 91.1077 395.66 Q85.3901 395.66 82.3114 392.974 Q79.2559 390.289 79.2559 385.266 Q79.2559 381.956 81.154 379.664 Q83.0521 377.373 86.4318 376.586 M84.7188 369.201 Q84.7188 371.887 86.3855 373.391 Q88.0753 374.896 91.1077 374.896 Q94.1169 374.896 95.8067 373.391 Q97.5197 371.887 97.5197 369.201 Q97.5197 366.516 95.8067 365.012 Q94.1169 363.507 91.1077 363.507 Q88.0753 363.507 86.3855 365.012 Q84.7188 366.516 84.7188 369.201 Z\" fill=\"#000000\" fill-rule=\"evenodd\" fill-opacity=\"1\" /><path clip-path=\"url(#clip030)\" d=\"M51.6634 85.9082 L59.3023 85.9082 L59.3023 59.5426 L50.9921 61.2092 L50.9921 56.95 L59.256 55.2833 L63.9319 55.2833 L63.9319 85.9082 L71.5707 85.9082 L71.5707 89.8433 L51.6634 89.8433 L51.6634 85.9082 Z\" fill=\"#000000\" fill-rule=\"evenodd\" fill-opacity=\"1\" /><path clip-path=\"url(#clip030)\" d=\"M91.0151 58.362 Q87.404 58.362 85.5753 61.9268 Q83.7697 65.4685 83.7697 72.598 Q83.7697 79.7045 85.5753 83.2693 Q87.404 86.8109 91.0151 86.8109 Q94.6493 86.8109 96.4548 83.2693 Q98.2835 79.7045 98.2835 72.598 Q98.2835 65.4685 96.4548 61.9268 Q94.6493 58.362 91.0151 58.362 M91.0151 54.6583 Q96.8252 54.6583 99.8808 59.2648 Q102.959 63.8481 102.959 72.598 Q102.959 81.3249 99.8808 85.9313 Q96.8252 90.5146 91.0151 90.5146 Q85.2049 90.5146 82.1262 85.9313 Q79.0707 81.3249 79.0707 72.598 Q79.0707 63.8481 82.1262 59.2648 Q85.2049 54.6583 91.0151 54.6583 Z\" fill=\"#000000\" fill-rule=\"evenodd\" fill-opacity=\"1\" /><polyline clip-path=\"url(#clip032)\" style=\"stroke:#009af9; stroke-linecap:butt; stroke-linejoin:round; stroke-width:4; stroke-opacity:1; fill:none\" points=\"\n",
       "  201.614,87.9763 227.72,103.392 253.826,118.812 279.932,134.235 306.038,149.662 332.145,165.092 358.251,180.526 384.357,195.964 410.463,211.406 436.569,226.852 \n",
       "  462.675,242.303 488.781,257.758 514.887,273.218 540.993,288.683 567.099,304.152 593.205,319.627 619.312,335.108 645.418,350.594 671.524,366.085 697.63,381.583 \n",
       "  723.736,397.088 749.842,412.598 775.948,428.116 802.054,443.641 828.16,459.173 854.266,474.713 880.372,490.261 906.478,505.817 932.585,521.382 958.691,536.957 \n",
       "  984.797,552.541 1010.9,568.135 1037.01,583.74 1063.12,599.356 1089.22,614.983 1115.33,630.623 1141.43,646.276 1167.54,661.942 1193.65,677.623 1219.75,693.319 \n",
       "  1245.86,709.031 1271.96,724.759 1298.07,740.506 1324.18,756.271 1350.28,772.056 1376.39,787.863 1402.49,803.693 1428.6,819.546 1454.71,835.426 1480.81,851.333 \n",
       "  1506.92,867.269 1533.02,883.238 1559.13,899.24 1585.24,915.28 1611.34,931.359 1637.45,947.48 1663.56,963.649 1689.66,979.868 1715.77,996.143 1741.87,1012.48 \n",
       "  1767.98,1028.88 1794.09,1045.36 1820.19,1061.91 1846.3,1078.56 1872.4,1095.31 1898.51,1112.17 1924.62,1129.16 1950.72,1146.3 1976.83,1163.61 2002.93,1181.11 \n",
       "  2029.04,1198.85 2055.15,1216.86 2081.25,1235.2 2107.36,1253.94 2133.46,1273.21 2159.57,1293.14 2185.68,1314 2211.78,1336.19 2237.89,1360.54 2264,1389.24 \n",
       "  2290.1,1445.72 \n",
       "  \"/>\n",
       "<path clip-path=\"url(#clip030)\" d=\"\n",
       "M1980.56 198.898 L2278.96 198.898 L2278.96 95.2176 L1980.56 95.2176  Z\n",
       "  \" fill=\"#ffffff\" fill-rule=\"evenodd\" fill-opacity=\"1\"/>\n",
       "<polyline clip-path=\"url(#clip030)\" style=\"stroke:#000000; stroke-linecap:butt; stroke-linejoin:round; stroke-width:4; stroke-opacity:1; fill:none\" points=\"\n",
       "  1980.56,198.898 2278.96,198.898 2278.96,95.2176 1980.56,95.2176 1980.56,198.898 \n",
       "  \"/>\n",
       "<polyline clip-path=\"url(#clip030)\" style=\"stroke:#009af9; stroke-linecap:butt; stroke-linejoin:round; stroke-width:4; stroke-opacity:1; fill:none\" points=\"\n",
       "  2005.15,147.058 2152.74,147.058 \n",
       "  \"/>\n",
       "<path clip-path=\"url(#clip030)\" d=\"M2191.18 166.745 Q2189.37 171.375 2187.66 172.787 Q2185.95 174.199 2183.08 174.199 L2179.67 174.199 L2179.67 170.634 L2182.17 170.634 Q2183.93 170.634 2184.91 169.8 Q2185.88 168.967 2187.06 165.865 L2187.82 163.921 L2177.34 138.412 L2181.85 138.412 L2189.95 158.689 L2198.05 138.412 L2202.57 138.412 L2191.18 166.745 Z\" fill=\"#000000\" fill-rule=\"evenodd\" fill-opacity=\"1\" /><path clip-path=\"url(#clip030)\" d=\"M2209.86 160.402 L2217.5 160.402 L2217.5 134.037 L2209.19 135.703 L2209.19 131.444 L2217.45 129.778 L2222.13 129.778 L2222.13 160.402 L2229.77 160.402 L2229.77 164.338 L2209.86 164.338 L2209.86 160.402 Z\" fill=\"#000000\" fill-rule=\"evenodd\" fill-opacity=\"1\" /></svg>\n"
      ]
     },
     "execution_count": 53,
     "metadata": {},
     "output_type": "execute_result"
    }
   ],
   "source": [
    "plot(b_all, y)"
   ]
  },
  {
   "cell_type": "code",
   "execution_count": null,
   "id": "41585668-9081-4e78-9136-99ee587150ea",
   "metadata": {},
   "outputs": [],
   "source": []
  }
 ],
 "metadata": {
  "kernelspec": {
   "display_name": "Julia 1.7.0",
   "language": "julia",
   "name": "julia-1.7"
  },
  "language_info": {
   "file_extension": ".jl",
   "mimetype": "application/julia",
   "name": "julia",
   "version": "1.7.0"
  }
 },
 "nbformat": 4,
 "nbformat_minor": 5
}
