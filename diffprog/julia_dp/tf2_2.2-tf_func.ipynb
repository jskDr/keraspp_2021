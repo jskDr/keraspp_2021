{
 "cells": [
  {
   "cell_type": "markdown",
   "metadata": {},
   "source": [
    "## Math based differentiation"
   ]
  },
  {
   "cell_type": "code",
   "execution_count": 1,
   "metadata": {},
   "outputs": [
    {
     "data": {
      "text/plain": [
       "'2.4.1'"
      ]
     },
     "execution_count": 1,
     "metadata": {},
     "output_type": "execute_result"
    }
   ],
   "source": [
    "import tensorflow as tf\n",
    "import numpy as np\n",
    "tf.__version__"
   ]
  },
  {
   "cell_type": "code",
   "execution_count": 63,
   "metadata": {},
   "outputs": [
    {
     "name": "stdout",
     "output_type": "stream",
     "text": [
      "f(x,10) = 2^10 =  1024.0\n",
      "Theory: df(x,10)/dx = 10 x 2^9 =  5120.0\n",
      "AD: df(x,10) =  tf.Tensor(5120.0, shape=(), dtype=float32)\n"
     ]
    }
   ],
   "source": [
    "# @tf.function\n",
    "def f_fn(x,n):\n",
    "    return x**n\n",
    "\n",
    "f = lambda x, n: x**n \n",
    "df_th = lambda x, n: n*f(x,n-1)\n",
    "\n",
    "def df_ad(x, n):\n",
    "    x_tf = tf.Variable(x)\n",
    "    with tf.GradientTape() as tape:\n",
    "        y = f(x_tf,n)\n",
    "    return tape.gradient(y, x_tf)\n",
    "\n",
    "x = float(2.0)\n",
    "print(\"f(x,10) = 2^10 = \", f(x,10))\n",
    "print(\"Theory: df(x,10)/dx = 10 x 2^9 = \", df_th(x,10))\n",
    "print(\"AD: df(x,10) = \", df_ad(x,10))"
   ]
  },
  {
   "cell_type": "code",
   "execution_count": 64,
   "metadata": {},
   "outputs": [
    {
     "name": "stdout",
     "output_type": "stream",
     "text": [
      "CPU times: user 981 µs, sys: 0 ns, total: 981 µs\n",
      "Wall time: 986 µs\n",
      "CPU times: user 401 µs, sys: 0 ns, total: 401 µs\n",
      "Wall time: 406 µs\n",
      "CPU times: user 540 ms, sys: 8.76 ms, total: 548 ms\n",
      "Wall time: 544 ms\n"
     ]
    }
   ],
   "source": [
    "x_all = np.random.randn(1000)\n",
    "%time y_all = list(map(lambda x: f_fn(x,10), x_all))\n",
    "%time y_all = list(map(lambda x: f(x,10), x_all))\n",
    "%time y_all = list(map(lambda x: df_ad(x,10), x_all))"
   ]
  },
  {
   "cell_type": "markdown",
   "metadata": {},
   "source": [
    "## Code based differentiation"
   ]
  },
  {
   "cell_type": "code",
   "execution_count": 65,
   "metadata": {},
   "outputs": [
    {
     "name": "stdout",
     "output_type": "stream",
     "text": [
      "f(x,10) = 2^10 =  tf.Tensor(1024.0, shape=(), dtype=float32)\n",
      "Theory: df(x,10)/dx = 10 x 2^9 =  tf.Tensor(5120.0, shape=(), dtype=float32)\n",
      "AD: df(x,10) =  tf.Tensor(5120.0, shape=(), dtype=float32)\n"
     ]
    }
   ],
   "source": [
    "@tf.function\n",
    "def f(x,n): \n",
    "    r = 1\n",
    "    for m in range(n):\n",
    "        r *= x\n",
    "    return r\n",
    "df_th = lambda x, n: n*f(x,n-1)\n",
    "\n",
    "def df_ad(x, n):\n",
    "    x_tf = tf.Variable(x)\n",
    "    with tf.GradientTape() as tape:\n",
    "        y = f(x_tf,n)\n",
    "    return tape.gradient(y, x_tf)\n",
    "\n",
    "x = float(2.0)\n",
    "print(\"f(x,10) = 2^10 = \", f(x,10))\n",
    "print(\"Theory: df(x,10)/dx = 10 x 2^9 = \", df_th(x,10))\n",
    "print(\"AD: df(x,10) = \", df_ad(x,10))"
   ]
  },
  {
   "cell_type": "code",
   "execution_count": 66,
   "metadata": {},
   "outputs": [
    {
     "name": "stdout",
     "output_type": "stream",
     "text": [
      "WARNING:tensorflow:5 out of the last 12 calls to <function f at 0x7eff4c27eca0> triggered tf.function retracing. Tracing is expensive and the excessive number of tracings could be due to (1) creating @tf.function repeatedly in a loop, (2) passing tensors with different shapes, (3) passing Python objects instead of tensors. For (1), please define your @tf.function outside of the loop. For (2), @tf.function has experimental_relax_shapes=True option that relaxes argument shapes that can avoid unnecessary retracing. For (3), please refer to https://www.tensorflow.org/guide/function#controlling_retracing and https://www.tensorflow.org/api_docs/python/tf/function for  more details.\n"
     ]
    },
    {
     "name": "stderr",
     "output_type": "stream",
     "text": [
      "WARNING:tensorflow:5 out of the last 12 calls to <function f at 0x7eff4c27eca0> triggered tf.function retracing. Tracing is expensive and the excessive number of tracings could be due to (1) creating @tf.function repeatedly in a loop, (2) passing tensors with different shapes, (3) passing Python objects instead of tensors. For (1), please define your @tf.function outside of the loop. For (2), @tf.function has experimental_relax_shapes=True option that relaxes argument shapes that can avoid unnecessary retracing. For (3), please refer to https://www.tensorflow.org/guide/function#controlling_retracing and https://www.tensorflow.org/api_docs/python/tf/function for  more details.\n"
     ]
    },
    {
     "name": "stdout",
     "output_type": "stream",
     "text": [
      "WARNING:tensorflow:6 out of the last 13 calls to <function f at 0x7eff4c27eca0> triggered tf.function retracing. Tracing is expensive and the excessive number of tracings could be due to (1) creating @tf.function repeatedly in a loop, (2) passing tensors with different shapes, (3) passing Python objects instead of tensors. For (1), please define your @tf.function outside of the loop. For (2), @tf.function has experimental_relax_shapes=True option that relaxes argument shapes that can avoid unnecessary retracing. For (3), please refer to https://www.tensorflow.org/guide/function#controlling_retracing and https://www.tensorflow.org/api_docs/python/tf/function for  more details.\n"
     ]
    },
    {
     "name": "stderr",
     "output_type": "stream",
     "text": [
      "WARNING:tensorflow:6 out of the last 13 calls to <function f at 0x7eff4c27eca0> triggered tf.function retracing. Tracing is expensive and the excessive number of tracings could be due to (1) creating @tf.function repeatedly in a loop, (2) passing tensors with different shapes, (3) passing Python objects instead of tensors. For (1), please define your @tf.function outside of the loop. For (2), @tf.function has experimental_relax_shapes=True option that relaxes argument shapes that can avoid unnecessary retracing. For (3), please refer to https://www.tensorflow.org/guide/function#controlling_retracing and https://www.tensorflow.org/api_docs/python/tf/function for  more details.\n"
     ]
    },
    {
     "name": "stdout",
     "output_type": "stream",
     "text": [
      "CPU times: user 292 ms, sys: 124 µs, total: 292 ms\n",
      "Wall time: 286 ms\n"
     ]
    },
    {
     "data": {
      "text/plain": [
       "2"
      ]
     },
     "execution_count": 66,
     "metadata": {},
     "output_type": "execute_result"
    }
   ],
   "source": [
    "x_all = np.random.randn(2)\n",
    "%time y_all = list(map(lambda x: df_ad(x,10), x_all))\n",
    "len(y_all)"
   ]
  },
  {
   "cell_type": "code",
   "execution_count": null,
   "metadata": {},
   "outputs": [],
   "source": []
  }
 ],
 "metadata": {
  "kernelspec": {
   "display_name": "jax",
   "language": "python",
   "name": "jax"
  },
  "language_info": {
   "codemirror_mode": {
    "name": "ipython",
    "version": 3
   },
   "file_extension": ".py",
   "mimetype": "text/x-python",
   "name": "python",
   "nbconvert_exporter": "python",
   "pygments_lexer": "ipython3",
   "version": "3.9.7"
  }
 },
 "nbformat": 4,
 "nbformat_minor": 4
}
