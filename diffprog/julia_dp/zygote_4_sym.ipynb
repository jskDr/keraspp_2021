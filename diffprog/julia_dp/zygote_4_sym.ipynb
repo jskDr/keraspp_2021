{
 "cells": [
  {
   "cell_type": "code",
   "execution_count": 2,
   "id": "23013ded-cb51-471d-abb0-2bf8d2356ff9",
   "metadata": {},
   "outputs": [],
   "source": [
    "using Zygote"
   ]
  },
  {
   "cell_type": "code",
   "execution_count": 3,
   "id": "e1f4162b-988f-485d-b18f-7403556ca750",
   "metadata": {},
   "outputs": [
    {
     "data": {
      "text/plain": [
       "f (generic function with 1 method)"
      ]
     },
     "execution_count": 3,
     "metadata": {},
     "output_type": "execute_result"
    }
   ],
   "source": [
    "f(x) = 2x"
   ]
  },
  {
   "cell_type": "code",
   "execution_count": 10,
   "id": "475d86e4-95a5-4f77-b759-005f0e9ba8fc",
   "metadata": {},
   "outputs": [
    {
     "data": {
      "text/plain": [
       "df (generic function with 1 method)"
      ]
     },
     "execution_count": 10,
     "metadata": {},
     "output_type": "execute_result"
    }
   ],
   "source": [
    "df(x) = gradient(f,x)"
   ]
  },
  {
   "cell_type": "code",
   "execution_count": 11,
   "id": "2d3fc8f9-dbea-4c17-a374-46e490176b6d",
   "metadata": {},
   "outputs": [
    {
     "data": {
      "text/plain": [
       "(2.0,)"
      ]
     },
     "execution_count": 11,
     "metadata": {},
     "output_type": "execute_result"
    }
   ],
   "source": [
    "df(1.0)"
   ]
  },
  {
   "cell_type": "code",
   "execution_count": 12,
   "id": "7f23628b-d7fa-4a1b-ba78-f780816f32bd",
   "metadata": {},
   "outputs": [],
   "source": [
    "using Symbolics"
   ]
  },
  {
   "cell_type": "code",
   "execution_count": 13,
   "id": "86c7e01b-a276-43eb-98f6-b2d5260ab631",
   "metadata": {},
   "outputs": [
    {
     "data": {
      "text/latex": [
       "\\begin{equation}\n",
       "\\left[\n",
       "\\begin{array}{c}\n",
       "x \\\\\n",
       "\\end{array}\n",
       "\\right]\n",
       "\\end{equation}\n"
      ],
      "text/plain": [
       "1-element Vector{Num}:\n",
       " x"
      ]
     },
     "execution_count": 13,
     "metadata": {},
     "output_type": "execute_result"
    }
   ],
   "source": [
    "@variables x"
   ]
  },
  {
   "cell_type": "code",
   "execution_count": 14,
   "id": "772b365c-e397-494f-87c7-c43a4b26045d",
   "metadata": {},
   "outputs": [
    {
     "data": {
      "text/plain": [
       "(2,)"
      ]
     },
     "execution_count": 14,
     "metadata": {},
     "output_type": "execute_result"
    }
   ],
   "source": [
    "df(x)"
   ]
  },
  {
   "cell_type": "code",
   "execution_count": 15,
   "id": "b8bdd003-b4ac-4be4-b063-c112741c70f5",
   "metadata": {},
   "outputs": [
    {
     "data": {
      "text/latex": [
       "\\begin{equation}\n",
       "x\n",
       "\\end{equation}\n"
      ],
      "text/plain": [
       "x"
      ]
     },
     "execution_count": 15,
     "metadata": {},
     "output_type": "execute_result"
    }
   ],
   "source": [
    "x"
   ]
  },
  {
   "cell_type": "code",
   "execution_count": 19,
   "id": "5cf37e09-65d1-40d4-9673-56c655bbb3be",
   "metadata": {},
   "outputs": [
    {
     "data": {
      "text/plain": [
       "(-2.6145744834544478,)"
      ]
     },
     "execution_count": 19,
     "metadata": {},
     "output_type": "execute_result"
    }
   ],
   "source": [
    "h(x) = x^2 + 2x + 1\n",
    "g(x) = sin(x)\n",
    "f(x) = g(h(x))\n",
    "df(x) = gradient(f,x)\n",
    "df(1.0)"
   ]
  },
  {
   "cell_type": "code",
   "execution_count": 20,
   "id": "b454b771-c1e2-486b-a0c7-fe8961baf82f",
   "metadata": {},
   "outputs": [
    {
     "data": {
      "text/plain": [
       "(2cos(1 + x^2 + 2x) + 2x*cos(1 + x^2 + 2x),)"
      ]
     },
     "execution_count": 20,
     "metadata": {},
     "output_type": "execute_result"
    }
   ],
   "source": [
    "@variables x\n",
    "df(x)"
   ]
  },
  {
   "cell_type": "code",
   "execution_count": null,
   "id": "d557b473-01cf-4a62-a3e9-b062bf68f223",
   "metadata": {},
   "outputs": [],
   "source": []
  }
 ],
 "metadata": {
  "kernelspec": {
   "display_name": "Julia 1.7.0",
   "language": "julia",
   "name": "julia-1.7"
  },
  "language_info": {
   "file_extension": ".jl",
   "mimetype": "application/julia",
   "name": "julia",
   "version": "1.7.0"
  }
 },
 "nbformat": 4,
 "nbformat_minor": 5
}
