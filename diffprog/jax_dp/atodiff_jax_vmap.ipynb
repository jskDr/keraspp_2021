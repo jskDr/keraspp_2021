{
 "cells": [
  {
   "cell_type": "markdown",
   "id": "0b37326c-c694-43b2-94cd-494b73741bc1",
   "metadata": {},
   "source": [
    "# AutoDiff by JAX"
   ]
  },
  {
   "cell_type": "code",
   "execution_count": 48,
   "id": "4863f1eb-c2f4-432b-9a44-70824502060b",
   "metadata": {},
   "outputs": [
    {
     "name": "stdout",
     "output_type": "stream",
     "text": [
      "0.2.26\n"
     ]
    }
   ],
   "source": [
    "# JAX\n",
    "from jax import grad\n",
    "import jax.numpy as jnp\n",
    "import jax\n",
    "print(jax.__version__)\n",
    "# Common\n",
    "import numpy as np"
   ]
  },
  {
   "cell_type": "markdown",
   "id": "6f71603f-7192-4efb-9f46-328cbbdcd3e4",
   "metadata": {},
   "source": [
    "## JAX without JIT"
   ]
  },
  {
   "cell_type": "code",
   "execution_count": 2,
   "id": "b99ee0bf-56bc-45e5-871a-43e85eec9892",
   "metadata": {},
   "outputs": [
    {
     "name": "stderr",
     "output_type": "stream",
     "text": [
      "WARNING:absl:No GPU/TPU found, falling back to CPU. (Set TF_CPP_MIN_LOG_LEVEL=0 and rerun for more info.)\n"
     ]
    },
    {
     "name": "stdout",
     "output_type": "stream",
     "text": [
      "f(x,10) = 2^10 =  1024.0\n",
      "Theory: df(x,10)/dx = 10 x 2^9 =  5120.0\n",
      "AD: df(x,10) =  5120.0\n"
     ]
    }
   ],
   "source": [
    "f = lambda x, n: x**n \n",
    "df_th = lambda x, n: n*f(x,n-1)\n",
    "\n",
    "df_ad = grad(f)\n",
    "    \n",
    "x = float(2.0)\n",
    "print(\"f(x,10) = 2^10 = \", f(x,10))\n",
    "print(\"Theory: df(x,10)/dx = 10 x 2^9 = \", df_th(x,10))\n",
    "print(\"AD: df(x,10) = \", df_ad(x,10))"
   ]
  },
  {
   "cell_type": "code",
   "execution_count": 3,
   "id": "03287f0d-ea85-47d1-b767-48e16aa31b78",
   "metadata": {},
   "outputs": [
    {
     "name": "stdout",
     "output_type": "stream",
     "text": [
      "CPU times: user 1.51 s, sys: 0 ns, total: 1.51 s\n",
      "Wall time: 1.5 s\n"
     ]
    }
   ],
   "source": [
    "x_all = np.random.randn(1000)\n",
    "%time y_all = list(map(lambda x: df_ad(x,10), x_all))"
   ]
  },
  {
   "cell_type": "code",
   "execution_count": 50,
   "id": "e72d717e-02b6-4431-a646-0ba2e24fe7a5",
   "metadata": {},
   "outputs": [
    {
     "data": {
      "text/plain": [
       "'2.954990215264188'"
      ]
     },
     "execution_count": 50,
     "metadata": {},
     "output_type": "execute_result"
    }
   ],
   "source": [
    "f\"{1510 / 511}\""
   ]
  },
  {
   "cell_type": "markdown",
   "id": "2de5b136-ec57-48d2-b37c-9df6b6ba6ed0",
   "metadata": {},
   "source": [
    "## JAX with JIT"
   ]
  },
  {
   "cell_type": "code",
   "execution_count": 49,
   "id": "8001c2aa-75a0-450c-a0f1-98798be16e4a",
   "metadata": {},
   "outputs": [],
   "source": [
    "from jax import jit"
   ]
  },
  {
   "cell_type": "code",
   "execution_count": 4,
   "id": "13f588d0-8add-4907-8e28-a12085bd827a",
   "metadata": {},
   "outputs": [
    {
     "name": "stdout",
     "output_type": "stream",
     "text": [
      "CPU times: user 38.2 ms, sys: 907 µs, total: 39.1 ms\n",
      "Wall time: 34.5 ms\n"
     ]
    }
   ],
   "source": [
    "df_ad_jit = jit(grad(f))\n",
    "\n",
    "x_all = np.random.randn(1000) # 1,000\n",
    "%time y_all = list(map(lambda x: df_ad_jit(x,10), x_all))"
   ]
  },
  {
   "cell_type": "code",
   "execution_count": 5,
   "id": "66f35543-e1be-4a85-8833-3aef9f45318a",
   "metadata": {},
   "outputs": [
    {
     "name": "stdout",
     "output_type": "stream",
     "text": [
      "Speed up from JAX without JIT: 36.25 times faster\n",
      "Speed up from Tensorflow 2.4.1: 13.14 times faster\n"
     ]
    }
   ],
   "source": [
    "print(f\"Speed up from JAX without JIT: {1410 / 38.9:.2f} times faster\")\n",
    "print(f\"Speed up from Tensorflow 2.4.1: {511 / 38.9:.2f} times faster\")"
   ]
  },
  {
   "cell_type": "markdown",
   "id": "6c53b80e-ad32-4949-8866-f1a3f3026c96",
   "metadata": {},
   "source": [
    "## vmap"
   ]
  },
  {
   "cell_type": "code",
   "execution_count": 6,
   "id": "bb40071c-3a6e-49e8-a9e0-fe9091aeae65",
   "metadata": {},
   "outputs": [],
   "source": [
    "from jax import vmap"
   ]
  },
  {
   "cell_type": "code",
   "execution_count": 7,
   "id": "72465ba9-0fc4-4ff8-b041-20f3f6f1d49f",
   "metadata": {},
   "outputs": [],
   "source": [
    "f = lambda x: x** 10\n",
    "df_ad = grad(f)\n",
    "df_ad_jit = jit(df_ad)\n",
    "vdf_ad = vmap(df_ad, 0)\n",
    "vdf_ad_jit = vmap(df_ad_jit, 0)"
   ]
  },
  {
   "cell_type": "markdown",
   "id": "6c06c9dc-fe86-4263-a2a7-2376f76b742f",
   "metadata": {},
   "source": [
    "### len(x_all) = 1000"
   ]
  },
  {
   "cell_type": "code",
   "execution_count": 44,
   "id": "4ac3e69f-e5ec-4026-b820-0fc747d3fa90",
   "metadata": {},
   "outputs": [
    {
     "name": "stdout",
     "output_type": "stream",
     "text": [
      "CPU times: user 1.44 s, sys: 0 ns, total: 1.44 s\n",
      "Wall time: 1.44 s\n",
      "CPU times: user 4.74 ms, sys: 266 µs, total: 5.01 ms\n",
      "Wall time: 4.75 ms\n",
      "CPU times: user 3.63 ms, sys: 0 ns, total: 3.63 ms\n",
      "Wall time: 3.35 ms\n",
      "CPU times: user 1.06 ms, sys: 0 ns, total: 1.06 ms\n",
      "Wall time: 839 µs\n"
     ]
    }
   ],
   "source": [
    "x_all = np.random.randn(1000) # 1,000\n",
    "%time y_all = list(map(lambda x: df_ad(x), x_all))\n",
    "%time y_all = list(map(lambda x: df_ad_jit(x), x_all))\n",
    "%time y_all = vdf_ad(x_all)\n",
    "%time y_all = vdf_ad_jit(x_all)"
   ]
  },
  {
   "cell_type": "markdown",
   "id": "bbc008dd-fd15-4e62-af75-9251a96d3243",
   "metadata": {},
   "source": [
    "### len(x_all) = 1,000,000"
   ]
  },
  {
   "cell_type": "code",
   "execution_count": 45,
   "id": "0713428e-90e1-4855-a8b8-aeeb8a32e5f5",
   "metadata": {},
   "outputs": [
    {
     "name": "stdout",
     "output_type": "stream",
     "text": [
      "CPU times: user 3.32 s, sys: 228 ms, total: 3.55 s\n",
      "Wall time: 3.55 s\n",
      "CPU times: user 911 ms, sys: 29.8 ms, total: 941 ms\n",
      "Wall time: 934 ms\n",
      "CPU times: user 93.6 ms, sys: 10.6 ms, total: 104 ms\n",
      "Wall time: 102 ms\n",
      "CPU times: user 2.7 ms, sys: 444 µs, total: 3.14 ms\n",
      "Wall time: 2.28 ms\n"
     ]
    }
   ],
   "source": [
    "x_all = np.random.randn(1000000) # 1,000,000\n",
    "%time y_all = list(map(lambda x: df_ad_jit(x), x_all))\n",
    "%time y_all = vdf_ad(x_all)\n",
    "%time y_all = vdf_ad_jit(x_all)\n",
    "\n",
    "x_all = np.random.randn(1000000) # 1,000,000\n",
    "%time y_all = vdf_ad_jit(x_all)"
   ]
  },
  {
   "cell_type": "code",
   "execution_count": 46,
   "id": "50df6d93-09c3-460b-9343-71eb6abfeb90",
   "metadata": {},
   "outputs": [
    {
     "name": "stdout",
     "output_type": "stream",
     "text": [
      "CPU times: user 227 ms, sys: 161 ms, total: 388 ms\n",
      "Wall time: 257 ms\n"
     ]
    },
    {
     "data": {
      "text/plain": [
       "100000000"
      ]
     },
     "execution_count": 46,
     "metadata": {},
     "output_type": "execute_result"
    }
   ],
   "source": [
    "x_all = np.random.randn(100000000) # 100,000,000\n",
    "%time y_all = vdf_ad_jit(x_all)\n",
    "len(y_all)"
   ]
  },
  {
   "cell_type": "code",
   "execution_count": 47,
   "id": "9ecd4af4-4602-48fc-b6e5-39f92922ceb7",
   "metadata": {},
   "outputs": [
    {
     "name": "stdout",
     "output_type": "stream",
     "text": [
      "175 ms ± 5.75 ms per loop (mean ± std. dev. of 3 runs, 10 loops each)\n"
     ]
    }
   ],
   "source": [
    "x_all = np.random.randn(100000000) # 100,000,000\n",
    "%timeit -n10 -r3 y_all = vdf_ad_jit(x_all)"
   ]
  }
 ],
 "metadata": {
  "kernelspec": {
   "display_name": "jax",
   "language": "python",
   "name": "jax"
  },
  "language_info": {
   "codemirror_mode": {
    "name": "ipython",
    "version": 3
   },
   "file_extension": ".py",
   "mimetype": "text/x-python",
   "name": "python",
   "nbconvert_exporter": "python",
   "pygments_lexer": "ipython3",
   "version": "3.9.7"
  }
 },
 "nbformat": 4,
 "nbformat_minor": 5
}
