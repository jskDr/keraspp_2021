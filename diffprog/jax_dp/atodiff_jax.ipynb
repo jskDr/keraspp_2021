{
 "cells": [
  {
   "cell_type": "markdown",
   "id": "0b37326c-c694-43b2-94cd-494b73741bc1",
   "metadata": {},
   "source": [
    "# AutoDiff by JAX"
   ]
  },
  {
   "cell_type": "code",
   "execution_count": 8,
   "id": "4863f1eb-c2f4-432b-9a44-70824502060b",
   "metadata": {},
   "outputs": [
    {
     "name": "stdout",
     "output_type": "stream",
     "text": [
      "0.2.26\n"
     ]
    }
   ],
   "source": [
    "# JAX\n",
    "from jax import grad\n",
    "import jax.numpy as jnp\n",
    "import jax\n",
    "print(jax.__version__)\n",
    "# Common\n",
    "import numpy as np"
   ]
  },
  {
   "cell_type": "markdown",
   "id": "6f71603f-7192-4efb-9f46-328cbbdcd3e4",
   "metadata": {},
   "source": [
    "## JAX without JIT"
   ]
  },
  {
   "cell_type": "code",
   "execution_count": 9,
   "id": "b99ee0bf-56bc-45e5-871a-43e85eec9892",
   "metadata": {},
   "outputs": [
    {
     "name": "stdout",
     "output_type": "stream",
     "text": [
      "f(x,10) = 2^10 =  1024.0\n",
      "Theory: df(x,10)/dx = 10 x 2^9 =  5120.0\n",
      "AD: df(x,10) =  5120.0\n"
     ]
    }
   ],
   "source": [
    "f = lambda x, n: x**n \n",
    "df_th = lambda x, n: n*f(x,n-1)\n",
    "\n",
    "df_ad = grad(f)\n",
    "    \n",
    "x = float(2.0)\n",
    "print(\"f(x,10) = 2^10 = \", f(x,10))\n",
    "print(\"Theory: df(x,10)/dx = 10 x 2^9 = \", df_th(x,10))\n",
    "print(\"AD: df(x,10) = \", df_ad(x,10))"
   ]
  },
  {
   "cell_type": "code",
   "execution_count": 10,
   "id": "03287f0d-ea85-47d1-b767-48e16aa31b78",
   "metadata": {},
   "outputs": [
    {
     "name": "stdout",
     "output_type": "stream",
     "text": [
      "CPU times: user 1.41 s, sys: 0 ns, total: 1.41 s\n",
      "Wall time: 1.41 s\n"
     ]
    }
   ],
   "source": [
    "x_all = np.random.randn(1000)\n",
    "%time y_all = list(map(lambda x: df_ad(x,10), x_all))"
   ]
  },
  {
   "cell_type": "markdown",
   "id": "2de5b136-ec57-48d2-b37c-9df6b6ba6ed0",
   "metadata": {},
   "source": [
    "## JAX with JIT"
   ]
  },
  {
   "cell_type": "code",
   "execution_count": null,
   "id": "d2603f77-c433-49fb-99ff-cdc77f4cc177",
   "metadata": {},
   "outputs": [],
   "source": [
    "from jax import jit"
   ]
  },
  {
   "cell_type": "code",
   "execution_count": 15,
   "id": "13f588d0-8add-4907-8e28-a12085bd827a",
   "metadata": {},
   "outputs": [
    {
     "name": "stdout",
     "output_type": "stream",
     "text": [
      "CPU times: user 38.9 ms, sys: 0 ns, total: 38.9 ms\n",
      "Wall time: 35.9 ms\n"
     ]
    }
   ],
   "source": [
    "df_ad_jit = jit(grad(f))\n",
    "\n",
    "x_all = np.random.randn(1000) # 1,000\n",
    "%time y_all = list(map(lambda x: df_ad_jit(x,10), x_all))"
   ]
  },
  {
   "cell_type": "code",
   "execution_count": 18,
   "id": "66f35543-e1be-4a85-8833-3aef9f45318a",
   "metadata": {},
   "outputs": [
    {
     "name": "stdout",
     "output_type": "stream",
     "text": [
      "Speed up from JAX without JIT: 36.25 times faster\n",
      "Speed up from Tensorflow 2.4.1: 13.14 times faster\n"
     ]
    }
   ],
   "source": [
    "print(f\"Speed up from JAX without JIT: {1410 / 38.9:.2f} times faster\")\n",
    "print(f\"Speed up from Tensorflow 2.4.1: {511 / 38.9:.2f} times faster\")"
   ]
  },
  {
   "cell_type": "code",
   "execution_count": 34,
   "id": "e82e7700-43ea-48bf-8a1a-f6a41a52f32e",
   "metadata": {},
   "outputs": [
    {
     "name": "stdout",
     "output_type": "stream",
     "text": [
      "CPU times: user 532 ms, sys: 19.8 ms, total: 552 ms\n",
      "Wall time: 551 ms\n"
     ]
    }
   ],
   "source": [
    "x_all = np.random.randn(100000) # 100,000\n",
    "%time y_all = list(map(lambda x: df_ad_jit(x,10), x_all))"
   ]
  }
 ],
 "metadata": {
  "kernelspec": {
   "display_name": "jax",
   "language": "python",
   "name": "jax"
  },
  "language_info": {
   "codemirror_mode": {
    "name": "ipython",
    "version": 3
   },
   "file_extension": ".py",
   "mimetype": "text/x-python",
   "name": "python",
   "nbconvert_exporter": "python",
   "pygments_lexer": "ipython3",
   "version": "3.9.7"
  }
 },
 "nbformat": 4,
 "nbformat_minor": 5
}
