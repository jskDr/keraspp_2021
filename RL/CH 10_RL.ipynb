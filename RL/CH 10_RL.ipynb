{
 "cells": [
  {
   "cell_type": "markdown",
   "metadata": {},
   "source": [
    "# CHAPTER 10<br> 케라스로 구현하는 RL (강화학습)"
   ]
  },
  {
   "cell_type": "markdown",
   "metadata": {},
   "source": [
    "이 장에서 다루는 주 내용은 다음과 같습니다.\n",
    "- 강화학습 원리\n",
    "- Cartpole을 다루는 DQN 구현\n",
    "- Cartpole을 다루는 PG 구현\n",
    "- Cartpole을 다루는 A2G 구현\n",
    "\n",
    "추가적으로 다른 딥러닝 프레임워크에서 구현하는 방법을 살펴봅니다. 케라스 구현과 비교해 장단점을 이해하는데 도움이 될 것입니다.\n",
    "- 텐스플로 2 - Cartpole을 다루는 PG 구현\n",
    "- 파이토치 - Cartpole을 다루는 PG 구현"
   ]
  },
  {
   "cell_type": "code",
   "execution_count": null,
   "metadata": {},
   "outputs": [],
   "source": []
  }
 ],
 "metadata": {
  "kernelspec": {
   "display_name": "pytorch",
   "language": "python",
   "name": "pytorch"
  },
  "language_info": {
   "codemirror_mode": {
    "name": "ipython",
    "version": 3
   },
   "file_extension": ".py",
   "mimetype": "text/x-python",
   "name": "python",
   "nbconvert_exporter": "python",
   "pygments_lexer": "ipython3",
   "version": "3.7.3"
  }
 },
 "nbformat": 4,
 "nbformat_minor": 4
}
