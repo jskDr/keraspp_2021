{
 "cells": [
  {
   "cell_type": "code",
   "execution_count": 1,
   "metadata": {},
   "outputs": [],
   "source": [
    "%matplotlib inline"
   ]
  },
  {
   "cell_type": "code",
   "execution_count": 2,
   "metadata": {},
   "outputs": [],
   "source": [
    "# %% \n",
    "import gym\n",
    "import pandas as pd\n",
    "import numpy as np\n",
    "import matplotlib.pyplot as plt"
   ]
  },
  {
   "cell_type": "code",
   "execution_count": 3,
   "metadata": {},
   "outputs": [],
   "source": [
    "flake = gym.make(\"FrozenLake-v0\", is_slippery=True)\n",
    "Q = np.zeros((flake.observation_space.n, flake.action_space.n))\n",
    "PI = np.argmax(Q,axis=1)"
   ]
  },
  {
   "cell_type": "code",
   "execution_count": 4,
   "metadata": {},
   "outputs": [
    {
     "data": {
      "text/html": [
       "<div>\n",
       "<style scoped>\n",
       "    .dataframe tbody tr th:only-of-type {\n",
       "        vertical-align: middle;\n",
       "    }\n",
       "\n",
       "    .dataframe tbody tr th {\n",
       "        vertical-align: top;\n",
       "    }\n",
       "\n",
       "    .dataframe thead th {\n",
       "        text-align: right;\n",
       "    }\n",
       "</style>\n",
       "<table border=\"1\" class=\"dataframe\">\n",
       "  <thead>\n",
       "    <tr style=\"text-align: right;\">\n",
       "      <th></th>\n",
       "      <th>S</th>\n",
       "      <th>S:(x,y)</th>\n",
       "      <th>R</th>\n",
       "      <th>done</th>\n",
       "      <th>A</th>\n",
       "      <th>A:name</th>\n",
       "    </tr>\n",
       "    <tr>\n",
       "      <th>k</th>\n",
       "      <th></th>\n",
       "      <th></th>\n",
       "      <th></th>\n",
       "      <th></th>\n",
       "      <th></th>\n",
       "      <th></th>\n",
       "    </tr>\n",
       "  </thead>\n",
       "  <tbody>\n",
       "    <tr>\n",
       "      <th>0</th>\n",
       "      <td>0</td>\n",
       "      <td>(0, 0)</td>\n",
       "      <td>0.0</td>\n",
       "      <td>False</td>\n",
       "      <td>0</td>\n",
       "      <td>Left</td>\n",
       "    </tr>\n",
       "    <tr>\n",
       "      <th>1</th>\n",
       "      <td>4</td>\n",
       "      <td>(0, 1)</td>\n",
       "      <td>0.0</td>\n",
       "      <td>False</td>\n",
       "      <td>0</td>\n",
       "      <td>Left</td>\n",
       "    </tr>\n",
       "    <tr>\n",
       "      <th>2</th>\n",
       "      <td>4</td>\n",
       "      <td>(0, 1)</td>\n",
       "      <td>0.0</td>\n",
       "      <td>False</td>\n",
       "      <td>0</td>\n",
       "      <td>Left</td>\n",
       "    </tr>\n",
       "    <tr>\n",
       "      <th>3</th>\n",
       "      <td>4</td>\n",
       "      <td>(0, 1)</td>\n",
       "      <td>0.0</td>\n",
       "      <td>False</td>\n",
       "      <td>0</td>\n",
       "      <td>Left</td>\n",
       "    </tr>\n",
       "    <tr>\n",
       "      <th>4</th>\n",
       "      <td>0</td>\n",
       "      <td>(0, 0)</td>\n",
       "      <td>0.0</td>\n",
       "      <td>False</td>\n",
       "      <td>0</td>\n",
       "      <td>Left</td>\n",
       "    </tr>\n",
       "    <tr>\n",
       "      <th>5</th>\n",
       "      <td>0</td>\n",
       "      <td>(0, 0)</td>\n",
       "      <td>0.0</td>\n",
       "      <td>False</td>\n",
       "      <td>0</td>\n",
       "      <td>Left</td>\n",
       "    </tr>\n",
       "    <tr>\n",
       "      <th>6</th>\n",
       "      <td>0</td>\n",
       "      <td>(0, 0)</td>\n",
       "      <td>0.0</td>\n",
       "      <td>False</td>\n",
       "      <td>0</td>\n",
       "      <td>Left</td>\n",
       "    </tr>\n",
       "    <tr>\n",
       "      <th>7</th>\n",
       "      <td>0</td>\n",
       "      <td>(0, 0)</td>\n",
       "      <td>0.0</td>\n",
       "      <td>False</td>\n",
       "      <td>0</td>\n",
       "      <td>Left</td>\n",
       "    </tr>\n",
       "    <tr>\n",
       "      <th>8</th>\n",
       "      <td>0</td>\n",
       "      <td>(0, 0)</td>\n",
       "      <td>0.0</td>\n",
       "      <td>False</td>\n",
       "      <td>0</td>\n",
       "      <td>Left</td>\n",
       "    </tr>\n",
       "    <tr>\n",
       "      <th>9</th>\n",
       "      <td>0</td>\n",
       "      <td>(0, 0)</td>\n",
       "      <td>0.0</td>\n",
       "      <td>False</td>\n",
       "      <td>0</td>\n",
       "      <td>Left</td>\n",
       "    </tr>\n",
       "    <tr>\n",
       "      <th>10</th>\n",
       "      <td>4</td>\n",
       "      <td>(0, 1)</td>\n",
       "      <td>0.0</td>\n",
       "      <td>False</td>\n",
       "      <td>1</td>\n",
       "      <td>Down</td>\n",
       "    </tr>\n",
       "    <tr>\n",
       "      <th>11</th>\n",
       "      <td>4</td>\n",
       "      <td>(0, 1)</td>\n",
       "      <td>0.0</td>\n",
       "      <td>False</td>\n",
       "      <td>0</td>\n",
       "      <td>Left</td>\n",
       "    </tr>\n",
       "    <tr>\n",
       "      <th>12</th>\n",
       "      <td>4</td>\n",
       "      <td>(0, 1)</td>\n",
       "      <td>0.0</td>\n",
       "      <td>False</td>\n",
       "      <td>3</td>\n",
       "      <td>Up</td>\n",
       "    </tr>\n",
       "    <tr>\n",
       "      <th>13</th>\n",
       "      <td>4</td>\n",
       "      <td>(0, 1)</td>\n",
       "      <td>0.0</td>\n",
       "      <td>False</td>\n",
       "      <td>0</td>\n",
       "      <td>Left</td>\n",
       "    </tr>\n",
       "    <tr>\n",
       "      <th>14</th>\n",
       "      <td>4</td>\n",
       "      <td>(0, 1)</td>\n",
       "      <td>0.0</td>\n",
       "      <td>False</td>\n",
       "      <td>0</td>\n",
       "      <td>Left</td>\n",
       "    </tr>\n",
       "    <tr>\n",
       "      <th>15</th>\n",
       "      <td>0</td>\n",
       "      <td>(0, 0)</td>\n",
       "      <td>0.0</td>\n",
       "      <td>False</td>\n",
       "      <td>0</td>\n",
       "      <td>Left</td>\n",
       "    </tr>\n",
       "    <tr>\n",
       "      <th>16</th>\n",
       "      <td>4</td>\n",
       "      <td>(0, 1)</td>\n",
       "      <td>0.0</td>\n",
       "      <td>False</td>\n",
       "      <td>0</td>\n",
       "      <td>Left</td>\n",
       "    </tr>\n",
       "    <tr>\n",
       "      <th>17</th>\n",
       "      <td>8</td>\n",
       "      <td>(0, 2)</td>\n",
       "      <td>0.0</td>\n",
       "      <td>False</td>\n",
       "      <td>0</td>\n",
       "      <td>Left</td>\n",
       "    </tr>\n",
       "    <tr>\n",
       "      <th>18</th>\n",
       "      <td>4</td>\n",
       "      <td>(0, 1)</td>\n",
       "      <td>0.0</td>\n",
       "      <td>False</td>\n",
       "      <td>0</td>\n",
       "      <td>Left</td>\n",
       "    </tr>\n",
       "    <tr>\n",
       "      <th>19</th>\n",
       "      <td>8</td>\n",
       "      <td>(0, 2)</td>\n",
       "      <td>0.0</td>\n",
       "      <td>False</td>\n",
       "      <td>0</td>\n",
       "      <td>Left</td>\n",
       "    </tr>\n",
       "    <tr>\n",
       "      <th>20</th>\n",
       "      <td>8</td>\n",
       "      <td>(0, 2)</td>\n",
       "      <td>0.0</td>\n",
       "      <td>False</td>\n",
       "      <td>0</td>\n",
       "      <td>Left</td>\n",
       "    </tr>\n",
       "    <tr>\n",
       "      <th>21</th>\n",
       "      <td>12</td>\n",
       "      <td>(0, 3)</td>\n",
       "      <td>0.0</td>\n",
       "      <td>True</td>\n",
       "      <td>0</td>\n",
       "      <td></td>\n",
       "    </tr>\n",
       "  </tbody>\n",
       "</table>\n",
       "</div>"
      ],
      "text/plain": [
       "     S S:(x,y)    R   done  A A:name\n",
       "k                                   \n",
       "0    0  (0, 0)  0.0  False  0   Left\n",
       "1    4  (0, 1)  0.0  False  0   Left\n",
       "2    4  (0, 1)  0.0  False  0   Left\n",
       "3    4  (0, 1)  0.0  False  0   Left\n",
       "4    0  (0, 0)  0.0  False  0   Left\n",
       "5    0  (0, 0)  0.0  False  0   Left\n",
       "6    0  (0, 0)  0.0  False  0   Left\n",
       "7    0  (0, 0)  0.0  False  0   Left\n",
       "8    0  (0, 0)  0.0  False  0   Left\n",
       "9    0  (0, 0)  0.0  False  0   Left\n",
       "10   4  (0, 1)  0.0  False  1   Down\n",
       "11   4  (0, 1)  0.0  False  0   Left\n",
       "12   4  (0, 1)  0.0  False  3     Up\n",
       "13   4  (0, 1)  0.0  False  0   Left\n",
       "14   4  (0, 1)  0.0  False  0   Left\n",
       "15   0  (0, 0)  0.0  False  0   Left\n",
       "16   4  (0, 1)  0.0  False  0   Left\n",
       "17   8  (0, 2)  0.0  False  0   Left\n",
       "18   4  (0, 1)  0.0  False  0   Left\n",
       "19   8  (0, 2)  0.0  False  0   Left\n",
       "20   8  (0, 2)  0.0  False  0   Left\n",
       "21  12  (0, 3)  0.0   True  0       "
      ]
     },
     "execution_count": 4,
     "metadata": {},
     "output_type": "execute_result"
    }
   ],
   "source": [
    "# %% Q-learning\n",
    "def run_with_PI_exploration(PI=None, exploration=0.2, N_Iter = 100, render_flag=False):\n",
    "    \"\"\"\n",
    "    Return buff_df if done, otherwise return None \n",
    "    \"\"\"\n",
    "    if PI is None:\n",
    "        # No PI, action will be determined fully randomly\n",
    "        exploration = 1.0\n",
    "\n",
    "    s = flake.reset()\n",
    "    if render_flag: flake.render()\n",
    "    buff_df = pd.DataFrame({\"S\":[s],\"S:(x,y)\":[(0,0)], \n",
    "                \"R\":[0.0], \"done\":[False], \n",
    "                \"A\":[0], \"A:name\": [\"\"]})\n",
    "    buff_df.index.name = 'k'\n",
    "\n",
    "    Actions = [\"Left\", \"Down\", \"Right\", \"Up\"]\n",
    "    rand_buff =  np.random.rand(N_Iter)\n",
    "    for iter in range(N_Iter):\n",
    "        # if np.random.rand() <= exploration:\n",
    "        if rand_buff[iter] <= exploration:\n",
    "            a_k = flake.action_space.sample()\n",
    "        else:\n",
    "            a_k = PI[s]\n",
    "        buff_df.loc[iter,'A':\"A:name\"] = (a_k, Actions[a_k])\n",
    "        s, r, done, info = flake.step(a_k)\n",
    "        if render_flag: flake.render()\n",
    "        new_df = pd.DataFrame({\"S\":[s], \"S:(x,y)\":[(s%4,s//4)],\n",
    "                                \"R\":[r], \"done\":[done], \n",
    "                                \"A\":[0], \"A:name\": [\"\"]})\n",
    "        buff_df = buff_df.append(new_df, ignore_index=True)\n",
    "        buff_df.index.name = 'k'\n",
    "        if done:\n",
    "            return buff_df\n",
    "    return None\n",
    "\n",
    "buff_df = run_with_PI_exploration(PI, exploration=0.2, N_Iter=100)\n",
    "buff_df"
   ]
  },
  {
   "cell_type": "code",
   "execution_count": 5,
   "metadata": {},
   "outputs": [],
   "source": [
    "# %%\n",
    "def q_learning(N_epoch=1000, N_Iter=100, learning_rate=0.01, exploration=0.2, trace_flag=False):\n",
    "    \"\"\"\n",
    "    return PI 1-D integer array if trace_flag is False \n",
    "    else return PI_array 2-D integer array \n",
    "    \"\"\"\n",
    "    PI_list = []\n",
    "    Q = np.zeros((flake.observation_space.n, flake.action_space.n))\n",
    "    for e in range(N_epoch):\n",
    "        PI = np.argmax(Q,axis=1)\n",
    "        buff_df = run_with_PI_exploration(PI, exploration=exploration, N_Iter=N_Iter)\n",
    "        for k in range(len(buff_df)-1):\n",
    "            S, A = buff_df.S[k], buff_df.A[k]\n",
    "            S_next, R_next = buff_df.S[k+1], buff_df.R[k+1]\n",
    "            # print(k, S, A, S_next, R_next)\n",
    "            Q_new = R_next + np.max(Q[S_next])\n",
    "            Q[S,A] += learning_rate * (Q_new - Q[S,A])\n",
    "        PI = np.argmax(Q,axis=1)\n",
    "        PI_list.append(PI)\n",
    "    if trace_flag:\n",
    "        return np.array(PI_list)\n",
    "    else:\n",
    "        return PI"
   ]
  },
  {
   "cell_type": "code",
   "execution_count": 6,
   "metadata": {},
   "outputs": [
    {
     "name": "stdout",
     "output_type": "stream",
     "text": [
      "[1 3 2 0 1 0 0 0 2 1 1 0 0 3 3 0]\n"
     ]
    },
    {
     "data": {
      "text/plain": [
       "[<matplotlib.lines.Line2D at 0x26aed79ca60>,\n",
       " <matplotlib.lines.Line2D at 0x26aed79ca90>,\n",
       " <matplotlib.lines.Line2D at 0x26aed79cac0>,\n",
       " <matplotlib.lines.Line2D at 0x26aed79cc10>,\n",
       " <matplotlib.lines.Line2D at 0x26aed79cd30>,\n",
       " <matplotlib.lines.Line2D at 0x26aed79ce50>,\n",
       " <matplotlib.lines.Line2D at 0x26aed79cf70>,\n",
       " <matplotlib.lines.Line2D at 0x26aed7ad0d0>,\n",
       " <matplotlib.lines.Line2D at 0x26aed7ad1f0>,\n",
       " <matplotlib.lines.Line2D at 0x26aed7ad310>,\n",
       " <matplotlib.lines.Line2D at 0x26aed76b2b0>,\n",
       " <matplotlib.lines.Line2D at 0x26aed7ad430>,\n",
       " <matplotlib.lines.Line2D at 0x26aed7ad640>,\n",
       " <matplotlib.lines.Line2D at 0x26aed7ad760>,\n",
       " <matplotlib.lines.Line2D at 0x26aed7ad880>,\n",
       " <matplotlib.lines.Line2D at 0x26aed7ad9a0>]"
      ]
     },
     "execution_count": 6,
     "metadata": {},
     "output_type": "execute_result"
    },
    {
     "data": {
      "image/png": "[encoded data removed]",
      "text/plain": [
       "<Figure size 432x288 with 1 Axes>"
      ]
     },
     "metadata": {
      "needs_background": "light"
     },
     "output_type": "display_data"
    }
   ],
   "source": [
    "PI_array = q_learning(N_epoch=1000, N_Iter=100, learning_rate=0.01, exploration=0.8, trace_flag=True)\n",
    "print(PI_array[-1])\n",
    "plt.plot(PI_array)"
   ]
  },
  {
   "cell_type": "code",
   "execution_count": 7,
   "metadata": {},
   "outputs": [
    {
     "name": "stdout",
     "output_type": "stream",
     "text": [
      "[1 1 1 3 0 0 1 0 1 1 0 0 0 1 2 0]\n"
     ]
    },
    {
     "data": {
      "text/plain": [
       "[<matplotlib.lines.Line2D at 0x26aedf56cd0>,\n",
       " <matplotlib.lines.Line2D at 0x26aedf56d00>,\n",
       " <matplotlib.lines.Line2D at 0x26aedf56e20>,\n",
       " <matplotlib.lines.Line2D at 0x26aedf56f40>,\n",
       " <matplotlib.lines.Line2D at 0x26aedf630a0>,\n",
       " <matplotlib.lines.Line2D at 0x26aedf631c0>,\n",
       " <matplotlib.lines.Line2D at 0x26aedf632e0>,\n",
       " <matplotlib.lines.Line2D at 0x26aedf63400>,\n",
       " <matplotlib.lines.Line2D at 0x26aedf63520>,\n",
       " <matplotlib.lines.Line2D at 0x26aedf63640>,\n",
       " <matplotlib.lines.Line2D at 0x26aedf3b8b0>,\n",
       " <matplotlib.lines.Line2D at 0x26aedf63760>,\n",
       " <matplotlib.lines.Line2D at 0x26aedf63970>,\n",
       " <matplotlib.lines.Line2D at 0x26aedf63a90>,\n",
       " <matplotlib.lines.Line2D at 0x26aedf63bb0>,\n",
       " <matplotlib.lines.Line2D at 0x26aedf63cd0>]"
      ]
     },
     "execution_count": 7,
     "metadata": {},
     "output_type": "execute_result"
    },
    {
     "data": {
      "image/png": "[encoded data removed]",
      "text/plain": [
       "<Figure size 432x288 with 1 Axes>"
      ]
     },
     "metadata": {
      "needs_background": "light"
     },
     "output_type": "display_data"
    }
   ],
   "source": [
    "PI_array = q_learning(N_epoch=1000, N_Iter=100, learning_rate=0.01, exploration=0.6, trace_flag=True)\n",
    "print(PI_array[-1])\n",
    "plt.plot(PI_array)"
   ]
  },
  {
   "cell_type": "code",
   "execution_count": 8,
   "metadata": {},
   "outputs": [
    {
     "name": "stdout",
     "output_type": "stream",
     "text": [
      "[1 3 0 1 2 0 0 0 1 1 2 0 0 1 3 0]\n"
     ]
    },
    {
     "data": {
      "text/plain": [
       "[<matplotlib.lines.Line2D at 0x26aedfeec10>,\n",
       " <matplotlib.lines.Line2D at 0x26aedfeec40>,\n",
       " <matplotlib.lines.Line2D at 0x26aedfeed60>,\n",
       " <matplotlib.lines.Line2D at 0x26aedfeee80>,\n",
       " <matplotlib.lines.Line2D at 0x26aedfeefa0>,\n",
       " <matplotlib.lines.Line2D at 0x26aedffd100>,\n",
       " <matplotlib.lines.Line2D at 0x26aedffd220>,\n",
       " <matplotlib.lines.Line2D at 0x26aedffd340>,\n",
       " <matplotlib.lines.Line2D at 0x26aedffd460>,\n",
       " <matplotlib.lines.Line2D at 0x26aedffd580>,\n",
       " <matplotlib.lines.Line2D at 0x26aedfdb7f0>,\n",
       " <matplotlib.lines.Line2D at 0x26aedffd6a0>,\n",
       " <matplotlib.lines.Line2D at 0x26aedffd8b0>,\n",
       " <matplotlib.lines.Line2D at 0x26aedffd9d0>,\n",
       " <matplotlib.lines.Line2D at 0x26aedffdaf0>,\n",
       " <matplotlib.lines.Line2D at 0x26aedffdc10>]"
      ]
     },
     "execution_count": 8,
     "metadata": {},
     "output_type": "execute_result"
    },
    {
     "data": {
      "image/png": "[encoded data removed]",
      "text/plain": [
       "<Figure size 432x288 with 1 Axes>"
      ]
     },
     "metadata": {
      "needs_background": "light"
     },
     "output_type": "display_data"
    }
   ],
   "source": [
    "PI_array = q_learning(N_epoch=1000, N_Iter=100, learning_rate=0.01, exploration=0.4, trace_flag=True)\n",
    "print(PI_array[-1])\n",
    "plt.plot(PI_array)"
   ]
  },
  {
   "cell_type": "code",
   "execution_count": 9,
   "metadata": {},
   "outputs": [
    {
     "name": "stdout",
     "output_type": "stream",
     "text": [
      "[0 0 0 0 0 0 0 0 0 0 0 0 0 0 0 0]\n"
     ]
    },
    {
     "data": {
      "text/plain": [
       "[<matplotlib.lines.Line2D at 0x26aee08b160>,\n",
       " <matplotlib.lines.Line2D at 0x26aee08b190>,\n",
       " <matplotlib.lines.Line2D at 0x26aee08b2b0>,\n",
       " <matplotlib.lines.Line2D at 0x26aee08b3d0>,\n",
       " <matplotlib.lines.Line2D at 0x26aee08b4f0>,\n",
       " <matplotlib.lines.Line2D at 0x26aee08b610>,\n",
       " <matplotlib.lines.Line2D at 0x26aee08b730>,\n",
       " <matplotlib.lines.Line2D at 0x26aee08b850>,\n",
       " <matplotlib.lines.Line2D at 0x26aee08b970>,\n",
       " <matplotlib.lines.Line2D at 0x26aee07e070>,\n",
       " <matplotlib.lines.Line2D at 0x26aee07e0a0>,\n",
       " <matplotlib.lines.Line2D at 0x26aee06fa30>,\n",
       " <matplotlib.lines.Line2D at 0x26aee08bca0>,\n",
       " <matplotlib.lines.Line2D at 0x26aee08bdc0>,\n",
       " <matplotlib.lines.Line2D at 0x26aee08bee0>,\n",
       " <matplotlib.lines.Line2D at 0x26aee091040>]"
      ]
     },
     "execution_count": 9,
     "metadata": {},
     "output_type": "execute_result"
    },
    {
     "data": {
      "image/png": "[encoded data removed]",
      "text/plain": [
       "<Figure size 432x288 with 1 Axes>"
      ]
     },
     "metadata": {
      "needs_background": "light"
     },
     "output_type": "display_data"
    }
   ],
   "source": [
    "PI_array = q_learning(N_epoch=1000, N_Iter=100, learning_rate=0.01, exploration=0.2, trace_flag=True)\n",
    "print(PI_array[-1])\n",
    "plt.plot(PI_array)"
   ]
  },
  {
   "cell_type": "code",
   "execution_count": 10,
   "metadata": {},
   "outputs": [
    {
     "name": "stdout",
     "output_type": "stream",
     "text": [
      "[0 0 0 0 0 0 0 0 0 0 0 0 0 0 0 0]\n"
     ]
    },
    {
     "data": {
      "text/plain": [
       "[<matplotlib.lines.Line2D at 0x26aee112e50>,\n",
       " <matplotlib.lines.Line2D at 0x26aee112e80>,\n",
       " <matplotlib.lines.Line2D at 0x26aee112fa0>,\n",
       " <matplotlib.lines.Line2D at 0x26aee11e100>,\n",
       " <matplotlib.lines.Line2D at 0x26aee11e220>,\n",
       " <matplotlib.lines.Line2D at 0x26aee11e340>,\n",
       " <matplotlib.lines.Line2D at 0x26aee11e460>,\n",
       " <matplotlib.lines.Line2D at 0x26aee11e580>,\n",
       " <matplotlib.lines.Line2D at 0x26aee11e6a0>,\n",
       " <matplotlib.lines.Line2D at 0x26aee107dc0>,\n",
       " <matplotlib.lines.Line2D at 0x26aee107c40>,\n",
       " <matplotlib.lines.Line2D at 0x26aee0fa730>,\n",
       " <matplotlib.lines.Line2D at 0x26aee11e9d0>,\n",
       " <matplotlib.lines.Line2D at 0x26aee11eaf0>,\n",
       " <matplotlib.lines.Line2D at 0x26aee11ec10>,\n",
       " <matplotlib.lines.Line2D at 0x26aee11ed30>]"
      ]
     },
     "execution_count": 10,
     "metadata": {},
     "output_type": "execute_result"
    },
    {
     "data": {
      "image/png": "[encoded data removed]",
      "text/plain": [
       "<Figure size 432x288 with 1 Axes>"
      ]
     },
     "metadata": {
      "needs_background": "light"
     },
     "output_type": "display_data"
    }
   ],
   "source": [
    "PI_array = q_learning(N_epoch=1000, N_Iter=100, learning_rate=0.01, exploration=0.1, trace_flag=True)\n",
    "print(PI_array[-1])\n",
    "plt.plot(PI_array)"
   ]
  },
  {
   "cell_type": "code",
   "execution_count": null,
   "metadata": {},
   "outputs": [],
   "source": []
  }
 ],
 "metadata": {
  "kernelspec": {
   "display_name": "keras",
   "language": "python",
   "name": "keras"
  },
  "language_info": {
   "codemirror_mode": {
    "name": "ipython",
    "version": 3
   },
   "file_extension": ".py",
   "mimetype": "text/x-python",
   "name": "python",
   "nbconvert_exporter": "python",
   "pygments_lexer": "ipython3",
   "version": "3.8.8"
  }
 },
 "nbformat": 4,
 "nbformat_minor": 4
}
