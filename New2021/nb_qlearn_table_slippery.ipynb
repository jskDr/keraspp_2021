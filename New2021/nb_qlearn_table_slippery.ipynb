{
 "cells": [
  {
   "cell_type": "code",
   "execution_count": 1,
   "metadata": {},
   "outputs": [],
   "source": [
    "%matplotlib inline"
   ]
  },
  {
   "cell_type": "code",
   "execution_count": 2,
   "metadata": {},
   "outputs": [],
   "source": [
    "import gym\n",
    "import numpy as np\n",
    "import random as pr\n",
    "import matplotlib.pyplot as plt\n",
    "\n",
    "\"\"\"\n",
    "Frozen-lake actions:\n",
    "LEFT = 0, DOWN = 1, RIGHT = 2, UP = 3\n",
    "\"\"\"\n",
    "\n",
    "def rargmax(vector):\n",
    "    # Blotzman-like policy strategy\n",
    "    m = np.amax(vector)\n",
    "    indices = np.nonzero(vector==m)[0]\n",
    "    return pr.choice(indices)\n",
    "\n",
    "def degreedy(env, vector, episode, epsilon1=0.8, epsilon2=0, Nstop=500):\n",
    "    gamma = np.max((Nstop-episode)/Nstop,0)\n",
    "    epsilon = (epsilon1 - epsilon2) * gamma + epsilon2\n",
    "    r = np.random.random()\n",
    "    if r < epsilon:\n",
    "        return env.action_space.sample()\n",
    "    else:\n",
    "        return np.argmax(vector)\n",
    "\n",
    "def qlearn_base(env, Q, num_episodes=100):\n",
    "    \"\"\"\n",
    "    action을 Q값에서 바로 결정 (단, 동일한 Q(s,a)들에 대해서는 확률적으로 선택함)\n",
    "    - action = rargmax(Q[state,:])\n",
    "    \"\"\"\n",
    "    rList = []\n",
    "    for i in range(num_episodes):\n",
    "        state = env.reset()\n",
    "        rAll = 0\n",
    "        done = False\n",
    "        while not done:\n",
    "            action = rargmax(Q[state,:])\n",
    "            new_state, reward, done, _ = env.step(action)\n",
    "            Q[state,action] = reward + np.max(Q[new_state,:])\n",
    "            state = new_state      \n",
    "            # done까지 여기서는 reward가 한번 밖에 없음. 따라서 rAll은 reward를 사용해도 동일함.\n",
    "            rAll += reward\n",
    "        rList.append(rAll)        \n",
    "    return rList\n",
    "\n",
    "def qlearn_random(env, Q, num_episodes=100):\n",
    "    \"\"\"\n",
    "    action을 random을 더해서 결정함.\n",
    "    - action = np.argmax(Q[state,:] + np.random.randn(1,env.action_space.n) / (i+1))\n",
    "    \"\"\"\n",
    "    rList = []\n",
    "    for i in range(num_episodes):\n",
    "        state = env.reset()\n",
    "        rAll = 0\n",
    "        done = False\n",
    "        while not done:\n",
    "            # action = rargmax(Q[state,:])\n",
    "            action = np.argmax(Q[state,:] + np.random.randn(1,env.action_space.n) / (i+1))\n",
    "            new_state, reward, done, _ = env.step(action)\n",
    "            Q[state,action] = reward + np.max(Q[new_state,:])\n",
    "            state = new_state      \n",
    "            # done까지 여기서는 reward가 한번 밖에 없음. 따라서 rAll은 reward를 사용해도 동일함.\n",
    "            rAll += reward\n",
    "        rList.append(rAll)        \n",
    "    return rList\n",
    "\n",
    "def qlearn_discount(env, Q, num_episodes=100, discount=0.99):\n",
    "    \"\"\"\n",
    "    action을 random을 더해서 결정함.\n",
    "    - action = np.argmax(Q[state,:] + np.random.randn(1,env.action_space.n) / (i+1))\n",
    "    \"\"\"\n",
    "    rList = []\n",
    "    for i in range(num_episodes):\n",
    "        state = env.reset()\n",
    "        rAll = 0\n",
    "        done = False\n",
    "        while not done:\n",
    "            action = rargmax(Q[state,:])\n",
    "            new_state, reward, done, _ = env.step(action)\n",
    "            Q[state,action] = reward + discount * np.max(Q[new_state,:])\n",
    "            state = new_state      \n",
    "            # done까지 여기서는 reward가 한번 밖에 없음. 따라서 rAll은 reward를 사용해도 동일함.\n",
    "            rAll += reward\n",
    "        rList.append(rAll)        \n",
    "    return rList\n",
    "\n",
    "def qlearn_discount_lr(env, Q, num_episodes=100, discount=0.99, lr=0.85):\n",
    "    \"\"\"\n",
    "    action을 random을 더해서 결정함.\n",
    "    - action = np.argmax(Q[state,:] + np.random.randn(1,env.action_space.n) / (i+1))\n",
    "    \"\"\"\n",
    "    rList = []\n",
    "    for i in range(num_episodes):\n",
    "        state = env.reset()\n",
    "        rAll = 0\n",
    "        done = False\n",
    "        while not done:\n",
    "            action = rargmax(Q[state,:])\n",
    "            new_state, reward, done, _ = env.step(action)\n",
    "            Q[state,action] = (1-lr)*Q[state,action] + lr * (reward + discount * np.max(Q[new_state,:]))\n",
    "            state = new_state      \n",
    "            # done까지 여기서는 reward가 한번 밖에 없음. 따라서 rAll은 reward를 사용해도 동일함.\n",
    "            rAll += reward\n",
    "        rList.append(rAll)        \n",
    "    return rList\n",
    "\n",
    "def qlearn_random_discount_lr(env, Q, num_episodes=100, discount=0.99, lr=0.85):\n",
    "    \"\"\"\n",
    "    action을 random을 더해서 결정함.\n",
    "    - action = np.argmax(Q[state,:] + np.random.randn(1,env.action_space.n) / (i+1))\n",
    "    \"\"\"\n",
    "    rList = []\n",
    "    for i in range(num_episodes):\n",
    "        state = env.reset()\n",
    "        rAll = 0\n",
    "        done = False\n",
    "        while not done:\n",
    "            # action = rargmax(Q[state,:])\n",
    "            action = np.argmax(Q[state,:] + np.random.randn(1,env.action_space.n) / (i+1))\n",
    "            new_state, reward, done, _ = env.step(action)\n",
    "            Q[state,action] = (1-lr)*Q[state,action] + lr * (reward + discount * np.max(Q[new_state,:]))\n",
    "            state = new_state      \n",
    "            # done까지 여기서는 reward가 한번 밖에 없음. 따라서 rAll은 reward를 사용해도 동일함.\n",
    "            rAll += reward\n",
    "        rList.append(rAll)        \n",
    "    return rList\n",
    "\n",
    "def qlearn_degreedy_discount_lr(env, Q, num_episodes=100, discount=0.99, lr=0.85, epsilon=0.8, Nstop=1000):\n",
    "    \"\"\"\n",
    "    action을 random을 더해서 결정함.\n",
    "    - action = np.argmax(Q[state,:] + np.random.randn(1,env.action_space.n) / (i+1))\n",
    "    \"\"\"\n",
    "    rList = []\n",
    "    for i in range(num_episodes):\n",
    "        state = env.reset()\n",
    "        rAll = 0\n",
    "        done = False\n",
    "        while not done:\n",
    "            # action = rargmax(Q[state,:])\n",
    "            #action = np.argmax(Q[state,:] + np.random.randn(1,env.action_space.n) / (i+1))\n",
    "            action = degreedy(env, Q[state,:], i, epsilon1=epsilon, Nstop=Nstop)\n",
    "            new_state, reward, done, _ = env.step(action)\n",
    "            Q[state,action] = (1-lr)*Q[state,action] + lr * (reward + discount * np.max(Q[new_state,:]))\n",
    "            state = new_state      \n",
    "            # done까지 여기서는 reward가 한번 밖에 없음. 따라서 rAll은 reward를 사용해도 동일함.\n",
    "            rAll += reward\n",
    "        rList.append(rAll)        \n",
    "    return rList\n",
    "\n",
    "def qlearn_mode(mode, env, Q, num_episodes=100):\n",
    "    if mode == 'base':\n",
    "        return qlearn_base(env, Q, num_episodes=num_episodes)\n",
    "    elif mode == 'random': # random action\n",
    "        return qlearn_random(env, Q, num_episodes=num_episodes)        \n",
    "    elif mode == 'discount':\n",
    "        return qlearn_discount(env, Q, num_episodes=num_episodes)\n",
    "    elif mode == 'discount_lr':\n",
    "        return qlearn_discount_lr(env, Q, num_episodes=num_episodes)    \n",
    "    elif mode == 'random_discount_lr':\n",
    "        return qlearn_random_discount_lr(env, Q, num_episodes=num_episodes)    \n",
    "    elif mode == 'degreedy_discount_lr':\n",
    "        return qlearn_degreedy_discount_lr(env, Q, num_episodes=num_episodes)    \n",
    "    \n",
    "def run(mode, num_episodes=2000):\n",
    "    print(\"Supporting modes: base, random, discount, discount_lr, random_discount_lr, degreedy_discount_lr\") \n",
    "    print(f'Current mode: {mode}')\n",
    "    \n",
    "    env = gym.make(\"FrozenLake-v0\", map_name='4x4')\n",
    "    Q = np.zeros([env.observation_space.n, env.action_space.n])\n",
    "\n",
    "    rList = qlearn_mode(mode, env, Q, num_episodes)\n",
    "    print(f\"Total success rate: {sum(rList)/num_episodes}\")\n",
    "    plt.bar(range(len(rList)), 1-np.array(rList))\n",
    "    plt.title('Show 1-reward')\n",
    "    plt.show()\n",
    "\n",
    "    print(\"Final Q-table\")\n",
    "    print(Q)\n",
    "    print()\n",
    "\n",
    "    print(\"Frozen-Lake Map at the Final State\")\n",
    "    # env.reset()\n",
    "    env.render()\n",
    "    print()\n",
    "\n",
    "    print(\"Final action for each state in Q\")\n",
    "    action_list = [\"LEFT\", \"DOWN\", \"RIGHT\", \"UP\"]\n",
    "    for i, q in enumerate(Q):\n",
    "        print(action_list[np.argmax(q)], end=',')\n",
    "        if i % 4 == 3:\n",
    "            print()"
   ]
  },
  {
   "cell_type": "code",
   "execution_count": 3,
   "metadata": {},
   "outputs": [
    {
     "name": "stdout",
     "output_type": "stream",
     "text": [
      "Supporting modes: base, random, discount, discount_lr, random_discount_lr, degreedy_discount_lr\n",
      "Current mode: base\n",
      "Total success rate: 0.027\n"
     ]
    },
    {
     "data": {
      "image/png": "[encoded data removed]",
      "text/plain": [
       "<Figure size 432x288 with 1 Axes>"
      ]
     },
     "metadata": {
      "needs_background": "light"
     },
     "output_type": "display_data"
    },
    {
     "name": "stdout",
     "output_type": "stream",
     "text": [
      "Final Q-table\n",
      "[[0. 0. 0. 0.]\n",
      " [0. 0. 0. 0.]\n",
      " [1. 0. 0. 0.]\n",
      " [0. 0. 0. 0.]\n",
      " [0. 0. 0. 0.]\n",
      " [0. 0. 0. 0.]\n",
      " [0. 0. 0. 0.]\n",
      " [0. 0. 0. 0.]\n",
      " [0. 0. 0. 0.]\n",
      " [0. 0. 0. 0.]\n",
      " [1. 0. 0. 0.]\n",
      " [0. 0. 0. 0.]\n",
      " [0. 0. 0. 0.]\n",
      " [0. 0. 1. 0.]\n",
      " [0. 1. 0. 0.]\n",
      " [0. 0. 0. 0.]]\n",
      "\n",
      "Frozen-Lake Map at the Final State\n",
      "  (Right)\n",
      "SFFF\n",
      "F\u001b[41mH\u001b[0mFH\n",
      "FFFH\n",
      "HFFG\n",
      "\n",
      "Final action for each state in Q\n",
      "LEFT,LEFT,LEFT,LEFT,\n",
      "LEFT,LEFT,LEFT,LEFT,\n",
      "LEFT,LEFT,LEFT,LEFT,\n",
      "LEFT,RIGHT,DOWN,LEFT,\n"
     ]
    }
   ],
   "source": [
    "run('base')"
   ]
  },
  {
   "cell_type": "code",
   "execution_count": 4,
   "metadata": {},
   "outputs": [
    {
     "name": "stdout",
     "output_type": "stream",
     "text": [
      "Supporting modes: base, random, discount, discount_lr, random_discount_lr, degreedy_discount_lr\n",
      "Current mode: random\n",
      "Total success rate: 0.027\n"
     ]
    },
    {
     "data": {
      "image/png": "[encoded data removed]",
      "text/plain": [
       "<Figure size 432x288 with 1 Axes>"
      ]
     },
     "metadata": {
      "needs_background": "light"
     },
     "output_type": "display_data"
    },
    {
     "name": "stdout",
     "output_type": "stream",
     "text": [
      "Final Q-table\n",
      "[[0. 0. 0. 0.]\n",
      " [0. 0. 0. 0.]\n",
      " [0. 0. 0. 0.]\n",
      " [0. 0. 0. 0.]\n",
      " [0. 0. 0. 0.]\n",
      " [0. 0. 0. 0.]\n",
      " [0. 0. 0. 0.]\n",
      " [0. 0. 0. 0.]\n",
      " [0. 0. 0. 0.]\n",
      " [0. 0. 0. 0.]\n",
      " [0. 0. 0. 0.]\n",
      " [0. 0. 0. 0.]\n",
      " [0. 0. 0. 0.]\n",
      " [0. 0. 0. 0.]\n",
      " [0. 1. 0. 0.]\n",
      " [0. 0. 0. 0.]]\n",
      "\n",
      "Frozen-Lake Map at the Final State\n",
      "  (Left)\n",
      "SFFF\n",
      "FHF\u001b[41mH\u001b[0m\n",
      "FFFH\n",
      "HFFG\n",
      "\n",
      "Final action for each state in Q\n",
      "LEFT,LEFT,LEFT,LEFT,\n",
      "LEFT,LEFT,LEFT,LEFT,\n",
      "LEFT,LEFT,LEFT,LEFT,\n",
      "LEFT,LEFT,DOWN,LEFT,\n"
     ]
    }
   ],
   "source": [
    "run('random')"
   ]
  },
  {
   "cell_type": "code",
   "execution_count": 5,
   "metadata": {},
   "outputs": [
    {
     "name": "stdout",
     "output_type": "stream",
     "text": [
      "Supporting modes: base, random, discount, discount_lr, random_discount_lr, degreedy_discount_lr\n",
      "Current mode: discount\n",
      "Total success rate: 0.0235\n"
     ]
    },
    {
     "data": {
      "image/png": "[encoded data removed]",
      "text/plain": [
       "<Figure size 432x288 with 1 Axes>"
      ]
     },
     "metadata": {
      "needs_background": "light"
     },
     "output_type": "display_data"
    },
    {
     "name": "stdout",
     "output_type": "stream",
     "text": [
      "Final Q-table\n",
      "[[0. 0. 0. 0.]\n",
      " [0. 0. 0. 0.]\n",
      " [0. 0. 0. 0.]\n",
      " [0. 0. 0. 0.]\n",
      " [0. 0. 0. 0.]\n",
      " [0. 0. 0. 0.]\n",
      " [0. 0. 0. 0.]\n",
      " [0. 0. 0. 0.]\n",
      " [0. 0. 0. 0.]\n",
      " [0. 0. 0. 0.]\n",
      " [0. 0. 0. 0.]\n",
      " [0. 0. 0. 0.]\n",
      " [0. 0. 0. 0.]\n",
      " [0. 0. 0. 0.]\n",
      " [0. 0. 0. 1.]\n",
      " [0. 0. 0. 0.]]\n",
      "\n",
      "Frozen-Lake Map at the Final State\n",
      "  (Right)\n",
      "SFFF\n",
      "F\u001b[41mH\u001b[0mFH\n",
      "FFFH\n",
      "HFFG\n",
      "\n",
      "Final action for each state in Q\n",
      "LEFT,LEFT,LEFT,LEFT,\n",
      "LEFT,LEFT,LEFT,LEFT,\n",
      "LEFT,LEFT,LEFT,LEFT,\n",
      "LEFT,LEFT,UP,LEFT,\n"
     ]
    }
   ],
   "source": [
    "run('discount')"
   ]
  },
  {
   "cell_type": "code",
   "execution_count": 6,
   "metadata": {},
   "outputs": [
    {
     "name": "stdout",
     "output_type": "stream",
     "text": [
      "Supporting modes: base, random, discount, discount_lr, random_discount_lr, degreedy_discount_lr\n",
      "Current mode: discount_lr\n",
      "Total success rate: 0.0705\n"
     ]
    },
    {
     "data": {
      "image/png": "[encoded data removed]",
      "text/plain": [
       "<Figure size 432x288 with 1 Axes>"
      ]
     },
     "metadata": {
      "needs_background": "light"
     },
     "output_type": "display_data"
    },
    {
     "name": "stdout",
     "output_type": "stream",
     "text": [
      "Final Q-table\n",
      "[[0.00000000e+00 0.00000000e+00 4.09285814e-04 0.00000000e+00]\n",
      " [0.00000000e+00 0.00000000e+00 0.00000000e+00 1.64018343e-03]\n",
      " [0.00000000e+00 0.00000000e+00 1.33689656e-02 0.00000000e+00]\n",
      " [0.00000000e+00 1.81337602e-03 0.00000000e+00 0.00000000e+00]\n",
      " [0.00000000e+00 2.86999944e-05 0.00000000e+00 0.00000000e+00]\n",
      " [0.00000000e+00 0.00000000e+00 0.00000000e+00 0.00000000e+00]\n",
      " [0.00000000e+00 2.33489374e-03 0.00000000e+00 0.00000000e+00]\n",
      " [0.00000000e+00 0.00000000e+00 0.00000000e+00 0.00000000e+00]\n",
      " [0.00000000e+00 2.27952501e-04 0.00000000e+00 0.00000000e+00]\n",
      " [0.00000000e+00 0.00000000e+00 2.34383797e-04 0.00000000e+00]\n",
      " [0.00000000e+00 0.00000000e+00 8.38358325e-01 0.00000000e+00]\n",
      " [0.00000000e+00 0.00000000e+00 0.00000000e+00 0.00000000e+00]\n",
      " [0.00000000e+00 0.00000000e+00 0.00000000e+00 0.00000000e+00]\n",
      " [0.00000000e+00 0.00000000e+00 7.88882959e-01 0.00000000e+00]\n",
      " [0.00000000e+00 9.98947060e-01 0.00000000e+00 0.00000000e+00]\n",
      " [0.00000000e+00 0.00000000e+00 0.00000000e+00 0.00000000e+00]]\n",
      "\n",
      "Frozen-Lake Map at the Final State\n",
      "  (Down)\n",
      "SFFF\n",
      "F\u001b[41mH\u001b[0mFH\n",
      "FFFH\n",
      "HFFG\n",
      "\n",
      "Final action for each state in Q\n",
      "RIGHT,UP,RIGHT,DOWN,\n",
      "DOWN,LEFT,DOWN,LEFT,\n",
      "DOWN,RIGHT,RIGHT,LEFT,\n",
      "LEFT,RIGHT,DOWN,LEFT,\n"
     ]
    }
   ],
   "source": [
    "run('discount_lr')"
   ]
  },
  {
   "cell_type": "code",
   "execution_count": 7,
   "metadata": {},
   "outputs": [
    {
     "name": "stdout",
     "output_type": "stream",
     "text": [
      "Supporting modes: base, random, discount, discount_lr, random_discount_lr, degreedy_discount_lr\n",
      "Current mode: random_discount_lr\n",
      "Total success rate: 0.6425\n"
     ]
    },
    {
     "data": {
      "image/png": "[encoded data removed]",
      "text/plain": [
       "<Figure size 432x288 with 1 Axes>"
      ]
     },
     "metadata": {
      "needs_background": "light"
     },
     "output_type": "display_data"
    },
    {
     "name": "stdout",
     "output_type": "stream",
     "text": [
      "Final Q-table\n",
      "[[3.44333559e-01 0.00000000e+00 4.30733812e-04 0.00000000e+00]\n",
      " [3.23177564e-05 2.56032929e-04 0.00000000e+00 5.63714878e-01]\n",
      " [4.19127004e-01 0.00000000e+00 8.18583386e-04 2.15451709e-04]\n",
      " [0.00000000e+00 0.00000000e+00 0.00000000e+00 0.00000000e+00]\n",
      " [2.43133218e-01 0.00000000e+00 5.11864304e-04 0.00000000e+00]\n",
      " [0.00000000e+00 0.00000000e+00 0.00000000e+00 0.00000000e+00]\n",
      " [1.20418257e-04 2.97209418e-05 8.82235599e-05 2.08072956e-04]\n",
      " [0.00000000e+00 0.00000000e+00 0.00000000e+00 0.00000000e+00]\n",
      " [0.00000000e+00 0.00000000e+00 0.00000000e+00 5.52100618e-01]\n",
      " [2.03142570e-03 7.75177803e-01 6.51366411e-03 1.19549079e-02]\n",
      " [7.77391668e-01 3.70429797e-04 0.00000000e+00 0.00000000e+00]\n",
      " [0.00000000e+00 0.00000000e+00 0.00000000e+00 0.00000000e+00]\n",
      " [0.00000000e+00 0.00000000e+00 0.00000000e+00 0.00000000e+00]\n",
      " [2.27665323e-03 0.00000000e+00 9.41267044e-01 2.03188263e-03]\n",
      " [0.00000000e+00 9.89950002e-01 0.00000000e+00 0.00000000e+00]\n",
      " [0.00000000e+00 0.00000000e+00 0.00000000e+00 0.00000000e+00]]\n",
      "\n",
      "Frozen-Lake Map at the Final State\n",
      "  (Down)\n",
      "SFFF\n",
      "FHFH\n",
      "FFFH\n",
      "HFF\u001b[41mG\u001b[0m\n",
      "\n",
      "Final action for each state in Q\n",
      "LEFT,UP,LEFT,LEFT,\n",
      "LEFT,LEFT,UP,LEFT,\n",
      "UP,DOWN,LEFT,LEFT,\n",
      "LEFT,RIGHT,DOWN,LEFT,\n"
     ]
    }
   ],
   "source": [
    "run('random_discount_lr')"
   ]
  },
  {
   "cell_type": "code",
   "execution_count": 8,
   "metadata": {},
   "outputs": [
    {
     "name": "stdout",
     "output_type": "stream",
     "text": [
      "Supporting modes: base, random, discount, discount_lr, random_discount_lr, degreedy_discount_lr\n",
      "Current mode: degreedy_discount_lr\n",
      "Total success rate: 0.3515\n"
     ]
    },
    {
     "data": {
      "image/png": "[encoded data removed]",
      "text/plain": [
       "<Figure size 432x288 with 1 Axes>"
      ]
     },
     "metadata": {
      "needs_background": "light"
     },
     "output_type": "display_data"
    },
    {
     "name": "stdout",
     "output_type": "stream",
     "text": [
      "Final Q-table\n",
      "[[7.71994193e-01 1.56295775e-02 1.56961810e-02 1.56674098e-02]\n",
      " [1.07207932e-02 9.62069007e-03 1.04148575e-02 6.49893674e-01]\n",
      " [9.02849529e-03 4.66815544e-03 6.62538493e-03 5.53943467e-01]\n",
      " [4.85571717e-03 5.46490721e-03 5.80634183e-03 4.67744937e-01]\n",
      " [7.72293933e-01 1.16687804e-02 9.88907767e-03 2.46973038e-03]\n",
      " [0.00000000e+00 0.00000000e+00 0.00000000e+00 0.00000000e+00]\n",
      " [1.09310733e-05 6.63197578e-06 9.47834787e-02 8.65424521e-06]\n",
      " [0.00000000e+00 0.00000000e+00 0.00000000e+00 0.00000000e+00]\n",
      " [2.82590374e-03 2.94581332e-03 2.31156771e-03 8.75254099e-01]\n",
      " [2.22836851e-03 8.86447969e-01 2.55220979e-03 4.24490590e-03]\n",
      " [6.64661367e-01 2.11886638e-04 6.53477779e-05 2.03934431e-04]\n",
      " [0.00000000e+00 0.00000000e+00 0.00000000e+00 0.00000000e+00]\n",
      " [0.00000000e+00 0.00000000e+00 0.00000000e+00 0.00000000e+00]\n",
      " [1.63492622e-02 2.97347397e-02 9.49158871e-01 3.16724357e-02]\n",
      " [5.88033145e-02 9.96738174e-01 1.18025764e-01 7.25712437e-02]\n",
      " [0.00000000e+00 0.00000000e+00 0.00000000e+00 0.00000000e+00]]\n",
      "\n",
      "Frozen-Lake Map at the Final State\n",
      "  (Right)\n",
      "SFFF\n",
      "FHF\u001b[41mH\u001b[0m\n",
      "FFFH\n",
      "HFFG\n",
      "\n",
      "Final action for each state in Q\n",
      "LEFT,UP,UP,UP,\n",
      "LEFT,LEFT,RIGHT,LEFT,\n",
      "UP,DOWN,LEFT,LEFT,\n",
      "LEFT,RIGHT,DOWN,LEFT,\n"
     ]
    }
   ],
   "source": [
    "run('degreedy_discount_lr')"
   ]
  },
  {
   "cell_type": "code",
   "execution_count": null,
   "metadata": {},
   "outputs": [],
   "source": []
  }
 ],
 "metadata": {
  "kernelspec": {
   "display_name": "keras",
   "language": "python",
   "name": "keras"
  },
  "language_info": {
   "codemirror_mode": {
    "name": "ipython",
    "version": 3
   },
   "file_extension": ".py",
   "mimetype": "text/x-python",
   "name": "python",
   "nbconvert_exporter": "python",
   "pygments_lexer": "ipython3",
   "version": "3.8.8"
  }
 },
 "nbformat": 4,
 "nbformat_minor": 4
}
