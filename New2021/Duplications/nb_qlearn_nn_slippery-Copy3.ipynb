{
 "cells": [
  {
   "cell_type": "code",
   "execution_count": 1,
   "metadata": {},
   "outputs": [],
   "source": [
    "%matplotlib inline"
   ]
  },
  {
   "cell_type": "code",
   "execution_count": 2,
   "metadata": {},
   "outputs": [],
   "source": [
    "import gym\n",
    "import numpy as np\n",
    "import random as pr\n",
    "import matplotlib.pyplot as plt"
   ]
  },
  {
   "cell_type": "code",
   "execution_count": 3,
   "metadata": {},
   "outputs": [
    {
     "name": "stdout",
     "output_type": "stream",
     "text": [
      "Model: \"sequential\"\n",
      "_________________________________________________________________\n",
      "Layer (type)                 Output Shape              Param #   \n",
      "=================================================================\n",
      "dense (Dense)                (None, 4)                 68        \n",
      "=================================================================\n",
      "Total params: 68\n",
      "Trainable params: 68\n",
      "Non-trainable params: 0\n",
      "_________________________________________________________________\n"
     ]
    }
   ],
   "source": [
    "import tensorflow as tf\n",
    "from tensorflow.keras import Sequential\n",
    "from tensorflow.keras.layers import Dense\n",
    "\n",
    "env = gym.make(\"FrozenLake-v0\")\n",
    "\n",
    "learning_rate = 0.1\n",
    "input_size = env.observation_space.n\n",
    "output_size = env.action_space.n\n",
    "dis = .99\n",
    "num_episodes = 2000\n",
    "\n",
    "# input: 16, output: 4, bias: 4 ==> 68\n",
    "model = tf.keras.Sequential([\n",
    "    Dense(output_size, input_shape=[input_size],\n",
    "         kernel_initializer=tf.random_uniform_initializer(minval=0,maxval=0.01)) \n",
    "])\n",
    "#model.compile(optimizer=\"sgd\", loss='mse')\n",
    "opt = tf.keras.optimizers.SGD(learning_rate=learning_rate)\n",
    "model.compile(optimizer=opt, loss='mse')\n",
    "model.summary()"
   ]
  },
  {
   "cell_type": "code",
   "execution_count": null,
   "metadata": {},
   "outputs": [
    {
     "name": "stdout",
     "output_type": "stream",
     "text": [
      "Episode: 0\n",
      "0.0\n",
      "Episode: 10\n",
      "0.0\n",
      "Episode: 20\n",
      "0.0\n",
      "Episode: 30\n",
      "0.0\n",
      "Episode: 40\n",
      "0.0\n",
      "Episode: 50\n",
      "0.0\n",
      "Episode: 60\n",
      "0.0\n",
      "Episode: 70\n",
      "0.0\n",
      "Episode: 80\n",
      "0.0\n",
      "Episode: 90\n",
      "0.0\n",
      "Episode: 100\n",
      "0.0\n",
      "Episode: 110\n",
      "0.0\n",
      "Episode: 120\n",
      "0.0\n",
      "Episode: 130\n",
      "0.0\n",
      "Episode: 140\n",
      "0.0\n",
      "Episode: 150\n",
      "0.0\n",
      "Episode: 160\n",
      "0.0\n",
      "Episode: 170\n",
      "0.0\n",
      "Episode: 180\n",
      "0.0\n",
      "Episode: 190\n",
      "0.0\n",
      "Episode: 200\n",
      "0.0\n",
      "Episode: 210\n",
      "0.0\n",
      "Episode: 220\n",
      "0.0\n",
      "Episode: 230\n",
      "0.0\n",
      "Episode: 240\n",
      "0.0\n",
      "Episode: 250\n",
      "0.0\n",
      "Episode: 260\n",
      "0.0\n",
      "Episode: 270\n",
      "0.0\n",
      "Episode: 280\n",
      "0.0\n",
      "Episode: 290\n",
      "0.0\n",
      "Episode: 300\n",
      "1.0\n",
      "Episode: 310\n",
      "0.0\n",
      "Episode: 320\n",
      "0.0\n",
      "Episode: 330\n",
      "0.0\n",
      "Episode: 340\n",
      "0.0\n",
      "Episode: 350\n",
      "0.0\n",
      "Episode: 360\n",
      "0.0\n",
      "Episode: 370\n",
      "0.0\n",
      "Episode: 380\n",
      "0.0\n",
      "Episode: 390\n",
      "0.0\n",
      "Episode: 400\n",
      "0.0\n",
      "Episode: 410\n",
      "0.0\n",
      "Episode: 420\n",
      "1.0\n",
      "Episode: 430\n",
      "0.0\n",
      "Episode: 440\n",
      "0.0\n",
      "Episode: 450\n",
      "0.0\n",
      "Episode: 460\n",
      "0.0\n",
      "Episode: 470\n",
      "0.0\n",
      "Episode: 480\n",
      "0.0\n",
      "Episode: 490\n",
      "0.0\n",
      "Episode: 500\n",
      "0.0\n",
      "Episode: 510\n",
      "1.0\n",
      "Episode: 520\n",
      "0.0\n",
      "Episode: 530\n",
      "1.0\n",
      "Episode: 540\n",
      "0.0\n",
      "Episode: 550\n",
      "0.0\n"
     ]
    }
   ],
   "source": [
    "def one_hot(x):\n",
    "    return np.identity(16)[x:x+1]\n",
    "    \n",
    "with tf.device('/GPU:0'):\n",
    "    rList=[]\n",
    "    for i in range(num_episodes):\n",
    "        s = env.reset()\n",
    "        e = 1.0 / ((i/50)+10)\n",
    "        rAll = 0\n",
    "        done = False\n",
    "        local_loss = []\n",
    "\n",
    "        while not done:\n",
    "            Qs = model.predict(one_hot(s))\n",
    "            if np.random.rand(1) < e:\n",
    "                a = env.action_space.sample()\n",
    "            else:\n",
    "                a = np.argmax(Qs)\n",
    "\n",
    "            s1, reward, done, _ = env.step(a)\n",
    "            if done:\n",
    "                Qs[0, a] = reward\n",
    "            else:\n",
    "                Qs1 = model.predict(one_hot(s1))\n",
    "                Qs[0, a] = reward + dis*np.max(Qs1)\n",
    "\n",
    "            model.fit(x=one_hot(s), y=Qs, verbose=0)\n",
    "\n",
    "            rAll += reward\n",
    "            s= s1\n",
    "        if i % 10 == 0:\n",
    "            print(f\"Episode: {i}\")\n",
    "            print(rAll)\n",
    "        rList.append(rAll)"
   ]
  },
  {
   "cell_type": "code",
   "execution_count": 20,
   "metadata": {},
   "outputs": [
    {
     "name": "stdout",
     "output_type": "stream",
     "text": [
      "Percent of successful episode: 0.031%\n"
     ]
    },
    {
     "data": {
      "image/png": "[encoded data removed]",
      "text/plain": [
       "<Figure size 432x288 with 1 Axes>"
      ]
     },
     "metadata": {
      "needs_background": "light"
     },
     "output_type": "display_data"
    }
   ],
   "source": [
    "print(\"Percent of successful episode: \"+str(sum(rList)/num_episodes)+\"%\")\n",
    "plt.bar(range(len(rList)), rList, color='blue')\n",
    "plt.show()"
   ]
  },
  {
   "cell_type": "code",
   "execution_count": null,
   "metadata": {},
   "outputs": [],
   "source": []
  }
 ],
 "metadata": {
  "kernelspec": {
   "display_name": "keras",
   "language": "python",
   "name": "keras"
  },
  "language_info": {
   "codemirror_mode": {
    "name": "ipython",
    "version": 3
   },
   "file_extension": ".py",
   "mimetype": "text/x-python",
   "name": "python",
   "nbconvert_exporter": "python",
   "pygments_lexer": "ipython3",
   "version": "3.8.8"
  }
 },
 "nbformat": 4,
 "nbformat_minor": 4
}
