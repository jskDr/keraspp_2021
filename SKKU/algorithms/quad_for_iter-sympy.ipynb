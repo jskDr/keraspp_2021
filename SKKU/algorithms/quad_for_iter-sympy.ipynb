{
 "cells": [
  {
   "cell_type": "code",
   "execution_count": 29,
   "id": "fd137312-fea8-41af-844a-8a00c7d3ba89",
   "metadata": {},
   "outputs": [
    {
     "data": {
      "text/latex": [
       "$\\displaystyle j$"
      ],
      "text/plain": [
       "j"
      ]
     },
     "metadata": {},
     "output_type": "display_data"
    },
    {
     "data": {
      "text/latex": [
       "$\\displaystyle \\frac{i^{2}}{2} + \\frac{i}{2}$"
      ],
      "text/plain": [
       "i**2/2 + i/2"
      ]
     },
     "metadata": {},
     "output_type": "display_data"
    },
    {
     "data": {
      "text/latex": [
       "$\\displaystyle \\frac{n^{3}}{6} + \\frac{n^{2}}{2} + \\frac{n}{3}$"
      ],
      "text/plain": [
       "n**3/6 + n**2/2 + n/3"
      ]
     },
     "metadata": {},
     "output_type": "display_data"
    },
    {
     "data": {
      "text/latex": [
       "$\\displaystyle \\frac{n^{3}}{6} + \\frac{n^{2}}{2} + \\frac{n}{3}$"
      ],
      "text/plain": [
       "n**3/6 + n**2/2 + n/3"
      ]
     },
     "metadata": {},
     "output_type": "display_data"
    }
   ],
   "source": [
    "from IPython.display import display\n",
    "from sympy.abc import i, j, k, n\n",
    "from sympy import Sum\n",
    "\n",
    "S_k = Sum(1, (k, 1, j))\n",
    "S_j = Sum(S_k, (j, 1, i))\n",
    "S_i = Sum(S_j, (i, 1, n))\n",
    "S = Sum(Sum(Sum(1, (k, 1, j)),(j, 1, i)), (i, 1, n)).doit()\n",
    "\n",
    "display(S_k.doit()), display(S_j.doit()), display(S_i.doit())\n",
    "display(S)"
   ]
  },
  {
   "cell_type": "code",
   "execution_count": 32,
   "id": "3cffaeb2-3e74-4660-8dba-5b0472f1ac2d",
   "metadata": {},
   "outputs": [
    {
     "data": {
      "text/latex": [
       "$\\displaystyle \\frac{n^{3}}{3} + \\frac{n^{2}}{2} + \\frac{n}{6}$"
      ],
      "text/plain": [
       "n**3/3 + n**2/2 + n/6"
      ]
     },
     "execution_count": 32,
     "metadata": {},
     "output_type": "execute_result"
    }
   ],
   "source": [
    "Sum(i**2, (i,1,n)).doit()"
   ]
  },
  {
   "cell_type": "code",
   "execution_count": null,
   "id": "b0eee8b9-5f8c-450c-a2e3-2b8d4748af9c",
   "metadata": {},
   "outputs": [],
   "source": []
  }
 ],
 "metadata": {
  "kernelspec": {
   "display_name": "jax",
   "language": "python",
   "name": "jax"
  },
  "language_info": {
   "codemirror_mode": {
    "name": "ipython",
    "version": 3
   },
   "file_extension": ".py",
   "mimetype": "text/x-python",
   "name": "python",
   "nbconvert_exporter": "python",
   "pygments_lexer": "ipython3",
   "version": "3.9.7"
  }
 },
 "nbformat": 4,
 "nbformat_minor": 5
}
