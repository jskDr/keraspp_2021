{
 "cells": [
  {
   "cell_type": "code",
   "execution_count": 4,
   "id": "07549595-c577-4001-9af8-0ca938ed146e",
   "metadata": {},
   "outputs": [],
   "source": [
    "using Symbolics"
   ]
  },
  {
   "cell_type": "code",
   "execution_count": 5,
   "id": "1ff47c91-8a5b-4a0f-80ba-dd8a5b5c7eed",
   "metadata": {},
   "outputs": [
    {
     "data": {
      "text/latex": [
       "\\begin{equation}\n",
       "\\left[\n",
       "\\begin{array}{c}\n",
       "n \\\\\n",
       "\\end{array}\n",
       "\\right]\n",
       "\\end{equation}\n"
      ],
      "text/plain": [
       "1-element Vector{Num}:\n",
       " n"
      ]
     },
     "execution_count": 5,
     "metadata": {},
     "output_type": "execute_result"
    }
   ],
   "source": [
    "@variables n"
   ]
  },
  {
   "cell_type": "code",
   "execution_count": null,
   "id": "9440eb24-6c1b-4dd0-a5b1-bd1525df6bca",
   "metadata": {},
   "outputs": [],
   "source": [
    "Symbolics."
   ]
  },
  {
   "cell_type": "code",
   "execution_count": 7,
   "id": "91e8a733-5247-4b65-a230-018a2719271d",
   "metadata": {},
   "outputs": [
    {
     "data": {
      "text/plain": [
       "quad_for_iter (generic function with 2 methods)"
      ]
     },
     "execution_count": 7,
     "metadata": {},
     "output_type": "execute_result"
    }
   ],
   "source": [
    "function quad_for_iter() \n",
    "    @variables n s\n",
    "    for i=1:n\n",
    "        s\n",
    "    end\n",
    "    n\n",
    "end"
   ]
  },
  {
   "cell_type": "code",
   "execution_count": 8,
   "id": "d588addc-8c0c-4e9d-935f-bc8bb6335c1b",
   "metadata": {},
   "outputs": [
    {
     "data": {
      "text/latex": [
       "\\begin{equation}\n",
       "n\n",
       "\\end{equation}\n"
      ],
      "text/plain": [
       "n"
      ]
     },
     "execution_count": 8,
     "metadata": {},
     "output_type": "execute_result"
    }
   ],
   "source": [
    "quad_for_iter()"
   ]
  },
  {
   "cell_type": "code",
   "execution_count": null,
   "id": "915d332d-c2cf-4e4e-85be-168bfcb91289",
   "metadata": {},
   "outputs": [],
   "source": [
    "        sum:int = 0\n",
    "n:int = 10\n",
    "    \n",
    "for i in range(0,n): \n",
    "    for j in range(0,i):  \n",
    "        for k in range(0,j):\n",
    "                sum += 1"
   ]
  },
  {
   "cell_type": "code",
   "execution_count": 9,
   "id": "51849254-bcd7-416a-b012-37f614dba0ef",
   "metadata": {},
   "outputs": [
    {
     "ename": "LoadError",
     "evalue": "MethodError: objects of type Int64 are not callable\nMaybe you forgot to use an operator such as \u001b[36m*, ^, %, / etc. \u001b[39m?",
     "output_type": "error",
     "traceback": [
      "MethodError: objects of type Int64 are not callable\nMaybe you forgot to use an operator such as \u001b[36m*, ^, %, / etc. \u001b[39m?",
      "",
      "Stacktrace:",
      " [1] mapreduce_first(f::Int64, op::Function, x::Num)",
      "   @ Base ./reduce.jl:394",
      " [2] mapreduce(f::Int64, op::Function, a::Num)",
      "   @ Base ./reduce.jl:421",
      " [3] sum(f::Int64, a::Num; kw::Base.Pairs{Symbol, Union{}, Tuple{}, NamedTuple{(), Tuple{}}})",
      "   @ Base ./reduce.jl:503",
      " [4] sum(f::Int64, a::Num)",
      "   @ Base ./reduce.jl:503",
      " [5] top-level scope",
      "   @ In[9]:1",
      " [6] eval",
      "   @ ./boot.jl:373 [inlined]",
      " [7] include_string(mapexpr::typeof(REPL.softscope), mod::Module, code::String, filename::String)",
      "   @ Base ./loading.jl:1196"
     ]
    }
   ],
   "source": [
    "sum(1,n)"
   ]
  },
  {
   "cell_type": "code",
   "execution_count": null,
   "id": "fc56241b-4720-4c77-aa54-5b207b432b29",
   "metadata": {},
   "outputs": [],
   "source": []
  }
 ],
 "metadata": {
  "kernelspec": {
   "display_name": "Julia 1.7.0",
   "language": "julia",
   "name": "julia-1.7"
  },
  "language_info": {
   "file_extension": ".jl",
   "mimetype": "application/julia",
   "name": "julia",
   "version": "1.7.0"
  }
 },
 "nbformat": 4,
 "nbformat_minor": 5
}
