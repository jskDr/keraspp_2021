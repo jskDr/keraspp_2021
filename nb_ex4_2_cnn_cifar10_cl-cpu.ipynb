{
 "cells": [
  {
   "cell_type": "markdown",
   "metadata": {},
   "source": [
    "## 4.3 컬러 이미지를 분류하는 CNN 구현\n",
    "CNN을 이용해 사진을 분류하는 방법을 다룹니다.\n",
    "\n",
    "### 4.3.1 분류 CNN 패키지 임포트"
   ]
  },
  {
   "cell_type": "code",
   "execution_count": 1,
   "metadata": {},
   "outputs": [],
   "source": [
    "# set to use CPU\n",
    "import os\n",
    "os.environ['CUDA_VISIBLE_DEVICES'] = '-1'"
   ]
  },
  {
   "cell_type": "markdown",
   "metadata": {},
   "source": [
    "1. 필요한 패키지들을 임포트합니다."
   ]
  },
  {
   "cell_type": "code",
   "execution_count": 2,
   "metadata": {},
   "outputs": [],
   "source": [
    "# 1. 분류 CNN 패키지 임포트 \n",
    "from sklearn import model_selection, metrics\n",
    "from sklearn.preprocessing import MinMaxScaler"
   ]
  },
  {
   "cell_type": "markdown",
   "metadata": {},
   "source": [
    "- 유용한 기능을 제공하는 다른 파이썬 패키지도 임포트합니다."
   ]
  },
  {
   "cell_type": "code",
   "execution_count": 2,
   "metadata": {},
   "outputs": [],
   "source": [
    "import numpy as np\n",
    "import matplotlib.pyplot as plt\n",
    "import os"
   ]
  },
  {
   "cell_type": "markdown",
   "metadata": {},
   "source": [
    "- 케라스 모델링을 위한 서브패키지들을 불러옵니다."
   ]
  },
  {
   "cell_type": "code",
   "execution_count": 2,
   "metadata": {},
   "outputs": [],
   "source": [
    "from keras import backend as K\n",
    "from keras.utils import np_utils\n",
    "from keras.models import Model\n",
    "from keras.layers import Input, Conv2D, MaxPooling2D, Flatten, Dense, Dropout"
   ]
  },
  {
   "cell_type": "markdown",
   "metadata": {},
   "source": [
    "- 케라스를 편리하게 사용하기 위해 여기서 만든 2가지 모듈을 불러옵니다."
   ]
  },
  {
   "cell_type": "code",
   "execution_count": 2,
   "metadata": {},
   "outputs": [],
   "source": [
    "from keraspp import skeras\n",
    "from keraspp import sfile"
   ]
  },
  {
   "cell_type": "markdown",
   "metadata": {},
   "source": [
    "2. 분류 CNN 모델링을 만듭니다."
   ]
  },
  {
   "cell_type": "code",
   "execution_count": 2,
   "metadata": {},
   "outputs": [],
   "source": [
    "# 2. 분류 CNN 모델링\n",
    "class CNN(Model):\n",
    "    def __init__(self, nb_classes): \n",
    "        super(CNN,self).__init__() \n",
    "        self.nb_classes = nb_classes\n",
    "        \n",
    "        self.conv2D_A = Conv2D(32, kernel_size=(3, 3), activation='relu')\n",
    "        self.conv2D_B = Conv2D(64, (3, 3), activation='relu')\n",
    "        self.maxPooling2D_A = MaxPooling2D(pool_size=(2, 2))\n",
    "        self.dropout_A = Dropout(0.25)\n",
    "        self.flatten = Flatten()\n",
    "        \n",
    "        self.dense_A = Dense(128, activation='relu')\n",
    "        self.dropout_B = Dropout(0.5)\n",
    "        self.dense_B = Dense(nb_classes, activation='softmax', name='preds')\n",
    "        \n",
    "    def call(self, x):\n",
    "        h = self.conv2D_A(x)\n",
    "        h = self.conv2D_B(h)\n",
    "        h = self.maxPooling2D_A(h)\n",
    "        h = self.dropout_A(h)\n",
    "        h = self.flatten(h)\n",
    "\n",
    "        h = self.dense_A(h)\n",
    "        h = self.dropout_B(h)\n",
    "\n",
    "        y = self.dense_B(h)\n",
    "        \n",
    "        return y"
   ]
  },
  {
   "cell_type": "code",
   "execution_count": 4,
   "metadata": {},
   "outputs": [],
   "source": [
    "nb_classes = 10\n",
    "model = CNN(nb_classes=nb_classes)\n",
    "model.compile(loss='categorical_crossentropy',\n",
    "                      optimizer='adadelta', metrics=['accuracy'])"
   ]
  },
  {
   "cell_type": "markdown",
   "metadata": {},
   "source": [
    "3. 주어진 데이터를 해당 머신러닝에 사용하기 적합하도록 조정하는 기능을 하는 DataSet 클래스를 만듭니다."
   ]
  },
  {
   "cell_type": "code",
   "execution_count": 4,
   "metadata": {},
   "outputs": [],
   "source": [
    "# 3. 분류 CNN을 위한 데이터 준비\n",
    "class DataSet:\n",
    "    def __init__(self, X, y, nb_classes, scaling=True, \n",
    "                 test_size=0.2, random_state=0):\n",
    "        \"\"\"\n",
    "        X is originally vector. Hence, it will be transformed\n",
    "        to 2D images with a channel (i.e, 3D).\n",
    "        \"\"\"\n",
    "        self.X = X\n",
    "        self.add_channels()\n",
    "\n",
    "        X = self.X\n",
    "        # the data, shuffled and split between train and test sets\n",
    "        X_train, X_test, y_train, y_test = model_selection.train_test_split(\n",
    "            X, y, test_size=0.2, random_state=random_state)\n",
    "\n",
    "        print(X_train.shape, y_train.shape)\n",
    "\n",
    "        X_train = X_train.astype('float32')\n",
    "        X_test = X_test.astype('float32')\n",
    "\n",
    "        if scaling:\n",
    "            # scaling to have (0, 1) for each feature (each pixel)\n",
    "            scaler = MinMaxScaler()\n",
    "            n = X_train.shape[0]\n",
    "            X_train = scaler.fit_transform(\n",
    "                X_train.reshape(n, -1)).reshape(X_train.shape)\n",
    "            n = X_test.shape[0]\n",
    "            X_test = scaler.transform(\n",
    "                X_test.reshape(n, -1)).reshape(X_test.shape)\n",
    "            self.scaler = scaler\n",
    "\n",
    "        print('X_train shape:', X_train.shape)\n",
    "        print(X_train.shape[0], 'train samples')\n",
    "        print(X_test.shape[0], 'test samples')\n",
    "\n",
    "        # convert class vectors to binary class matrices\n",
    "        Y_train = np_utils.to_categorical(y_train, nb_classes)\n",
    "        Y_test = np_utils.to_categorical(y_test, nb_classes)\n",
    "\n",
    "        self.X_train, self.X_test = X_train, X_test\n",
    "        self.Y_train, self.Y_test = Y_train, Y_test\n",
    "        self.y_train, self.y_test = y_train, y_test\n",
    "        # self.input_shape = input_shape\n",
    "\n",
    "    def add_channels(self):\n",
    "        X = self.X\n",
    "\n",
    "        if len(X.shape) == 3:\n",
    "            N, img_rows, img_cols = X.shape\n",
    "\n",
    "            if K.image_dim_ordering() == 'th':\n",
    "                X = X.reshape(X.shape[0], 1, img_rows, img_cols)\n",
    "                input_shape = (1, img_rows, img_cols)\n",
    "            else:\n",
    "                X = X.reshape(X.shape[0], img_rows, img_cols, 1)\n",
    "                input_shape = (img_rows, img_cols, 1)\n",
    "        else:\n",
    "            input_shape = X.shape[1:]  # channel is already included.\n",
    "\n",
    "        self.X = X\n",
    "        self.input_shape = input_shape"
   ]
  },
  {
   "cell_type": "code",
   "execution_count": 5,
   "metadata": {},
   "outputs": [
    {
     "name": "stdout",
     "output_type": "stream",
     "text": [
      "(40000, 32, 32, 3) (40000, 1)\n",
      "X_train shape: (40000, 32, 32, 3)\n",
      "40000 train samples\n",
      "10000 test samples\n",
      "data.input_shape (32, 32, 3)\n"
     ]
    }
   ],
   "source": [
    "from keras import datasets\n",
    "(X, y), (x_test, y_test) = datasets.cifar10.load_data()\n",
    "nb_classes = 10\n",
    "data = DataSet(X, y, nb_classes)\n",
    "print('data.input_shape', data.input_shape)"
   ]
  },
  {
   "cell_type": "code",
   "execution_count": 6,
   "metadata": {},
   "outputs": [
    {
     "name": "stdout",
     "output_type": "stream",
     "text": [
      "Epoch 1/2\n",
      "313/313 [==============================] - 47s 150ms/step - loss: 2.3076 - accuracy: 0.1087 - val_loss: 2.2870 - val_accuracy: 0.1377\n",
      "Epoch 2/2\n",
      "313/313 [==============================] - 49s 158ms/step - loss: 2.2918 - accuracy: 0.1227 - val_loss: 2.2746 - val_accuracy: 0.1754\n"
     ]
    }
   ],
   "source": [
    "epochs=2\n",
    "batch_size=128\n",
    "verbose=1\n",
    "history = model.fit(data.X_train, data.Y_train, \n",
    "                    batch_size=batch_size, epochs=epochs,\n",
    "                    verbose=verbose, \n",
    "                    validation_data=(data.X_test, data.Y_test))"
   ]
  },
  {
   "cell_type": "code",
   "execution_count": 7,
   "metadata": {},
   "outputs": [],
   "source": [
    "# 4. 분류 CNN의 학습 및 성능 평가를 위한 머신 클래스\n",
    "class Machine():\n",
    "    def __init__(self, X, y, nb_classes=2, fig=True):\n",
    "        self.nb_classes = nb_classes\n",
    "        self.set_data(X, y)\n",
    "        self.set_model()\n",
    "        self.fig = fig\n",
    "\n",
    "    def set_data(self, X, y):\n",
    "        nb_classes = self.nb_classes\n",
    "        self.data = DataSet(X, y, nb_classes)\n",
    "        print('data.input_shape', self.data.input_shape)\n",
    "\n",
    "    def set_model(self):\n",
    "        nb_classes = self.nb_classes\n",
    "        data = self.data\n",
    "        self.model = CNN(nb_classes=nb_classes)\n",
    "        self.model.compile(loss='categorical_crossentropy',\n",
    "                      optimizer='adadelta', metrics=['accuracy'])        \n",
    "\n",
    "    def fit(self, epochs=10, batch_size=128, verbose=1):\n",
    "        data = self.data\n",
    "        model = self.model\n",
    "\n",
    "        history = model.fit(data.X_train, data.Y_train, \n",
    "                            batch_size=batch_size, epochs=epochs,\n",
    "                            verbose=verbose, \n",
    "                            validation_data=(data.X_test, data.Y_test))\n",
    "        return history\n",
    "\n",
    "    def run(self, epochs=100, batch_size=128, verbose=1):\n",
    "        data = self.data\n",
    "        model = self.model\n",
    "        fig = self.fig\n",
    "\n",
    "        history = self.fit(epochs=epochs,\n",
    "                           batch_size=batch_size, verbose=verbose)\n",
    "\n",
    "        score = model.evaluate(data.X_test, data.Y_test, verbose=0)\n",
    "\n",
    "        print('Confusion matrix')\n",
    "        Y_test_pred = model.predict(data.X_test, verbose=0)\n",
    "        y_test_pred = np.argmax(Y_test_pred, axis=1)\n",
    "        print(metrics.confusion_matrix(data.y_test, y_test_pred))\n",
    "\n",
    "        print('Test score:', score[0])\n",
    "        print('Test accuracy:', score[1])\n",
    "\n",
    "        # Save results\n",
    "        suffix = sfile.unique_filename('datatime')\n",
    "        foldname = 'output_' + suffix\n",
    "        os.makedirs(foldname)\n",
    "        skeras.save_history_history(\n",
    "            'history_history.npy', history.history, fold=foldname)\n",
    "        model.save_weights(os.path.join(foldname, 'dl_model.h5'))\n",
    "        print('Output results are saved in', foldname)\n",
    "\n",
    "        if fig:\n",
    "            plt.figure(figsize=(12, 4))\n",
    "            plt.subplot(1, 2, 1)\n",
    "            skeras.plot_acc(history)\n",
    "            plt.subplot(1, 2, 2)\n",
    "            skeras.plot_loss(history)\n",
    "            plt.show()\n",
    "\n",
    "        self.history = history\n",
    "\n",
    "        return foldname"
   ]
  },
  {
   "cell_type": "code",
   "execution_count": 8,
   "metadata": {},
   "outputs": [
    {
     "name": "stdout",
     "output_type": "stream",
     "text": [
      "(40000, 32, 32, 3) (40000, 1)\n",
      "X_train shape: (40000, 32, 32, 3)\n",
      "40000 train samples\n",
      "10000 test samples\n",
      "data.input_shape (32, 32, 3)\n",
      "Epoch 1/2\n",
      "313/313 [==============================] - 52s 166ms/step - loss: 2.3061 - accuracy: 0.1077 - val_loss: 2.2932 - val_accuracy: 0.1228\n",
      "Epoch 2/2\n",
      "313/313 [==============================] - 52s 165ms/step - loss: 2.2940 - accuracy: 0.1210 - val_loss: 2.2824 - val_accuracy: 0.1664\n",
      "Confusion matrix\n",
      "[[409  20   3   3   5   4   7  24 372 157]\n",
      " [236  66  10  17   8   7  14  72 291 265]\n",
      " [254  35  11  11  51  12  36 130 301 175]\n",
      " [221  48  13  35  25  13  51 169 275 180]\n",
      " [155  44   7  20  62  10  69 159 236 205]\n",
      " [256  37   6  43  18  11  44 171 251 179]\n",
      " [142  84   4  30  58  16  85 171 165 198]\n",
      " [216  33   9  15  31   7  30 197 190 271]\n",
      " [350  10   4   3   1   2   3  22 391 203]\n",
      " [325  24   1   2   2   1   9  61 218 397]]\n",
      "Test score: 2.2823703289031982\n",
      "Test accuracy: 0.1664000004529953\n",
      "Output results are saved in output_618b5cf3-88c4-47cc-b9c2-efd4eabf195c\n"
     ]
    },
    {
     "data": {
      "image/png": "[encoded data removed]",
      "text/plain": [
       "<Figure size 864x288 with 2 Axes>"
      ]
     },
     "metadata": {
      "needs_background": "light"
     },
     "output_type": "display_data"
    }
   ],
   "source": [
    "# 5. 분류 CNN의 학습 및 성능 평가 수행\n",
    "from keras import datasets\n",
    "import keras\n",
    "assert keras.backend.image_data_format() == 'channels_last'\n",
    "\n",
    "# from keraspp import aicnn\n",
    "class MyMachine(Machine):\n",
    "    def __init__(self):\n",
    "        (X, y), (x_test, y_test) = datasets.cifar10.load_data()\n",
    "        super(MyMachine,self).__init__(X, y, nb_classes=10)\n",
    "\n",
    "def main():\n",
    "    m = MyMachine()\n",
    "    m.run(epochs=2)\n",
    "\n",
    "main()"
   ]
  },
  {
   "cell_type": "markdown",
   "metadata": {},
   "source": [
    "---\n",
    "### 전체 코드"
   ]
  },
  {
   "cell_type": "code",
   "execution_count": 1,
   "metadata": {},
   "outputs": [
    {
     "name": "stdout",
     "output_type": "stream",
     "text": [
      "(40000, 32, 32, 3) (40000, 1)\n",
      "X_train shape: (40000, 32, 32, 3)\n",
      "40000 train samples\n",
      "10000 test samples\n",
      "data.input_shape (32, 32, 3)\n"
     ]
    },
    {
     "name": "stderr",
     "output_type": "stream",
     "text": [
      "2021-10-01 20:46:47.053626: I tensorflow/stream_executor/platform/default/dso_loader.cc:44] Successfully opened dynamic library libcuda.so.1\n",
      "2021-10-01 20:46:47.256717: E tensorflow/stream_executor/cuda/cuda_driver.cc:313] failed call to cuInit: CUDA_ERROR_NO_DEVICE: no CUDA-capable device is detected\n",
      "2021-10-01 20:46:47.256803: I tensorflow/stream_executor/cuda/cuda_diagnostics.cc:156] kernel driver does not appear to be running on this host (SJKIM-Home): /proc/driver/nvidia/version does not exist\n",
      "2021-10-01 20:46:47.257909: I tensorflow/core/platform/cpu_feature_guard.cc:143] Your CPU supports instructions that this TensorFlow binary was not compiled to use: SSE4.1 SSE4.2 AVX AVX2 FMA\n",
      "2021-10-01 20:46:47.262309: I tensorflow/core/platform/profile_utils/cpu_utils.cc:102] CPU Frequency: 3599995000 Hz\n",
      "2021-10-01 20:46:47.262875: I tensorflow/compiler/xla/service/service.cc:168] XLA service 0x5557838d2a90 initialized for platform Host (this does not guarantee that XLA will be used). Devices:\n",
      "2021-10-01 20:46:47.262890: I tensorflow/compiler/xla/service/service.cc:176]   StreamExecutor device (0): Host, Default Version\n",
      "2021-10-01 20:46:47.269706: W tensorflow/core/framework/cpu_allocator_impl.cc:81] Allocation of 491520000 exceeds 10% of free system memory.\n"
     ]
    },
    {
     "name": "stdout",
     "output_type": "stream",
     "text": [
      "Epoch 1/2\n",
      "313/313 [==============================] - 51s 164ms/step - loss: 2.3208 - accuracy: 0.1059 - val_loss: 2.2972 - val_accuracy: 0.1145\n",
      "Epoch 2/2\n",
      "313/313 [==============================] - 58s 185ms/step - loss: 2.3036 - accuracy: 0.1119 - val_loss: 2.2864 - val_accuracy: 0.1287\n",
      "Confusion matrix\n",
      "[[175 164  18   0  20  10   1   4 607   5]\n",
      " [102 336   9   2  39  50   0   3 437   8]\n",
      " [213  83  35   1  66  25   2   1 586   4]\n",
      " [176 108  35   3 105  52   7  12 523   9]\n",
      " [161  73  18   1 119  37   3   1 553   1]\n",
      " [173  85  36   0  81  60   7  13 555   6]\n",
      " [120  62  29   0 103  40   5   0 593   1]\n",
      " [165 186  44   1 128  59   7   4 394  11]\n",
      " [150 246   2   2  24  22   0   1 538   4]\n",
      " [105 484  24   0  33   9   1   1 371  12]]\n",
      "Test score: 2.2864022254943848\n",
      "Test accuracy: 0.12870000302791595\n",
      "Output results are saved in output_fc26d62e-f9d1-4bd9-a2c2-ab8258e509d8\n"
     ]
    },
    {
     "data": {
      "image/png": "[encoded data removed]",
      "text/plain": [
       "<Figure size 864x288 with 2 Axes>"
      ]
     },
     "metadata": {
      "needs_background": "light"
     },
     "output_type": "display_data"
    }
   ],
   "source": [
    "# set to use CPU\n",
    "import os\n",
    "os.environ['CUDA_VISIBLE_DEVICES'] = '-1'\n",
    "\n",
    "# 1. 분류 CNN 패키지 임포트 \n",
    "from sklearn import model_selection, metrics\n",
    "from sklearn.preprocessing import MinMaxScaler\n",
    "import numpy as np\n",
    "import matplotlib.pyplot as plt\n",
    "import os\n",
    "\n",
    "from keras import backend as K\n",
    "from keras.utils import np_utils\n",
    "from keras.models import Model\n",
    "from keras.layers import Input, Conv2D, MaxPooling2D, Flatten, Dense, Dropout\n",
    "\n",
    "from keraspp import skeras\n",
    "from keraspp import sfile\n",
    "\n",
    "# 2. 분류 CNN 모델링\n",
    "class CNN(Model):\n",
    "    def __init__(self, nb_classes): #, in_shape=None):\n",
    "        super(CNN,self).__init__() # added 2021-10-01\n",
    "        self.nb_classes = nb_classes\n",
    "        #self.in_shape = in_shape\n",
    "        \n",
    "        self.conv2D_A = Conv2D(32, kernel_size=(3, 3), activation='relu')\n",
    "        self.conv2D_B = Conv2D(64, (3, 3), activation='relu')\n",
    "        self.maxPooling2D_A = MaxPooling2D(pool_size=(2, 2))\n",
    "        self.dropout_A = Dropout(0.25)\n",
    "        self.flatten = Flatten()\n",
    "        \n",
    "        self.dense_A = Dense(128, activation='relu')\n",
    "        self.dropout_B = Dropout(0.5)\n",
    "        self.dense_B = Dense(nb_classes, activation='softmax', name='preds')\n",
    "        \n",
    "    def call(self, x):\n",
    "        nb_classes = self.nb_classes\n",
    "        # in_shape = self.in_shape\n",
    "\n",
    "        #x = Input(in_shape)\n",
    "\n",
    "        h = self.conv2D_A(x)\n",
    "        h = self.conv2D_B(h)\n",
    "        h = self.maxPooling2D_A(h)\n",
    "        h = self.dropout_A(h)\n",
    "        h = self.flatten(h)\n",
    "\n",
    "        h = self.dense_A(h)\n",
    "        h = self.dropout_B(h)\n",
    "\n",
    "        y = self.dense_B(h)\n",
    "        \n",
    "        return y\n",
    "\n",
    "# 3. 분류 CNN을 위한 데이터 준비\n",
    "class DataSet:\n",
    "    def __init__(self, X, y, nb_classes, scaling=True, \n",
    "                 test_size=0.2, random_state=0):\n",
    "        \"\"\"\n",
    "        X is originally vector. Hence, it will be transformed\n",
    "        to 2D images with a channel (i.e, 3D).\n",
    "        \"\"\"\n",
    "        self.X = X\n",
    "        self.add_channels()\n",
    "\n",
    "        X = self.X\n",
    "        # the data, shuffled and split between train and test sets\n",
    "        X_train, X_test, y_train, y_test = model_selection.train_test_split(\n",
    "            X, y, test_size=0.2, random_state=random_state)\n",
    "\n",
    "        print(X_train.shape, y_train.shape)\n",
    "\n",
    "        X_train = X_train.astype('float32')\n",
    "        X_test = X_test.astype('float32')\n",
    "\n",
    "        if scaling:\n",
    "            # scaling to have (0, 1) for each feature (each pixel)\n",
    "            scaler = MinMaxScaler()\n",
    "            n = X_train.shape[0]\n",
    "            X_train = scaler.fit_transform(\n",
    "                X_train.reshape(n, -1)).reshape(X_train.shape)\n",
    "            n = X_test.shape[0]\n",
    "            X_test = scaler.transform(\n",
    "                X_test.reshape(n, -1)).reshape(X_test.shape)\n",
    "            self.scaler = scaler\n",
    "\n",
    "        print('X_train shape:', X_train.shape)\n",
    "        print(X_train.shape[0], 'train samples')\n",
    "        print(X_test.shape[0], 'test samples')\n",
    "\n",
    "        # convert class vectors to binary class matrices\n",
    "        Y_train = np_utils.to_categorical(y_train, nb_classes)\n",
    "        Y_test = np_utils.to_categorical(y_test, nb_classes)\n",
    "\n",
    "        self.X_train, self.X_test = X_train, X_test\n",
    "        self.Y_train, self.Y_test = Y_train, Y_test\n",
    "        self.y_train, self.y_test = y_train, y_test\n",
    "        # self.input_shape = input_shape\n",
    "\n",
    "    def add_channels(self):\n",
    "        X = self.X\n",
    "\n",
    "        if len(X.shape) == 3:\n",
    "            N, img_rows, img_cols = X.shape\n",
    "\n",
    "            if K.image_dim_ordering() == 'th':\n",
    "                X = X.reshape(X.shape[0], 1, img_rows, img_cols)\n",
    "                input_shape = (1, img_rows, img_cols)\n",
    "            else:\n",
    "                X = X.reshape(X.shape[0], img_rows, img_cols, 1)\n",
    "                input_shape = (img_rows, img_cols, 1)\n",
    "        else:\n",
    "            input_shape = X.shape[1:]  # channel is already included.\n",
    "\n",
    "        self.X = X\n",
    "        self.input_shape = input_shape    \n",
    "    \n",
    "# 4. 분류 CNN의 학습 및 성능 평가를 위한 머신 클래스\n",
    "class Machine():\n",
    "    def __init__(self, X, y, nb_classes=2, fig=True):\n",
    "        self.nb_classes = nb_classes\n",
    "        self.set_data(X, y)\n",
    "        self.set_model()\n",
    "        self.fig = fig\n",
    "\n",
    "    def set_data(self, X, y):\n",
    "        nb_classes = self.nb_classes\n",
    "        self.data = DataSet(X, y, nb_classes)\n",
    "        print('data.input_shape', self.data.input_shape)\n",
    "\n",
    "    def set_model(self):\n",
    "        nb_classes = self.nb_classes\n",
    "        data = self.data\n",
    "        self.model = CNN(nb_classes=nb_classes)\n",
    "        self.model.compile(loss='categorical_crossentropy',\n",
    "                      optimizer='adadelta', metrics=['accuracy'])        \n",
    "\n",
    "    def fit(self, epochs=10, batch_size=128, verbose=1):\n",
    "        data = self.data\n",
    "        model = self.model\n",
    "\n",
    "        history = model.fit(data.X_train, data.Y_train, \n",
    "                            batch_size=batch_size, epochs=epochs,\n",
    "                            verbose=verbose, \n",
    "                            validation_data=(data.X_test, data.Y_test))\n",
    "        return history\n",
    "\n",
    "    def run(self, epochs=100, batch_size=128, verbose=1):\n",
    "        data = self.data\n",
    "        model = self.model\n",
    "        fig = self.fig\n",
    "\n",
    "        history = self.fit(epochs=epochs,\n",
    "                           batch_size=batch_size, verbose=verbose)\n",
    "\n",
    "        score = model.evaluate(data.X_test, data.Y_test, verbose=0)\n",
    "\n",
    "        print('Confusion matrix')\n",
    "        Y_test_pred = model.predict(data.X_test, verbose=0)\n",
    "        y_test_pred = np.argmax(Y_test_pred, axis=1)\n",
    "        print(metrics.confusion_matrix(data.y_test, y_test_pred))\n",
    "\n",
    "        print('Test score:', score[0])\n",
    "        print('Test accuracy:', score[1])\n",
    "\n",
    "        # Save results\n",
    "        suffix = sfile.unique_filename('datatime')\n",
    "        foldname = 'output_' + suffix\n",
    "        os.makedirs(foldname)\n",
    "        skeras.save_history_history(\n",
    "            'history_history.npy', history.history, fold=foldname)\n",
    "        model.save_weights(os.path.join(foldname, 'dl_model.h5'))\n",
    "        print('Output results are saved in', foldname)\n",
    "\n",
    "        if fig:\n",
    "            plt.figure(figsize=(12, 4))\n",
    "            plt.subplot(1, 2, 1)\n",
    "            skeras.plot_acc(history)\n",
    "            plt.subplot(1, 2, 2)\n",
    "            skeras.plot_loss(history)\n",
    "            plt.show()\n",
    "\n",
    "        self.history = history\n",
    "\n",
    "        return foldname\n",
    "\n",
    "# 5. 분류 CNN의 학습 및 성능 평가 수행\n",
    "from keras import datasets\n",
    "import keras\n",
    "assert keras.backend.image_data_format() == 'channels_last'\n",
    "\n",
    "# from keraspp import aicnn\n",
    "class MyMachine(Machine):\n",
    "    def __init__(self):\n",
    "        (X, y), (x_test, y_test) = datasets.cifar10.load_data()\n",
    "        super(MyMachine,self).__init__(X, y, nb_classes=10)\n",
    "\n",
    "def main():\n",
    "    m = MyMachine()\n",
    "    m.run(epochs=2)\n",
    "\n",
    "main()"
   ]
  },
  {
   "cell_type": "code",
   "execution_count": null,
   "metadata": {},
   "outputs": [],
   "source": []
  }
 ],
 "metadata": {
  "kernelspec": {
   "display_name": "keras-gpu",
   "language": "python",
   "name": "keras-gpu"
  },
  "language_info": {
   "codemirror_mode": {
    "name": "ipython",
    "version": 3
   },
   "file_extension": ".py",
   "mimetype": "text/x-python",
   "name": "python",
   "nbconvert_exporter": "python",
   "pygments_lexer": "ipython3",
   "version": "3.8.5"
  },
  "toc": {
   "nav_menu": {},
   "number_sections": true,
   "sideBar": true,
   "skip_h1_title": true,
   "toc_cell": false,
   "toc_position": {},
   "toc_section_display": "block",
   "toc_window_display": false
  }
 },
 "nbformat": 4,
 "nbformat_minor": 4
}
