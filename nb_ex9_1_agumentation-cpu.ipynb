{
 "cells": [
  {
   "cell_type": "markdown",
   "metadata": {},
   "source": [
    "## 9장. 케라스2 응용\n",
    "실제 문제에 인공지능을 활용할 때 생기는 문제들을 효율적으로 처리하는 케라스의 응용 기능을 알아봅시다.\n",
    "\n",
    "### 9.1 이미지 데이터 수 늘리기   \n",
    "이미지 데이터 수가 적을 때는 케라스의 서브패키지 ImageDataGenerator를 이용하면 다양한 형태로 이미지 수를 늘릴 수 있습니다. "
   ]
  },
  {
   "cell_type": "code",
   "execution_count": 1,
   "metadata": {},
   "outputs": [],
   "source": [
    "# set to use CPU\n",
    "import os\n",
    "os.environ['CUDA_VISIBLE_DEVICES'] = '-1'"
   ]
  },
  {
   "cell_type": "markdown",
   "metadata": {},
   "source": [
    "### 9.1.1 응용 코드\n",
    "#### 9.1.1.1 응용 코드를 위한 패키지 임포트"
   ]
  },
  {
   "cell_type": "code",
   "execution_count": 2,
   "metadata": {},
   "outputs": [],
   "source": [
    "#from keras import datasets\n",
    "#import keras\n",
    "#from keraspp import aigen\n",
    "from sklearn import model_selection\n",
    "from tensorflow.keras import datasets\n",
    "from tensorflow import keras\n",
    "assert keras.backend.image_data_format() == 'channels_last'\n",
    "from keraspp import aigen"
   ]
  },
  {
   "cell_type": "markdown",
   "metadata": {},
   "source": [
    "#### 9.1.1.2 머쉰 클래스 상속하여 데이터 지정"
   ]
  },
  {
   "cell_type": "code",
   "execution_count": 10,
   "metadata": {},
   "outputs": [],
   "source": [
    "\"\"\"\n",
    "Generator code for the image data augmentation\n",
    "- MIT Licence\n",
    "- Author: Sungjin Kim\n",
    "\"\"\"\n",
    "from keras.preprocessing.image import ImageDataGenerator\n",
    "from keraspp import aicnn\n",
    "\n",
    "class Machine_Generator(aicnn.Machine):\n",
    "    def __init__(self, X, y, nb_classes=2, steps_per_epoch=10, fig=True,\n",
    "                 gen_param_dict=None):\n",
    "        super().__init__(X, y, nb_classes=nb_classes, fig=fig)\n",
    "        self.set_generator(steps_per_epoch=steps_per_epoch,\n",
    "                           gen_param_dict=gen_param_dict)\n",
    "\n",
    "    def set_generator(self, steps_per_epoch=10, gen_param_dict=None):\n",
    "        if gen_param_dict is not None:\n",
    "            self.generator = ImageDataGenerator(**gen_param_dict)\n",
    "        else:\n",
    "            self.generator = ImageDataGenerator()\n",
    "\n",
    "        print(self.data.X_train.shape)\n",
    "\n",
    "        self.generator.fit(self.data.X_train, seed=0)\n",
    "        self.steps_per_epoch = steps_per_epoch\n",
    "\n",
    "    def fit(self, epochs=10, batch_size=64, verbose=1):\n",
    "        model = self.model\n",
    "        data = self.data\n",
    "        generator = self.generator\n",
    "        steps_per_epoch = self.steps_per_epoch\n",
    "\n",
    "        #history = model.fit_generator(\n",
    "        history = model.fit(\n",
    "            generator.flow(data.X_train, data.Y_train, batch_size=batch_size),\n",
    "            epochs=epochs, steps_per_epoch=steps_per_epoch,\n",
    "            validation_data=(data.X_test, data.Y_test))\n",
    "\n",
    "        return history"
   ]
  },
  {
   "cell_type": "code",
   "execution_count": 11,
   "metadata": {},
   "outputs": [],
   "source": [
    "class Machine(Machine_Generator):\n",
    "    def __init__(self):\n",
    "        (x_train, y_train), (x_test, y_test) = datasets.cifar10.load_data()\n",
    "        _, X, _, y = model_selection.train_test_split(x_train, y_train, test_size=0.02)\n",
    "        X = X.astype(float)\n",
    "\n",
    "        gen_param_dict = {'rotation_range': 10}\n",
    "\n",
    "        super().__init__(X, y, nb_classes=10, gen_param_dict=gen_param_dict)"
   ]
  },
  {
   "cell_type": "code",
   "execution_count": 12,
   "metadata": {},
   "outputs": [
    {
     "name": "stdout",
     "output_type": "stream",
     "text": [
      "(800, 32, 32, 3) (800, 1)\n",
      "X_train shape: (800, 32, 32, 3)\n",
      "800 train samples\n",
      "200 test samples\n",
      "data.input_shape (32, 32, 3)\n",
      "(800, 32, 32, 3)\n",
      "Epoch 1/100\n",
      " 7/10 [====================>.........] - ETA: 0s - loss: 2.3209 - accuracy: 0.1060WARNING:tensorflow:Your input ran out of data; interrupting training. Make sure that your dataset or generator can generate at least `steps_per_epoch * epochs` batches (in this case, 1000 batches). You may need to use the repeat() function when building your dataset.\n",
      "10/10 [==============================] - 2s 113ms/step - loss: 2.3213 - accuracy: 0.1042 - val_loss: 2.3101 - val_accuracy: 0.0850\n",
      "Confusion matrix\n",
      "[[ 0  0  0  0  0 17  0  0  2  0]\n",
      " [ 0  0  0  0  0 17  0  0  4  0]\n",
      " [ 0  0  0  0  0 10  0  0  3  0]\n",
      " [ 0  0  0  0  0 18  0  0  5  0]\n",
      " [ 0  0  0  0  0 19  0  0  7  0]\n",
      " [ 0  0  0  0  0 15  0  0  7  0]\n",
      " [ 0  0  0  0  0 21  0  0  4  0]\n",
      " [ 0  0  0  0  0  9  1  0  3  0]\n",
      " [ 0  0  0  0  0 20  0  0  2  0]\n",
      " [ 0  0  0  0  0 14  0  0  2  0]]\n",
      "Test score: 2.310065269470215\n",
      "Test accuracy: 0.08500000089406967\n",
      "Output results are saved in output_32888175-9d70-4986-a9fe-561fdc1c0491\n"
     ]
    },
    {
     "data": {
      "image/png": "[encoded data removed]",
      "text/plain": [
       "<Figure size 864x288 with 2 Axes>"
      ]
     },
     "metadata": {
      "needs_background": "light"
     },
     "output_type": "display_data"
    },
    {
     "data": {
      "text/plain": [
       "'output_32888175-9d70-4986-a9fe-561fdc1c0491'"
      ]
     },
     "execution_count": 12,
     "metadata": {},
     "output_type": "execute_result"
    }
   ],
   "source": [
    "m = Machine()\n",
    "m.run()"
   ]
  },
  {
   "cell_type": "markdown",
   "metadata": {},
   "source": [
    "---\n",
    "### 8.2.6 전체 코드"
   ]
  },
  {
   "cell_type": "code",
   "execution_count": 5,
   "metadata": {},
   "outputs": [
    {
     "name": "stdout",
     "output_type": "stream",
     "text": [
      "(800, 32, 32, 3) (800, 1)\n",
      "X_train shape: (800, 32, 32, 3)\n",
      "800 train samples\n",
      "200 test samples\n",
      "data.input_shape (32, 32, 3)\n",
      "(800, 32, 32, 3)\n"
     ]
    },
    {
     "name": "stderr",
     "output_type": "stream",
     "text": [
      "/Users/james/anaconda3/envs/keras2/lib/python3.9/site-packages/tensorflow/python/keras/engine/training.py:1844: UserWarning: `Model.fit_generator` is deprecated and will be removed in a future version. Please use `Model.fit`, which supports generators.\n",
      "  warnings.warn('`Model.fit_generator` is deprecated and '\n"
     ]
    },
    {
     "name": "stdout",
     "output_type": "stream",
     "text": [
      "Epoch 1/100\n",
      " 7/10 [====================>.........] - ETA: 0s - loss: 2.3312 - accuracy: 0.0687WARNING:tensorflow:Your input ran out of data; interrupting training. Make sure that your dataset or generator can generate at least `steps_per_epoch * epochs` batches (in this case, 1000 batches). You may need to use the repeat() function when building your dataset.\n",
      "10/10 [==============================] - 2s 116ms/step - loss: 2.3287 - accuracy: 0.0717 - val_loss: 2.3000 - val_accuracy: 0.1050\n",
      "Confusion matrix\n",
      "[[ 0  0  0  0  3  0  0  0 10  6]\n",
      " [ 1  1  0  0  5  2  2  0  8  2]\n",
      " [ 0  0  0  0  3  2  1  0  4  3]\n",
      " [ 0  0  0  0  4  0  1  0  8 10]\n",
      " [ 0  0  0  0  3  1  0  0  4 18]\n",
      " [ 0  0  0  0  2  1  0  0  7 12]\n",
      " [ 1  0  0  0  7  0  0  0  6 11]\n",
      " [ 0  0  0  0  6  0  1  0  4  2]\n",
      " [ 0  0  0  0  5  0  0  0 13  4]\n",
      " [ 0  0  0  0  4  1  0  0  8  3]]\n",
      "Test score: 2.3000240325927734\n",
      "Test accuracy: 0.10499999672174454\n",
      "Output results are saved in output_16a24288-8a4c-4d85-a849-a94bf4ffc602\n"
     ]
    },
    {
     "data": {
      "image/png": "[encoded data removed]",
      "text/plain": [
       "<Figure size 864x288 with 2 Axes>"
      ]
     },
     "metadata": {
      "needs_background": "light"
     },
     "output_type": "display_data"
    }
   ],
   "source": [
    "from sklearn import model_selection\n",
    "from tensorflow.keras import datasets\n",
    "from tensorflow import keras\n",
    "assert keras.backend.image_data_format() == 'channels_last'\n",
    "from keraspp import aigen\n",
    "\n",
    "class Machine(aigen.Machine_Generator):\n",
    "    def __init__(self):\n",
    "        (x_train, y_train), (x_test, y_test) = datasets.cifar10.load_data()\n",
    "        _, X, _, y = model_selection.train_test_split(x_train, y_train, test_size=0.02)\n",
    "        X = X.astype(float)\n",
    "\n",
    "        gen_param_dict = {'rotation_range': 10}\n",
    "\n",
    "        super().__init__(X, y, nb_classes=10, gen_param_dict=gen_param_dict)\n",
    "\n",
    "\n",
    "def main():\n",
    "    m = Machine()\n",
    "    m.run()\n",
    "\n",
    "\n",
    "main()"
   ]
  },
  {
   "cell_type": "code",
   "execution_count": null,
   "metadata": {},
   "outputs": [],
   "source": []
  }
 ],
 "metadata": {
  "interpreter": {
   "hash": "65b28445aeac8b1c50369bb39ab354df4aa6ab4b9eaff65fc6d123af575fc2af"
  },
  "kernelspec": {
   "display_name": "Python 3.9.7 64-bit ('keras2': conda)",
   "name": "python3"
  },
  "language_info": {
   "codemirror_mode": {
    "name": "ipython",
    "version": 3
   },
   "file_extension": ".py",
   "mimetype": "text/x-python",
   "name": "python",
   "nbconvert_exporter": "python",
   "pygments_lexer": "ipython3",
   "version": "3.9.7"
  },
  "toc": {
   "nav_menu": {},
   "number_sections": true,
   "sideBar": true,
   "skip_h1_title": true,
   "toc_cell": false,
   "toc_position": {},
   "toc_section_display": "block",
   "toc_window_display": false
  }
 },
 "nbformat": 4,
 "nbformat_minor": 4
}
