{
 "cells": [
  {
   "cell_type": "markdown",
   "metadata": {},
   "source": [
    "## 9장. 케라스2 응용\n",
    "실제 문제에 인공지능을 활용할 때 생기는 문제들을 효율적으로 처리하는 케라스의 응용 기능을 알아봅시다.\n",
    "\n",
    "### 9.1 이미지 데이터 수 늘리기   \n",
    "이미지 데이터 수가 적을 때는 케라스의 서브패키지 ImageDataGenerator를 이용하면 다양한 형태로 이미지 수를 늘릴 수 있습니다. "
   ]
  },
  {
   "cell_type": "code",
   "execution_count": 1,
   "metadata": {},
   "outputs": [],
   "source": [
    "# set to use CPU\n",
    "import os\n",
    "os.environ['CUDA_VISIBLE_DEVICES'] = '-1'"
   ]
  },
  {
   "cell_type": "markdown",
   "metadata": {},
   "source": [
    "### 9.1.1 응용 코드\n",
    "#### 9.1.1.1 응용 코드를 위한 패키지 임포트"
   ]
  },
  {
   "cell_type": "code",
   "execution_count": 2,
   "metadata": {},
   "outputs": [],
   "source": [
    "#from keras import datasets\n",
    "#import keras\n",
    "#from keraspp import aigen\n",
    "from sklearn import model_selection\n",
    "from tensorflow.keras import datasets\n",
    "from tensorflow import keras\n",
    "assert keras.backend.image_data_format() == 'channels_last'\n",
    "from keraspp import aigen"
   ]
  },
  {
   "cell_type": "markdown",
   "metadata": {},
   "source": [
    "#### 9.1.1.2 머쉰 클래스 상속하여 데이터 지정"
   ]
  },
  {
   "cell_type": "code",
   "execution_count": 3,
   "metadata": {},
   "outputs": [],
   "source": [
    "class Machine(aigen.Machine_Generator):\n",
    "    def __init__(self):\n",
    "        (x_train, y_train), (x_test, y_test) = datasets.cifar10.load_data()\n",
    "        _, X, _, y = model_selection.train_test_split(x_train, y_train, test_size=0.02)\n",
    "        X = X.astype(float)\n",
    "\n",
    "        gen_param_dict = {'rotation_range': 10}\n",
    "\n",
    "        super().__init__(X, y, nb_classes=10, gen_param_dict=gen_param_dict)"
   ]
  },
  {
   "cell_type": "code",
   "execution_count": null,
   "metadata": {},
   "outputs": [
    {
     "name": "stdout",
     "output_type": "stream",
     "text": [
      "(800, 32, 32, 3) (800, 1)\n",
      "X_train shape: (800, 32, 32, 3)\n",
      "800 train samples\n",
      "200 test samples\n",
      "data.input_shape (32, 32, 3)\n",
      "(800, 32, 32, 3)\n",
      "WARNING:tensorflow:From /mnt/d/wsl_data/github_clone/keraspp_2021/keraspp/aigen.py:34: Model.fit_generator (from tensorflow.python.keras.engine.training) is deprecated and will be removed in a future version.\n",
      "Instructions for updating:\n",
      "Please use Model.fit, which supports generators.\n"
     ]
    },
    {
     "name": "stderr",
     "output_type": "stream",
     "text": [
      "2021-11-03 00:04:22.376043: I tensorflow/stream_executor/platform/default/dso_loader.cc:44] Successfully opened dynamic library libcuda.so.1\n",
      "2021-11-03 00:04:22.689378: E tensorflow/stream_executor/cuda/cuda_driver.cc:313] failed call to cuInit: CUDA_ERROR_NO_DEVICE: no CUDA-capable device is detected\n",
      "2021-11-03 00:04:22.689514: I tensorflow/stream_executor/cuda/cuda_diagnostics.cc:156] kernel driver does not appear to be running on this host (SJKIM-Home): /proc/driver/nvidia/version does not exist\n",
      "2021-11-03 00:04:22.691434: I tensorflow/core/platform/cpu_feature_guard.cc:143] Your CPU supports instructions that this TensorFlow binary was not compiled to use: SSE4.1 SSE4.2 AVX AVX2 FMA\n",
      "2021-11-03 00:04:22.697866: I tensorflow/core/platform/profile_utils/cpu_utils.cc:102] CPU Frequency: 3599995000 Hz\n",
      "2021-11-03 00:04:22.699723: I tensorflow/compiler/xla/service/service.cc:168] XLA service 0x55b0fef499f0 initialized for platform Host (this does not guarantee that XLA will be used). Devices:\n",
      "2021-11-03 00:04:22.699744: I tensorflow/compiler/xla/service/service.cc:176]   StreamExecutor device (0): Host, Default Version\n"
     ]
    },
    {
     "name": "stdout",
     "output_type": "stream",
     "text": [
      "Epoch 1/100\n",
      "10/10 [==============================] - 2s 152ms/step - loss: 2.3012 - accuracy: 0.1039 - val_loss: 2.3074 - val_accuracy: 0.0700\n",
      "Epoch 2/100\n",
      "10/10 [==============================] - 1s 132ms/step - loss: 2.3017 - accuracy: 0.1098 - val_loss: 2.3072 - val_accuracy: 0.0700\n",
      "Epoch 3/100\n",
      "10/10 [==============================] - 1s 136ms/step - loss: 2.3027 - accuracy: 0.0947 - val_loss: 2.3069 - val_accuracy: 0.0650\n",
      "Epoch 4/100\n",
      "10/10 [==============================] - 1s 133ms/step - loss: 2.3037 - accuracy: 0.1081 - val_loss: 2.3067 - val_accuracy: 0.0650\n",
      "Epoch 5/100\n",
      "10/10 [==============================] - 1s 128ms/step - loss: 2.3030 - accuracy: 0.0974 - val_loss: 2.3065 - val_accuracy: 0.0750\n",
      "Epoch 6/100\n",
      "10/10 [==============================] - 1s 135ms/step - loss: 2.3024 - accuracy: 0.1005 - val_loss: 2.3063 - val_accuracy: 0.0750\n",
      "Epoch 7/100\n",
      "10/10 [==============================] - 1s 131ms/step - loss: 2.3026 - accuracy: 0.0928 - val_loss: 2.3060 - val_accuracy: 0.0750\n",
      "Epoch 8/100\n",
      "10/10 [==============================] - 1s 139ms/step - loss: 2.2987 - accuracy: 0.1039 - val_loss: 2.3058 - val_accuracy: 0.0750\n",
      "Epoch 9/100\n",
      "10/10 [==============================] - 1s 138ms/step - loss: 2.3028 - accuracy: 0.0878 - val_loss: 2.3056 - val_accuracy: 0.0750\n",
      "Epoch 10/100\n",
      "10/10 [==============================] - 1s 134ms/step - loss: 2.3015 - accuracy: 0.0855 - val_loss: 2.3053 - val_accuracy: 0.0750\n",
      "Epoch 11/100\n",
      "10/10 [==============================] - 1s 133ms/step - loss: 2.2996 - accuracy: 0.1047 - val_loss: 2.3051 - val_accuracy: 0.0750\n",
      "Epoch 12/100\n",
      "10/10 [==============================] - 1s 126ms/step - loss: 2.3015 - accuracy: 0.1011 - val_loss: 2.3049 - val_accuracy: 0.0750\n",
      "Epoch 13/100\n",
      "10/10 [==============================] - 1s 132ms/step - loss: 2.2980 - accuracy: 0.1157 - val_loss: 2.3047 - val_accuracy: 0.0750\n",
      "Epoch 14/100\n",
      "10/10 [==============================] - 1s 131ms/step - loss: 2.2988 - accuracy: 0.1222 - val_loss: 2.3045 - val_accuracy: 0.0750\n",
      "Epoch 15/100\n",
      "10/10 [==============================] - 1s 134ms/step - loss: 2.2994 - accuracy: 0.0997 - val_loss: 2.3043 - val_accuracy: 0.0750\n",
      "Epoch 16/100\n",
      "10/10 [==============================] - 1s 140ms/step - loss: 2.2989 - accuracy: 0.1174 - val_loss: 2.3041 - val_accuracy: 0.0700\n",
      "Epoch 17/100\n",
      "10/10 [==============================] - 1s 144ms/step - loss: 2.2975 - accuracy: 0.1094 - val_loss: 2.3039 - val_accuracy: 0.0700\n",
      "Epoch 18/100\n",
      "10/10 [==============================] - 1s 130ms/step - loss: 2.3008 - accuracy: 0.0980 - val_loss: 2.3037 - val_accuracy: 0.0700\n",
      "Epoch 19/100\n",
      "10/10 [==============================] - 1s 122ms/step - loss: 2.2965 - accuracy: 0.1167 - val_loss: 2.3035 - val_accuracy: 0.0750\n",
      "Epoch 20/100\n",
      "10/10 [==============================] - 1s 145ms/step - loss: 2.2959 - accuracy: 0.1081 - val_loss: 2.3033 - val_accuracy: 0.0750\n",
      "Epoch 21/100\n",
      "10/10 [==============================] - 1s 135ms/step - loss: 2.2954 - accuracy: 0.1314 - val_loss: 2.3032 - val_accuracy: 0.0750\n",
      "Epoch 22/100\n",
      "10/10 [==============================] - 2s 171ms/step - loss: 2.2964 - accuracy: 0.0988 - val_loss: 2.3030 - val_accuracy: 0.0750\n",
      "Epoch 23/100\n",
      "10/10 [==============================] - 1s 144ms/step - loss: 2.2925 - accuracy: 0.1073 - val_loss: 2.3028 - val_accuracy: 0.0750\n",
      "Epoch 24/100\n",
      "10/10 [==============================] - 1s 144ms/step - loss: 2.2981 - accuracy: 0.0956 - val_loss: 2.3027 - val_accuracy: 0.0750\n",
      "Epoch 25/100\n",
      "10/10 [==============================] - 2s 162ms/step - loss: 2.2936 - accuracy: 0.1106 - val_loss: 2.3025 - val_accuracy: 0.0750\n",
      "Epoch 26/100\n",
      "10/10 [==============================] - 2s 151ms/step - loss: 2.3008 - accuracy: 0.0965 - val_loss: 2.3023 - val_accuracy: 0.0800\n",
      "Epoch 27/100\n",
      "10/10 [==============================] - 1s 140ms/step - loss: 2.2916 - accuracy: 0.1166 - val_loss: 2.3021 - val_accuracy: 0.0750\n",
      "Epoch 28/100\n",
      "10/10 [==============================] - 1s 128ms/step - loss: 2.2936 - accuracy: 0.1149 - val_loss: 2.3021 - val_accuracy: 0.0750\n",
      "Epoch 29/100\n",
      "10/10 [==============================] - 2s 152ms/step - loss: 2.2954 - accuracy: 0.1199 - val_loss: 2.3019 - val_accuracy: 0.0700\n",
      "Epoch 30/100\n",
      "10/10 [==============================] - 1s 139ms/step - loss: 2.2944 - accuracy: 0.0980 - val_loss: 2.3018 - val_accuracy: 0.0800\n",
      "Epoch 31/100\n",
      "10/10 [==============================] - 1s 137ms/step - loss: 2.2946 - accuracy: 0.1149 - val_loss: 2.3016 - val_accuracy: 0.0700\n",
      "Epoch 32/100\n",
      "10/10 [==============================] - 2s 152ms/step - loss: 2.2968 - accuracy: 0.1090 - val_loss: 2.3014 - val_accuracy: 0.0700\n",
      "Epoch 33/100\n",
      "10/10 [==============================] - 1s 147ms/step - loss: 2.2947 - accuracy: 0.1140 - val_loss: 2.3013 - val_accuracy: 0.0700\n",
      "Epoch 34/100\n",
      "10/10 [==============================] - 2s 153ms/step - loss: 2.2888 - accuracy: 0.1326 - val_loss: 2.3011 - val_accuracy: 0.0700\n",
      "Epoch 35/100\n",
      "10/10 [==============================] - 1s 126ms/step - loss: 2.2935 - accuracy: 0.1066 - val_loss: 2.3008 - val_accuracy: 0.0800\n",
      "Epoch 36/100\n",
      "10/10 [==============================] - 1s 137ms/step - loss: 2.2903 - accuracy: 0.1301 - val_loss: 2.3007 - val_accuracy: 0.0800\n",
      "Epoch 37/100\n",
      "10/10 [==============================] - 2s 156ms/step - loss: 2.2952 - accuracy: 0.1115 - val_loss: 2.3005 - val_accuracy: 0.0800\n",
      "Epoch 38/100\n",
      "10/10 [==============================] - 2s 167ms/step - loss: 2.2892 - accuracy: 0.1351 - val_loss: 2.3004 - val_accuracy: 0.0750\n",
      "Epoch 39/100\n",
      "10/10 [==============================] - 2s 152ms/step - loss: 2.2931 - accuracy: 0.1115 - val_loss: 2.3002 - val_accuracy: 0.0750\n",
      "Epoch 40/100\n",
      "10/10 [==============================] - 2s 166ms/step - loss: 2.2937 - accuracy: 0.1213 - val_loss: 2.3001 - val_accuracy: 0.0800\n",
      "Epoch 41/100\n",
      "10/10 [==============================] - 2s 173ms/step - loss: 2.2964 - accuracy: 0.1115 - val_loss: 2.2999 - val_accuracy: 0.0800\n",
      "Epoch 42/100\n",
      "10/10 [==============================] - 1s 142ms/step - loss: 2.2923 - accuracy: 0.1342 - val_loss: 2.2997 - val_accuracy: 0.0850\n",
      "Epoch 43/100\n",
      "10/10 [==============================] - 2s 166ms/step - loss: 2.2929 - accuracy: 0.1166 - val_loss: 2.2997 - val_accuracy: 0.0800\n",
      "Epoch 44/100\n",
      "10/10 [==============================] - 1s 147ms/step - loss: 2.2924 - accuracy: 0.1216 - val_loss: 2.2995 - val_accuracy: 0.0850\n",
      "Epoch 45/100\n",
      "10/10 [==============================] - 2s 152ms/step - loss: 2.2891 - accuracy: 0.1241 - val_loss: 2.2993 - val_accuracy: 0.0850\n",
      "Epoch 46/100\n",
      "10/10 [==============================] - 1s 144ms/step - loss: 2.2869 - accuracy: 0.1334 - val_loss: 2.2991 - val_accuracy: 0.0850\n",
      "Epoch 47/100\n",
      "10/10 [==============================] - 1s 138ms/step - loss: 2.2942 - accuracy: 0.1232 - val_loss: 2.2989 - val_accuracy: 0.0900\n",
      "Epoch 48/100\n",
      "10/10 [==============================] - 2s 155ms/step - loss: 2.2869 - accuracy: 0.1351 - val_loss: 2.2987 - val_accuracy: 0.0950\n",
      "Epoch 49/100\n",
      "10/10 [==============================] - 1s 138ms/step - loss: 2.2893 - accuracy: 0.1103 - val_loss: 2.2986 - val_accuracy: 0.0900\n",
      "Epoch 50/100\n",
      "10/10 [==============================] - 1s 149ms/step - loss: 2.2902 - accuracy: 0.1123 - val_loss: 2.2984 - val_accuracy: 0.0900\n",
      "Epoch 51/100\n",
      "10/10 [==============================] - 1s 137ms/step - loss: 2.2874 - accuracy: 0.1292 - val_loss: 2.2983 - val_accuracy: 0.0900\n",
      "Epoch 52/100\n",
      "10/10 [==============================] - 2s 180ms/step - loss: 2.2860 - accuracy: 0.1259 - val_loss: 2.2982 - val_accuracy: 0.1000\n",
      "Epoch 53/100\n",
      "10/10 [==============================] - 2s 153ms/step - loss: 2.2897 - accuracy: 0.1284 - val_loss: 2.2980 - val_accuracy: 0.0950\n",
      "Epoch 54/100\n",
      "10/10 [==============================] - 1s 146ms/step - loss: 2.2913 - accuracy: 0.1278 - val_loss: 2.2978 - val_accuracy: 0.1000\n",
      "Epoch 55/100\n",
      "10/10 [==============================] - 1s 146ms/step - loss: 2.2905 - accuracy: 0.1233 - val_loss: 2.2976 - val_accuracy: 0.1000\n",
      "Epoch 56/100\n",
      "10/10 [==============================] - 1s 142ms/step - loss: 2.2878 - accuracy: 0.1314 - val_loss: 2.2974 - val_accuracy: 0.1000\n",
      "Epoch 57/100\n",
      "10/10 [==============================] - 1s 148ms/step - loss: 2.2937 - accuracy: 0.1225 - val_loss: 2.2972 - val_accuracy: 0.1000\n",
      "Epoch 58/100\n",
      "10/10 [==============================] - 1s 149ms/step - loss: 2.2897 - accuracy: 0.1267 - val_loss: 2.2970 - val_accuracy: 0.1000\n",
      "Epoch 59/100\n",
      "10/10 [==============================] - 1s 142ms/step - loss: 2.2886 - accuracy: 0.1121 - val_loss: 2.2969 - val_accuracy: 0.1000\n",
      "Epoch 60/100\n",
      "10/10 [==============================] - 2s 154ms/step - loss: 2.2891 - accuracy: 0.1258 - val_loss: 2.2968 - val_accuracy: 0.1000\n",
      "Epoch 61/100\n",
      "10/10 [==============================] - 1s 131ms/step - loss: 2.2898 - accuracy: 0.1222 - val_loss: 2.2967 - val_accuracy: 0.1000\n",
      "Epoch 62/100\n",
      "10/10 [==============================] - 1s 146ms/step - loss: 2.2916 - accuracy: 0.1166 - val_loss: 2.2964 - val_accuracy: 0.1000\n",
      "Epoch 63/100\n",
      "10/10 [==============================] - 1s 140ms/step - loss: 2.2873 - accuracy: 0.1250 - val_loss: 2.2963 - val_accuracy: 0.1000\n",
      "Epoch 64/100\n",
      "10/10 [==============================] - 2s 152ms/step - loss: 2.2888 - accuracy: 0.1385 - val_loss: 2.2961 - val_accuracy: 0.1000\n",
      "Epoch 65/100\n",
      "10/10 [==============================] - 1s 142ms/step - loss: 2.2879 - accuracy: 0.1284 - val_loss: 2.2960 - val_accuracy: 0.1000\n",
      "Epoch 66/100\n",
      "10/10 [==============================] - 2s 152ms/step - loss: 2.2872 - accuracy: 0.1140 - val_loss: 2.2958 - val_accuracy: 0.1000\n",
      "Epoch 67/100\n",
      "10/10 [==============================] - 2s 169ms/step - loss: 2.2841 - accuracy: 0.1343 - val_loss: 2.2957 - val_accuracy: 0.0950\n"
     ]
    }
   ],
   "source": [
    "def main():\n",
    "    m = Machine()\n",
    "    m.run()\n",
    "\n",
    "main()"
   ]
  },
  {
   "cell_type": "markdown",
   "metadata": {},
   "source": [
    "---\n",
    "### 8.2.6 전체 코드"
   ]
  },
  {
   "cell_type": "code",
   "execution_count": null,
   "metadata": {},
   "outputs": [
    {
     "name": "stdout",
     "output_type": "stream",
     "text": [
      "(800, 32, 32, 3) (800, 1)\n",
      "X_train shape: (800, 32, 32, 3)\n",
      "800 train samples\n",
      "200 test samples\n",
      "data.input_shape (32, 32, 3)\n"
     ]
    },
    {
     "name": "stderr",
     "output_type": "stream",
     "text": [
      "2021-11-01 23:26:52.579759: I tensorflow/stream_executor/platform/default/dso_loader.cc:44] Successfully opened dynamic library libcuda.so.1\n",
      "2021-11-01 23:26:52.944247: E tensorflow/stream_executor/cuda/cuda_gpu_executor.cc:967] could not open file to read NUMA node: /sys/bus/pci/devices/0000:01:00.0/numa_node\n",
      "Your kernel may have been built without NUMA support.\n",
      "2021-11-01 23:26:52.944566: I tensorflow/core/common_runtime/gpu/gpu_device.cc:1561] Found device 0 with properties: \n",
      "pciBusID: 0000:01:00.0 name: NVIDIA GeForce GTX 1050 computeCapability: 6.1\n",
      "coreClock: 1.455GHz coreCount: 5 deviceMemorySize: 2.00GiB deviceMemoryBandwidth: 104.43GiB/s\n",
      "2021-11-01 23:26:52.948235: I tensorflow/stream_executor/platform/default/dso_loader.cc:44] Successfully opened dynamic library libcudart.so.10.1\n",
      "2021-11-01 23:26:52.993554: I tensorflow/stream_executor/platform/default/dso_loader.cc:44] Successfully opened dynamic library libcublas.so.10\n",
      "2021-11-01 23:26:53.019739: I tensorflow/stream_executor/platform/default/dso_loader.cc:44] Successfully opened dynamic library libcufft.so.10\n",
      "2021-11-01 23:26:53.026431: I tensorflow/stream_executor/platform/default/dso_loader.cc:44] Successfully opened dynamic library libcurand.so.10\n",
      "2021-11-01 23:26:53.074438: I tensorflow/stream_executor/platform/default/dso_loader.cc:44] Successfully opened dynamic library libcusolver.so.10\n",
      "2021-11-01 23:26:53.081580: I tensorflow/stream_executor/platform/default/dso_loader.cc:44] Successfully opened dynamic library libcusparse.so.10\n",
      "2021-11-01 23:26:53.164554: I tensorflow/stream_executor/platform/default/dso_loader.cc:44] Successfully opened dynamic library libcudnn.so.7\n",
      "2021-11-01 23:26:53.165533: E tensorflow/stream_executor/cuda/cuda_gpu_executor.cc:967] could not open file to read NUMA node: /sys/bus/pci/devices/0000:01:00.0/numa_node\n",
      "Your kernel may have been built without NUMA support.\n",
      "2021-11-01 23:26:53.166375: E tensorflow/stream_executor/cuda/cuda_gpu_executor.cc:967] could not open file to read NUMA node: /sys/bus/pci/devices/0000:01:00.0/numa_node\n",
      "Your kernel may have been built without NUMA support.\n",
      "2021-11-01 23:26:53.167088: I tensorflow/core/common_runtime/gpu/gpu_device.cc:1703] Adding visible gpu devices: 0\n",
      "2021-11-01 23:26:53.171566: I tensorflow/core/platform/cpu_feature_guard.cc:143] Your CPU supports instructions that this TensorFlow binary was not compiled to use: SSE4.1 SSE4.2 AVX AVX2 FMA\n",
      "2021-11-01 23:26:53.186775: I tensorflow/core/platform/profile_utils/cpu_utils.cc:102] CPU Frequency: 3599995000 Hz\n",
      "2021-11-01 23:26:53.188380: I tensorflow/compiler/xla/service/service.cc:168] XLA service 0x55ad50306470 initialized for platform Host (this does not guarantee that XLA will be used). Devices:\n",
      "2021-11-01 23:26:53.188456: I tensorflow/compiler/xla/service/service.cc:176]   StreamExecutor device (0): Host, Default Version\n",
      "2021-11-01 23:26:53.190212: E tensorflow/stream_executor/cuda/cuda_gpu_executor.cc:967] could not open file to read NUMA node: /sys/bus/pci/devices/0000:01:00.0/numa_node\n",
      "Your kernel may have been built without NUMA support.\n",
      "2021-11-01 23:26:53.190513: I tensorflow/core/common_runtime/gpu/gpu_device.cc:1561] Found device 0 with properties: \n",
      "pciBusID: 0000:01:00.0 name: NVIDIA GeForce GTX 1050 computeCapability: 6.1\n",
      "coreClock: 1.455GHz coreCount: 5 deviceMemorySize: 2.00GiB deviceMemoryBandwidth: 104.43GiB/s\n",
      "2021-11-01 23:26:53.190584: I tensorflow/stream_executor/platform/default/dso_loader.cc:44] Successfully opened dynamic library libcudart.so.10.1\n",
      "2021-11-01 23:26:53.190605: I tensorflow/stream_executor/platform/default/dso_loader.cc:44] Successfully opened dynamic library libcublas.so.10\n",
      "2021-11-01 23:26:53.190623: I tensorflow/stream_executor/platform/default/dso_loader.cc:44] Successfully opened dynamic library libcufft.so.10\n",
      "2021-11-01 23:26:53.190642: I tensorflow/stream_executor/platform/default/dso_loader.cc:44] Successfully opened dynamic library libcurand.so.10\n",
      "2021-11-01 23:26:53.190660: I tensorflow/stream_executor/platform/default/dso_loader.cc:44] Successfully opened dynamic library libcusolver.so.10\n",
      "2021-11-01 23:26:53.190679: I tensorflow/stream_executor/platform/default/dso_loader.cc:44] Successfully opened dynamic library libcusparse.so.10\n",
      "2021-11-01 23:26:53.190698: I tensorflow/stream_executor/platform/default/dso_loader.cc:44] Successfully opened dynamic library libcudnn.so.7\n",
      "2021-11-01 23:26:53.191534: E tensorflow/stream_executor/cuda/cuda_gpu_executor.cc:967] could not open file to read NUMA node: /sys/bus/pci/devices/0000:01:00.0/numa_node\n",
      "Your kernel may have been built without NUMA support.\n",
      "2021-11-01 23:26:53.192399: E tensorflow/stream_executor/cuda/cuda_gpu_executor.cc:967] could not open file to read NUMA node: /sys/bus/pci/devices/0000:01:00.0/numa_node\n",
      "Your kernel may have been built without NUMA support.\n",
      "2021-11-01 23:26:53.192606: I tensorflow/core/common_runtime/gpu/gpu_device.cc:1703] Adding visible gpu devices: 0\n",
      "2021-11-01 23:26:53.193291: I tensorflow/stream_executor/platform/default/dso_loader.cc:44] Successfully opened dynamic library libcudart.so.10.1\n",
      "2021-11-01 23:26:53.491903: I tensorflow/core/common_runtime/gpu/gpu_device.cc:1102] Device interconnect StreamExecutor with strength 1 edge matrix:\n",
      "2021-11-01 23:26:53.491936: I tensorflow/core/common_runtime/gpu/gpu_device.cc:1108]      0 \n",
      "2021-11-01 23:26:53.492037: I tensorflow/core/common_runtime/gpu/gpu_device.cc:1121] 0:   N \n",
      "2021-11-01 23:26:53.493713: E tensorflow/stream_executor/cuda/cuda_gpu_executor.cc:967] could not open file to read NUMA node: /sys/bus/pci/devices/0000:01:00.0/numa_node\n",
      "Your kernel may have been built without NUMA support.\n",
      "2021-11-01 23:26:53.493862: I tensorflow/core/common_runtime/gpu/gpu_device.cc:1330] Could not identify NUMA node of platform GPU id 0, defaulting to 0.  Your kernel may not have been built with NUMA support.\n",
      "2021-11-01 23:26:53.494447: E tensorflow/stream_executor/cuda/cuda_gpu_executor.cc:967] could not open file to read NUMA node: /sys/bus/pci/devices/0000:01:00.0/numa_node\n",
      "Your kernel may have been built without NUMA support.\n",
      "2021-11-01 23:26:53.495137: E tensorflow/stream_executor/cuda/cuda_gpu_executor.cc:967] could not open file to read NUMA node: /sys/bus/pci/devices/0000:01:00.0/numa_node\n",
      "Your kernel may have been built without NUMA support.\n",
      "2021-11-01 23:26:53.495913: I tensorflow/core/common_runtime/gpu/gpu_device.cc:1247] Created TensorFlow device (/job:localhost/replica:0/task:0/device:GPU:0 with 1421 MB memory) -> physical GPU (device: 0, name: NVIDIA GeForce GTX 1050, pci bus id: 0000:01:00.0, compute capability: 6.1)\n",
      "2021-11-01 23:26:53.500496: I tensorflow/compiler/xla/service/service.cc:168] XLA service 0x55ad5672a290 initialized for platform CUDA (this does not guarantee that XLA will be used). Devices:\n",
      "2021-11-01 23:26:53.500524: I tensorflow/compiler/xla/service/service.cc:176]   StreamExecutor device (0): NVIDIA GeForce GTX 1050, Compute Capability 6.1\n"
     ]
    },
    {
     "name": "stdout",
     "output_type": "stream",
     "text": [
      "(800, 32, 32, 3)\n",
      "WARNING:tensorflow:From /mnt/d/wsl_data/github_clone/keraspp_2021/keraspp/aigen.py:34: Model.fit_generator (from tensorflow.python.keras.engine.training) is deprecated and will be removed in a future version.\n",
      "Instructions for updating:\n",
      "Please use Model.fit, which supports generators.\n"
     ]
    },
    {
     "name": "stderr",
     "output_type": "stream",
     "text": [
      "2021-11-01 23:26:56.149193: I tensorflow/stream_executor/platform/default/dso_loader.cc:44] Successfully opened dynamic library libcudnn.so.7\n",
      "2021-11-01 23:26:59.107712: I tensorflow/stream_executor/platform/default/dso_loader.cc:44] Successfully opened dynamic library libcublas.so.10\n"
     ]
    }
   ],
   "source": [
    "from sklearn import model_selection\n",
    "from tensorflow.keras import datasets\n",
    "from tensorflow import keras\n",
    "assert keras.backend.image_data_format() == 'channels_last'\n",
    "from keraspp import aigen\n",
    "\n",
    "class Machine(aigen.Machine_Generator):\n",
    "    def __init__(self):\n",
    "        (x_train, y_train), (x_test, y_test) = datasets.cifar10.load_data()\n",
    "        _, X, _, y = model_selection.train_test_split(x_train, y_train, test_size=0.02)\n",
    "        X = X.astype(float)\n",
    "\n",
    "        gen_param_dict = {'rotation_range': 10}\n",
    "\n",
    "        super().__init__(X, y, nb_classes=10, gen_param_dict=gen_param_dict)\n",
    "\n",
    "\n",
    "def main():\n",
    "    m = Machine()\n",
    "    m.run()\n",
    "\n",
    "\n",
    "main()"
   ]
  },
  {
   "cell_type": "code",
   "execution_count": null,
   "metadata": {},
   "outputs": [],
   "source": []
  }
 ],
 "metadata": {
  "kernelspec": {
   "display_name": "keras-gpu",
   "language": "python",
   "name": "keras-gpu"
  },
  "language_info": {
   "codemirror_mode": {
    "name": "ipython",
    "version": 3
   },
   "file_extension": ".py",
   "mimetype": "text/x-python",
   "name": "python",
   "nbconvert_exporter": "python",
   "pygments_lexer": "ipython3",
   "version": "3.8.5"
  },
  "toc": {
   "nav_menu": {},
   "number_sections": true,
   "sideBar": true,
   "skip_h1_title": true,
   "toc_cell": false,
   "toc_position": {},
   "toc_section_display": "block",
   "toc_window_display": false
  }
 },
 "nbformat": 4,
 "nbformat_minor": 4
}
