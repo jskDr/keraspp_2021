{
 "cells": [
  {
   "cell_type": "markdown",
   "metadata": {},
   "source": [
    "# 예제 5-1 문장을 판별하는 LSTM"
   ]
  },
  {
   "cell_type": "code",
   "execution_count": 2,
   "metadata": {},
   "outputs": [
    {
     "name": "stdout",
     "output_type": "stream",
     "text": [
      "The autoreload extension is already loaded. To reload it, use:\n",
      "  %reload_ext autoreload\n"
     ]
    }
   ],
   "source": [
    "# %load /home/sjkim/.jupyter/head.py\n",
    "%matplotlib inline\n",
    "%load_ext autoreload \n",
    "%autoreload 2\n",
    "from importlib import reload\n",
    "\n",
    "import matplotlib.pyplot as plt\n",
    "import numpy as np\n",
    "\n",
    "import pandas as pd\n",
    "import os\n",
    "#os.environ[\"CUDA_VISIBLE_DEVICES\"]=\"0\"\n",
    "\n",
    "# seaborn\n",
    "#import seaborn as sns\n",
    "#sns.set( style = 'white', font_scale = 1.7)\n",
    "#sns.set_style('ticks')\n",
    "#plt.rcParams['savefig.dpi'] = 200\n",
    "\n",
    "# font for matplotlib\n",
    "#import matplotlib\n",
    "#import matplotlib.font_manager as fm\n",
    "#fm.get_fontconfig_fonts()\n",
    "#font_location = '/usr/share/fonts/truetype/nanum/NanumGothicBold.ttf'\n",
    "#font_name = fm.FontProperties(fname=font_location).get_name()\n",
    "#matplotlib.rc('font', family=font_name)"
   ]
  },
  {
   "cell_type": "code",
   "execution_count": 2,
   "metadata": {},
   "outputs": [
    {
     "name": "stderr",
     "output_type": "stream",
     "text": [
      "Using TensorFlow backend.\n"
     ]
    }
   ],
   "source": [
    "import ex5_1_lstm_imdb_cl as example"
   ]
  },
  {
   "cell_type": "code",
   "execution_count": 3,
   "metadata": {},
   "outputs": [
    {
     "name": "stdout",
     "output_type": "stream",
     "text": [
      "Training stage\n",
      "==============\n",
      "Train on 25000 samples, validate on 25000 samples\n",
      "Epoch 1/3\n",
      "25000/25000 [==============================] - 128s - loss: 0.4615 - acc: 0.7788 - val_loss: 0.3706 - val_acc: 0.8362\n",
      "Epoch 2/3\n",
      "25000/25000 [==============================] - 122s - loss: 0.2973 - acc: 0.8786 - val_loss: 0.3970 - val_acc: 0.8280\n",
      "Epoch 3/3\n",
      "25000/25000 [==============================] - 123s - loss: 0.2152 - acc: 0.9166 - val_loss: 0.4073 - val_acc: 0.8258\n",
      "24992/25000 [============================>.] - ETA: 0sTest performance: accuracy=0.82584, loss=0.4072775837993622\n"
     ]
    }
   ],
   "source": [
    "example.main()"
   ]
  },
  {
   "cell_type": "code",
   "execution_count": null,
   "metadata": {
    "collapsed": true
   },
   "outputs": [],
   "source": []
  }
 ],
 "metadata": {
  "kernelspec": {
   "display_name": "Python [default]",
   "language": "python",
   "name": "python3"
  },
  "language_info": {
   "codemirror_mode": {
    "name": "ipython",
    "version": 3
   },
   "file_extension": ".py",
   "mimetype": "text/x-python",
   "name": "python",
   "nbconvert_exporter": "python",
   "pygments_lexer": "ipython3",
   "version": "3.6.3"
  },
  "toc": {
   "nav_menu": {},
   "number_sections": true,
   "sideBar": true,
   "skip_h1_title": true,
   "toc_cell": false,
   "toc_position": {},
   "toc_section_display": "block",
   "toc_window_display": false
  }
 },
 "nbformat": 4,
 "nbformat_minor": 2
}
